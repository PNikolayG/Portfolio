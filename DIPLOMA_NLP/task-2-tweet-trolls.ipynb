{
 "cells": [
  {
   "cell_type": "markdown",
   "metadata": {},
   "source": [
    "# Дипломная работа \"Анализ эмоциальной окраски текста\""
   ]
  },
  {
   "cell_type": "code",
   "execution_count": 1,
   "metadata": {
    "execution": {
     "iopub.execute_input": "2022-03-17T09:43:56.049318Z",
     "iopub.status.busy": "2022-03-17T09:43:56.048981Z",
     "iopub.status.idle": "2022-03-17T09:43:56.092576Z",
     "shell.execute_reply": "2022-03-17T09:43:56.091822Z",
     "shell.execute_reply.started": "2022-03-17T09:43:56.049239Z"
    }
   },
   "outputs": [],
   "source": [
    "# # Input data files are available in the read-only \"../input/\" directory\n",
    "# # For example, running this (by clicking run or pressing Shift+Enter) will list all files under the input directory\n",
    "\n",
    "# import os\n",
    "# for dirname, _, filenames in os.walk('/kaggle/input'):\n",
    "#     for filename in filenames:\n",
    "#         print(os.path.join(dirname, filename))\n",
    "\n",
    "# # You can write up to 20GB to the current directory (/kaggle/working/) that gets preserved as output when you create a version using \"Save & Run All\" \n",
    "# # You can also write temporary files to /kaggle/temp/, but they won't be saved outside of the current session"
   ]
  },
  {
   "cell_type": "markdown",
   "metadata": {},
   "source": [
    "## Задача 2 \"Russian Troll Tweets - 3 million tweets from accounts associated with the 'Internet Research Agency'\"\n",
    "\n",
    "Эти данные были использованы в материале FiveThirtyEight « Почему мы делимся 3 миллионами твитов русских троллей» .\n",
    "\n",
    "Этот каталог содержит данные почти о 3 миллионах твитов, отправленных пользователями Твиттера, связанными с Агентством интернет-исследований, российской «фабрикой троллей» и фигурантом обвинительного заключения, выдвинутого Министерством юстиции в феврале 2018 года в рамках расследования спецпрокурора Роберта Мюллера по России. Твиты в этой базе данных были отправлены в период с февраля 2012 года по май 2018 года, причем подавляющее большинство из них было опубликовано с 2015 по 2017 год.\n",
    "\n",
    "FiveThirtyEight получили данные от исследователей Университета Клемсона Даррена Линвилла , адъюнкт-профессора коммуникаций, и Патрика Уоррена , адъюнкт-профессора экономики, 25 июля 2018 года. Они собрали данные с помощью пользовательского поиска в инструменте Social Studio, принадлежащем Salesforce. и заключен контракт на использование Центром прослушивания социальных сетей Клемсона .\n",
    "\n",
    "Основой для идентификаторов Twitter, включенных в эти данные, являются списки идентификаторов, связанных с Агентством интернет-исследований , за ноябрь 2017 г. и июнь 2018 г., которые Twitter предоставил Конгрессу. Этот набор данных содержит каждый твит, отправленный каждым из 2752 дескрипторов в списке за ноябрь 2017 г. с 10 мая 2015 г. Для 946 дескрипторов, недавно добавленных в список за июнь 2018 г., эти данные содержат каждый твит с 19 июня 2015 г. дескрипторы, данные распространяются даже раньше, чем эти диапазоны.Некоторые из перечисленных дескрипторов не писали в Твиттере во время этих диапазонов.) Исследователи полагают, что это включает в себя подавляющее большинство активности этих дескрипторов. Исследователи также удалили 19 псевдонимов, которые остались в списке на июнь 2018 года, но которые, по их мнению, вряд ли были троллями ИРА.\n",
    "\n",
    "Всего девять CSV-файлов содержат 2 973 371 твит от 2 848 дескрипторов Twitter. Кроме того, как всегда, предостережение: в данном случае читатель твитов должен быть осторожен: в дополнение к собственному контенту некоторые твиты содержат активные ссылки, которые могут вести на контент для взрослых или что-то похуже.\n",
    "\n",
    "Исследователи Клемсона использовали эти данные в рабочем документе «Фабрики троллей: Агентство интернет-исследований и создание программы, спонсируемой государством» , которая в настоящее время находится на рассмотрении в академическом журнале. Анализ авторов в этой статье был выполнен на основе файла данных, представленного здесь, с ограничением окна дат с 19 июня 2015 г. по 31 декабря 2017 г.\n",
    "\n",
    "Файлы имеют следующие столбцы:\n",
    "\n",
    "\n",
    "\n",
    "Header | Definition\n",
    "---|---------\n",
    "`external_author_id` | An author account ID from Twitter \n",
    "`author` | The handle sending the tweet\n",
    "`content` | The text of the tweet\n",
    "`region` | A region classification, as [determined by Social Studio](https://help.salesforce.com/articleView?   id=000199367&type=1)\n",
    "`language` | The language of the tweet\n",
    "`publish_date` | The date and time the tweet was sent\n",
    "`harvested_date` | The date and time the tweet was collected by Social Studio\n",
    "`following` | The number of accounts the handle was following at the time of the tweet\n",
    "`followers` | The number of followers the handle had at the time of the tweet\n",
    "`updates` | The number of “update actions” on the account that authored the tweet, including tweets, retweets and likes\n",
    "`post_type` | Indicates if the tweet was a retweet or a quote-tweet\n",
    "`account_type` | Specific account theme, as coded by Linvill and Warren\n",
    "`retweet` | A binary indicator of whether or not the tweet is a retweet\n",
    "`account_category` | General account theme, as coded by Linvill and Warren\n",
    "`new_june_2018` | A binary indicator of whether the handle was newly listed in June 2018"
   ]
  },
  {
   "cell_type": "code",
   "execution_count": 3,
   "metadata": {
    "execution": {
     "iopub.execute_input": "2022-03-17T09:43:56.406563Z",
     "iopub.status.busy": "2022-03-17T09:43:56.406010Z",
     "iopub.status.idle": "2022-03-17T09:43:57.831250Z",
     "shell.execute_reply": "2022-03-17T09:43:57.829871Z",
     "shell.execute_reply.started": "2022-03-17T09:43:56.406516Z"
    }
   },
   "outputs": [
    {
     "name": "stdout",
     "output_type": "stream",
     "text": [
      "['i', 'me', 'my', 'myself', 'we', 'our', 'ours', 'ourselves', 'you', \"you're\", \"you've\", \"you'll\", \"you'd\", 'your', 'yours', 'yourself', 'yourselves', 'he', 'him', 'his', 'himself', 'she', \"she's\", 'her', 'hers', 'herself', 'it', \"it's\", 'its', 'itself', 'they', 'them', 'their', 'theirs', 'themselves', 'what', 'which', 'who', 'whom', 'this', 'that', \"that'll\", 'these', 'those', 'am', 'is', 'are', 'was', 'were', 'be', 'been', 'being', 'have', 'has', 'had', 'having', 'do', 'does', 'did', 'doing', 'a', 'an', 'the', 'and', 'but', 'if', 'or', 'because', 'as', 'until', 'while', 'of', 'at', 'by', 'for', 'with', 'about', 'against', 'between', 'into', 'through', 'during', 'before', 'after', 'above', 'below', 'to', 'from', 'up', 'down', 'in', 'out', 'on', 'off', 'over', 'under', 'again', 'further', 'then', 'once', 'here', 'there', 'when', 'where', 'why', 'how', 'all', 'any', 'both', 'each', 'few', 'more', 'most', 'other', 'some', 'such', 'no', 'nor', 'not', 'only', 'own', 'same', 'so', 'than', 'too', 'very', 's', 't', 'can', 'will', 'just', 'don', \"don't\", 'should', \"should've\", 'now', 'd', 'll', 'm', 'o', 're', 've', 'y', 'ain', 'aren', \"aren't\", 'couldn', \"couldn't\", 'didn', \"didn't\", 'doesn', \"doesn't\", 'hadn', \"hadn't\", 'hasn', \"hasn't\", 'haven', \"haven't\", 'isn', \"isn't\", 'ma', 'mightn', \"mightn't\", 'mustn', \"mustn't\", 'needn', \"needn't\", 'shan', \"shan't\", 'shouldn', \"shouldn't\", 'wasn', \"wasn't\", 'weren', \"weren't\", 'won', \"won't\", 'wouldn', \"wouldn't\"]\n"
     ]
    }
   ],
   "source": [
    "import pandas as pd\n",
    "import numpy as np\n",
    "\n",
    "import seaborn as sns\n",
    "import matplotlib.pyplot as plt\n",
    "\n",
    "from tqdm import tqdm\n",
    "\n",
    "import re\n",
    "import string \n",
    "from string import punctuation\n",
    "from nltk.corpus import stopwords\n",
    "print(stopwords.words('english'))\n",
    "NOISE_WORDS = stopwords.words('english')"
   ]
  },
  {
   "cell_type": "code",
   "execution_count": 4,
   "metadata": {
    "execution": {
     "iopub.execute_input": "2022-03-17T09:43:57.833366Z",
     "iopub.status.busy": "2022-03-17T09:43:57.832996Z",
     "iopub.status.idle": "2022-03-17T09:44:04.497100Z",
     "shell.execute_reply": "2022-03-17T09:44:04.496365Z",
     "shell.execute_reply.started": "2022-03-17T09:43:57.833328Z"
    }
   },
   "outputs": [],
   "source": [
    "from sklearn.linear_model import LogisticRegression # можно заменить на любимый классификатор\n",
    "from sklearn.feature_extraction.text import CountVectorizer\n",
    "from sklearn.svm import SVC\n",
    "\n",
    "import transformers as ppb\n",
    "import torch\n",
    "\n",
    "from sklearn.metrics import classification_report\n",
    "from sklearn.model_selection import train_test_split\n",
    "from sklearn.pipeline import Pipeline\n",
    "\n",
    "from sklearn.feature_extraction.text import TfidfVectorizer\n",
    "from nltk import word_tokenize\n",
    "from xgboost import XGBClassifier\n",
    "from catboost import CatBoostClassifier\n",
    "\n",
    "from sklearn.preprocessing import LabelEncoder\n",
    "from imblearn.over_sampling import SMOTE\n",
    "\n",
    "import pymorphy2\n",
    "\n",
    "from tensorflow.keras.models import Model\n",
    "from tensorflow.keras.layers import LSTM, Activation, Dense, Dropout, Input, Embedding, SpatialDropout1D, Flatten\n",
    "from tensorflow.keras.optimizers import Adam\n",
    "from tensorflow.keras.preprocessing.text import Tokenizer\n",
    "from tensorflow.keras.preprocessing import sequence\n",
    "from tensorflow.keras.utils import to_categorical\n",
    "from tensorflow.keras.callbacks import EarlyStopping\n",
    "from tensorflow.keras.models import Sequential\n",
    "\n",
    "from tensorflow.keras.callbacks import EarlyStopping, ModelCheckpoint\n",
    "\n",
    "from sklearn.metrics import accuracy_score"
   ]
  },
  {
   "cell_type": "markdown",
   "metadata": {},
   "source": [
    "# Загрузка данных"
   ]
  },
  {
   "cell_type": "code",
   "execution_count": 5,
   "metadata": {
    "execution": {
     "iopub.execute_input": "2022-03-17T09:44:04.498752Z",
     "iopub.status.busy": "2022-03-17T09:44:04.498512Z",
     "iopub.status.idle": "2022-03-17T09:44:04.507097Z",
     "shell.execute_reply": "2022-03-17T09:44:04.506292Z",
     "shell.execute_reply.started": "2022-03-17T09:44:04.498719Z"
    }
   },
   "outputs": [
    {
     "name": "stdout",
     "output_type": "stream",
     "text": [
      "C:\\Netology\\DIPLOMA\n"
     ]
    }
   ],
   "source": [
    "import os\n",
    "print(os.getcwd())"
   ]
  },
  {
   "cell_type": "code",
   "execution_count": 6,
   "metadata": {
    "execution": {
     "iopub.execute_input": "2022-03-17T09:44:04.509412Z",
     "iopub.status.busy": "2022-03-17T09:44:04.509137Z",
     "iopub.status.idle": "2022-03-17T09:44:04.522174Z",
     "shell.execute_reply": "2022-03-17T09:44:04.521492Z",
     "shell.execute_reply.started": "2022-03-17T09:44:04.509378Z"
    }
   },
   "outputs": [],
   "source": [
    "os.chdir('C:/Netology/DIPLOMA/data/trolls')"
   ]
  },
  {
   "cell_type": "code",
   "execution_count": 7,
   "metadata": {
    "execution": {
     "iopub.execute_input": "2022-03-17T09:44:04.523301Z",
     "iopub.status.busy": "2022-03-17T09:44:04.523036Z",
     "iopub.status.idle": "2022-03-17T09:44:04.530223Z",
     "shell.execute_reply": "2022-03-17T09:44:04.529582Z",
     "shell.execute_reply.started": "2022-03-17T09:44:04.523269Z"
    }
   },
   "outputs": [
    {
     "name": "stdout",
     "output_type": "stream",
     "text": [
      "C:\\Netology\\DIPLOMA\\data\\trolls\n"
     ]
    }
   ],
   "source": [
    "print(os.getcwd())"
   ]
  },
  {
   "cell_type": "code",
   "execution_count": 7,
   "metadata": {
    "execution": {
     "iopub.execute_input": "2022-03-17T09:44:04.531864Z",
     "iopub.status.busy": "2022-03-17T09:44:04.531138Z",
     "iopub.status.idle": "2022-03-17T09:44:04.538383Z",
     "shell.execute_reply": "2022-03-17T09:44:04.537678Z",
     "shell.execute_reply.started": "2022-03-17T09:44:04.531827Z"
    }
   },
   "outputs": [],
   "source": [
    "# for entry in os.listdir('../input/russian-troll-tweets'): \n",
    "#     print(entry)"
   ]
  },
  {
   "cell_type": "code",
   "execution_count": 8,
   "metadata": {
    "execution": {
     "iopub.execute_input": "2022-03-17T09:44:04.540156Z",
     "iopub.status.busy": "2022-03-17T09:44:04.539426Z",
     "iopub.status.idle": "2022-03-17T09:44:04.546963Z",
     "shell.execute_reply": "2022-03-17T09:44:04.546200Z",
     "shell.execute_reply.started": "2022-03-17T09:44:04.540120Z"
    }
   },
   "outputs": [],
   "source": [
    "# files = os.listdir()\n",
    "# data_total = pd.read_csv(files[0])\n",
    "# data_total.head()"
   ]
  },
  {
   "cell_type": "code",
   "execution_count": 9,
   "metadata": {
    "execution": {
     "iopub.execute_input": "2022-03-17T09:44:04.548445Z",
     "iopub.status.busy": "2022-03-17T09:44:04.548200Z",
     "iopub.status.idle": "2022-03-17T09:44:04.555809Z",
     "shell.execute_reply": "2022-03-17T09:44:04.555130Z",
     "shell.execute_reply.started": "2022-03-17T09:44:04.548411Z"
    }
   },
   "outputs": [],
   "source": [
    "\n",
    "# for num_entry in range(1, len(files)):\n",
    "#     data_1 = pd.read_csv(files[num_entry])\n",
    "#     data_total = pd.concat([data_total, data_1])"
   ]
  },
  {
   "cell_type": "code",
   "execution_count": 10,
   "metadata": {
    "execution": {
     "iopub.execute_input": "2022-03-17T09:44:04.557360Z",
     "iopub.status.busy": "2022-03-17T09:44:04.557100Z",
     "iopub.status.idle": "2022-03-17T09:44:28.865117Z",
     "shell.execute_reply": "2022-03-17T09:44:28.864137Z",
     "shell.execute_reply.started": "2022-03-17T09:44:04.557326Z"
    }
   },
   "outputs": [
    {
     "name": "stdout",
     "output_type": "stream",
     "text": [
      "Loading C:/Netology/DIPLOMA/data/trolls\\IRAhandle_tweets_1.csv\n",
      "Loading C:/Netology/DIPLOMA/data/trolls\\IRAhandle_tweets_2.csv\n",
      "Loading C:/Netology/DIPLOMA/data/trolls\\IRAhandle_tweets_3.csv\n",
      "Loading C:/Netology/DIPLOMA/data/trolls\\IRAhandle_tweets_4.csv\n",
      "Loading C:/Netology/DIPLOMA/data/trolls\\IRAhandle_tweets_5.csv\n",
      "Loading C:/Netology/DIPLOMA/data/trolls\\IRAhandle_tweets_6.csv\n",
      "Loading C:/Netology/DIPLOMA/data/trolls\\IRAhandle_tweets_7.csv\n",
      "Loading C:/Netology/DIPLOMA/data/trolls\\IRAhandle_tweets_8.csv\n",
      "Loading C:/Netology/DIPLOMA/data/trolls\\IRAhandle_tweets_9.csv\n"
     ]
    }
   ],
   "source": [
    "frames = []\n",
    "for dirname, _, filenames in os.walk('C:/Netology/DIPLOMA/data/trolls'):\n",
    "    for filename in filenames:\n",
    "        print('Loading', os.path.join(dirname, filename))\n",
    "        frames.append(pd.read_csv(os.path.join(dirname, filename)))\n",
    "df = pd.concat(frames)\n",
    "df = df.sample(frac=1).reset_index(drop=True)"
   ]
  },
  {
   "cell_type": "code",
   "execution_count": 11,
   "metadata": {
    "execution": {
     "iopub.execute_input": "2022-03-17T09:44:28.868821Z",
     "iopub.status.busy": "2022-03-17T09:44:28.868558Z",
     "iopub.status.idle": "2022-03-17T09:44:29.463214Z",
     "shell.execute_reply": "2022-03-17T09:44:29.462451Z",
     "shell.execute_reply.started": "2022-03-17T09:44:28.868785Z"
    }
   },
   "outputs": [],
   "source": [
    "data_total = df.copy()"
   ]
  },
  {
   "cell_type": "markdown",
   "metadata": {},
   "source": [
    "# Анализ данных"
   ]
  },
  {
   "cell_type": "code",
   "execution_count": 12,
   "metadata": {
    "execution": {
     "iopub.execute_input": "2022-03-17T09:44:29.464787Z",
     "iopub.status.busy": "2022-03-17T09:44:29.464521Z",
     "iopub.status.idle": "2022-03-17T09:44:29.489367Z",
     "shell.execute_reply": "2022-03-17T09:44:29.488559Z",
     "shell.execute_reply.started": "2022-03-17T09:44:29.464753Z"
    }
   },
   "outputs": [
    {
     "data": {
      "text/html": [
       "<div>\n",
       "<style scoped>\n",
       "    .dataframe tbody tr th:only-of-type {\n",
       "        vertical-align: middle;\n",
       "    }\n",
       "\n",
       "    .dataframe tbody tr th {\n",
       "        vertical-align: top;\n",
       "    }\n",
       "\n",
       "    .dataframe thead th {\n",
       "        text-align: right;\n",
       "    }\n",
       "</style>\n",
       "<table border=\"1\" class=\"dataframe\">\n",
       "  <thead>\n",
       "    <tr style=\"text-align: right;\">\n",
       "      <th></th>\n",
       "      <th>external_author_id</th>\n",
       "      <th>author</th>\n",
       "      <th>content</th>\n",
       "      <th>region</th>\n",
       "      <th>language</th>\n",
       "      <th>publish_date</th>\n",
       "      <th>harvested_date</th>\n",
       "      <th>following</th>\n",
       "      <th>followers</th>\n",
       "      <th>updates</th>\n",
       "      <th>post_type</th>\n",
       "      <th>account_type</th>\n",
       "      <th>new_june_2018</th>\n",
       "      <th>retweet</th>\n",
       "      <th>account_category</th>\n",
       "    </tr>\n",
       "  </thead>\n",
       "  <tbody>\n",
       "    <tr>\n",
       "      <th>0</th>\n",
       "      <td>1.625965e+09</td>\n",
       "      <td>MEGGIEONEIL</td>\n",
       "      <td>#WithoutYouIam a movie quoting dork, sitting i...</td>\n",
       "      <td>United States</td>\n",
       "      <td>English</td>\n",
       "      <td>6/29/2016 14:59</td>\n",
       "      <td>6/29/2016 14:59</td>\n",
       "      <td>1153</td>\n",
       "      <td>690</td>\n",
       "      <td>1313</td>\n",
       "      <td>RETWEET</td>\n",
       "      <td>Hashtager</td>\n",
       "      <td>0</td>\n",
       "      <td>1</td>\n",
       "      <td>HashtagGamer</td>\n",
       "    </tr>\n",
       "    <tr>\n",
       "      <th>1</th>\n",
       "      <td>7.530000e+17</td>\n",
       "      <td>RALFREIMANN8891</td>\n",
       "      <td>Bei 11:11 im 5. Satz vom Herren-Doppelfinale M...</td>\n",
       "      <td>United States</td>\n",
       "      <td>German</td>\n",
       "      <td>7/16/2017 8:57</td>\n",
       "      <td>7/16/2017 8:57</td>\n",
       "      <td>101</td>\n",
       "      <td>96</td>\n",
       "      <td>84</td>\n",
       "      <td>RETWEET</td>\n",
       "      <td>German</td>\n",
       "      <td>0</td>\n",
       "      <td>1</td>\n",
       "      <td>NonEnglish</td>\n",
       "    </tr>\n",
       "    <tr>\n",
       "      <th>2</th>\n",
       "      <td>2.533002e+09</td>\n",
       "      <td>JASPER_FLY</td>\n",
       "      <td>#TheTroubleWithAddiction is that #kratom, a pl...</td>\n",
       "      <td>United States</td>\n",
       "      <td>English</td>\n",
       "      <td>9/12/2016 10:59</td>\n",
       "      <td>9/12/2016 10:59</td>\n",
       "      <td>1549</td>\n",
       "      <td>1393</td>\n",
       "      <td>2888</td>\n",
       "      <td>NaN</td>\n",
       "      <td>Hashtager</td>\n",
       "      <td>0</td>\n",
       "      <td>0</td>\n",
       "      <td>HashtagGamer</td>\n",
       "    </tr>\n",
       "    <tr>\n",
       "      <th>3</th>\n",
       "      <td>4.444331e+09</td>\n",
       "      <td>GLOBALFOE</td>\n",
       "      <td>President Kenyatta opens WTO conference with a...</td>\n",
       "      <td>Unknown</td>\n",
       "      <td>English</td>\n",
       "      <td>12/15/2015 23:25</td>\n",
       "      <td>12/15/2015 23:25</td>\n",
       "      <td>382</td>\n",
       "      <td>51</td>\n",
       "      <td>32</td>\n",
       "      <td>NaN</td>\n",
       "      <td>left</td>\n",
       "      <td>0</td>\n",
       "      <td>0</td>\n",
       "      <td>LeftTroll</td>\n",
       "    </tr>\n",
       "    <tr>\n",
       "      <th>4</th>\n",
       "      <td>3.272641e+09</td>\n",
       "      <td>EXQUOTE</td>\n",
       "      <td>.@shazleenazmi shark @BronsonMBrown Bronson @N...</td>\n",
       "      <td>United States</td>\n",
       "      <td>English</td>\n",
       "      <td>8/27/2015 7:34</td>\n",
       "      <td>8/27/2015 7:34</td>\n",
       "      <td>2</td>\n",
       "      <td>762</td>\n",
       "      <td>56571</td>\n",
       "      <td>NaN</td>\n",
       "      <td>Commercial</td>\n",
       "      <td>1</td>\n",
       "      <td>0</td>\n",
       "      <td>Commercial</td>\n",
       "    </tr>\n",
       "  </tbody>\n",
       "</table>\n",
       "</div>"
      ],
      "text/plain": [
       "   external_author_id           author  \\\n",
       "0        1.625965e+09      MEGGIEONEIL   \n",
       "1        7.530000e+17  RALFREIMANN8891   \n",
       "2        2.533002e+09       JASPER_FLY   \n",
       "3        4.444331e+09        GLOBALFOE   \n",
       "4        3.272641e+09          EXQUOTE   \n",
       "\n",
       "                                             content         region language  \\\n",
       "0  #WithoutYouIam a movie quoting dork, sitting i...  United States  English   \n",
       "1  Bei 11:11 im 5. Satz vom Herren-Doppelfinale M...  United States   German   \n",
       "2  #TheTroubleWithAddiction is that #kratom, a pl...  United States  English   \n",
       "3  President Kenyatta opens WTO conference with a...        Unknown  English   \n",
       "4  .@shazleenazmi shark @BronsonMBrown Bronson @N...  United States  English   \n",
       "\n",
       "       publish_date    harvested_date  following  followers  updates  \\\n",
       "0   6/29/2016 14:59   6/29/2016 14:59       1153        690     1313   \n",
       "1    7/16/2017 8:57    7/16/2017 8:57        101         96       84   \n",
       "2   9/12/2016 10:59   9/12/2016 10:59       1549       1393     2888   \n",
       "3  12/15/2015 23:25  12/15/2015 23:25        382         51       32   \n",
       "4    8/27/2015 7:34    8/27/2015 7:34          2        762    56571   \n",
       "\n",
       "  post_type account_type  new_june_2018  retweet account_category  \n",
       "0   RETWEET    Hashtager              0        1     HashtagGamer  \n",
       "1   RETWEET       German              0        1       NonEnglish  \n",
       "2       NaN    Hashtager              0        0     HashtagGamer  \n",
       "3       NaN         left              0        0        LeftTroll  \n",
       "4       NaN   Commercial              1        0       Commercial  "
      ]
     },
     "execution_count": 12,
     "metadata": {},
     "output_type": "execute_result"
    }
   ],
   "source": [
    "data_total.head()"
   ]
  },
  {
   "cell_type": "code",
   "execution_count": 13,
   "metadata": {
    "execution": {
     "iopub.execute_input": "2022-03-17T09:44:29.491016Z",
     "iopub.status.busy": "2022-03-17T09:44:29.490770Z",
     "iopub.status.idle": "2022-03-17T09:44:29.509640Z",
     "shell.execute_reply": "2022-03-17T09:44:29.508833Z",
     "shell.execute_reply.started": "2022-03-17T09:44:29.490982Z"
    }
   },
   "outputs": [
    {
     "name": "stdout",
     "output_type": "stream",
     "text": [
      "<class 'pandas.core.frame.DataFrame'>\n",
      "RangeIndex: 2973371 entries, 0 to 2973370\n",
      "Data columns (total 15 columns):\n",
      " #   Column              Dtype  \n",
      "---  ------              -----  \n",
      " 0   external_author_id  float64\n",
      " 1   author              object \n",
      " 2   content             object \n",
      " 3   region              object \n",
      " 4   language            object \n",
      " 5   publish_date        object \n",
      " 6   harvested_date      object \n",
      " 7   following           int64  \n",
      " 8   followers           int64  \n",
      " 9   updates             int64  \n",
      " 10  post_type           object \n",
      " 11  account_type        object \n",
      " 12  new_june_2018       int64  \n",
      " 13  retweet             int64  \n",
      " 14  account_category    object \n",
      "dtypes: float64(1), int64(5), object(9)\n",
      "memory usage: 340.3+ MB\n"
     ]
    }
   ],
   "source": [
    "data_total.info()"
   ]
  },
  {
   "cell_type": "code",
   "execution_count": 14,
   "metadata": {
    "execution": {
     "iopub.execute_input": "2022-03-17T09:44:29.511642Z",
     "iopub.status.busy": "2022-03-17T09:44:29.511343Z",
     "iopub.status.idle": "2022-03-17T09:44:29.731178Z",
     "shell.execute_reply": "2022-03-17T09:44:29.730373Z",
     "shell.execute_reply.started": "2022-03-17T09:44:29.511588Z"
    }
   },
   "outputs": [
    {
     "data": {
      "text/plain": [
       "array(['HashtagGamer', 'NonEnglish', 'LeftTroll', 'Commercial',\n",
       "       'NewsFeed', 'RightTroll', 'Fearmonger', 'Unknown'], dtype=object)"
      ]
     },
     "execution_count": 14,
     "metadata": {},
     "output_type": "execute_result"
    }
   ],
   "source": [
    "data_total['account_category'].unique()"
   ]
  },
  {
   "cell_type": "code",
   "execution_count": 15,
   "metadata": {
    "execution": {
     "iopub.execute_input": "2022-03-17T09:44:29.732890Z",
     "iopub.status.busy": "2022-03-17T09:44:29.732630Z",
     "iopub.status.idle": "2022-03-17T09:44:33.459854Z",
     "shell.execute_reply": "2022-03-17T09:44:33.459002Z",
     "shell.execute_reply.started": "2022-03-17T09:44:29.732854Z"
    }
   },
   "outputs": [
    {
     "data": {
      "text/html": [
       "<div>\n",
       "<style scoped>\n",
       "    .dataframe tbody tr th:only-of-type {\n",
       "        vertical-align: middle;\n",
       "    }\n",
       "\n",
       "    .dataframe tbody tr th {\n",
       "        vertical-align: top;\n",
       "    }\n",
       "\n",
       "    .dataframe thead th {\n",
       "        text-align: right;\n",
       "    }\n",
       "</style>\n",
       "<table border=\"1\" class=\"dataframe\">\n",
       "  <thead>\n",
       "    <tr style=\"text-align: right;\">\n",
       "      <th></th>\n",
       "      <th>author</th>\n",
       "    </tr>\n",
       "    <tr>\n",
       "      <th>account_category</th>\n",
       "      <th></th>\n",
       "    </tr>\n",
       "  </thead>\n",
       "  <tbody>\n",
       "    <tr>\n",
       "      <th>Commercial</th>\n",
       "      <td>122582</td>\n",
       "    </tr>\n",
       "    <tr>\n",
       "      <th>Fearmonger</th>\n",
       "      <td>11140</td>\n",
       "    </tr>\n",
       "    <tr>\n",
       "      <th>HashtagGamer</th>\n",
       "      <td>241827</td>\n",
       "    </tr>\n",
       "    <tr>\n",
       "      <th>LeftTroll</th>\n",
       "      <td>427811</td>\n",
       "    </tr>\n",
       "    <tr>\n",
       "      <th>NewsFeed</th>\n",
       "      <td>599294</td>\n",
       "    </tr>\n",
       "    <tr>\n",
       "      <th>NonEnglish</th>\n",
       "      <td>837725</td>\n",
       "    </tr>\n",
       "    <tr>\n",
       "      <th>RightTroll</th>\n",
       "      <td>719087</td>\n",
       "    </tr>\n",
       "    <tr>\n",
       "      <th>Unknown</th>\n",
       "      <td>13905</td>\n",
       "    </tr>\n",
       "  </tbody>\n",
       "</table>\n",
       "</div>"
      ],
      "text/plain": [
       "                  author\n",
       "account_category        \n",
       "Commercial        122582\n",
       "Fearmonger         11140\n",
       "HashtagGamer      241827\n",
       "LeftTroll         427811\n",
       "NewsFeed          599294\n",
       "NonEnglish        837725\n",
       "RightTroll        719087\n",
       "Unknown            13905"
      ]
     },
     "execution_count": 15,
     "metadata": {},
     "output_type": "execute_result"
    }
   ],
   "source": [
    "data_total.groupby('account_category').count()[['author']]"
   ]
  },
  {
   "cell_type": "code",
   "execution_count": 16,
   "metadata": {
    "execution": {
     "iopub.execute_input": "2022-03-17T09:44:33.461502Z",
     "iopub.status.busy": "2022-03-17T09:44:33.461259Z",
     "iopub.status.idle": "2022-03-17T09:44:37.765551Z",
     "shell.execute_reply": "2022-03-17T09:44:37.764898Z",
     "shell.execute_reply.started": "2022-03-17T09:44:33.461468Z"
    }
   },
   "outputs": [
    {
     "data": {
      "image/png": "[encoded data removed]",
      "text/plain": [
       "<Figure size 432x288 with 1 Axes>"
      ]
     },
     "metadata": {
      "needs_background": "light"
     },
     "output_type": "display_data"
    }
   ],
   "source": [
    "plot_3 = data_total.groupby('account_category').count()[['account_type']]\n",
    "\n",
    "plot_3.plot(kind='barh', grid = True,\n",
    "                   color='#107c8e')\n",
    "plt.title('Accounts distribution')\n",
    "plt.xlabel('Counts')\n",
    "plt.ylabel('Accounts')\n",
    "plt.grid(axis='y', alpha=0.75)"
   ]
  },
  {
   "cell_type": "code",
   "execution_count": 17,
   "metadata": {
    "execution": {
     "iopub.execute_input": "2022-03-17T09:44:37.767513Z",
     "iopub.status.busy": "2022-03-17T09:44:37.766983Z",
     "iopub.status.idle": "2022-03-17T09:44:41.494178Z",
     "shell.execute_reply": "2022-03-17T09:44:41.493483Z",
     "shell.execute_reply.started": "2022-03-17T09:44:37.767473Z"
    }
   },
   "outputs": [
    {
     "data": {
      "text/html": [
       "<div>\n",
       "<style scoped>\n",
       "    .dataframe tbody tr th:only-of-type {\n",
       "        vertical-align: middle;\n",
       "    }\n",
       "\n",
       "    .dataframe tbody tr th {\n",
       "        vertical-align: top;\n",
       "    }\n",
       "\n",
       "    .dataframe thead th {\n",
       "        text-align: right;\n",
       "    }\n",
       "</style>\n",
       "<table border=\"1\" class=\"dataframe\">\n",
       "  <thead>\n",
       "    <tr style=\"text-align: right;\">\n",
       "      <th></th>\n",
       "      <th>author</th>\n",
       "    </tr>\n",
       "    <tr>\n",
       "      <th>language</th>\n",
       "      <th></th>\n",
       "    </tr>\n",
       "  </thead>\n",
       "  <tbody>\n",
       "    <tr>\n",
       "      <th>English</th>\n",
       "      <td>2128963</td>\n",
       "    </tr>\n",
       "    <tr>\n",
       "      <th>Russian</th>\n",
       "      <td>624124</td>\n",
       "    </tr>\n",
       "    <tr>\n",
       "      <th>German</th>\n",
       "      <td>87171</td>\n",
       "    </tr>\n",
       "    <tr>\n",
       "      <th>Ukrainian</th>\n",
       "      <td>39361</td>\n",
       "    </tr>\n",
       "    <tr>\n",
       "      <th>Italian</th>\n",
       "      <td>18254</td>\n",
       "    </tr>\n",
       "    <tr>\n",
       "      <th>Serbian</th>\n",
       "      <td>9615</td>\n",
       "    </tr>\n",
       "    <tr>\n",
       "      <th>Uzbek</th>\n",
       "      <td>9491</td>\n",
       "    </tr>\n",
       "    <tr>\n",
       "      <th>Bulgarian</th>\n",
       "      <td>9458</td>\n",
       "    </tr>\n",
       "    <tr>\n",
       "      <th>LANGUAGE UNDEFINED</th>\n",
       "      <td>8325</td>\n",
       "    </tr>\n",
       "    <tr>\n",
       "      <th>Arabic</th>\n",
       "      <td>7595</td>\n",
       "    </tr>\n",
       "    <tr>\n",
       "      <th>Macedonian</th>\n",
       "      <td>5260</td>\n",
       "    </tr>\n",
       "    <tr>\n",
       "      <th>French</th>\n",
       "      <td>4572</td>\n",
       "    </tr>\n",
       "    <tr>\n",
       "      <th>Spanish</th>\n",
       "      <td>3145</td>\n",
       "    </tr>\n",
       "    <tr>\n",
       "      <th>Norwegian</th>\n",
       "      <td>2252</td>\n",
       "    </tr>\n",
       "    <tr>\n",
       "      <th>Farsi (Persian)</th>\n",
       "      <td>1685</td>\n",
       "    </tr>\n",
       "    <tr>\n",
       "      <th>Romanian</th>\n",
       "      <td>1631</td>\n",
       "    </tr>\n",
       "    <tr>\n",
       "      <th>Dutch</th>\n",
       "      <td>1167</td>\n",
       "    </tr>\n",
       "    <tr>\n",
       "      <th>Swedish</th>\n",
       "      <td>1021</td>\n",
       "    </tr>\n",
       "    <tr>\n",
       "      <th>Vietnamese</th>\n",
       "      <td>990</td>\n",
       "    </tr>\n",
       "    <tr>\n",
       "      <th>Estonian</th>\n",
       "      <td>771</td>\n",
       "    </tr>\n",
       "    <tr>\n",
       "      <th>Japanese</th>\n",
       "      <td>766</td>\n",
       "    </tr>\n",
       "    <tr>\n",
       "      <th>Catalan</th>\n",
       "      <td>590</td>\n",
       "    </tr>\n",
       "    <tr>\n",
       "      <th>Finnish</th>\n",
       "      <td>581</td>\n",
       "    </tr>\n",
       "    <tr>\n",
       "      <th>Albanian</th>\n",
       "      <td>572</td>\n",
       "    </tr>\n",
       "    <tr>\n",
       "      <th>Croatian</th>\n",
       "      <td>546</td>\n",
       "    </tr>\n",
       "    <tr>\n",
       "      <th>Icelandic</th>\n",
       "      <td>499</td>\n",
       "    </tr>\n",
       "    <tr>\n",
       "      <th>Pushto</th>\n",
       "      <td>488</td>\n",
       "    </tr>\n",
       "    <tr>\n",
       "      <th>Portuguese</th>\n",
       "      <td>465</td>\n",
       "    </tr>\n",
       "    <tr>\n",
       "      <th>Turkish</th>\n",
       "      <td>445</td>\n",
       "    </tr>\n",
       "    <tr>\n",
       "      <th>Lithuanian</th>\n",
       "      <td>417</td>\n",
       "    </tr>\n",
       "    <tr>\n",
       "      <th>Polish</th>\n",
       "      <td>386</td>\n",
       "    </tr>\n",
       "    <tr>\n",
       "      <th>Somali</th>\n",
       "      <td>277</td>\n",
       "    </tr>\n",
       "    <tr>\n",
       "      <th>Slovak</th>\n",
       "      <td>260</td>\n",
       "    </tr>\n",
       "    <tr>\n",
       "      <th>Tagalog (Filipino)</th>\n",
       "      <td>240</td>\n",
       "    </tr>\n",
       "    <tr>\n",
       "      <th>Kurdish</th>\n",
       "      <td>237</td>\n",
       "    </tr>\n",
       "    <tr>\n",
       "      <th>Malay</th>\n",
       "      <td>236</td>\n",
       "    </tr>\n",
       "    <tr>\n",
       "      <th>Latvian</th>\n",
       "      <td>219</td>\n",
       "    </tr>\n",
       "    <tr>\n",
       "      <th>Hungarian</th>\n",
       "      <td>192</td>\n",
       "    </tr>\n",
       "    <tr>\n",
       "      <th>Greek</th>\n",
       "      <td>186</td>\n",
       "    </tr>\n",
       "    <tr>\n",
       "      <th>Czech</th>\n",
       "      <td>186</td>\n",
       "    </tr>\n",
       "    <tr>\n",
       "      <th>Indonesian</th>\n",
       "      <td>168</td>\n",
       "    </tr>\n",
       "    <tr>\n",
       "      <th>Korean</th>\n",
       "      <td>106</td>\n",
       "    </tr>\n",
       "    <tr>\n",
       "      <th>Danish</th>\n",
       "      <td>91</td>\n",
       "    </tr>\n",
       "    <tr>\n",
       "      <th>Hindi</th>\n",
       "      <td>88</td>\n",
       "    </tr>\n",
       "    <tr>\n",
       "      <th>Hebrew</th>\n",
       "      <td>67</td>\n",
       "    </tr>\n",
       "    <tr>\n",
       "      <th>Slovenian</th>\n",
       "      <td>62</td>\n",
       "    </tr>\n",
       "    <tr>\n",
       "      <th>Urdu</th>\n",
       "      <td>59</td>\n",
       "    </tr>\n",
       "    <tr>\n",
       "      <th>Thai</th>\n",
       "      <td>38</td>\n",
       "    </tr>\n",
       "    <tr>\n",
       "      <th>Simplified Chinese</th>\n",
       "      <td>21</td>\n",
       "    </tr>\n",
       "    <tr>\n",
       "      <th>Traditional Chinese</th>\n",
       "      <td>11</td>\n",
       "    </tr>\n",
       "    <tr>\n",
       "      <th>Tamil</th>\n",
       "      <td>9</td>\n",
       "    </tr>\n",
       "    <tr>\n",
       "      <th>Gujarati</th>\n",
       "      <td>6</td>\n",
       "    </tr>\n",
       "    <tr>\n",
       "      <th>Telugu</th>\n",
       "      <td>2</td>\n",
       "    </tr>\n",
       "    <tr>\n",
       "      <th>Bengali</th>\n",
       "      <td>2</td>\n",
       "    </tr>\n",
       "    <tr>\n",
       "      <th>Malayalam</th>\n",
       "      <td>1</td>\n",
       "    </tr>\n",
       "    <tr>\n",
       "      <th>Kannada</th>\n",
       "      <td>1</td>\n",
       "    </tr>\n",
       "  </tbody>\n",
       "</table>\n",
       "</div>"
      ],
      "text/plain": [
       "                      author\n",
       "language                    \n",
       "English              2128963\n",
       "Russian               624124\n",
       "German                 87171\n",
       "Ukrainian              39361\n",
       "Italian                18254\n",
       "Serbian                 9615\n",
       "Uzbek                   9491\n",
       "Bulgarian               9458\n",
       "LANGUAGE UNDEFINED      8325\n",
       "Arabic                  7595\n",
       "Macedonian              5260\n",
       "French                  4572\n",
       "Spanish                 3145\n",
       "Norwegian               2252\n",
       "Farsi (Persian)         1685\n",
       "Romanian                1631\n",
       "Dutch                   1167\n",
       "Swedish                 1021\n",
       "Vietnamese               990\n",
       "Estonian                 771\n",
       "Japanese                 766\n",
       "Catalan                  590\n",
       "Finnish                  581\n",
       "Albanian                 572\n",
       "Croatian                 546\n",
       "Icelandic                499\n",
       "Pushto                   488\n",
       "Portuguese               465\n",
       "Turkish                  445\n",
       "Lithuanian               417\n",
       "Polish                   386\n",
       "Somali                   277\n",
       "Slovak                   260\n",
       "Tagalog (Filipino)       240\n",
       "Kurdish                  237\n",
       "Malay                    236\n",
       "Latvian                  219\n",
       "Hungarian                192\n",
       "Greek                    186\n",
       "Czech                    186\n",
       "Indonesian               168\n",
       "Korean                   106\n",
       "Danish                    91\n",
       "Hindi                     88\n",
       "Hebrew                    67\n",
       "Slovenian                 62\n",
       "Urdu                      59\n",
       "Thai                      38\n",
       "Simplified Chinese        21\n",
       "Traditional Chinese       11\n",
       "Tamil                      9\n",
       "Gujarati                   6\n",
       "Telugu                     2\n",
       "Bengali                    2\n",
       "Malayalam                  1\n",
       "Kannada                    1"
      ]
     },
     "execution_count": 17,
     "metadata": {},
     "output_type": "execute_result"
    }
   ],
   "source": [
    "data_total.groupby('language').count()[['author']].sort_values('author', ascending=False)"
   ]
  },
  {
   "cell_type": "code",
   "execution_count": 18,
   "metadata": {
    "execution": {
     "iopub.execute_input": "2022-03-17T09:44:41.495698Z",
     "iopub.status.busy": "2022-03-17T09:44:41.495372Z",
     "iopub.status.idle": "2022-03-17T09:44:45.867591Z",
     "shell.execute_reply": "2022-03-17T09:44:45.866922Z",
     "shell.execute_reply.started": "2022-03-17T09:44:41.495660Z"
    }
   },
   "outputs": [
    {
     "data": {
      "image/png": "[encoded data removed]",
      "text/plain": [
       "<Figure size 432x288 with 1 Axes>"
      ]
     },
     "metadata": {
      "needs_background": "light"
     },
     "output_type": "display_data"
    }
   ],
   "source": [
    "plot_4 = data_total.groupby('language').count()[['author']].sort_values('author', ascending=False).head(5)\n",
    "\n",
    "plot_4.plot(kind='barh', grid = True,\n",
    "                   color='#107c8e')\n",
    "plt.title('Tweets by 5-top languages')\n",
    "plt.xlabel('Counts')\n",
    "plt.ylabel('Languages')\n",
    "plt.grid(axis='y', alpha=0.75)"
   ]
  },
  {
   "cell_type": "code",
   "execution_count": 19,
   "metadata": {
    "execution": {
     "iopub.execute_input": "2022-03-17T09:44:45.871078Z",
     "iopub.status.busy": "2022-03-17T09:44:45.868820Z",
     "iopub.status.idle": "2022-03-17T09:44:46.344330Z",
     "shell.execute_reply": "2022-03-17T09:44:46.343657Z",
     "shell.execute_reply.started": "2022-03-17T09:44:45.871049Z"
    }
   },
   "outputs": [
    {
     "data": {
      "text/html": [
       "<div>\n",
       "<style scoped>\n",
       "    .dataframe tbody tr th:only-of-type {\n",
       "        vertical-align: middle;\n",
       "    }\n",
       "\n",
       "    .dataframe tbody tr th {\n",
       "        vertical-align: top;\n",
       "    }\n",
       "\n",
       "    .dataframe thead th {\n",
       "        text-align: right;\n",
       "    }\n",
       "</style>\n",
       "<table border=\"1\" class=\"dataframe\">\n",
       "  <thead>\n",
       "    <tr style=\"text-align: right;\">\n",
       "      <th></th>\n",
       "      <th>external_author_id</th>\n",
       "      <th>author</th>\n",
       "      <th>content</th>\n",
       "      <th>region</th>\n",
       "      <th>language</th>\n",
       "      <th>publish_date</th>\n",
       "      <th>harvested_date</th>\n",
       "      <th>following</th>\n",
       "      <th>followers</th>\n",
       "      <th>updates</th>\n",
       "      <th>post_type</th>\n",
       "      <th>account_type</th>\n",
       "      <th>new_june_2018</th>\n",
       "      <th>retweet</th>\n",
       "      <th>account_category</th>\n",
       "    </tr>\n",
       "  </thead>\n",
       "  <tbody>\n",
       "    <tr>\n",
       "      <th>4</th>\n",
       "      <td>3.272641e+09</td>\n",
       "      <td>EXQUOTE</td>\n",
       "      <td>.@shazleenazmi shark @BronsonMBrown Bronson @N...</td>\n",
       "      <td>United States</td>\n",
       "      <td>English</td>\n",
       "      <td>8/27/2015 7:34</td>\n",
       "      <td>8/27/2015 7:34</td>\n",
       "      <td>2</td>\n",
       "      <td>762</td>\n",
       "      <td>56571</td>\n",
       "      <td>NaN</td>\n",
       "      <td>Commercial</td>\n",
       "      <td>1</td>\n",
       "      <td>0</td>\n",
       "      <td>Commercial</td>\n",
       "    </tr>\n",
       "    <tr>\n",
       "      <th>5</th>\n",
       "      <td>3.272641e+09</td>\n",
       "      <td>EXQUOTE</td>\n",
       "      <td>http://t.co/gjvkc3Oi8z Just got back from POUN...</td>\n",
       "      <td>United States</td>\n",
       "      <td>English</td>\n",
       "      <td>7/30/2015 0:50</td>\n",
       "      <td>7/30/2015 0:50</td>\n",
       "      <td>2</td>\n",
       "      <td>338</td>\n",
       "      <td>24877</td>\n",
       "      <td>NaN</td>\n",
       "      <td>Commercial</td>\n",
       "      <td>1</td>\n",
       "      <td>0</td>\n",
       "      <td>Commercial</td>\n",
       "    </tr>\n",
       "  </tbody>\n",
       "</table>\n",
       "</div>"
      ],
      "text/plain": [
       "   external_author_id   author  \\\n",
       "4        3.272641e+09  EXQUOTE   \n",
       "5        3.272641e+09  EXQUOTE   \n",
       "\n",
       "                                             content         region language  \\\n",
       "4  .@shazleenazmi shark @BronsonMBrown Bronson @N...  United States  English   \n",
       "5  http://t.co/gjvkc3Oi8z Just got back from POUN...  United States  English   \n",
       "\n",
       "     publish_date  harvested_date  following  followers  updates post_type  \\\n",
       "4  8/27/2015 7:34  8/27/2015 7:34          2        762    56571       NaN   \n",
       "5  7/30/2015 0:50  7/30/2015 0:50          2        338    24877       NaN   \n",
       "\n",
       "  account_type  new_june_2018  retweet account_category  \n",
       "4   Commercial              1        0       Commercial  \n",
       "5   Commercial              1        0       Commercial  "
      ]
     },
     "execution_count": 19,
     "metadata": {},
     "output_type": "execute_result"
    }
   ],
   "source": [
    "data_total[data_total['account_category'] == 'Commercial'].head(2)"
   ]
  },
  {
   "cell_type": "code",
   "execution_count": 20,
   "metadata": {
    "execution": {
     "iopub.execute_input": "2022-03-17T09:44:46.345742Z",
     "iopub.status.busy": "2022-03-17T09:44:46.345492Z",
     "iopub.status.idle": "2022-03-17T09:44:46.814030Z",
     "shell.execute_reply": "2022-03-17T09:44:46.813340Z",
     "shell.execute_reply.started": "2022-03-17T09:44:46.345707Z"
    }
   },
   "outputs": [
    {
     "data": {
      "text/plain": [
       "'.@shazleenazmi shark @BronsonMBrown Bronson @Niike___ Drippin @ReignDolfy Shai @jasmina_xxo Jasmemea http://t.co/TcSGYAcvdn'"
      ]
     },
     "execution_count": 20,
     "metadata": {},
     "output_type": "execute_result"
    }
   ],
   "source": [
    "data_total[data_total['account_category'] == 'Commercial']['content'].iloc[0]"
   ]
  },
  {
   "cell_type": "code",
   "execution_count": 21,
   "metadata": {
    "execution": {
     "iopub.execute_input": "2022-03-17T09:44:46.815557Z",
     "iopub.status.busy": "2022-03-17T09:44:46.815180Z",
     "iopub.status.idle": "2022-03-17T09:44:47.432697Z",
     "shell.execute_reply": "2022-03-17T09:44:47.431954Z",
     "shell.execute_reply.started": "2022-03-17T09:44:46.815522Z"
    }
   },
   "outputs": [
    {
     "data": {
      "text/plain": [
       "'Владивостокские гаишники и их служебный Chevrolet Caprice, 1990-е. https://t.co/5jKu53pgYR'"
      ]
     },
     "execution_count": 21,
     "metadata": {},
     "output_type": "execute_result"
    }
   ],
   "source": [
    "data_total[data_total['language'] == 'Russian']['content'].iloc[0]"
   ]
  },
  {
   "cell_type": "markdown",
   "metadata": {},
   "source": [
    "# Обработка/подготовка данных - preprocessing"
   ]
  },
  {
   "cell_type": "code",
   "execution_count": 22,
   "metadata": {
    "execution": {
     "iopub.execute_input": "2022-03-17T09:44:47.434395Z",
     "iopub.status.busy": "2022-03-17T09:44:47.433977Z",
     "iopub.status.idle": "2022-03-17T09:44:47.642495Z",
     "shell.execute_reply": "2022-03-17T09:44:47.641762Z",
     "shell.execute_reply.started": "2022-03-17T09:44:47.434357Z"
    }
   },
   "outputs": [
    {
     "name": "stdout",
     "output_type": "stream",
     "text": [
      "['English' 'German' 'Russian' 'Italian' 'Bulgarian' 'Kurdish' 'Ukrainian'\n",
      " 'Arabic' 'French' 'Uzbek' 'LANGUAGE UNDEFINED' 'Vietnamese' 'Serbian'\n",
      " 'Swedish' 'Spanish' 'Farsi (Persian)' 'Croatian' 'Norwegian' 'Macedonian'\n",
      " 'Romanian' 'Estonian' 'Albanian' 'Catalan' 'Portuguese' 'Dutch' 'Turkish'\n",
      " 'Hungarian' 'Icelandic' 'Czech' 'Japanese' 'Tagalog (Filipino)' 'Finnish'\n",
      " 'Somali' 'Danish' 'Polish' 'Hebrew' 'Latvian' 'Lithuanian' 'Slovak'\n",
      " 'Indonesian' 'Malay' 'Pushto' 'Hindi' 'Gujarati' 'Thai' 'Urdu' 'Greek'\n",
      " 'Korean' 'Slovenian' 'Simplified Chinese' 'Bengali' 'Malayalam'\n",
      " 'Traditional Chinese' 'Telugu' 'Tamil' 'Kannada']\n"
     ]
    }
   ],
   "source": [
    "langs = data_total.language.unique()\n",
    "print(langs)"
   ]
  },
  {
   "cell_type": "code",
   "execution_count": 23,
   "metadata": {
    "execution": {
     "iopub.execute_input": "2022-03-17T09:44:47.644063Z",
     "iopub.status.busy": "2022-03-17T09:44:47.643820Z",
     "iopub.status.idle": "2022-03-17T09:44:47.650528Z",
     "shell.execute_reply": "2022-03-17T09:44:47.649852Z",
     "shell.execute_reply.started": "2022-03-17T09:44:47.644029Z"
    }
   },
   "outputs": [
    {
     "name": "stdout",
     "output_type": "stream",
     "text": [
      "English ------>> ['i', 'me', 'my', 'myself', 'we', 'our', 'ours', 'ourselves', 'you', \"you're\", \"you've\", \"you'll\", \"you'd\", 'your', 'yours', 'yourself', 'yourselves', 'he', 'him', 'his', 'himself', 'she', \"she's\", 'her', 'hers', 'herself', 'it', \"it's\", 'its', 'itself', 'they', 'them', 'their', 'theirs', 'themselves', 'what', 'which', 'who', 'whom', 'this', 'that', \"that'll\", 'these', 'those', 'am', 'is', 'are', 'was', 'were', 'be', 'been', 'being', 'have', 'has', 'had', 'having', 'do', 'does', 'did', 'doing', 'a', 'an', 'the', 'and', 'but', 'if', 'or', 'because', 'as', 'until', 'while', 'of', 'at', 'by', 'for', 'with', 'about', 'against', 'between', 'into', 'through', 'during', 'before', 'after', 'above', 'below', 'to', 'from', 'up', 'down', 'in', 'out', 'on', 'off', 'over', 'under', 'again', 'further', 'then', 'once', 'here', 'there', 'when', 'where', 'why', 'how', 'all', 'any', 'both', 'each', 'few', 'more', 'most', 'other', 'some', 'such', 'no', 'nor', 'not', 'only', 'own', 'same', 'so', 'than', 'too', 'very', 's', 't', 'can', 'will', 'just', 'don', \"don't\", 'should', \"should've\", 'now', 'd', 'll', 'm', 'o', 're', 've', 'y', 'ain', 'aren', \"aren't\", 'couldn', \"couldn't\", 'didn', \"didn't\", 'doesn', \"doesn't\", 'hadn', \"hadn't\", 'hasn', \"hasn't\", 'haven', \"haven't\", 'isn', \"isn't\", 'ma', 'mightn', \"mightn't\", 'mustn', \"mustn't\", 'needn', \"needn't\", 'shan', \"shan't\", 'shouldn', \"shouldn't\", 'wasn', \"wasn't\", 'weren', \"weren't\", 'won', \"won't\", 'wouldn', \"wouldn't\"] \n",
      "\n",
      "German ------>> ['aber', 'alle', 'allem', 'allen', 'aller', 'alles', 'als', 'also', 'am', 'an', 'ander', 'andere', 'anderem', 'anderen', 'anderer', 'anderes', 'anderm', 'andern', 'anderr', 'anders', 'auch', 'auf', 'aus', 'bei', 'bin', 'bis', 'bist', 'da', 'damit', 'dann', 'der', 'den', 'des', 'dem', 'die', 'das', 'dass', 'daß', 'derselbe', 'derselben', 'denselben', 'desselben', 'demselben', 'dieselbe', 'dieselben', 'dasselbe', 'dazu', 'dein', 'deine', 'deinem', 'deinen', 'deiner', 'deines', 'denn', 'derer', 'dessen', 'dich', 'dir', 'du', 'dies', 'diese', 'diesem', 'diesen', 'dieser', 'dieses', 'doch', 'dort', 'durch', 'ein', 'eine', 'einem', 'einen', 'einer', 'eines', 'einig', 'einige', 'einigem', 'einigen', 'einiger', 'einiges', 'einmal', 'er', 'ihn', 'ihm', 'es', 'etwas', 'euer', 'eure', 'eurem', 'euren', 'eurer', 'eures', 'für', 'gegen', 'gewesen', 'hab', 'habe', 'haben', 'hat', 'hatte', 'hatten', 'hier', 'hin', 'hinter', 'ich', 'mich', 'mir', 'ihr', 'ihre', 'ihrem', 'ihren', 'ihrer', 'ihres', 'euch', 'im', 'in', 'indem', 'ins', 'ist', 'jede', 'jedem', 'jeden', 'jeder', 'jedes', 'jene', 'jenem', 'jenen', 'jener', 'jenes', 'jetzt', 'kann', 'kein', 'keine', 'keinem', 'keinen', 'keiner', 'keines', 'können', 'könnte', 'machen', 'man', 'manche', 'manchem', 'manchen', 'mancher', 'manches', 'mein', 'meine', 'meinem', 'meinen', 'meiner', 'meines', 'mit', 'muss', 'musste', 'nach', 'nicht', 'nichts', 'noch', 'nun', 'nur', 'ob', 'oder', 'ohne', 'sehr', 'sein', 'seine', 'seinem', 'seinen', 'seiner', 'seines', 'selbst', 'sich', 'sie', 'ihnen', 'sind', 'so', 'solche', 'solchem', 'solchen', 'solcher', 'solches', 'soll', 'sollte', 'sondern', 'sonst', 'über', 'um', 'und', 'uns', 'unsere', 'unserem', 'unseren', 'unser', 'unseres', 'unter', 'viel', 'vom', 'von', 'vor', 'während', 'war', 'waren', 'warst', 'was', 'weg', 'weil', 'weiter', 'welche', 'welchem', 'welchen', 'welcher', 'welches', 'wenn', 'werde', 'werden', 'wie', 'wieder', 'will', 'wir', 'wird', 'wirst', 'wo', 'wollen', 'wollte', 'würde', 'würden', 'zu', 'zum', 'zur', 'zwar', 'zwischen'] \n",
      "\n",
      "Russian ------>> ['и', 'в', 'во', 'не', 'что', 'он', 'на', 'я', 'с', 'со', 'как', 'а', 'то', 'все', 'она', 'так', 'его', 'но', 'да', 'ты', 'к', 'у', 'же', 'вы', 'за', 'бы', 'по', 'только', 'ее', 'мне', 'было', 'вот', 'от', 'меня', 'еще', 'нет', 'о', 'из', 'ему', 'теперь', 'когда', 'даже', 'ну', 'вдруг', 'ли', 'если', 'уже', 'или', 'ни', 'быть', 'был', 'него', 'до', 'вас', 'нибудь', 'опять', 'уж', 'вам', 'ведь', 'там', 'потом', 'себя', 'ничего', 'ей', 'может', 'они', 'тут', 'где', 'есть', 'надо', 'ней', 'для', 'мы', 'тебя', 'их', 'чем', 'была', 'сам', 'чтоб', 'без', 'будто', 'чего', 'раз', 'тоже', 'себе', 'под', 'будет', 'ж', 'тогда', 'кто', 'этот', 'того', 'потому', 'этого', 'какой', 'совсем', 'ним', 'здесь', 'этом', 'один', 'почти', 'мой', 'тем', 'чтобы', 'нее', 'сейчас', 'были', 'куда', 'зачем', 'всех', 'никогда', 'можно', 'при', 'наконец', 'два', 'об', 'другой', 'хоть', 'после', 'над', 'больше', 'тот', 'через', 'эти', 'нас', 'про', 'всего', 'них', 'какая', 'много', 'разве', 'три', 'эту', 'моя', 'впрочем', 'хорошо', 'свою', 'этой', 'перед', 'иногда', 'лучше', 'чуть', 'том', 'нельзя', 'такой', 'им', 'более', 'всегда', 'конечно', 'всю', 'между'] \n",
      "\n",
      "Italian ------>> ['ad', 'al', 'allo', 'ai', 'agli', 'all', 'agl', 'alla', 'alle', 'con', 'col', 'coi', 'da', 'dal', 'dallo', 'dai', 'dagli', 'dall', 'dagl', 'dalla', 'dalle', 'di', 'del', 'dello', 'dei', 'degli', 'dell', 'degl', 'della', 'delle', 'in', 'nel', 'nello', 'nei', 'negli', 'nell', 'negl', 'nella', 'nelle', 'su', 'sul', 'sullo', 'sui', 'sugli', 'sull', 'sugl', 'sulla', 'sulle', 'per', 'tra', 'contro', 'io', 'tu', 'lui', 'lei', 'noi', 'voi', 'loro', 'mio', 'mia', 'miei', 'mie', 'tuo', 'tua', 'tuoi', 'tue', 'suo', 'sua', 'suoi', 'sue', 'nostro', 'nostra', 'nostri', 'nostre', 'vostro', 'vostra', 'vostri', 'vostre', 'mi', 'ti', 'ci', 'vi', 'lo', 'la', 'li', 'le', 'gli', 'ne', 'il', 'un', 'uno', 'una', 'ma', 'ed', 'se', 'perché', 'anche', 'come', 'dov', 'dove', 'che', 'chi', 'cui', 'non', 'più', 'quale', 'quanto', 'quanti', 'quanta', 'quante', 'quello', 'quelli', 'quella', 'quelle', 'questo', 'questi', 'questa', 'queste', 'si', 'tutto', 'tutti', 'a', 'c', 'e', 'i', 'l', 'o', 'ho', 'hai', 'ha', 'abbiamo', 'avete', 'hanno', 'abbia', 'abbiate', 'abbiano', 'avrò', 'avrai', 'avrà', 'avremo', 'avrete', 'avranno', 'avrei', 'avresti', 'avrebbe', 'avremmo', 'avreste', 'avrebbero', 'avevo', 'avevi', 'aveva', 'avevamo', 'avevate', 'avevano', 'ebbi', 'avesti', 'ebbe', 'avemmo', 'aveste', 'ebbero', 'avessi', 'avesse', 'avessimo', 'avessero', 'avendo', 'avuto', 'avuta', 'avuti', 'avute', 'sono', 'sei', 'è', 'siamo', 'siete', 'sia', 'siate', 'siano', 'sarò', 'sarai', 'sarà', 'saremo', 'sarete', 'saranno', 'sarei', 'saresti', 'sarebbe', 'saremmo', 'sareste', 'sarebbero', 'ero', 'eri', 'era', 'eravamo', 'eravate', 'erano', 'fui', 'fosti', 'fu', 'fummo', 'foste', 'furono', 'fossi', 'fosse', 'fossimo', 'fossero', 'essendo', 'faccio', 'fai', 'facciamo', 'fanno', 'faccia', 'facciate', 'facciano', 'farò', 'farai', 'farà', 'faremo', 'farete', 'faranno', 'farei', 'faresti', 'farebbe', 'faremmo', 'fareste', 'farebbero', 'facevo', 'facevi', 'faceva', 'facevamo', 'facevate', 'facevano', 'feci', 'facesti', 'fece', 'facemmo', 'faceste', 'fecero', 'facessi', 'facesse', 'facessimo', 'facessero', 'facendo', 'sto', 'stai', 'sta', 'stiamo', 'stanno', 'stia', 'stiate', 'stiano', 'starò', 'starai', 'starà', 'staremo', 'starete', 'staranno', 'starei', 'staresti', 'starebbe', 'staremmo', 'stareste', 'starebbero', 'stavo', 'stavi', 'stava', 'stavamo', 'stavate', 'stavano', 'stetti', 'stesti', 'stette', 'stemmo', 'steste', 'stettero', 'stessi', 'stesse', 'stessimo', 'stessero', 'stando'] \n",
      "\n",
      "Arabic ------>> ['إذ', 'إذا', 'إذما', 'إذن', 'أف', 'أقل', 'أكثر', 'ألا', 'إلا', 'التي', 'الذي', 'الذين', 'اللاتي', 'اللائي', 'اللتان', 'اللتيا', 'اللتين', 'اللذان', 'اللذين', 'اللواتي', 'إلى', 'إليك', 'إليكم', 'إليكما', 'إليكن', 'أم', 'أما', 'أما', 'إما', 'أن', 'إن', 'إنا', 'أنا', 'أنت', 'أنتم', 'أنتما', 'أنتن', 'إنما', 'إنه', 'أنى', 'أنى', 'آه', 'آها', 'أو', 'أولاء', 'أولئك', 'أوه', 'آي', 'أي', 'أيها', 'إي', 'أين', 'أين', 'أينما', 'إيه', 'بخ', 'بس', 'بعد', 'بعض', 'بك', 'بكم', 'بكم', 'بكما', 'بكن', 'بل', 'بلى', 'بما', 'بماذا', 'بمن', 'بنا', 'به', 'بها', 'بهم', 'بهما', 'بهن', 'بي', 'بين', 'بيد', 'تلك', 'تلكم', 'تلكما', 'ته', 'تي', 'تين', 'تينك', 'ثم', 'ثمة', 'حاشا', 'حبذا', 'حتى', 'حيث', 'حيثما', 'حين', 'خلا', 'دون', 'ذا', 'ذات', 'ذاك', 'ذان', 'ذانك', 'ذلك', 'ذلكم', 'ذلكما', 'ذلكن', 'ذه', 'ذو', 'ذوا', 'ذواتا', 'ذواتي', 'ذي', 'ذين', 'ذينك', 'ريث', 'سوف', 'سوى', 'شتان', 'عدا', 'عسى', 'عل', 'على', 'عليك', 'عليه', 'عما', 'عن', 'عند', 'غير', 'فإذا', 'فإن', 'فلا', 'فمن', 'في', 'فيم', 'فيما', 'فيه', 'فيها', 'قد', 'كأن', 'كأنما', 'كأي', 'كأين', 'كذا', 'كذلك', 'كل', 'كلا', 'كلاهما', 'كلتا', 'كلما', 'كليكما', 'كليهما', 'كم', 'كم', 'كما', 'كي', 'كيت', 'كيف', 'كيفما', 'لا', 'لاسيما', 'لدى', 'لست', 'لستم', 'لستما', 'لستن', 'لسن', 'لسنا', 'لعل', 'لك', 'لكم', 'لكما', 'لكن', 'لكنما', 'لكي', 'لكيلا', 'لم', 'لما', 'لن', 'لنا', 'له', 'لها', 'لهم', 'لهما', 'لهن', 'لو', 'لولا', 'لوما', 'لي', 'لئن', 'ليت', 'ليس', 'ليسا', 'ليست', 'ليستا', 'ليسوا', 'ما', 'ماذا', 'متى', 'مذ', 'مع', 'مما', 'ممن', 'من', 'منه', 'منها', 'منذ', 'مه', 'مهما', 'نحن', 'نحو', 'نعم', 'ها', 'هاتان', 'هاته', 'هاتي', 'هاتين', 'هاك', 'هاهنا', 'هذا', 'هذان', 'هذه', 'هذي', 'هذين', 'هكذا', 'هل', 'هلا', 'هم', 'هما', 'هن', 'هنا', 'هناك', 'هنالك', 'هو', 'هؤلاء', 'هي', 'هيا', 'هيت', 'هيهات', 'والذي', 'والذين', 'وإذ', 'وإذا', 'وإن', 'ولا', 'ولكن', 'ولو', 'وما', 'ومن', 'وهو', 'يا', 'أبٌ', 'أخٌ', 'حمٌ', 'فو', 'أنتِ', 'يناير', 'فبراير', 'مارس', 'أبريل', 'مايو', 'يونيو', 'يوليو', 'أغسطس', 'سبتمبر', 'أكتوبر', 'نوفمبر', 'ديسمبر', 'جانفي', 'فيفري', 'مارس', 'أفريل', 'ماي', 'جوان', 'جويلية', 'أوت', 'كانون', 'شباط', 'آذار', 'نيسان', 'أيار', 'حزيران', 'تموز', 'آب', 'أيلول', 'تشرين', 'دولار', 'دينار', 'ريال', 'درهم', 'ليرة', 'جنيه', 'قرش', 'مليم', 'فلس', 'هللة', 'سنتيم', 'يورو', 'ين', 'يوان', 'شيكل', 'واحد', 'اثنان', 'ثلاثة', 'أربعة', 'خمسة', 'ستة', 'سبعة', 'ثمانية', 'تسعة', 'عشرة', 'أحد', 'اثنا', 'اثني', 'إحدى', 'ثلاث', 'أربع', 'خمس', 'ست', 'سبع', 'ثماني', 'تسع', 'عشر', 'ثمان', 'سبت', 'أحد', 'اثنين', 'ثلاثاء', 'أربعاء', 'خميس', 'جمعة', 'أول', 'ثان', 'ثاني', 'ثالث', 'رابع', 'خامس', 'سادس', 'سابع', 'ثامن', 'تاسع', 'عاشر', 'حادي', 'أ', 'ب', 'ت', 'ث', 'ج', 'ح', 'خ', 'د', 'ذ', 'ر', 'ز', 'س', 'ش', 'ص', 'ض', 'ط', 'ظ', 'ع', 'غ', 'ف', 'ق', 'ك', 'ل', 'م', 'ن', 'ه', 'و', 'ي', 'ء', 'ى', 'آ', 'ؤ', 'ئ', 'أ', 'ة', 'ألف', 'باء', 'تاء', 'ثاء', 'جيم', 'حاء', 'خاء', 'دال', 'ذال', 'راء', 'زاي', 'سين', 'شين', 'صاد', 'ضاد', 'طاء', 'ظاء', 'عين', 'غين', 'فاء', 'قاف', 'كاف', 'لام', 'ميم', 'نون', 'هاء', 'واو', 'ياء', 'همزة', 'ي', 'نا', 'ك', 'كن', 'ه', 'إياه', 'إياها', 'إياهما', 'إياهم', 'إياهن', 'إياك', 'إياكما', 'إياكم', 'إياك', 'إياكن', 'إياي', 'إيانا', 'أولالك', 'تانِ', 'تانِك', 'تِه', 'تِي', 'تَيْنِ', 'ثمّ', 'ثمّة', 'ذانِ', 'ذِه', 'ذِي', 'ذَيْنِ', 'هَؤلاء', 'هَاتانِ', 'هَاتِه', 'هَاتِي', 'هَاتَيْنِ', 'هَذا', 'هَذانِ', 'هَذِه', 'هَذِي', 'هَذَيْنِ', 'الألى', 'الألاء', 'أل', 'أنّى', 'أيّ', 'ّأيّان', 'أنّى', 'أيّ', 'ّأيّان', 'ذيت', 'كأيّ', 'كأيّن', 'بضع', 'فلان', 'وا', 'آمينَ', 'آهِ', 'آهٍ', 'آهاً', 'أُفٍّ', 'أُفٍّ', 'أفٍّ', 'أمامك', 'أمامكَ', 'أوّهْ', 'إلَيْكَ', 'إلَيْكَ', 'إليكَ', 'إليكنّ', 'إيهٍ', 'بخٍ', 'بسّ', 'بَسْ', 'بطآن', 'بَلْهَ', 'حاي', 'حَذارِ', 'حيَّ', 'حيَّ', 'دونك', 'رويدك', 'سرعان', 'شتانَ', 'شَتَّانَ', 'صهْ', 'صهٍ', 'طاق', 'طَق', 'عَدَسْ', 'كِخ', 'مكانَك', 'مكانَك', 'مكانَك', 'مكانكم', 'مكانكما', 'مكانكنّ', 'نَخْ', 'هاكَ', 'هَجْ', 'هلم', 'هيّا', 'هَيْهات', 'وا', 'واهاً', 'وراءَك', 'وُشْكَانَ', 'وَيْ', 'يفعلان', 'تفعلان', 'يفعلون', 'تفعلون', 'تفعلين', 'اتخذ', 'ألفى', 'تخذ', 'ترك', 'تعلَّم', 'جعل', 'حجا', 'حبيب', 'خال', 'حسب', 'خال', 'درى', 'رأى', 'زعم', 'صبر', 'ظنَّ', 'عدَّ', 'علم', 'غادر', 'ذهب', 'وجد', 'ورد', 'وهب', 'أسكن', 'أطعم', 'أعطى', 'رزق', 'زود', 'سقى', 'كسا', 'أخبر', 'أرى', 'أعلم', 'أنبأ', 'حدَث', 'خبَّر', 'نبَّا', 'أفعل به', 'ما أفعله', 'بئس', 'ساء', 'طالما', 'قلما', 'لات', 'لكنَّ', 'ءَ', 'أجل', 'إذاً', 'أمّا', 'إمّا', 'إنَّ', 'أنًّ', 'أى', 'إى', 'أيا', 'ب', 'ثمَّ', 'جلل', 'جير', 'رُبَّ', 'س', 'علًّ', 'ف', 'كأنّ', 'كلَّا', 'كى', 'ل', 'لات', 'لعلَّ', 'لكنَّ', 'لكنَّ', 'م', 'نَّ', 'هلّا', 'وا', 'أل', 'إلّا', 'ت', 'ك', 'لمّا', 'ن', 'ه', 'و', 'ا', 'ي', 'تجاه', 'تلقاء', 'جميع', 'حسب', 'سبحان', 'شبه', 'لعمر', 'مثل', 'معاذ', 'أبو', 'أخو', 'حمو', 'فو', 'مئة', 'مئتان', 'ثلاثمئة', 'أربعمئة', 'خمسمئة', 'ستمئة', 'سبعمئة', 'ثمنمئة', 'تسعمئة', 'مائة', 'ثلاثمائة', 'أربعمائة', 'خمسمائة', 'ستمائة', 'سبعمائة', 'ثمانمئة', 'تسعمائة', 'عشرون', 'ثلاثون', 'اربعون', 'خمسون', 'ستون', 'سبعون', 'ثمانون', 'تسعون', 'عشرين', 'ثلاثين', 'اربعين', 'خمسين', 'ستين', 'سبعين', 'ثمانين', 'تسعين', 'بضع', 'نيف', 'أجمع', 'جميع', 'عامة', 'عين', 'نفس', 'لا سيما', 'أصلا', 'أهلا', 'أيضا', 'بؤسا', 'بعدا', 'بغتة', 'تعسا', 'حقا', 'حمدا', 'خلافا', 'خاصة', 'دواليك', 'سحقا', 'سرا', 'سمعا', 'صبرا', 'صدقا', 'صراحة', 'طرا', 'عجبا', 'عيانا', 'غالبا', 'فرادى', 'فضلا', 'قاطبة', 'كثيرا', 'لبيك', 'معاذ', 'أبدا', 'إزاء', 'أصلا', 'الآن', 'أمد', 'أمس', 'آنفا', 'آناء', 'أنّى', 'أول', 'أيّان', 'تارة', 'ثمّ', 'ثمّة', 'حقا', 'صباح', 'مساء', 'ضحوة', 'عوض', 'غدا', 'غداة', 'قطّ', 'كلّما', 'لدن', 'لمّا', 'مرّة', 'قبل', 'خلف', 'أمام', 'فوق', 'تحت', 'يمين', 'شمال', 'ارتدّ', 'استحال', 'أصبح', 'أضحى', 'آض', 'أمسى', 'انقلب', 'بات', 'تبدّل', 'تحوّل', 'حار', 'رجع', 'راح', 'صار', 'ظلّ', 'عاد', 'غدا', 'كان', 'ما انفك', 'ما برح', 'مادام', 'مازال', 'مافتئ', 'ابتدأ', 'أخذ', 'اخلولق', 'أقبل', 'انبرى', 'أنشأ', 'أوشك', 'جعل', 'حرى', 'شرع', 'طفق', 'علق', 'قام', 'كرب', 'كاد', 'هبّ'] \n",
      "\n",
      "French ------>> ['au', 'aux', 'avec', 'ce', 'ces', 'dans', 'de', 'des', 'du', 'elle', 'en', 'et', 'eux', 'il', 'ils', 'je', 'la', 'le', 'les', 'leur', 'lui', 'ma', 'mais', 'me', 'même', 'mes', 'moi', 'mon', 'ne', 'nos', 'notre', 'nous', 'on', 'ou', 'par', 'pas', 'pour', 'qu', 'que', 'qui', 'sa', 'se', 'ses', 'son', 'sur', 'ta', 'te', 'tes', 'toi', 'ton', 'tu', 'un', 'une', 'vos', 'votre', 'vous', 'c', 'd', 'j', 'l', 'à', 'm', 'n', 's', 't', 'y', 'été', 'étée', 'étées', 'étés', 'étant', 'étante', 'étants', 'étantes', 'suis', 'es', 'est', 'sommes', 'êtes', 'sont', 'serai', 'seras', 'sera', 'serons', 'serez', 'seront', 'serais', 'serait', 'serions', 'seriez', 'seraient', 'étais', 'était', 'étions', 'étiez', 'étaient', 'fus', 'fut', 'fûmes', 'fûtes', 'furent', 'sois', 'soit', 'soyons', 'soyez', 'soient', 'fusse', 'fusses', 'fût', 'fussions', 'fussiez', 'fussent', 'ayant', 'ayante', 'ayantes', 'ayants', 'eu', 'eue', 'eues', 'eus', 'ai', 'as', 'avons', 'avez', 'ont', 'aurai', 'auras', 'aura', 'aurons', 'aurez', 'auront', 'aurais', 'aurait', 'aurions', 'auriez', 'auraient', 'avais', 'avait', 'avions', 'aviez', 'avaient', 'eut', 'eûmes', 'eûtes', 'eurent', 'aie', 'aies', 'ait', 'ayons', 'ayez', 'aient', 'eusse', 'eusses', 'eût', 'eussions', 'eussiez', 'eussent'] \n",
      "\n",
      "Swedish ------>> ['och', 'det', 'att', 'i', 'en', 'jag', 'hon', 'som', 'han', 'på', 'den', 'med', 'var', 'sig', 'för', 'så', 'till', 'är', 'men', 'ett', 'om', 'hade', 'de', 'av', 'icke', 'mig', 'du', 'henne', 'då', 'sin', 'nu', 'har', 'inte', 'hans', 'honom', 'skulle', 'hennes', 'där', 'min', 'man', 'ej', 'vid', 'kunde', 'något', 'från', 'ut', 'när', 'efter', 'upp', 'vi', 'dem', 'vara', 'vad', 'över', 'än', 'dig', 'kan', 'sina', 'här', 'ha', 'mot', 'alla', 'under', 'någon', 'eller', 'allt', 'mycket', 'sedan', 'ju', 'denna', 'själv', 'detta', 'åt', 'utan', 'varit', 'hur', 'ingen', 'mitt', 'ni', 'bli', 'blev', 'oss', 'din', 'dessa', 'några', 'deras', 'blir', 'mina', 'samma', 'vilken', 'er', 'sådan', 'vår', 'blivit', 'dess', 'inom', 'mellan', 'sådant', 'varför', 'varje', 'vilka', 'ditt', 'vem', 'vilket', 'sitta', 'sådana', 'vart', 'dina', 'vars', 'vårt', 'våra', 'ert', 'era', 'vilkas'] \n",
      "\n",
      "Spanish ------>> ['de', 'la', 'que', 'el', 'en', 'y', 'a', 'los', 'del', 'se', 'las', 'por', 'un', 'para', 'con', 'no', 'una', 'su', 'al', 'lo', 'como', 'más', 'pero', 'sus', 'le', 'ya', 'o', 'este', 'sí', 'porque', 'esta', 'entre', 'cuando', 'muy', 'sin', 'sobre', 'también', 'me', 'hasta', 'hay', 'donde', 'quien', 'desde', 'todo', 'nos', 'durante', 'todos', 'uno', 'les', 'ni', 'contra', 'otros', 'ese', 'eso', 'ante', 'ellos', 'e', 'esto', 'mí', 'antes', 'algunos', 'qué', 'unos', 'yo', 'otro', 'otras', 'otra', 'él', 'tanto', 'esa', 'estos', 'mucho', 'quienes', 'nada', 'muchos', 'cual', 'poco', 'ella', 'estar', 'estas', 'algunas', 'algo', 'nosotros', 'mi', 'mis', 'tú', 'te', 'ti', 'tu', 'tus', 'ellas', 'nosotras', 'vosotros', 'vosotras', 'os', 'mío', 'mía', 'míos', 'mías', 'tuyo', 'tuya', 'tuyos', 'tuyas', 'suyo', 'suya', 'suyos', 'suyas', 'nuestro', 'nuestra', 'nuestros', 'nuestras', 'vuestro', 'vuestra', 'vuestros', 'vuestras', 'esos', 'esas', 'estoy', 'estás', 'está', 'estamos', 'estáis', 'están', 'esté', 'estés', 'estemos', 'estéis', 'estén', 'estaré', 'estarás', 'estará', 'estaremos', 'estaréis', 'estarán', 'estaría', 'estarías', 'estaríamos', 'estaríais', 'estarían', 'estaba', 'estabas', 'estábamos', 'estabais', 'estaban', 'estuve', 'estuviste', 'estuvo', 'estuvimos', 'estuvisteis', 'estuvieron', 'estuviera', 'estuvieras', 'estuviéramos', 'estuvierais', 'estuvieran', 'estuviese', 'estuvieses', 'estuviésemos', 'estuvieseis', 'estuviesen', 'estando', 'estado', 'estada', 'estados', 'estadas', 'estad', 'he', 'has', 'ha', 'hemos', 'habéis', 'han', 'haya', 'hayas', 'hayamos', 'hayáis', 'hayan', 'habré', 'habrás', 'habrá', 'habremos', 'habréis', 'habrán', 'habría', 'habrías', 'habríamos', 'habríais', 'habrían', 'había', 'habías', 'habíamos', 'habíais', 'habían', 'hube', 'hubiste', 'hubo', 'hubimos', 'hubisteis', 'hubieron', 'hubiera', 'hubieras', 'hubiéramos', 'hubierais', 'hubieran', 'hubiese', 'hubieses', 'hubiésemos', 'hubieseis', 'hubiesen', 'habiendo', 'habido', 'habida', 'habidos', 'habidas', 'soy', 'eres', 'es', 'somos', 'sois', 'son', 'sea', 'seas', 'seamos', 'seáis', 'sean', 'seré', 'serás', 'será', 'seremos', 'seréis', 'serán', 'sería', 'serías', 'seríamos', 'seríais', 'serían', 'era', 'eras', 'éramos', 'erais', 'eran', 'fui', 'fuiste', 'fue', 'fuimos', 'fuisteis', 'fueron', 'fuera', 'fueras', 'fuéramos', 'fuerais', 'fueran', 'fuese', 'fueses', 'fuésemos', 'fueseis', 'fuesen', 'sintiendo', 'sentido', 'sentida', 'sentidos', 'sentidas', 'siente', 'sentid', 'tengo', 'tienes', 'tiene', 'tenemos', 'tenéis', 'tienen', 'tenga', 'tengas', 'tengamos', 'tengáis', 'tengan', 'tendré', 'tendrás', 'tendrá', 'tendremos', 'tendréis', 'tendrán', 'tendría', 'tendrías', 'tendríamos', 'tendríais', 'tendrían', 'tenía', 'tenías', 'teníamos', 'teníais', 'tenían', 'tuve', 'tuviste', 'tuvo', 'tuvimos', 'tuvisteis', 'tuvieron', 'tuviera', 'tuvieras', 'tuviéramos', 'tuvierais', 'tuvieran', 'tuviese', 'tuvieses', 'tuviésemos', 'tuvieseis', 'tuviesen', 'teniendo', 'tenido', 'tenida', 'tenidos', 'tenidas', 'tened'] \n",
      "\n",
      "Norwegian ------>> ['og', 'i', 'jeg', 'det', 'at', 'en', 'et', 'den', 'til', 'er', 'som', 'på', 'de', 'med', 'han', 'av', 'ikke', 'ikkje', 'der', 'så', 'var', 'meg', 'seg', 'men', 'ett', 'har', 'om', 'vi', 'min', 'mitt', 'ha', 'hadde', 'hun', 'nå', 'over', 'da', 'ved', 'fra', 'du', 'ut', 'sin', 'dem', 'oss', 'opp', 'man', 'kan', 'hans', 'hvor', 'eller', 'hva', 'skal', 'selv', 'sjøl', 'her', 'alle', 'vil', 'bli', 'ble', 'blei', 'blitt', 'kunne', 'inn', 'når', 'være', 'kom', 'noen', 'noe', 'ville', 'dere', 'som', 'deres', 'kun', 'ja', 'etter', 'ned', 'skulle', 'denne', 'for', 'deg', 'si', 'sine', 'sitt', 'mot', 'å', 'meget', 'hvorfor', 'dette', 'disse', 'uten', 'hvordan', 'ingen', 'din', 'ditt', 'blir', 'samme', 'hvilken', 'hvilke', 'sånn', 'inni', 'mellom', 'vår', 'hver', 'hvem', 'vors', 'hvis', 'både', 'bare', 'enn', 'fordi', 'før', 'mange', 'også', 'slik', 'vært', 'være', 'båe', 'begge', 'siden', 'dykk', 'dykkar', 'dei', 'deira', 'deires', 'deim', 'di', 'då', 'eg', 'ein', 'eit', 'eitt', 'elles', 'honom', 'hjå', 'ho', 'hoe', 'henne', 'hennar', 'hennes', 'hoss', 'hossen', 'ikkje', 'ingi', 'inkje', 'korleis', 'korso', 'kva', 'kvar', 'kvarhelst', 'kven', 'kvi', 'kvifor', 'me', 'medan', 'mi', 'mine', 'mykje', 'no', 'nokon', 'noka', 'nokor', 'noko', 'nokre', 'si', 'sia', 'sidan', 'so', 'somt', 'somme', 'um', 'upp', 'vere', 'vore', 'verte', 'vort', 'varte', 'vart'] \n",
      "\n",
      "Romanian ------>> ['a', 'abia', 'acea', 'aceasta', 'această', 'aceea', 'aceeasi', 'acei', 'aceia', 'acel', 'acela', 'acelasi', 'acele', 'acelea', 'acest', 'acesta', 'aceste', 'acestea', 'acestei', 'acestia', 'acestui', 'aceşti', 'aceştia', 'adica', 'ai', 'aia', 'aibă', 'aici', 'al', 'ala', 'ale', 'alea', 'alt', 'alta', 'altceva', 'altcineva', 'alte', 'altfel', 'alti', 'altii', 'altul', 'am', 'anume', 'apoi', 'ar', 'are', 'as', 'asa', 'asta', 'astea', 'astfel', 'asupra', 'atare', 'atat', 'atata', 'atatea', 'atatia', 'ati', 'atit', 'atita', 'atitea', 'atitia', 'atunci', 'au', 'avea', 'avem', 'aveţi', 'avut', 'aş', 'aţi', 'ba', 'ca', 'cam', 'cand', 'care', 'careia', 'carora', 'caruia', 'cat', 'catre', 'ce', 'cea', 'ceea', 'cei', 'ceilalti', 'cel', 'cele', 'celor', 'ceva', 'chiar', 'ci', 'cind', 'cine', 'cineva', 'cit', 'cita', 'cite', 'citeva', 'citi', 'citiva', 'cu', 'cui', 'cum', 'cumva', 'cât', 'câte', 'câtva', 'câţi', 'cînd', 'cît', 'cîte', 'cîtva', 'cîţi', 'că', 'căci', 'cărei', 'căror', 'cărui', 'către', 'da', 'daca', 'dacă', 'dar', 'dat', 'dată', 'dau', 'de', 'deasupra', 'deci', 'decit', 'deja', 'desi', 'despre', 'deşi', 'din', 'dintr', 'dintr-', 'dintre', 'doar', 'doi', 'doilea', 'două', 'drept', 'dupa', 'după', 'dă', 'e', 'ea', 'ei', 'el', 'ele', 'era', 'eram', 'este', 'eu', 'eşti', 'face', 'fara', 'fata', 'fel', 'fi', 'fie', 'fiecare', 'fii', 'fim', 'fiu', 'fiţi', 'foarte', 'fost', 'fără', 'i', 'ia', 'iar', 'ii', 'il', 'imi', 'in', 'inainte', 'inapoi', 'inca', 'incit', 'insa', 'intr', 'intre', 'isi', 'iti', 'la', 'le', 'li', 'lor', 'lui', 'lângă', 'lîngă', 'm', 'ma', 'mai', 'mea', 'mei', 'mele', 'mereu', 'meu', 'mi', 'mie', 'mine', 'mod', 'mult', 'multa', 'multe', 'multi', 'multă', 'mulţi', 'mâine', 'mîine', 'mă', 'ne', 'ni', 'nici', 'nimeni', 'nimic', 'niste', 'nişte', 'noastre', 'noastră', 'noi', 'nostri', 'nostru', 'nou', 'noua', 'nouă', 'noştri', 'nu', 'numai', 'o', 'or', 'ori', 'oricare', 'orice', 'oricine', 'oricum', 'oricând', 'oricât', 'oricînd', 'oricît', 'oriunde', 'pai', 'parca', 'patra', 'patru', 'pe', 'pentru', 'peste', 'pic', 'pina', 'poate', 'pot', 'prea', 'prima', 'primul', 'prin', 'printr-', 'putini', 'puţin', 'puţina', 'puţină', 'până', 'pînă', 'sa', 'sa-mi', 'sa-ti', 'sai', 'sale', 'sau', 'se', 'si', 'sint', 'sintem', 'spate', 'spre', 'sub', 'sunt', 'suntem', 'sunteţi', 'sus', 'să', 'săi', 'său', 't', 'ta', 'tale', 'te', 'ti', 'tine', 'toata', 'toate', 'toată', 'tocmai', 'tot', 'toti', 'totul', 'totusi', 'totuşi', 'toţi', 'trei', 'treia', 'treilea', 'tu', 'tuturor', 'tăi', 'tău', 'u', 'ul', 'ului', 'un', 'una', 'unde', 'undeva', 'unei', 'uneia', 'unele', 'uneori', 'unii', 'unor', 'unora', 'unu', 'unui', 'unuia', 'unul', 'v', 'va', 'vi', 'voastre', 'voastră', 'voi', 'vom', 'vor', 'vostru', 'vouă', 'voştri', 'vreo', 'vreun', 'vă', 'zi', 'zice', 'îi', 'îl', 'îmi', 'în', 'îţi', 'ăla', 'ălea', 'ăsta', 'ăstea', 'ăştia', 'şi', 'ţi', 'ţie'] \n",
      "\n",
      "Portuguese ------>> ['de', 'a', 'o', 'que', 'e', 'é', 'do', 'da', 'em', 'um', 'para', 'com', 'não', 'uma', 'os', 'no', 'se', 'na', 'por', 'mais', 'as', 'dos', 'como', 'mas', 'ao', 'ele', 'das', 'à', 'seu', 'sua', 'ou', 'quando', 'muito', 'nos', 'já', 'eu', 'também', 'só', 'pelo', 'pela', 'até', 'isso', 'ela', 'entre', 'depois', 'sem', 'mesmo', 'aos', 'seus', 'quem', 'nas', 'me', 'esse', 'eles', 'você', 'essa', 'num', 'nem', 'suas', 'meu', 'às', 'minha', 'numa', 'pelos', 'elas', 'qual', 'nós', 'lhe', 'deles', 'essas', 'esses', 'pelas', 'este', 'dele', 'tu', 'te', 'vocês', 'vos', 'lhes', 'meus', 'minhas', 'teu', 'tua', 'teus', 'tuas', 'nosso', 'nossa', 'nossos', 'nossas', 'dela', 'delas', 'esta', 'estes', 'estas', 'aquele', 'aquela', 'aqueles', 'aquelas', 'isto', 'aquilo', 'estou', 'está', 'estamos', 'estão', 'estive', 'esteve', 'estivemos', 'estiveram', 'estava', 'estávamos', 'estavam', 'estivera', 'estivéramos', 'esteja', 'estejamos', 'estejam', 'estivesse', 'estivéssemos', 'estivessem', 'estiver', 'estivermos', 'estiverem', 'hei', 'há', 'havemos', 'hão', 'houve', 'houvemos', 'houveram', 'houvera', 'houvéramos', 'haja', 'hajamos', 'hajam', 'houvesse', 'houvéssemos', 'houvessem', 'houver', 'houvermos', 'houverem', 'houverei', 'houverá', 'houveremos', 'houverão', 'houveria', 'houveríamos', 'houveriam', 'sou', 'somos', 'são', 'era', 'éramos', 'eram', 'fui', 'foi', 'fomos', 'foram', 'fora', 'fôramos', 'seja', 'sejamos', 'sejam', 'fosse', 'fôssemos', 'fossem', 'for', 'formos', 'forem', 'serei', 'será', 'seremos', 'serão', 'seria', 'seríamos', 'seriam', 'tenho', 'tem', 'temos', 'tém', 'tinha', 'tínhamos', 'tinham', 'tive', 'teve', 'tivemos', 'tiveram', 'tivera', 'tivéramos', 'tenha', 'tenhamos', 'tenham', 'tivesse', 'tivéssemos', 'tivessem', 'tiver', 'tivermos', 'tiverem', 'terei', 'terá', 'teremos', 'terão', 'teria', 'teríamos', 'teriam'] \n",
      "\n",
      "Dutch ------>> ['de', 'en', 'van', 'ik', 'te', 'dat', 'die', 'in', 'een', 'hij', 'het', 'niet', 'zijn', 'is', 'was', 'op', 'aan', 'met', 'als', 'voor', 'had', 'er', 'maar', 'om', 'hem', 'dan', 'zou', 'of', 'wat', 'mijn', 'men', 'dit', 'zo', 'door', 'over', 'ze', 'zich', 'bij', 'ook', 'tot', 'je', 'mij', 'uit', 'der', 'daar', 'haar', 'naar', 'heb', 'hoe', 'heeft', 'hebben', 'deze', 'u', 'want', 'nog', 'zal', 'me', 'zij', 'nu', 'ge', 'geen', 'omdat', 'iets', 'worden', 'toch', 'al', 'waren', 'veel', 'meer', 'doen', 'toen', 'moet', 'ben', 'zonder', 'kan', 'hun', 'dus', 'alles', 'onder', 'ja', 'eens', 'hier', 'wie', 'werd', 'altijd', 'doch', 'wordt', 'wezen', 'kunnen', 'ons', 'zelf', 'tegen', 'na', 'reeds', 'wil', 'kon', 'niets', 'uw', 'iemand', 'geweest', 'andere'] \n",
      "\n",
      "Turkish ------>> ['acaba', 'ama', 'aslında', 'az', 'bazı', 'belki', 'biri', 'birkaç', 'birşey', 'biz', 'bu', 'çok', 'çünkü', 'da', 'daha', 'de', 'defa', 'diye', 'eğer', 'en', 'gibi', 'hem', 'hep', 'hepsi', 'her', 'hiç', 'için', 'ile', 'ise', 'kez', 'ki', 'kim', 'mı', 'mu', 'mü', 'nasıl', 'ne', 'neden', 'nerde', 'nerede', 'nereye', 'niçin', 'niye', 'o', 'sanki', 'şey', 'siz', 'şu', 'tüm', 've', 'veya', 'ya', 'yani'] \n",
      "\n",
      "Hungarian ------>> ['a', 'ahogy', 'ahol', 'aki', 'akik', 'akkor', 'alatt', 'által', 'általában', 'amely', 'amelyek', 'amelyekben', 'amelyeket', 'amelyet', 'amelynek', 'ami', 'amit', 'amolyan', 'amíg', 'amikor', 'át', 'abban', 'ahhoz', 'annak', 'arra', 'arról', 'az', 'azok', 'azon', 'azt', 'azzal', 'azért', 'aztán', 'azután', 'azonban', 'bár', 'be', 'belül', 'benne', 'cikk', 'cikkek', 'cikkeket', 'csak', 'de', 'e', 'eddig', 'egész', 'egy', 'egyes', 'egyetlen', 'egyéb', 'egyik', 'egyre', 'ekkor', 'el', 'elég', 'ellen', 'elõ', 'elõször', 'elõtt', 'elsõ', 'én', 'éppen', 'ebben', 'ehhez', 'emilyen', 'ennek', 'erre', 'ez', 'ezt', 'ezek', 'ezen', 'ezzel', 'ezért', 'és', 'fel', 'felé', 'hanem', 'hiszen', 'hogy', 'hogyan', 'igen', 'így', 'illetve', 'ill.', 'ill', 'ilyen', 'ilyenkor', 'ison', 'ismét', 'itt', 'jó', 'jól', 'jobban', 'kell', 'kellett', 'keresztül', 'keressünk', 'ki', 'kívül', 'között', 'közül', 'legalább', 'lehet', 'lehetett', 'legyen', 'lenne', 'lenni', 'lesz', 'lett', 'maga', 'magát', 'majd', 'majd', 'már', 'más', 'másik', 'meg', 'még', 'mellett', 'mert', 'mely', 'melyek', 'mi', 'mit', 'míg', 'miért', 'milyen', 'mikor', 'minden', 'mindent', 'mindenki', 'mindig', 'mint', 'mintha', 'mivel', 'most', 'nagy', 'nagyobb', 'nagyon', 'ne', 'néha', 'nekem', 'neki', 'nem', 'néhány', 'nélkül', 'nincs', 'olyan', 'ott', 'össze', 'õ', 'õk', 'õket', 'pedig', 'persze', 'rá', 's', 'saját', 'sem', 'semmi', 'sok', 'sokat', 'sokkal', 'számára', 'szemben', 'szerint', 'szinte', 'talán', 'tehát', 'teljes', 'tovább', 'továbbá', 'több', 'úgy', 'ugyanis', 'új', 'újabb', 'újra', 'után', 'utána', 'utolsó', 'vagy', 'vagyis', 'valaki', 'valami', 'valamint', 'való', 'vagyok', 'van', 'vannak', 'volt', 'voltam', 'voltak', 'voltunk', 'vissza', 'vele', 'viszont', 'volna'] \n",
      "\n",
      "Finnish ------>> ['olla', 'olen', 'olet', 'on', 'olemme', 'olette', 'ovat', 'ole', 'oli', 'olisi', 'olisit', 'olisin', 'olisimme', 'olisitte', 'olisivat', 'olit', 'olin', 'olimme', 'olitte', 'olivat', 'ollut', 'olleet', 'en', 'et', 'ei', 'emme', 'ette', 'eivät', 'minä', 'minun', 'minut', 'minua', 'minussa', 'minusta', 'minuun', 'minulla', 'minulta', 'minulle', 'sinä', 'sinun', 'sinut', 'sinua', 'sinussa', 'sinusta', 'sinuun', 'sinulla', 'sinulta', 'sinulle', 'hän', 'hänen', 'hänet', 'häntä', 'hänessä', 'hänestä', 'häneen', 'hänellä', 'häneltä', 'hänelle', 'me', 'meidän', 'meidät', 'meitä', 'meissä', 'meistä', 'meihin', 'meillä', 'meiltä', 'meille', 'te', 'teidän', 'teidät', 'teitä', 'teissä', 'teistä', 'teihin', 'teillä', 'teiltä', 'teille', 'he', 'heidän', 'heidät', 'heitä', 'heissä', 'heistä', 'heihin', 'heillä', 'heiltä', 'heille', 'tämä', 'tämän', 'tätä', 'tässä', 'tästä', 'tähän', 'tallä', 'tältä', 'tälle', 'tänä', 'täksi', 'tuo', 'tuon', 'tuotä', 'tuossa', 'tuosta', 'tuohon', 'tuolla', 'tuolta', 'tuolle', 'tuona', 'tuoksi', 'se', 'sen', 'sitä', 'siinä', 'siitä', 'siihen', 'sillä', 'siltä', 'sille', 'sinä', 'siksi', 'nämä', 'näiden', 'näitä', 'näissä', 'näistä', 'näihin', 'näillä', 'näiltä', 'näille', 'näinä', 'näiksi', 'nuo', 'noiden', 'noita', 'noissa', 'noista', 'noihin', 'noilla', 'noilta', 'noille', 'noina', 'noiksi', 'ne', 'niiden', 'niitä', 'niissä', 'niistä', 'niihin', 'niillä', 'niiltä', 'niille', 'niinä', 'niiksi', 'kuka', 'kenen', 'kenet', 'ketä', 'kenessä', 'kenestä', 'keneen', 'kenellä', 'keneltä', 'kenelle', 'kenenä', 'keneksi', 'ketkä', 'keiden', 'ketkä', 'keitä', 'keissä', 'keistä', 'keihin', 'keillä', 'keiltä', 'keille', 'keinä', 'keiksi', 'mikä', 'minkä', 'minkä', 'mitä', 'missä', 'mistä', 'mihin', 'millä', 'miltä', 'mille', 'minä', 'miksi', 'mitkä', 'joka', 'jonka', 'jota', 'jossa', 'josta', 'johon', 'jolla', 'jolta', 'jolle', 'jona', 'joksi', 'jotka', 'joiden', 'joita', 'joissa', 'joista', 'joihin', 'joilla', 'joilta', 'joille', 'joina', 'joiksi', 'että', 'ja', 'jos', 'koska', 'kuin', 'mutta', 'niin', 'sekä', 'sillä', 'tai', 'vaan', 'vai', 'vaikka', 'kanssa', 'mukaan', 'noin', 'poikki', 'yli', 'kun', 'niin', 'nyt', 'itse'] \n",
      "\n",
      "Danish ------>> ['og', 'i', 'jeg', 'det', 'at', 'en', 'den', 'til', 'er', 'som', 'på', 'de', 'med', 'han', 'af', 'for', 'ikke', 'der', 'var', 'mig', 'sig', 'men', 'et', 'har', 'om', 'vi', 'min', 'havde', 'ham', 'hun', 'nu', 'over', 'da', 'fra', 'du', 'ud', 'sin', 'dem', 'os', 'op', 'man', 'hans', 'hvor', 'eller', 'hvad', 'skal', 'selv', 'her', 'alle', 'vil', 'blev', 'kunne', 'ind', 'når', 'være', 'dog', 'noget', 'ville', 'jo', 'deres', 'efter', 'ned', 'skulle', 'denne', 'end', 'dette', 'mit', 'også', 'under', 'have', 'dig', 'anden', 'hende', 'mine', 'alt', 'meget', 'sit', 'sine', 'vor', 'mod', 'disse', 'hvis', 'din', 'nogle', 'hos', 'blive', 'mange', 'ad', 'bliver', 'hendes', 'været', 'thi', 'jer', 'sådan'] \n",
      "\n",
      "Indonesian ------>> ['ada', 'adalah', 'adanya', 'adapun', 'agak', 'agaknya', 'agar', 'akan', 'akankah', 'akhir', 'akhiri', 'akhirnya', 'aku', 'akulah', 'amat', 'amatlah', 'anda', 'andalah', 'antar', 'antara', 'antaranya', 'apa', 'apaan', 'apabila', 'apakah', 'apalagi', 'apatah', 'artinya', 'asal', 'asalkan', 'atas', 'atau', 'ataukah', 'ataupun', 'awal', 'awalnya', 'bagai', 'bagaikan', 'bagaimana', 'bagaimanakah', 'bagaimanapun', 'bagi', 'bagian', 'bahkan', 'bahwa', 'bahwasanya', 'baik', 'bakal', 'bakalan', 'balik', 'banyak', 'bapak', 'baru', 'bawah', 'beberapa', 'begini', 'beginian', 'beginikah', 'beginilah', 'begitu', 'begitukah', 'begitulah', 'begitupun', 'bekerja', 'belakang', 'belakangan', 'belum', 'belumlah', 'benar', 'benarkah', 'benarlah', 'berada', 'berakhir', 'berakhirlah', 'berakhirnya', 'berapa', 'berapakah', 'berapalah', 'berapapun', 'berarti', 'berawal', 'berbagai', 'berdatangan', 'beri', 'berikan', 'berikut', 'berikutnya', 'berjumlah', 'berkali-kali', 'berkata', 'berkehendak', 'berkeinginan', 'berkenaan', 'berlainan', 'berlalu', 'berlangsung', 'berlebihan', 'bermacam', 'bermacam-macam', 'bermaksud', 'bermula', 'bersama', 'bersama-sama', 'bersiap', 'bersiap-siap', 'bertanya', 'bertanya-tanya', 'berturut', 'berturut-turut', 'bertutur', 'berujar', 'berupa', 'besar', 'betul', 'betulkah', 'biasa', 'biasanya', 'bila', 'bilakah', 'bisa', 'bisakah', 'boleh', 'bolehkah', 'bolehlah', 'buat', 'bukan', 'bukankah', 'bukanlah', 'bukannya', 'bulan', 'bung', 'cara', 'caranya', 'cukup', 'cukupkah', 'cukuplah', 'cuma', 'dahulu', 'dalam', 'dan', 'dapat', 'dari', 'daripada', 'datang', 'dekat', 'demi', 'demikian', 'demikianlah', 'dengan', 'depan', 'di', 'dia', 'diakhiri', 'diakhirinya', 'dialah', 'diantara', 'diantaranya', 'diberi', 'diberikan', 'diberikannya', 'dibuat', 'dibuatnya', 'didapat', 'didatangkan', 'digunakan', 'diibaratkan', 'diibaratkannya', 'diingat', 'diingatkan', 'diinginkan', 'dijawab', 'dijelaskan', 'dijelaskannya', 'dikarenakan', 'dikatakan', 'dikatakannya', 'dikerjakan', 'diketahui', 'diketahuinya', 'dikira', 'dilakukan', 'dilalui', 'dilihat', 'dimaksud', 'dimaksudkan', 'dimaksudkannya', 'dimaksudnya', 'diminta', 'dimintai', 'dimisalkan', 'dimulai', 'dimulailah', 'dimulainya', 'dimungkinkan', 'dini', 'dipastikan', 'diperbuat', 'diperbuatnya', 'dipergunakan', 'diperkirakan', 'diperlihatkan', 'diperlukan', 'diperlukannya', 'dipersoalkan', 'dipertanyakan', 'dipunyai', 'diri', 'dirinya', 'disampaikan', 'disebut', 'disebutkan', 'disebutkannya', 'disini', 'disinilah', 'ditambahkan', 'ditandaskan', 'ditanya', 'ditanyai', 'ditanyakan', 'ditegaskan', 'ditujukan', 'ditunjuk', 'ditunjuki', 'ditunjukkan', 'ditunjukkannya', 'ditunjuknya', 'dituturkan', 'dituturkannya', 'diucapkan', 'diucapkannya', 'diungkapkan', 'dong', 'dua', 'dulu', 'empat', 'enggak', 'enggaknya', 'entah', 'entahlah', 'guna', 'gunakan', 'hal', 'hampir', 'hanya', 'hanyalah', 'hari', 'harus', 'haruslah', 'harusnya', 'hendak', 'hendaklah', 'hendaknya', 'hingga', 'ia', 'ialah', 'ibarat', 'ibaratkan', 'ibaratnya', 'ibu', 'ikut', 'ingat', 'ingat-ingat', 'ingin', 'inginkah', 'inginkan', 'ini', 'inikah', 'inilah', 'itu', 'itukah', 'itulah', 'jadi', 'jadilah', 'jadinya', 'jangan', 'jangankan', 'janganlah', 'jauh', 'jawab', 'jawaban', 'jawabnya', 'jelas', 'jelaskan', 'jelaslah', 'jelasnya', 'jika', 'jikalau', 'juga', 'jumlah', 'jumlahnya', 'justru', 'kala', 'kalau', 'kalaulah', 'kalaupun', 'kalian', 'kami', 'kamilah', 'kamu', 'kamulah', 'kan', 'kapan', 'kapankah', 'kapanpun', 'karena', 'karenanya', 'kasus', 'kata', 'katakan', 'katakanlah', 'katanya', 'ke', 'keadaan', 'kebetulan', 'kecil', 'kedua', 'keduanya', 'keinginan', 'kelamaan', 'kelihatan', 'kelihatannya', 'kelima', 'keluar', 'kembali', 'kemudian', 'kemungkinan', 'kemungkinannya', 'kenapa', 'kepada', 'kepadanya', 'kesampaian', 'keseluruhan', 'keseluruhannya', 'keterlaluan', 'ketika', 'khususnya', 'kini', 'kinilah', 'kira', 'kira-kira', 'kiranya', 'kita', 'kitalah', 'kok', 'kurang', 'lagi', 'lagian', 'lah', 'lain', 'lainnya', 'lalu', 'lama', 'lamanya', 'lanjut', 'lanjutnya', 'lebih', 'lewat', 'lima', 'luar', 'macam', 'maka', 'makanya', 'makin', 'malah', 'malahan', 'mampu', 'mampukah', 'mana', 'manakala', 'manalagi', 'masa', 'masalah', 'masalahnya', 'masih', 'masihkah', 'masing', 'masing-masing', 'mau', 'maupun', 'melainkan', 'melakukan', 'melalui', 'melihat', 'melihatnya', 'memang', 'memastikan', 'memberi', 'memberikan', 'membuat', 'memerlukan', 'memihak', 'meminta', 'memintakan', 'memisalkan', 'memperbuat', 'mempergunakan', 'memperkirakan', 'memperlihatkan', 'mempersiapkan', 'mempersoalkan', 'mempertanyakan', 'mempunyai', 'memulai', 'memungkinkan', 'menaiki', 'menambahkan', 'menandaskan', 'menanti', 'menanti-nanti', 'menantikan', 'menanya', 'menanyai', 'menanyakan', 'mendapat', 'mendapatkan', 'mendatang', 'mendatangi', 'mendatangkan', 'menegaskan', 'mengakhiri', 'mengapa', 'mengatakan', 'mengatakannya', 'mengenai', 'mengerjakan', 'mengetahui', 'menggunakan', 'menghendaki', 'mengibaratkan', 'mengibaratkannya', 'mengingat', 'mengingatkan', 'menginginkan', 'mengira', 'mengucapkan', 'mengucapkannya', 'mengungkapkan', 'menjadi', 'menjawab', 'menjelaskan', 'menuju', 'menunjuk', 'menunjuki', 'menunjukkan', 'menunjuknya', 'menurut', 'menuturkan', 'menyampaikan', 'menyangkut', 'menyatakan', 'menyebutkan', 'menyeluruh', 'menyiapkan', 'merasa', 'mereka', 'merekalah', 'merupakan', 'meski', 'meskipun', 'meyakini', 'meyakinkan', 'minta', 'mirip', 'misal', 'misalkan', 'misalnya', 'mula', 'mulai', 'mulailah', 'mulanya', 'mungkin', 'mungkinkah', 'nah', 'naik', 'namun', 'nanti', 'nantinya', 'nyaris', 'nyatanya', 'oleh', 'olehnya', 'pada', 'padahal', 'padanya', 'pak', 'paling', 'panjang', 'pantas', 'para', 'pasti', 'pastilah', 'penting', 'pentingnya', 'per', 'percuma', 'perlu', 'perlukah', 'perlunya', 'pernah', 'persoalan', 'pertama', 'pertama-tama', 'pertanyaan', 'pertanyakan', 'pihak', 'pihaknya', 'pukul', 'pula', 'pun', 'punya', 'rasa', 'rasanya', 'rata', 'rupanya', 'saat', 'saatnya', 'saja', 'sajalah', 'saling', 'sama', 'sama-sama', 'sambil', 'sampai', 'sampai-sampai', 'sampaikan', 'sana', 'sangat', 'sangatlah', 'satu', 'saya', 'sayalah', 'se', 'sebab', 'sebabnya', 'sebagai', 'sebagaimana', 'sebagainya', 'sebagian', 'sebaik', 'sebaik-baiknya', 'sebaiknya', 'sebaliknya', 'sebanyak', 'sebegini', 'sebegitu', 'sebelum', 'sebelumnya', 'sebenarnya', 'seberapa', 'sebesar', 'sebetulnya', 'sebisanya', 'sebuah', 'sebut', 'sebutlah', 'sebutnya', 'secara', 'secukupnya', 'sedang', 'sedangkan', 'sedemikian', 'sedikit', 'sedikitnya', 'seenaknya', 'segala', 'segalanya', 'segera', 'seharusnya', 'sehingga', 'seingat', 'sejak', 'sejauh', 'sejenak', 'sejumlah', 'sekadar', 'sekadarnya', 'sekali', 'sekali-kali', 'sekalian', 'sekaligus', 'sekalipun', 'sekarang', 'sekarang', 'sekecil', 'seketika', 'sekiranya', 'sekitar', 'sekitarnya', 'sekurang-kurangnya', 'sekurangnya', 'sela', 'selain', 'selaku', 'selalu', 'selama', 'selama-lamanya', 'selamanya', 'selanjutnya', 'seluruh', 'seluruhnya', 'semacam', 'semakin', 'semampu', 'semampunya', 'semasa', 'semasih', 'semata', 'semata-mata', 'semaunya', 'sementara', 'semisal', 'semisalnya', 'sempat', 'semua', 'semuanya', 'semula', 'sendiri', 'sendirian', 'sendirinya', 'seolah', 'seolah-olah', 'seorang', 'sepanjang', 'sepantasnya', 'sepantasnyalah', 'seperlunya', 'seperti', 'sepertinya', 'sepihak', 'sering', 'seringnya', 'serta', 'serupa', 'sesaat', 'sesama', 'sesampai', 'sesegera', 'sesekali', 'seseorang', 'sesuatu', 'sesuatunya', 'sesudah', 'sesudahnya', 'setelah', 'setempat', 'setengah', 'seterusnya', 'setiap', 'setiba', 'setibanya', 'setidak-tidaknya', 'setidaknya', 'setinggi', 'seusai', 'sewaktu', 'siap', 'siapa', 'siapakah', 'siapapun', 'sini', 'sinilah', 'soal', 'soalnya', 'suatu', 'sudah', 'sudahkah', 'sudahlah', 'supaya', 'tadi', 'tadinya', 'tahu', 'tahun', 'tak', 'tambah', 'tambahnya', 'tampak', 'tampaknya', 'tandas', 'tandasnya', 'tanpa', 'tanya', 'tanyakan', 'tanyanya', 'tapi', 'tegas', 'tegasnya', 'telah', 'tempat', 'tengah', 'tentang', 'tentu', 'tentulah', 'tentunya', 'tepat', 'terakhir', 'terasa', 'terbanyak', 'terdahulu', 'terdapat', 'terdiri', 'terhadap', 'terhadapnya', 'teringat', 'teringat-ingat', 'terjadi', 'terjadilah', 'terjadinya', 'terkira', 'terlalu', 'terlebih', 'terlihat', 'termasuk', 'ternyata', 'tersampaikan', 'tersebut', 'tersebutlah', 'tertentu', 'tertuju', 'terus', 'terutama', 'tetap', 'tetapi', 'tiap', 'tiba', 'tiba-tiba', 'tidak', 'tidakkah', 'tidaklah', 'tiga', 'tinggi', 'toh', 'tunjuk', 'turut', 'tutur', 'tuturnya', 'ucap', 'ucapnya', 'ujar', 'ujarnya', 'umum', 'umumnya', 'ungkap', 'ungkapnya', 'untuk', 'usah', 'usai', 'waduh', 'wah', 'wahai', 'waktu', 'waktunya', 'walau', 'walaupun', 'wong', 'yaitu', 'yakin', 'yakni', 'yang'] \n",
      "\n",
      "Greek ------>> ['αλλα', 'αν', 'αντι', 'απο', 'αυτα', 'αυτεσ', 'αυτη', 'αυτο', 'αυτοι', 'αυτοσ', 'αυτουσ', 'αυτων', 'αἱ', 'αἳ', 'αἵ', 'αὐτόσ', 'αὐτὸς', 'αὖ', 'γάρ', 'γα', 'γα^', 'γε', 'για', 'γοῦν', 'γὰρ', \"δ'\", 'δέ', 'δή', 'δαί', 'δαίσ', 'δαὶ', 'δαὶς', 'δε', 'δεν', \"δι'\", 'διά', 'διὰ', 'δὲ', 'δὴ', 'δ’', 'εαν', 'ειμαι', 'ειμαστε', 'ειναι', 'εισαι', 'ειστε', 'εκεινα', 'εκεινεσ', 'εκεινη', 'εκεινο', 'εκεινοι', 'εκεινοσ', 'εκεινουσ', 'εκεινων', 'ενω', 'επ', 'επι', 'εἰ', 'εἰμί', 'εἰμὶ', 'εἰς', 'εἰσ', 'εἴ', 'εἴμι', 'εἴτε', 'η', 'θα', 'ισωσ', 'κ', 'καί', 'καίτοι', 'καθ', 'και', 'κατ', 'κατά', 'κατα', 'κατὰ', 'καὶ', 'κι', 'κἀν', 'κἂν', 'μέν', 'μή', 'μήτε', 'μα', 'με', 'μεθ', 'μετ', 'μετά', 'μετα', 'μετὰ', 'μη', 'μην', 'μἐν', 'μὲν', 'μὴ', 'μὴν', 'να', 'ο', 'οι', 'ομωσ', 'οπωσ', 'οσο', 'οτι', 'οἱ', 'οἳ', 'οἷς', 'οὐ', 'οὐδ', 'οὐδέ', 'οὐδείσ', 'οὐδεὶς', 'οὐδὲ', 'οὐδὲν', 'οὐκ', 'οὐχ', 'οὐχὶ', 'οὓς', 'οὔτε', 'οὕτω', 'οὕτως', 'οὕτωσ', 'οὖν', 'οὗ', 'οὗτος', 'οὗτοσ', 'παρ', 'παρά', 'παρα', 'παρὰ', 'περί', 'περὶ', 'ποια', 'ποιεσ', 'ποιο', 'ποιοι', 'ποιοσ', 'ποιουσ', 'ποιων', 'ποτε', 'που', 'ποῦ', 'προ', 'προσ', 'πρόσ', 'πρὸ', 'πρὸς', 'πως', 'πωσ', 'σε', 'στη', 'στην', 'στο', 'στον', 'σόσ', 'σύ', 'σύν', 'σὸς', 'σὺ', 'σὺν', 'τά', 'τήν', 'τί', 'τίς', 'τίσ', 'τα', 'ταῖς', 'τε', 'την', 'τησ', 'τι', 'τινα', 'τις', 'τισ', 'το', 'τοί', 'τοι', 'τοιοῦτος', 'τοιοῦτοσ', 'τον', 'τοτε', 'του', 'τούσ', 'τοὺς', 'τοῖς', 'τοῦ', 'των', 'τό', 'τόν', 'τότε', 'τὰ', 'τὰς', 'τὴν', 'τὸ', 'τὸν', 'τῆς', 'τῆσ', 'τῇ', 'τῶν', 'τῷ', 'ωσ', \"ἀλλ'\", 'ἀλλά', 'ἀλλὰ', 'ἀλλ’', 'ἀπ', 'ἀπό', 'ἀπὸ', 'ἀφ', 'ἂν', 'ἃ', 'ἄλλος', 'ἄλλοσ', 'ἄν', 'ἄρα', 'ἅμα', 'ἐάν', 'ἐγώ', 'ἐγὼ', 'ἐκ', 'ἐμόσ', 'ἐμὸς', 'ἐν', 'ἐξ', 'ἐπί', 'ἐπεὶ', 'ἐπὶ', 'ἐστι', 'ἐφ', 'ἐὰν', 'ἑαυτοῦ', 'ἔτι', 'ἡ', 'ἢ', 'ἣ', 'ἤ', 'ἥ', 'ἧς', 'ἵνα', 'ὁ', 'ὃ', 'ὃν', 'ὃς', 'ὅ', 'ὅδε', 'ὅθεν', 'ὅπερ', 'ὅς', 'ὅσ', 'ὅστις', 'ὅστισ', 'ὅτε', 'ὅτι', 'ὑμόσ', 'ὑπ', 'ὑπέρ', 'ὑπό', 'ὑπὲρ', 'ὑπὸ', 'ὡς', 'ὡσ', 'ὥς', 'ὥστε', 'ὦ', 'ᾧ'] \n",
      "\n",
      "Bengali ------>> ['অতএব', 'অথচ', 'অথবা', 'অনুযায়ী', 'অনেক', 'অনেকে', 'অনেকেই', 'অন্তত', 'অন্য', 'অবধি', 'অবশ্য', 'অর্থাত', 'আই', 'আগামী', 'আগে', 'আগেই', 'আছে', 'আজ', 'আদ্যভাগে', 'আপনার', 'আপনি', 'আবার', 'আমরা', 'আমাকে', 'আমাদের', 'আমার', 'আমি', 'আর', 'আরও', 'ই', 'ইত্যাদি', 'ইহা', 'উচিত', 'উত্তর', 'উনি', 'উপর', 'উপরে', 'এ', 'এঁদের', 'এঁরা', 'এই', 'একই', 'একটি', 'একবার', 'একে', 'এক্', 'এখন', 'এখনও', 'এখানে', 'এখানেই', 'এটা', 'এটাই', 'এটি', 'এত', 'এতটাই', 'এতে', 'এদের', 'এব', 'এবং', 'এবার', 'এমন', 'এমনকী', 'এমনি', 'এর', 'এরা', 'এল', 'এস', 'এসে', 'ঐ', 'ও', 'ওঁদের', 'ওঁর', 'ওঁরা', 'ওই', 'ওকে', 'ওখানে', 'ওদের', 'ওর', 'ওরা', 'কখনও', 'কত', 'কবে', 'কমনে', 'কয়েক', 'কয়েকটি', 'করছে', 'করছেন', 'করতে', 'করবে', 'করবেন', 'করলে', 'করলেন', 'করা', 'করাই', 'করায়', 'করার', 'করি', 'করিতে', 'করিয়া', 'করিয়ে', 'করে', 'করেই', 'করেছিলেন', 'করেছে', 'করেছেন', 'করেন', 'কাউকে', 'কাছ', 'কাছে', 'কাজ', 'কাজে', 'কারও', 'কারণ', 'কি', 'কিংবা', 'কিছু', 'কিছুই', 'কিন্তু', 'কী', 'কে', 'কেউ', 'কেউই', 'কেখা', 'কেন', 'কোটি', 'কোন', 'কোনও', 'কোনো', 'ক্ষেত্রে', 'কয়েক', 'খুব', 'গিয়ে', 'গিয়েছে', 'গিয়ে', 'গুলি', 'গেছে', 'গেল', 'গেলে', 'গোটা', 'চলে', 'চান', 'চায়', 'চার', 'চালু', 'চেয়ে', 'চেষ্টা', 'ছাড়া', 'ছাড়াও', 'ছিল', 'ছিলেন', 'জন', 'জনকে', 'জনের', 'জন্য', 'জন্যওজে', 'জানতে', 'জানা', 'জানানো', 'জানায়', 'জানিয়ে', 'জানিয়েছে', 'জে', 'জ্নজন', 'টি', 'ঠিক', 'তখন', 'তত', 'তথা', 'তবু', 'তবে', 'তা', 'তাঁকে', 'তাঁদের', 'তাঁর', 'তাঁরা', 'তাঁাহারা', 'তাই', 'তাও', 'তাকে', 'তাতে', 'তাদের', 'তার', 'তারপর', 'তারা', 'তারৈ', 'তাহলে', 'তাহা', 'তাহাতে', 'তাহার', 'তিনঐ', 'তিনি', 'তিনিও', 'তুমি', 'তুলে', 'তেমন', 'তো', 'তোমার', 'থাকবে', 'থাকবেন', 'থাকা', 'থাকায়', 'থাকে', 'থাকেন', 'থেকে', 'থেকেই', 'থেকেও', 'দিকে', 'দিতে', 'দিন', 'দিয়ে', 'দিয়েছে', 'দিয়েছেন', 'দিলেন', 'দু', 'দুই', 'দুটি', 'দুটো', 'দেওয়া', 'দেওয়ার', 'দেওয়া', 'দেখতে', 'দেখা', 'দেখে', 'দেন', 'দেয়', 'দ্বারা', 'ধরা', 'ধরে', 'ধামার', 'নতুন', 'নয়', 'না', 'নাই', 'নাকি', 'নাগাদ', 'নানা', 'নিজে', 'নিজেই', 'নিজেদের', 'নিজের', 'নিতে', 'নিয়ে', 'নিয়ে', 'নেই', 'নেওয়া', 'নেওয়ার', 'নেওয়া', 'নয়', 'পক্ষে', 'পর', 'পরে', 'পরেই', 'পরেও', 'পর্যন্ত', 'পাওয়া', 'পাচ', 'পারি', 'পারে', 'পারেন', 'পি', 'পেয়ে', 'পেয়্র্', 'প্রতি', 'প্রথম', 'প্রভৃতি', 'প্রযন্ত', 'প্রাথমিক', 'প্রায়', 'প্রায়', 'ফলে', 'ফিরে', 'ফের', 'বক্তব্য', 'বদলে', 'বন', 'বরং', 'বলতে', 'বলল', 'বললেন', 'বলা', 'বলে', 'বলেছেন', 'বলেন', 'বসে', 'বহু', 'বা', 'বাদে', 'বার', 'বি', 'বিনা', 'বিভিন্ন', 'বিশেষ', 'বিষয়টি', 'বেশ', 'বেশি', 'ব্যবহার', 'ব্যাপারে', 'ভাবে', 'ভাবেই', 'মতো', 'মতোই', 'মধ্যভাগে', 'মধ্যে', 'মধ্যেই', 'মধ্যেও', 'মনে', 'মাত্র', 'মাধ্যমে', 'মোট', 'মোটেই', 'যখন', 'যত', 'যতটা', 'যথেষ্ট', 'যদি', 'যদিও', 'যা', 'যাঁর', 'যাঁরা', 'যাওয়া', 'যাওয়ার', 'যাওয়া', 'যাকে', 'যাচ্ছে', 'যাতে', 'যাদের', 'যান', 'যাবে', 'যায়', 'যার', 'যারা', 'যিনি', 'যে', 'যেখানে', 'যেতে', 'যেন', 'যেমন', 'র', 'রকম', 'রয়েছে', 'রাখা', 'রেখে', 'লক্ষ', 'শুধু', 'শুরু', 'সঙ্গে', 'সঙ্গেও', 'সব', 'সবার', 'সমস্ত', 'সম্প্রতি', 'সহ', 'সহিত', 'সাধারণ', 'সামনে', 'সি', 'সুতরাং', 'সে', 'সেই', 'সেখান', 'সেখানে', 'সেটা', 'সেটাই', 'সেটাও', 'সেটি', 'স্পষ্ট', 'স্বয়ং', 'হইতে', 'হইবে', 'হইয়া', 'হওয়া', 'হওয়ায়', 'হওয়ার', 'হচ্ছে', 'হত', 'হতে', 'হতেই', 'হন', 'হবে', 'হবেন', 'হয়', 'হয়তো', 'হয়নি', 'হয়ে', 'হয়েই', 'হয়েছিল', 'হয়েছে', 'হয়েছেন', 'হল', 'হলে', 'হলেই', 'হলেও', 'হলো', 'হাজার', 'হিসাবে', 'হৈলে', 'হোক', 'হয়'] \n",
      "\n"
     ]
    }
   ],
   "source": [
    "NOISE_WORDS_2 = []\n",
    "for i in langs:\n",
    "    try:\n",
    "        print(i, '------>>', stopwords.words(i), '\\n')\n",
    "        NOISE_WORDS_2 += stopwords.words(i)\n",
    "    except:\n",
    "        continue"
   ]
  },
  {
   "cell_type": "code",
   "execution_count": 24,
   "metadata": {
    "execution": {
     "iopub.execute_input": "2022-03-17T09:44:47.652046Z",
     "iopub.status.busy": "2022-03-17T09:44:47.651792Z",
     "iopub.status.idle": "2022-03-17T09:44:58.136748Z",
     "shell.execute_reply": "2022-03-17T09:44:58.135943Z",
     "shell.execute_reply.started": "2022-03-17T09:44:47.652007Z"
    }
   },
   "outputs": [],
   "source": [
    "# !pip install pymorphy2\n",
    "# !wget -O pymorphy2-dicts-ru.tar.gz https://files.pythonhosted.org/packages/b2/b4/732ff6eeac8c9ea22e7e1c7a321b21b6f3ba19d5e0a8925f35da9c8ebbb2/pymorphy2-dicts-ru-2.4.404381.4453942.tar.gz"
   ]
  },
  {
   "cell_type": "code",
   "execution_count": 24,
   "metadata": {
    "execution": {
     "iopub.execute_input": "2022-03-17T09:44:58.161350Z",
     "iopub.status.busy": "2022-03-17T09:44:58.160865Z",
     "iopub.status.idle": "2022-03-17T09:44:58.379113Z",
     "shell.execute_reply": "2022-03-17T09:44:58.378370Z",
     "shell.execute_reply.started": "2022-03-17T09:44:58.161314Z"
    }
   },
   "outputs": [],
   "source": [
    "m = pymorphy2.MorphAnalyzer()\n",
    "def lemmatize(text, mystem=m):\n",
    "    try:\n",
    "        return ' '.join((m.parse(t)[0].normal_form for t in text.split(' ')))\n",
    "    except:\n",
    "        return \" \""
   ]
  },
  {
   "cell_type": "code",
   "execution_count": 25,
   "metadata": {
    "execution": {
     "iopub.execute_input": "2022-03-17T09:44:58.380974Z",
     "iopub.status.busy": "2022-03-17T09:44:58.380723Z",
     "iopub.status.idle": "2022-03-17T09:44:58.388716Z",
     "shell.execute_reply": "2022-03-17T09:44:58.388048Z",
     "shell.execute_reply.started": "2022-03-17T09:44:58.380938Z"
    }
   },
   "outputs": [],
   "source": [
    "def clean_text_2(text, lemmatize, noise_wrods_2):\n",
    "    '''Функция на вход получает текст, на выходе выдаёт очищенный текст'''\n",
    "    text = str(text).lower() # первый шаг - все тексты приводим к нижнему регистру \n",
    "    \n",
    "    text = re.sub(\"@[\\w'._+-:]+\", '', text) # второй шаг - убираем ники пользователей твитера, т.к. обычно не несут никакой окраски\n",
    "    text = re.sub('https?://\\S+|www\\.\\S+', '', text) # третий шаг - убираем ссылки в твитах, т.к. названия ссылок  обычно не влияют на тональность \n",
    "    text = re.sub('\\w*\\d\\w*', '', text) # четвёртый шаг - убираем \"слова\", внутри которых есть цифры\n",
    "\n",
    "    text = re.sub('[^\\w\\s^.]','', text) # пятый шаг - убираем знаки пунктуации\n",
    "    text = re.sub('[_.]+',' ', text)\n",
    "    \n",
    "  #стоп-слова  не всех языков  \n",
    "    text = \" \".join([word for word in text.split(' ') if word not in noise_wrods_2]) # шестой шаг - отбираем только НЕстоп-слова\n",
    "    \n",
    "    text = lemmatize(text) # седьмой шаг - лемматизация при помощи spacy \n",
    "    text = re.sub('[\\s]+', ' ', text) # восьмой шаг - заменяем любой пробельный символ(табуляция, конец строки и т.п.) на пробел\n",
    "\n",
    "    return text"
   ]
  },
  {
   "cell_type": "code",
   "execution_count": 26,
   "metadata": {
    "execution": {
     "iopub.execute_input": "2022-03-17T09:44:58.390478Z",
     "iopub.status.busy": "2022-03-17T09:44:58.390010Z",
     "iopub.status.idle": "2022-03-17T09:44:59.312735Z",
     "shell.execute_reply": "2022-03-17T09:44:59.311955Z",
     "shell.execute_reply.started": "2022-03-17T09:44:58.390440Z"
    }
   },
   "outputs": [],
   "source": [
    "data_total_2 = data_total.copy()"
   ]
  },
  {
   "cell_type": "code",
   "execution_count": 27,
   "metadata": {
    "execution": {
     "iopub.execute_input": "2022-03-17T09:44:59.317731Z",
     "iopub.status.busy": "2022-03-17T09:44:59.317520Z",
     "iopub.status.idle": "2022-03-17T10:37:48.481666Z",
     "shell.execute_reply": "2022-03-17T10:37:48.480829Z",
     "shell.execute_reply.started": "2022-03-17T09:44:59.317705Z"
    }
   },
   "outputs": [],
   "source": [
    "data_total_2['content'] = data_total_2['content'].apply(lambda x: clean_text_2(x, lemmatize, NOISE_WORDS_2))"
   ]
  },
  {
   "cell_type": "markdown",
   "metadata": {},
   "source": [
    "### LabelEncoder"
   ]
  },
  {
   "cell_type": "code",
   "execution_count": 28,
   "metadata": {
    "execution": {
     "iopub.execute_input": "2022-03-17T10:37:48.489786Z",
     "iopub.status.busy": "2022-03-17T10:37:48.489285Z",
     "iopub.status.idle": "2022-03-17T10:37:48.501915Z",
     "shell.execute_reply": "2022-03-17T10:37:48.500969Z",
     "shell.execute_reply.started": "2022-03-17T10:37:48.489747Z"
    }
   },
   "outputs": [],
   "source": [
    "le = LabelEncoder()"
   ]
  },
  {
   "cell_type": "code",
   "execution_count": 29,
   "metadata": {
    "execution": {
     "iopub.execute_input": "2022-03-17T10:37:48.503589Z",
     "iopub.status.busy": "2022-03-17T10:37:48.503312Z",
     "iopub.status.idle": "2022-03-17T10:37:49.950950Z",
     "shell.execute_reply": "2022-03-17T10:37:49.950193Z",
     "shell.execute_reply.started": "2022-03-17T10:37:48.503549Z"
    }
   },
   "outputs": [],
   "source": [
    "data_total_2['account_category'] = le.fit_transform(data_total_2['account_category'])"
   ]
  },
  {
   "cell_type": "code",
   "execution_count": 30,
   "metadata": {
    "execution": {
     "iopub.execute_input": "2022-03-17T10:37:49.952633Z",
     "iopub.status.busy": "2022-03-17T10:37:49.952381Z",
     "iopub.status.idle": "2022-03-17T10:37:49.970803Z",
     "shell.execute_reply": "2022-03-17T10:37:49.970009Z",
     "shell.execute_reply.started": "2022-03-17T10:37:49.952599Z"
    }
   },
   "outputs": [
    {
     "data": {
      "text/html": [
       "<div>\n",
       "<style scoped>\n",
       "    .dataframe tbody tr th:only-of-type {\n",
       "        vertical-align: middle;\n",
       "    }\n",
       "\n",
       "    .dataframe tbody tr th {\n",
       "        vertical-align: top;\n",
       "    }\n",
       "\n",
       "    .dataframe thead th {\n",
       "        text-align: right;\n",
       "    }\n",
       "</style>\n",
       "<table border=\"1\" class=\"dataframe\">\n",
       "  <thead>\n",
       "    <tr style=\"text-align: right;\">\n",
       "      <th></th>\n",
       "      <th>external_author_id</th>\n",
       "      <th>author</th>\n",
       "      <th>content</th>\n",
       "      <th>region</th>\n",
       "      <th>language</th>\n",
       "      <th>publish_date</th>\n",
       "      <th>harvested_date</th>\n",
       "      <th>following</th>\n",
       "      <th>followers</th>\n",
       "      <th>updates</th>\n",
       "      <th>post_type</th>\n",
       "      <th>account_type</th>\n",
       "      <th>new_june_2018</th>\n",
       "      <th>retweet</th>\n",
       "      <th>account_category</th>\n",
       "    </tr>\n",
       "  </thead>\n",
       "  <tbody>\n",
       "    <tr>\n",
       "      <th>0</th>\n",
       "      <td>1.625965e+09</td>\n",
       "      <td>MEGGIEONEIL</td>\n",
       "      <td>withoutyouiam movie quoting dork sitting corne...</td>\n",
       "      <td>United States</td>\n",
       "      <td>English</td>\n",
       "      <td>6/29/2016 14:59</td>\n",
       "      <td>6/29/2016 14:59</td>\n",
       "      <td>1153</td>\n",
       "      <td>690</td>\n",
       "      <td>1313</td>\n",
       "      <td>RETWEET</td>\n",
       "      <td>Hashtager</td>\n",
       "      <td>0</td>\n",
       "      <td>1</td>\n",
       "      <td>2</td>\n",
       "    </tr>\n",
       "    <tr>\n",
       "      <th>1</th>\n",
       "      <td>7.530000e+17</td>\n",
       "      <td>RALFREIMANN8891</td>\n",
       "      <td>satz herrendoppelfinale melokubot vs marachpa...</td>\n",
       "      <td>United States</td>\n",
       "      <td>German</td>\n",
       "      <td>7/16/2017 8:57</td>\n",
       "      <td>7/16/2017 8:57</td>\n",
       "      <td>101</td>\n",
       "      <td>96</td>\n",
       "      <td>84</td>\n",
       "      <td>RETWEET</td>\n",
       "      <td>German</td>\n",
       "      <td>0</td>\n",
       "      <td>1</td>\n",
       "      <td>5</td>\n",
       "    </tr>\n",
       "    <tr>\n",
       "      <th>2</th>\n",
       "      <td>2.533002e+09</td>\n",
       "      <td>JASPER_FLY</td>\n",
       "      <td>thetroublewithaddiction kratom plant helps man...</td>\n",
       "      <td>United States</td>\n",
       "      <td>English</td>\n",
       "      <td>9/12/2016 10:59</td>\n",
       "      <td>9/12/2016 10:59</td>\n",
       "      <td>1549</td>\n",
       "      <td>1393</td>\n",
       "      <td>2888</td>\n",
       "      <td>NaN</td>\n",
       "      <td>Hashtager</td>\n",
       "      <td>0</td>\n",
       "      <td>0</td>\n",
       "      <td>2</td>\n",
       "    </tr>\n",
       "    <tr>\n",
       "      <th>3</th>\n",
       "      <td>4.444331e+09</td>\n",
       "      <td>GLOBALFOE</td>\n",
       "      <td>president kenyatta opens wto conference call t...</td>\n",
       "      <td>Unknown</td>\n",
       "      <td>English</td>\n",
       "      <td>12/15/2015 23:25</td>\n",
       "      <td>12/15/2015 23:25</td>\n",
       "      <td>382</td>\n",
       "      <td>51</td>\n",
       "      <td>32</td>\n",
       "      <td>NaN</td>\n",
       "      <td>left</td>\n",
       "      <td>0</td>\n",
       "      <td>0</td>\n",
       "      <td>3</td>\n",
       "    </tr>\n",
       "    <tr>\n",
       "      <th>4</th>\n",
       "      <td>3.272641e+09</td>\n",
       "      <td>EXQUOTE</td>\n",
       "      <td>shark bronson drippin shai jasmemea</td>\n",
       "      <td>United States</td>\n",
       "      <td>English</td>\n",
       "      <td>8/27/2015 7:34</td>\n",
       "      <td>8/27/2015 7:34</td>\n",
       "      <td>2</td>\n",
       "      <td>762</td>\n",
       "      <td>56571</td>\n",
       "      <td>NaN</td>\n",
       "      <td>Commercial</td>\n",
       "      <td>1</td>\n",
       "      <td>0</td>\n",
       "      <td>0</td>\n",
       "    </tr>\n",
       "  </tbody>\n",
       "</table>\n",
       "</div>"
      ],
      "text/plain": [
       "   external_author_id           author  \\\n",
       "0        1.625965e+09      MEGGIEONEIL   \n",
       "1        7.530000e+17  RALFREIMANN8891   \n",
       "2        2.533002e+09       JASPER_FLY   \n",
       "3        4.444331e+09        GLOBALFOE   \n",
       "4        3.272641e+09          EXQUOTE   \n",
       "\n",
       "                                             content         region language  \\\n",
       "0  withoutyouiam movie quoting dork sitting corne...  United States  English   \n",
       "1   satz herrendoppelfinale melokubot vs marachpa...  United States   German   \n",
       "2  thetroublewithaddiction kratom plant helps man...  United States  English   \n",
       "3  president kenyatta opens wto conference call t...        Unknown  English   \n",
       "4               shark bronson drippin shai jasmemea   United States  English   \n",
       "\n",
       "       publish_date    harvested_date  following  followers  updates  \\\n",
       "0   6/29/2016 14:59   6/29/2016 14:59       1153        690     1313   \n",
       "1    7/16/2017 8:57    7/16/2017 8:57        101         96       84   \n",
       "2   9/12/2016 10:59   9/12/2016 10:59       1549       1393     2888   \n",
       "3  12/15/2015 23:25  12/15/2015 23:25        382         51       32   \n",
       "4    8/27/2015 7:34    8/27/2015 7:34          2        762    56571   \n",
       "\n",
       "  post_type account_type  new_june_2018  retweet  account_category  \n",
       "0   RETWEET    Hashtager              0        1                 2  \n",
       "1   RETWEET       German              0        1                 5  \n",
       "2       NaN    Hashtager              0        0                 2  \n",
       "3       NaN         left              0        0                 3  \n",
       "4       NaN   Commercial              1        0                 0  "
      ]
     },
     "execution_count": 30,
     "metadata": {},
     "output_type": "execute_result"
    }
   ],
   "source": [
    "data_total_2.head()"
   ]
  },
  {
   "cell_type": "code",
   "execution_count": 31,
   "metadata": {
    "execution": {
     "iopub.execute_input": "2022-03-17T10:37:49.972733Z",
     "iopub.status.busy": "2022-03-17T10:37:49.972361Z",
     "iopub.status.idle": "2022-03-17T10:37:49.997195Z",
     "shell.execute_reply": "2022-03-17T10:37:49.996554Z",
     "shell.execute_reply.started": "2022-03-17T10:37:49.972696Z"
    }
   },
   "outputs": [
    {
     "data": {
      "text/plain": [
       "array([2, 5, 3, 0, 4, 6, 1, 7])"
      ]
     },
     "execution_count": 31,
     "metadata": {},
     "output_type": "execute_result"
    }
   ],
   "source": [
    "data_total_2['account_category'].unique()"
   ]
  },
  {
   "cell_type": "code",
   "execution_count": 32,
   "metadata": {
    "execution": {
     "iopub.execute_input": "2022-03-17T10:37:49.998463Z",
     "iopub.status.busy": "2022-03-17T10:37:49.998157Z",
     "iopub.status.idle": "2022-03-17T10:37:50.009199Z",
     "shell.execute_reply": "2022-03-17T10:37:50.008474Z",
     "shell.execute_reply.started": "2022-03-17T10:37:49.998427Z"
    }
   },
   "outputs": [
    {
     "name": "stdout",
     "output_type": "stream",
     "text": [
      "7 ---->> ['Unknown']\n",
      "6 ---->> ['RightTroll']\n",
      "5 ---->> ['NonEnglish']\n",
      "4 ---->> ['NewsFeed']\n",
      "3 ---->> ['LeftTroll']\n",
      "2 ---->> ['HashtagGamer']\n",
      "1 ---->> ['Fearmonger']\n",
      "0 ---->> ['Commercial']\n"
     ]
    }
   ],
   "source": [
    "for num in [7, 6, 5, 4, 3, 2, 1, 0]:\n",
    "    print(num, '---->>', le.inverse_transform([num]))"
   ]
  },
  {
   "cell_type": "code",
   "execution_count": 33,
   "metadata": {
    "execution": {
     "iopub.execute_input": "2022-03-17T10:37:50.011304Z",
     "iopub.status.busy": "2022-03-17T10:37:50.010682Z",
     "iopub.status.idle": "2022-03-17T10:37:50.604854Z",
     "shell.execute_reply": "2022-03-17T10:37:50.604125Z",
     "shell.execute_reply.started": "2022-03-17T10:37:50.011267Z"
    }
   },
   "outputs": [],
   "source": [
    "data_total_3 = data_total_2.copy()"
   ]
  },
  {
   "cell_type": "code",
   "execution_count": 16,
   "metadata": {
    "execution": {
     "iopub.execute_input": "2022-03-17T10:37:50.606259Z",
     "iopub.status.busy": "2022-03-17T10:37:50.605986Z",
     "iopub.status.idle": "2022-03-17T10:37:50.609566Z",
     "shell.execute_reply": "2022-03-17T10:37:50.608921Z",
     "shell.execute_reply.started": "2022-03-17T10:37:50.606225Z"
    }
   },
   "outputs": [],
   "source": [
    "# data_total_3.to_csv('data_total_3.csv')"
   ]
  },
  {
   "cell_type": "markdown",
   "metadata": {},
   "source": [
    "## Загрузка подготовленных данных"
   ]
  },
  {
   "cell_type": "code",
   "execution_count": 4,
   "metadata": {
    "execution": {
     "iopub.execute_input": "2022-03-17T10:37:50.611677Z",
     "iopub.status.busy": "2022-03-17T10:37:50.610864Z",
     "iopub.status.idle": "2022-03-17T10:37:50.622446Z",
     "shell.execute_reply": "2022-03-17T10:37:50.621748Z",
     "shell.execute_reply.started": "2022-03-17T10:37:50.611613Z"
    }
   },
   "outputs": [],
   "source": [
    "# data_total_3 = pd.read_csv('C:/Netology/DIPLOMA/data/trolls/data_total_3.csv', encoding='utf-8')"
   ]
  },
  {
   "cell_type": "code",
   "execution_count": 70,
   "metadata": {
    "execution": {
     "iopub.execute_input": "2022-03-17T10:37:50.624848Z",
     "iopub.status.busy": "2022-03-17T10:37:50.623848Z",
     "iopub.status.idle": "2022-03-17T10:37:51.937139Z",
     "shell.execute_reply": "2022-03-17T10:37:51.936210Z",
     "shell.execute_reply.started": "2022-03-17T10:37:50.624809Z"
    }
   },
   "outputs": [],
   "source": [
    "data_total_4_Russian = data_total_3[data_total_3['language'] == 'Russian']\n",
    "data_total_4_English = data_total_3[data_total_3['language'] == 'English']"
   ]
  },
  {
   "cell_type": "markdown",
   "metadata": {},
   "source": [
    "### Работа с английским твитами"
   ]
  },
  {
   "cell_type": "code",
   "execution_count": 71,
   "metadata": {
    "execution": {
     "iopub.execute_input": "2022-03-17T10:37:51.938706Z",
     "iopub.status.busy": "2022-03-17T10:37:51.938427Z",
     "iopub.status.idle": "2022-03-17T10:37:51.954543Z",
     "shell.execute_reply": "2022-03-17T10:37:51.953801Z",
     "shell.execute_reply.started": "2022-03-17T10:37:51.938668Z"
    }
   },
   "outputs": [
    {
     "data": {
      "text/html": [
       "<div>\n",
       "<style scoped>\n",
       "    .dataframe tbody tr th:only-of-type {\n",
       "        vertical-align: middle;\n",
       "    }\n",
       "\n",
       "    .dataframe tbody tr th {\n",
       "        vertical-align: top;\n",
       "    }\n",
       "\n",
       "    .dataframe thead th {\n",
       "        text-align: right;\n",
       "    }\n",
       "</style>\n",
       "<table border=\"1\" class=\"dataframe\">\n",
       "  <thead>\n",
       "    <tr style=\"text-align: right;\">\n",
       "      <th></th>\n",
       "      <th>external_author_id</th>\n",
       "      <th>author</th>\n",
       "      <th>content</th>\n",
       "      <th>region</th>\n",
       "      <th>language</th>\n",
       "      <th>publish_date</th>\n",
       "      <th>harvested_date</th>\n",
       "      <th>following</th>\n",
       "      <th>followers</th>\n",
       "      <th>updates</th>\n",
       "      <th>post_type</th>\n",
       "      <th>account_type</th>\n",
       "      <th>new_june_2018</th>\n",
       "      <th>retweet</th>\n",
       "      <th>account_category</th>\n",
       "    </tr>\n",
       "  </thead>\n",
       "  <tbody>\n",
       "    <tr>\n",
       "      <th>0</th>\n",
       "      <td>1.625965e+09</td>\n",
       "      <td>MEGGIEONEIL</td>\n",
       "      <td>withoutyouiam movie quoting dork sitting corne...</td>\n",
       "      <td>United States</td>\n",
       "      <td>English</td>\n",
       "      <td>6/29/2016 14:59</td>\n",
       "      <td>6/29/2016 14:59</td>\n",
       "      <td>1153</td>\n",
       "      <td>690</td>\n",
       "      <td>1313</td>\n",
       "      <td>RETWEET</td>\n",
       "      <td>Hashtager</td>\n",
       "      <td>0</td>\n",
       "      <td>1</td>\n",
       "      <td>2</td>\n",
       "    </tr>\n",
       "    <tr>\n",
       "      <th>2</th>\n",
       "      <td>2.533002e+09</td>\n",
       "      <td>JASPER_FLY</td>\n",
       "      <td>thetroublewithaddiction kratom plant helps man...</td>\n",
       "      <td>United States</td>\n",
       "      <td>English</td>\n",
       "      <td>9/12/2016 10:59</td>\n",
       "      <td>9/12/2016 10:59</td>\n",
       "      <td>1549</td>\n",
       "      <td>1393</td>\n",
       "      <td>2888</td>\n",
       "      <td>NaN</td>\n",
       "      <td>Hashtager</td>\n",
       "      <td>0</td>\n",
       "      <td>0</td>\n",
       "      <td>2</td>\n",
       "    </tr>\n",
       "  </tbody>\n",
       "</table>\n",
       "</div>"
      ],
      "text/plain": [
       "   external_author_id       author  \\\n",
       "0        1.625965e+09  MEGGIEONEIL   \n",
       "2        2.533002e+09   JASPER_FLY   \n",
       "\n",
       "                                             content         region language  \\\n",
       "0  withoutyouiam movie quoting dork sitting corne...  United States  English   \n",
       "2  thetroublewithaddiction kratom plant helps man...  United States  English   \n",
       "\n",
       "      publish_date   harvested_date  following  followers  updates post_type  \\\n",
       "0  6/29/2016 14:59  6/29/2016 14:59       1153        690     1313   RETWEET   \n",
       "2  9/12/2016 10:59  9/12/2016 10:59       1549       1393     2888       NaN   \n",
       "\n",
       "  account_type  new_june_2018  retweet  account_category  \n",
       "0    Hashtager              0        1                 2  \n",
       "2    Hashtager              0        0                 2  "
      ]
     },
     "execution_count": 71,
     "metadata": {},
     "output_type": "execute_result"
    }
   ],
   "source": [
    "data_total_4_English.head(2)"
   ]
  },
  {
   "cell_type": "code",
   "execution_count": 72,
   "metadata": {
    "execution": {
     "iopub.execute_input": "2022-03-17T10:37:51.956547Z",
     "iopub.status.busy": "2022-03-17T10:37:51.956052Z",
     "iopub.status.idle": "2022-03-17T10:37:51.970279Z",
     "shell.execute_reply": "2022-03-17T10:37:51.969514Z",
     "shell.execute_reply.started": "2022-03-17T10:37:51.956506Z"
    }
   },
   "outputs": [
    {
     "data": {
      "text/plain": [
       "(2128963, 15)"
      ]
     },
     "execution_count": 72,
     "metadata": {},
     "output_type": "execute_result"
    }
   ],
   "source": [
    "data_total_4_English.shape"
   ]
  },
  {
   "cell_type": "code",
   "execution_count": 73,
   "metadata": {
    "execution": {
     "iopub.execute_input": "2022-03-17T10:37:51.971948Z",
     "iopub.status.busy": "2022-03-17T10:37:51.971493Z",
     "iopub.status.idle": "2022-03-17T10:37:52.712312Z",
     "shell.execute_reply": "2022-03-17T10:37:52.711556Z",
     "shell.execute_reply.started": "2022-03-17T10:37:51.971909Z"
    }
   },
   "outputs": [],
   "source": [
    "data_total_4_English = data_total_4_English.sample(1000000)"
   ]
  },
  {
   "cell_type": "code",
   "execution_count": 74,
   "metadata": {
    "execution": {
     "iopub.execute_input": "2022-03-17T10:37:52.714141Z",
     "iopub.status.busy": "2022-03-17T10:37:52.713494Z",
     "iopub.status.idle": "2022-03-17T10:37:52.720133Z",
     "shell.execute_reply": "2022-03-17T10:37:52.719333Z",
     "shell.execute_reply.started": "2022-03-17T10:37:52.714078Z"
    }
   },
   "outputs": [
    {
     "data": {
      "text/plain": [
       "(1000000, 15)"
      ]
     },
     "execution_count": 74,
     "metadata": {},
     "output_type": "execute_result"
    }
   ],
   "source": [
    "data_total_4_English.shape"
   ]
  },
  {
   "cell_type": "code",
   "execution_count": 75,
   "metadata": {
    "execution": {
     "iopub.execute_input": "2022-03-17T10:37:52.721820Z",
     "iopub.status.busy": "2022-03-17T10:37:52.721534Z",
     "iopub.status.idle": "2022-03-17T10:37:52.740990Z",
     "shell.execute_reply": "2022-03-17T10:37:52.740214Z",
     "shell.execute_reply.started": "2022-03-17T10:37:52.721757Z"
    }
   },
   "outputs": [],
   "source": [
    "# data_total_4_Russian.head(2)"
   ]
  },
  {
   "cell_type": "code",
   "execution_count": 76,
   "metadata": {
    "execution": {
     "iopub.execute_input": "2022-03-17T10:37:52.742930Z",
     "iopub.status.busy": "2022-03-17T10:37:52.742457Z",
     "iopub.status.idle": "2022-03-17T10:37:52.751930Z",
     "shell.execute_reply": "2022-03-17T10:37:52.751207Z",
     "shell.execute_reply.started": "2022-03-17T10:37:52.742896Z"
    }
   },
   "outputs": [],
   "source": [
    "# data_total_4_Russian.shape"
   ]
  },
  {
   "cell_type": "code",
   "execution_count": 77,
   "metadata": {},
   "outputs": [
    {
     "data": {
      "image/png": "[encoded data removed]",
      "text/plain": [
       "<Figure size 432x288 with 1 Axes>"
      ]
     },
     "metadata": {
      "needs_background": "light"
     },
     "output_type": "display_data"
    }
   ],
   "source": [
    "plot_3_1 = data_total_4_English.groupby('account_category').count()[['account_type']]\n",
    "\n",
    "plot_3_1.plot(kind='barh', grid = True,\n",
    "                   color='#107c8e')\n",
    "plt.title('Accounts distribution')\n",
    "plt.xlabel('Counts')\n",
    "plt.ylabel('Accounts')\n",
    "plt.grid(axis='y', alpha=0.75)"
   ]
  },
  {
   "cell_type": "code",
   "execution_count": 78,
   "metadata": {
    "execution": {
     "iopub.execute_input": "2022-03-17T10:37:52.754065Z",
     "iopub.status.busy": "2022-03-17T10:37:52.753011Z",
     "iopub.status.idle": "2022-03-17T10:37:54.157077Z",
     "shell.execute_reply": "2022-03-17T10:37:54.156300Z",
     "shell.execute_reply.started": "2022-03-17T10:37:52.754027Z"
    }
   },
   "outputs": [],
   "source": [
    "X_train_E_2, X_test_E_2, y_train_E_2, y_test_E_2 = train_test_split(data_total_4_English['content'].values.astype('U'), data_total_4_English['account_category'] , test_size = 0.2)"
   ]
  },
  {
   "cell_type": "code",
   "execution_count": 28,
   "metadata": {
    "execution": {
     "iopub.execute_input": "2022-03-17T10:37:54.158704Z",
     "iopub.status.busy": "2022-03-17T10:37:54.158444Z",
     "iopub.status.idle": "2022-03-17T10:37:55.283759Z",
     "shell.execute_reply": "2022-03-17T10:37:55.283037Z",
     "shell.execute_reply.started": "2022-03-17T10:37:54.158670Z"
    }
   },
   "outputs": [],
   "source": [
    "# X_train_R_2, X_test_R_2, y_train_R_2, y_test_R_2 = train_test_split(data_total_4_Russian['content'].values.astype('U'), data_total_4_Russian['account_category'] , test_size = 0.2)"
   ]
  },
  {
   "cell_type": "markdown",
   "metadata": {},
   "source": [
    "## Первый способ - LogisticRegression + CountVectorizer на Russian & English"
   ]
  },
  {
   "cell_type": "code",
   "execution_count": 79,
   "metadata": {
    "execution": {
     "iopub.execute_input": "2022-03-17T10:40:34.319714Z",
     "iopub.status.busy": "2022-03-17T10:40:34.319442Z",
     "iopub.status.idle": "2022-03-17T10:40:53.623466Z",
     "shell.execute_reply": "2022-03-17T10:40:53.622719Z",
     "shell.execute_reply.started": "2022-03-17T10:40:34.319683Z"
    }
   },
   "outputs": [],
   "source": [
    "vec_2 = CountVectorizer(ngram_range=(1, 1))\n",
    "vec_2.fit(data_total_4_English['content'].values.astype('U'))\n",
    "bow_2 = vec_2.transform(X_train_E_2)"
   ]
  },
  {
   "cell_type": "code",
   "execution_count": 80,
   "metadata": {
    "execution": {
     "iopub.execute_input": "2022-03-17T10:40:53.625680Z",
     "iopub.status.busy": "2022-03-17T10:40:53.625197Z",
     "iopub.status.idle": "2022-03-17T10:47:52.105075Z",
     "shell.execute_reply": "2022-03-17T10:47:52.104162Z",
     "shell.execute_reply.started": "2022-03-17T10:40:53.625642Z"
    }
   },
   "outputs": [
    {
     "name": "stdout",
     "output_type": "stream",
     "text": [
      "              precision    recall  f1-score   support\n",
      "\n",
      "           0       0.95      0.94      0.94     10628\n",
      "           1       0.68      0.28      0.40      2544\n",
      "           2       0.83      0.80      0.81     22712\n",
      "           3       0.67      0.69      0.68     38740\n",
      "           4       0.88      0.86      0.87     57489\n",
      "           5       0.59      0.29      0.39      5420\n",
      "           6       0.72      0.83      0.77     58206\n",
      "           7       0.25      0.04      0.07      4261\n",
      "\n",
      "    accuracy                           0.78    200000\n",
      "   macro avg       0.69      0.59      0.62    200000\n",
      "weighted avg       0.77      0.78      0.77    200000\n",
      "\n"
     ]
    }
   ],
   "source": [
    "clf_2_1 = LogisticRegression(random_state=42, solver='liblinear', \n",
    "                             class_weight = 'balanced')\n",
    "clf_2_1.fit(bow_2, y_train_E_2)\n",
    "pred_2_1 = clf_2_1.predict(vec_2.transform(X_test_E_2))\n",
    "print(classification_report(pred_2_1, y_test_E_2))"
   ]
  },
  {
   "cell_type": "markdown",
   "metadata": {},
   "source": [
    "## Второй способ - TF-IDF + LogisticRegression"
   ]
  },
  {
   "cell_type": "code",
   "execution_count": 81,
   "metadata": {
    "execution": {
     "iopub.execute_input": "2022-03-17T10:47:52.113235Z",
     "iopub.status.busy": "2022-03-17T10:47:52.109110Z",
     "iopub.status.idle": "2022-03-17T10:47:52.119561Z",
     "shell.execute_reply": "2022-03-17T10:47:52.118723Z",
     "shell.execute_reply.started": "2022-03-17T10:47:52.113192Z"
    }
   },
   "outputs": [],
   "source": [
    "pipe_2_2 = Pipeline([\n",
    "                ('tf-idf', TfidfVectorizer()),\n",
    "                ('LogReg', LogisticRegression(random_state=42, \n",
    "                                              solver='liblinear',\n",
    "                                              class_weight = 'balanced'))\n",
    "                ])"
   ]
  },
  {
   "cell_type": "code",
   "execution_count": 82,
   "metadata": {
    "execution": {
     "iopub.execute_input": "2022-03-17T10:47:52.125123Z",
     "iopub.status.busy": "2022-03-17T10:47:52.123530Z",
     "iopub.status.idle": "2022-03-17T10:49:34.449747Z",
     "shell.execute_reply": "2022-03-17T10:49:34.449025Z",
     "shell.execute_reply.started": "2022-03-17T10:47:52.125074Z"
    }
   },
   "outputs": [
    {
     "name": "stdout",
     "output_type": "stream",
     "text": [
      "              precision    recall  f1-score   support\n",
      "\n",
      "           0       0.96      0.92      0.94     10927\n",
      "           1       0.68      0.29      0.41      2464\n",
      "           2       0.81      0.85      0.83     20844\n",
      "           3       0.67      0.67      0.67     39872\n",
      "           4       0.88      0.85      0.87     58209\n",
      "           5       0.60      0.27      0.38      5995\n",
      "           6       0.71      0.83      0.76     57654\n",
      "           7       0.25      0.04      0.07      4035\n",
      "\n",
      "    accuracy                           0.77    200000\n",
      "   macro avg       0.70      0.59      0.62    200000\n",
      "weighted avg       0.76      0.77      0.76    200000\n",
      "\n"
     ]
    }
   ],
   "source": [
    "pipe_2_2.fit(X_train_E_2, y_train_E_2)\n",
    "y_pred_2_2 = pipe_2_2.predict(X_test_E_2)\n",
    "print(classification_report(y_pred_2_2, y_test_E_2))"
   ]
  },
  {
   "cell_type": "markdown",
   "metadata": {},
   "source": [
    "## Третий способ - CountVectorizer + XGBClassifier на Russian & English"
   ]
  },
  {
   "cell_type": "code",
   "execution_count": 83,
   "metadata": {
    "execution": {
     "iopub.execute_input": "2022-03-17T10:49:34.452166Z",
     "iopub.status.busy": "2022-03-17T10:49:34.451898Z",
     "iopub.status.idle": "2022-03-17T10:49:34.456961Z",
     "shell.execute_reply": "2022-03-17T10:49:34.456146Z",
     "shell.execute_reply.started": "2022-03-17T10:49:34.452129Z"
    }
   },
   "outputs": [],
   "source": [
    "pipe5_2 = Pipeline([\n",
    "                ('CountVectChar', CountVectorizer(ngram_range=(1, 1))),\n",
    "                ('XGB', XGBClassifier(objective = 'multi:softprob' , \n",
    "                                      use_label_encoder=False, \n",
    "                                      eval_metric='mlogloss')) \n",
    "                 ])"
   ]
  },
  {
   "cell_type": "code",
   "execution_count": 84,
   "metadata": {
    "execution": {
     "iopub.execute_input": "2022-03-17T10:49:34.458766Z",
     "iopub.status.busy": "2022-03-17T10:49:34.458290Z",
     "iopub.status.idle": "2022-03-17T11:41:29.923437Z",
     "shell.execute_reply": "2022-03-17T11:41:29.922543Z",
     "shell.execute_reply.started": "2022-03-17T10:49:34.458728Z"
    }
   },
   "outputs": [
    {
     "name": "stdout",
     "output_type": "stream",
     "text": [
      "              precision    recall  f1-score   support\n",
      "\n",
      "           0       0.77      0.94      0.85      8531\n",
      "           1       0.50      0.82      0.62       643\n",
      "           2       0.57      0.98      0.72     12713\n",
      "           3       0.42      0.71      0.53     23654\n",
      "           4       0.76      0.84      0.80     51063\n",
      "           5       0.17      0.85      0.28       537\n",
      "           6       0.86      0.56      0.68    102833\n",
      "           7       0.03      0.65      0.05        26\n",
      "\n",
      "    accuracy                           0.70    200000\n",
      "   macro avg       0.51      0.79      0.57    200000\n",
      "weighted avg       0.76      0.70      0.70    200000\n",
      "\n"
     ]
    }
   ],
   "source": [
    "pipe5_2.fit(X_train_E_2, y_train_E_2)\n",
    "y_pred5_2 = pipe5_2.predict(X_test_E_2)\n",
    "print(classification_report(y_pred5_2, y_test_E_2))"
   ]
  },
  {
   "cell_type": "markdown",
   "metadata": {},
   "source": [
    "## Четвёртый способ - TfidfVectorizer + XGBClassifier на Russian & English"
   ]
  },
  {
   "cell_type": "code",
   "execution_count": 85,
   "metadata": {
    "execution": {
     "iopub.execute_input": "2022-03-17T11:41:29.929769Z",
     "iopub.status.busy": "2022-03-17T11:41:29.927646Z"
    }
   },
   "outputs": [
    {
     "name": "stdout",
     "output_type": "stream",
     "text": [
      "              precision    recall  f1-score   support\n",
      "\n",
      "           0       0.77      0.95      0.85      8498\n",
      "           1       0.49      0.81      0.61       646\n",
      "           2       0.57      0.99      0.72     12718\n",
      "           3       0.42      0.72      0.53     23034\n",
      "           4       0.77      0.84      0.80     51026\n",
      "           5       0.18      0.80      0.29       600\n",
      "           6       0.87      0.56      0.68    103444\n",
      "           7       0.03      0.56      0.05        34\n",
      "\n",
      "    accuracy                           0.70    200000\n",
      "   macro avg       0.51      0.78      0.57    200000\n",
      "weighted avg       0.76      0.70      0.70    200000\n",
      "\n"
     ]
    }
   ],
   "source": [
    "pipe6_2 = Pipeline([\n",
    "                ('tf-idf', TfidfVectorizer()),\n",
    "                ('XGB', XGBClassifier(objective = 'multi:softprob' , \n",
    "                                      use_label_encoder=False, \n",
    "                                      eval_metric='mlogloss')) \n",
    "                 ])\n",
    "pipe6_2.fit(X_train_E_2, y_train_E_2)\n",
    "y_pred6_2 = pipe6_2.predict(X_test_E_2)\n",
    "print(classification_report(y_pred6_2, y_test_E_2))"
   ]
  },
  {
   "cell_type": "markdown",
   "metadata": {},
   "source": [
    "## Пятый способ - CountVectorizer + CatBoostClassifier на Russian & English"
   ]
  },
  {
   "cell_type": "code",
   "execution_count": 86,
   "metadata": {},
   "outputs": [
    {
     "name": "stdout",
     "output_type": "stream",
     "text": [
      "0:\tlearn: 1.5446594\ttotal: 2.5s\tremaining: 41m 41s\n",
      "1:\tlearn: 1.4258906\ttotal: 4.96s\tremaining: 41m 14s\n",
      "2:\tlearn: 1.3846338\ttotal: 7.24s\tremaining: 40m 6s\n",
      "3:\tlearn: 1.3597133\ttotal: 9.5s\tremaining: 39m 25s\n",
      "4:\tlearn: 3.0072220\ttotal: 11.8s\tremaining: 39m 17s\n",
      "5:\tlearn: 353.0927956\ttotal: 14.3s\tremaining: 39m 24s\n",
      "6:\tlearn: 353.0791827\ttotal: 16.5s\tremaining: 39m 4s\n",
      "7:\tlearn: 291.6536414\ttotal: 18.8s\tremaining: 38m 57s\n",
      "8:\tlearn: 224.0850581\ttotal: 21.1s\tremaining: 38m 39s\n",
      "9:\tlearn: 158.3036575\ttotal: 23.5s\tremaining: 38m 47s\n",
      "10:\tlearn: 157.1753277\ttotal: 25.9s\tremaining: 38m 52s\n",
      "11:\tlearn: 298.5626949\ttotal: 28.4s\tremaining: 38m 54s\n",
      "12:\tlearn: 250.7021398\ttotal: 30.7s\tremaining: 38m 53s\n",
      "13:\tlearn: 183.0818918\ttotal: 33.3s\tremaining: 39m 3s\n",
      "14:\tlearn: 135.2294133\ttotal: 35.7s\tremaining: 39m 5s\n",
      "15:\tlearn: 87.3769425\ttotal: 38.1s\tremaining: 39m 2s\n",
      "16:\tlearn: 325.1135107\ttotal: 40.5s\tremaining: 39m 3s\n",
      "17:\tlearn: 309.2021268\ttotal: 43s\tremaining: 39m 4s\n",
      "18:\tlearn: 261.2991309\ttotal: 45.6s\tremaining: 39m 14s\n",
      "19:\tlearn: 213.4466625\ttotal: 48.1s\tremaining: 39m 17s\n",
      "20:\tlearn: 165.5941941\ttotal: 50.8s\tremaining: 39m 27s\n",
      "21:\tlearn: 117.7417257\ttotal: 53.2s\tremaining: 39m 23s\n",
      "22:\tlearn: 69.8892573\ttotal: 55.6s\tremaining: 39m 20s\n",
      "23:\tlearn: 194.5177973\ttotal: 58s\tremaining: 39m 16s\n",
      "24:\tlearn: 291.7315325\ttotal: 1m\tremaining: 39m 16s\n",
      "25:\tlearn: 243.8114468\ttotal: 1m 2s\tremaining: 39m 17s\n",
      "26:\tlearn: 196.5948133\ttotal: 1m 5s\tremaining: 39m 26s\n",
      "27:\tlearn: 196.5851421\ttotal: 1m 8s\tremaining: 39m 22s\n",
      "28:\tlearn: 151.0759457\ttotal: 1m 10s\tremaining: 39m 26s\n",
      "29:\tlearn: 106.1867698\ttotal: 1m 13s\tremaining: 39m 25s\n",
      "30:\tlearn: 79.0034545\ttotal: 1m 15s\tremaining: 39m 27s\n",
      "31:\tlearn: 206.5088781\ttotal: 1m 18s\tremaining: 39m 29s\n",
      "32:\tlearn: 162.6794421\ttotal: 1m 20s\tremaining: 39m 27s\n",
      "33:\tlearn: 119.2231085\ttotal: 1m 23s\tremaining: 39m 23s\n",
      "34:\tlearn: 76.6349354\ttotal: 1m 25s\tremaining: 39m 20s\n",
      "35:\tlearn: 141.5983442\ttotal: 1m 27s\tremaining: 39m 16s\n",
      "36:\tlearn: 275.0249903\ttotal: 1m 30s\tremaining: 39m 12s\n",
      "37:\tlearn: 231.9260312\ttotal: 1m 32s\tremaining: 39m 10s\n",
      "38:\tlearn: 193.8395831\ttotal: 1m 35s\tremaining: 39m 11s\n",
      "39:\tlearn: 156.3757673\ttotal: 1m 38s\tremaining: 39m 14s\n",
      "40:\tlearn: 119.1492227\ttotal: 1m 40s\tremaining: 39m 11s\n",
      "41:\tlearn: 81.7978865\ttotal: 1m 42s\tremaining: 39m 6s\n",
      "42:\tlearn: 51.2548367\ttotal: 1m 45s\tremaining: 39m 2s\n",
      "43:\tlearn: 160.5156070\ttotal: 1m 47s\tremaining: 39m\n",
      "44:\tlearn: 167.7193618\ttotal: 1m 50s\tremaining: 38m 57s\n",
      "45:\tlearn: 133.2749597\ttotal: 1m 52s\tremaining: 38m 52s\n",
      "46:\tlearn: 103.5824342\ttotal: 1m 54s\tremaining: 38m 48s\n",
      "47:\tlearn: 123.0380299\ttotal: 1m 57s\tremaining: 38m 45s\n",
      "48:\tlearn: 306.7960126\ttotal: 1m 59s\tremaining: 38m 43s\n",
      "49:\tlearn: 264.1989856\ttotal: 2m 2s\tremaining: 38m 39s\n",
      "50:\tlearn: 227.8386364\ttotal: 2m 4s\tremaining: 38m 36s\n",
      "51:\tlearn: 197.0138817\ttotal: 2m 6s\tremaining: 38m 32s\n",
      "52:\tlearn: 166.4473353\ttotal: 2m 9s\tremaining: 38m 29s\n",
      "53:\tlearn: 135.9014370\ttotal: 2m 11s\tremaining: 38m 26s\n",
      "54:\tlearn: 105.3555386\ttotal: 2m 14s\tremaining: 38m 23s\n",
      "55:\tlearn: 74.8096403\ttotal: 2m 16s\tremaining: 38m 21s\n",
      "56:\tlearn: 251.1903051\ttotal: 2m 18s\tremaining: 38m 18s\n",
      "57:\tlearn: 252.3875822\ttotal: 2m 21s\tremaining: 38m 16s\n",
      "58:\tlearn: 218.2178487\ttotal: 2m 23s\tremaining: 38m 14s\n",
      "59:\tlearn: 187.2399449\ttotal: 2m 26s\tremaining: 38m 12s\n",
      "60:\tlearn: 156.8361430\ttotal: 2m 28s\tremaining: 38m 11s\n",
      "61:\tlearn: 126.3430703\ttotal: 2m 31s\tremaining: 38m 10s\n",
      "62:\tlearn: 95.9701649\ttotal: 2m 33s\tremaining: 38m 9s\n",
      "63:\tlearn: 65.4847095\ttotal: 2m 36s\tremaining: 38m 7s\n",
      "64:\tlearn: 103.9904888\ttotal: 2m 39s\tremaining: 38m 7s\n",
      "65:\tlearn: 244.9337322\ttotal: 2m 41s\tremaining: 38m 7s\n",
      "66:\tlearn: 209.2708079\ttotal: 2m 44s\tremaining: 38m 6s\n",
      "67:\tlearn: 178.1609787\ttotal: 2m 46s\tremaining: 38m 5s\n",
      "68:\tlearn: 147.4829574\ttotal: 2m 49s\tremaining: 38m 4s\n",
      "69:\tlearn: 112.8391228\ttotal: 2m 51s\tremaining: 38m 3s\n",
      "70:\tlearn: 115.2461597\ttotal: 2m 54s\tremaining: 38m 1s\n",
      "71:\tlearn: 241.9928164\ttotal: 2m 56s\tremaining: 38m\n",
      "72:\tlearn: 211.0553918\ttotal: 2m 59s\tremaining: 37m 59s\n",
      "73:\tlearn: 180.4880214\ttotal: 3m 2s\tremaining: 37m 58s\n",
      "74:\tlearn: 149.9452314\ttotal: 3m 4s\tremaining: 37m 56s\n",
      "75:\tlearn: 119.4024414\ttotal: 3m 7s\tremaining: 37m 55s\n",
      "76:\tlearn: 88.8596514\ttotal: 3m 9s\tremaining: 37m 53s\n",
      "77:\tlearn: 199.9813809\ttotal: 3m 12s\tremaining: 37m 52s\n",
      "78:\tlearn: 267.1917283\ttotal: 3m 14s\tremaining: 37m 51s\n",
      "79:\tlearn: 232.1328931\ttotal: 3m 17s\tremaining: 37m 49s\n",
      "80:\tlearn: 201.0108381\ttotal: 3m 19s\tremaining: 37m 48s\n",
      "81:\tlearn: 170.4394181\ttotal: 3m 22s\tremaining: 37m 47s\n",
      "82:\tlearn: 139.8780739\ttotal: 3m 25s\tremaining: 37m 46s\n",
      "83:\tlearn: 109.3352839\ttotal: 3m 27s\tremaining: 37m 45s\n",
      "84:\tlearn: 78.7924939\ttotal: 3m 30s\tremaining: 37m 44s\n",
      "85:\tlearn: 77.2895067\ttotal: 3m 32s\tremaining: 37m 42s\n",
      "86:\tlearn: 164.6439097\ttotal: 3m 35s\tremaining: 37m 41s\n",
      "87:\tlearn: 134.1011197\ttotal: 3m 38s\tremaining: 37m 39s\n",
      "88:\tlearn: 103.5583297\ttotal: 3m 40s\tremaining: 37m 38s\n",
      "89:\tlearn: 73.0155397\ttotal: 3m 43s\tremaining: 37m 36s\n",
      "90:\tlearn: 201.6203867\ttotal: 3m 45s\tremaining: 37m 34s\n",
      "91:\tlearn: 251.1395445\ttotal: 3m 48s\tremaining: 37m 33s\n",
      "92:\tlearn: 216.2755994\ttotal: 3m 51s\tremaining: 37m 33s\n",
      "93:\tlearn: 185.1752185\ttotal: 3m 53s\tremaining: 37m 32s\n",
      "94:\tlearn: 154.6037985\ttotal: 3m 56s\tremaining: 37m 32s\n",
      "95:\tlearn: 124.0435030\ttotal: 3m 59s\tremaining: 37m 30s\n",
      "96:\tlearn: 93.5007130\ttotal: 4m 1s\tremaining: 37m 29s\n",
      "97:\tlearn: 63.2171236\ttotal: 4m 4s\tremaining: 37m 27s\n",
      "98:\tlearn: 56.0824466\ttotal: 4m 6s\tremaining: 37m 26s\n",
      "99:\tlearn: 193.3308788\ttotal: 4m 9s\tremaining: 37m 24s\n",
      "100:\tlearn: 162.7828073\ttotal: 4m 11s\tremaining: 37m 22s\n",
      "101:\tlearn: 132.2400173\ttotal: 4m 14s\tremaining: 37m 20s\n",
      "102:\tlearn: 101.6972273\ttotal: 4m 17s\tremaining: 37m 18s\n",
      "103:\tlearn: 250.4742149\ttotal: 4m 19s\tremaining: 37m 16s\n",
      "104:\tlearn: 279.1256157\ttotal: 4m 22s\tremaining: 37m 15s\n",
      "105:\tlearn: 244.4807967\ttotal: 4m 24s\tremaining: 37m 14s\n",
      "106:\tlearn: 213.2971552\ttotal: 4m 27s\tremaining: 37m 12s\n",
      "107:\tlearn: 182.7099351\ttotal: 4m 30s\tremaining: 37m 11s\n",
      "108:\tlearn: 152.1555419\ttotal: 4m 32s\tremaining: 37m 10s\n",
      "109:\tlearn: 121.6127519\ttotal: 4m 35s\tremaining: 37m 8s\n",
      "110:\tlearn: 91.0699619\ttotal: 4m 37s\tremaining: 37m 6s\n",
      "111:\tlearn: 107.4576691\ttotal: 4m 40s\tremaining: 37m 4s\n",
      "112:\tlearn: 278.5088924\ttotal: 4m 43s\tremaining: 37m 2s\n",
      "113:\tlearn: 234.0765707\ttotal: 4m 45s\tremaining: 37m\n",
      "114:\tlearn: 200.4385870\ttotal: 4m 48s\tremaining: 36m 58s\n",
      "115:\tlearn: 167.7454727\ttotal: 4m 50s\tremaining: 36m 56s\n",
      "116:\tlearn: 135.3972576\ttotal: 4m 53s\tremaining: 36m 54s\n",
      "117:\tlearn: 105.8255059\ttotal: 4m 55s\tremaining: 36m 52s\n",
      "118:\tlearn: 76.2915191\ttotal: 4m 58s\tremaining: 36m 50s\n",
      "119:\tlearn: 47.0299851\ttotal: 5m 1s\tremaining: 36m 47s\n",
      "120:\tlearn: 210.5758920\ttotal: 5m 3s\tremaining: 36m 47s\n",
      "121:\tlearn: 228.8402832\ttotal: 5m 6s\tremaining: 36m 46s\n",
      "122:\tlearn: 195.5833798\ttotal: 5m 9s\tremaining: 36m 45s\n",
      "123:\tlearn: 165.2035687\ttotal: 5m 12s\tremaining: 36m 45s\n",
      "124:\tlearn: 135.7750264\ttotal: 5m 14s\tremaining: 36m 44s\n",
      "125:\tlearn: 107.3197631\ttotal: 5m 17s\tremaining: 36m 43s\n",
      "126:\tlearn: 118.1506738\ttotal: 5m 20s\tremaining: 36m 41s\n",
      "127:\tlearn: 225.5998430\ttotal: 5m 22s\tremaining: 36m 40s\n",
      "128:\tlearn: 199.7592330\ttotal: 5m 25s\tremaining: 36m 38s\n",
      "129:\tlearn: 176.2097471\ttotal: 5m 28s\tremaining: 36m 37s\n",
      "130:\tlearn: 146.8459952\ttotal: 5m 30s\tremaining: 36m 35s\n",
      "131:\tlearn: 117.4833613\ttotal: 5m 33s\tremaining: 36m 33s\n",
      "132:\tlearn: 88.5785884\ttotal: 5m 36s\tremaining: 36m 31s\n",
      "133:\tlearn: 194.8607086\ttotal: 5m 39s\tremaining: 36m 31s\n",
      "134:\tlearn: 239.5344903\ttotal: 5m 41s\tremaining: 36m 30s\n",
      "135:\tlearn: 207.0946840\ttotal: 5m 44s\tremaining: 36m 28s\n",
      "136:\tlearn: 181.2293558\ttotal: 5m 46s\tremaining: 36m 24s\n",
      "137:\tlearn: 156.8571260\ttotal: 5m 49s\tremaining: 36m 21s\n",
      "138:\tlearn: 134.8664203\ttotal: 5m 51s\tremaining: 36m 19s\n",
      "139:\tlearn: 112.9089179\ttotal: 5m 54s\tremaining: 36m 18s\n",
      "140:\tlearn: 91.0010805\ttotal: 5m 57s\tremaining: 36m 17s\n",
      "141:\tlearn: 69.1476603\ttotal: 6m\tremaining: 36m 15s\n",
      "142:\tlearn: 118.5653676\ttotal: 6m 2s\tremaining: 36m 13s\n",
      "143:\tlearn: 223.4607669\ttotal: 6m 5s\tremaining: 36m 10s\n",
      "144:\tlearn: 191.5864484\ttotal: 6m 7s\tremaining: 36m 8s\n",
      "145:\tlearn: 167.3917862\ttotal: 6m 10s\tremaining: 36m 6s\n",
      "146:\tlearn: 144.8001952\ttotal: 6m 12s\tremaining: 36m 4s\n",
      "147:\tlearn: 122.4986790\ttotal: 6m 15s\tremaining: 36m 2s\n"
     ]
    },
    {
     "name": "stdout",
     "output_type": "stream",
     "text": [
      "148:\tlearn: 100.6359219\ttotal: 6m 18s\tremaining: 36m\n",
      "149:\tlearn: 78.8299704\ttotal: 6m 20s\tremaining: 35m 57s\n",
      "150:\tlearn: 209.9828639\ttotal: 6m 23s\tremaining: 35m 55s\n",
      "151:\tlearn: 189.0187354\ttotal: 6m 25s\tremaining: 35m 53s\n",
      "152:\tlearn: 166.8029866\ttotal: 6m 28s\tremaining: 35m 50s\n",
      "153:\tlearn: 144.9479795\ttotal: 6m 31s\tremaining: 35m 48s\n",
      "154:\tlearn: 123.1220274\ttotal: 6m 33s\tremaining: 35m 46s\n",
      "155:\tlearn: 101.2846117\ttotal: 6m 36s\tremaining: 35m 45s\n",
      "156:\tlearn: 91.2775202\ttotal: 6m 39s\tremaining: 35m 42s\n",
      "157:\tlearn: 262.9267518\ttotal: 6m 42s\tremaining: 35m 42s\n",
      "158:\tlearn: 229.9308785\ttotal: 6m 44s\tremaining: 35m 40s\n",
      "159:\tlearn: 205.3819154\ttotal: 6m 47s\tremaining: 35m 37s\n",
      "160:\tlearn: 181.9587437\ttotal: 6m 49s\tremaining: 35m 35s\n",
      "161:\tlearn: 158.9886449\ttotal: 6m 52s\tremaining: 35m 33s\n",
      "162:\tlearn: 136.0979257\ttotal: 6m 55s\tremaining: 35m 31s\n",
      "163:\tlearn: 113.2125224\ttotal: 6m 57s\tremaining: 35m 28s\n",
      "164:\tlearn: 90.3271191\ttotal: 7m\tremaining: 35m 26s\n",
      "165:\tlearn: 129.5900999\ttotal: 7m 2s\tremaining: 35m 24s\n",
      "166:\tlearn: 164.6455699\ttotal: 7m 5s\tremaining: 35m 22s\n",
      "167:\tlearn: 141.7556278\ttotal: 7m 8s\tremaining: 35m 20s\n",
      "168:\tlearn: 118.8702245\ttotal: 7m 10s\tremaining: 35m 17s\n",
      "169:\tlearn: 95.9848211\ttotal: 7m 13s\tremaining: 35m 16s\n",
      "170:\tlearn: 75.1115878\ttotal: 7m 16s\tremaining: 35m 14s\n",
      "171:\tlearn: 245.0257605\ttotal: 7m 18s\tremaining: 35m 12s\n",
      "172:\tlearn: 211.6876559\ttotal: 7m 21s\tremaining: 35m 10s\n",
      "173:\tlearn: 187.1061416\ttotal: 7m 24s\tremaining: 35m 10s\n",
      "174:\tlearn: 163.6597933\ttotal: 7m 27s\tremaining: 35m 9s\n",
      "175:\tlearn: 141.0253441\ttotal: 7m 30s\tremaining: 35m 7s\n",
      "176:\tlearn: 118.6339108\ttotal: 7m 32s\tremaining: 35m 4s\n",
      "177:\tlearn: 96.4049594\ttotal: 7m 35s\tremaining: 35m 3s\n",
      "178:\tlearn: 74.5695857\ttotal: 7m 38s\tremaining: 35m\n",
      "179:\tlearn: 205.6984967\ttotal: 7m 40s\tremaining: 34m 58s\n",
      "180:\tlearn: 125.9103043\ttotal: 7m 43s\tremaining: 34m 56s\n",
      "181:\tlearn: 104.0576503\ttotal: 7m 46s\tremaining: 34m 54s\n",
      "182:\tlearn: 82.2211698\ttotal: 7m 48s\tremaining: 34m 52s\n",
      "183:\tlearn: 186.4702472\ttotal: 7m 51s\tremaining: 34m 49s\n",
      "184:\tlearn: 243.5194716\ttotal: 7m 53s\tremaining: 34m 47s\n",
      "185:\tlearn: 213.3354264\ttotal: 7m 56s\tremaining: 34m 45s\n",
      "186:\tlearn: 189.4457195\ttotal: 7m 59s\tremaining: 34m 42s\n",
      "187:\tlearn: 166.4347513\ttotal: 8m 1s\tremaining: 34m 40s\n",
      "188:\tlearn: 143.5132128\ttotal: 8m 4s\tremaining: 34m 38s\n",
      "189:\tlearn: 120.6278094\ttotal: 8m 7s\tremaining: 34m 36s\n",
      "190:\tlearn: 97.7424061\ttotal: 8m 9s\tremaining: 34m 33s\n",
      "191:\tlearn: 74.8570028\ttotal: 8m 12s\tremaining: 34m 30s\n",
      "192:\tlearn: 189.0820993\ttotal: 8m 15s\tremaining: 34m 30s\n",
      "193:\tlearn: 184.5004111\ttotal: 8m 18s\tremaining: 34m 29s\n",
      "194:\tlearn: 161.6150078\ttotal: 8m 21s\tremaining: 34m 28s\n",
      "195:\tlearn: 138.7296044\ttotal: 8m 23s\tremaining: 34m 26s\n",
      "196:\tlearn: 115.8442011\ttotal: 8m 26s\tremaining: 34m 25s\n",
      "197:\tlearn: 204.3717629\ttotal: 8m 29s\tremaining: 34m 23s\n",
      "198:\tlearn: 261.6541707\ttotal: 8m 32s\tremaining: 34m 22s\n",
      "199:\tlearn: 231.0044269\ttotal: 8m 35s\tremaining: 34m 21s\n",
      "200:\tlearn: 207.0523641\ttotal: 8m 38s\tremaining: 34m 19s\n",
      "201:\tlearn: 184.0372609\ttotal: 8m 40s\tremaining: 34m 17s\n",
      "202:\tlearn: 161.1090250\ttotal: 8m 43s\tremaining: 34m 15s\n",
      "203:\tlearn: 138.2236217\ttotal: 8m 46s\tremaining: 34m 13s\n",
      "204:\tlearn: 115.3382184\ttotal: 8m 49s\tremaining: 34m 11s\n",
      "205:\tlearn: 92.4528150\ttotal: 8m 51s\tremaining: 34m 9s\n",
      "206:\tlearn: 127.0153841\ttotal: 8m 54s\tremaining: 34m 6s\n",
      "207:\tlearn: 239.8838373\ttotal: 8m 56s\tremaining: 34m 3s\n",
      "208:\tlearn: 207.8639189\ttotal: 8m 59s\tremaining: 34m 1s\n",
      "209:\tlearn: 183.6646838\ttotal: 9m 1s\tremaining: 33m 58s\n",
      "210:\tlearn: 161.0501711\ttotal: 9m 4s\tremaining: 33m 55s\n",
      "211:\tlearn: 138.7697908\ttotal: 9m 6s\tremaining: 33m 53s\n",
      "212:\tlearn: 117.1834911\ttotal: 9m 9s\tremaining: 33m 50s\n",
      "213:\tlearn: 95.3418080\ttotal: 9m 12s\tremaining: 33m 47s\n",
      "214:\tlearn: 73.5045497\ttotal: 9m 14s\tremaining: 33m 45s\n",
      "215:\tlearn: 185.8005568\ttotal: 9m 17s\tremaining: 33m 42s\n",
      "216:\tlearn: 181.9368059\ttotal: 9m 19s\tremaining: 33m 40s\n",
      "217:\tlearn: 160.4930575\ttotal: 9m 22s\tremaining: 33m 37s\n",
      "218:\tlearn: 139.1787097\ttotal: 9m 25s\tremaining: 33m 35s\n",
      "219:\tlearn: 117.3414923\ttotal: 9m 28s\tremaining: 33m 34s\n",
      "220:\tlearn: 110.8944423\ttotal: 9m 30s\tremaining: 33m 32s\n",
      "221:\tlearn: 274.3214827\ttotal: 9m 33s\tremaining: 33m 29s\n",
      "222:\tlearn: 241.8564269\ttotal: 9m 35s\tremaining: 33m 26s\n",
      "223:\tlearn: 217.1085151\ttotal: 9m 38s\tremaining: 33m 23s\n",
      "224:\tlearn: 193.8680147\ttotal: 9m 41s\tremaining: 33m 21s\n",
      "225:\tlearn: 170.9165698\ttotal: 9m 43s\tremaining: 33m 19s\n",
      "226:\tlearn: 148.0266125\ttotal: 9m 46s\tremaining: 33m 17s\n",
      "227:\tlearn: 125.1412092\ttotal: 9m 49s\tremaining: 33m 15s\n",
      "228:\tlearn: 102.2558059\ttotal: 9m 51s\tremaining: 33m 13s\n",
      "229:\tlearn: 80.6528598\ttotal: 9m 55s\tremaining: 33m 12s\n",
      "230:\tlearn: 240.6214133\ttotal: 9m 58s\tremaining: 33m 10s\n",
      "231:\tlearn: 209.0047850\ttotal: 10m\tremaining: 33m 8s\n",
      "232:\tlearn: 184.5719413\ttotal: 10m 3s\tremaining: 33m 7s\n",
      "233:\tlearn: 161.5252768\ttotal: 10m 6s\tremaining: 33m 6s\n",
      "234:\tlearn: 140.2005432\ttotal: 10m 9s\tremaining: 33m 4s\n",
      "235:\tlearn: 117.3109384\ttotal: 10m 12s\tremaining: 33m 3s\n",
      "236:\tlearn: 94.4255350\ttotal: 10m 15s\tremaining: 33m 2s\n",
      "237:\tlearn: 130.1567275\ttotal: 10m 18s\tremaining: 33m\n",
      "238:\tlearn: 177.5943354\ttotal: 10m 22s\tremaining: 33m\n",
      "239:\tlearn: 154.6730558\ttotal: 10m 24s\tremaining: 32m 59s\n",
      "240:\tlearn: 131.7876525\ttotal: 10m 27s\tremaining: 32m 57s\n",
      "241:\tlearn: 108.9022492\ttotal: 10m 30s\tremaining: 32m 54s\n",
      "242:\tlearn: 86.0168458\ttotal: 10m 33s\tremaining: 32m 52s\n",
      "243:\tlearn: 138.6428536\ttotal: 10m 35s\tremaining: 32m 49s\n",
      "244:\tlearn: 232.1913702\ttotal: 10m 38s\tremaining: 32m 48s\n",
      "245:\tlearn: 191.2691712\ttotal: 10m 41s\tremaining: 32m 45s\n",
      "246:\tlearn: 171.6026902\ttotal: 10m 44s\tremaining: 32m 43s\n",
      "247:\tlearn: 148.2207522\ttotal: 10m 46s\tremaining: 32m 40s\n",
      "248:\tlearn: 125.2134178\ttotal: 10m 49s\tremaining: 32m 38s\n",
      "249:\tlearn: 205.3057658\ttotal: 10m 52s\tremaining: 32m 36s\n",
      "250:\tlearn: 233.0245756\ttotal: 10m 54s\tremaining: 32m 33s\n",
      "251:\tlearn: 209.4352992\ttotal: 10m 57s\tremaining: 32m 31s\n",
      "252:\tlearn: 186.5833809\ttotal: 10m 59s\tremaining: 32m 28s\n",
      "253:\tlearn: 164.4971271\ttotal: 11m 2s\tremaining: 32m 26s\n",
      "254:\tlearn: 142.6552863\ttotal: 11m 5s\tremaining: 32m 23s\n",
      "255:\tlearn: 121.1994354\ttotal: 11m 7s\tremaining: 32m 21s\n",
      "256:\tlearn: 99.3622521\ttotal: 11m 10s\tremaining: 32m 18s\n",
      "257:\tlearn: 139.0770073\ttotal: 11m 13s\tremaining: 32m 16s\n",
      "258:\tlearn: 252.3829445\ttotal: 11m 15s\tremaining: 32m 13s\n",
      "259:\tlearn: 221.5184296\ttotal: 11m 18s\tremaining: 32m 10s\n",
      "260:\tlearn: 197.5506744\ttotal: 11m 21s\tremaining: 32m 8s\n",
      "261:\tlearn: 174.5171349\ttotal: 11m 23s\tremaining: 32m 5s\n",
      "262:\tlearn: 151.5931001\ttotal: 11m 26s\tremaining: 32m 3s\n",
      "263:\tlearn: 128.7076968\ttotal: 11m 28s\tremaining: 32m\n",
      "264:\tlearn: 105.8222935\ttotal: 11m 31s\tremaining: 31m 57s\n",
      "265:\tlearn: 82.9368901\ttotal: 11m 34s\tremaining: 31m 55s\n",
      "266:\tlearn: 168.2416703\ttotal: 11m 36s\tremaining: 31m 53s\n",
      "267:\tlearn: 188.1647060\ttotal: 11m 39s\tremaining: 31m 51s\n",
      "268:\tlearn: 165.2793026\ttotal: 11m 42s\tremaining: 31m 48s\n",
      "269:\tlearn: 142.3938993\ttotal: 11m 45s\tremaining: 31m 46s\n",
      "270:\tlearn: 119.5084960\ttotal: 11m 47s\tremaining: 31m 43s\n",
      "271:\tlearn: 219.5789328\ttotal: 11m 50s\tremaining: 31m 41s\n",
      "272:\tlearn: 259.0488365\ttotal: 11m 53s\tremaining: 31m 39s\n",
      "273:\tlearn: 233.5883053\ttotal: 11m 55s\tremaining: 31m 37s\n",
      "274:\tlearn: 209.7776951\ttotal: 11m 58s\tremaining: 31m 34s\n",
      "275:\tlearn: 186.8455247\ttotal: 12m 1s\tremaining: 31m 32s\n",
      "276:\tlearn: 164.5556976\ttotal: 12m 4s\tremaining: 31m 30s\n",
      "277:\tlearn: 142.6882148\ttotal: 12m 6s\tremaining: 31m 27s\n",
      "278:\tlearn: 120.8517316\ttotal: 12m 9s\tremaining: 31m 26s\n",
      "279:\tlearn: 99.5569178\ttotal: 12m 12s\tremaining: 31m 23s\n",
      "280:\tlearn: 141.0345387\ttotal: 12m 15s\tremaining: 31m 20s\n",
      "281:\tlearn: 249.0584740\ttotal: 12m 17s\tremaining: 31m 17s\n",
      "282:\tlearn: 221.6514088\ttotal: 12m 20s\tremaining: 31m 15s\n",
      "283:\tlearn: 197.6711919\ttotal: 12m 22s\tremaining: 31m 12s\n",
      "284:\tlearn: 174.6384437\ttotal: 12m 25s\tremaining: 31m 9s\n",
      "285:\tlearn: 151.7157031\ttotal: 12m 27s\tremaining: 31m 6s\n",
      "286:\tlearn: 128.8302998\ttotal: 12m 30s\tremaining: 31m 4s\n",
      "287:\tlearn: 105.9448964\ttotal: 12m 32s\tremaining: 31m 1s\n",
      "288:\tlearn: 188.6974731\ttotal: 12m 35s\tremaining: 30m 58s\n",
      "289:\tlearn: 178.4314004\ttotal: 12m 38s\tremaining: 30m 55s\n",
      "290:\tlearn: 155.5363039\ttotal: 12m 40s\tremaining: 30m 53s\n",
      "291:\tlearn: 132.6509006\ttotal: 12m 43s\tremaining: 30m 50s\n",
      "292:\tlearn: 109.7654973\ttotal: 12m 45s\tremaining: 30m 47s\n"
     ]
    },
    {
     "name": "stdout",
     "output_type": "stream",
     "text": [
      "293:\tlearn: 86.8800939\ttotal: 12m 48s\tremaining: 30m 44s\n",
      "294:\tlearn: 200.6790582\ttotal: 12m 50s\tremaining: 30m 41s\n",
      "295:\tlearn: 223.3396051\ttotal: 12m 53s\tremaining: 30m 38s\n",
      "296:\tlearn: 197.9823312\ttotal: 12m 55s\tremaining: 30m 36s\n",
      "297:\tlearn: 174.6917884\ttotal: 12m 58s\tremaining: 30m 33s\n",
      "298:\tlearn: 152.5633775\ttotal: 13m\tremaining: 30m 30s\n",
      "299:\tlearn: 139.7157627\ttotal: 13m 3s\tremaining: 30m 27s\n",
      "300:\tlearn: 258.7571485\ttotal: 13m 5s\tremaining: 30m 24s\n",
      "301:\tlearn: 235.4173434\ttotal: 13m 8s\tremaining: 30m 22s\n",
      "302:\tlearn: 212.2769565\ttotal: 13m 10s\tremaining: 30m 19s\n",
      "303:\tlearn: 189.3244236\ttotal: 13m 13s\tremaining: 30m 16s\n",
      "304:\tlearn: 166.4348603\ttotal: 13m 15s\tremaining: 30m 13s\n",
      "305:\tlearn: 143.5494570\ttotal: 13m 18s\tremaining: 30m 11s\n",
      "306:\tlearn: 120.6640537\ttotal: 13m 21s\tremaining: 30m 8s\n",
      "307:\tlearn: 116.4398791\ttotal: 13m 23s\tremaining: 30m 5s\n",
      "308:\tlearn: 256.9184919\ttotal: 13m 26s\tremaining: 30m 2s\n",
      "309:\tlearn: 225.7970648\ttotal: 13m 28s\tremaining: 30m\n",
      "310:\tlearn: 201.7865726\ttotal: 13m 31s\tremaining: 29m 57s\n",
      "311:\tlearn: 178.6243711\ttotal: 13m 33s\tremaining: 29m 54s\n",
      "312:\tlearn: 156.3702476\ttotal: 13m 36s\tremaining: 29m 51s\n",
      "313:\tlearn: 134.4905606\ttotal: 13m 39s\tremaining: 29m 49s\n",
      "314:\tlearn: 112.6802743\ttotal: 13m 41s\tremaining: 29m 46s\n",
      "315:\tlearn: 90.8485282\ttotal: 13m 44s\tremaining: 29m 44s\n",
      "316:\tlearn: 162.6573260\ttotal: 13m 47s\tremaining: 29m 43s\n",
      "317:\tlearn: 191.3844062\ttotal: 13m 50s\tremaining: 29m 41s\n",
      "318:\tlearn: 170.2406682\ttotal: 13m 53s\tremaining: 29m 38s\n",
      "319:\tlearn: 148.4895402\ttotal: 13m 55s\tremaining: 29m 35s\n",
      "320:\tlearn: 126.8316898\ttotal: 13m 57s\tremaining: 29m 31s\n",
      "321:\tlearn: 217.9701449\ttotal: 13m 59s\tremaining: 29m 27s\n",
      "322:\tlearn: 261.2484994\ttotal: 14m 1s\tremaining: 29m 24s\n",
      "323:\tlearn: 235.6957099\ttotal: 14m 4s\tremaining: 29m 21s\n",
      "324:\tlearn: 215.4658374\ttotal: 14m 6s\tremaining: 29m 17s\n",
      "325:\tlearn: 186.1490218\ttotal: 14m 8s\tremaining: 29m 14s\n",
      "326:\tlearn: 159.5997591\ttotal: 14m 10s\tremaining: 29m 11s\n",
      "327:\tlearn: 136.7071635\ttotal: 14m 12s\tremaining: 29m 7s\n",
      "328:\tlearn: 114.2022326\ttotal: 14m 15s\tremaining: 29m 4s\n",
      "329:\tlearn: 111.2104631\ttotal: 14m 17s\tremaining: 29m\n",
      "330:\tlearn: 107.5703774\ttotal: 14m 19s\tremaining: 28m 57s\n",
      "331:\tlearn: 259.3371038\ttotal: 14m 21s\tremaining: 28m 53s\n",
      "332:\tlearn: 231.6336995\ttotal: 14m 23s\tremaining: 28m 50s\n",
      "333:\tlearn: 207.6599454\ttotal: 14m 26s\tremaining: 28m 47s\n",
      "334:\tlearn: 184.5534090\ttotal: 14m 28s\tremaining: 28m 43s\n",
      "335:\tlearn: 161.6373181\ttotal: 14m 30s\tremaining: 28m 40s\n",
      "336:\tlearn: 138.7519148\ttotal: 14m 32s\tremaining: 28m 37s\n",
      "337:\tlearn: 115.8665115\ttotal: 14m 35s\tremaining: 28m 34s\n",
      "338:\tlearn: 152.7716473\ttotal: 14m 37s\tremaining: 28m 31s\n",
      "339:\tlearn: 213.5014479\ttotal: 14m 40s\tremaining: 28m 28s\n",
      "340:\tlearn: 190.6115211\ttotal: 14m 42s\tremaining: 28m 25s\n",
      "341:\tlearn: 167.7261177\ttotal: 14m 45s\tremaining: 28m 22s\n",
      "342:\tlearn: 144.8407144\ttotal: 14m 47s\tremaining: 28m 20s\n",
      "343:\tlearn: 124.4665348\ttotal: 14m 50s\tremaining: 28m 17s\n",
      "344:\tlearn: 276.0098065\ttotal: 14m 52s\tremaining: 28m 14s\n",
      "345:\tlearn: 248.0600154\ttotal: 14m 54s\tremaining: 28m 11s\n",
      "346:\tlearn: 223.9862368\ttotal: 14m 56s\tremaining: 28m 7s\n",
      "347:\tlearn: 200.8688495\ttotal: 14m 59s\tremaining: 28m 4s\n",
      "348:\tlearn: 177.9372785\ttotal: 15m 1s\tremaining: 28m 1s\n",
      "349:\tlearn: 155.0518752\ttotal: 15m 4s\tremaining: 27m 58s\n",
      "350:\tlearn: 132.1664718\ttotal: 15m 6s\tremaining: 27m 55s\n",
      "351:\tlearn: 109.2810685\ttotal: 15m 8s\tremaining: 27m 52s\n",
      "352:\tlearn: 147.2834662\ttotal: 15m 10s\tremaining: 27m 49s\n",
      "353:\tlearn: 244.0971283\ttotal: 15m 13s\tremaining: 27m 46s\n",
      "354:\tlearn: 216.4515345\ttotal: 15m 15s\tremaining: 27m 43s\n",
      "355:\tlearn: 196.0506280\ttotal: 15m 17s\tremaining: 27m 40s\n",
      "356:\tlearn: 172.9280401\ttotal: 15m 20s\tremaining: 27m 37s\n",
      "357:\tlearn: 149.9861426\ttotal: 15m 22s\tremaining: 27m 34s\n",
      "358:\tlearn: 127.2334076\ttotal: 15m 24s\tremaining: 27m 31s\n",
      "359:\tlearn: 104.8435536\ttotal: 15m 27s\tremaining: 27m 28s\n",
      "360:\tlearn: 200.1208496\ttotal: 15m 29s\tremaining: 27m 25s\n",
      "361:\tlearn: 204.0111698\ttotal: 15m 31s\tremaining: 27m 21s\n",
      "362:\tlearn: 181.1209684\ttotal: 15m 33s\tremaining: 27m 18s\n",
      "363:\tlearn: 158.2355651\ttotal: 15m 36s\tremaining: 27m 15s\n",
      "364:\tlearn: 135.3501617\ttotal: 15m 38s\tremaining: 27m 12s\n",
      "365:\tlearn: 112.4647584\ttotal: 15m 40s\tremaining: 27m 9s\n",
      "366:\tlearn: 254.3996287\ttotal: 15m 42s\tremaining: 27m 6s\n",
      "367:\tlearn: 212.6363552\ttotal: 15m 45s\tremaining: 27m 3s\n",
      "368:\tlearn: 189.5381410\ttotal: 15m 47s\tremaining: 27m\n",
      "369:\tlearn: 166.6241447\ttotal: 15m 49s\tremaining: 26m 56s\n",
      "370:\tlearn: 143.7792900\ttotal: 15m 51s\tremaining: 26m 53s\n",
      "371:\tlearn: 120.6667198\ttotal: 15m 54s\tremaining: 26m 50s\n",
      "372:\tlearn: 100.8904029\ttotal: 15m 56s\tremaining: 26m 47s\n",
      "373:\tlearn: 188.5449797\ttotal: 15m 58s\tremaining: 26m 44s\n",
      "374:\tlearn: 165.6595761\ttotal: 16m\tremaining: 26m 41s\n",
      "375:\tlearn: 142.7741728\ttotal: 16m 2s\tremaining: 26m 38s\n",
      "376:\tlearn: 119.8887694\ttotal: 16m 5s\tremaining: 26m 35s\n",
      "377:\tlearn: 134.5997974\ttotal: 16m 7s\tremaining: 26m 31s\n",
      "378:\tlearn: 247.2432031\ttotal: 16m 9s\tremaining: 26m 28s\n",
      "379:\tlearn: 221.2496603\ttotal: 16m 11s\tremaining: 26m 25s\n",
      "380:\tlearn: 197.5029325\ttotal: 16m 14s\tremaining: 26m 22s\n",
      "381:\tlearn: 174.4223634\ttotal: 16m 16s\tremaining: 26m 19s\n",
      "382:\tlearn: 151.5514122\ttotal: 16m 18s\tremaining: 26m 16s\n",
      "383:\tlearn: 128.4425587\ttotal: 16m 20s\tremaining: 26m 13s\n",
      "384:\tlearn: 104.9115438\ttotal: 16m 23s\tremaining: 26m 10s\n",
      "385:\tlearn: 112.1090651\ttotal: 16m 25s\tremaining: 26m 7s\n",
      "386:\tlearn: 199.6906255\ttotal: 16m 27s\tremaining: 26m 4s\n",
      "387:\tlearn: 176.8001088\ttotal: 16m 29s\tremaining: 26m 1s\n",
      "388:\tlearn: 154.0027970\ttotal: 16m 31s\tremaining: 25m 58s\n",
      "389:\tlearn: 130.9209802\ttotal: 16m 34s\tremaining: 25m 54s\n",
      "390:\tlearn: 172.2618073\ttotal: 16m 36s\tremaining: 25m 51s\n",
      "391:\tlearn: 283.7707920\ttotal: 16m 38s\tremaining: 25m 48s\n",
      "392:\tlearn: 257.4296551\ttotal: 16m 40s\tremaining: 25m 45s\n",
      "393:\tlearn: 233.6017081\ttotal: 16m 43s\tremaining: 25m 42s\n",
      "394:\tlearn: 210.5190661\ttotal: 16m 45s\tremaining: 25m 39s\n",
      "395:\tlearn: 187.6131579\ttotal: 16m 47s\tremaining: 25m 36s\n",
      "396:\tlearn: 164.7271200\ttotal: 16m 49s\tremaining: 25m 33s\n",
      "397:\tlearn: 141.8417167\ttotal: 16m 52s\tremaining: 25m 30s\n",
      "398:\tlearn: 118.9563134\ttotal: 16m 54s\tremaining: 25m 27s\n",
      "399:\tlearn: 213.3141000\ttotal: 16m 56s\tremaining: 25m 24s\n",
      "400:\tlearn: 248.8048357\ttotal: 16m 58s\tremaining: 25m 21s\n",
      "401:\tlearn: 222.1378226\ttotal: 17m\tremaining: 25m 18s\n",
      "402:\tlearn: 198.7572244\ttotal: 17m 3s\tremaining: 25m 15s\n",
      "403:\tlearn: 175.7532376\ttotal: 17m 5s\tremaining: 25m 12s\n",
      "404:\tlearn: 152.8486539\ttotal: 17m 7s\tremaining: 25m 10s\n",
      "405:\tlearn: 129.9595086\ttotal: 17m 10s\tremaining: 25m 7s\n",
      "406:\tlearn: 113.3101858\ttotal: 17m 12s\tremaining: 25m 4s\n",
      "407:\tlearn: 223.5544073\ttotal: 17m 14s\tremaining: 25m 1s\n",
      "408:\tlearn: 200.6510010\ttotal: 17m 17s\tremaining: 24m 58s\n",
      "409:\tlearn: 177.7655977\ttotal: 17m 19s\tremaining: 24m 55s\n",
      "410:\tlearn: 154.8801943\ttotal: 17m 21s\tremaining: 24m 52s\n",
      "411:\tlearn: 131.9947910\ttotal: 17m 24s\tremaining: 24m 50s\n",
      "412:\tlearn: 228.6111028\ttotal: 17m 26s\tremaining: 24m 47s\n",
      "413:\tlearn: 261.5113607\ttotal: 17m 28s\tremaining: 24m 44s\n",
      "414:\tlearn: 235.5839261\ttotal: 17m 30s\tremaining: 24m 41s\n",
      "415:\tlearn: 212.0828031\ttotal: 17m 33s\tremaining: 24m 38s\n",
      "416:\tlearn: 189.0812876\ttotal: 17m 35s\tremaining: 24m 35s\n",
      "417:\tlearn: 166.1845043\ttotal: 17m 37s\tremaining: 24m 32s\n",
      "418:\tlearn: 143.2991010\ttotal: 17m 39s\tremaining: 24m 29s\n",
      "419:\tlearn: 120.4136977\ttotal: 17m 42s\tremaining: 24m 26s\n",
      "420:\tlearn: 97.5282943\ttotal: 17m 44s\tremaining: 24m 23s\n",
      "421:\tlearn: 242.5429082\ttotal: 17m 46s\tremaining: 24m 20s\n",
      "422:\tlearn: 201.2387593\ttotal: 17m 48s\tremaining: 24m 17s\n",
      "423:\tlearn: 233.9801993\ttotal: 17m 50s\tremaining: 24m 14s\n",
      "424:\tlearn: 199.3997932\ttotal: 17m 53s\tremaining: 24m 11s\n",
      "425:\tlearn: 176.5869538\ttotal: 17m 55s\tremaining: 24m 8s\n",
      "426:\tlearn: 152.3763722\ttotal: 17m 57s\tremaining: 24m 5s\n",
      "427:\tlearn: 133.7628522\ttotal: 17m 59s\tremaining: 24m 2s\n",
      "428:\tlearn: 114.3155561\ttotal: 18m 1s\tremaining: 23m 59s\n",
      "429:\tlearn: 225.6341024\ttotal: 18m 3s\tremaining: 23m 56s\n",
      "430:\tlearn: 199.2091353\ttotal: 18m 6s\tremaining: 23m 53s\n",
      "431:\tlearn: 196.7613618\ttotal: 18m 8s\tremaining: 23m 51s\n",
      "432:\tlearn: 174.8345375\ttotal: 18m 10s\tremaining: 23m 48s\n",
      "433:\tlearn: 152.9825907\ttotal: 18m 12s\tremaining: 23m 45s\n",
      "434:\tlearn: 131.4885848\ttotal: 18m 15s\tremaining: 23m 42s\n",
      "435:\tlearn: 132.8099473\ttotal: 18m 17s\tremaining: 23m 39s\n"
     ]
    },
    {
     "name": "stdout",
     "output_type": "stream",
     "text": [
      "436:\tlearn: 267.3485116\ttotal: 18m 19s\tremaining: 23m 36s\n",
      "437:\tlearn: 233.1130494\ttotal: 18m 21s\tremaining: 23m 33s\n",
      "438:\tlearn: 206.2783716\ttotal: 18m 24s\tremaining: 23m 31s\n",
      "439:\tlearn: 184.2178403\ttotal: 18m 26s\tremaining: 23m 27s\n",
      "440:\tlearn: 162.7168404\ttotal: 18m 28s\tremaining: 23m 24s\n",
      "441:\tlearn: 141.2955313\ttotal: 18m 30s\tremaining: 23m 22s\n",
      "442:\tlearn: 119.8900772\ttotal: 18m 32s\tremaining: 23m 19s\n",
      "443:\tlearn: 98.4846230\ttotal: 18m 35s\tremaining: 23m 16s\n",
      "444:\tlearn: 195.7922514\ttotal: 18m 37s\tremaining: 23m 13s\n",
      "445:\tlearn: 222.6659609\ttotal: 18m 39s\tremaining: 23m 10s\n",
      "446:\tlearn: 190.0849173\ttotal: 18m 42s\tremaining: 23m 8s\n",
      "447:\tlearn: 167.4205356\ttotal: 18m 44s\tremaining: 23m 5s\n",
      "448:\tlearn: 147.3475848\ttotal: 18m 46s\tremaining: 23m 2s\n",
      "449:\tlearn: 128.0222466\ttotal: 18m 49s\tremaining: 22m 59s\n",
      "450:\tlearn: 109.8160238\ttotal: 18m 51s\tremaining: 22m 57s\n",
      "451:\tlearn: 170.2413421\ttotal: 18m 53s\tremaining: 22m 54s\n",
      "452:\tlearn: 191.4180275\ttotal: 18m 56s\tremaining: 22m 51s\n",
      "453:\tlearn: 176.8317415\ttotal: 18m 58s\tremaining: 22m 49s\n",
      "454:\tlearn: 156.7332344\ttotal: 19m\tremaining: 22m 46s\n",
      "455:\tlearn: 136.7468937\ttotal: 19m 2s\tremaining: 22m 43s\n",
      "456:\tlearn: 118.4640348\ttotal: 19m 5s\tremaining: 22m 40s\n",
      "457:\tlearn: 154.0952903\ttotal: 19m 7s\tremaining: 22m 38s\n",
      "458:\tlearn: 229.9313839\ttotal: 19m 9s\tremaining: 22m 35s\n",
      "459:\tlearn: 200.9764997\ttotal: 19m 12s\tremaining: 22m 32s\n",
      "460:\tlearn: 185.4753842\ttotal: 19m 14s\tremaining: 22m 29s\n",
      "461:\tlearn: 164.1458211\ttotal: 19m 16s\tremaining: 22m 27s\n",
      "462:\tlearn: 144.0284332\ttotal: 19m 19s\tremaining: 22m 24s\n",
      "463:\tlearn: 125.3145295\ttotal: 19m 21s\tremaining: 22m 21s\n",
      "464:\tlearn: 165.5177399\ttotal: 19m 23s\tremaining: 22m 18s\n",
      "465:\tlearn: 182.7338179\ttotal: 19m 26s\tremaining: 22m 16s\n",
      "466:\tlearn: 165.2778275\ttotal: 19m 28s\tremaining: 22m 13s\n",
      "467:\tlearn: 146.7240886\ttotal: 19m 30s\tremaining: 22m 10s\n",
      "468:\tlearn: 132.4273437\ttotal: 19m 32s\tremaining: 22m 8s\n",
      "469:\tlearn: 132.4255314\ttotal: 19m 35s\tremaining: 22m 5s\n",
      "470:\tlearn: 124.9213364\ttotal: 19m 37s\tremaining: 22m 2s\n",
      "471:\tlearn: 103.2322313\ttotal: 19m 39s\tremaining: 21m 59s\n",
      "472:\tlearn: 185.2020420\ttotal: 19m 41s\tremaining: 21m 56s\n",
      "473:\tlearn: 216.6566573\ttotal: 19m 43s\tremaining: 21m 53s\n",
      "474:\tlearn: 186.4021198\ttotal: 19m 46s\tremaining: 21m 51s\n",
      "475:\tlearn: 167.3900707\ttotal: 19m 48s\tremaining: 21m 48s\n",
      "476:\tlearn: 150.0398583\ttotal: 19m 50s\tremaining: 21m 45s\n",
      "477:\tlearn: 133.9935427\ttotal: 19m 52s\tremaining: 21m 42s\n",
      "478:\tlearn: 125.5482130\ttotal: 19m 54s\tremaining: 21m 39s\n",
      "479:\tlearn: 218.6620585\ttotal: 19m 56s\tremaining: 21m 36s\n",
      "480:\tlearn: 201.4421999\ttotal: 19m 59s\tremaining: 21m 33s\n",
      "481:\tlearn: 184.7822412\ttotal: 20m 1s\tremaining: 21m 30s\n",
      "482:\tlearn: 167.7685020\ttotal: 20m 3s\tremaining: 21m 28s\n",
      "483:\tlearn: 150.8512088\ttotal: 20m 5s\tremaining: 21m 25s\n",
      "484:\tlearn: 133.9675376\ttotal: 20m 7s\tremaining: 21m 22s\n",
      "485:\tlearn: 117.0868688\ttotal: 20m 10s\tremaining: 21m 19s\n",
      "486:\tlearn: 150.4719398\ttotal: 20m 12s\tremaining: 21m 17s\n",
      "487:\tlearn: 207.8738092\ttotal: 20m 14s\tremaining: 21m 14s\n",
      "488:\tlearn: 184.8236793\ttotal: 20m 16s\tremaining: 21m 11s\n",
      "489:\tlearn: 176.2130080\ttotal: 20m 18s\tremaining: 21m 8s\n",
      "490:\tlearn: 143.8689435\ttotal: 20m 20s\tremaining: 21m 5s\n",
      "491:\tlearn: 122.6366542\ttotal: 20m 22s\tremaining: 21m 2s\n",
      "492:\tlearn: 118.2112648\ttotal: 20m 24s\tremaining: 20m 59s\n",
      "493:\tlearn: 107.6022191\ttotal: 20m 27s\tremaining: 20m 56s\n",
      "494:\tlearn: 198.2638939\ttotal: 20m 29s\tremaining: 20m 54s\n",
      "495:\tlearn: 175.8484399\ttotal: 20m 31s\tremaining: 20m 51s\n",
      "496:\tlearn: 170.4992256\ttotal: 20m 33s\tremaining: 20m 48s\n",
      "497:\tlearn: 135.4796737\ttotal: 20m 35s\tremaining: 20m 45s\n",
      "498:\tlearn: 115.4987386\ttotal: 20m 37s\tremaining: 20m 42s\n",
      "499:\tlearn: 110.4040471\ttotal: 20m 39s\tremaining: 20m 39s\n",
      "500:\tlearn: 105.9578982\ttotal: 20m 42s\tremaining: 20m 37s\n",
      "501:\tlearn: 158.6838111\ttotal: 20m 44s\tremaining: 20m 34s\n",
      "502:\tlearn: 138.9690053\ttotal: 20m 46s\tremaining: 20m 31s\n",
      "503:\tlearn: 136.7983044\ttotal: 20m 48s\tremaining: 20m 29s\n",
      "504:\tlearn: 144.1168194\ttotal: 20m 51s\tremaining: 20m 26s\n",
      "505:\tlearn: 192.3041867\ttotal: 20m 53s\tremaining: 20m 23s\n",
      "506:\tlearn: 186.4457501\ttotal: 20m 55s\tremaining: 20m 21s\n",
      "507:\tlearn: 154.7430579\ttotal: 20m 57s\tremaining: 20m 18s\n",
      "508:\tlearn: 136.1336366\ttotal: 21m\tremaining: 20m 15s\n",
      "509:\tlearn: 130.1342405\ttotal: 21m 2s\tremaining: 20m 12s\n",
      "510:\tlearn: 104.0922457\ttotal: 21m 4s\tremaining: 20m 10s\n",
      "511:\tlearn: 129.2265283\ttotal: 21m 6s\tremaining: 20m 7s\n",
      "512:\tlearn: 188.1454389\ttotal: 21m 9s\tremaining: 20m 4s\n",
      "513:\tlearn: 179.2117382\ttotal: 21m 11s\tremaining: 20m 1s\n",
      "514:\tlearn: 143.4080556\ttotal: 21m 13s\tremaining: 19m 59s\n",
      "515:\tlearn: 131.7551497\ttotal: 21m 15s\tremaining: 19m 56s\n",
      "516:\tlearn: 102.9993557\ttotal: 21m 17s\tremaining: 19m 53s\n",
      "517:\tlearn: 86.3987880\ttotal: 21m 19s\tremaining: 19m 50s\n",
      "518:\tlearn: 148.2608520\ttotal: 21m 22s\tremaining: 19m 48s\n",
      "519:\tlearn: 219.2703726\ttotal: 21m 24s\tremaining: 19m 45s\n",
      "520:\tlearn: 196.3204381\ttotal: 21m 26s\tremaining: 19m 43s\n",
      "521:\tlearn: 183.1406751\ttotal: 21m 28s\tremaining: 19m 40s\n",
      "522:\tlearn: 177.5250742\ttotal: 21m 31s\tremaining: 19m 37s\n",
      "523:\tlearn: 169.7320876\ttotal: 21m 33s\tremaining: 19m 34s\n",
      "524:\tlearn: 163.1628314\ttotal: 21m 35s\tremaining: 19m 31s\n",
      "525:\tlearn: 156.5201985\ttotal: 21m 37s\tremaining: 19m 29s\n",
      "526:\tlearn: 171.3985463\ttotal: 21m 39s\tremaining: 19m 26s\n",
      "527:\tlearn: 197.8716343\ttotal: 21m 41s\tremaining: 19m 23s\n",
      "528:\tlearn: 193.9278250\ttotal: 21m 43s\tremaining: 19m 21s\n",
      "529:\tlearn: 163.9979315\ttotal: 21m 46s\tremaining: 19m 18s\n",
      "530:\tlearn: 141.4702978\ttotal: 21m 48s\tremaining: 19m 15s\n",
      "531:\tlearn: 128.4647741\ttotal: 21m 50s\tremaining: 19m 12s\n",
      "532:\tlearn: 111.6461406\ttotal: 21m 52s\tremaining: 19m 10s\n",
      "533:\tlearn: 111.6444275\ttotal: 21m 54s\tremaining: 19m 7s\n",
      "534:\tlearn: 95.3251322\ttotal: 21m 57s\tremaining: 19m 4s\n",
      "535:\tlearn: 120.6859576\ttotal: 21m 59s\tremaining: 19m 2s\n",
      "536:\tlearn: 183.3111548\ttotal: 22m 1s\tremaining: 18m 59s\n",
      "537:\tlearn: 179.1992568\ttotal: 22m 3s\tremaining: 18m 56s\n",
      "538:\tlearn: 139.3393186\ttotal: 22m 5s\tremaining: 18m 54s\n",
      "539:\tlearn: 131.2604567\ttotal: 22m 8s\tremaining: 18m 51s\n",
      "540:\tlearn: 100.4230385\ttotal: 22m 10s\tremaining: 18m 48s\n",
      "541:\tlearn: 101.0513451\ttotal: 22m 12s\tremaining: 18m 46s\n",
      "542:\tlearn: 154.8874516\ttotal: 22m 14s\tremaining: 18m 43s\n",
      "543:\tlearn: 157.9038431\ttotal: 22m 17s\tremaining: 18m 40s\n",
      "544:\tlearn: 119.8885824\ttotal: 22m 19s\tremaining: 18m 38s\n",
      "545:\tlearn: 106.7775533\ttotal: 22m 21s\tremaining: 18m 35s\n",
      "546:\tlearn: 150.3913908\ttotal: 22m 23s\tremaining: 18m 32s\n",
      "547:\tlearn: 184.0934434\ttotal: 22m 26s\tremaining: 18m 30s\n",
      "548:\tlearn: 162.1674212\ttotal: 22m 28s\tremaining: 18m 27s\n",
      "549:\tlearn: 166.8256224\ttotal: 22m 30s\tremaining: 18m 24s\n",
      "550:\tlearn: 125.7615456\ttotal: 22m 32s\tremaining: 18m 22s\n",
      "551:\tlearn: 106.6771727\ttotal: 22m 34s\tremaining: 18m 19s\n",
      "552:\tlearn: 119.1870158\ttotal: 22m 37s\tremaining: 18m 16s\n",
      "553:\tlearn: 144.1255512\ttotal: 22m 39s\tremaining: 18m 14s\n",
      "554:\tlearn: 141.4503000\ttotal: 22m 41s\tremaining: 18m 11s\n",
      "555:\tlearn: 109.2673444\ttotal: 22m 44s\tremaining: 18m 9s\n",
      "556:\tlearn: 92.0832483\ttotal: 22m 46s\tremaining: 18m 6s\n",
      "557:\tlearn: 114.5314580\ttotal: 22m 48s\tremaining: 18m 4s\n",
      "558:\tlearn: 218.4634922\ttotal: 22m 51s\tremaining: 18m 1s\n",
      "559:\tlearn: 192.2444691\ttotal: 22m 53s\tremaining: 17m 59s\n",
      "560:\tlearn: 169.8730025\ttotal: 22m 55s\tremaining: 17m 56s\n",
      "561:\tlearn: 150.1680585\ttotal: 22m 58s\tremaining: 17m 54s\n",
      "562:\tlearn: 128.4092339\ttotal: 23m\tremaining: 17m 51s\n",
      "563:\tlearn: 169.8783452\ttotal: 23m 2s\tremaining: 17m 49s\n",
      "564:\tlearn: 140.5156931\ttotal: 23m 5s\tremaining: 17m 46s\n",
      "565:\tlearn: 119.0873477\ttotal: 23m 7s\tremaining: 17m 44s\n",
      "566:\tlearn: 98.8965408\ttotal: 23m 10s\tremaining: 17m 41s\n",
      "567:\tlearn: 95.4291925\ttotal: 23m 12s\tremaining: 17m 38s\n",
      "568:\tlearn: 141.4972085\ttotal: 23m 14s\tremaining: 17m 36s\n",
      "569:\tlearn: 151.7429990\ttotal: 23m 16s\tremaining: 17m 33s\n",
      "570:\tlearn: 131.3558329\ttotal: 23m 19s\tremaining: 17m 31s\n",
      "571:\tlearn: 128.7589258\ttotal: 23m 21s\tremaining: 17m 28s\n",
      "572:\tlearn: 154.5914615\ttotal: 23m 23s\tremaining: 17m 25s\n",
      "573:\tlearn: 207.4000332\ttotal: 23m 25s\tremaining: 17m 23s\n",
      "574:\tlearn: 196.4028527\ttotal: 23m 28s\tremaining: 17m 20s\n",
      "575:\tlearn: 163.7787370\ttotal: 23m 30s\tremaining: 17m 18s\n",
      "576:\tlearn: 142.1499787\ttotal: 23m 32s\tremaining: 17m 15s\n",
      "577:\tlearn: 142.8331860\ttotal: 23m 34s\tremaining: 17m 12s\n",
      "578:\tlearn: 113.7011610\ttotal: 23m 36s\tremaining: 17m 10s\n"
     ]
    },
    {
     "name": "stdout",
     "output_type": "stream",
     "text": [
      "579:\tlearn: 105.2236422\ttotal: 23m 38s\tremaining: 17m 7s\n",
      "580:\tlearn: 160.3045356\ttotal: 23m 41s\tremaining: 17m 4s\n",
      "581:\tlearn: 189.5686573\ttotal: 23m 43s\tremaining: 17m 2s\n",
      "582:\tlearn: 167.6645759\ttotal: 23m 45s\tremaining: 16m 59s\n",
      "583:\tlearn: 161.3626435\ttotal: 23m 47s\tremaining: 16m 57s\n",
      "584:\tlearn: 122.7523283\ttotal: 23m 50s\tremaining: 16m 54s\n",
      "585:\tlearn: 192.5370456\ttotal: 23m 52s\tremaining: 16m 52s\n",
      "586:\tlearn: 209.2297033\ttotal: 23m 55s\tremaining: 16m 49s\n",
      "587:\tlearn: 187.4364887\ttotal: 23m 57s\tremaining: 16m 47s\n",
      "588:\tlearn: 165.7747247\ttotal: 24m\tremaining: 16m 44s\n",
      "589:\tlearn: 145.2985146\ttotal: 24m 2s\tremaining: 16m 42s\n",
      "590:\tlearn: 129.3381398\ttotal: 24m 4s\tremaining: 16m 39s\n",
      "591:\tlearn: 176.7564551\ttotal: 24m 7s\tremaining: 16m 37s\n",
      "592:\tlearn: 217.6119099\ttotal: 24m 9s\tremaining: 16m 34s\n",
      "593:\tlearn: 195.6626813\ttotal: 24m 11s\tremaining: 16m 32s\n",
      "594:\tlearn: 185.2005108\ttotal: 24m 14s\tremaining: 16m 29s\n",
      "595:\tlearn: 150.6022195\ttotal: 24m 16s\tremaining: 16m 27s\n",
      "596:\tlearn: 130.5485789\ttotal: 24m 18s\tremaining: 16m 24s\n",
      "597:\tlearn: 122.8261681\ttotal: 24m 21s\tremaining: 16m 22s\n",
      "598:\tlearn: 176.2936256\ttotal: 24m 23s\tremaining: 16m 19s\n",
      "599:\tlearn: 206.3249176\ttotal: 24m 25s\tremaining: 16m 17s\n",
      "600:\tlearn: 184.4551676\ttotal: 24m 27s\tremaining: 16m 14s\n",
      "601:\tlearn: 176.5540249\ttotal: 24m 30s\tremaining: 16m 12s\n",
      "602:\tlearn: 139.4904598\ttotal: 24m 32s\tremaining: 16m 9s\n",
      "603:\tlearn: 174.3942091\ttotal: 24m 35s\tremaining: 16m 7s\n",
      "604:\tlearn: 200.5266191\ttotal: 24m 37s\tremaining: 16m 4s\n",
      "605:\tlearn: 194.7392603\ttotal: 24m 40s\tremaining: 16m 2s\n",
      "606:\tlearn: 156.9824308\ttotal: 24m 42s\tremaining: 15m 59s\n",
      "607:\tlearn: 139.8841524\ttotal: 24m 44s\tremaining: 15m 57s\n",
      "608:\tlearn: 205.4161535\ttotal: 24m 47s\tremaining: 15m 54s\n",
      "609:\tlearn: 257.7237328\ttotal: 24m 49s\tremaining: 15m 52s\n",
      "610:\tlearn: 232.2104360\ttotal: 24m 51s\tremaining: 15m 49s\n",
      "611:\tlearn: 209.5763521\ttotal: 24m 54s\tremaining: 15m 47s\n",
      "612:\tlearn: 187.6420481\ttotal: 24m 56s\tremaining: 15m 44s\n",
      "613:\tlearn: 165.8492804\ttotal: 24m 58s\tremaining: 15m 42s\n",
      "614:\tlearn: 148.4483959\ttotal: 25m\tremaining: 15m 39s\n",
      "615:\tlearn: 125.8276136\ttotal: 25m 2s\tremaining: 15m 36s\n",
      "616:\tlearn: 168.1892189\ttotal: 25m 5s\tremaining: 15m 34s\n",
      "617:\tlearn: 180.2329825\ttotal: 25m 7s\tremaining: 15m 31s\n",
      "618:\tlearn: 159.9505462\ttotal: 25m 9s\tremaining: 15m 29s\n",
      "619:\tlearn: 167.6099758\ttotal: 25m 12s\tremaining: 15m 26s\n",
      "620:\tlearn: 206.7606952\ttotal: 25m 14s\tremaining: 15m 24s\n",
      "621:\tlearn: 225.2983165\ttotal: 25m 16s\tremaining: 15m 21s\n",
      "622:\tlearn: 203.5363223\ttotal: 25m 18s\tremaining: 15m 18s\n",
      "623:\tlearn: 214.1976573\ttotal: 25m 20s\tremaining: 15m 16s\n",
      "624:\tlearn: 159.6760755\ttotal: 25m 23s\tremaining: 15m 13s\n",
      "625:\tlearn: 153.5418894\ttotal: 25m 25s\tremaining: 15m 11s\n",
      "626:\tlearn: 163.0924416\ttotal: 25m 27s\tremaining: 15m 8s\n",
      "627:\tlearn: 227.2521970\ttotal: 25m 29s\tremaining: 15m 6s\n",
      "628:\tlearn: 207.7410155\ttotal: 25m 32s\tremaining: 15m 3s\n",
      "629:\tlearn: 181.4768302\ttotal: 25m 34s\tremaining: 15m 1s\n",
      "630:\tlearn: 159.9330199\ttotal: 25m 36s\tremaining: 14m 58s\n",
      "631:\tlearn: 155.9914295\ttotal: 25m 39s\tremaining: 14m 56s\n",
      "632:\tlearn: 221.7172859\ttotal: 25m 41s\tremaining: 14m 53s\n",
      "633:\tlearn: 212.4247956\ttotal: 25m 43s\tremaining: 14m 51s\n",
      "634:\tlearn: 177.2154675\ttotal: 25m 46s\tremaining: 14m 48s\n",
      "635:\tlearn: 159.7248618\ttotal: 25m 48s\tremaining: 14m 46s\n",
      "636:\tlearn: 177.7618003\ttotal: 25m 50s\tremaining: 14m 43s\n",
      "637:\tlearn: 249.6160101\ttotal: 25m 53s\tremaining: 14m 41s\n",
      "638:\tlearn: 227.6382240\ttotal: 25m 55s\tremaining: 14m 38s\n",
      "639:\tlearn: 238.4897498\ttotal: 25m 57s\tremaining: 14m 36s\n",
      "640:\tlearn: 182.5262932\ttotal: 25m 59s\tremaining: 14m 33s\n",
      "641:\tlearn: 167.3771881\ttotal: 26m 2s\tremaining: 14m 31s\n",
      "642:\tlearn: 148.6822003\ttotal: 26m 4s\tremaining: 14m 28s\n",
      "643:\tlearn: 213.0380840\ttotal: 26m 6s\tremaining: 14m 26s\n",
      "644:\tlearn: 204.6599424\ttotal: 26m 9s\tremaining: 14m 23s\n",
      "645:\tlearn: 182.7943085\ttotal: 26m 11s\tremaining: 14m 21s\n",
      "646:\tlearn: 161.4713687\ttotal: 26m 14s\tremaining: 14m 18s\n",
      "647:\tlearn: 213.6769593\ttotal: 26m 16s\tremaining: 14m 16s\n",
      "648:\tlearn: 222.3303421\ttotal: 26m 19s\tremaining: 14m 14s\n",
      "649:\tlearn: 217.4608529\ttotal: 26m 21s\tremaining: 14m 11s\n",
      "650:\tlearn: 177.6616233\ttotal: 26m 23s\tremaining: 14m 9s\n",
      "651:\tlearn: 160.1677703\ttotal: 26m 26s\tremaining: 14m 6s\n",
      "652:\tlearn: 214.1237417\ttotal: 26m 28s\tremaining: 14m 4s\n",
      "653:\tlearn: 246.3239129\ttotal: 26m 31s\tremaining: 14m 1s\n",
      "654:\tlearn: 236.1053965\ttotal: 26m 33s\tremaining: 13m 59s\n",
      "655:\tlearn: 200.7192223\ttotal: 26m 35s\tremaining: 13m 56s\n",
      "656:\tlearn: 179.3440080\ttotal: 26m 37s\tremaining: 13m 54s\n",
      "657:\tlearn: 174.7788133\ttotal: 26m 40s\tremaining: 13m 51s\n",
      "658:\tlearn: 157.2343187\ttotal: 26m 42s\tremaining: 13m 49s\n",
      "659:\tlearn: 249.3234836\ttotal: 26m 44s\tremaining: 13m 46s\n",
      "660:\tlearn: 227.1458572\ttotal: 26m 46s\tremaining: 13m 44s\n",
      "661:\tlearn: 232.2027176\ttotal: 26m 49s\tremaining: 13m 41s\n",
      "662:\tlearn: 193.8218852\ttotal: 26m 51s\tremaining: 13m 38s\n",
      "663:\tlearn: 257.3944084\ttotal: 26m 53s\tremaining: 13m 36s\n",
      "664:\tlearn: 258.8356511\ttotal: 26m 55s\tremaining: 13m 33s\n",
      "665:\tlearn: 212.1242954\ttotal: 26m 58s\tremaining: 13m 31s\n",
      "666:\tlearn: 191.8197581\ttotal: 27m\tremaining: 13m 28s\n",
      "667:\tlearn: 197.0205923\ttotal: 27m 2s\tremaining: 13m 26s\n",
      "668:\tlearn: 240.8517253\ttotal: 27m 4s\tremaining: 13m 23s\n",
      "669:\tlearn: 261.6523855\ttotal: 27m 7s\tremaining: 13m 21s\n",
      "670:\tlearn: 249.2115117\ttotal: 27m 9s\tremaining: 13m 18s\n",
      "671:\tlearn: 215.2432778\ttotal: 27m 11s\tremaining: 13m 16s\n",
      "672:\tlearn: 193.9038164\ttotal: 27m 14s\tremaining: 13m 14s\n",
      "673:\tlearn: 207.5287470\ttotal: 27m 16s\tremaining: 13m 11s\n",
      "674:\tlearn: 211.7968431\ttotal: 27m 18s\tremaining: 13m 9s\n",
      "675:\tlearn: 239.3888050\ttotal: 27m 21s\tremaining: 13m 6s\n",
      "676:\tlearn: 219.2766436\ttotal: 27m 23s\tremaining: 13m 4s\n",
      "677:\tlearn: 199.1293915\ttotal: 27m 25s\tremaining: 13m 1s\n",
      "678:\tlearn: 248.5100442\ttotal: 27m 28s\tremaining: 12m 59s\n",
      "679:\tlearn: 247.1355226\ttotal: 27m 30s\tremaining: 12m 56s\n",
      "680:\tlearn: 222.7197941\ttotal: 27m 32s\tremaining: 12m 54s\n",
      "681:\tlearn: 202.8591480\ttotal: 27m 35s\tremaining: 12m 51s\n",
      "682:\tlearn: 190.6397346\ttotal: 27m 37s\tremaining: 12m 49s\n",
      "683:\tlearn: 288.9327067\ttotal: 27m 39s\tremaining: 12m 46s\n",
      "684:\tlearn: 267.9497989\ttotal: 27m 41s\tremaining: 12m 44s\n",
      "685:\tlearn: 245.8932027\ttotal: 27m 44s\tremaining: 12m 41s\n",
      "686:\tlearn: 224.0239153\ttotal: 27m 46s\tremaining: 12m 39s\n",
      "687:\tlearn: 213.1951607\ttotal: 27m 49s\tremaining: 12m 36s\n",
      "688:\tlearn: 191.4501604\ttotal: 27m 51s\tremaining: 12m 34s\n",
      "689:\tlearn: 238.6012017\ttotal: 27m 53s\tremaining: 12m 31s\n",
      "690:\tlearn: 216.9764569\ttotal: 27m 56s\tremaining: 12m 29s\n",
      "691:\tlearn: 203.9853064\ttotal: 27m 58s\tremaining: 12m 27s\n",
      "692:\tlearn: 177.0766683\ttotal: 28m\tremaining: 12m 24s\n",
      "693:\tlearn: 242.4945355\ttotal: 28m 3s\tremaining: 12m 22s\n",
      "694:\tlearn: 265.6821286\ttotal: 28m 5s\tremaining: 12m 19s\n",
      "695:\tlearn: 256.2791781\ttotal: 28m 7s\tremaining: 12m 17s\n",
      "696:\tlearn: 220.5078662\ttotal: 28m 9s\tremaining: 12m 14s\n",
      "697:\tlearn: 256.7139184\ttotal: 28m 12s\tremaining: 12m 12s\n",
      "698:\tlearn: 279.9374924\ttotal: 28m 14s\tremaining: 12m 9s\n",
      "699:\tlearn: 279.2011323\ttotal: 28m 16s\tremaining: 12m 7s\n",
      "700:\tlearn: 234.0559707\ttotal: 28m 18s\tremaining: 12m 4s\n",
      "701:\tlearn: 224.5717409\ttotal: 28m 21s\tremaining: 12m 2s\n",
      "702:\tlearn: 202.3259848\ttotal: 28m 23s\tremaining: 11m 59s\n",
      "703:\tlearn: 296.2982482\ttotal: 28m 25s\tremaining: 11m 57s\n",
      "704:\tlearn: 274.1871778\ttotal: 28m 27s\tremaining: 11m 54s\n",
      "705:\tlearn: 272.4155583\ttotal: 28m 29s\tremaining: 11m 52s\n",
      "706:\tlearn: 228.9519781\ttotal: 28m 31s\tremaining: 11m 49s\n",
      "707:\tlearn: 218.3915046\ttotal: 28m 34s\tremaining: 11m 46s\n",
      "708:\tlearn: 232.3679430\ttotal: 28m 36s\tremaining: 11m 44s\n",
      "709:\tlearn: 268.6507968\ttotal: 28m 38s\tremaining: 11m 41s\n",
      "710:\tlearn: 247.4419177\ttotal: 28m 40s\tremaining: 11m 39s\n",
      "711:\tlearn: 254.2252840\ttotal: 28m 43s\tremaining: 11m 37s\n",
      "712:\tlearn: 270.7802806\ttotal: 28m 45s\tremaining: 11m 34s\n",
      "713:\tlearn: 298.3970294\ttotal: 28m 47s\tremaining: 11m 32s\n",
      "714:\tlearn: 281.7513542\ttotal: 28m 49s\tremaining: 11m 29s\n",
      "715:\tlearn: 252.3033052\ttotal: 28m 52s\tremaining: 11m 27s\n",
      "716:\tlearn: 232.0311687\ttotal: 28m 54s\tremaining: 11m 24s\n",
      "717:\tlearn: 243.1845817\ttotal: 28m 56s\tremaining: 11m 22s\n",
      "718:\tlearn: 283.3480695\ttotal: 28m 58s\tremaining: 11m 19s\n",
      "719:\tlearn: 301.9019580\ttotal: 29m 1s\tremaining: 11m 17s\n",
      "720:\tlearn: 299.2411604\ttotal: 29m 3s\tremaining: 11m 14s\n",
      "721:\tlearn: 255.5477684\ttotal: 29m 5s\tremaining: 11m 12s\n"
     ]
    },
    {
     "name": "stdout",
     "output_type": "stream",
     "text": [
      "722:\tlearn: 235.0662749\ttotal: 29m 7s\tremaining: 11m 9s\n",
      "723:\tlearn: 246.9020968\ttotal: 29m 9s\tremaining: 11m 7s\n",
      "724:\tlearn: 293.7184243\ttotal: 29m 11s\tremaining: 11m 4s\n",
      "725:\tlearn: 272.2389952\ttotal: 29m 14s\tremaining: 11m 2s\n",
      "726:\tlearn: 264.7380506\ttotal: 29m 16s\tremaining: 10m 59s\n",
      "727:\tlearn: 235.7508966\ttotal: 29m 18s\tremaining: 10m 57s\n",
      "728:\tlearn: 333.8476944\ttotal: 29m 20s\tremaining: 10m 54s\n",
      "729:\tlearn: 326.5441212\ttotal: 29m 23s\tremaining: 10m 52s\n",
      "730:\tlearn: 287.9984791\ttotal: 29m 25s\tremaining: 10m 49s\n",
      "731:\tlearn: 266.3991584\ttotal: 29m 27s\tremaining: 10m 47s\n",
      "732:\tlearn: 263.1772238\ttotal: 29m 29s\tremaining: 10m 44s\n",
      "733:\tlearn: 230.0255665\ttotal: 29m 32s\tremaining: 10m 42s\n",
      "734:\tlearn: 303.5250995\ttotal: 29m 34s\tremaining: 10m 39s\n",
      "735:\tlearn: 312.2941882\ttotal: 29m 36s\tremaining: 10m 37s\n",
      "736:\tlearn: 316.4488647\ttotal: 29m 38s\tremaining: 10m 34s\n",
      "737:\tlearn: 266.0101295\ttotal: 29m 41s\tremaining: 10m 32s\n",
      "738:\tlearn: 266.1374187\ttotal: 29m 43s\tremaining: 10m 29s\n",
      "739:\tlearn: 319.4650455\ttotal: 29m 45s\tremaining: 10m 27s\n",
      "740:\tlearn: 306.9275195\ttotal: 29m 47s\tremaining: 10m 24s\n",
      "741:\tlearn: 324.7184172\ttotal: 29m 50s\tremaining: 10m 22s\n",
      "742:\tlearn: 321.2239882\ttotal: 29m 52s\tremaining: 10m 20s\n",
      "743:\tlearn: 299.5690263\ttotal: 29m 54s\tremaining: 10m 17s\n",
      "744:\tlearn: 309.2725880\ttotal: 29m 57s\tremaining: 10m 15s\n",
      "745:\tlearn: 260.1877129\ttotal: 29m 59s\tremaining: 10m 12s\n",
      "746:\tlearn: 327.6267209\ttotal: 30m 1s\tremaining: 10m 10s\n",
      "747:\tlearn: 346.1648436\ttotal: 30m 3s\tremaining: 10m 7s\n",
      "748:\tlearn: 324.1674674\ttotal: 30m 5s\tremaining: 10m 5s\n",
      "749:\tlearn: 337.0000476\ttotal: 30m 8s\tremaining: 10m 2s\n",
      "750:\tlearn: 281.8351111\ttotal: 30m 10s\tremaining: 10m\n",
      "751:\tlearn: 256.9236660\ttotal: 30m 12s\tremaining: 9m 57s\n",
      "752:\tlearn: 276.6644343\ttotal: 30m 14s\tremaining: 9m 55s\n",
      "753:\tlearn: 342.2612049\ttotal: 30m 17s\tremaining: 9m 52s\n",
      "754:\tlearn: 339.4839487\ttotal: 30m 19s\tremaining: 9m 50s\n",
      "755:\tlearn: 295.6625801\ttotal: 30m 21s\tremaining: 9m 47s\n",
      "756:\tlearn: 288.2734861\ttotal: 30m 24s\tremaining: 9m 45s\n",
      "757:\tlearn: 293.7467852\ttotal: 30m 26s\tremaining: 9m 43s\n",
      "758:\tlearn: 329.2565824\ttotal: 30m 28s\tremaining: 9m 40s\n",
      "759:\tlearn: 307.7222453\ttotal: 30m 30s\tremaining: 9m 38s\n",
      "760:\tlearn: 307.0263678\ttotal: 30m 32s\tremaining: 9m 35s\n",
      "761:\tlearn: 268.9160424\ttotal: 30m 35s\tremaining: 9m 33s\n",
      "762:\tlearn: 354.6912715\ttotal: 30m 37s\tremaining: 9m 30s\n",
      "763:\tlearn: 353.3654091\ttotal: 30m 39s\tremaining: 9m 28s\n",
      "764:\tlearn: 331.4900668\ttotal: 30m 41s\tremaining: 9m 25s\n",
      "765:\tlearn: 338.3140026\ttotal: 30m 43s\tremaining: 9m 23s\n",
      "766:\tlearn: 286.5757866\ttotal: 30m 46s\tremaining: 9m 20s\n",
      "767:\tlearn: 268.8724591\ttotal: 30m 48s\tremaining: 9m 18s\n",
      "768:\tlearn: 323.6391502\ttotal: 30m 50s\tremaining: 9m 15s\n",
      "769:\tlearn: 335.0068721\ttotal: 30m 52s\tremaining: 9m 13s\n",
      "770:\tlearn: 281.3574858\ttotal: 30m 54s\tremaining: 9m 10s\n",
      "771:\tlearn: 337.9537114\ttotal: 30m 56s\tremaining: 9m 8s\n",
      "772:\tlearn: 367.5387693\ttotal: 30m 59s\tremaining: 9m 5s\n",
      "773:\tlearn: 347.0532056\ttotal: 31m 1s\tremaining: 9m 3s\n",
      "774:\tlearn: 321.5990967\ttotal: 31m 3s\tremaining: 9m 1s\n",
      "775:\tlearn: 300.1360119\ttotal: 31m 5s\tremaining: 8m 58s\n",
      "776:\tlearn: 347.1549854\ttotal: 31m 7s\tremaining: 8m 56s\n",
      "777:\tlearn: 383.9217392\ttotal: 31m 10s\tremaining: 8m 53s\n",
      "778:\tlearn: 362.0056925\ttotal: 31m 12s\tremaining: 8m 51s\n",
      "779:\tlearn: 340.4309701\ttotal: 31m 14s\tremaining: 8m 48s\n",
      "780:\tlearn: 321.4976524\ttotal: 31m 16s\tremaining: 8m 46s\n",
      "781:\tlearn: 301.3117074\ttotal: 31m 19s\tremaining: 8m 43s\n",
      "782:\tlearn: 374.1160948\ttotal: 31m 21s\tremaining: 8m 41s\n",
      "783:\tlearn: 385.9557595\ttotal: 31m 23s\tremaining: 8m 38s\n",
      "784:\tlearn: 369.7657119\ttotal: 31m 25s\tremaining: 8m 36s\n",
      "785:\tlearn: 340.2353292\ttotal: 31m 27s\tremaining: 8m 34s\n",
      "786:\tlearn: 318.9683598\ttotal: 31m 30s\tremaining: 8m 31s\n",
      "787:\tlearn: 312.2374881\ttotal: 31m 32s\tremaining: 8m 29s\n",
      "788:\tlearn: 334.9894018\ttotal: 31m 34s\tremaining: 8m 26s\n",
      "789:\tlearn: 383.2496232\ttotal: 31m 36s\tremaining: 8m 24s\n",
      "790:\tlearn: 361.1809392\ttotal: 31m 38s\tremaining: 8m 21s\n",
      "791:\tlearn: 358.5640239\ttotal: 31m 41s\tremaining: 8m 19s\n",
      "792:\tlearn: 316.0006874\ttotal: 31m 43s\tremaining: 8m 16s\n",
      "793:\tlearn: 300.4896523\ttotal: 31m 45s\tremaining: 8m 14s\n",
      "794:\tlearn: 372.8760490\ttotal: 31m 47s\tremaining: 8m 11s\n",
      "795:\tlearn: 376.0876125\ttotal: 31m 50s\tremaining: 8m 9s\n",
      "796:\tlearn: 329.7563125\ttotal: 31m 52s\tremaining: 8m 7s\n",
      "797:\tlearn: 314.8172847\ttotal: 31m 54s\tremaining: 8m 4s\n",
      "798:\tlearn: 413.7456609\ttotal: 31m 56s\tremaining: 8m 2s\n",
      "799:\tlearn: 417.2995570\ttotal: 31m 58s\tremaining: 7m 59s\n",
      "800:\tlearn: 367.5842312\ttotal: 32m 1s\tremaining: 7m 57s\n",
      "801:\tlearn: 365.8098509\ttotal: 32m 3s\tremaining: 7m 54s\n",
      "802:\tlearn: 323.1700654\ttotal: 32m 5s\tremaining: 7m 52s\n",
      "803:\tlearn: 305.7665583\ttotal: 32m 7s\tremaining: 7m 49s\n",
      "804:\tlearn: 396.1956512\ttotal: 32m 9s\tremaining: 7m 47s\n",
      "805:\tlearn: 418.5982481\ttotal: 32m 12s\tremaining: 7m 45s\n",
      "806:\tlearn: 394.6107772\ttotal: 32m 14s\tremaining: 7m 42s\n",
      "807:\tlearn: 372.0435209\ttotal: 32m 16s\tremaining: 7m 40s\n",
      "808:\tlearn: 350.0145629\ttotal: 32m 18s\tremaining: 7m 37s\n",
      "809:\tlearn: 328.1670912\ttotal: 32m 20s\tremaining: 7m 35s\n",
      "810:\tlearn: 405.6334598\ttotal: 32m 23s\tremaining: 7m 32s\n",
      "811:\tlearn: 334.3403343\ttotal: 32m 25s\tremaining: 7m 30s\n",
      "812:\tlearn: 313.8073960\ttotal: 32m 27s\tremaining: 7m 27s\n",
      "813:\tlearn: 311.2964418\ttotal: 32m 29s\tremaining: 7m 25s\n",
      "814:\tlearn: 352.3792698\ttotal: 32m 31s\tremaining: 7m 23s\n",
      "815:\tlearn: 353.7116286\ttotal: 32m 33s\tremaining: 7m 20s\n",
      "816:\tlearn: 338.7760489\ttotal: 32m 36s\tremaining: 7m 18s\n",
      "817:\tlearn: 346.1448500\ttotal: 32m 38s\tremaining: 7m 15s\n",
      "818:\tlearn: 415.1118333\ttotal: 32m 40s\tremaining: 7m 13s\n",
      "819:\tlearn: 394.8197144\ttotal: 32m 42s\tremaining: 7m 10s\n",
      "820:\tlearn: 369.2933860\ttotal: 32m 44s\tremaining: 7m 8s\n",
      "821:\tlearn: 347.8045533\ttotal: 32m 46s\tremaining: 7m 5s\n",
      "822:\tlearn: 353.5773118\ttotal: 32m 49s\tremaining: 7m 3s\n",
      "823:\tlearn: 317.7367299\ttotal: 32m 51s\tremaining: 7m 1s\n",
      "824:\tlearn: 409.3534394\ttotal: 32m 53s\tremaining: 6m 58s\n",
      "825:\tlearn: 402.6622457\ttotal: 32m 55s\tremaining: 6m 56s\n",
      "826:\tlearn: 363.3541872\ttotal: 32m 57s\tremaining: 6m 53s\n",
      "827:\tlearn: 341.7734408\ttotal: 33m\tremaining: 6m 51s\n",
      "828:\tlearn: 340.8329714\ttotal: 33m 2s\tremaining: 6m 48s\n",
      "829:\tlearn: 372.9488031\ttotal: 33m 4s\tremaining: 6m 46s\n",
      "830:\tlearn: 377.7631590\ttotal: 33m 6s\tremaining: 6m 44s\n",
      "831:\tlearn: 376.3341005\ttotal: 33m 8s\tremaining: 6m 41s\n",
      "832:\tlearn: 338.2549767\ttotal: 33m 10s\tremaining: 6m 39s\n",
      "833:\tlearn: 386.6529766\ttotal: 33m 13s\tremaining: 6m 36s\n",
      "834:\tlearn: 421.8109927\ttotal: 33m 15s\tremaining: 6m 34s\n",
      "835:\tlearn: 420.1632455\ttotal: 33m 17s\tremaining: 6m 31s\n",
      "836:\tlearn: 376.1532746\ttotal: 33m 19s\tremaining: 6m 29s\n",
      "837:\tlearn: 356.9028570\ttotal: 33m 21s\tremaining: 6m 26s\n",
      "838:\tlearn: 332.9278960\ttotal: 33m 23s\tremaining: 6m 24s\n",
      "839:\tlearn: 354.8964450\ttotal: 33m 26s\tremaining: 6m 22s\n",
      "840:\tlearn: 418.2293195\ttotal: 33m 28s\tremaining: 6m 19s\n",
      "841:\tlearn: 421.1160823\ttotal: 33m 30s\tremaining: 6m 17s\n",
      "842:\tlearn: 374.1357016\ttotal: 33m 33s\tremaining: 6m 14s\n",
      "843:\tlearn: 352.5602437\ttotal: 33m 35s\tremaining: 6m 12s\n",
      "844:\tlearn: 409.3461269\ttotal: 33m 37s\tremaining: 6m 10s\n",
      "845:\tlearn: 411.4102860\ttotal: 33m 40s\tremaining: 6m 7s\n",
      "846:\tlearn: 403.7480402\ttotal: 33m 42s\tremaining: 6m 5s\n",
      "847:\tlearn: 367.0131403\ttotal: 33m 45s\tremaining: 6m 2s\n",
      "848:\tlearn: 349.6006313\ttotal: 33m 47s\tremaining: 6m\n",
      "849:\tlearn: 436.8322863\ttotal: 33m 49s\tremaining: 5m 58s\n",
      "850:\tlearn: 463.6097891\ttotal: 33m 51s\tremaining: 5m 55s\n",
      "851:\tlearn: 439.5799239\ttotal: 33m 54s\tremaining: 5m 53s\n",
      "852:\tlearn: 417.0635310\ttotal: 33m 56s\tremaining: 5m 50s\n",
      "853:\tlearn: 395.0695407\ttotal: 33m 58s\tremaining: 5m 48s\n",
      "854:\tlearn: 377.1266461\ttotal: 34m 1s\tremaining: 5m 46s\n",
      "855:\tlearn: 349.1639328\ttotal: 34m 3s\tremaining: 5m 43s\n",
      "856:\tlearn: 379.9251194\ttotal: 34m 5s\tremaining: 5m 41s\n",
      "857:\tlearn: 384.4393793\ttotal: 34m 7s\tremaining: 5m 38s\n",
      "858:\tlearn: 363.4847812\ttotal: 34m 10s\tremaining: 5m 36s\n",
      "859:\tlearn: 340.9717163\ttotal: 34m 12s\tremaining: 5m 34s\n",
      "860:\tlearn: 353.2319812\ttotal: 34m 14s\tremaining: 5m 31s\n",
      "861:\tlearn: 424.3592777\ttotal: 34m 16s\tremaining: 5m 29s\n",
      "862:\tlearn: 410.7510996\ttotal: 34m 19s\tremaining: 5m 26s\n",
      "863:\tlearn: 377.7642807\ttotal: 34m 21s\tremaining: 5m 24s\n",
      "864:\tlearn: 398.8899892\ttotal: 34m 23s\tremaining: 5m 22s\n",
      "865:\tlearn: 432.5644093\ttotal: 34m 25s\tremaining: 5m 19s\n",
      "866:\tlearn: 437.6980771\ttotal: 34m 28s\tremaining: 5m 17s\n"
     ]
    },
    {
     "name": "stdout",
     "output_type": "stream",
     "text": [
      "867:\tlearn: 387.3673025\ttotal: 34m 30s\tremaining: 5m 14s\n",
      "868:\tlearn: 384.9761437\ttotal: 34m 32s\tremaining: 5m 12s\n",
      "869:\tlearn: 365.3648019\ttotal: 34m 34s\tremaining: 5m 10s\n",
      "870:\tlearn: 448.9718997\ttotal: 34m 36s\tremaining: 5m 7s\n",
      "871:\tlearn: 429.1998558\ttotal: 34m 39s\tremaining: 5m 5s\n",
      "872:\tlearn: 403.0010103\ttotal: 34m 41s\tremaining: 5m 2s\n",
      "873:\tlearn: 381.4175119\ttotal: 34m 43s\tremaining: 5m\n",
      "874:\tlearn: 373.4305576\ttotal: 34m 45s\tremaining: 4m 57s\n",
      "875:\tlearn: 373.7340200\ttotal: 34m 47s\tremaining: 4m 55s\n",
      "876:\tlearn: 420.9300625\ttotal: 34m 49s\tremaining: 4m 53s\n",
      "877:\tlearn: 414.9259143\ttotal: 34m 52s\tremaining: 4m 50s\n",
      "878:\tlearn: 393.2610558\ttotal: 34m 54s\tremaining: 4m 48s\n",
      "879:\tlearn: 375.8546684\ttotal: 34m 56s\tremaining: 4m 45s\n",
      "880:\tlearn: 449.6610173\ttotal: 34m 58s\tremaining: 4m 43s\n",
      "881:\tlearn: 486.6229458\ttotal: 35m 1s\tremaining: 4m 41s\n",
      "882:\tlearn: 462.7416091\ttotal: 35m 3s\tremaining: 4m 38s\n",
      "883:\tlearn: 440.3042132\ttotal: 35m 5s\tremaining: 4m 36s\n",
      "884:\tlearn: 418.3340943\ttotal: 35m 7s\tremaining: 4m 33s\n",
      "885:\tlearn: 398.9263162\ttotal: 35m 10s\tremaining: 4m 31s\n",
      "886:\tlearn: 372.5214296\ttotal: 35m 12s\tremaining: 4m 29s\n",
      "887:\tlearn: 369.2392790\ttotal: 35m 14s\tremaining: 4m 26s\n",
      "888:\tlearn: 413.3011282\ttotal: 35m 16s\tremaining: 4m 24s\n",
      "889:\tlearn: 391.8628752\ttotal: 35m 18s\tremaining: 4m 21s\n",
      "890:\tlearn: 398.7550968\ttotal: 35m 21s\tremaining: 4m 19s\n",
      "891:\tlearn: 383.8205231\ttotal: 35m 23s\tremaining: 4m 17s\n",
      "892:\tlearn: 453.7875919\ttotal: 35m 25s\tremaining: 4m 14s\n",
      "893:\tlearn: 431.6979045\ttotal: 35m 27s\tremaining: 4m 12s\n",
      "894:\tlearn: 412.6206923\ttotal: 35m 29s\tremaining: 4m 9s\n",
      "895:\tlearn: 385.5857563\ttotal: 35m 32s\tremaining: 4m 7s\n",
      "896:\tlearn: 420.3177365\ttotal: 35m 34s\tremaining: 4m 5s\n",
      "897:\tlearn: 444.3122073\ttotal: 35m 36s\tremaining: 4m 2s\n",
      "898:\tlearn: 422.7441630\ttotal: 35m 38s\tremaining: 4m\n",
      "899:\tlearn: 423.3188356\ttotal: 35m 40s\tremaining: 3m 57s\n",
      "900:\tlearn: 383.1086540\ttotal: 35m 42s\tremaining: 3m 55s\n",
      "901:\tlearn: 463.2055407\ttotal: 35m 45s\tremaining: 3m 53s\n",
      "902:\tlearn: 493.6001175\ttotal: 35m 47s\tremaining: 3m 50s\n",
      "903:\tlearn: 469.7666485\ttotal: 35m 50s\tremaining: 3m 48s\n",
      "904:\tlearn: 447.2774531\ttotal: 35m 52s\tremaining: 3m 45s\n",
      "905:\tlearn: 425.2823543\ttotal: 35m 54s\tremaining: 3m 43s\n",
      "906:\tlearn: 403.8627873\ttotal: 35m 56s\tremaining: 3m 41s\n",
      "907:\tlearn: 394.8010189\ttotal: 35m 59s\tremaining: 3m 38s\n",
      "908:\tlearn: 363.5279269\ttotal: 36m 1s\tremaining: 3m 36s\n",
      "909:\tlearn: 403.4476941\ttotal: 36m 3s\tremaining: 3m 33s\n",
      "910:\tlearn: 398.8899701\ttotal: 36m 5s\tremaining: 3m 31s\n",
      "911:\tlearn: 487.0575578\ttotal: 36m 7s\tremaining: 3m 29s\n",
      "912:\tlearn: 473.1194849\ttotal: 36m 10s\tremaining: 3m 26s\n",
      "913:\tlearn: 440.3046379\ttotal: 36m 12s\tremaining: 3m 24s\n",
      "914:\tlearn: 418.7361218\ttotal: 36m 14s\tremaining: 3m 21s\n",
      "915:\tlearn: 414.3288408\ttotal: 36m 16s\tremaining: 3m 19s\n",
      "916:\tlearn: 378.9099254\ttotal: 36m 18s\tremaining: 3m 17s\n",
      "917:\tlearn: 458.1409214\ttotal: 36m 20s\tremaining: 3m 14s\n",
      "918:\tlearn: 489.3989643\ttotal: 36m 23s\tremaining: 3m 12s\n",
      "919:\tlearn: 465.5651174\ttotal: 36m 25s\tremaining: 3m 10s\n",
      "920:\tlearn: 443.0763850\ttotal: 36m 27s\tremaining: 3m 7s\n",
      "921:\tlearn: 421.0813141\ttotal: 36m 29s\tremaining: 3m 5s\n",
      "922:\tlearn: 399.4372026\ttotal: 36m 31s\tremaining: 3m 2s\n",
      "923:\tlearn: 402.0947203\ttotal: 36m 34s\tremaining: 3m\n",
      "924:\tlearn: 412.9563588\ttotal: 36m 36s\tremaining: 2m 58s\n",
      "925:\tlearn: 435.7015388\ttotal: 36m 38s\tremaining: 2m 55s\n",
      "926:\tlearn: 414.3156030\ttotal: 36m 40s\tremaining: 2m 53s\n",
      "927:\tlearn: 411.9412832\ttotal: 36m 43s\tremaining: 2m 50s\n",
      "928:\tlearn: 418.5788484\ttotal: 36m 45s\tremaining: 2m 48s\n",
      "929:\tlearn: 477.8401815\ttotal: 36m 47s\tremaining: 2m 46s\n",
      "930:\tlearn: 455.7479162\ttotal: 36m 49s\tremaining: 2m 43s\n",
      "931:\tlearn: 447.9549415\ttotal: 36m 52s\tremaining: 2m 41s\n",
      "932:\tlearn: 409.7274762\ttotal: 36m 54s\tremaining: 2m 39s\n",
      "933:\tlearn: 400.4801263\ttotal: 36m 56s\tremaining: 2m 36s\n",
      "934:\tlearn: 380.9085844\ttotal: 36m 58s\tremaining: 2m 34s\n",
      "935:\tlearn: 436.6443752\ttotal: 37m\tremaining: 2m 31s\n",
      "936:\tlearn: 414.9021960\ttotal: 37m 3s\tremaining: 2m 29s\n",
      "937:\tlearn: 410.4308357\ttotal: 37m 5s\tremaining: 2m 27s\n",
      "938:\tlearn: 427.4851296\ttotal: 37m 7s\tremaining: 2m 24s\n",
      "939:\tlearn: 443.6223707\ttotal: 37m 9s\tremaining: 2m 22s\n",
      "940:\tlearn: 427.0063838\ttotal: 37m 12s\tremaining: 2m 19s\n",
      "941:\tlearn: 403.3104474\ttotal: 37m 14s\tremaining: 2m 17s\n",
      "942:\tlearn: 451.2563968\ttotal: 37m 16s\tremaining: 2m 15s\n",
      "943:\tlearn: 488.4475968\ttotal: 37m 18s\tremaining: 2m 12s\n",
      "944:\tlearn: 490.2158738\ttotal: 37m 21s\tremaining: 2m 10s\n",
      "945:\tlearn: 445.5775601\ttotal: 37m 23s\tremaining: 2m 8s\n",
      "946:\tlearn: 426.1923041\ttotal: 37m 25s\tremaining: 2m 5s\n",
      "947:\tlearn: 401.7505515\ttotal: 37m 27s\tremaining: 2m 3s\n",
      "948:\tlearn: 406.3373657\ttotal: 37m 29s\tremaining: 2m\n",
      "949:\tlearn: 437.4495119\ttotal: 37m 32s\tremaining: 1m 58s\n",
      "950:\tlearn: 445.3104233\ttotal: 37m 34s\tremaining: 1m 56s\n",
      "951:\tlearn: 398.4773598\ttotal: 37m 36s\tremaining: 1m 53s\n",
      "952:\tlearn: 482.4026088\ttotal: 37m 38s\tremaining: 1m 51s\n",
      "953:\tlearn: 484.1107438\ttotal: 37m 41s\tremaining: 1m 49s\n",
      "954:\tlearn: 462.1760169\ttotal: 37m 43s\tremaining: 1m 46s\n",
      "955:\tlearn: 471.2093934\ttotal: 37m 45s\tremaining: 1m 44s\n",
      "956:\tlearn: 417.2748820\ttotal: 37m 48s\tremaining: 1m 41s\n",
      "957:\tlearn: 455.1475844\ttotal: 37m 50s\tremaining: 1m 39s\n",
      "958:\tlearn: 499.7289200\ttotal: 37m 52s\tremaining: 1m 37s\n",
      "959:\tlearn: 477.8876899\ttotal: 37m 54s\tremaining: 1m 34s\n",
      "960:\tlearn: 456.5307479\ttotal: 37m 57s\tremaining: 1m 32s\n",
      "961:\tlearn: 436.9897281\ttotal: 37m 59s\tremaining: 1m 30s\n",
      "962:\tlearn: 464.2590279\ttotal: 38m 1s\tremaining: 1m 27s\n",
      "963:\tlearn: 549.2694213\ttotal: 38m 3s\tremaining: 1m 25s\n",
      "964:\tlearn: 523.4520080\ttotal: 38m 6s\tremaining: 1m 22s\n",
      "965:\tlearn: 500.5816348\ttotal: 38m 8s\tremaining: 1m 20s\n",
      "966:\tlearn: 478.4161740\ttotal: 38m 10s\tremaining: 1m 18s\n",
      "967:\tlearn: 456.5036058\ttotal: 38m 13s\tremaining: 1m 15s\n",
      "968:\tlearn: 434.9504259\ttotal: 38m 15s\tremaining: 1m 13s\n",
      "969:\tlearn: 414.9792711\ttotal: 38m 17s\tremaining: 1m 11s\n",
      "970:\tlearn: 411.0670036\ttotal: 38m 19s\tremaining: 1m 8s\n",
      "971:\tlearn: 484.4386651\ttotal: 38m 21s\tremaining: 1m 6s\n",
      "972:\tlearn: 480.6797904\ttotal: 38m 24s\tremaining: 1m 3s\n",
      "973:\tlearn: 458.7589457\ttotal: 38m 26s\tremaining: 1m 1s\n",
      "974:\tlearn: 457.4102505\ttotal: 38m 28s\tremaining: 59.2s\n",
      "975:\tlearn: 414.7172148\ttotal: 38m 30s\tremaining: 56.8s\n",
      "976:\tlearn: 489.8541194\ttotal: 38m 32s\tremaining: 54.4s\n",
      "977:\tlearn: 471.6093758\ttotal: 38m 35s\tremaining: 52.1s\n",
      "978:\tlearn: 444.3197720\ttotal: 38m 37s\tremaining: 49.7s\n",
      "979:\tlearn: 426.7881367\ttotal: 38m 39s\tremaining: 47.3s\n",
      "980:\tlearn: 482.5195586\ttotal: 38m 41s\tremaining: 45s\n",
      "981:\tlearn: 540.1940831\ttotal: 38m 43s\tremaining: 42.6s\n",
      "982:\tlearn: 515.9124339\ttotal: 38m 45s\tremaining: 40.2s\n",
      "983:\tlearn: 496.0957845\ttotal: 38m 48s\tremaining: 37.9s\n",
      "984:\tlearn: 474.0004245\ttotal: 38m 50s\tremaining: 35.5s\n",
      "985:\tlearn: 452.0947777\ttotal: 38m 52s\tremaining: 33.1s\n",
      "986:\tlearn: 451.0735547\ttotal: 38m 54s\tremaining: 30.8s\n",
      "987:\tlearn: 407.9509827\ttotal: 38m 56s\tremaining: 28.4s\n",
      "988:\tlearn: 429.3273941\ttotal: 38m 59s\tremaining: 26s\n",
      "989:\tlearn: 466.0012524\ttotal: 39m 1s\tremaining: 23.6s\n",
      "990:\tlearn: 460.4313561\ttotal: 39m 3s\tremaining: 21.3s\n",
      "991:\tlearn: 425.9098898\ttotal: 39m 5s\tremaining: 18.9s\n",
      "992:\tlearn: 482.8572432\ttotal: 39m 7s\tremaining: 16.6s\n",
      "993:\tlearn: 511.2102213\ttotal: 39m 10s\tremaining: 14.2s\n",
      "994:\tlearn: 498.3501402\ttotal: 39m 12s\tremaining: 11.8s\n",
      "995:\tlearn: 464.6543566\ttotal: 39m 14s\tremaining: 9.46s\n",
      "996:\tlearn: 454.2607883\ttotal: 39m 16s\tremaining: 7.09s\n",
      "997:\tlearn: 422.1660989\ttotal: 39m 18s\tremaining: 4.73s\n",
      "998:\tlearn: 445.9765784\ttotal: 39m 21s\tremaining: 2.36s\n",
      "999:\tlearn: 512.3975684\ttotal: 39m 23s\tremaining: 0us\n"
     ]
    },
    {
     "name": "stderr",
     "output_type": "stream",
     "text": [
      "C:\\conda2\\lib\\site-packages\\sklearn\\metrics\\_classification.py:1248: UndefinedMetricWarning: Recall and F-score are ill-defined and being set to 0.0 in labels with no true samples. Use `zero_division` parameter to control this behavior.\n",
      "  _warn_prf(average, modifier, msg_start, len(result))\n",
      "C:\\conda2\\lib\\site-packages\\sklearn\\metrics\\_classification.py:1248: UndefinedMetricWarning: Recall and F-score are ill-defined and being set to 0.0 in labels with no true samples. Use `zero_division` parameter to control this behavior.\n",
      "  _warn_prf(average, modifier, msg_start, len(result))\n"
     ]
    },
    {
     "name": "stdout",
     "output_type": "stream",
     "text": [
      "              precision    recall  f1-score   support\n",
      "\n",
      "           0       0.66      0.95      0.78      7365\n",
      "           1       0.32      0.89      0.47       383\n",
      "           2       0.37      1.00      0.54      8195\n",
      "           3       0.25      0.60      0.36     16715\n",
      "           4       0.64      0.82      0.72     43865\n",
      "           5       0.00      0.25      0.00         4\n",
      "           6       0.87      0.47      0.61    123473\n",
      "           7       0.00      0.00      0.00         0\n",
      "\n",
      "    accuracy                           0.60    200000\n",
      "   macro avg       0.39      0.62      0.44    200000\n",
      "weighted avg       0.74      0.60      0.62    200000\n",
      "\n"
     ]
    },
    {
     "name": "stderr",
     "output_type": "stream",
     "text": [
      "C:\\conda2\\lib\\site-packages\\sklearn\\metrics\\_classification.py:1248: UndefinedMetricWarning: Recall and F-score are ill-defined and being set to 0.0 in labels with no true samples. Use `zero_division` parameter to control this behavior.\n",
      "  _warn_prf(average, modifier, msg_start, len(result))\n"
     ]
    }
   ],
   "source": [
    "pipe7_2 = Pipeline([\n",
    "                ('CountVectChar', CountVectorizer(ngram_range=(1, 1))),\n",
    "                ('CBC', CatBoostClassifier( learning_rate=1, depth=2, \n",
    "                                           loss_function='MultiClass')) \n",
    "                 ])\n",
    "pipe7_2.fit(X_train_E_2, y_train_E_2)\n",
    "y_pred7_2 = pipe7_2.predict(X_test_E_2)\n",
    "print(classification_report(y_pred7_2, y_test_E_2))"
   ]
  },
  {
   "cell_type": "markdown",
   "metadata": {},
   "source": [
    "## Шестой способ - TfidfVectorizer + CatBoostClassifier на Russian & English"
   ]
  },
  {
   "cell_type": "code",
   "execution_count": null,
   "metadata": {},
   "outputs": [],
   "source": [
    "# pipe8_2 = Pipeline([\n",
    "#                 ('tf-idf', TfidfVectorizer(tokenizer=word_tokenize)),\n",
    "#                 ('CBC', CatBoostClassifier( learning_rate=1, depth=4, loss_function='MultiClass')) \n",
    "#                  ])\n",
    "# pipe8_2.fit(X_train_E_2, y_train_E_2)\n",
    "# y_pred8_2 = pipe8_2.predict(X_test_E_2)\n",
    "# print(classification_report(y_pred8_2, y_test_E_2))"
   ]
  },
  {
   "cell_type": "code",
   "execution_count": 88,
   "metadata": {},
   "outputs": [],
   "source": [
    "from lightgbm import LGBMClassifier"
   ]
  },
  {
   "cell_type": "markdown",
   "metadata": {},
   "source": [
    "## LightGBM"
   ]
  },
  {
   "cell_type": "code",
   "execution_count": 89,
   "metadata": {},
   "outputs": [
    {
     "name": "stdout",
     "output_type": "stream",
     "text": [
      "              precision    recall  f1-score   support\n",
      "\n",
      "           0       0.82      0.94      0.87      9129\n",
      "           1       0.40      0.63      0.49       670\n",
      "           2       0.63      0.98      0.76     14041\n",
      "           3       0.51      0.67      0.58     30104\n",
      "           4       0.82      0.83      0.83     55709\n",
      "           5       0.22      0.75      0.34       798\n",
      "           6       0.83      0.62      0.71     89419\n",
      "           7       0.06      0.32      0.10       130\n",
      "\n",
      "    accuracy                           0.73    200000\n",
      "   macro avg       0.54      0.72      0.59    200000\n",
      "weighted avg       0.76      0.73      0.73    200000\n",
      "\n"
     ]
    }
   ],
   "source": [
    "pipe0 = Pipeline([\n",
    "                ('tf-idf', TfidfVectorizer()),\n",
    "                ('LGMClass', LGBMClassifier()) \n",
    "                 ])\n",
    "pipe0.fit(X_train_E_2, y_train_E_2)\n",
    "y_pred0 = pipe0.predict(X_test_E_2)\n",
    "print(classification_report(y_pred0, y_test_E_2))"
   ]
  },
  {
   "cell_type": "markdown",
   "metadata": {},
   "source": [
    "## LightGBM + SMOTE"
   ]
  },
  {
   "cell_type": "code",
   "execution_count": 91,
   "metadata": {},
   "outputs": [],
   "source": [
    "vec_10_1 = TfidfVectorizer()\n",
    "vec_10_1.fit(data_total_4_English['content'].values.astype('U'))\n",
    "bow_10_1 = vec_10_1.transform(X_train_E_2)"
   ]
  },
  {
   "cell_type": "code",
   "execution_count": 92,
   "metadata": {},
   "outputs": [],
   "source": [
    "sm_1 = SMOTE (#sampling_strategy = 0.9,\n",
    "        random_state=0,\n",
    "        k_neighbors=100)\n",
    "X_train_res_1, y_train_res_1 = sm_1.fit_resample(bow_10_1, y_train_E_2)"
   ]
  },
  {
   "cell_type": "code",
   "execution_count": 93,
   "metadata": {},
   "outputs": [
    {
     "name": "stdout",
     "output_type": "stream",
     "text": [
      "              precision    recall  f1-score   support\n",
      "\n",
      "           0       0.86      0.87      0.86     10437\n",
      "           1       0.64      0.38      0.48      1797\n",
      "           2       0.66      0.96      0.78     15032\n",
      "           3       0.62      0.52      0.56     47534\n",
      "           4       0.81      0.84      0.82     54046\n",
      "           5       0.51      0.16      0.25      8533\n",
      "           6       0.62      0.80      0.70     51678\n",
      "           7       0.34      0.02      0.04     10943\n",
      "\n",
      "    accuracy                           0.69    200000\n",
      "   macro avg       0.63      0.57      0.56    200000\n",
      "weighted avg       0.67      0.69      0.66    200000\n",
      "\n"
     ]
    }
   ],
   "source": [
    "pipe0_1 = LGBMClassifier() \n",
    "               \n",
    "pipe0_1.fit(X_train_res_1, y_train_res_1)\n",
    "y_pred0_1 = pipe0_1.predict(vec_10_1.transform(X_test_E_2))\n",
    "print(classification_report(y_pred0_1, y_test_E_2))"
   ]
  },
  {
   "cell_type": "markdown",
   "metadata": {},
   "source": [
    "## Восьмой способ - SMOTE + CountVectorizer + SVC на Russian & English(300 000)"
   ]
  },
  {
   "cell_type": "code",
   "execution_count": 94,
   "metadata": {},
   "outputs": [],
   "source": [
    "X_train_E_2, X_test_E_2, y_train_E_2, y_test_E_2 = train_test_split(data_total_4_English['content'].values.astype('U'), data_total_4_English['account_category'] , test_size = 0.2)"
   ]
  },
  {
   "cell_type": "code",
   "execution_count": 95,
   "metadata": {},
   "outputs": [],
   "source": [
    "vec_10_E = CountVectorizer( ngram_range=(1, 1))\n",
    "vec_10_E.fit(data_total_4_English['content'].values.astype('U'))\n",
    "bow_10_E = vec_10_E.transform(X_train_E_2)"
   ]
  },
  {
   "cell_type": "code",
   "execution_count": 96,
   "metadata": {},
   "outputs": [],
   "source": [
    "sm = SMOTE (#sampling_strategy = 0.9,\n",
    "        random_state=0,\n",
    "        k_neighbors=25)\n",
    "X_train_res_E, y_train_res_E = sm.fit_resample(bow_10_E, y_train_E_2)"
   ]
  },
  {
   "cell_type": "code",
   "execution_count": 97,
   "metadata": {},
   "outputs": [
    {
     "name": "stdout",
     "output_type": "stream",
     "text": [
      "\t\tДО балансировки \tПОСЛЕ балансировки \n",
      "y :\t\t(800000,)\t\t(2137584,)\n",
      "X :\t\t(800000, 212850)\t\t(2137584, 212850)\n"
     ]
    }
   ],
   "source": [
    "print('\\t\\tДО балансировки \\tПОСЛЕ балансировки ')\n",
    "print('y :\\t\\t{}\\t\\t{}'.format(y_train_E_2.shape, y_train_res_E.shape))\n",
    "print('X :\\t\\t{}\\t\\t{}'.format(bow_10_E.shape, X_train_res_E.shape))"
   ]
  },
  {
   "cell_type": "code",
   "execution_count": null,
   "metadata": {},
   "outputs": [],
   "source": [
    "# model_8 = SVC()\n",
    "# model_8.fit(X_train_res_E, y_train_res_E)\n",
    "# pred_8 = model_8.predict(vec_10_E.transform(X_test_E_2))\n",
    "# print(classification_report(pred_8, y_test_E_2))"
   ]
  },
  {
   "cell_type": "code",
   "execution_count": 98,
   "metadata": {},
   "outputs": [
    {
     "name": "stdout",
     "output_type": "stream",
     "text": [
      "              precision    recall  f1-score   support\n",
      "\n",
      "           0       0.93      0.94      0.94     10575\n",
      "           1       0.58      0.33      0.42      1768\n",
      "           2       0.83      0.81      0.82     22708\n",
      "           3       0.66      0.69      0.68     38335\n",
      "           4       0.89      0.85      0.87     58710\n",
      "           5       0.45      0.29      0.35      4008\n",
      "           6       0.74      0.82      0.77     60677\n",
      "           7       0.14      0.03      0.05      3219\n",
      "\n",
      "    accuracy                           0.78    200000\n",
      "   macro avg       0.65      0.60      0.61    200000\n",
      "weighted avg       0.77      0.78      0.78    200000\n",
      "\n"
     ]
    }
   ],
   "source": [
    "model_8_1 = LogisticRegression(random_state=42, solver='liblinear')\n",
    "model_8_1.fit(X_train_res_E, y_train_res_E)\n",
    "pred_8_1 = model_8_1.predict(vec_10_E.transform(X_test_E_2))\n",
    "print(classification_report(pred_8_1, y_test_E_2))"
   ]
  },
  {
   "cell_type": "markdown",
   "metadata": {},
   "source": [
    "#  Визуализация метрик основных результативных алгоритмов"
   ]
  },
  {
   "cell_type": "code",
   "execution_count": 8,
   "metadata": {},
   "outputs": [],
   "source": [
    "Metrics_2 = pd.DataFrame({\n",
    "                        'CLr' : [0.94, 0.40, 0.81, 0.68, 0.87, 0.39, 0.77, 0.07, 0.78], \n",
    "                        'TfXg' : [0.85, 0.61, 0.72, 0.53, 0.80, 0.29, 0.68, 0.05, 0.70],\n",
    "                        'TfLg' : [0.87, 0.49, 0.76, 0.58, 0.83, 0.34, 0.71, 0.10, 0.73],\n",
    "                        'CLrSm300000' : [0.94, 0.42, 0.82, 0.68, 0.87, 0.35, 0.77, 0.05, 0.78]\n",
    "                        }, \n",
    "                        index = ['0', '1', '2', '3', '4', '5', '6', '7','accuracy']\n",
    "                        )"
   ]
  },
  {
   "cell_type": "code",
   "execution_count": 10,
   "metadata": {},
   "outputs": [
    {
     "data": {
      "text/html": [
       "<div>\n",
       "<style scoped>\n",
       "    .dataframe tbody tr th:only-of-type {\n",
       "        vertical-align: middle;\n",
       "    }\n",
       "\n",
       "    .dataframe tbody tr th {\n",
       "        vertical-align: top;\n",
       "    }\n",
       "\n",
       "    .dataframe thead th {\n",
       "        text-align: right;\n",
       "    }\n",
       "</style>\n",
       "<table border=\"1\" class=\"dataframe\">\n",
       "  <thead>\n",
       "    <tr style=\"text-align: right;\">\n",
       "      <th></th>\n",
       "      <th>CLr</th>\n",
       "      <th>TfXg</th>\n",
       "      <th>TfLg</th>\n",
       "      <th>CLrSm300000</th>\n",
       "    </tr>\n",
       "  </thead>\n",
       "  <tbody>\n",
       "    <tr>\n",
       "      <th>0</th>\n",
       "      <td>0.94</td>\n",
       "      <td>0.85</td>\n",
       "      <td>0.87</td>\n",
       "      <td>0.94</td>\n",
       "    </tr>\n",
       "    <tr>\n",
       "      <th>1</th>\n",
       "      <td>0.40</td>\n",
       "      <td>0.61</td>\n",
       "      <td>0.49</td>\n",
       "      <td>0.42</td>\n",
       "    </tr>\n",
       "    <tr>\n",
       "      <th>2</th>\n",
       "      <td>0.81</td>\n",
       "      <td>0.72</td>\n",
       "      <td>0.76</td>\n",
       "      <td>0.82</td>\n",
       "    </tr>\n",
       "    <tr>\n",
       "      <th>3</th>\n",
       "      <td>0.68</td>\n",
       "      <td>0.53</td>\n",
       "      <td>0.58</td>\n",
       "      <td>0.68</td>\n",
       "    </tr>\n",
       "    <tr>\n",
       "      <th>4</th>\n",
       "      <td>0.87</td>\n",
       "      <td>0.80</td>\n",
       "      <td>0.83</td>\n",
       "      <td>0.87</td>\n",
       "    </tr>\n",
       "    <tr>\n",
       "      <th>5</th>\n",
       "      <td>0.39</td>\n",
       "      <td>0.29</td>\n",
       "      <td>0.34</td>\n",
       "      <td>0.35</td>\n",
       "    </tr>\n",
       "    <tr>\n",
       "      <th>6</th>\n",
       "      <td>0.77</td>\n",
       "      <td>0.68</td>\n",
       "      <td>0.71</td>\n",
       "      <td>0.77</td>\n",
       "    </tr>\n",
       "    <tr>\n",
       "      <th>7</th>\n",
       "      <td>0.07</td>\n",
       "      <td>0.05</td>\n",
       "      <td>0.10</td>\n",
       "      <td>0.05</td>\n",
       "    </tr>\n",
       "    <tr>\n",
       "      <th>accuracy</th>\n",
       "      <td>0.78</td>\n",
       "      <td>0.70</td>\n",
       "      <td>0.73</td>\n",
       "      <td>0.78</td>\n",
       "    </tr>\n",
       "  </tbody>\n",
       "</table>\n",
       "</div>"
      ],
      "text/plain": [
       "           CLr  TfXg  TfLg  CLrSm300000\n",
       "0         0.94  0.85  0.87         0.94\n",
       "1         0.40  0.61  0.49         0.42\n",
       "2         0.81  0.72  0.76         0.82\n",
       "3         0.68  0.53  0.58         0.68\n",
       "4         0.87  0.80  0.83         0.87\n",
       "5         0.39  0.29  0.34         0.35\n",
       "6         0.77  0.68  0.71         0.77\n",
       "7         0.07  0.05  0.10         0.05\n",
       "accuracy  0.78  0.70  0.73         0.78"
      ]
     },
     "execution_count": 10,
     "metadata": {},
     "output_type": "execute_result"
    }
   ],
   "source": [
    "Metrics_2"
   ]
  },
  {
   "cell_type": "code",
   "execution_count": 11,
   "metadata": {},
   "outputs": [
    {
     "data": {
      "image/png": "[encoded data removed]",
      "text/plain": [
       "<Figure size 1440x720 with 1 Axes>"
      ]
     },
     "metadata": {
      "needs_background": "light"
     },
     "output_type": "display_data"
    }
   ],
   "source": [
    "Metrics_2.plot(kind='bar', \n",
    "            figsize = (20,10))\n",
    "plt.grid()\n",
    "plt.title('Визуализация лучших алгоритмов Задача 2', fontsize=22)\n",
    "plt.xlabel('Классы', fontsize=22)\n",
    "plt.ylabel('Метрика F1-Score(Accuracy)', fontsize=22)\n",
    "plt.gca().set_xticklabels(Metrics_2.index, rotation=70, horizontalalignment= 'right')\n",
    "plt.tick_params(\n",
    "    bottom=True,\n",
    "    left=True,\n",
    "    labelsize=15\n",
    ")\n",
    "\n",
    "plt.axhline(y=0, color='gray')\n",
    "plt.legend(frameon=False,  bbox_to_anchor=(0.25, -0.3, 0.5, 0.5), prop={'size':15})\n",
    "plt.show()"
   ]
  }
 ],
 "metadata": {
  "kernelspec": {
   "display_name": "Python 3 (ipykernel)",
   "language": "python",
   "name": "python3"
  },
  "language_info": {
   "codemirror_mode": {
    "name": "ipython",
    "version": 3
   },
   "file_extension": ".py",
   "mimetype": "text/x-python",
   "name": "python",
   "nbconvert_exporter": "python",
   "pygments_lexer": "ipython3",
   "version": "3.9.7"
  }
 },
 "nbformat": 4,
 "nbformat_minor": 4
}
