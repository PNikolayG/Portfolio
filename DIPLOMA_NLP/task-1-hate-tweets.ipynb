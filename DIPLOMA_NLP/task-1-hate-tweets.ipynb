{
 "cells": [
  {
   "cell_type": "markdown",
   "id": "2e9f38e0",
   "metadata": {
    "papermill": {
     "duration": 0.067636,
     "end_time": "2022-03-16T19:10:37.837800",
     "exception": false,
     "start_time": "2022-03-16T19:10:37.770164",
     "status": "completed"
    },
    "tags": []
   },
   "source": [
    "# Дипломная работа \"Анализ эмоциальной окраски текста\""
   ]
  },
  {
   "cell_type": "markdown",
   "id": "faa45f32",
   "metadata": {},
   "source": [
    "### Ячейка для Kaggle Kernel"
   ]
  },
  {
   "cell_type": "code",
   "execution_count": 1,
   "id": "1bc45529",
   "metadata": {
    "execution": {
     "iopub.execute_input": "2022-03-16T19:10:37.981408Z",
     "iopub.status.busy": "2022-03-16T19:10:37.980597Z",
     "iopub.status.idle": "2022-03-16T19:10:37.990772Z",
     "shell.execute_reply": "2022-03-16T19:10:37.990086Z",
     "shell.execute_reply.started": "2022-03-16T14:31:40.876912Z"
    },
    "papermill": {
     "duration": 0.085276,
     "end_time": "2022-03-16T19:10:37.990943",
     "exception": false,
     "start_time": "2022-03-16T19:10:37.905667",
     "status": "completed"
    },
    "tags": []
   },
   "outputs": [
    {
     "name": "stdout",
     "output_type": "stream",
     "text": [
      "/kaggle/input/hate-speech-and-offensive-language-dataset/labeled_data.csv\n"
     ]
    }
   ],
   "source": [
    "# # This Python 3 environment comes with many helpful analytics libraries installed\n",
    "# # It is defined by the kaggle/python Docker image: https://github.com/kaggle/docker-python\n",
    "# # For example, here's several helpful packages to load\n",
    "\n",
    "# import numpy as np # linear algebra\n",
    "# import pandas as pd # data processing, CSV file I/O (e.g. pd.read_csv)\n",
    "\n",
    "# # Input data files are available in the read-only \"../input/\" directory\n",
    "# # For example, running this (by clicking run or pressing Shift+Enter) will list all files under the input directory\n",
    "\n",
    "# import os\n",
    "# for dirname, _, filenames in os.walk('/kaggle/input'):\n",
    "#     for filename in filenames:\n",
    "#         print(os.path.join(dirname, filename))\n",
    "\n",
    "# # You can write up to 20GB to the current directory (/kaggle/working/) that gets preserved as output when you create a version using \"Save & Run All\" \n",
    "# # You can also write temporary files to /kaggle/temp/, but they won't be saved outside of the current session"
   ]
  },
  {
   "cell_type": "markdown",
   "id": "384d6300",
   "metadata": {
    "papermill": {
     "duration": 0.06505,
     "end_time": "2022-03-16T19:10:38.122491",
     "exception": false,
     "start_time": "2022-03-16T19:10:38.057441",
     "status": "completed"
    },
    "tags": []
   },
   "source": [
    "## Задача 1 \"Hate Speech and Offensive Language Dataset - research hate-speech detection\"\n",
    "\n",
    "Набор данных с использованием данных Twitter использовался для исследования обнаружения языка ненависти. Текст классифицируется как: разжигание ненависти, оскорбительные выражения и ни то, ни другое. В связи с характером исследования важно отметить, что этот набор данных содержит текст, который можно считать расистским, сексистским, гомофобным или вообще оскорбительным.\n"
   ]
  },
  {
   "cell_type": "markdown",
   "id": "a021eb6a",
   "metadata": {
    "papermill": {
     "duration": 0.06445,
     "end_time": "2022-03-16T19:10:38.251693",
     "exception": false,
     "start_time": "2022-03-16T19:10:38.187243",
     "status": "completed"
    },
    "tags": []
   },
   "source": [
    "- count - количество пользователей CrowdFlower, которые закодировали каждый твит (минимум 3, иногда больше пользователей закодировали твит, когда CF определило суждения как ненадежные)\n",
    "- hate_speech - количество пользователей CF, которые оценили твит как разжигание ненависти\n",
    "- offensive_language\t- количество пользователей CF, которые сочли твит оскорбительным\n",
    "- neither\t - количество пользователей CF, которые сочли твит ни оскорбительным, ни не оскорбительным\n",
    "- class(target) - метка класса для большинства пользователей CF. \n",
    "- - 0 – разжигание ненависти \n",
    "- - 1 – оскорбительные выражения \n",
    "- - 2 – ни то, ни другое\n",
    "- tweet - текстовый твит"
   ]
  },
  {
   "cell_type": "markdown",
   "id": "112429ac",
   "metadata": {},
   "source": [
    "### Импорт библиотек"
   ]
  },
  {
   "cell_type": "code",
   "execution_count": 1,
   "id": "9df8e6d2",
   "metadata": {
    "execution": {
     "iopub.execute_input": "2022-03-16T19:10:38.388798Z",
     "iopub.status.busy": "2022-03-16T19:10:38.388128Z",
     "iopub.status.idle": "2022-03-16T19:10:40.287041Z",
     "shell.execute_reply": "2022-03-16T19:10:40.286278Z",
     "shell.execute_reply.started": "2022-03-16T14:32:03.377171Z"
    },
    "papermill": {
     "duration": 1.969831,
     "end_time": "2022-03-16T19:10:40.287173",
     "exception": false,
     "start_time": "2022-03-16T19:10:38.317342",
     "status": "completed"
    },
    "tags": []
   },
   "outputs": [
    {
     "name": "stdout",
     "output_type": "stream",
     "text": [
      "['i', 'me', 'my', 'myself', 'we', 'our', 'ours', 'ourselves', 'you', \"you're\", \"you've\", \"you'll\", \"you'd\", 'your', 'yours', 'yourself', 'yourselves', 'he', 'him', 'his', 'himself', 'she', \"she's\", 'her', 'hers', 'herself', 'it', \"it's\", 'its', 'itself', 'they', 'them', 'their', 'theirs', 'themselves', 'what', 'which', 'who', 'whom', 'this', 'that', \"that'll\", 'these', 'those', 'am', 'is', 'are', 'was', 'were', 'be', 'been', 'being', 'have', 'has', 'had', 'having', 'do', 'does', 'did', 'doing', 'a', 'an', 'the', 'and', 'but', 'if', 'or', 'because', 'as', 'until', 'while', 'of', 'at', 'by', 'for', 'with', 'about', 'against', 'between', 'into', 'through', 'during', 'before', 'after', 'above', 'below', 'to', 'from', 'up', 'down', 'in', 'out', 'on', 'off', 'over', 'under', 'again', 'further', 'then', 'once', 'here', 'there', 'when', 'where', 'why', 'how', 'all', 'any', 'both', 'each', 'few', 'more', 'most', 'other', 'some', 'such', 'no', 'nor', 'not', 'only', 'own', 'same', 'so', 'than', 'too', 'very', 's', 't', 'can', 'will', 'just', 'don', \"don't\", 'should', \"should've\", 'now', 'd', 'll', 'm', 'o', 're', 've', 'y', 'ain', 'aren', \"aren't\", 'couldn', \"couldn't\", 'didn', \"didn't\", 'doesn', \"doesn't\", 'hadn', \"hadn't\", 'hasn', \"hasn't\", 'haven', \"haven't\", 'isn', \"isn't\", 'ma', 'mightn', \"mightn't\", 'mustn', \"mustn't\", 'needn', \"needn't\", 'shan', \"shan't\", 'shouldn', \"shouldn't\", 'wasn', \"wasn't\", 'weren', \"weren't\", 'won', \"won't\", 'wouldn', \"wouldn't\"]\n"
     ]
    }
   ],
   "source": [
    "import pandas as pd\n",
    "import numpy as np\n",
    "\n",
    "import seaborn as sns\n",
    "import matplotlib.pyplot as plt\n",
    "\n",
    "from tqdm import tqdm\n",
    "\n",
    "import re\n",
    "import string \n",
    "from string import punctuation\n",
    "from nltk.corpus import stopwords\n",
    "print(stopwords.words('english'))\n",
    "NOISE_WORDS = stopwords.words('english')"
   ]
  },
  {
   "cell_type": "code",
   "execution_count": 21,
   "id": "b41da55c",
   "metadata": {
    "execution": {
     "iopub.execute_input": "2022-03-16T19:10:40.420134Z",
     "iopub.status.busy": "2022-03-16T19:10:40.419585Z",
     "iopub.status.idle": "2022-03-16T19:10:51.072597Z",
     "shell.execute_reply": "2022-03-16T19:10:51.072118Z",
     "shell.execute_reply.started": "2022-03-16T14:32:05.527486Z"
    },
    "papermill": {
     "duration": 10.720637,
     "end_time": "2022-03-16T19:10:51.072750",
     "exception": false,
     "start_time": "2022-03-16T19:10:40.352113",
     "status": "completed"
    },
    "tags": []
   },
   "outputs": [],
   "source": [
    "import spacy\n",
    "LEMMA = spacy.load('en_core_web_sm')"
   ]
  },
  {
   "cell_type": "code",
   "execution_count": 2,
   "id": "52313ad5",
   "metadata": {
    "execution": {
     "iopub.execute_input": "2022-03-16T19:10:51.208852Z",
     "iopub.status.busy": "2022-03-16T19:10:51.208021Z",
     "iopub.status.idle": "2022-03-16T19:10:51.212342Z",
     "shell.execute_reply": "2022-03-16T19:10:51.211896Z",
     "shell.execute_reply.started": "2022-03-16T14:32:17.143797Z"
    },
    "papermill": {
     "duration": 0.07395,
     "end_time": "2022-03-16T19:10:51.212518",
     "exception": false,
     "start_time": "2022-03-16T19:10:51.138568",
     "status": "completed"
    },
    "tags": []
   },
   "outputs": [],
   "source": [
    "from sklearn.linear_model import LogisticRegression # можно заменить на любимый классификатор\n",
    "from sklearn.feature_extraction.text import CountVectorizer\n",
    "from sklearn.feature_extraction.text import TfidfVectorizer\n",
    "\n",
    "from xgboost import XGBClassifier\n",
    "from catboost import CatBoostClassifier\n",
    "\n",
    "from sklearn.svm import SVC\n",
    "\n",
    "from nltk import word_tokenize\n",
    "\n",
    "from sklearn.metrics import classification_report\n",
    "from sklearn.model_selection import train_test_split\n",
    "from sklearn.pipeline import Pipeline"
   ]
  },
  {
   "cell_type": "markdown",
   "id": "0644318b",
   "metadata": {},
   "source": [
    "### Загрузка данных (с нуля - далее по коду есть файл с обработанными данными название df_2_task_1.csv, чтобы не ждать выполнения функции clean_text)"
   ]
  },
  {
   "cell_type": "code",
   "execution_count": 22,
   "id": "f194c2e8",
   "metadata": {
    "execution": {
     "iopub.execute_input": "2022-03-16T19:10:51.349506Z",
     "iopub.status.busy": "2022-03-16T19:10:51.348696Z",
     "iopub.status.idle": "2022-03-16T19:10:51.431119Z",
     "shell.execute_reply": "2022-03-16T19:10:51.430167Z",
     "shell.execute_reply.started": "2022-03-16T14:32:44.667058Z"
    },
    "papermill": {
     "duration": 0.152321,
     "end_time": "2022-03-16T19:10:51.431249",
     "exception": false,
     "start_time": "2022-03-16T19:10:51.278928",
     "status": "completed"
    },
    "tags": []
   },
   "outputs": [],
   "source": [
    "#../input/hate-speech-and-offensive-language-dataset/labeled_data.csv\n",
    "df_1 = pd.read_csv('C:/Netology/DIPLOMA/data/hate/labeled_data.csv', index_col='Unnamed: 0')"
   ]
  },
  {
   "cell_type": "markdown",
   "id": "52620c75",
   "metadata": {},
   "source": [
    "### Анализ данных"
   ]
  },
  {
   "cell_type": "code",
   "execution_count": 8,
   "id": "9702e411",
   "metadata": {
    "execution": {
     "iopub.execute_input": "2022-03-16T19:10:51.568302Z",
     "iopub.status.busy": "2022-03-16T19:10:51.567757Z",
     "iopub.status.idle": "2022-03-16T19:10:51.580073Z",
     "shell.execute_reply": "2022-03-16T19:10:51.580519Z",
     "shell.execute_reply.started": "2022-03-16T14:32:45.830627Z"
    },
    "papermill": {
     "duration": 0.083335,
     "end_time": "2022-03-16T19:10:51.580658",
     "exception": false,
     "start_time": "2022-03-16T19:10:51.497323",
     "status": "completed"
    },
    "tags": []
   },
   "outputs": [
    {
     "data": {
      "text/html": [
       "<div>\n",
       "<style scoped>\n",
       "    .dataframe tbody tr th:only-of-type {\n",
       "        vertical-align: middle;\n",
       "    }\n",
       "\n",
       "    .dataframe tbody tr th {\n",
       "        vertical-align: top;\n",
       "    }\n",
       "\n",
       "    .dataframe thead th {\n",
       "        text-align: right;\n",
       "    }\n",
       "</style>\n",
       "<table border=\"1\" class=\"dataframe\">\n",
       "  <thead>\n",
       "    <tr style=\"text-align: right;\">\n",
       "      <th></th>\n",
       "      <th>count</th>\n",
       "      <th>hate_speech</th>\n",
       "      <th>offensive_language</th>\n",
       "      <th>neither</th>\n",
       "      <th>class</th>\n",
       "      <th>tweet</th>\n",
       "    </tr>\n",
       "  </thead>\n",
       "  <tbody>\n",
       "    <tr>\n",
       "      <th>0</th>\n",
       "      <td>3</td>\n",
       "      <td>0</td>\n",
       "      <td>0</td>\n",
       "      <td>3</td>\n",
       "      <td>2</td>\n",
       "      <td>!!! RT @mayasolovely: As a woman you shouldn't...</td>\n",
       "    </tr>\n",
       "    <tr>\n",
       "      <th>1</th>\n",
       "      <td>3</td>\n",
       "      <td>0</td>\n",
       "      <td>3</td>\n",
       "      <td>0</td>\n",
       "      <td>1</td>\n",
       "      <td>!!!!! RT @mleew17: boy dats cold...tyga dwn ba...</td>\n",
       "    </tr>\n",
       "    <tr>\n",
       "      <th>2</th>\n",
       "      <td>3</td>\n",
       "      <td>0</td>\n",
       "      <td>3</td>\n",
       "      <td>0</td>\n",
       "      <td>1</td>\n",
       "      <td>!!!!!!! RT @UrKindOfBrand Dawg!!!! RT @80sbaby...</td>\n",
       "    </tr>\n",
       "    <tr>\n",
       "      <th>3</th>\n",
       "      <td>3</td>\n",
       "      <td>0</td>\n",
       "      <td>2</td>\n",
       "      <td>1</td>\n",
       "      <td>1</td>\n",
       "      <td>!!!!!!!!! RT @C_G_Anderson: @viva_based she lo...</td>\n",
       "    </tr>\n",
       "    <tr>\n",
       "      <th>4</th>\n",
       "      <td>6</td>\n",
       "      <td>0</td>\n",
       "      <td>6</td>\n",
       "      <td>0</td>\n",
       "      <td>1</td>\n",
       "      <td>!!!!!!!!!!!!! RT @ShenikaRoberts: The shit you...</td>\n",
       "    </tr>\n",
       "  </tbody>\n",
       "</table>\n",
       "</div>"
      ],
      "text/plain": [
       "   count  hate_speech  offensive_language  neither  class  \\\n",
       "0      3            0                   0        3      2   \n",
       "1      3            0                   3        0      1   \n",
       "2      3            0                   3        0      1   \n",
       "3      3            0                   2        1      1   \n",
       "4      6            0                   6        0      1   \n",
       "\n",
       "                                               tweet  \n",
       "0  !!! RT @mayasolovely: As a woman you shouldn't...  \n",
       "1  !!!!! RT @mleew17: boy dats cold...tyga dwn ba...  \n",
       "2  !!!!!!! RT @UrKindOfBrand Dawg!!!! RT @80sbaby...  \n",
       "3  !!!!!!!!! RT @C_G_Anderson: @viva_based she lo...  \n",
       "4  !!!!!!!!!!!!! RT @ShenikaRoberts: The shit you...  "
      ]
     },
     "execution_count": 8,
     "metadata": {},
     "output_type": "execute_result"
    }
   ],
   "source": [
    "df_1.head()"
   ]
  },
  {
   "cell_type": "code",
   "execution_count": 9,
   "id": "2cc9e1e6",
   "metadata": {
    "execution": {
     "iopub.execute_input": "2022-03-16T19:10:51.717647Z",
     "iopub.status.busy": "2022-03-16T19:10:51.716679Z",
     "iopub.status.idle": "2022-03-16T19:10:51.727868Z",
     "shell.execute_reply": "2022-03-16T19:10:51.728275Z",
     "shell.execute_reply.started": "2022-03-16T14:32:46.628312Z"
    },
    "papermill": {
     "duration": 0.082337,
     "end_time": "2022-03-16T19:10:51.728432",
     "exception": false,
     "start_time": "2022-03-16T19:10:51.646095",
     "status": "completed"
    },
    "tags": []
   },
   "outputs": [
    {
     "data": {
      "text/html": [
       "<div>\n",
       "<style scoped>\n",
       "    .dataframe tbody tr th:only-of-type {\n",
       "        vertical-align: middle;\n",
       "    }\n",
       "\n",
       "    .dataframe tbody tr th {\n",
       "        vertical-align: top;\n",
       "    }\n",
       "\n",
       "    .dataframe thead th {\n",
       "        text-align: right;\n",
       "    }\n",
       "</style>\n",
       "<table border=\"1\" class=\"dataframe\">\n",
       "  <thead>\n",
       "    <tr style=\"text-align: right;\">\n",
       "      <th></th>\n",
       "      <th>count</th>\n",
       "      <th>hate_speech</th>\n",
       "      <th>offensive_language</th>\n",
       "      <th>neither</th>\n",
       "      <th>class</th>\n",
       "      <th>tweet</th>\n",
       "    </tr>\n",
       "  </thead>\n",
       "  <tbody>\n",
       "    <tr>\n",
       "      <th>5</th>\n",
       "      <td>3</td>\n",
       "      <td>1</td>\n",
       "      <td>2</td>\n",
       "      <td>0</td>\n",
       "      <td>1</td>\n",
       "      <td>!!!!!!!!!!!!!!!!!!\"@T_Madison_x: The shit just...</td>\n",
       "    </tr>\n",
       "    <tr>\n",
       "      <th>9</th>\n",
       "      <td>3</td>\n",
       "      <td>1</td>\n",
       "      <td>2</td>\n",
       "      <td>0</td>\n",
       "      <td>1</td>\n",
       "      <td>\" @rhythmixx_ :hobbies include: fighting Maria...</td>\n",
       "    </tr>\n",
       "    <tr>\n",
       "      <th>14</th>\n",
       "      <td>3</td>\n",
       "      <td>1</td>\n",
       "      <td>2</td>\n",
       "      <td>0</td>\n",
       "      <td>1</td>\n",
       "      <td>\" bitch get up off me \"</td>\n",
       "    </tr>\n",
       "    <tr>\n",
       "      <th>17</th>\n",
       "      <td>3</td>\n",
       "      <td>1</td>\n",
       "      <td>2</td>\n",
       "      <td>0</td>\n",
       "      <td>1</td>\n",
       "      <td>\" bitch who do you love \"</td>\n",
       "    </tr>\n",
       "    <tr>\n",
       "      <th>49</th>\n",
       "      <td>3</td>\n",
       "      <td>1</td>\n",
       "      <td>2</td>\n",
       "      <td>0</td>\n",
       "      <td>1</td>\n",
       "      <td>\" these hoes like niggas that spend money not ...</td>\n",
       "    </tr>\n",
       "    <tr>\n",
       "      <th>...</th>\n",
       "      <td>...</td>\n",
       "      <td>...</td>\n",
       "      <td>...</td>\n",
       "      <td>...</td>\n",
       "      <td>...</td>\n",
       "      <td>...</td>\n",
       "    </tr>\n",
       "    <tr>\n",
       "      <th>25262</th>\n",
       "      <td>3</td>\n",
       "      <td>1</td>\n",
       "      <td>2</td>\n",
       "      <td>0</td>\n",
       "      <td>1</td>\n",
       "      <td>yo hoe will get slayed! &amp;#128298;</td>\n",
       "    </tr>\n",
       "    <tr>\n",
       "      <th>25265</th>\n",
       "      <td>6</td>\n",
       "      <td>1</td>\n",
       "      <td>5</td>\n",
       "      <td>0</td>\n",
       "      <td>1</td>\n",
       "      <td>you ain't a real nigga without goal a to chase...</td>\n",
       "    </tr>\n",
       "    <tr>\n",
       "      <th>25266</th>\n",
       "      <td>3</td>\n",
       "      <td>1</td>\n",
       "      <td>2</td>\n",
       "      <td>0</td>\n",
       "      <td>1</td>\n",
       "      <td>you ain't gotta be a dyke to like hoes</td>\n",
       "    </tr>\n",
       "    <tr>\n",
       "      <th>25275</th>\n",
       "      <td>3</td>\n",
       "      <td>1</td>\n",
       "      <td>2</td>\n",
       "      <td>0</td>\n",
       "      <td>1</td>\n",
       "      <td>you got niggas, and i got bitches.</td>\n",
       "    </tr>\n",
       "    <tr>\n",
       "      <th>25286</th>\n",
       "      <td>3</td>\n",
       "      <td>1</td>\n",
       "      <td>2</td>\n",
       "      <td>0</td>\n",
       "      <td>1</td>\n",
       "      <td>you niggers cheat on ya gf's? smh....</td>\n",
       "    </tr>\n",
       "  </tbody>\n",
       "</table>\n",
       "<p>3419 rows × 6 columns</p>\n",
       "</div>"
      ],
      "text/plain": [
       "       count  hate_speech  offensive_language  neither  class  \\\n",
       "5          3            1                   2        0      1   \n",
       "9          3            1                   2        0      1   \n",
       "14         3            1                   2        0      1   \n",
       "17         3            1                   2        0      1   \n",
       "49         3            1                   2        0      1   \n",
       "...      ...          ...                 ...      ...    ...   \n",
       "25262      3            1                   2        0      1   \n",
       "25265      6            1                   5        0      1   \n",
       "25266      3            1                   2        0      1   \n",
       "25275      3            1                   2        0      1   \n",
       "25286      3            1                   2        0      1   \n",
       "\n",
       "                                                   tweet  \n",
       "5      !!!!!!!!!!!!!!!!!!\"@T_Madison_x: The shit just...  \n",
       "9      \" @rhythmixx_ :hobbies include: fighting Maria...  \n",
       "14                               \" bitch get up off me \"  \n",
       "17                             \" bitch who do you love \"  \n",
       "49     \" these hoes like niggas that spend money not ...  \n",
       "...                                                  ...  \n",
       "25262                  yo hoe will get slayed! &#128298;  \n",
       "25265  you ain't a real nigga without goal a to chase...  \n",
       "25266             you ain't gotta be a dyke to like hoes  \n",
       "25275                 you got niggas, and i got bitches.  \n",
       "25286              you niggers cheat on ya gf's? smh....  \n",
       "\n",
       "[3419 rows x 6 columns]"
      ]
     },
     "execution_count": 9,
     "metadata": {},
     "output_type": "execute_result"
    }
   ],
   "source": [
    "df_1[df_1.hate_speech == 1]"
   ]
  },
  {
   "cell_type": "code",
   "execution_count": 10,
   "id": "c9b459a3",
   "metadata": {
    "execution": {
     "iopub.execute_input": "2022-03-16T19:10:51.873825Z",
     "iopub.status.busy": "2022-03-16T19:10:51.873004Z",
     "iopub.status.idle": "2022-03-16T19:10:51.884783Z",
     "shell.execute_reply": "2022-03-16T19:10:51.885248Z",
     "shell.execute_reply.started": "2022-03-16T14:32:48.641478Z"
    },
    "papermill": {
     "duration": 0.087759,
     "end_time": "2022-03-16T19:10:51.885421",
     "exception": false,
     "start_time": "2022-03-16T19:10:51.797662",
     "status": "completed"
    },
    "tags": []
   },
   "outputs": [
    {
     "name": "stdout",
     "output_type": "stream",
     "text": [
      "<class 'pandas.core.frame.DataFrame'>\n",
      "Int64Index: 24783 entries, 0 to 25296\n",
      "Data columns (total 6 columns):\n",
      " #   Column              Non-Null Count  Dtype \n",
      "---  ------              --------------  ----- \n",
      " 0   count               24783 non-null  int64 \n",
      " 1   hate_speech         24783 non-null  int64 \n",
      " 2   offensive_language  24783 non-null  int64 \n",
      " 3   neither             24783 non-null  int64 \n",
      " 4   class               24783 non-null  int64 \n",
      " 5   tweet               24783 non-null  object\n",
      "dtypes: int64(5), object(1)\n",
      "memory usage: 1.3+ MB\n"
     ]
    }
   ],
   "source": [
    "df_1.info()"
   ]
  },
  {
   "cell_type": "markdown",
   "id": "d686f986",
   "metadata": {
    "papermill": {
     "duration": 0.067159,
     "end_time": "2022-03-16T19:10:52.018394",
     "exception": false,
     "start_time": "2022-03-16T19:10:51.951235",
     "status": "completed"
    },
    "tags": []
   },
   "source": [
    "### Распределение количества данных по классам"
   ]
  },
  {
   "cell_type": "code",
   "execution_count": 11,
   "id": "9c4d83d3",
   "metadata": {
    "execution": {
     "iopub.execute_input": "2022-03-16T19:10:52.158906Z",
     "iopub.status.busy": "2022-03-16T19:10:52.158167Z",
     "iopub.status.idle": "2022-03-16T19:10:52.169453Z",
     "shell.execute_reply": "2022-03-16T19:10:52.169026Z",
     "shell.execute_reply.started": "2022-03-16T14:32:49.951637Z"
    },
    "papermill": {
     "duration": 0.084488,
     "end_time": "2022-03-16T19:10:52.169573",
     "exception": false,
     "start_time": "2022-03-16T19:10:52.085085",
     "status": "completed"
    },
    "tags": []
   },
   "outputs": [
    {
     "data": {
      "text/html": [
       "<div>\n",
       "<style scoped>\n",
       "    .dataframe tbody tr th:only-of-type {\n",
       "        vertical-align: middle;\n",
       "    }\n",
       "\n",
       "    .dataframe tbody tr th {\n",
       "        vertical-align: top;\n",
       "    }\n",
       "\n",
       "    .dataframe thead th {\n",
       "        text-align: right;\n",
       "    }\n",
       "</style>\n",
       "<table border=\"1\" class=\"dataframe\">\n",
       "  <thead>\n",
       "    <tr style=\"text-align: right;\">\n",
       "      <th></th>\n",
       "      <th>tweet</th>\n",
       "    </tr>\n",
       "    <tr>\n",
       "      <th>class</th>\n",
       "      <th></th>\n",
       "    </tr>\n",
       "  </thead>\n",
       "  <tbody>\n",
       "    <tr>\n",
       "      <th>0</th>\n",
       "      <td>1430</td>\n",
       "    </tr>\n",
       "    <tr>\n",
       "      <th>1</th>\n",
       "      <td>19190</td>\n",
       "    </tr>\n",
       "    <tr>\n",
       "      <th>2</th>\n",
       "      <td>4163</td>\n",
       "    </tr>\n",
       "  </tbody>\n",
       "</table>\n",
       "</div>"
      ],
      "text/plain": [
       "       tweet\n",
       "class       \n",
       "0       1430\n",
       "1      19190\n",
       "2       4163"
      ]
     },
     "execution_count": 11,
     "metadata": {},
     "output_type": "execute_result"
    }
   ],
   "source": [
    "df_1[['class', 'tweet']].groupby('class').count()"
   ]
  },
  {
   "cell_type": "code",
   "execution_count": 12,
   "id": "a28746b3",
   "metadata": {
    "execution": {
     "iopub.execute_input": "2022-03-16T19:10:52.311792Z",
     "iopub.status.busy": "2022-03-16T19:10:52.311024Z",
     "iopub.status.idle": "2022-03-16T19:10:52.552774Z",
     "shell.execute_reply": "2022-03-16T19:10:52.552081Z",
     "shell.execute_reply.started": "2022-03-16T14:32:51.21648Z"
    },
    "papermill": {
     "duration": 0.316239,
     "end_time": "2022-03-16T19:10:52.552903",
     "exception": false,
     "start_time": "2022-03-16T19:10:52.236664",
     "status": "completed"
    },
    "tags": []
   },
   "outputs": [
    {
     "data": {
      "image/png": "[encoded data removed]",
      "text/plain": [
       "<Figure size 432x288 with 1 Axes>"
      ]
     },
     "metadata": {
      "needs_background": "light"
     },
     "output_type": "display_data"
    }
   ],
   "source": [
    "plot_1 = df_1[['class', 'tweet']].groupby('class').count()\n",
    "\n",
    "plot_1.plot(kind='bar', grid = True,\n",
    "                   color='#607c8e')\n",
    "plt.title('Class distribution')\n",
    "plt.xlabel('Class')\n",
    "plt.ylabel('Counts')\n",
    "plt.grid(axis='y', alpha=0.75)"
   ]
  },
  {
   "cell_type": "markdown",
   "id": "8e7c1706",
   "metadata": {
    "papermill": {
     "duration": 0.06793,
     "end_time": "2022-03-16T19:10:52.688178",
     "exception": false,
     "start_time": "2022-03-16T19:10:52.620248",
     "status": "completed"
    },
    "tags": []
   },
   "source": [
    "###### Видно, что преобладают данные класса 1 - с оскорбительными выражениями\n"
   ]
  },
  {
   "cell_type": "markdown",
   "id": "5a672862",
   "metadata": {
    "papermill": {
     "duration": 0.067931,
     "end_time": "2022-03-16T19:10:52.823781",
     "exception": false,
     "start_time": "2022-03-16T19:10:52.755850",
     "status": "completed"
    },
    "tags": []
   },
   "source": [
    "### Распределение по количеству пользователей CF, которые отнесли твит к тому или иному классу"
   ]
  },
  {
   "cell_type": "code",
   "execution_count": 13,
   "id": "860332d9",
   "metadata": {
    "execution": {
     "iopub.execute_input": "2022-03-16T19:10:52.966335Z",
     "iopub.status.busy": "2022-03-16T19:10:52.965482Z",
     "iopub.status.idle": "2022-03-16T19:10:52.974208Z",
     "shell.execute_reply": "2022-03-16T19:10:52.974713Z",
     "shell.execute_reply.started": "2022-03-16T14:32:52.331412Z"
    },
    "papermill": {
     "duration": 0.083199,
     "end_time": "2022-03-16T19:10:52.974870",
     "exception": false,
     "start_time": "2022-03-16T19:10:52.891671",
     "status": "completed"
    },
    "tags": []
   },
   "outputs": [
    {
     "data": {
      "text/html": [
       "<div>\n",
       "<style scoped>\n",
       "    .dataframe tbody tr th:only-of-type {\n",
       "        vertical-align: middle;\n",
       "    }\n",
       "\n",
       "    .dataframe tbody tr th {\n",
       "        vertical-align: top;\n",
       "    }\n",
       "\n",
       "    .dataframe thead th {\n",
       "        text-align: right;\n",
       "    }\n",
       "</style>\n",
       "<table border=\"1\" class=\"dataframe\">\n",
       "  <thead>\n",
       "    <tr style=\"text-align: right;\">\n",
       "      <th></th>\n",
       "      <th>count</th>\n",
       "      <th>hate_speech</th>\n",
       "      <th>offensive_language</th>\n",
       "      <th>neither</th>\n",
       "    </tr>\n",
       "    <tr>\n",
       "      <th>class</th>\n",
       "      <th></th>\n",
       "      <th></th>\n",
       "      <th></th>\n",
       "      <th></th>\n",
       "    </tr>\n",
       "  </thead>\n",
       "  <tbody>\n",
       "    <tr>\n",
       "      <th>0</th>\n",
       "      <td>4445</td>\n",
       "      <td>3227</td>\n",
       "      <td>1081</td>\n",
       "      <td>137</td>\n",
       "    </tr>\n",
       "    <tr>\n",
       "      <th>1</th>\n",
       "      <td>62730</td>\n",
       "      <td>3463</td>\n",
       "      <td>57638</td>\n",
       "      <td>1629</td>\n",
       "    </tr>\n",
       "    <tr>\n",
       "      <th>2</th>\n",
       "      <td>13208</td>\n",
       "      <td>262</td>\n",
       "      <td>1100</td>\n",
       "      <td>11846</td>\n",
       "    </tr>\n",
       "  </tbody>\n",
       "</table>\n",
       "</div>"
      ],
      "text/plain": [
       "       count  hate_speech  offensive_language  neither\n",
       "class                                                 \n",
       "0       4445         3227                1081      137\n",
       "1      62730         3463               57638     1629\n",
       "2      13208          262                1100    11846"
      ]
     },
     "execution_count": 13,
     "metadata": {},
     "output_type": "execute_result"
    }
   ],
   "source": [
    "df_1.groupby(['class']).sum()"
   ]
  },
  {
   "cell_type": "code",
   "execution_count": 14,
   "id": "bbd1a1ed",
   "metadata": {
    "execution": {
     "iopub.execute_input": "2022-03-16T19:10:53.118482Z",
     "iopub.status.busy": "2022-03-16T19:10:53.117935Z",
     "iopub.status.idle": "2022-03-16T19:10:53.351209Z",
     "shell.execute_reply": "2022-03-16T19:10:53.351612Z",
     "shell.execute_reply.started": "2022-03-16T14:32:52.754981Z"
    },
    "papermill": {
     "duration": 0.308116,
     "end_time": "2022-03-16T19:10:53.351763",
     "exception": false,
     "start_time": "2022-03-16T19:10:53.043647",
     "status": "completed"
    },
    "tags": []
   },
   "outputs": [
    {
     "data": {
      "image/png": "[encoded data removed]",
      "text/plain": [
       "<Figure size 432x288 with 1 Axes>"
      ]
     },
     "metadata": {
      "needs_background": "light"
     },
     "output_type": "display_data"
    }
   ],
   "source": [
    "plot_2 = df_1.groupby(['class']).sum()\n",
    "\n",
    "plot_2.plot(kind='bar', grid = True)\n",
    "plt.title('Types of tweets distribution')\n",
    "plt.xlabel('Counts')\n",
    "plt.ylabel('Types of tweets')\n",
    "plt.grid(axis='y', alpha=0.75)"
   ]
  },
  {
   "cell_type": "markdown",
   "id": "50389307",
   "metadata": {
    "papermill": {
     "duration": 0.069921,
     "end_time": "2022-03-16T19:10:53.490908",
     "exception": false,
     "start_time": "2022-03-16T19:10:53.420987",
     "status": "completed"
    },
    "tags": []
   },
   "source": [
    "###### Видно, что пользователи однозначно относят к верному классу твит, но в основном большинство на одной стороне"
   ]
  },
  {
   "cell_type": "markdown",
   "id": "bfa39b27",
   "metadata": {
    "papermill": {
     "duration": 0.068191,
     "end_time": "2022-03-16T19:10:53.628518",
     "exception": false,
     "start_time": "2022-03-16T19:10:53.560327",
     "status": "completed"
    },
    "tags": []
   },
   "source": [
    "### Предобработка текста твитов"
   ]
  },
  {
   "cell_type": "code",
   "execution_count": 15,
   "id": "ee54bd64",
   "metadata": {
    "execution": {
     "iopub.execute_input": "2022-03-16T19:10:53.774902Z",
     "iopub.status.busy": "2022-03-16T19:10:53.774001Z",
     "iopub.status.idle": "2022-03-16T19:10:53.775999Z",
     "shell.execute_reply": "2022-03-16T19:10:53.776500Z",
     "shell.execute_reply.started": "2022-03-16T14:32:53.813901Z"
    },
    "papermill": {
     "duration": 0.079699,
     "end_time": "2022-03-16T19:10:53.776655",
     "exception": false,
     "start_time": "2022-03-16T19:10:53.696956",
     "status": "completed"
    },
    "tags": []
   },
   "outputs": [],
   "source": [
    "def clean_text(text, lemma, noise_words):\n",
    "    '''Функция на вход получает текст, на выходе выдаёт очищенный текст'''\n",
    "    text = str(text).lower() # первый шаг - все тексты приводим к нижнему регистру \n",
    "    \n",
    "    text = re.sub(\"@[\\w'._+-:]+\", '', text) # второй шаг - убираем ники пользователей твитера, т.к. обычно не несут никакой окраски\n",
    "    text = re.sub('https?://\\S+|www\\.\\S+', '', text) # третий шаг - убираем ссылки в твитах, т.к. названия ссылок  обычно не влияют на тональность \n",
    "    text = re.sub('\\w*\\d\\w*', '', text) # четвёртый шаг - убираем \"слова\", внутри которых есть цифры\n",
    "\n",
    "    text = re.sub('[^\\w\\s^.]','', text) # пятый шаг - убираем знаки пунктуации\n",
    "    text = re.sub('[_\\.]+',' ', text)\n",
    "    \n",
    "    text = \" \".join([word for word in text.split(' ') if word not in noise_words]) # шестой шаг - отбираем только НЕстоп-слова\n",
    "    \n",
    "    text = \" \".join([word.lemma_ for word in lemma(text)]) # седьмой шаг - лемматизация при помощи spacy \n",
    "    text = re.sub('[\\s]+', ' ', text) # восьмой шаг - заменяем любой пробельный символ(табуляция, конец строки и т.п.) на пробел\n",
    "\n",
    "    return text"
   ]
  },
  {
   "cell_type": "code",
   "execution_count": 17,
   "id": "63aea2a8",
   "metadata": {
    "execution": {
     "iopub.execute_input": "2022-03-16T19:10:53.918698Z",
     "iopub.status.busy": "2022-03-16T19:10:53.917561Z",
     "iopub.status.idle": "2022-03-16T19:10:53.921070Z",
     "shell.execute_reply": "2022-03-16T19:10:53.920673Z",
     "shell.execute_reply.started": "2022-03-16T14:32:54.928051Z"
    },
    "papermill": {
     "duration": 0.075758,
     "end_time": "2022-03-16T19:10:53.921177",
     "exception": false,
     "start_time": "2022-03-16T19:10:53.845419",
     "status": "completed"
    },
    "tags": []
   },
   "outputs": [],
   "source": [
    "df_2 = df_1.copy()"
   ]
  },
  {
   "cell_type": "markdown",
   "id": "142ec9e6",
   "metadata": {},
   "source": [
    "#### Применение функции clean_text к твитам"
   ]
  },
  {
   "cell_type": "code",
   "execution_count": 18,
   "id": "2cd3e9be",
   "metadata": {
    "execution": {
     "iopub.execute_input": "2022-03-16T19:10:54.067667Z",
     "iopub.status.busy": "2022-03-16T19:10:54.067106Z",
     "iopub.status.idle": "2022-03-16T19:13:10.873946Z",
     "shell.execute_reply": "2022-03-16T19:13:10.872998Z",
     "shell.execute_reply.started": "2022-03-16T14:32:55.909608Z"
    },
    "papermill": {
     "duration": 136.882935,
     "end_time": "2022-03-16T19:13:10.874101",
     "exception": false,
     "start_time": "2022-03-16T19:10:53.991166",
     "status": "completed"
    },
    "tags": []
   },
   "outputs": [],
   "source": [
    "df_2['tweet'] = df_2['tweet'].apply(lambda x: clean_text(x, LEMMA, NOISE_WORDS))"
   ]
  },
  {
   "cell_type": "code",
   "execution_count": 1,
   "id": "c343f198",
   "metadata": {},
   "outputs": [],
   "source": [
    "# df_2.to_csv('df_2_task_1.csv', encoding='utf-8') # сохранение обработанного файла с твитами"
   ]
  },
  {
   "cell_type": "markdown",
   "id": "5ce09b4c",
   "metadata": {},
   "source": [
    "### Загрузка обработанных  функцией clean_text данных"
   ]
  },
  {
   "cell_type": "code",
   "execution_count": 3,
   "id": "5b38aeae",
   "metadata": {},
   "outputs": [],
   "source": [
    "df_2 = pd.read_csv('df_2_task_1.csv', encoding='utf-8', index_col='Unnamed: 0')"
   ]
  },
  {
   "cell_type": "code",
   "execution_count": 24,
   "id": "1b7c028a",
   "metadata": {
    "execution": {
     "iopub.execute_input": "2022-03-16T19:13:11.023211Z",
     "iopub.status.busy": "2022-03-16T19:13:11.022567Z",
     "iopub.status.idle": "2022-03-16T19:13:11.025535Z",
     "shell.execute_reply": "2022-03-16T19:13:11.026004Z",
     "shell.execute_reply.started": "2022-03-16T14:35:43.61026Z"
    },
    "papermill": {
     "duration": 0.082715,
     "end_time": "2022-03-16T19:13:11.026154",
     "exception": false,
     "start_time": "2022-03-16T19:13:10.943439",
     "status": "completed"
    },
    "tags": []
   },
   "outputs": [
    {
     "data": {
      "text/html": [
       "<div>\n",
       "<style scoped>\n",
       "    .dataframe tbody tr th:only-of-type {\n",
       "        vertical-align: middle;\n",
       "    }\n",
       "\n",
       "    .dataframe tbody tr th {\n",
       "        vertical-align: top;\n",
       "    }\n",
       "\n",
       "    .dataframe thead th {\n",
       "        text-align: right;\n",
       "    }\n",
       "</style>\n",
       "<table border=\"1\" class=\"dataframe\">\n",
       "  <thead>\n",
       "    <tr style=\"text-align: right;\">\n",
       "      <th></th>\n",
       "      <th>count</th>\n",
       "      <th>hate_speech</th>\n",
       "      <th>offensive_language</th>\n",
       "      <th>neither</th>\n",
       "      <th>class</th>\n",
       "      <th>tweet</th>\n",
       "    </tr>\n",
       "  </thead>\n",
       "  <tbody>\n",
       "    <tr>\n",
       "      <th>0</th>\n",
       "      <td>3</td>\n",
       "      <td>0</td>\n",
       "      <td>0</td>\n",
       "      <td>3</td>\n",
       "      <td>2</td>\n",
       "      <td>rt woman should not complain clean house amp ...</td>\n",
       "    </tr>\n",
       "    <tr>\n",
       "      <th>1</th>\n",
       "      <td>3</td>\n",
       "      <td>0</td>\n",
       "      <td>3</td>\n",
       "      <td>0</td>\n",
       "      <td>1</td>\n",
       "      <td>rt boy dat cold tyga dwn bad cuffin dat hoe p...</td>\n",
       "    </tr>\n",
       "    <tr>\n",
       "      <th>2</th>\n",
       "      <td>3</td>\n",
       "      <td>0</td>\n",
       "      <td>3</td>\n",
       "      <td>0</td>\n",
       "      <td>1</td>\n",
       "      <td>rt dawg rt ever fuck bitch start cry confused...</td>\n",
       "    </tr>\n",
       "    <tr>\n",
       "      <th>3</th>\n",
       "      <td>3</td>\n",
       "      <td>0</td>\n",
       "      <td>2</td>\n",
       "      <td>1</td>\n",
       "      <td>1</td>\n",
       "      <td>rt look like tranny</td>\n",
       "    </tr>\n",
       "    <tr>\n",
       "      <th>4</th>\n",
       "      <td>6</td>\n",
       "      <td>0</td>\n",
       "      <td>6</td>\n",
       "      <td>0</td>\n",
       "      <td>1</td>\n",
       "      <td>rt shit hear might true might faker bitch tel...</td>\n",
       "    </tr>\n",
       "  </tbody>\n",
       "</table>\n",
       "</div>"
      ],
      "text/plain": [
       "   count  hate_speech  offensive_language  neither  class  \\\n",
       "0      3            0                   0        3      2   \n",
       "1      3            0                   3        0      1   \n",
       "2      3            0                   3        0      1   \n",
       "3      3            0                   2        1      1   \n",
       "4      6            0                   6        0      1   \n",
       "\n",
       "                                               tweet  \n",
       "0   rt woman should not complain clean house amp ...  \n",
       "1   rt boy dat cold tyga dwn bad cuffin dat hoe p...  \n",
       "2   rt dawg rt ever fuck bitch start cry confused...  \n",
       "3                                rt look like tranny  \n",
       "4   rt shit hear might true might faker bitch tel...  "
      ]
     },
     "execution_count": 24,
     "metadata": {},
     "output_type": "execute_result"
    }
   ],
   "source": [
    "df_2.head()"
   ]
  },
  {
   "cell_type": "markdown",
   "id": "13f82373",
   "metadata": {},
   "source": [
    "### Уменьшение сильно выделенного 1 класса до 4000 строк "
   ]
  },
  {
   "cell_type": "code",
   "execution_count": 11,
   "id": "f15f0094",
   "metadata": {},
   "outputs": [],
   "source": [
    "# 4000 так как выше это понижение метрики f1 для 0 класса\n",
    "df_2_0_2 = df_2[(df_2['class'] == 0) | (df_2['class'] == 2)]\n",
    "df_2_1 = df_2[df_2['class'] == 1].sample(4000)\n",
    "df_2 = pd.concat([df_2_0_2, df_2_1])"
   ]
  },
  {
   "cell_type": "code",
   "execution_count": 7,
   "id": "49f39a9e",
   "metadata": {},
   "outputs": [
    {
     "data": {
      "image/png": "[encoded data removed]",
      "text/plain": [
       "<Figure size 432x288 with 1 Axes>"
      ]
     },
     "metadata": {
      "needs_background": "light"
     },
     "output_type": "display_data"
    }
   ],
   "source": [
    "plot_1 = df_2[['class', 'tweet']].groupby('class').count()\n",
    "\n",
    "plot_1.plot(kind='bar', grid = True,\n",
    "                   color='#607c8e')\n",
    "plt.title('Class distribution')\n",
    "plt.xlabel('Class')\n",
    "plt.ylabel('Counts')\n",
    "plt.grid(axis='y', alpha=0.75)"
   ]
  },
  {
   "cell_type": "markdown",
   "id": "ef97b3bc",
   "metadata": {},
   "source": [
    "### Разделение на тренировочные и тестовые данные - 80 и 20 %"
   ]
  },
  {
   "cell_type": "code",
   "execution_count": 7,
   "id": "d0a5dce8",
   "metadata": {
    "execution": {
     "iopub.execute_input": "2022-03-16T19:13:11.177820Z",
     "iopub.status.busy": "2022-03-16T19:13:11.176837Z",
     "iopub.status.idle": "2022-03-16T19:13:11.183238Z",
     "shell.execute_reply": "2022-03-16T19:13:11.182823Z",
     "shell.execute_reply.started": "2022-03-16T14:35:43.624576Z"
    },
    "papermill": {
     "duration": 0.082233,
     "end_time": "2022-03-16T19:13:11.183353",
     "exception": false,
     "start_time": "2022-03-16T19:13:11.101120",
     "status": "completed"
    },
    "tags": []
   },
   "outputs": [],
   "source": [
    "X_train, X_test, y_train, y_test = train_test_split(df_2['tweet'], df_2['class'], test_size = 0.2)"
   ]
  },
  {
   "cell_type": "markdown",
   "id": "faf7985d",
   "metadata": {
    "papermill": {
     "duration": 0.068677,
     "end_time": "2022-03-16T19:13:11.321483",
     "exception": false,
     "start_time": "2022-03-16T19:13:11.252806",
     "status": "completed"
    },
    "tags": []
   },
   "source": [
    "## Первый способ - CountVectorizer('word', ngram = 1-1) + LogisticRegression"
   ]
  },
  {
   "cell_type": "code",
   "execution_count": 29,
   "id": "a21cf7e9",
   "metadata": {
    "execution": {
     "iopub.execute_input": "2022-03-16T19:13:11.513553Z",
     "iopub.status.busy": "2022-03-16T19:13:11.509303Z",
     "iopub.status.idle": "2022-03-16T19:13:11.719941Z",
     "shell.execute_reply": "2022-03-16T19:13:11.720353Z",
     "shell.execute_reply.started": "2022-03-16T14:54:11.541716Z"
    },
    "papermill": {
     "duration": 0.32996,
     "end_time": "2022-03-16T19:13:11.720540",
     "exception": false,
     "start_time": "2022-03-16T19:13:11.390580",
     "status": "completed"
    },
    "tags": []
   },
   "outputs": [],
   "source": [
    "vec = CountVectorizer(ngram_range=(1, 1))\n",
    "vec.fit(df_2['tweet'])\n",
    "bow = vec.transform(X_train)"
   ]
  },
  {
   "cell_type": "code",
   "execution_count": 30,
   "id": "55fe1428",
   "metadata": {
    "execution": {
     "iopub.execute_input": "2022-03-16T19:13:11.875073Z",
     "iopub.status.busy": "2022-03-16T19:13:11.874220Z",
     "iopub.status.idle": "2022-03-16T19:13:12.544031Z",
     "shell.execute_reply": "2022-03-16T19:13:12.545200Z",
     "shell.execute_reply.started": "2022-03-16T14:54:21.611243Z"
    },
    "papermill": {
     "duration": 0.750352,
     "end_time": "2022-03-16T19:13:12.545479",
     "exception": false,
     "start_time": "2022-03-16T19:13:11.795127",
     "status": "completed"
    },
    "tags": []
   },
   "outputs": [
    {
     "name": "stdout",
     "output_type": "stream",
     "text": [
      "              precision    recall  f1-score   support\n",
      "\n",
      "           0       0.60      0.68      0.64       247\n",
      "           1       0.87      0.88      0.88       816\n",
      "           2       0.96      0.90      0.92       856\n",
      "\n",
      "    accuracy                           0.86      1919\n",
      "   macro avg       0.81      0.82      0.81      1919\n",
      "weighted avg       0.87      0.86      0.87      1919\n",
      "\n"
     ]
    }
   ],
   "source": [
    "clf = LogisticRegression(random_state=42, solver='liblinear', class_weight = 'balanced')\n",
    "clf.fit(bow, y_train)\n",
    "pred = clf.predict(vec.transform(X_test))\n",
    "print(classification_report(pred, y_test))"
   ]
  },
  {
   "cell_type": "markdown",
   "id": "d903c753",
   "metadata": {
    "papermill": {
     "duration": 0.069544,
     "end_time": "2022-03-16T19:13:12.689313",
     "exception": false,
     "start_time": "2022-03-16T19:13:12.619769",
     "status": "completed"
    },
    "tags": []
   },
   "source": [
    "## Второй способ - TfidfVectorizer + LogisticRegression"
   ]
  },
  {
   "cell_type": "code",
   "execution_count": 69,
   "id": "c89eb691",
   "metadata": {
    "execution": {
     "iopub.execute_input": "2022-03-16T19:13:13.139646Z",
     "iopub.status.busy": "2022-03-16T19:13:13.138673Z",
     "iopub.status.idle": "2022-03-16T19:13:13.140450Z",
     "shell.execute_reply": "2022-03-16T19:13:13.141043Z",
     "shell.execute_reply.started": "2022-03-16T14:54:29.923798Z"
    },
    "papermill": {
     "duration": 0.12715,
     "end_time": "2022-03-16T19:13:13.141233",
     "exception": false,
     "start_time": "2022-03-16T19:13:13.014083",
     "status": "completed"
    },
    "tags": []
   },
   "outputs": [
    {
     "name": "stdout",
     "output_type": "stream",
     "text": [
      "              precision    recall  f1-score   support\n",
      "\n",
      "           0       0.63      0.68      0.65       253\n",
      "           1       0.83      0.90      0.87       724\n",
      "           2       0.97      0.88      0.92       942\n",
      "\n",
      "    accuracy                           0.86      1919\n",
      "   macro avg       0.81      0.82      0.81      1919\n",
      "weighted avg       0.87      0.86      0.86      1919\n",
      "\n"
     ]
    }
   ],
   "source": [
    "pipe = Pipeline([\n",
    "                ('tf-idf', TfidfVectorizer()),\n",
    "                ('LogReg', LogisticRegression(random_state=42, \n",
    "                                              solver='liblinear', \n",
    "                                              class_weight = 'balanced'))\n",
    "                ])\n",
    "pipe.fit(X_train, y_train)\n",
    "y_pred = pipe.predict(X_test)\n",
    "print(classification_report(y_pred, y_test))"
   ]
  },
  {
   "cell_type": "markdown",
   "id": "d1c36be8",
   "metadata": {
    "papermill": {
     "duration": 0.069839,
     "end_time": "2022-03-16T19:13:14.450030",
     "exception": false,
     "start_time": "2022-03-16T19:13:14.380191",
     "status": "completed"
    },
    "tags": []
   },
   "source": [
    "## Третий способ - CountVectorizer(char, ngram = 1-7) + LogisticRegression"
   ]
  },
  {
   "cell_type": "code",
   "execution_count": 70,
   "id": "2e474df3",
   "metadata": {
    "execution": {
     "iopub.execute_input": "2022-03-16T19:13:14.609069Z",
     "iopub.status.busy": "2022-03-16T19:13:14.604288Z",
     "iopub.status.idle": "2022-03-16T19:14:04.174160Z",
     "shell.execute_reply": "2022-03-16T19:14:04.174626Z",
     "shell.execute_reply.started": "2022-03-16T14:54:32.900537Z"
    },
    "papermill": {
     "duration": 49.654,
     "end_time": "2022-03-16T19:14:04.174784",
     "exception": false,
     "start_time": "2022-03-16T19:13:14.520784",
     "status": "completed"
    },
    "tags": []
   },
   "outputs": [
    {
     "name": "stdout",
     "output_type": "stream",
     "text": [
      "              precision    recall  f1-score   support\n",
      "\n",
      "           0       0.62      0.64      0.63       265\n",
      "           1       0.82      0.87      0.85       743\n",
      "           2       0.96      0.90      0.93       911\n",
      "\n",
      "    accuracy                           0.85      1919\n",
      "   macro avg       0.80      0.80      0.80      1919\n",
      "weighted avg       0.86      0.85      0.85      1919\n",
      "\n"
     ]
    }
   ],
   "source": [
    "pipe3 = Pipeline([\n",
    "                ('CountVectChar', CountVectorizer(analyzer='char', ngram_range=(1, 7))),\n",
    "                ('LogReg', LogisticRegression(random_state=42, solver='liblinear',\n",
    "                                              class_weight = 'balanced')) \n",
    "                 ])\n",
    "pipe3.fit(X_train, y_train)\n",
    "y_pred3 = pipe3.predict(X_test)\n",
    "print(classification_report(y_pred3, y_test))"
   ]
  },
  {
   "cell_type": "markdown",
   "id": "4b27a8e5",
   "metadata": {
    "papermill": {
     "duration": 0.073861,
     "end_time": "2022-03-16T19:14:04.320067",
     "exception": false,
     "start_time": "2022-03-16T19:14:04.246206",
     "status": "completed"
    },
    "tags": []
   },
   "source": [
    "## Четвёртый способ - CountVectorizer(char, ngram = 1-9) + LogisticRegression"
   ]
  },
  {
   "cell_type": "code",
   "execution_count": 71,
   "id": "762fe000",
   "metadata": {
    "execution": {
     "iopub.execute_input": "2022-03-16T19:14:04.552757Z",
     "iopub.status.busy": "2022-03-16T19:14:04.517084Z",
     "iopub.status.idle": "2022-03-16T19:15:28.188193Z",
     "shell.execute_reply": "2022-03-16T19:15:28.188661Z"
    },
    "papermill": {
     "duration": 83.796084,
     "end_time": "2022-03-16T19:15:28.188813",
     "exception": false,
     "start_time": "2022-03-16T19:14:04.392729",
     "status": "completed"
    },
    "tags": []
   },
   "outputs": [
    {
     "name": "stdout",
     "output_type": "stream",
     "text": [
      "              precision    recall  f1-score   support\n",
      "\n",
      "           0       0.61      0.66      0.63       256\n",
      "           1       0.83      0.87      0.85       750\n",
      "           2       0.96      0.90      0.93       913\n",
      "\n",
      "    accuracy                           0.86      1919\n",
      "   macro avg       0.80      0.81      0.80      1919\n",
      "weighted avg       0.86      0.86      0.86      1919\n",
      "\n"
     ]
    }
   ],
   "source": [
    "pipe4 = Pipeline([\n",
    "                ('CountVectChar', CountVectorizer(analyzer='char', ngram_range=(1, 9))),\n",
    "                ('LogReg', LogisticRegression(random_state=42, solver='liblinear', \n",
    "                                              class_weight = 'balanced')) \n",
    "                 ])\n",
    "pipe4.fit(X_train, y_train)\n",
    "y_pred4 = pipe4.predict(X_test)\n",
    "print(classification_report(y_pred4, y_test))"
   ]
  },
  {
   "cell_type": "markdown",
   "id": "6a20810e",
   "metadata": {
    "papermill": {
     "duration": 0.071782,
     "end_time": "2022-03-16T19:15:28.332133",
     "exception": false,
     "start_time": "2022-03-16T19:15:28.260351",
     "status": "completed"
    },
    "tags": []
   },
   "source": [
    "## Пятый способ - CountVectorizer('word',ngram = 1-1) + XGBClassifier"
   ]
  },
  {
   "cell_type": "code",
   "execution_count": 84,
   "id": "6aab7cbc",
   "metadata": {},
   "outputs": [
    {
     "name": "stdout",
     "output_type": "stream",
     "text": [
      "              precision    recall  f1-score   support\n",
      "\n",
      "           0       0.57      0.74      0.64       210\n",
      "           1       0.87      0.88      0.87       785\n",
      "           2       0.97      0.90      0.93       924\n",
      "\n",
      "    accuracy                           0.87      1919\n",
      "   macro avg       0.80      0.84      0.82      1919\n",
      "weighted avg       0.89      0.87      0.88      1919\n",
      "\n"
     ]
    }
   ],
   "source": [
    "pipe5 = Pipeline([\n",
    "                ('CountVectChar', CountVectorizer(tokenizer=word_tokenize, \n",
    "                                                  ngram_range=(1, 1))),\n",
    "                ('XGB', XGBClassifier(objective = 'multi:softprob' , \n",
    "                                      use_label_encoder=False, \n",
    "                                      eval_metric='mlogloss')) \n",
    "                 ])\n",
    "pipe5.fit(X_train, y_train)\n",
    "y_pred5 = pipe5.predict(X_test)\n",
    "print(classification_report(y_pred5, y_test))"
   ]
  },
  {
   "cell_type": "markdown",
   "id": "f2c7213b",
   "metadata": {
    "papermill": {
     "duration": 0.071891,
     "end_time": "2022-03-16T19:18:47.979865",
     "exception": false,
     "start_time": "2022-03-16T19:18:47.907974",
     "status": "completed"
    },
    "tags": []
   },
   "source": [
    "## Шестой способ - TfidfVectorizer  + XGBClassifier"
   ]
  },
  {
   "cell_type": "code",
   "execution_count": 89,
   "id": "40b86af1",
   "metadata": {
    "execution": {
     "iopub.execute_input": "2022-03-16T19:18:48.158665Z",
     "iopub.status.busy": "2022-03-16T19:18:48.148468Z",
     "iopub.status.idle": "2022-03-16T19:25:53.969777Z",
     "shell.execute_reply": "2022-03-16T19:25:53.970189Z"
    },
    "papermill": {
     "duration": 425.916615,
     "end_time": "2022-03-16T19:25:53.970339",
     "exception": false,
     "start_time": "2022-03-16T19:18:48.053724",
     "status": "completed"
    },
    "tags": []
   },
   "outputs": [
    {
     "name": "stdout",
     "output_type": "stream",
     "text": [
      "              precision    recall  f1-score   support\n",
      "\n",
      "           0       0.57      0.71      0.63       222\n",
      "           1       0.87      0.88      0.87       781\n",
      "           2       0.96      0.90      0.93       916\n",
      "\n",
      "    accuracy                           0.87      1919\n",
      "   macro avg       0.80      0.83      0.81      1919\n",
      "weighted avg       0.88      0.87      0.87      1919\n",
      "\n"
     ]
    }
   ],
   "source": [
    "pipe6 = Pipeline([\n",
    "                ('tf-idf', TfidfVectorizer()),\n",
    "                ('XGB', XGBClassifier(booster='gbtree', objective = 'multi:softprob' , \n",
    "                                      use_label_encoder=False,eval_metric='mlogloss')) \n",
    "                 ])\n",
    "pipe6.fit(X_train, y_train)\n",
    "y_pred6 = pipe6.predict(X_test)\n",
    "print(classification_report(y_pred6, y_test))"
   ]
  },
  {
   "cell_type": "markdown",
   "id": "fe96072a",
   "metadata": {},
   "source": [
    "# +"
   ]
  },
  {
   "cell_type": "markdown",
   "id": "e5cf85f2",
   "metadata": {
    "papermill": {
     "duration": 0.07234,
     "end_time": "2022-03-16T19:25:54.115058",
     "exception": false,
     "start_time": "2022-03-16T19:25:54.042718",
     "status": "completed"
    },
    "tags": []
   },
   "source": [
    "## Седьмой способ - CountVectorizer('word', ngram = 1-1) + CatBoostClassifier"
   ]
  },
  {
   "cell_type": "code",
   "execution_count": 12,
   "id": "ad418088",
   "metadata": {},
   "outputs": [
    {
     "name": "stdout",
     "output_type": "stream",
     "text": [
      "0:\tlearn: 0.6952236\ttotal: 37.3ms\tremaining: 37.3s\n",
      "1:\tlearn: 0.6271671\ttotal: 60.4ms\tremaining: 30.2s\n",
      "2:\tlearn: 0.5862283\ttotal: 83.9ms\tremaining: 27.9s\n",
      "3:\tlearn: 0.5593611\ttotal: 108ms\tremaining: 26.8s\n",
      "4:\tlearn: 0.5371735\ttotal: 131ms\tremaining: 26s\n",
      "5:\tlearn: 0.5276895\ttotal: 154ms\tremaining: 25.5s\n",
      "6:\tlearn: 0.5159224\ttotal: 175ms\tremaining: 24.9s\n",
      "7:\tlearn: 0.5056505\ttotal: 197ms\tremaining: 24.4s\n",
      "8:\tlearn: 0.4976893\ttotal: 218ms\tremaining: 24s\n",
      "9:\tlearn: 0.4871658\ttotal: 241ms\tremaining: 23.9s\n",
      "10:\tlearn: 0.4835503\ttotal: 265ms\tremaining: 23.8s\n",
      "11:\tlearn: 0.4767522\ttotal: 286ms\tremaining: 23.6s\n",
      "12:\tlearn: 0.4737513\ttotal: 308ms\tremaining: 23.4s\n",
      "13:\tlearn: 0.4686236\ttotal: 330ms\tremaining: 23.2s\n",
      "14:\tlearn: 0.4658155\ttotal: 352ms\tremaining: 23.1s\n",
      "15:\tlearn: 0.4631738\ttotal: 375ms\tremaining: 23.1s\n",
      "16:\tlearn: 0.4527748\ttotal: 398ms\tremaining: 23s\n",
      "17:\tlearn: 0.4515922\ttotal: 420ms\tremaining: 22.9s\n",
      "18:\tlearn: 0.4466557\ttotal: 442ms\tremaining: 22.8s\n",
      "19:\tlearn: 0.4458000\ttotal: 467ms\tremaining: 22.9s\n",
      "20:\tlearn: 0.4450514\ttotal: 489ms\tremaining: 22.8s\n",
      "21:\tlearn: 0.4440567\ttotal: 511ms\tremaining: 22.7s\n",
      "22:\tlearn: 0.4391825\ttotal: 533ms\tremaining: 22.6s\n",
      "23:\tlearn: 0.4389930\ttotal: 555ms\tremaining: 22.6s\n",
      "24:\tlearn: 0.4367661\ttotal: 576ms\tremaining: 22.5s\n",
      "25:\tlearn: 0.4324735\ttotal: 598ms\tremaining: 22.4s\n",
      "26:\tlearn: 0.4323241\ttotal: 620ms\tremaining: 22.4s\n",
      "27:\tlearn: 0.4311231\ttotal: 643ms\tremaining: 22.3s\n",
      "28:\tlearn: 0.4309899\ttotal: 666ms\tremaining: 22.3s\n",
      "29:\tlearn: 0.4307505\ttotal: 690ms\tremaining: 22.3s\n",
      "30:\tlearn: 0.4301895\ttotal: 712ms\tremaining: 22.3s\n",
      "31:\tlearn: 0.4298511\ttotal: 733ms\tremaining: 22.2s\n",
      "32:\tlearn: 0.4296547\ttotal: 757ms\tremaining: 22.2s\n",
      "33:\tlearn: 0.4290495\ttotal: 780ms\tremaining: 22.2s\n",
      "34:\tlearn: 0.4268620\ttotal: 801ms\tremaining: 22.1s\n",
      "35:\tlearn: 0.4262684\ttotal: 823ms\tremaining: 22.1s\n",
      "36:\tlearn: 0.4260023\ttotal: 846ms\tremaining: 22s\n",
      "37:\tlearn: 0.4232735\ttotal: 869ms\tremaining: 22s\n",
      "38:\tlearn: 0.4229334\ttotal: 893ms\tremaining: 22s\n",
      "39:\tlearn: 0.4227812\ttotal: 916ms\tremaining: 22s\n",
      "40:\tlearn: 0.4225482\ttotal: 939ms\tremaining: 22s\n",
      "41:\tlearn: 0.4221300\ttotal: 960ms\tremaining: 21.9s\n",
      "42:\tlearn: 0.4218907\ttotal: 982ms\tremaining: 21.9s\n",
      "43:\tlearn: 0.4215927\ttotal: 1s\tremaining: 21.8s\n",
      "44:\tlearn: 0.4212767\ttotal: 1.03s\tremaining: 21.8s\n",
      "45:\tlearn: 0.4207719\ttotal: 1.05s\tremaining: 21.8s\n",
      "46:\tlearn: 0.4196398\ttotal: 1.07s\tremaining: 21.7s\n",
      "47:\tlearn: 0.4194121\ttotal: 1.09s\tremaining: 21.7s\n",
      "48:\tlearn: 0.4190609\ttotal: 1.12s\tremaining: 21.7s\n",
      "49:\tlearn: 0.4176448\ttotal: 1.14s\tremaining: 21.7s\n",
      "50:\tlearn: 0.4158219\ttotal: 1.16s\tremaining: 21.6s\n",
      "51:\tlearn: 0.4155273\ttotal: 1.18s\tremaining: 21.6s\n",
      "52:\tlearn: 0.4151615\ttotal: 1.21s\tremaining: 21.5s\n",
      "53:\tlearn: 0.4138653\ttotal: 1.23s\tremaining: 21.5s\n",
      "54:\tlearn: 0.4137255\ttotal: 1.25s\tremaining: 21.5s\n",
      "55:\tlearn: 0.4134238\ttotal: 1.27s\tremaining: 21.4s\n",
      "56:\tlearn: 0.4130669\ttotal: 1.29s\tremaining: 21.4s\n",
      "57:\tlearn: 0.4127917\ttotal: 1.32s\tremaining: 21.4s\n",
      "58:\tlearn: 0.4109939\ttotal: 1.34s\tremaining: 21.4s\n",
      "59:\tlearn: 0.4082429\ttotal: 1.37s\tremaining: 21.4s\n",
      "60:\tlearn: 0.4080227\ttotal: 1.39s\tremaining: 21.4s\n",
      "61:\tlearn: 0.4055985\ttotal: 1.41s\tremaining: 21.4s\n",
      "62:\tlearn: 0.4053120\ttotal: 1.44s\tremaining: 21.3s\n",
      "63:\tlearn: 0.4050800\ttotal: 1.46s\tremaining: 21.4s\n",
      "64:\tlearn: 0.4049140\ttotal: 1.48s\tremaining: 21.4s\n",
      "65:\tlearn: 0.4043244\ttotal: 1.51s\tremaining: 21.3s\n",
      "66:\tlearn: 0.4039486\ttotal: 1.53s\tremaining: 21.3s\n",
      "67:\tlearn: 0.4036517\ttotal: 1.55s\tremaining: 21.3s\n",
      "68:\tlearn: 0.4033726\ttotal: 1.57s\tremaining: 21.3s\n",
      "69:\tlearn: 0.4031615\ttotal: 1.6s\tremaining: 21.2s\n",
      "70:\tlearn: 0.4026570\ttotal: 1.62s\tremaining: 21.2s\n",
      "71:\tlearn: 0.4024351\ttotal: 1.64s\tremaining: 21.2s\n",
      "72:\tlearn: 0.4021854\ttotal: 1.66s\tremaining: 21.1s\n",
      "73:\tlearn: 0.4020501\ttotal: 1.69s\tremaining: 21.1s\n",
      "74:\tlearn: 0.4017526\ttotal: 1.71s\tremaining: 21.1s\n",
      "75:\tlearn: 0.4011493\ttotal: 1.73s\tremaining: 21.1s\n",
      "76:\tlearn: 0.4005855\ttotal: 1.75s\tremaining: 21s\n",
      "77:\tlearn: 0.4004365\ttotal: 1.77s\tremaining: 21s\n",
      "78:\tlearn: 0.4000780\ttotal: 1.8s\tremaining: 21s\n",
      "79:\tlearn: 0.3997837\ttotal: 1.82s\tremaining: 20.9s\n",
      "80:\tlearn: 0.3996194\ttotal: 1.84s\tremaining: 20.9s\n",
      "81:\tlearn: 0.3994582\ttotal: 1.86s\tremaining: 20.9s\n",
      "82:\tlearn: 0.3992684\ttotal: 1.89s\tremaining: 20.8s\n",
      "83:\tlearn: 0.3987663\ttotal: 1.91s\tremaining: 20.8s\n",
      "84:\tlearn: 0.3983574\ttotal: 1.93s\tremaining: 20.8s\n",
      "85:\tlearn: 0.3967242\ttotal: 1.96s\tremaining: 20.8s\n",
      "86:\tlearn: 0.3964945\ttotal: 1.98s\tremaining: 20.8s\n",
      "87:\tlearn: 0.3963564\ttotal: 2s\tremaining: 20.8s\n",
      "88:\tlearn: 0.3962121\ttotal: 2.03s\tremaining: 20.7s\n",
      "89:\tlearn: 0.3958933\ttotal: 2.05s\tremaining: 20.7s\n",
      "90:\tlearn: 0.3957770\ttotal: 2.07s\tremaining: 20.7s\n",
      "91:\tlearn: 0.3955477\ttotal: 2.09s\tremaining: 20.7s\n",
      "92:\tlearn: 0.3952752\ttotal: 2.12s\tremaining: 20.6s\n",
      "93:\tlearn: 0.3951209\ttotal: 2.13s\tremaining: 20.6s\n",
      "94:\tlearn: 0.3949543\ttotal: 2.16s\tremaining: 20.6s\n",
      "95:\tlearn: 0.3946304\ttotal: 2.18s\tremaining: 20.5s\n",
      "96:\tlearn: 0.3943451\ttotal: 2.21s\tremaining: 20.5s\n",
      "97:\tlearn: 0.3942115\ttotal: 2.23s\tremaining: 20.5s\n",
      "98:\tlearn: 0.3940661\ttotal: 2.25s\tremaining: 20.5s\n",
      "99:\tlearn: 0.3938529\ttotal: 2.27s\tremaining: 20.5s\n",
      "100:\tlearn: 0.3936363\ttotal: 2.3s\tremaining: 20.5s\n",
      "101:\tlearn: 0.3932710\ttotal: 2.32s\tremaining: 20.4s\n",
      "102:\tlearn: 0.3930887\ttotal: 2.34s\tremaining: 20.4s\n",
      "103:\tlearn: 0.3927476\ttotal: 2.37s\tremaining: 20.4s\n",
      "104:\tlearn: 0.3925876\ttotal: 2.39s\tremaining: 20.4s\n",
      "105:\tlearn: 0.3924413\ttotal: 2.41s\tremaining: 20.4s\n",
      "106:\tlearn: 0.3921933\ttotal: 2.44s\tremaining: 20.3s\n",
      "107:\tlearn: 0.3918269\ttotal: 2.46s\tremaining: 20.3s\n",
      "108:\tlearn: 0.3915927\ttotal: 2.48s\tremaining: 20.3s\n",
      "109:\tlearn: 0.3914421\ttotal: 2.5s\tremaining: 20.3s\n",
      "110:\tlearn: 0.3911700\ttotal: 2.53s\tremaining: 20.2s\n",
      "111:\tlearn: 0.3909773\ttotal: 2.55s\tremaining: 20.2s\n",
      "112:\tlearn: 0.3907723\ttotal: 2.57s\tremaining: 20.2s\n",
      "113:\tlearn: 0.3905999\ttotal: 2.59s\tremaining: 20.2s\n",
      "114:\tlearn: 0.3904357\ttotal: 2.62s\tremaining: 20.1s\n",
      "115:\tlearn: 0.3902607\ttotal: 2.64s\tremaining: 20.1s\n",
      "116:\tlearn: 0.3901277\ttotal: 2.66s\tremaining: 20.1s\n",
      "117:\tlearn: 0.3898887\ttotal: 2.68s\tremaining: 20.1s\n",
      "118:\tlearn: 0.3897993\ttotal: 2.71s\tremaining: 20s\n",
      "119:\tlearn: 0.3896586\ttotal: 2.73s\tremaining: 20s\n",
      "120:\tlearn: 0.3895479\ttotal: 2.75s\tremaining: 20s\n",
      "121:\tlearn: 0.3893958\ttotal: 2.78s\tremaining: 20s\n",
      "122:\tlearn: 0.3892508\ttotal: 2.8s\tremaining: 20s\n",
      "123:\tlearn: 0.3889731\ttotal: 2.82s\tremaining: 19.9s\n",
      "124:\tlearn: 0.3888332\ttotal: 2.85s\tremaining: 19.9s\n",
      "125:\tlearn: 0.3887016\ttotal: 2.87s\tremaining: 19.9s\n",
      "126:\tlearn: 0.3884095\ttotal: 2.89s\tremaining: 19.9s\n",
      "127:\tlearn: 0.3880571\ttotal: 2.91s\tremaining: 19.8s\n",
      "128:\tlearn: 0.3878943\ttotal: 2.94s\tremaining: 19.8s\n",
      "129:\tlearn: 0.3875948\ttotal: 2.96s\tremaining: 19.8s\n",
      "130:\tlearn: 0.3874427\ttotal: 2.98s\tremaining: 19.8s\n",
      "131:\tlearn: 0.3870852\ttotal: 3s\tremaining: 19.7s\n",
      "132:\tlearn: 0.3869426\ttotal: 3.02s\tremaining: 19.7s\n",
      "133:\tlearn: 0.3867154\ttotal: 3.04s\tremaining: 19.7s\n",
      "134:\tlearn: 0.3863740\ttotal: 3.07s\tremaining: 19.7s\n",
      "135:\tlearn: 0.3858521\ttotal: 3.09s\tremaining: 19.6s\n",
      "136:\tlearn: 0.3856968\ttotal: 3.11s\tremaining: 19.6s\n",
      "137:\tlearn: 0.3855251\ttotal: 3.13s\tremaining: 19.6s\n",
      "138:\tlearn: 0.3853769\ttotal: 3.16s\tremaining: 19.6s\n",
      "139:\tlearn: 0.3851866\ttotal: 3.18s\tremaining: 19.5s\n",
      "140:\tlearn: 0.3849289\ttotal: 3.2s\tremaining: 19.5s\n",
      "141:\tlearn: 0.3847377\ttotal: 3.23s\tremaining: 19.5s\n",
      "142:\tlearn: 0.3844560\ttotal: 3.25s\tremaining: 19.5s\n",
      "143:\tlearn: 0.3842904\ttotal: 3.27s\tremaining: 19.4s\n",
      "144:\tlearn: 0.3831255\ttotal: 3.29s\tremaining: 19.4s\n",
      "145:\tlearn: 0.3829085\ttotal: 3.31s\tremaining: 19.4s\n",
      "146:\tlearn: 0.3827020\ttotal: 3.33s\tremaining: 19.3s\n",
      "147:\tlearn: 0.3825458\ttotal: 3.35s\tremaining: 19.3s\n",
      "148:\tlearn: 0.3823970\ttotal: 3.38s\tremaining: 19.3s\n",
      "149:\tlearn: 0.3821700\ttotal: 3.4s\tremaining: 19.3s\n",
      "150:\tlearn: 0.3818340\ttotal: 3.42s\tremaining: 19.2s\n",
      "151:\tlearn: 0.3816858\ttotal: 3.44s\tremaining: 19.2s\n",
      "152:\tlearn: 0.3814447\ttotal: 3.46s\tremaining: 19.2s\n",
      "153:\tlearn: 0.3812956\ttotal: 3.49s\tremaining: 19.2s\n",
      "154:\tlearn: 0.3811407\ttotal: 3.51s\tremaining: 19.1s\n",
      "155:\tlearn: 0.3809453\ttotal: 3.53s\tremaining: 19.1s\n",
      "156:\tlearn: 0.3807864\ttotal: 3.55s\tremaining: 19.1s\n",
      "157:\tlearn: 0.3806597\ttotal: 3.58s\tremaining: 19.1s\n",
      "158:\tlearn: 0.3804756\ttotal: 3.6s\tremaining: 19s\n",
      "159:\tlearn: 0.3802974\ttotal: 3.62s\tremaining: 19s\n",
      "160:\tlearn: 0.3800829\ttotal: 3.64s\tremaining: 19s\n"
     ]
    },
    {
     "name": "stdout",
     "output_type": "stream",
     "text": [
      "161:\tlearn: 0.3797960\ttotal: 3.67s\tremaining: 19s\n",
      "162:\tlearn: 0.3796458\ttotal: 3.69s\tremaining: 18.9s\n",
      "163:\tlearn: 0.3794909\ttotal: 3.71s\tremaining: 18.9s\n",
      "164:\tlearn: 0.3793526\ttotal: 3.73s\tremaining: 18.9s\n",
      "165:\tlearn: 0.3792066\ttotal: 3.76s\tremaining: 18.9s\n",
      "166:\tlearn: 0.3789706\ttotal: 3.78s\tremaining: 18.9s\n",
      "167:\tlearn: 0.3788124\ttotal: 3.8s\tremaining: 18.8s\n",
      "168:\tlearn: 0.3785898\ttotal: 3.83s\tremaining: 18.8s\n",
      "169:\tlearn: 0.3783724\ttotal: 3.85s\tremaining: 18.8s\n",
      "170:\tlearn: 0.3781150\ttotal: 3.87s\tremaining: 18.8s\n",
      "171:\tlearn: 0.3779205\ttotal: 3.9s\tremaining: 18.8s\n",
      "172:\tlearn: 0.3777460\ttotal: 3.92s\tremaining: 18.7s\n",
      "173:\tlearn: 0.3775924\ttotal: 3.94s\tremaining: 18.7s\n",
      "174:\tlearn: 0.3774592\ttotal: 3.97s\tremaining: 18.7s\n",
      "175:\tlearn: 0.3773348\ttotal: 3.99s\tremaining: 18.7s\n",
      "176:\tlearn: 0.3766897\ttotal: 4.01s\tremaining: 18.7s\n",
      "177:\tlearn: 0.3739858\ttotal: 4.03s\tremaining: 18.6s\n",
      "178:\tlearn: 0.3737943\ttotal: 4.05s\tremaining: 18.6s\n",
      "179:\tlearn: 0.3736629\ttotal: 4.08s\tremaining: 18.6s\n",
      "180:\tlearn: 0.3735322\ttotal: 4.1s\tremaining: 18.6s\n",
      "181:\tlearn: 0.3733517\ttotal: 4.12s\tremaining: 18.5s\n",
      "182:\tlearn: 0.3731353\ttotal: 4.15s\tremaining: 18.5s\n",
      "183:\tlearn: 0.3729707\ttotal: 4.17s\tremaining: 18.5s\n",
      "184:\tlearn: 0.3727704\ttotal: 4.19s\tremaining: 18.5s\n",
      "185:\tlearn: 0.3720321\ttotal: 4.21s\tremaining: 18.4s\n",
      "186:\tlearn: 0.3718333\ttotal: 4.24s\tremaining: 18.4s\n",
      "187:\tlearn: 0.3716225\ttotal: 4.26s\tremaining: 18.4s\n",
      "188:\tlearn: 0.3714879\ttotal: 4.29s\tremaining: 18.4s\n",
      "189:\tlearn: 0.3713431\ttotal: 4.31s\tremaining: 18.4s\n",
      "190:\tlearn: 0.3711946\ttotal: 4.33s\tremaining: 18.3s\n",
      "191:\tlearn: 0.3710620\ttotal: 4.35s\tremaining: 18.3s\n",
      "192:\tlearn: 0.3709063\ttotal: 4.37s\tremaining: 18.3s\n",
      "193:\tlearn: 0.3707818\ttotal: 4.4s\tremaining: 18.3s\n",
      "194:\tlearn: 0.3706380\ttotal: 4.42s\tremaining: 18.2s\n",
      "195:\tlearn: 0.3704817\ttotal: 4.44s\tremaining: 18.2s\n",
      "196:\tlearn: 0.3702747\ttotal: 4.46s\tremaining: 18.2s\n",
      "197:\tlearn: 0.3698927\ttotal: 4.49s\tremaining: 18.2s\n",
      "198:\tlearn: 0.3697241\ttotal: 4.51s\tremaining: 18.1s\n",
      "199:\tlearn: 0.3696038\ttotal: 4.53s\tremaining: 18.1s\n",
      "200:\tlearn: 0.3693976\ttotal: 4.55s\tremaining: 18.1s\n",
      "201:\tlearn: 0.3692181\ttotal: 4.57s\tremaining: 18.1s\n",
      "202:\tlearn: 0.3686746\ttotal: 4.6s\tremaining: 18s\n",
      "203:\tlearn: 0.3685122\ttotal: 4.62s\tremaining: 18s\n",
      "204:\tlearn: 0.3684032\ttotal: 4.64s\tremaining: 18s\n",
      "205:\tlearn: 0.3682724\ttotal: 4.66s\tremaining: 18s\n",
      "206:\tlearn: 0.3681579\ttotal: 4.68s\tremaining: 17.9s\n",
      "207:\tlearn: 0.3680668\ttotal: 4.71s\tremaining: 17.9s\n",
      "208:\tlearn: 0.3679414\ttotal: 4.73s\tremaining: 17.9s\n",
      "209:\tlearn: 0.3678147\ttotal: 4.75s\tremaining: 17.9s\n",
      "210:\tlearn: 0.3676826\ttotal: 4.77s\tremaining: 17.9s\n",
      "211:\tlearn: 0.3675021\ttotal: 4.8s\tremaining: 17.8s\n",
      "212:\tlearn: 0.3670733\ttotal: 4.82s\tremaining: 17.8s\n",
      "213:\tlearn: 0.3668633\ttotal: 4.84s\tremaining: 17.8s\n",
      "214:\tlearn: 0.3667425\ttotal: 4.87s\tremaining: 17.8s\n",
      "215:\tlearn: 0.3665997\ttotal: 4.89s\tremaining: 17.7s\n",
      "216:\tlearn: 0.3664016\ttotal: 4.91s\tremaining: 17.7s\n",
      "217:\tlearn: 0.3661536\ttotal: 4.93s\tremaining: 17.7s\n",
      "218:\tlearn: 0.3660060\ttotal: 4.95s\tremaining: 17.7s\n",
      "219:\tlearn: 0.3658810\ttotal: 4.98s\tremaining: 17.6s\n",
      "220:\tlearn: 0.3657476\ttotal: 5s\tremaining: 17.6s\n",
      "221:\tlearn: 0.3656099\ttotal: 5.02s\tremaining: 17.6s\n",
      "222:\tlearn: 0.3654615\ttotal: 5.04s\tremaining: 17.6s\n",
      "223:\tlearn: 0.3652900\ttotal: 5.07s\tremaining: 17.6s\n",
      "224:\tlearn: 0.3651418\ttotal: 5.09s\tremaining: 17.5s\n",
      "225:\tlearn: 0.3649616\ttotal: 5.11s\tremaining: 17.5s\n",
      "226:\tlearn: 0.3648425\ttotal: 5.14s\tremaining: 17.5s\n",
      "227:\tlearn: 0.3646435\ttotal: 5.16s\tremaining: 17.5s\n",
      "228:\tlearn: 0.3644530\ttotal: 5.18s\tremaining: 17.4s\n",
      "229:\tlearn: 0.3637707\ttotal: 5.2s\tremaining: 17.4s\n",
      "230:\tlearn: 0.3636195\ttotal: 5.23s\tremaining: 17.4s\n",
      "231:\tlearn: 0.3633917\ttotal: 5.25s\tremaining: 17.4s\n",
      "232:\tlearn: 0.3632543\ttotal: 5.27s\tremaining: 17.4s\n",
      "233:\tlearn: 0.3631118\ttotal: 5.29s\tremaining: 17.3s\n",
      "234:\tlearn: 0.3629304\ttotal: 5.32s\tremaining: 17.3s\n",
      "235:\tlearn: 0.3627999\ttotal: 5.34s\tremaining: 17.3s\n",
      "236:\tlearn: 0.3625618\ttotal: 5.36s\tremaining: 17.3s\n",
      "237:\tlearn: 0.3623408\ttotal: 5.39s\tremaining: 17.2s\n",
      "238:\tlearn: 0.3622018\ttotal: 5.41s\tremaining: 17.2s\n",
      "239:\tlearn: 0.3621261\ttotal: 5.43s\tremaining: 17.2s\n",
      "240:\tlearn: 0.3619694\ttotal: 5.45s\tremaining: 17.2s\n",
      "241:\tlearn: 0.3618554\ttotal: 5.47s\tremaining: 17.2s\n",
      "242:\tlearn: 0.3616930\ttotal: 5.5s\tremaining: 17.1s\n",
      "243:\tlearn: 0.3615040\ttotal: 5.52s\tremaining: 17.1s\n",
      "244:\tlearn: 0.3613923\ttotal: 5.55s\tremaining: 17.1s\n",
      "245:\tlearn: 0.3612899\ttotal: 5.57s\tremaining: 17.1s\n",
      "246:\tlearn: 0.3611357\ttotal: 5.59s\tremaining: 17.1s\n",
      "247:\tlearn: 0.3610238\ttotal: 5.62s\tremaining: 17s\n",
      "248:\tlearn: 0.3608813\ttotal: 5.64s\tremaining: 17s\n",
      "249:\tlearn: 0.3607615\ttotal: 5.66s\tremaining: 17s\n",
      "250:\tlearn: 0.3606391\ttotal: 5.68s\tremaining: 17s\n",
      "251:\tlearn: 0.3604646\ttotal: 5.71s\tremaining: 16.9s\n",
      "252:\tlearn: 0.3602787\ttotal: 5.73s\tremaining: 16.9s\n",
      "253:\tlearn: 0.3600907\ttotal: 5.75s\tremaining: 16.9s\n",
      "254:\tlearn: 0.3599885\ttotal: 5.78s\tremaining: 16.9s\n",
      "255:\tlearn: 0.3598860\ttotal: 5.8s\tremaining: 16.9s\n",
      "256:\tlearn: 0.3597549\ttotal: 5.82s\tremaining: 16.8s\n",
      "257:\tlearn: 0.3596373\ttotal: 5.85s\tremaining: 16.8s\n",
      "258:\tlearn: 0.3594401\ttotal: 5.87s\tremaining: 16.8s\n",
      "259:\tlearn: 0.3593413\ttotal: 5.89s\tremaining: 16.8s\n",
      "260:\tlearn: 0.3591934\ttotal: 5.91s\tremaining: 16.7s\n",
      "261:\tlearn: 0.3590629\ttotal: 5.94s\tremaining: 16.7s\n",
      "262:\tlearn: 0.3589069\ttotal: 5.96s\tremaining: 16.7s\n",
      "263:\tlearn: 0.3587853\ttotal: 5.99s\tremaining: 16.7s\n",
      "264:\tlearn: 0.3585508\ttotal: 6.01s\tremaining: 16.7s\n",
      "265:\tlearn: 0.3584366\ttotal: 6.03s\tremaining: 16.6s\n",
      "266:\tlearn: 0.3582638\ttotal: 6.05s\tremaining: 16.6s\n",
      "267:\tlearn: 0.3581133\ttotal: 6.07s\tremaining: 16.6s\n",
      "268:\tlearn: 0.3574937\ttotal: 6.09s\tremaining: 16.6s\n",
      "269:\tlearn: 0.3572605\ttotal: 6.12s\tremaining: 16.5s\n",
      "270:\tlearn: 0.3571120\ttotal: 6.14s\tremaining: 16.5s\n",
      "271:\tlearn: 0.3569536\ttotal: 6.16s\tremaining: 16.5s\n",
      "272:\tlearn: 0.3567797\ttotal: 6.19s\tremaining: 16.5s\n",
      "273:\tlearn: 0.3566452\ttotal: 6.21s\tremaining: 16.5s\n",
      "274:\tlearn: 0.3563355\ttotal: 6.24s\tremaining: 16.4s\n",
      "275:\tlearn: 0.3561827\ttotal: 6.26s\tremaining: 16.4s\n",
      "276:\tlearn: 0.3559756\ttotal: 6.28s\tremaining: 16.4s\n",
      "277:\tlearn: 0.3558554\ttotal: 6.3s\tremaining: 16.4s\n",
      "278:\tlearn: 0.3556583\ttotal: 6.32s\tremaining: 16.3s\n",
      "279:\tlearn: 0.3554911\ttotal: 6.35s\tremaining: 16.3s\n",
      "280:\tlearn: 0.3553617\ttotal: 6.37s\tremaining: 16.3s\n",
      "281:\tlearn: 0.3552312\ttotal: 6.39s\tremaining: 16.3s\n",
      "282:\tlearn: 0.3551224\ttotal: 6.42s\tremaining: 16.3s\n",
      "283:\tlearn: 0.3550071\ttotal: 6.44s\tremaining: 16.2s\n",
      "284:\tlearn: 0.3548792\ttotal: 6.46s\tremaining: 16.2s\n",
      "285:\tlearn: 0.3547219\ttotal: 6.49s\tremaining: 16.2s\n",
      "286:\tlearn: 0.3545679\ttotal: 6.51s\tremaining: 16.2s\n",
      "287:\tlearn: 0.3544523\ttotal: 6.53s\tremaining: 16.1s\n",
      "288:\tlearn: 0.3542871\ttotal: 6.55s\tremaining: 16.1s\n",
      "289:\tlearn: 0.3540627\ttotal: 6.58s\tremaining: 16.1s\n",
      "290:\tlearn: 0.3539598\ttotal: 6.6s\tremaining: 16.1s\n",
      "291:\tlearn: 0.3538435\ttotal: 6.62s\tremaining: 16.1s\n",
      "292:\tlearn: 0.3537111\ttotal: 6.65s\tremaining: 16s\n",
      "293:\tlearn: 0.3535363\ttotal: 6.67s\tremaining: 16s\n",
      "294:\tlearn: 0.3533799\ttotal: 6.69s\tremaining: 16s\n",
      "295:\tlearn: 0.3532667\ttotal: 6.71s\tremaining: 16s\n",
      "296:\tlearn: 0.3531377\ttotal: 6.74s\tremaining: 15.9s\n",
      "297:\tlearn: 0.3530088\ttotal: 6.76s\tremaining: 15.9s\n",
      "298:\tlearn: 0.3528650\ttotal: 6.78s\tremaining: 15.9s\n",
      "299:\tlearn: 0.3526823\ttotal: 6.8s\tremaining: 15.9s\n",
      "300:\tlearn: 0.3522320\ttotal: 6.83s\tremaining: 15.9s\n",
      "301:\tlearn: 0.3518212\ttotal: 6.85s\tremaining: 15.8s\n",
      "302:\tlearn: 0.3516623\ttotal: 6.87s\tremaining: 15.8s\n",
      "303:\tlearn: 0.3515499\ttotal: 6.89s\tremaining: 15.8s\n",
      "304:\tlearn: 0.3509849\ttotal: 6.92s\tremaining: 15.8s\n",
      "305:\tlearn: 0.3508690\ttotal: 6.94s\tremaining: 15.7s\n",
      "306:\tlearn: 0.3507524\ttotal: 6.96s\tremaining: 15.7s\n",
      "307:\tlearn: 0.3506502\ttotal: 6.99s\tremaining: 15.7s\n",
      "308:\tlearn: 0.3505391\ttotal: 7.01s\tremaining: 15.7s\n",
      "309:\tlearn: 0.3503012\ttotal: 7.04s\tremaining: 15.7s\n",
      "310:\tlearn: 0.3501734\ttotal: 7.06s\tremaining: 15.6s\n",
      "311:\tlearn: 0.3499732\ttotal: 7.08s\tremaining: 15.6s\n",
      "312:\tlearn: 0.3498348\ttotal: 7.1s\tremaining: 15.6s\n",
      "313:\tlearn: 0.3497027\ttotal: 7.12s\tremaining: 15.6s\n",
      "314:\tlearn: 0.3495907\ttotal: 7.14s\tremaining: 15.5s\n",
      "315:\tlearn: 0.3494669\ttotal: 7.17s\tremaining: 15.5s\n",
      "316:\tlearn: 0.3493147\ttotal: 7.19s\tremaining: 15.5s\n",
      "317:\tlearn: 0.3491951\ttotal: 7.21s\tremaining: 15.5s\n",
      "318:\tlearn: 0.3490831\ttotal: 7.24s\tremaining: 15.4s\n",
      "319:\tlearn: 0.3488402\ttotal: 7.26s\tremaining: 15.4s\n",
      "320:\tlearn: 0.3486603\ttotal: 7.28s\tremaining: 15.4s\n",
      "321:\tlearn: 0.3485557\ttotal: 7.31s\tremaining: 15.4s\n",
      "322:\tlearn: 0.3483860\ttotal: 7.33s\tremaining: 15.4s\n",
      "323:\tlearn: 0.3482876\ttotal: 7.35s\tremaining: 15.3s\n",
      "324:\tlearn: 0.3481810\ttotal: 7.38s\tremaining: 15.3s\n",
      "325:\tlearn: 0.3479708\ttotal: 7.4s\tremaining: 15.3s\n"
     ]
    },
    {
     "name": "stdout",
     "output_type": "stream",
     "text": [
      "326:\tlearn: 0.3478169\ttotal: 7.42s\tremaining: 15.3s\n",
      "327:\tlearn: 0.3476511\ttotal: 7.45s\tremaining: 15.3s\n",
      "328:\tlearn: 0.3472225\ttotal: 7.47s\tremaining: 15.2s\n",
      "329:\tlearn: 0.3470226\ttotal: 7.49s\tremaining: 15.2s\n",
      "330:\tlearn: 0.3469343\ttotal: 7.51s\tremaining: 15.2s\n",
      "331:\tlearn: 0.3465588\ttotal: 7.54s\tremaining: 15.2s\n",
      "332:\tlearn: 0.3464886\ttotal: 7.56s\tremaining: 15.1s\n",
      "333:\tlearn: 0.3463471\ttotal: 7.58s\tremaining: 15.1s\n",
      "334:\tlearn: 0.3461650\ttotal: 7.6s\tremaining: 15.1s\n",
      "335:\tlearn: 0.3455649\ttotal: 7.62s\tremaining: 15.1s\n",
      "336:\tlearn: 0.3453825\ttotal: 7.64s\tremaining: 15s\n",
      "337:\tlearn: 0.3450731\ttotal: 7.66s\tremaining: 15s\n",
      "338:\tlearn: 0.3442327\ttotal: 7.68s\tremaining: 15s\n",
      "339:\tlearn: 0.3441335\ttotal: 7.71s\tremaining: 15s\n",
      "340:\tlearn: 0.3439769\ttotal: 7.73s\tremaining: 14.9s\n",
      "341:\tlearn: 0.3434356\ttotal: 7.75s\tremaining: 14.9s\n",
      "342:\tlearn: 0.3432533\ttotal: 7.77s\tremaining: 14.9s\n",
      "343:\tlearn: 0.3424404\ttotal: 7.79s\tremaining: 14.9s\n",
      "344:\tlearn: 0.3421892\ttotal: 7.81s\tremaining: 14.8s\n",
      "345:\tlearn: 0.3420770\ttotal: 7.83s\tremaining: 14.8s\n",
      "346:\tlearn: 0.3418400\ttotal: 7.86s\tremaining: 14.8s\n",
      "347:\tlearn: 0.3416335\ttotal: 7.88s\tremaining: 14.8s\n",
      "348:\tlearn: 0.3415211\ttotal: 7.9s\tremaining: 14.7s\n",
      "349:\tlearn: 0.3413786\ttotal: 7.92s\tremaining: 14.7s\n",
      "350:\tlearn: 0.3412325\ttotal: 7.94s\tremaining: 14.7s\n",
      "351:\tlearn: 0.3410950\ttotal: 7.96s\tremaining: 14.7s\n",
      "352:\tlearn: 0.3409715\ttotal: 7.98s\tremaining: 14.6s\n",
      "353:\tlearn: 0.3389811\ttotal: 8s\tremaining: 14.6s\n",
      "354:\tlearn: 0.3388926\ttotal: 8.02s\tremaining: 14.6s\n",
      "355:\tlearn: 0.3386698\ttotal: 8.04s\tremaining: 14.6s\n",
      "356:\tlearn: 0.3385152\ttotal: 8.07s\tremaining: 14.5s\n",
      "357:\tlearn: 0.3383927\ttotal: 8.09s\tremaining: 14.5s\n",
      "358:\tlearn: 0.3382983\ttotal: 8.11s\tremaining: 14.5s\n",
      "359:\tlearn: 0.3381984\ttotal: 8.13s\tremaining: 14.5s\n",
      "360:\tlearn: 0.3380670\ttotal: 8.15s\tremaining: 14.4s\n",
      "361:\tlearn: 0.3378240\ttotal: 8.17s\tremaining: 14.4s\n",
      "362:\tlearn: 0.3376981\ttotal: 8.19s\tremaining: 14.4s\n",
      "363:\tlearn: 0.3375825\ttotal: 8.21s\tremaining: 14.3s\n",
      "364:\tlearn: 0.3374493\ttotal: 8.23s\tremaining: 14.3s\n",
      "365:\tlearn: 0.3373333\ttotal: 8.26s\tremaining: 14.3s\n",
      "366:\tlearn: 0.3372476\ttotal: 8.28s\tremaining: 14.3s\n",
      "367:\tlearn: 0.3371061\ttotal: 8.3s\tremaining: 14.3s\n",
      "368:\tlearn: 0.3369439\ttotal: 8.32s\tremaining: 14.2s\n",
      "369:\tlearn: 0.3368215\ttotal: 8.35s\tremaining: 14.2s\n",
      "370:\tlearn: 0.3367091\ttotal: 8.37s\tremaining: 14.2s\n",
      "371:\tlearn: 0.3360695\ttotal: 8.39s\tremaining: 14.2s\n",
      "372:\tlearn: 0.3357612\ttotal: 8.41s\tremaining: 14.1s\n",
      "373:\tlearn: 0.3356476\ttotal: 8.44s\tremaining: 14.1s\n",
      "374:\tlearn: 0.3355202\ttotal: 8.46s\tremaining: 14.1s\n",
      "375:\tlearn: 0.3353782\ttotal: 8.48s\tremaining: 14.1s\n",
      "376:\tlearn: 0.3352299\ttotal: 8.51s\tremaining: 14.1s\n",
      "377:\tlearn: 0.3350770\ttotal: 8.53s\tremaining: 14s\n",
      "378:\tlearn: 0.3349448\ttotal: 8.55s\tremaining: 14s\n",
      "379:\tlearn: 0.3345528\ttotal: 8.57s\tremaining: 14s\n",
      "380:\tlearn: 0.3344336\ttotal: 8.6s\tremaining: 14s\n",
      "381:\tlearn: 0.3343330\ttotal: 8.62s\tremaining: 13.9s\n",
      "382:\tlearn: 0.3341492\ttotal: 8.64s\tremaining: 13.9s\n",
      "383:\tlearn: 0.3340418\ttotal: 8.66s\tremaining: 13.9s\n",
      "384:\tlearn: 0.3338829\ttotal: 8.69s\tremaining: 13.9s\n",
      "385:\tlearn: 0.3337485\ttotal: 8.71s\tremaining: 13.9s\n",
      "386:\tlearn: 0.3335845\ttotal: 8.74s\tremaining: 13.8s\n",
      "387:\tlearn: 0.3334440\ttotal: 8.76s\tremaining: 13.8s\n",
      "388:\tlearn: 0.3333577\ttotal: 8.78s\tremaining: 13.8s\n",
      "389:\tlearn: 0.3332293\ttotal: 8.8s\tremaining: 13.8s\n",
      "390:\tlearn: 0.3330640\ttotal: 8.83s\tremaining: 13.8s\n",
      "391:\tlearn: 0.3329682\ttotal: 8.85s\tremaining: 13.7s\n",
      "392:\tlearn: 0.3328774\ttotal: 8.87s\tremaining: 13.7s\n",
      "393:\tlearn: 0.3327697\ttotal: 8.89s\tremaining: 13.7s\n",
      "394:\tlearn: 0.3326704\ttotal: 8.92s\tremaining: 13.7s\n",
      "395:\tlearn: 0.3325695\ttotal: 8.94s\tremaining: 13.6s\n",
      "396:\tlearn: 0.3324252\ttotal: 8.96s\tremaining: 13.6s\n",
      "397:\tlearn: 0.3322350\ttotal: 8.99s\tremaining: 13.6s\n",
      "398:\tlearn: 0.3320884\ttotal: 9.01s\tremaining: 13.6s\n",
      "399:\tlearn: 0.3319450\ttotal: 9.03s\tremaining: 13.6s\n",
      "400:\tlearn: 0.3318272\ttotal: 9.06s\tremaining: 13.5s\n",
      "401:\tlearn: 0.3317097\ttotal: 9.08s\tremaining: 13.5s\n",
      "402:\tlearn: 0.3315950\ttotal: 9.1s\tremaining: 13.5s\n",
      "403:\tlearn: 0.3314783\ttotal: 9.13s\tremaining: 13.5s\n",
      "404:\tlearn: 0.3313542\ttotal: 9.15s\tremaining: 13.4s\n",
      "405:\tlearn: 0.3312341\ttotal: 9.18s\tremaining: 13.4s\n",
      "406:\tlearn: 0.3309326\ttotal: 9.2s\tremaining: 13.4s\n",
      "407:\tlearn: 0.3307797\ttotal: 9.22s\tremaining: 13.4s\n",
      "408:\tlearn: 0.3306534\ttotal: 9.24s\tremaining: 13.4s\n",
      "409:\tlearn: 0.3304585\ttotal: 9.26s\tremaining: 13.3s\n",
      "410:\tlearn: 0.3303628\ttotal: 9.28s\tremaining: 13.3s\n",
      "411:\tlearn: 0.3302464\ttotal: 9.3s\tremaining: 13.3s\n",
      "412:\tlearn: 0.3301258\ttotal: 9.32s\tremaining: 13.2s\n",
      "413:\tlearn: 0.3300266\ttotal: 9.34s\tremaining: 13.2s\n",
      "414:\tlearn: 0.3295899\ttotal: 9.36s\tremaining: 13.2s\n",
      "415:\tlearn: 0.3293838\ttotal: 9.38s\tremaining: 13.2s\n",
      "416:\tlearn: 0.3292990\ttotal: 9.4s\tremaining: 13.1s\n",
      "417:\tlearn: 0.3291651\ttotal: 9.43s\tremaining: 13.1s\n",
      "418:\tlearn: 0.3289991\ttotal: 9.45s\tremaining: 13.1s\n",
      "419:\tlearn: 0.3288625\ttotal: 9.47s\tremaining: 13.1s\n",
      "420:\tlearn: 0.3286732\ttotal: 9.49s\tremaining: 13.1s\n",
      "421:\tlearn: 0.3285294\ttotal: 9.51s\tremaining: 13s\n",
      "422:\tlearn: 0.3284061\ttotal: 9.53s\tremaining: 13s\n",
      "423:\tlearn: 0.3279895\ttotal: 9.55s\tremaining: 13s\n",
      "424:\tlearn: 0.3278781\ttotal: 9.57s\tremaining: 12.9s\n",
      "425:\tlearn: 0.3274765\ttotal: 9.59s\tremaining: 12.9s\n",
      "426:\tlearn: 0.3273671\ttotal: 9.61s\tremaining: 12.9s\n",
      "427:\tlearn: 0.3272160\ttotal: 9.63s\tremaining: 12.9s\n",
      "428:\tlearn: 0.3267438\ttotal: 9.66s\tremaining: 12.9s\n",
      "429:\tlearn: 0.3265908\ttotal: 9.68s\tremaining: 12.8s\n",
      "430:\tlearn: 0.3263156\ttotal: 9.7s\tremaining: 12.8s\n",
      "431:\tlearn: 0.3262101\ttotal: 9.73s\tremaining: 12.8s\n",
      "432:\tlearn: 0.3261418\ttotal: 9.75s\tremaining: 12.8s\n",
      "433:\tlearn: 0.3260442\ttotal: 9.77s\tremaining: 12.7s\n",
      "434:\tlearn: 0.3259517\ttotal: 9.8s\tremaining: 12.7s\n",
      "435:\tlearn: 0.3258085\ttotal: 9.82s\tremaining: 12.7s\n",
      "436:\tlearn: 0.3257060\ttotal: 9.84s\tremaining: 12.7s\n",
      "437:\tlearn: 0.3255429\ttotal: 9.87s\tremaining: 12.7s\n",
      "438:\tlearn: 0.3254093\ttotal: 9.89s\tremaining: 12.6s\n",
      "439:\tlearn: 0.3253003\ttotal: 9.91s\tremaining: 12.6s\n",
      "440:\tlearn: 0.3251002\ttotal: 9.93s\tremaining: 12.6s\n",
      "441:\tlearn: 0.3249973\ttotal: 9.95s\tremaining: 12.6s\n",
      "442:\tlearn: 0.3248981\ttotal: 9.97s\tremaining: 12.5s\n",
      "443:\tlearn: 0.3247931\ttotal: 10s\tremaining: 12.5s\n",
      "444:\tlearn: 0.3247132\ttotal: 10s\tremaining: 12.5s\n",
      "445:\tlearn: 0.3245935\ttotal: 10s\tremaining: 12.5s\n",
      "446:\tlearn: 0.3244797\ttotal: 10.1s\tremaining: 12.5s\n",
      "447:\tlearn: 0.3230607\ttotal: 10.1s\tremaining: 12.4s\n",
      "448:\tlearn: 0.3228419\ttotal: 10.1s\tremaining: 12.4s\n",
      "449:\tlearn: 0.3227211\ttotal: 10.1s\tremaining: 12.4s\n",
      "450:\tlearn: 0.3223787\ttotal: 10.2s\tremaining: 12.4s\n",
      "451:\tlearn: 0.3221828\ttotal: 10.2s\tremaining: 12.3s\n",
      "452:\tlearn: 0.3220393\ttotal: 10.2s\tremaining: 12.3s\n",
      "453:\tlearn: 0.3218851\ttotal: 10.2s\tremaining: 12.3s\n",
      "454:\tlearn: 0.3217682\ttotal: 10.3s\tremaining: 12.3s\n",
      "455:\tlearn: 0.3216695\ttotal: 10.3s\tremaining: 12.3s\n",
      "456:\tlearn: 0.3215544\ttotal: 10.3s\tremaining: 12.2s\n",
      "457:\tlearn: 0.3214372\ttotal: 10.3s\tremaining: 12.2s\n",
      "458:\tlearn: 0.3213543\ttotal: 10.4s\tremaining: 12.2s\n",
      "459:\tlearn: 0.3212358\ttotal: 10.4s\tremaining: 12.2s\n",
      "460:\tlearn: 0.3211424\ttotal: 10.4s\tremaining: 12.2s\n",
      "461:\tlearn: 0.3209464\ttotal: 10.4s\tremaining: 12.1s\n",
      "462:\tlearn: 0.3208295\ttotal: 10.5s\tremaining: 12.1s\n",
      "463:\tlearn: 0.3198396\ttotal: 10.5s\tremaining: 12.1s\n",
      "464:\tlearn: 0.3197080\ttotal: 10.5s\tremaining: 12.1s\n",
      "465:\tlearn: 0.3196175\ttotal: 10.6s\tremaining: 12.1s\n",
      "466:\tlearn: 0.3194930\ttotal: 10.6s\tremaining: 12.1s\n",
      "467:\tlearn: 0.3193238\ttotal: 10.6s\tremaining: 12.1s\n",
      "468:\tlearn: 0.3192215\ttotal: 10.6s\tremaining: 12s\n",
      "469:\tlearn: 0.3190832\ttotal: 10.7s\tremaining: 12s\n",
      "470:\tlearn: 0.3189395\ttotal: 10.7s\tremaining: 12s\n",
      "471:\tlearn: 0.3182695\ttotal: 10.7s\tremaining: 12s\n",
      "472:\tlearn: 0.3181629\ttotal: 10.8s\tremaining: 12s\n",
      "473:\tlearn: 0.3179765\ttotal: 10.8s\tremaining: 12s\n",
      "474:\tlearn: 0.3178519\ttotal: 10.8s\tremaining: 11.9s\n",
      "475:\tlearn: 0.3177323\ttotal: 10.8s\tremaining: 11.9s\n",
      "476:\tlearn: 0.3176147\ttotal: 10.9s\tremaining: 11.9s\n",
      "477:\tlearn: 0.3174990\ttotal: 10.9s\tremaining: 11.9s\n",
      "478:\tlearn: 0.3173444\ttotal: 10.9s\tremaining: 11.9s\n",
      "479:\tlearn: 0.3172711\ttotal: 11s\tremaining: 11.9s\n",
      "480:\tlearn: 0.3171774\ttotal: 11s\tremaining: 11.8s\n",
      "481:\tlearn: 0.3170662\ttotal: 11s\tremaining: 11.8s\n",
      "482:\tlearn: 0.3169552\ttotal: 11s\tremaining: 11.8s\n",
      "483:\tlearn: 0.3168720\ttotal: 11.1s\tremaining: 11.8s\n",
      "484:\tlearn: 0.3167554\ttotal: 11.1s\tremaining: 11.8s\n",
      "485:\tlearn: 0.3166257\ttotal: 11.1s\tremaining: 11.7s\n",
      "486:\tlearn: 0.3165137\ttotal: 11.1s\tremaining: 11.7s\n",
      "487:\tlearn: 0.3163908\ttotal: 11.2s\tremaining: 11.7s\n",
      "488:\tlearn: 0.3162122\ttotal: 11.2s\tremaining: 11.7s\n",
      "489:\tlearn: 0.3160922\ttotal: 11.2s\tremaining: 11.7s\n",
      "490:\tlearn: 0.3149254\ttotal: 11.2s\tremaining: 11.6s\n",
      "491:\tlearn: 0.3148292\ttotal: 11.3s\tremaining: 11.6s\n",
      "492:\tlearn: 0.3147447\ttotal: 11.3s\tremaining: 11.6s\n"
     ]
    },
    {
     "name": "stdout",
     "output_type": "stream",
     "text": [
      "493:\tlearn: 0.3143628\ttotal: 11.3s\tremaining: 11.6s\n",
      "494:\tlearn: 0.3142647\ttotal: 11.3s\tremaining: 11.6s\n",
      "495:\tlearn: 0.3141595\ttotal: 11.3s\tremaining: 11.5s\n",
      "496:\tlearn: 0.3140261\ttotal: 11.4s\tremaining: 11.5s\n",
      "497:\tlearn: 0.3139042\ttotal: 11.4s\tremaining: 11.5s\n",
      "498:\tlearn: 0.3138231\ttotal: 11.4s\tremaining: 11.5s\n",
      "499:\tlearn: 0.3137275\ttotal: 11.5s\tremaining: 11.5s\n",
      "500:\tlearn: 0.3136022\ttotal: 11.5s\tremaining: 11.4s\n",
      "501:\tlearn: 0.3135126\ttotal: 11.5s\tremaining: 11.4s\n",
      "502:\tlearn: 0.3134114\ttotal: 11.5s\tremaining: 11.4s\n",
      "503:\tlearn: 0.3133045\ttotal: 11.6s\tremaining: 11.4s\n",
      "504:\tlearn: 0.3132101\ttotal: 11.6s\tremaining: 11.4s\n",
      "505:\tlearn: 0.3131296\ttotal: 11.6s\tremaining: 11.3s\n",
      "506:\tlearn: 0.3127452\ttotal: 11.6s\tremaining: 11.3s\n",
      "507:\tlearn: 0.3126525\ttotal: 11.7s\tremaining: 11.3s\n",
      "508:\tlearn: 0.3120757\ttotal: 11.7s\tremaining: 11.3s\n",
      "509:\tlearn: 0.3119717\ttotal: 11.7s\tremaining: 11.3s\n",
      "510:\tlearn: 0.3118755\ttotal: 11.7s\tremaining: 11.2s\n",
      "511:\tlearn: 0.3117086\ttotal: 11.8s\tremaining: 11.2s\n",
      "512:\tlearn: 0.3115846\ttotal: 11.8s\tremaining: 11.2s\n",
      "513:\tlearn: 0.3115107\ttotal: 11.8s\tremaining: 11.2s\n",
      "514:\tlearn: 0.3111609\ttotal: 11.8s\tremaining: 11.1s\n",
      "515:\tlearn: 0.3110703\ttotal: 11.9s\tremaining: 11.1s\n",
      "516:\tlearn: 0.3106761\ttotal: 11.9s\tremaining: 11.1s\n",
      "517:\tlearn: 0.3105248\ttotal: 11.9s\tremaining: 11.1s\n",
      "518:\tlearn: 0.3103655\ttotal: 11.9s\tremaining: 11.1s\n",
      "519:\tlearn: 0.3102982\ttotal: 12s\tremaining: 11s\n",
      "520:\tlearn: 0.3101752\ttotal: 12s\tremaining: 11s\n",
      "521:\tlearn: 0.3100783\ttotal: 12s\tremaining: 11s\n",
      "522:\tlearn: 0.3078475\ttotal: 12s\tremaining: 11s\n",
      "523:\tlearn: 0.3077289\ttotal: 12.1s\tremaining: 11s\n",
      "524:\tlearn: 0.3075737\ttotal: 12.1s\tremaining: 10.9s\n",
      "525:\tlearn: 0.3073973\ttotal: 12.1s\tremaining: 10.9s\n",
      "526:\tlearn: 0.3072499\ttotal: 12.1s\tremaining: 10.9s\n",
      "527:\tlearn: 0.3071373\ttotal: 12.2s\tremaining: 10.9s\n",
      "528:\tlearn: 0.3069675\ttotal: 12.2s\tremaining: 10.9s\n",
      "529:\tlearn: 0.3063830\ttotal: 12.2s\tremaining: 10.8s\n",
      "530:\tlearn: 0.3062572\ttotal: 12.3s\tremaining: 10.8s\n",
      "531:\tlearn: 0.3061638\ttotal: 12.3s\tremaining: 10.8s\n",
      "532:\tlearn: 0.3060541\ttotal: 12.3s\tremaining: 10.8s\n",
      "533:\tlearn: 0.3054804\ttotal: 12.3s\tremaining: 10.8s\n",
      "534:\tlearn: 0.3053683\ttotal: 12.3s\tremaining: 10.7s\n",
      "535:\tlearn: 0.3052922\ttotal: 12.4s\tremaining: 10.7s\n",
      "536:\tlearn: 0.3051919\ttotal: 12.4s\tremaining: 10.7s\n",
      "537:\tlearn: 0.3051244\ttotal: 12.4s\tremaining: 10.7s\n",
      "538:\tlearn: 0.3048870\ttotal: 12.4s\tremaining: 10.6s\n",
      "539:\tlearn: 0.3047907\ttotal: 12.5s\tremaining: 10.6s\n",
      "540:\tlearn: 0.3047073\ttotal: 12.5s\tremaining: 10.6s\n",
      "541:\tlearn: 0.3045897\ttotal: 12.5s\tremaining: 10.6s\n",
      "542:\tlearn: 0.3044265\ttotal: 12.5s\tremaining: 10.5s\n",
      "543:\tlearn: 0.3043531\ttotal: 12.6s\tremaining: 10.5s\n",
      "544:\tlearn: 0.3042392\ttotal: 12.6s\tremaining: 10.5s\n",
      "545:\tlearn: 0.3041492\ttotal: 12.6s\tremaining: 10.5s\n",
      "546:\tlearn: 0.3040653\ttotal: 12.6s\tremaining: 10.4s\n",
      "547:\tlearn: 0.3039666\ttotal: 12.6s\tremaining: 10.4s\n",
      "548:\tlearn: 0.3038598\ttotal: 12.7s\tremaining: 10.4s\n",
      "549:\tlearn: 0.3037465\ttotal: 12.7s\tremaining: 10.4s\n",
      "550:\tlearn: 0.3036526\ttotal: 12.7s\tremaining: 10.4s\n",
      "551:\tlearn: 0.3035483\ttotal: 12.8s\tremaining: 10.3s\n",
      "552:\tlearn: 0.3034423\ttotal: 12.8s\tremaining: 10.3s\n",
      "553:\tlearn: 0.3033165\ttotal: 12.8s\tremaining: 10.3s\n",
      "554:\tlearn: 0.3031656\ttotal: 12.8s\tremaining: 10.3s\n",
      "555:\tlearn: 0.3030488\ttotal: 12.9s\tremaining: 10.3s\n",
      "556:\tlearn: 0.3029556\ttotal: 12.9s\tremaining: 10.3s\n",
      "557:\tlearn: 0.3028196\ttotal: 12.9s\tremaining: 10.2s\n",
      "558:\tlearn: 0.3027257\ttotal: 12.9s\tremaining: 10.2s\n",
      "559:\tlearn: 0.3026362\ttotal: 13s\tremaining: 10.2s\n",
      "560:\tlearn: 0.3025362\ttotal: 13s\tremaining: 10.2s\n",
      "561:\tlearn: 0.3024223\ttotal: 13s\tremaining: 10.2s\n",
      "562:\tlearn: 0.3023090\ttotal: 13.1s\tremaining: 10.1s\n",
      "563:\tlearn: 0.3021990\ttotal: 13.1s\tremaining: 10.1s\n",
      "564:\tlearn: 0.3021010\ttotal: 13.1s\tremaining: 10.1s\n",
      "565:\tlearn: 0.3019978\ttotal: 13.1s\tremaining: 10.1s\n",
      "566:\tlearn: 0.3019019\ttotal: 13.2s\tremaining: 10.1s\n",
      "567:\tlearn: 0.3017493\ttotal: 13.2s\tremaining: 10s\n",
      "568:\tlearn: 0.3015825\ttotal: 13.2s\tremaining: 10s\n",
      "569:\tlearn: 0.3014799\ttotal: 13.3s\tremaining: 10s\n",
      "570:\tlearn: 0.2993514\ttotal: 13.3s\tremaining: 9.99s\n",
      "571:\tlearn: 0.2992723\ttotal: 13.3s\tremaining: 9.97s\n",
      "572:\tlearn: 0.2991615\ttotal: 13.4s\tremaining: 9.95s\n",
      "573:\tlearn: 0.2990412\ttotal: 13.4s\tremaining: 9.93s\n",
      "574:\tlearn: 0.2989215\ttotal: 13.4s\tremaining: 9.91s\n",
      "575:\tlearn: 0.2987868\ttotal: 13.4s\tremaining: 9.89s\n",
      "576:\tlearn: 0.2987325\ttotal: 13.5s\tremaining: 9.88s\n",
      "577:\tlearn: 0.2986536\ttotal: 13.5s\tremaining: 9.86s\n",
      "578:\tlearn: 0.2985698\ttotal: 13.5s\tremaining: 9.84s\n",
      "579:\tlearn: 0.2985008\ttotal: 13.6s\tremaining: 9.82s\n",
      "580:\tlearn: 0.2983861\ttotal: 13.6s\tremaining: 9.8s\n",
      "581:\tlearn: 0.2977664\ttotal: 13.6s\tremaining: 9.79s\n",
      "582:\tlearn: 0.2976414\ttotal: 13.7s\tremaining: 9.77s\n",
      "583:\tlearn: 0.2974152\ttotal: 13.7s\tremaining: 9.75s\n",
      "584:\tlearn: 0.2973320\ttotal: 13.7s\tremaining: 9.73s\n",
      "585:\tlearn: 0.2971323\ttotal: 13.8s\tremaining: 9.72s\n",
      "586:\tlearn: 0.2970566\ttotal: 13.8s\tremaining: 9.7s\n",
      "587:\tlearn: 0.2952280\ttotal: 13.8s\tremaining: 9.68s\n",
      "588:\tlearn: 0.2951580\ttotal: 13.9s\tremaining: 9.66s\n",
      "589:\tlearn: 0.2950047\ttotal: 13.9s\tremaining: 9.64s\n",
      "590:\tlearn: 0.2948645\ttotal: 13.9s\tremaining: 9.62s\n",
      "591:\tlearn: 0.2947673\ttotal: 13.9s\tremaining: 9.6s\n",
      "592:\tlearn: 0.2946882\ttotal: 14s\tremaining: 9.58s\n",
      "593:\tlearn: 0.2945524\ttotal: 14s\tremaining: 9.57s\n",
      "594:\tlearn: 0.2944347\ttotal: 14s\tremaining: 9.55s\n",
      "595:\tlearn: 0.2943418\ttotal: 14.1s\tremaining: 9.54s\n",
      "596:\tlearn: 0.2942407\ttotal: 14.1s\tremaining: 9.52s\n",
      "597:\tlearn: 0.2941694\ttotal: 14.1s\tremaining: 9.51s\n",
      "598:\tlearn: 0.2940815\ttotal: 14.2s\tremaining: 9.49s\n",
      "599:\tlearn: 0.2939776\ttotal: 14.2s\tremaining: 9.48s\n",
      "600:\tlearn: 0.2938954\ttotal: 14.2s\tremaining: 9.45s\n",
      "601:\tlearn: 0.2934634\ttotal: 14.3s\tremaining: 9.43s\n",
      "602:\tlearn: 0.2933687\ttotal: 14.3s\tremaining: 9.41s\n",
      "603:\tlearn: 0.2932462\ttotal: 14.3s\tremaining: 9.38s\n",
      "604:\tlearn: 0.2931612\ttotal: 14.3s\tremaining: 9.36s\n",
      "605:\tlearn: 0.2929237\ttotal: 14.4s\tremaining: 9.34s\n",
      "606:\tlearn: 0.2928490\ttotal: 14.4s\tremaining: 9.31s\n",
      "607:\tlearn: 0.2927503\ttotal: 14.4s\tremaining: 9.29s\n",
      "608:\tlearn: 0.2926663\ttotal: 14.4s\tremaining: 9.26s\n",
      "609:\tlearn: 0.2925407\ttotal: 14.4s\tremaining: 9.24s\n",
      "610:\tlearn: 0.2922952\ttotal: 14.5s\tremaining: 9.21s\n",
      "611:\tlearn: 0.2922063\ttotal: 14.5s\tremaining: 9.19s\n",
      "612:\tlearn: 0.2921101\ttotal: 14.5s\tremaining: 9.16s\n",
      "613:\tlearn: 0.2920205\ttotal: 14.5s\tremaining: 9.13s\n",
      "614:\tlearn: 0.2919350\ttotal: 14.6s\tremaining: 9.11s\n",
      "615:\tlearn: 0.2918593\ttotal: 14.6s\tremaining: 9.09s\n",
      "616:\tlearn: 0.2917744\ttotal: 14.6s\tremaining: 9.06s\n",
      "617:\tlearn: 0.2917023\ttotal: 14.6s\tremaining: 9.04s\n",
      "618:\tlearn: 0.2915936\ttotal: 14.6s\tremaining: 9.01s\n",
      "619:\tlearn: 0.2914701\ttotal: 14.7s\tremaining: 8.99s\n",
      "620:\tlearn: 0.2912562\ttotal: 14.7s\tremaining: 8.96s\n",
      "621:\tlearn: 0.2910402\ttotal: 14.7s\tremaining: 8.94s\n",
      "622:\tlearn: 0.2909551\ttotal: 14.7s\tremaining: 8.91s\n",
      "623:\tlearn: 0.2908636\ttotal: 14.7s\tremaining: 8.88s\n",
      "624:\tlearn: 0.2907208\ttotal: 14.8s\tremaining: 8.86s\n",
      "625:\tlearn: 0.2906282\ttotal: 14.8s\tremaining: 8.84s\n",
      "626:\tlearn: 0.2905476\ttotal: 14.8s\tremaining: 8.81s\n",
      "627:\tlearn: 0.2903802\ttotal: 14.8s\tremaining: 8.79s\n",
      "628:\tlearn: 0.2903015\ttotal: 14.9s\tremaining: 8.77s\n",
      "629:\tlearn: 0.2901909\ttotal: 14.9s\tremaining: 8.74s\n",
      "630:\tlearn: 0.2901137\ttotal: 14.9s\tremaining: 8.72s\n",
      "631:\tlearn: 0.2900296\ttotal: 14.9s\tremaining: 8.69s\n",
      "632:\tlearn: 0.2899493\ttotal: 15s\tremaining: 8.67s\n",
      "633:\tlearn: 0.2897933\ttotal: 15s\tremaining: 8.64s\n",
      "634:\tlearn: 0.2897106\ttotal: 15s\tremaining: 8.62s\n",
      "635:\tlearn: 0.2896365\ttotal: 15s\tremaining: 8.6s\n",
      "636:\tlearn: 0.2895592\ttotal: 15s\tremaining: 8.57s\n",
      "637:\tlearn: 0.2893855\ttotal: 15.1s\tremaining: 8.55s\n",
      "638:\tlearn: 0.2893186\ttotal: 15.1s\tremaining: 8.53s\n",
      "639:\tlearn: 0.2891976\ttotal: 15.1s\tremaining: 8.51s\n",
      "640:\tlearn: 0.2891200\ttotal: 15.1s\tremaining: 8.48s\n",
      "641:\tlearn: 0.2889576\ttotal: 15.2s\tremaining: 8.46s\n",
      "642:\tlearn: 0.2888481\ttotal: 15.2s\tremaining: 8.43s\n",
      "643:\tlearn: 0.2883886\ttotal: 15.2s\tremaining: 8.41s\n",
      "644:\tlearn: 0.2874494\ttotal: 15.2s\tremaining: 8.39s\n",
      "645:\tlearn: 0.2873487\ttotal: 15.3s\tremaining: 8.37s\n",
      "646:\tlearn: 0.2872798\ttotal: 15.3s\tremaining: 8.34s\n",
      "647:\tlearn: 0.2872420\ttotal: 15.3s\tremaining: 8.32s\n",
      "648:\tlearn: 0.2871486\ttotal: 15.3s\tremaining: 8.29s\n",
      "649:\tlearn: 0.2868361\ttotal: 15.4s\tremaining: 8.27s\n",
      "650:\tlearn: 0.2867648\ttotal: 15.4s\tremaining: 8.24s\n",
      "651:\tlearn: 0.2866697\ttotal: 15.4s\tremaining: 8.22s\n"
     ]
    },
    {
     "name": "stdout",
     "output_type": "stream",
     "text": [
      "652:\tlearn: 0.2863095\ttotal: 15.4s\tremaining: 8.2s\n",
      "653:\tlearn: 0.2858901\ttotal: 15.5s\tremaining: 8.18s\n",
      "654:\tlearn: 0.2857277\ttotal: 15.5s\tremaining: 8.15s\n",
      "655:\tlearn: 0.2856513\ttotal: 15.5s\tremaining: 8.13s\n",
      "656:\tlearn: 0.2855652\ttotal: 15.5s\tremaining: 8.1s\n",
      "657:\tlearn: 0.2854965\ttotal: 15.5s\tremaining: 8.08s\n",
      "658:\tlearn: 0.2854210\ttotal: 15.6s\tremaining: 8.06s\n",
      "659:\tlearn: 0.2853095\ttotal: 15.6s\tremaining: 8.03s\n",
      "660:\tlearn: 0.2852148\ttotal: 15.6s\tremaining: 8.01s\n",
      "661:\tlearn: 0.2850309\ttotal: 15.6s\tremaining: 7.98s\n",
      "662:\tlearn: 0.2848955\ttotal: 15.7s\tremaining: 7.96s\n",
      "663:\tlearn: 0.2846677\ttotal: 15.7s\tremaining: 7.94s\n",
      "664:\tlearn: 0.2845288\ttotal: 15.7s\tremaining: 7.91s\n",
      "665:\tlearn: 0.2842095\ttotal: 15.7s\tremaining: 7.89s\n",
      "666:\tlearn: 0.2841341\ttotal: 15.8s\tremaining: 7.87s\n",
      "667:\tlearn: 0.2840439\ttotal: 15.8s\tremaining: 7.84s\n",
      "668:\tlearn: 0.2838856\ttotal: 15.8s\tremaining: 7.82s\n",
      "669:\tlearn: 0.2837866\ttotal: 15.8s\tremaining: 7.79s\n",
      "670:\tlearn: 0.2827838\ttotal: 15.8s\tremaining: 7.77s\n",
      "671:\tlearn: 0.2827174\ttotal: 15.9s\tremaining: 7.75s\n",
      "672:\tlearn: 0.2826620\ttotal: 15.9s\tremaining: 7.72s\n",
      "673:\tlearn: 0.2824775\ttotal: 15.9s\tremaining: 7.7s\n",
      "674:\tlearn: 0.2822562\ttotal: 15.9s\tremaining: 7.67s\n",
      "675:\tlearn: 0.2821746\ttotal: 16s\tremaining: 7.65s\n",
      "676:\tlearn: 0.2820759\ttotal: 16s\tremaining: 7.63s\n",
      "677:\tlearn: 0.2819746\ttotal: 16s\tremaining: 7.6s\n",
      "678:\tlearn: 0.2817671\ttotal: 16s\tremaining: 7.58s\n",
      "679:\tlearn: 0.2816778\ttotal: 16.1s\tremaining: 7.55s\n",
      "680:\tlearn: 0.2815838\ttotal: 16.1s\tremaining: 7.53s\n",
      "681:\tlearn: 0.2814992\ttotal: 16.1s\tremaining: 7.51s\n",
      "682:\tlearn: 0.2813909\ttotal: 16.1s\tremaining: 7.48s\n",
      "683:\tlearn: 0.2813143\ttotal: 16.1s\tremaining: 7.46s\n",
      "684:\tlearn: 0.2812261\ttotal: 16.2s\tremaining: 7.43s\n",
      "685:\tlearn: 0.2810950\ttotal: 16.2s\tremaining: 7.41s\n",
      "686:\tlearn: 0.2808127\ttotal: 16.2s\tremaining: 7.39s\n",
      "687:\tlearn: 0.2807451\ttotal: 16.2s\tremaining: 7.36s\n",
      "688:\tlearn: 0.2806599\ttotal: 16.3s\tremaining: 7.34s\n",
      "689:\tlearn: 0.2804560\ttotal: 16.3s\tremaining: 7.32s\n",
      "690:\tlearn: 0.2803597\ttotal: 16.3s\tremaining: 7.29s\n",
      "691:\tlearn: 0.2802600\ttotal: 16.3s\tremaining: 7.27s\n",
      "692:\tlearn: 0.2801246\ttotal: 16.4s\tremaining: 7.25s\n",
      "693:\tlearn: 0.2800489\ttotal: 16.4s\tremaining: 7.22s\n",
      "694:\tlearn: 0.2799114\ttotal: 16.4s\tremaining: 7.2s\n",
      "695:\tlearn: 0.2798012\ttotal: 16.4s\tremaining: 7.18s\n",
      "696:\tlearn: 0.2796881\ttotal: 16.5s\tremaining: 7.15s\n",
      "697:\tlearn: 0.2795822\ttotal: 16.5s\tremaining: 7.13s\n",
      "698:\tlearn: 0.2795244\ttotal: 16.5s\tremaining: 7.11s\n",
      "699:\tlearn: 0.2794333\ttotal: 16.5s\tremaining: 7.08s\n",
      "700:\tlearn: 0.2793502\ttotal: 16.6s\tremaining: 7.06s\n",
      "701:\tlearn: 0.2792462\ttotal: 16.6s\tremaining: 7.04s\n",
      "702:\tlearn: 0.2791438\ttotal: 16.6s\tremaining: 7.01s\n",
      "703:\tlearn: 0.2789433\ttotal: 16.6s\tremaining: 6.99s\n",
      "704:\tlearn: 0.2788626\ttotal: 16.6s\tremaining: 6.96s\n",
      "705:\tlearn: 0.2787594\ttotal: 16.7s\tremaining: 6.94s\n",
      "706:\tlearn: 0.2786613\ttotal: 16.7s\tremaining: 6.92s\n",
      "707:\tlearn: 0.2785346\ttotal: 16.7s\tremaining: 6.89s\n",
      "708:\tlearn: 0.2780729\ttotal: 16.7s\tremaining: 6.87s\n",
      "709:\tlearn: 0.2779981\ttotal: 16.8s\tremaining: 6.85s\n",
      "710:\tlearn: 0.2774957\ttotal: 16.8s\tremaining: 6.82s\n",
      "711:\tlearn: 0.2774000\ttotal: 16.8s\tremaining: 6.8s\n",
      "712:\tlearn: 0.2773108\ttotal: 16.8s\tremaining: 6.78s\n",
      "713:\tlearn: 0.2772357\ttotal: 16.9s\tremaining: 6.75s\n",
      "714:\tlearn: 0.2771383\ttotal: 16.9s\tremaining: 6.73s\n",
      "715:\tlearn: 0.2770537\ttotal: 16.9s\tremaining: 6.71s\n",
      "716:\tlearn: 0.2768035\ttotal: 16.9s\tremaining: 6.68s\n",
      "717:\tlearn: 0.2766896\ttotal: 17s\tremaining: 6.66s\n",
      "718:\tlearn: 0.2766083\ttotal: 17s\tremaining: 6.63s\n",
      "719:\tlearn: 0.2765087\ttotal: 17s\tremaining: 6.61s\n",
      "720:\tlearn: 0.2757744\ttotal: 17s\tremaining: 6.59s\n",
      "721:\tlearn: 0.2756719\ttotal: 17s\tremaining: 6.56s\n",
      "722:\tlearn: 0.2755817\ttotal: 17.1s\tremaining: 6.54s\n",
      "723:\tlearn: 0.2754780\ttotal: 17.1s\tremaining: 6.52s\n",
      "724:\tlearn: 0.2753736\ttotal: 17.1s\tremaining: 6.49s\n",
      "725:\tlearn: 0.2752885\ttotal: 17.1s\tremaining: 6.47s\n",
      "726:\tlearn: 0.2751980\ttotal: 17.2s\tremaining: 6.45s\n",
      "727:\tlearn: 0.2750966\ttotal: 17.2s\tremaining: 6.42s\n",
      "728:\tlearn: 0.2749093\ttotal: 17.2s\tremaining: 6.4s\n",
      "729:\tlearn: 0.2748534\ttotal: 17.2s\tremaining: 6.37s\n",
      "730:\tlearn: 0.2746133\ttotal: 17.3s\tremaining: 6.35s\n",
      "731:\tlearn: 0.2745481\ttotal: 17.3s\tremaining: 6.33s\n",
      "732:\tlearn: 0.2742651\ttotal: 17.3s\tremaining: 6.3s\n",
      "733:\tlearn: 0.2741655\ttotal: 17.3s\tremaining: 6.28s\n",
      "734:\tlearn: 0.2740800\ttotal: 17.4s\tremaining: 6.26s\n",
      "735:\tlearn: 0.2740042\ttotal: 17.4s\tremaining: 6.23s\n",
      "736:\tlearn: 0.2739382\ttotal: 17.4s\tremaining: 6.21s\n",
      "737:\tlearn: 0.2738476\ttotal: 17.4s\tremaining: 6.18s\n",
      "738:\tlearn: 0.2737969\ttotal: 17.4s\tremaining: 6.16s\n",
      "739:\tlearn: 0.2737199\ttotal: 17.5s\tremaining: 6.14s\n",
      "740:\tlearn: 0.2735818\ttotal: 17.5s\tremaining: 6.11s\n",
      "741:\tlearn: 0.2734696\ttotal: 17.5s\tremaining: 6.09s\n",
      "742:\tlearn: 0.2733833\ttotal: 17.5s\tremaining: 6.07s\n",
      "743:\tlearn: 0.2732981\ttotal: 17.6s\tremaining: 6.04s\n",
      "744:\tlearn: 0.2731778\ttotal: 17.6s\tremaining: 6.02s\n",
      "745:\tlearn: 0.2730841\ttotal: 17.6s\tremaining: 5.99s\n",
      "746:\tlearn: 0.2730148\ttotal: 17.6s\tremaining: 5.97s\n",
      "747:\tlearn: 0.2729067\ttotal: 17.6s\tremaining: 5.95s\n",
      "748:\tlearn: 0.2728228\ttotal: 17.7s\tremaining: 5.92s\n",
      "749:\tlearn: 0.2727132\ttotal: 17.7s\tremaining: 5.9s\n",
      "750:\tlearn: 0.2726298\ttotal: 17.7s\tremaining: 5.87s\n",
      "751:\tlearn: 0.2724669\ttotal: 17.7s\tremaining: 5.85s\n",
      "752:\tlearn: 0.2723841\ttotal: 17.8s\tremaining: 5.83s\n",
      "753:\tlearn: 0.2723194\ttotal: 17.8s\tremaining: 5.8s\n",
      "754:\tlearn: 0.2722320\ttotal: 17.8s\tremaining: 5.78s\n",
      "755:\tlearn: 0.2721512\ttotal: 17.8s\tremaining: 5.76s\n",
      "756:\tlearn: 0.2719397\ttotal: 17.9s\tremaining: 5.74s\n",
      "757:\tlearn: 0.2718554\ttotal: 17.9s\tremaining: 5.72s\n",
      "758:\tlearn: 0.2717905\ttotal: 17.9s\tremaining: 5.69s\n",
      "759:\tlearn: 0.2717241\ttotal: 18s\tremaining: 5.67s\n",
      "760:\tlearn: 0.2716307\ttotal: 18s\tremaining: 5.64s\n",
      "761:\tlearn: 0.2714899\ttotal: 18s\tremaining: 5.62s\n",
      "762:\tlearn: 0.2713849\ttotal: 18s\tremaining: 5.6s\n",
      "763:\tlearn: 0.2710807\ttotal: 18s\tremaining: 5.58s\n",
      "764:\tlearn: 0.2710136\ttotal: 18.1s\tremaining: 5.55s\n",
      "765:\tlearn: 0.2709402\ttotal: 18.1s\tremaining: 5.53s\n",
      "766:\tlearn: 0.2708531\ttotal: 18.1s\tremaining: 5.5s\n",
      "767:\tlearn: 0.2707405\ttotal: 18.1s\tremaining: 5.48s\n",
      "768:\tlearn: 0.2706794\ttotal: 18.2s\tremaining: 5.46s\n",
      "769:\tlearn: 0.2706195\ttotal: 18.2s\tremaining: 5.43s\n",
      "770:\tlearn: 0.2705384\ttotal: 18.2s\tremaining: 5.41s\n",
      "771:\tlearn: 0.2704860\ttotal: 18.2s\tremaining: 5.38s\n",
      "772:\tlearn: 0.2704126\ttotal: 18.3s\tremaining: 5.36s\n",
      "773:\tlearn: 0.2703193\ttotal: 18.3s\tremaining: 5.34s\n",
      "774:\tlearn: 0.2702223\ttotal: 18.3s\tremaining: 5.32s\n",
      "775:\tlearn: 0.2701469\ttotal: 18.3s\tremaining: 5.29s\n",
      "776:\tlearn: 0.2700487\ttotal: 18.4s\tremaining: 5.27s\n",
      "777:\tlearn: 0.2699168\ttotal: 18.4s\tremaining: 5.24s\n",
      "778:\tlearn: 0.2696694\ttotal: 18.4s\tremaining: 5.22s\n",
      "779:\tlearn: 0.2696055\ttotal: 18.4s\tremaining: 5.2s\n",
      "780:\tlearn: 0.2695299\ttotal: 18.5s\tremaining: 5.17s\n",
      "781:\tlearn: 0.2693909\ttotal: 18.5s\tremaining: 5.15s\n",
      "782:\tlearn: 0.2693215\ttotal: 18.5s\tremaining: 5.13s\n",
      "783:\tlearn: 0.2692208\ttotal: 18.5s\tremaining: 5.1s\n",
      "784:\tlearn: 0.2691269\ttotal: 18.5s\tremaining: 5.08s\n",
      "785:\tlearn: 0.2690473\ttotal: 18.6s\tremaining: 5.06s\n",
      "786:\tlearn: 0.2682758\ttotal: 18.6s\tremaining: 5.03s\n",
      "787:\tlearn: 0.2681315\ttotal: 18.6s\tremaining: 5.01s\n",
      "788:\tlearn: 0.2680235\ttotal: 18.6s\tremaining: 4.98s\n",
      "789:\tlearn: 0.2679529\ttotal: 18.7s\tremaining: 4.96s\n",
      "790:\tlearn: 0.2678722\ttotal: 18.7s\tremaining: 4.94s\n",
      "791:\tlearn: 0.2677509\ttotal: 18.7s\tremaining: 4.91s\n",
      "792:\tlearn: 0.2676547\ttotal: 18.7s\tremaining: 4.89s\n",
      "793:\tlearn: 0.2675749\ttotal: 18.8s\tremaining: 4.87s\n",
      "794:\tlearn: 0.2674561\ttotal: 18.8s\tremaining: 4.84s\n",
      "795:\tlearn: 0.2673755\ttotal: 18.8s\tremaining: 4.82s\n",
      "796:\tlearn: 0.2672937\ttotal: 18.8s\tremaining: 4.79s\n",
      "797:\tlearn: 0.2672144\ttotal: 18.8s\tremaining: 4.77s\n",
      "798:\tlearn: 0.2670746\ttotal: 18.9s\tremaining: 4.75s\n",
      "799:\tlearn: 0.2670072\ttotal: 18.9s\tremaining: 4.72s\n",
      "800:\tlearn: 0.2669562\ttotal: 18.9s\tremaining: 4.7s\n",
      "801:\tlearn: 0.2667011\ttotal: 18.9s\tremaining: 4.68s\n",
      "802:\tlearn: 0.2666190\ttotal: 19s\tremaining: 4.65s\n",
      "803:\tlearn: 0.2665511\ttotal: 19s\tremaining: 4.63s\n",
      "804:\tlearn: 0.2664903\ttotal: 19s\tremaining: 4.61s\n",
      "805:\tlearn: 0.2664205\ttotal: 19s\tremaining: 4.58s\n",
      "806:\tlearn: 0.2663523\ttotal: 19.1s\tremaining: 4.56s\n",
      "807:\tlearn: 0.2662875\ttotal: 19.1s\tremaining: 4.53s\n",
      "808:\tlearn: 0.2660526\ttotal: 19.1s\tremaining: 4.51s\n",
      "809:\tlearn: 0.2659490\ttotal: 19.1s\tremaining: 4.49s\n",
      "810:\tlearn: 0.2658563\ttotal: 19.2s\tremaining: 4.46s\n",
      "811:\tlearn: 0.2657826\ttotal: 19.2s\tremaining: 4.44s\n",
      "812:\tlearn: 0.2657140\ttotal: 19.2s\tremaining: 4.42s\n",
      "813:\tlearn: 0.2656403\ttotal: 19.2s\tremaining: 4.39s\n",
      "814:\tlearn: 0.2655573\ttotal: 19.3s\tremaining: 4.37s\n"
     ]
    },
    {
     "name": "stdout",
     "output_type": "stream",
     "text": [
      "815:\tlearn: 0.2654830\ttotal: 19.3s\tremaining: 4.35s\n",
      "816:\tlearn: 0.2652014\ttotal: 19.3s\tremaining: 4.32s\n",
      "817:\tlearn: 0.2650019\ttotal: 19.3s\tremaining: 4.3s\n",
      "818:\tlearn: 0.2648720\ttotal: 19.3s\tremaining: 4.28s\n",
      "819:\tlearn: 0.2647675\ttotal: 19.4s\tremaining: 4.25s\n",
      "820:\tlearn: 0.2646966\ttotal: 19.4s\tremaining: 4.23s\n",
      "821:\tlearn: 0.2646398\ttotal: 19.4s\tremaining: 4.21s\n",
      "822:\tlearn: 0.2645637\ttotal: 19.4s\tremaining: 4.18s\n",
      "823:\tlearn: 0.2643016\ttotal: 19.5s\tremaining: 4.16s\n",
      "824:\tlearn: 0.2642328\ttotal: 19.5s\tremaining: 4.13s\n",
      "825:\tlearn: 0.2641861\ttotal: 19.5s\tremaining: 4.11s\n",
      "826:\tlearn: 0.2641194\ttotal: 19.5s\tremaining: 4.09s\n",
      "827:\tlearn: 0.2640285\ttotal: 19.6s\tremaining: 4.06s\n",
      "828:\tlearn: 0.2639574\ttotal: 19.6s\tremaining: 4.04s\n",
      "829:\tlearn: 0.2638698\ttotal: 19.6s\tremaining: 4.01s\n",
      "830:\tlearn: 0.2637748\ttotal: 19.6s\tremaining: 3.99s\n",
      "831:\tlearn: 0.2637190\ttotal: 19.7s\tremaining: 3.97s\n",
      "832:\tlearn: 0.2636584\ttotal: 19.7s\tremaining: 3.94s\n",
      "833:\tlearn: 0.2635777\ttotal: 19.7s\tremaining: 3.92s\n",
      "834:\tlearn: 0.2635041\ttotal: 19.7s\tremaining: 3.9s\n",
      "835:\tlearn: 0.2634249\ttotal: 19.7s\tremaining: 3.87s\n",
      "836:\tlearn: 0.2633431\ttotal: 19.8s\tremaining: 3.85s\n",
      "837:\tlearn: 0.2632183\ttotal: 19.8s\tremaining: 3.83s\n",
      "838:\tlearn: 0.2631508\ttotal: 19.8s\tremaining: 3.8s\n",
      "839:\tlearn: 0.2630650\ttotal: 19.8s\tremaining: 3.78s\n",
      "840:\tlearn: 0.2629886\ttotal: 19.9s\tremaining: 3.75s\n",
      "841:\tlearn: 0.2624650\ttotal: 19.9s\tremaining: 3.73s\n",
      "842:\tlearn: 0.2624091\ttotal: 19.9s\tremaining: 3.71s\n",
      "843:\tlearn: 0.2622904\ttotal: 19.9s\tremaining: 3.68s\n",
      "844:\tlearn: 0.2622378\ttotal: 20s\tremaining: 3.66s\n",
      "845:\tlearn: 0.2621729\ttotal: 20s\tremaining: 3.64s\n",
      "846:\tlearn: 0.2621220\ttotal: 20s\tremaining: 3.61s\n",
      "847:\tlearn: 0.2620518\ttotal: 20s\tremaining: 3.59s\n",
      "848:\tlearn: 0.2617852\ttotal: 20.1s\tremaining: 3.57s\n",
      "849:\tlearn: 0.2617098\ttotal: 20.1s\tremaining: 3.54s\n",
      "850:\tlearn: 0.2615970\ttotal: 20.1s\tremaining: 3.52s\n",
      "851:\tlearn: 0.2615126\ttotal: 20.1s\tremaining: 3.49s\n",
      "852:\tlearn: 0.2614480\ttotal: 20.1s\tremaining: 3.47s\n",
      "853:\tlearn: 0.2613984\ttotal: 20.2s\tremaining: 3.45s\n",
      "854:\tlearn: 0.2613275\ttotal: 20.2s\tremaining: 3.42s\n",
      "855:\tlearn: 0.2612658\ttotal: 20.2s\tremaining: 3.4s\n",
      "856:\tlearn: 0.2609014\ttotal: 20.2s\tremaining: 3.38s\n",
      "857:\tlearn: 0.2608497\ttotal: 20.3s\tremaining: 3.35s\n",
      "858:\tlearn: 0.2607630\ttotal: 20.3s\tremaining: 3.33s\n",
      "859:\tlearn: 0.2606920\ttotal: 20.3s\tremaining: 3.3s\n",
      "860:\tlearn: 0.2606186\ttotal: 20.3s\tremaining: 3.28s\n",
      "861:\tlearn: 0.2604724\ttotal: 20.3s\tremaining: 3.26s\n",
      "862:\tlearn: 0.2603981\ttotal: 20.4s\tremaining: 3.23s\n",
      "863:\tlearn: 0.2603162\ttotal: 20.4s\tremaining: 3.21s\n",
      "864:\tlearn: 0.2602560\ttotal: 20.4s\tremaining: 3.19s\n",
      "865:\tlearn: 0.2597136\ttotal: 20.4s\tremaining: 3.16s\n",
      "866:\tlearn: 0.2596396\ttotal: 20.5s\tremaining: 3.14s\n",
      "867:\tlearn: 0.2595722\ttotal: 20.5s\tremaining: 3.12s\n",
      "868:\tlearn: 0.2594710\ttotal: 20.5s\tremaining: 3.09s\n",
      "869:\tlearn: 0.2594182\ttotal: 20.5s\tremaining: 3.07s\n",
      "870:\tlearn: 0.2593590\ttotal: 20.6s\tremaining: 3.04s\n",
      "871:\tlearn: 0.2592699\ttotal: 20.6s\tremaining: 3.02s\n",
      "872:\tlearn: 0.2591527\ttotal: 20.6s\tremaining: 3s\n",
      "873:\tlearn: 0.2590760\ttotal: 20.6s\tremaining: 2.97s\n",
      "874:\tlearn: 0.2589761\ttotal: 20.7s\tremaining: 2.95s\n",
      "875:\tlearn: 0.2589055\ttotal: 20.7s\tremaining: 2.93s\n",
      "876:\tlearn: 0.2588399\ttotal: 20.7s\tremaining: 2.9s\n",
      "877:\tlearn: 0.2586406\ttotal: 20.7s\tremaining: 2.88s\n",
      "878:\tlearn: 0.2585591\ttotal: 20.8s\tremaining: 2.86s\n",
      "879:\tlearn: 0.2585056\ttotal: 20.8s\tremaining: 2.83s\n",
      "880:\tlearn: 0.2584533\ttotal: 20.8s\tremaining: 2.81s\n",
      "881:\tlearn: 0.2581928\ttotal: 20.8s\tremaining: 2.79s\n",
      "882:\tlearn: 0.2581280\ttotal: 20.8s\tremaining: 2.76s\n",
      "883:\tlearn: 0.2580409\ttotal: 20.9s\tremaining: 2.74s\n",
      "884:\tlearn: 0.2579775\ttotal: 20.9s\tremaining: 2.71s\n",
      "885:\tlearn: 0.2579173\ttotal: 20.9s\tremaining: 2.69s\n",
      "886:\tlearn: 0.2578392\ttotal: 20.9s\tremaining: 2.67s\n",
      "887:\tlearn: 0.2577601\ttotal: 21s\tremaining: 2.64s\n",
      "888:\tlearn: 0.2577043\ttotal: 21s\tremaining: 2.62s\n",
      "889:\tlearn: 0.2576204\ttotal: 21s\tremaining: 2.6s\n",
      "890:\tlearn: 0.2575454\ttotal: 21s\tremaining: 2.57s\n",
      "891:\tlearn: 0.2574881\ttotal: 21.1s\tremaining: 2.55s\n",
      "892:\tlearn: 0.2574190\ttotal: 21.1s\tremaining: 2.52s\n",
      "893:\tlearn: 0.2573560\ttotal: 21.1s\tremaining: 2.5s\n",
      "894:\tlearn: 0.2571583\ttotal: 21.1s\tremaining: 2.48s\n",
      "895:\tlearn: 0.2570840\ttotal: 21.1s\tremaining: 2.45s\n",
      "896:\tlearn: 0.2570219\ttotal: 21.2s\tremaining: 2.43s\n",
      "897:\tlearn: 0.2569677\ttotal: 21.2s\tremaining: 2.41s\n",
      "898:\tlearn: 0.2568708\ttotal: 21.2s\tremaining: 2.38s\n",
      "899:\tlearn: 0.2565967\ttotal: 21.2s\tremaining: 2.36s\n",
      "900:\tlearn: 0.2565520\ttotal: 21.3s\tremaining: 2.34s\n",
      "901:\tlearn: 0.2562761\ttotal: 21.3s\tremaining: 2.31s\n",
      "902:\tlearn: 0.2562272\ttotal: 21.3s\tremaining: 2.29s\n",
      "903:\tlearn: 0.2561570\ttotal: 21.3s\tremaining: 2.27s\n",
      "904:\tlearn: 0.2560962\ttotal: 21.4s\tremaining: 2.24s\n",
      "905:\tlearn: 0.2557040\ttotal: 21.4s\tremaining: 2.22s\n",
      "906:\tlearn: 0.2556168\ttotal: 21.4s\tremaining: 2.19s\n",
      "907:\tlearn: 0.2555369\ttotal: 21.4s\tremaining: 2.17s\n",
      "908:\tlearn: 0.2554677\ttotal: 21.5s\tremaining: 2.15s\n",
      "909:\tlearn: 0.2553928\ttotal: 21.5s\tremaining: 2.12s\n",
      "910:\tlearn: 0.2553115\ttotal: 21.5s\tremaining: 2.1s\n",
      "911:\tlearn: 0.2548932\ttotal: 21.5s\tremaining: 2.08s\n",
      "912:\tlearn: 0.2548264\ttotal: 21.6s\tremaining: 2.05s\n",
      "913:\tlearn: 0.2547372\ttotal: 21.6s\tremaining: 2.03s\n",
      "914:\tlearn: 0.2546627\ttotal: 21.6s\tremaining: 2.01s\n",
      "915:\tlearn: 0.2545434\ttotal: 21.6s\tremaining: 1.98s\n",
      "916:\tlearn: 0.2544050\ttotal: 21.7s\tremaining: 1.96s\n",
      "917:\tlearn: 0.2543582\ttotal: 21.7s\tremaining: 1.94s\n",
      "918:\tlearn: 0.2542836\ttotal: 21.7s\tremaining: 1.91s\n",
      "919:\tlearn: 0.2542180\ttotal: 21.7s\tremaining: 1.89s\n",
      "920:\tlearn: 0.2541455\ttotal: 21.8s\tremaining: 1.87s\n",
      "921:\tlearn: 0.2540962\ttotal: 21.8s\tremaining: 1.84s\n",
      "922:\tlearn: 0.2540247\ttotal: 21.8s\tremaining: 1.82s\n",
      "923:\tlearn: 0.2539582\ttotal: 21.8s\tremaining: 1.8s\n",
      "924:\tlearn: 0.2538927\ttotal: 21.9s\tremaining: 1.77s\n",
      "925:\tlearn: 0.2538133\ttotal: 21.9s\tremaining: 1.75s\n",
      "926:\tlearn: 0.2536521\ttotal: 21.9s\tremaining: 1.73s\n",
      "927:\tlearn: 0.2534958\ttotal: 21.9s\tremaining: 1.7s\n",
      "928:\tlearn: 0.2533759\ttotal: 22s\tremaining: 1.68s\n",
      "929:\tlearn: 0.2529908\ttotal: 22s\tremaining: 1.65s\n",
      "930:\tlearn: 0.2526346\ttotal: 22s\tremaining: 1.63s\n",
      "931:\tlearn: 0.2523358\ttotal: 22s\tremaining: 1.61s\n",
      "932:\tlearn: 0.2522154\ttotal: 22.1s\tremaining: 1.58s\n",
      "933:\tlearn: 0.2516006\ttotal: 22.1s\tremaining: 1.56s\n",
      "934:\tlearn: 0.2515184\ttotal: 22.1s\tremaining: 1.54s\n",
      "935:\tlearn: 0.2514737\ttotal: 22.1s\tremaining: 1.51s\n",
      "936:\tlearn: 0.2513906\ttotal: 22.2s\tremaining: 1.49s\n",
      "937:\tlearn: 0.2512416\ttotal: 22.2s\tremaining: 1.47s\n",
      "938:\tlearn: 0.2511772\ttotal: 22.2s\tremaining: 1.44s\n",
      "939:\tlearn: 0.2511155\ttotal: 22.2s\tremaining: 1.42s\n",
      "940:\tlearn: 0.2509205\ttotal: 22.3s\tremaining: 1.4s\n",
      "941:\tlearn: 0.2501755\ttotal: 22.3s\tremaining: 1.37s\n",
      "942:\tlearn: 0.2501182\ttotal: 22.3s\tremaining: 1.35s\n",
      "943:\tlearn: 0.2500304\ttotal: 22.3s\tremaining: 1.32s\n",
      "944:\tlearn: 0.2491390\ttotal: 22.4s\tremaining: 1.3s\n",
      "945:\tlearn: 0.2490818\ttotal: 22.4s\tremaining: 1.28s\n",
      "946:\tlearn: 0.2490207\ttotal: 22.4s\tremaining: 1.25s\n",
      "947:\tlearn: 0.2489518\ttotal: 22.4s\tremaining: 1.23s\n",
      "948:\tlearn: 0.2489061\ttotal: 22.5s\tremaining: 1.21s\n",
      "949:\tlearn: 0.2486769\ttotal: 22.5s\tremaining: 1.18s\n",
      "950:\tlearn: 0.2486061\ttotal: 22.5s\tremaining: 1.16s\n",
      "951:\tlearn: 0.2485570\ttotal: 22.5s\tremaining: 1.14s\n",
      "952:\tlearn: 0.2484904\ttotal: 22.6s\tremaining: 1.11s\n",
      "953:\tlearn: 0.2483093\ttotal: 22.6s\tremaining: 1.09s\n",
      "954:\tlearn: 0.2482445\ttotal: 22.6s\tremaining: 1.06s\n",
      "955:\tlearn: 0.2481923\ttotal: 22.6s\tremaining: 1.04s\n",
      "956:\tlearn: 0.2479817\ttotal: 22.7s\tremaining: 1.02s\n",
      "957:\tlearn: 0.2479149\ttotal: 22.7s\tremaining: 995ms\n",
      "958:\tlearn: 0.2478311\ttotal: 22.7s\tremaining: 971ms\n",
      "959:\tlearn: 0.2477411\ttotal: 22.7s\tremaining: 948ms\n",
      "960:\tlearn: 0.2474663\ttotal: 22.8s\tremaining: 924ms\n",
      "961:\tlearn: 0.2472486\ttotal: 22.8s\tremaining: 900ms\n",
      "962:\tlearn: 0.2469719\ttotal: 22.8s\tremaining: 877ms\n",
      "963:\tlearn: 0.2469066\ttotal: 22.8s\tremaining: 853ms\n",
      "964:\tlearn: 0.2467588\ttotal: 22.9s\tremaining: 829ms\n",
      "965:\tlearn: 0.2465654\ttotal: 22.9s\tremaining: 806ms\n",
      "966:\tlearn: 0.2464987\ttotal: 22.9s\tremaining: 782ms\n",
      "967:\tlearn: 0.2464285\ttotal: 22.9s\tremaining: 758ms\n",
      "968:\tlearn: 0.2463399\ttotal: 23s\tremaining: 735ms\n",
      "969:\tlearn: 0.2462026\ttotal: 23s\tremaining: 711ms\n",
      "970:\tlearn: 0.2454475\ttotal: 23s\tremaining: 687ms\n",
      "971:\tlearn: 0.2453953\ttotal: 23s\tremaining: 664ms\n",
      "972:\tlearn: 0.2453258\ttotal: 23.1s\tremaining: 640ms\n",
      "973:\tlearn: 0.2450784\ttotal: 23.1s\tremaining: 616ms\n"
     ]
    },
    {
     "name": "stdout",
     "output_type": "stream",
     "text": [
      "974:\tlearn: 0.2450049\ttotal: 23.1s\tremaining: 593ms\n",
      "975:\tlearn: 0.2448989\ttotal: 23.1s\tremaining: 569ms\n",
      "976:\tlearn: 0.2448425\ttotal: 23.2s\tremaining: 545ms\n",
      "977:\tlearn: 0.2446933\ttotal: 23.2s\tremaining: 522ms\n",
      "978:\tlearn: 0.2446259\ttotal: 23.2s\tremaining: 498ms\n",
      "979:\tlearn: 0.2445065\ttotal: 23.2s\tremaining: 474ms\n",
      "980:\tlearn: 0.2444301\ttotal: 23.3s\tremaining: 450ms\n",
      "981:\tlearn: 0.2443713\ttotal: 23.3s\tremaining: 427ms\n",
      "982:\tlearn: 0.2443108\ttotal: 23.3s\tremaining: 403ms\n",
      "983:\tlearn: 0.2442570\ttotal: 23.3s\tremaining: 379ms\n",
      "984:\tlearn: 0.2441969\ttotal: 23.4s\tremaining: 356ms\n",
      "985:\tlearn: 0.2441542\ttotal: 23.4s\tremaining: 332ms\n",
      "986:\tlearn: 0.2440563\ttotal: 23.4s\tremaining: 308ms\n",
      "987:\tlearn: 0.2440000\ttotal: 23.4s\tremaining: 285ms\n",
      "988:\tlearn: 0.2439256\ttotal: 23.5s\tremaining: 261ms\n",
      "989:\tlearn: 0.2437902\ttotal: 23.5s\tremaining: 237ms\n",
      "990:\tlearn: 0.2435149\ttotal: 23.5s\tremaining: 213ms\n",
      "991:\tlearn: 0.2432741\ttotal: 23.5s\tremaining: 190ms\n",
      "992:\tlearn: 0.2431949\ttotal: 23.6s\tremaining: 166ms\n",
      "993:\tlearn: 0.2431368\ttotal: 23.6s\tremaining: 142ms\n",
      "994:\tlearn: 0.2430606\ttotal: 23.6s\tremaining: 119ms\n",
      "995:\tlearn: 0.2429283\ttotal: 23.6s\tremaining: 94.9ms\n",
      "996:\tlearn: 0.2428516\ttotal: 23.7s\tremaining: 71.2ms\n",
      "997:\tlearn: 0.2427916\ttotal: 23.7s\tremaining: 47.5ms\n",
      "998:\tlearn: 0.2427293\ttotal: 23.7s\tremaining: 23.7ms\n",
      "999:\tlearn: 0.2426709\ttotal: 23.7s\tremaining: 0us\n",
      "              precision    recall  f1-score   support\n",
      "\n",
      "           0       0.55      0.75      0.64       210\n",
      "           1       0.89      0.89      0.89       809\n",
      "           2       0.98      0.89      0.93       900\n",
      "\n",
      "    accuracy                           0.88      1919\n",
      "   macro avg       0.81      0.84      0.82      1919\n",
      "weighted avg       0.89      0.88      0.88      1919\n",
      "\n"
     ]
    }
   ],
   "source": [
    "pipe7 = Pipeline([\n",
    "                ('CountVectChar', CountVectorizer(ngram_range=(1, 1))),\n",
    "                ('CBC', CatBoostClassifier(learning_rate=0.6, depth=4, \n",
    "                                           loss_function='MultiClass')) \n",
    "                 ])\n",
    "pipe7.fit(X_train, y_train)\n",
    "y_pred7 = pipe7.predict(X_test)\n",
    "print(classification_report(y_pred7, y_test))"
   ]
  },
  {
   "cell_type": "markdown",
   "id": "6e194180",
   "metadata": {
    "papermill": {
     "duration": 0.149457,
     "end_time": "2022-03-16T19:26:26.917520",
     "exception": false,
     "start_time": "2022-03-16T19:26:26.768063",
     "status": "completed"
    },
    "tags": []
   },
   "source": [
    "## Восьмой способ - TfidfVectorizer  + CatBoostClassifier"
   ]
  },
  {
   "cell_type": "code",
   "execution_count": 16,
   "id": "52bbe05c",
   "metadata": {
    "execution": {
     "iopub.execute_input": "2022-03-16T19:26:27.197336Z",
     "iopub.status.busy": "2022-03-16T19:26:27.192229Z",
     "iopub.status.idle": "2022-03-16T19:27:16.867089Z",
     "shell.execute_reply": "2022-03-16T19:27:16.866490Z"
    },
    "papermill": {
     "duration": 49.83329,
     "end_time": "2022-03-16T19:27:16.867277",
     "exception": false,
     "start_time": "2022-03-16T19:26:27.033987",
     "status": "completed"
    },
    "tags": []
   },
   "outputs": [
    {
     "name": "stdout",
     "output_type": "stream",
     "text": [
      "0:\tlearn: 0.7462918\ttotal: 51.2ms\tremaining: 51.2s\n",
      "1:\tlearn: 0.6487639\ttotal: 88.5ms\tremaining: 44.2s\n",
      "2:\tlearn: 0.6007955\ttotal: 124ms\tremaining: 41.2s\n",
      "3:\tlearn: 0.5796553\ttotal: 159ms\tremaining: 39.7s\n",
      "4:\tlearn: 0.5571901\ttotal: 195ms\tremaining: 38.8s\n",
      "5:\tlearn: 0.5420226\ttotal: 230ms\tremaining: 38.1s\n",
      "6:\tlearn: 0.5232819\ttotal: 266ms\tremaining: 37.7s\n",
      "7:\tlearn: 0.5167080\ttotal: 304ms\tremaining: 37.7s\n",
      "8:\tlearn: 0.5047979\ttotal: 340ms\tremaining: 37.4s\n",
      "9:\tlearn: 0.5000584\ttotal: 377ms\tremaining: 37.3s\n",
      "10:\tlearn: 0.4940977\ttotal: 412ms\tremaining: 37.1s\n",
      "11:\tlearn: 0.4874800\ttotal: 448ms\tremaining: 36.9s\n",
      "12:\tlearn: 0.4844121\ttotal: 487ms\tremaining: 37s\n",
      "13:\tlearn: 0.4768626\ttotal: 523ms\tremaining: 36.9s\n",
      "14:\tlearn: 0.4745415\ttotal: 559ms\tremaining: 36.7s\n",
      "15:\tlearn: 0.4700309\ttotal: 595ms\tremaining: 36.6s\n",
      "16:\tlearn: 0.4666069\ttotal: 631ms\tremaining: 36.5s\n",
      "17:\tlearn: 0.4617081\ttotal: 666ms\tremaining: 36.4s\n",
      "18:\tlearn: 0.4550673\ttotal: 705ms\tremaining: 36.4s\n",
      "19:\tlearn: 0.4544401\ttotal: 740ms\tremaining: 36.2s\n",
      "20:\tlearn: 0.4514051\ttotal: 775ms\tremaining: 36.1s\n",
      "21:\tlearn: 0.4498677\ttotal: 811ms\tremaining: 36.1s\n",
      "22:\tlearn: 0.4469398\ttotal: 847ms\tremaining: 36s\n",
      "23:\tlearn: 0.4451769\ttotal: 881ms\tremaining: 35.8s\n",
      "24:\tlearn: 0.4430771\ttotal: 918ms\tremaining: 35.8s\n",
      "25:\tlearn: 0.4420635\ttotal: 955ms\tremaining: 35.8s\n",
      "26:\tlearn: 0.4413340\ttotal: 992ms\tremaining: 35.8s\n",
      "27:\tlearn: 0.4382646\ttotal: 1.03s\tremaining: 35.6s\n",
      "28:\tlearn: 0.4321179\ttotal: 1.06s\tremaining: 35.6s\n",
      "29:\tlearn: 0.4294345\ttotal: 1.1s\tremaining: 35.6s\n",
      "30:\tlearn: 0.4290802\ttotal: 1.14s\tremaining: 35.6s\n",
      "31:\tlearn: 0.4269563\ttotal: 1.17s\tremaining: 35.5s\n",
      "32:\tlearn: 0.4265954\ttotal: 1.21s\tremaining: 35.4s\n",
      "33:\tlearn: 0.4233215\ttotal: 1.25s\tremaining: 35.4s\n",
      "34:\tlearn: 0.4225741\ttotal: 1.28s\tremaining: 35.3s\n",
      "35:\tlearn: 0.4189619\ttotal: 1.31s\tremaining: 35.2s\n",
      "36:\tlearn: 0.4180691\ttotal: 1.35s\tremaining: 35.2s\n",
      "37:\tlearn: 0.4174753\ttotal: 1.39s\tremaining: 35.2s\n",
      "38:\tlearn: 0.4168524\ttotal: 1.43s\tremaining: 35.1s\n",
      "39:\tlearn: 0.4161594\ttotal: 1.46s\tremaining: 35.1s\n",
      "40:\tlearn: 0.4156482\ttotal: 1.5s\tremaining: 35s\n",
      "41:\tlearn: 0.4147515\ttotal: 1.53s\tremaining: 35s\n",
      "42:\tlearn: 0.4143698\ttotal: 1.57s\tremaining: 35s\n",
      "43:\tlearn: 0.4133443\ttotal: 1.61s\tremaining: 34.9s\n",
      "44:\tlearn: 0.4127518\ttotal: 1.64s\tremaining: 34.9s\n",
      "45:\tlearn: 0.4119010\ttotal: 1.68s\tremaining: 34.8s\n",
      "46:\tlearn: 0.4115087\ttotal: 1.72s\tremaining: 34.8s\n",
      "47:\tlearn: 0.4108983\ttotal: 1.75s\tremaining: 34.7s\n",
      "48:\tlearn: 0.4105042\ttotal: 1.79s\tremaining: 34.7s\n",
      "49:\tlearn: 0.4099412\ttotal: 1.83s\tremaining: 34.7s\n",
      "50:\tlearn: 0.4097599\ttotal: 1.86s\tremaining: 34.7s\n",
      "51:\tlearn: 0.4095998\ttotal: 1.9s\tremaining: 34.7s\n",
      "52:\tlearn: 0.4093374\ttotal: 1.94s\tremaining: 34.7s\n",
      "53:\tlearn: 0.4088523\ttotal: 1.98s\tremaining: 34.6s\n",
      "54:\tlearn: 0.4079190\ttotal: 2.01s\tremaining: 34.6s\n",
      "55:\tlearn: 0.4076773\ttotal: 2.05s\tremaining: 34.6s\n",
      "56:\tlearn: 0.4074729\ttotal: 2.08s\tremaining: 34.5s\n",
      "57:\tlearn: 0.4072707\ttotal: 2.12s\tremaining: 34.5s\n",
      "58:\tlearn: 0.4069082\ttotal: 2.16s\tremaining: 34.4s\n",
      "59:\tlearn: 0.4061404\ttotal: 2.19s\tremaining: 34.4s\n",
      "60:\tlearn: 0.4058509\ttotal: 2.23s\tremaining: 34.3s\n",
      "61:\tlearn: 0.4053688\ttotal: 2.27s\tremaining: 34.3s\n",
      "62:\tlearn: 0.4050711\ttotal: 2.31s\tremaining: 34.3s\n",
      "63:\tlearn: 0.4044240\ttotal: 2.34s\tremaining: 34.3s\n",
      "64:\tlearn: 0.4041285\ttotal: 2.38s\tremaining: 34.2s\n",
      "65:\tlearn: 0.4037345\ttotal: 2.41s\tremaining: 34.2s\n",
      "66:\tlearn: 0.4035667\ttotal: 2.45s\tremaining: 34.1s\n",
      "67:\tlearn: 0.4026493\ttotal: 2.49s\tremaining: 34.1s\n",
      "68:\tlearn: 0.4024056\ttotal: 2.52s\tremaining: 34s\n",
      "69:\tlearn: 0.4020984\ttotal: 2.56s\tremaining: 34s\n",
      "70:\tlearn: 0.4018792\ttotal: 2.59s\tremaining: 33.9s\n",
      "71:\tlearn: 0.4015923\ttotal: 2.63s\tremaining: 33.8s\n",
      "72:\tlearn: 0.4010715\ttotal: 2.66s\tremaining: 33.8s\n",
      "73:\tlearn: 0.4007040\ttotal: 2.7s\tremaining: 33.7s\n",
      "74:\tlearn: 0.4001885\ttotal: 2.73s\tremaining: 33.7s\n",
      "75:\tlearn: 0.4000414\ttotal: 2.77s\tremaining: 33.7s\n",
      "76:\tlearn: 0.3996640\ttotal: 2.8s\tremaining: 33.6s\n",
      "77:\tlearn: 0.3990333\ttotal: 2.84s\tremaining: 33.6s\n",
      "78:\tlearn: 0.3988520\ttotal: 2.88s\tremaining: 33.5s\n",
      "79:\tlearn: 0.3986582\ttotal: 2.91s\tremaining: 33.5s\n",
      "80:\tlearn: 0.3983408\ttotal: 2.95s\tremaining: 33.4s\n",
      "81:\tlearn: 0.3980962\ttotal: 2.98s\tremaining: 33.4s\n",
      "82:\tlearn: 0.3978300\ttotal: 3.02s\tremaining: 33.3s\n",
      "83:\tlearn: 0.3976096\ttotal: 3.05s\tremaining: 33.3s\n",
      "84:\tlearn: 0.3970185\ttotal: 3.09s\tremaining: 33.2s\n",
      "85:\tlearn: 0.3967804\ttotal: 3.13s\tremaining: 33.2s\n",
      "86:\tlearn: 0.3966258\ttotal: 3.16s\tremaining: 33.2s\n",
      "87:\tlearn: 0.3964209\ttotal: 3.2s\tremaining: 33.1s\n",
      "88:\tlearn: 0.3961744\ttotal: 3.23s\tremaining: 33.1s\n",
      "89:\tlearn: 0.3959591\ttotal: 3.27s\tremaining: 33.1s\n",
      "90:\tlearn: 0.3957460\ttotal: 3.3s\tremaining: 33s\n",
      "91:\tlearn: 0.3954669\ttotal: 3.34s\tremaining: 33s\n",
      "92:\tlearn: 0.3948399\ttotal: 3.38s\tremaining: 32.9s\n",
      "93:\tlearn: 0.3943163\ttotal: 3.41s\tremaining: 32.9s\n",
      "94:\tlearn: 0.3940383\ttotal: 3.45s\tremaining: 32.9s\n",
      "95:\tlearn: 0.3938542\ttotal: 3.49s\tremaining: 32.8s\n",
      "96:\tlearn: 0.3937060\ttotal: 3.52s\tremaining: 32.8s\n",
      "97:\tlearn: 0.3930290\ttotal: 3.56s\tremaining: 32.8s\n",
      "98:\tlearn: 0.3927615\ttotal: 3.6s\tremaining: 32.7s\n",
      "99:\tlearn: 0.3925839\ttotal: 3.63s\tremaining: 32.7s\n",
      "100:\tlearn: 0.3923462\ttotal: 3.67s\tremaining: 32.7s\n",
      "101:\tlearn: 0.3920739\ttotal: 3.7s\tremaining: 32.6s\n",
      "102:\tlearn: 0.3918339\ttotal: 3.74s\tremaining: 32.5s\n",
      "103:\tlearn: 0.3916747\ttotal: 3.77s\tremaining: 32.5s\n",
      "104:\tlearn: 0.3912647\ttotal: 3.81s\tremaining: 32.5s\n",
      "105:\tlearn: 0.3910589\ttotal: 3.85s\tremaining: 32.4s\n",
      "106:\tlearn: 0.3908762\ttotal: 3.88s\tremaining: 32.4s\n",
      "107:\tlearn: 0.3906898\ttotal: 3.91s\tremaining: 32.3s\n",
      "108:\tlearn: 0.3904651\ttotal: 3.95s\tremaining: 32.3s\n",
      "109:\tlearn: 0.3903216\ttotal: 3.98s\tremaining: 32.2s\n",
      "110:\tlearn: 0.3901814\ttotal: 4.02s\tremaining: 32.2s\n",
      "111:\tlearn: 0.3899312\ttotal: 4.06s\tremaining: 32.2s\n",
      "112:\tlearn: 0.3897127\ttotal: 4.09s\tremaining: 32.1s\n",
      "113:\tlearn: 0.3894761\ttotal: 4.13s\tremaining: 32.1s\n",
      "114:\tlearn: 0.3878750\ttotal: 4.17s\tremaining: 32.1s\n",
      "115:\tlearn: 0.3876485\ttotal: 4.2s\tremaining: 32s\n",
      "116:\tlearn: 0.3874735\ttotal: 4.24s\tremaining: 32s\n",
      "117:\tlearn: 0.3871082\ttotal: 4.28s\tremaining: 32s\n",
      "118:\tlearn: 0.3866458\ttotal: 4.31s\tremaining: 31.9s\n",
      "119:\tlearn: 0.3864893\ttotal: 4.34s\tremaining: 31.9s\n",
      "120:\tlearn: 0.3863009\ttotal: 4.38s\tremaining: 31.8s\n",
      "121:\tlearn: 0.3857118\ttotal: 4.42s\tremaining: 31.8s\n",
      "122:\tlearn: 0.3855762\ttotal: 4.45s\tremaining: 31.8s\n",
      "123:\tlearn: 0.3854506\ttotal: 4.49s\tremaining: 31.7s\n",
      "124:\tlearn: 0.3851111\ttotal: 4.53s\tremaining: 31.7s\n",
      "125:\tlearn: 0.3848911\ttotal: 4.56s\tremaining: 31.6s\n",
      "126:\tlearn: 0.3842424\ttotal: 4.59s\tremaining: 31.6s\n",
      "127:\tlearn: 0.3839375\ttotal: 4.63s\tremaining: 31.5s\n",
      "128:\tlearn: 0.3836281\ttotal: 4.67s\tremaining: 31.5s\n",
      "129:\tlearn: 0.3834883\ttotal: 4.7s\tremaining: 31.5s\n",
      "130:\tlearn: 0.3833393\ttotal: 4.74s\tremaining: 31.4s\n",
      "131:\tlearn: 0.3831665\ttotal: 4.77s\tremaining: 31.4s\n",
      "132:\tlearn: 0.3829987\ttotal: 4.81s\tremaining: 31.3s\n",
      "133:\tlearn: 0.3825907\ttotal: 4.85s\tremaining: 31.3s\n",
      "134:\tlearn: 0.3822741\ttotal: 4.88s\tremaining: 31.3s\n",
      "135:\tlearn: 0.3820820\ttotal: 4.92s\tremaining: 31.3s\n",
      "136:\tlearn: 0.3816801\ttotal: 4.96s\tremaining: 31.2s\n",
      "137:\tlearn: 0.3813071\ttotal: 4.99s\tremaining: 31.2s\n",
      "138:\tlearn: 0.3811004\ttotal: 5.03s\tremaining: 31.1s\n",
      "139:\tlearn: 0.3808401\ttotal: 5.06s\tremaining: 31.1s\n",
      "140:\tlearn: 0.3806021\ttotal: 5.11s\tremaining: 31.1s\n",
      "141:\tlearn: 0.3804326\ttotal: 5.14s\tremaining: 31.1s\n",
      "142:\tlearn: 0.3802802\ttotal: 5.17s\tremaining: 31s\n",
      "143:\tlearn: 0.3800927\ttotal: 5.21s\tremaining: 31s\n",
      "144:\tlearn: 0.3798691\ttotal: 5.24s\tremaining: 30.9s\n",
      "145:\tlearn: 0.3796597\ttotal: 5.28s\tremaining: 30.9s\n",
      "146:\tlearn: 0.3794996\ttotal: 5.32s\tremaining: 30.8s\n",
      "147:\tlearn: 0.3764257\ttotal: 5.35s\tremaining: 30.8s\n",
      "148:\tlearn: 0.3762462\ttotal: 5.38s\tremaining: 30.8s\n",
      "149:\tlearn: 0.3761064\ttotal: 5.42s\tremaining: 30.7s\n",
      "150:\tlearn: 0.3759579\ttotal: 5.45s\tremaining: 30.7s\n",
      "151:\tlearn: 0.3757926\ttotal: 5.49s\tremaining: 30.6s\n",
      "152:\tlearn: 0.3754606\ttotal: 5.53s\tremaining: 30.6s\n",
      "153:\tlearn: 0.3735643\ttotal: 5.56s\tremaining: 30.6s\n",
      "154:\tlearn: 0.3729946\ttotal: 5.6s\tremaining: 30.5s\n",
      "155:\tlearn: 0.3728250\ttotal: 5.63s\tremaining: 30.5s\n",
      "156:\tlearn: 0.3725232\ttotal: 5.67s\tremaining: 30.4s\n",
      "157:\tlearn: 0.3721520\ttotal: 5.7s\tremaining: 30.4s\n",
      "158:\tlearn: 0.3718386\ttotal: 5.74s\tremaining: 30.4s\n",
      "159:\tlearn: 0.3716486\ttotal: 5.77s\tremaining: 30.3s\n",
      "160:\tlearn: 0.3714954\ttotal: 5.81s\tremaining: 30.3s\n",
      "161:\tlearn: 0.3713583\ttotal: 5.84s\tremaining: 30.2s\n",
      "162:\tlearn: 0.3711184\ttotal: 5.88s\tremaining: 30.2s\n"
     ]
    },
    {
     "name": "stdout",
     "output_type": "stream",
     "text": [
      "163:\tlearn: 0.3709364\ttotal: 5.92s\tremaining: 30.2s\n",
      "164:\tlearn: 0.3707259\ttotal: 5.95s\tremaining: 30.1s\n",
      "165:\tlearn: 0.3705817\ttotal: 5.99s\tremaining: 30.1s\n",
      "166:\tlearn: 0.3700459\ttotal: 6.02s\tremaining: 30s\n",
      "167:\tlearn: 0.3698954\ttotal: 6.06s\tremaining: 30s\n",
      "168:\tlearn: 0.3697062\ttotal: 6.1s\tremaining: 30s\n",
      "169:\tlearn: 0.3694004\ttotal: 6.13s\tremaining: 29.9s\n",
      "170:\tlearn: 0.3690001\ttotal: 6.17s\tremaining: 29.9s\n",
      "171:\tlearn: 0.3688596\ttotal: 6.2s\tremaining: 29.9s\n",
      "172:\tlearn: 0.3687219\ttotal: 6.24s\tremaining: 29.8s\n",
      "173:\tlearn: 0.3654720\ttotal: 6.27s\tremaining: 29.8s\n",
      "174:\tlearn: 0.3652716\ttotal: 6.31s\tremaining: 29.7s\n",
      "175:\tlearn: 0.3650868\ttotal: 6.34s\tremaining: 29.7s\n",
      "176:\tlearn: 0.3648875\ttotal: 6.38s\tremaining: 29.7s\n",
      "177:\tlearn: 0.3644542\ttotal: 6.42s\tremaining: 29.6s\n",
      "178:\tlearn: 0.3626180\ttotal: 6.45s\tremaining: 29.6s\n",
      "179:\tlearn: 0.3624098\ttotal: 6.49s\tremaining: 29.5s\n",
      "180:\tlearn: 0.3621276\ttotal: 6.52s\tremaining: 29.5s\n",
      "181:\tlearn: 0.3619852\ttotal: 6.55s\tremaining: 29.5s\n",
      "182:\tlearn: 0.3617668\ttotal: 6.59s\tremaining: 29.4s\n",
      "183:\tlearn: 0.3615589\ttotal: 6.62s\tremaining: 29.4s\n",
      "184:\tlearn: 0.3613888\ttotal: 6.66s\tremaining: 29.3s\n",
      "185:\tlearn: 0.3608650\ttotal: 6.69s\tremaining: 29.3s\n",
      "186:\tlearn: 0.3606648\ttotal: 6.72s\tremaining: 29.2s\n",
      "187:\tlearn: 0.3604766\ttotal: 6.75s\tremaining: 29.2s\n",
      "188:\tlearn: 0.3602576\ttotal: 6.79s\tremaining: 29.1s\n",
      "189:\tlearn: 0.3598439\ttotal: 6.83s\tremaining: 29.1s\n",
      "190:\tlearn: 0.3595594\ttotal: 6.86s\tremaining: 29.1s\n",
      "191:\tlearn: 0.3593750\ttotal: 6.9s\tremaining: 29s\n",
      "192:\tlearn: 0.3591428\ttotal: 6.93s\tremaining: 29s\n",
      "193:\tlearn: 0.3589467\ttotal: 6.96s\tremaining: 28.9s\n",
      "194:\tlearn: 0.3587989\ttotal: 7s\tremaining: 28.9s\n",
      "195:\tlearn: 0.3586706\ttotal: 7.04s\tremaining: 28.9s\n",
      "196:\tlearn: 0.3585220\ttotal: 7.08s\tremaining: 28.9s\n",
      "197:\tlearn: 0.3582379\ttotal: 7.12s\tremaining: 28.8s\n",
      "198:\tlearn: 0.3580950\ttotal: 7.16s\tremaining: 28.8s\n",
      "199:\tlearn: 0.3579508\ttotal: 7.2s\tremaining: 28.8s\n",
      "200:\tlearn: 0.3577735\ttotal: 7.24s\tremaining: 28.8s\n",
      "201:\tlearn: 0.3575646\ttotal: 7.27s\tremaining: 28.7s\n",
      "202:\tlearn: 0.3573831\ttotal: 7.31s\tremaining: 28.7s\n",
      "203:\tlearn: 0.3572474\ttotal: 7.35s\tremaining: 28.7s\n",
      "204:\tlearn: 0.3570705\ttotal: 7.39s\tremaining: 28.6s\n",
      "205:\tlearn: 0.3569371\ttotal: 7.42s\tremaining: 28.6s\n",
      "206:\tlearn: 0.3567344\ttotal: 7.46s\tremaining: 28.6s\n",
      "207:\tlearn: 0.3565809\ttotal: 7.49s\tremaining: 28.5s\n",
      "208:\tlearn: 0.3564447\ttotal: 7.53s\tremaining: 28.5s\n",
      "209:\tlearn: 0.3557713\ttotal: 7.56s\tremaining: 28.4s\n",
      "210:\tlearn: 0.3550001\ttotal: 7.59s\tremaining: 28.4s\n",
      "211:\tlearn: 0.3548605\ttotal: 7.63s\tremaining: 28.4s\n",
      "212:\tlearn: 0.3547362\ttotal: 7.66s\tremaining: 28.3s\n",
      "213:\tlearn: 0.3545464\ttotal: 7.7s\tremaining: 28.3s\n",
      "214:\tlearn: 0.3543725\ttotal: 7.74s\tremaining: 28.3s\n",
      "215:\tlearn: 0.3542582\ttotal: 7.78s\tremaining: 28.2s\n",
      "216:\tlearn: 0.3541392\ttotal: 7.81s\tremaining: 28.2s\n",
      "217:\tlearn: 0.3531829\ttotal: 7.85s\tremaining: 28.1s\n",
      "218:\tlearn: 0.3530598\ttotal: 7.88s\tremaining: 28.1s\n",
      "219:\tlearn: 0.3529123\ttotal: 7.92s\tremaining: 28.1s\n",
      "220:\tlearn: 0.3527916\ttotal: 7.96s\tremaining: 28.1s\n",
      "221:\tlearn: 0.3520371\ttotal: 8s\tremaining: 28s\n",
      "222:\tlearn: 0.3517444\ttotal: 8.03s\tremaining: 28s\n",
      "223:\tlearn: 0.3516250\ttotal: 8.07s\tremaining: 27.9s\n",
      "224:\tlearn: 0.3513907\ttotal: 8.1s\tremaining: 27.9s\n",
      "225:\tlearn: 0.3513035\ttotal: 8.14s\tremaining: 27.9s\n",
      "226:\tlearn: 0.3510858\ttotal: 8.17s\tremaining: 27.8s\n",
      "227:\tlearn: 0.3509656\ttotal: 8.21s\tremaining: 27.8s\n",
      "228:\tlearn: 0.3507927\ttotal: 8.24s\tremaining: 27.8s\n",
      "229:\tlearn: 0.3506734\ttotal: 8.28s\tremaining: 27.7s\n",
      "230:\tlearn: 0.3503562\ttotal: 8.31s\tremaining: 27.7s\n",
      "231:\tlearn: 0.3502083\ttotal: 8.34s\tremaining: 27.6s\n",
      "232:\tlearn: 0.3497522\ttotal: 8.38s\tremaining: 27.6s\n",
      "233:\tlearn: 0.3495930\ttotal: 8.41s\tremaining: 27.5s\n",
      "234:\tlearn: 0.3493941\ttotal: 8.45s\tremaining: 27.5s\n",
      "235:\tlearn: 0.3489318\ttotal: 8.48s\tremaining: 27.5s\n",
      "236:\tlearn: 0.3487934\ttotal: 8.51s\tremaining: 27.4s\n",
      "237:\tlearn: 0.3486757\ttotal: 8.55s\tremaining: 27.4s\n",
      "238:\tlearn: 0.3484975\ttotal: 8.58s\tremaining: 27.3s\n",
      "239:\tlearn: 0.3483524\ttotal: 8.62s\tremaining: 27.3s\n",
      "240:\tlearn: 0.3481943\ttotal: 8.65s\tremaining: 27.2s\n",
      "241:\tlearn: 0.3480613\ttotal: 8.69s\tremaining: 27.2s\n",
      "242:\tlearn: 0.3478209\ttotal: 8.72s\tremaining: 27.2s\n",
      "243:\tlearn: 0.3475941\ttotal: 8.75s\tremaining: 27.1s\n",
      "244:\tlearn: 0.3473233\ttotal: 8.78s\tremaining: 27.1s\n",
      "245:\tlearn: 0.3471799\ttotal: 8.82s\tremaining: 27s\n",
      "246:\tlearn: 0.3468276\ttotal: 8.85s\tremaining: 27s\n",
      "247:\tlearn: 0.3466904\ttotal: 8.88s\tremaining: 26.9s\n",
      "248:\tlearn: 0.3465482\ttotal: 8.92s\tremaining: 26.9s\n",
      "249:\tlearn: 0.3463801\ttotal: 8.95s\tremaining: 26.9s\n",
      "250:\tlearn: 0.3462390\ttotal: 8.99s\tremaining: 26.8s\n",
      "251:\tlearn: 0.3460687\ttotal: 9.02s\tremaining: 26.8s\n",
      "252:\tlearn: 0.3447432\ttotal: 9.05s\tremaining: 26.7s\n",
      "253:\tlearn: 0.3445435\ttotal: 9.09s\tremaining: 26.7s\n",
      "254:\tlearn: 0.3444148\ttotal: 9.13s\tremaining: 26.7s\n",
      "255:\tlearn: 0.3442757\ttotal: 9.16s\tremaining: 26.6s\n",
      "256:\tlearn: 0.3441411\ttotal: 9.19s\tremaining: 26.6s\n",
      "257:\tlearn: 0.3438963\ttotal: 9.23s\tremaining: 26.5s\n",
      "258:\tlearn: 0.3437687\ttotal: 9.26s\tremaining: 26.5s\n",
      "259:\tlearn: 0.3434846\ttotal: 9.29s\tremaining: 26.5s\n",
      "260:\tlearn: 0.3433307\ttotal: 9.33s\tremaining: 26.4s\n",
      "261:\tlearn: 0.3431658\ttotal: 9.36s\tremaining: 26.4s\n",
      "262:\tlearn: 0.3429875\ttotal: 9.4s\tremaining: 26.3s\n",
      "263:\tlearn: 0.3428373\ttotal: 9.43s\tremaining: 26.3s\n",
      "264:\tlearn: 0.3426672\ttotal: 9.47s\tremaining: 26.3s\n",
      "265:\tlearn: 0.3424662\ttotal: 9.5s\tremaining: 26.2s\n",
      "266:\tlearn: 0.3423223\ttotal: 9.54s\tremaining: 26.2s\n",
      "267:\tlearn: 0.3420794\ttotal: 9.57s\tremaining: 26.1s\n",
      "268:\tlearn: 0.3419585\ttotal: 9.61s\tremaining: 26.1s\n",
      "269:\tlearn: 0.3418255\ttotal: 9.64s\tremaining: 26.1s\n",
      "270:\tlearn: 0.3417108\ttotal: 9.68s\tremaining: 26s\n",
      "271:\tlearn: 0.3415855\ttotal: 9.71s\tremaining: 26s\n",
      "272:\tlearn: 0.3412213\ttotal: 9.75s\tremaining: 26s\n",
      "273:\tlearn: 0.3410984\ttotal: 9.78s\tremaining: 25.9s\n",
      "274:\tlearn: 0.3409320\ttotal: 9.81s\tremaining: 25.9s\n",
      "275:\tlearn: 0.3404953\ttotal: 9.85s\tremaining: 25.8s\n",
      "276:\tlearn: 0.3403636\ttotal: 9.88s\tremaining: 25.8s\n",
      "277:\tlearn: 0.3401918\ttotal: 9.92s\tremaining: 25.8s\n",
      "278:\tlearn: 0.3397213\ttotal: 9.95s\tremaining: 25.7s\n",
      "279:\tlearn: 0.3395571\ttotal: 9.99s\tremaining: 25.7s\n",
      "280:\tlearn: 0.3393848\ttotal: 10s\tremaining: 25.6s\n",
      "281:\tlearn: 0.3392629\ttotal: 10.1s\tremaining: 25.6s\n",
      "282:\tlearn: 0.3389911\ttotal: 10.1s\tremaining: 25.6s\n",
      "283:\tlearn: 0.3388459\ttotal: 10.1s\tremaining: 25.5s\n",
      "284:\tlearn: 0.3386632\ttotal: 10.2s\tremaining: 25.5s\n",
      "285:\tlearn: 0.3385509\ttotal: 10.2s\tremaining: 25.5s\n",
      "286:\tlearn: 0.3384231\ttotal: 10.2s\tremaining: 25.4s\n",
      "287:\tlearn: 0.3382494\ttotal: 10.3s\tremaining: 25.4s\n",
      "288:\tlearn: 0.3380826\ttotal: 10.3s\tremaining: 25.4s\n",
      "289:\tlearn: 0.3379150\ttotal: 10.3s\tremaining: 25.3s\n",
      "290:\tlearn: 0.3376872\ttotal: 10.4s\tremaining: 25.3s\n",
      "291:\tlearn: 0.3375145\ttotal: 10.4s\tremaining: 25.2s\n",
      "292:\tlearn: 0.3373969\ttotal: 10.4s\tremaining: 25.2s\n",
      "293:\tlearn: 0.3372425\ttotal: 10.5s\tremaining: 25.2s\n",
      "294:\tlearn: 0.3370290\ttotal: 10.5s\tremaining: 25.1s\n",
      "295:\tlearn: 0.3368330\ttotal: 10.6s\tremaining: 25.1s\n",
      "296:\tlearn: 0.3366643\ttotal: 10.6s\tremaining: 25.1s\n",
      "297:\tlearn: 0.3365269\ttotal: 10.6s\tremaining: 25s\n",
      "298:\tlearn: 0.3364029\ttotal: 10.7s\tremaining: 25s\n",
      "299:\tlearn: 0.3362632\ttotal: 10.7s\tremaining: 25s\n",
      "300:\tlearn: 0.3359992\ttotal: 10.7s\tremaining: 24.9s\n",
      "301:\tlearn: 0.3358718\ttotal: 10.8s\tremaining: 24.9s\n",
      "302:\tlearn: 0.3357335\ttotal: 10.8s\tremaining: 24.8s\n",
      "303:\tlearn: 0.3355823\ttotal: 10.8s\tremaining: 24.8s\n",
      "304:\tlearn: 0.3354136\ttotal: 10.9s\tremaining: 24.8s\n",
      "305:\tlearn: 0.3352488\ttotal: 10.9s\tremaining: 24.7s\n",
      "306:\tlearn: 0.3351047\ttotal: 10.9s\tremaining: 24.7s\n",
      "307:\tlearn: 0.3345585\ttotal: 11s\tremaining: 24.6s\n",
      "308:\tlearn: 0.3343812\ttotal: 11s\tremaining: 24.6s\n",
      "309:\tlearn: 0.3342636\ttotal: 11s\tremaining: 24.6s\n",
      "310:\tlearn: 0.3340380\ttotal: 11.1s\tremaining: 24.5s\n",
      "311:\tlearn: 0.3339284\ttotal: 11.1s\tremaining: 24.5s\n",
      "312:\tlearn: 0.3337354\ttotal: 11.1s\tremaining: 24.5s\n",
      "313:\tlearn: 0.3335943\ttotal: 11.2s\tremaining: 24.4s\n",
      "314:\tlearn: 0.3334748\ttotal: 11.2s\tremaining: 24.4s\n",
      "315:\tlearn: 0.3333697\ttotal: 11.2s\tremaining: 24.3s\n",
      "316:\tlearn: 0.3331484\ttotal: 11.3s\tremaining: 24.3s\n",
      "317:\tlearn: 0.3328648\ttotal: 11.3s\tremaining: 24.3s\n",
      "318:\tlearn: 0.3326945\ttotal: 11.3s\tremaining: 24.2s\n",
      "319:\tlearn: 0.3324769\ttotal: 11.4s\tremaining: 24.2s\n",
      "320:\tlearn: 0.3323429\ttotal: 11.4s\tremaining: 24.2s\n",
      "321:\tlearn: 0.3322169\ttotal: 11.5s\tremaining: 24.1s\n",
      "322:\tlearn: 0.3319862\ttotal: 11.5s\tremaining: 24.1s\n",
      "323:\tlearn: 0.3317424\ttotal: 11.5s\tremaining: 24.1s\n",
      "324:\tlearn: 0.3315168\ttotal: 11.6s\tremaining: 24s\n"
     ]
    },
    {
     "name": "stdout",
     "output_type": "stream",
     "text": [
      "325:\tlearn: 0.3313905\ttotal: 11.6s\tremaining: 24s\n",
      "326:\tlearn: 0.3312610\ttotal: 11.6s\tremaining: 23.9s\n",
      "327:\tlearn: 0.3311338\ttotal: 11.7s\tremaining: 23.9s\n",
      "328:\tlearn: 0.3307360\ttotal: 11.7s\tremaining: 23.9s\n",
      "329:\tlearn: 0.3306010\ttotal: 11.7s\tremaining: 23.8s\n",
      "330:\tlearn: 0.3303891\ttotal: 11.8s\tremaining: 23.8s\n",
      "331:\tlearn: 0.3302154\ttotal: 11.8s\tremaining: 23.7s\n",
      "332:\tlearn: 0.3301066\ttotal: 11.8s\tremaining: 23.7s\n",
      "333:\tlearn: 0.3299370\ttotal: 11.9s\tremaining: 23.7s\n",
      "334:\tlearn: 0.3297101\ttotal: 11.9s\tremaining: 23.6s\n",
      "335:\tlearn: 0.3295688\ttotal: 11.9s\tremaining: 23.6s\n",
      "336:\tlearn: 0.3294097\ttotal: 12s\tremaining: 23.6s\n",
      "337:\tlearn: 0.3291389\ttotal: 12s\tremaining: 23.5s\n",
      "338:\tlearn: 0.3290156\ttotal: 12s\tremaining: 23.5s\n",
      "339:\tlearn: 0.3288439\ttotal: 12.1s\tremaining: 23.4s\n",
      "340:\tlearn: 0.3287360\ttotal: 12.1s\tremaining: 23.4s\n",
      "341:\tlearn: 0.3285496\ttotal: 12.1s\tremaining: 23.4s\n",
      "342:\tlearn: 0.3282455\ttotal: 12.2s\tremaining: 23.3s\n",
      "343:\tlearn: 0.3281063\ttotal: 12.2s\tremaining: 23.3s\n",
      "344:\tlearn: 0.3279604\ttotal: 12.3s\tremaining: 23.3s\n",
      "345:\tlearn: 0.3264673\ttotal: 12.3s\tremaining: 23.2s\n",
      "346:\tlearn: 0.3261547\ttotal: 12.3s\tremaining: 23.2s\n",
      "347:\tlearn: 0.3259564\ttotal: 12.4s\tremaining: 23.1s\n",
      "348:\tlearn: 0.3258200\ttotal: 12.4s\tremaining: 23.1s\n",
      "349:\tlearn: 0.3256092\ttotal: 12.4s\tremaining: 23.1s\n",
      "350:\tlearn: 0.3251301\ttotal: 12.4s\tremaining: 23s\n",
      "351:\tlearn: 0.3249114\ttotal: 12.5s\tremaining: 23s\n",
      "352:\tlearn: 0.3247272\ttotal: 12.5s\tremaining: 22.9s\n",
      "353:\tlearn: 0.3246088\ttotal: 12.5s\tremaining: 22.9s\n",
      "354:\tlearn: 0.3242331\ttotal: 12.6s\tremaining: 22.9s\n",
      "355:\tlearn: 0.3241348\ttotal: 12.6s\tremaining: 22.8s\n",
      "356:\tlearn: 0.3240117\ttotal: 12.6s\tremaining: 22.8s\n",
      "357:\tlearn: 0.3238788\ttotal: 12.7s\tremaining: 22.7s\n",
      "358:\tlearn: 0.3237620\ttotal: 12.7s\tremaining: 22.7s\n",
      "359:\tlearn: 0.3236528\ttotal: 12.7s\tremaining: 22.7s\n",
      "360:\tlearn: 0.3235341\ttotal: 12.8s\tremaining: 22.6s\n",
      "361:\tlearn: 0.3220172\ttotal: 12.8s\tremaining: 22.6s\n",
      "362:\tlearn: 0.3218873\ttotal: 12.8s\tremaining: 22.5s\n",
      "363:\tlearn: 0.3217516\ttotal: 12.9s\tremaining: 22.5s\n",
      "364:\tlearn: 0.3216331\ttotal: 12.9s\tremaining: 22.5s\n",
      "365:\tlearn: 0.3215041\ttotal: 12.9s\tremaining: 22.4s\n",
      "366:\tlearn: 0.3213700\ttotal: 13s\tremaining: 22.4s\n",
      "367:\tlearn: 0.3212415\ttotal: 13s\tremaining: 22.4s\n",
      "368:\tlearn: 0.3211320\ttotal: 13.1s\tremaining: 22.3s\n",
      "369:\tlearn: 0.3210321\ttotal: 13.1s\tremaining: 22.3s\n",
      "370:\tlearn: 0.3208481\ttotal: 13.1s\tremaining: 22.2s\n",
      "371:\tlearn: 0.3206858\ttotal: 13.2s\tremaining: 22.2s\n",
      "372:\tlearn: 0.3205348\ttotal: 13.2s\tremaining: 22.2s\n",
      "373:\tlearn: 0.3204172\ttotal: 13.2s\tremaining: 22.1s\n",
      "374:\tlearn: 0.3203082\ttotal: 13.3s\tremaining: 22.1s\n",
      "375:\tlearn: 0.3200753\ttotal: 13.3s\tremaining: 22.1s\n",
      "376:\tlearn: 0.3199444\ttotal: 13.3s\tremaining: 22s\n",
      "377:\tlearn: 0.3198242\ttotal: 13.4s\tremaining: 22s\n",
      "378:\tlearn: 0.3197082\ttotal: 13.4s\tremaining: 22s\n",
      "379:\tlearn: 0.3195860\ttotal: 13.4s\tremaining: 21.9s\n",
      "380:\tlearn: 0.3194572\ttotal: 13.5s\tremaining: 21.9s\n",
      "381:\tlearn: 0.3193326\ttotal: 13.5s\tremaining: 21.8s\n",
      "382:\tlearn: 0.3192183\ttotal: 13.5s\tremaining: 21.8s\n",
      "383:\tlearn: 0.3189627\ttotal: 13.6s\tremaining: 21.8s\n",
      "384:\tlearn: 0.3188475\ttotal: 13.6s\tremaining: 21.7s\n",
      "385:\tlearn: 0.3186849\ttotal: 13.6s\tremaining: 21.7s\n",
      "386:\tlearn: 0.3185629\ttotal: 13.7s\tremaining: 21.7s\n",
      "387:\tlearn: 0.3184549\ttotal: 13.7s\tremaining: 21.6s\n",
      "388:\tlearn: 0.3182921\ttotal: 13.7s\tremaining: 21.6s\n",
      "389:\tlearn: 0.3181794\ttotal: 13.8s\tremaining: 21.5s\n",
      "390:\tlearn: 0.3180610\ttotal: 13.8s\tremaining: 21.5s\n",
      "391:\tlearn: 0.3179262\ttotal: 13.8s\tremaining: 21.5s\n",
      "392:\tlearn: 0.3176415\ttotal: 13.9s\tremaining: 21.4s\n",
      "393:\tlearn: 0.3175423\ttotal: 13.9s\tremaining: 21.4s\n",
      "394:\tlearn: 0.3173808\ttotal: 13.9s\tremaining: 21.4s\n",
      "395:\tlearn: 0.3172562\ttotal: 14s\tremaining: 21.3s\n",
      "396:\tlearn: 0.3170980\ttotal: 14s\tremaining: 21.3s\n",
      "397:\tlearn: 0.3169724\ttotal: 14s\tremaining: 21.2s\n",
      "398:\tlearn: 0.3168697\ttotal: 14.1s\tremaining: 21.2s\n",
      "399:\tlearn: 0.3166695\ttotal: 14.1s\tremaining: 21.2s\n",
      "400:\tlearn: 0.3165508\ttotal: 14.1s\tremaining: 21.1s\n",
      "401:\tlearn: 0.3164474\ttotal: 14.2s\tremaining: 21.1s\n",
      "402:\tlearn: 0.3163353\ttotal: 14.2s\tremaining: 21s\n",
      "403:\tlearn: 0.3161367\ttotal: 14.2s\tremaining: 21s\n",
      "404:\tlearn: 0.3159415\ttotal: 14.3s\tremaining: 21s\n",
      "405:\tlearn: 0.3154044\ttotal: 14.3s\tremaining: 20.9s\n",
      "406:\tlearn: 0.3152804\ttotal: 14.3s\tremaining: 20.9s\n",
      "407:\tlearn: 0.3150524\ttotal: 14.4s\tremaining: 20.9s\n",
      "408:\tlearn: 0.3149382\ttotal: 14.4s\tremaining: 20.8s\n",
      "409:\tlearn: 0.3148338\ttotal: 14.4s\tremaining: 20.8s\n",
      "410:\tlearn: 0.3147448\ttotal: 14.5s\tremaining: 20.7s\n",
      "411:\tlearn: 0.3146312\ttotal: 14.5s\tremaining: 20.7s\n",
      "412:\tlearn: 0.3145346\ttotal: 14.5s\tremaining: 20.7s\n",
      "413:\tlearn: 0.3144141\ttotal: 14.6s\tremaining: 20.6s\n",
      "414:\tlearn: 0.3142945\ttotal: 14.6s\tremaining: 20.6s\n",
      "415:\tlearn: 0.3141857\ttotal: 14.6s\tremaining: 20.6s\n",
      "416:\tlearn: 0.3140507\ttotal: 14.7s\tremaining: 20.5s\n",
      "417:\tlearn: 0.3139526\ttotal: 14.7s\tremaining: 20.5s\n",
      "418:\tlearn: 0.3137928\ttotal: 14.8s\tremaining: 20.5s\n",
      "419:\tlearn: 0.3136818\ttotal: 14.8s\tremaining: 20.4s\n",
      "420:\tlearn: 0.3135351\ttotal: 14.8s\tremaining: 20.4s\n",
      "421:\tlearn: 0.3134244\ttotal: 14.9s\tremaining: 20.3s\n",
      "422:\tlearn: 0.3132499\ttotal: 14.9s\tremaining: 20.3s\n",
      "423:\tlearn: 0.3131502\ttotal: 14.9s\tremaining: 20.3s\n",
      "424:\tlearn: 0.3130033\ttotal: 15s\tremaining: 20.2s\n",
      "425:\tlearn: 0.3128855\ttotal: 15s\tremaining: 20.2s\n",
      "426:\tlearn: 0.3127832\ttotal: 15s\tremaining: 20.2s\n",
      "427:\tlearn: 0.3126155\ttotal: 15.1s\tremaining: 20.1s\n",
      "428:\tlearn: 0.3125101\ttotal: 15.1s\tremaining: 20.1s\n",
      "429:\tlearn: 0.3123865\ttotal: 15.1s\tremaining: 20s\n",
      "430:\tlearn: 0.3111534\ttotal: 15.2s\tremaining: 20s\n",
      "431:\tlearn: 0.3109815\ttotal: 15.2s\tremaining: 20s\n",
      "432:\tlearn: 0.3105520\ttotal: 15.2s\tremaining: 19.9s\n",
      "433:\tlearn: 0.3104023\ttotal: 15.3s\tremaining: 19.9s\n",
      "434:\tlearn: 0.3102769\ttotal: 15.3s\tremaining: 19.9s\n",
      "435:\tlearn: 0.3100986\ttotal: 15.3s\tremaining: 19.8s\n",
      "436:\tlearn: 0.3099593\ttotal: 15.3s\tremaining: 19.8s\n",
      "437:\tlearn: 0.3097437\ttotal: 15.4s\tremaining: 19.7s\n",
      "438:\tlearn: 0.3096198\ttotal: 15.4s\tremaining: 19.7s\n",
      "439:\tlearn: 0.3094944\ttotal: 15.5s\tremaining: 19.7s\n",
      "440:\tlearn: 0.3093453\ttotal: 15.5s\tremaining: 19.6s\n",
      "441:\tlearn: 0.3092003\ttotal: 15.5s\tremaining: 19.6s\n",
      "442:\tlearn: 0.3090591\ttotal: 15.6s\tremaining: 19.6s\n",
      "443:\tlearn: 0.3088950\ttotal: 15.6s\tremaining: 19.5s\n",
      "444:\tlearn: 0.3086686\ttotal: 15.6s\tremaining: 19.5s\n",
      "445:\tlearn: 0.3085542\ttotal: 15.7s\tremaining: 19.4s\n",
      "446:\tlearn: 0.3084464\ttotal: 15.7s\tremaining: 19.4s\n",
      "447:\tlearn: 0.3083309\ttotal: 15.7s\tremaining: 19.4s\n",
      "448:\tlearn: 0.3081897\ttotal: 15.8s\tremaining: 19.3s\n",
      "449:\tlearn: 0.3080909\ttotal: 15.8s\tremaining: 19.3s\n",
      "450:\tlearn: 0.3079376\ttotal: 15.8s\tremaining: 19.3s\n",
      "451:\tlearn: 0.3077470\ttotal: 15.9s\tremaining: 19.2s\n",
      "452:\tlearn: 0.3076466\ttotal: 15.9s\tremaining: 19.2s\n",
      "453:\tlearn: 0.3075364\ttotal: 15.9s\tremaining: 19.1s\n",
      "454:\tlearn: 0.3073978\ttotal: 15.9s\tremaining: 19.1s\n",
      "455:\tlearn: 0.3072939\ttotal: 16s\tremaining: 19.1s\n",
      "456:\tlearn: 0.3069515\ttotal: 16s\tremaining: 19s\n",
      "457:\tlearn: 0.3068276\ttotal: 16s\tremaining: 19s\n",
      "458:\tlearn: 0.3067222\ttotal: 16.1s\tremaining: 19s\n",
      "459:\tlearn: 0.3065825\ttotal: 16.1s\tremaining: 18.9s\n",
      "460:\tlearn: 0.3064858\ttotal: 16.1s\tremaining: 18.9s\n",
      "461:\tlearn: 0.3063151\ttotal: 16.2s\tremaining: 18.8s\n",
      "462:\tlearn: 0.3059123\ttotal: 16.2s\tremaining: 18.8s\n",
      "463:\tlearn: 0.3057888\ttotal: 16.2s\tremaining: 18.8s\n",
      "464:\tlearn: 0.3056292\ttotal: 16.3s\tremaining: 18.7s\n",
      "465:\tlearn: 0.3055111\ttotal: 16.3s\tremaining: 18.7s\n",
      "466:\tlearn: 0.3053151\ttotal: 16.3s\tremaining: 18.7s\n",
      "467:\tlearn: 0.3052090\ttotal: 16.4s\tremaining: 18.6s\n",
      "468:\tlearn: 0.3051015\ttotal: 16.4s\tremaining: 18.6s\n",
      "469:\tlearn: 0.3050046\ttotal: 16.4s\tremaining: 18.5s\n",
      "470:\tlearn: 0.3049069\ttotal: 16.5s\tremaining: 18.5s\n",
      "471:\tlearn: 0.3047451\ttotal: 16.5s\tremaining: 18.5s\n",
      "472:\tlearn: 0.3046042\ttotal: 16.5s\tremaining: 18.4s\n",
      "473:\tlearn: 0.3045023\ttotal: 16.6s\tremaining: 18.4s\n",
      "474:\tlearn: 0.3043997\ttotal: 16.6s\tremaining: 18.4s\n",
      "475:\tlearn: 0.3043072\ttotal: 16.6s\tremaining: 18.3s\n",
      "476:\tlearn: 0.3038673\ttotal: 16.7s\tremaining: 18.3s\n",
      "477:\tlearn: 0.3037204\ttotal: 16.7s\tremaining: 18.2s\n",
      "478:\tlearn: 0.3033558\ttotal: 16.7s\tremaining: 18.2s\n",
      "479:\tlearn: 0.3031910\ttotal: 16.8s\tremaining: 18.2s\n",
      "480:\tlearn: 0.3030326\ttotal: 16.8s\tremaining: 18.1s\n",
      "481:\tlearn: 0.3029237\ttotal: 16.8s\tremaining: 18.1s\n",
      "482:\tlearn: 0.3028109\ttotal: 16.9s\tremaining: 18.1s\n",
      "483:\tlearn: 0.3027119\ttotal: 16.9s\tremaining: 18s\n",
      "484:\tlearn: 0.3024305\ttotal: 16.9s\tremaining: 18s\n"
     ]
    },
    {
     "name": "stdout",
     "output_type": "stream",
     "text": [
      "485:\tlearn: 0.3022979\ttotal: 17s\tremaining: 18s\n",
      "486:\tlearn: 0.3021503\ttotal: 17s\tremaining: 17.9s\n",
      "487:\tlearn: 0.3020648\ttotal: 17s\tremaining: 17.9s\n",
      "488:\tlearn: 0.3019122\ttotal: 17.1s\tremaining: 17.8s\n",
      "489:\tlearn: 0.3016957\ttotal: 17.1s\tremaining: 17.8s\n",
      "490:\tlearn: 0.3015975\ttotal: 17.1s\tremaining: 17.8s\n",
      "491:\tlearn: 0.3014624\ttotal: 17.2s\tremaining: 17.7s\n",
      "492:\tlearn: 0.3012916\ttotal: 17.2s\tremaining: 17.7s\n",
      "493:\tlearn: 0.2996661\ttotal: 17.2s\tremaining: 17.7s\n",
      "494:\tlearn: 0.2995195\ttotal: 17.3s\tremaining: 17.6s\n",
      "495:\tlearn: 0.2993058\ttotal: 17.3s\tremaining: 17.6s\n",
      "496:\tlearn: 0.2990932\ttotal: 17.3s\tremaining: 17.5s\n",
      "497:\tlearn: 0.2989364\ttotal: 17.4s\tremaining: 17.5s\n",
      "498:\tlearn: 0.2987806\ttotal: 17.4s\tremaining: 17.5s\n",
      "499:\tlearn: 0.2980999\ttotal: 17.4s\tremaining: 17.4s\n",
      "500:\tlearn: 0.2979878\ttotal: 17.5s\tremaining: 17.4s\n",
      "501:\tlearn: 0.2978664\ttotal: 17.5s\tremaining: 17.4s\n",
      "502:\tlearn: 0.2977726\ttotal: 17.5s\tremaining: 17.3s\n",
      "503:\tlearn: 0.2976715\ttotal: 17.6s\tremaining: 17.3s\n",
      "504:\tlearn: 0.2972202\ttotal: 17.6s\tremaining: 17.3s\n",
      "505:\tlearn: 0.2971057\ttotal: 17.6s\tremaining: 17.2s\n",
      "506:\tlearn: 0.2970030\ttotal: 17.7s\tremaining: 17.2s\n",
      "507:\tlearn: 0.2968939\ttotal: 17.7s\tremaining: 17.1s\n",
      "508:\tlearn: 0.2967193\ttotal: 17.7s\tremaining: 17.1s\n",
      "509:\tlearn: 0.2962764\ttotal: 17.8s\tremaining: 17.1s\n",
      "510:\tlearn: 0.2961226\ttotal: 17.8s\tremaining: 17s\n",
      "511:\tlearn: 0.2960107\ttotal: 17.8s\tremaining: 17s\n",
      "512:\tlearn: 0.2958911\ttotal: 17.9s\tremaining: 17s\n",
      "513:\tlearn: 0.2956750\ttotal: 17.9s\tremaining: 16.9s\n",
      "514:\tlearn: 0.2955237\ttotal: 17.9s\tremaining: 16.9s\n",
      "515:\tlearn: 0.2954270\ttotal: 18s\tremaining: 16.9s\n",
      "516:\tlearn: 0.2953103\ttotal: 18s\tremaining: 16.8s\n",
      "517:\tlearn: 0.2951978\ttotal: 18s\tremaining: 16.8s\n",
      "518:\tlearn: 0.2950915\ttotal: 18.1s\tremaining: 16.7s\n",
      "519:\tlearn: 0.2949379\ttotal: 18.1s\tremaining: 16.7s\n",
      "520:\tlearn: 0.2948397\ttotal: 18.1s\tremaining: 16.7s\n",
      "521:\tlearn: 0.2946627\ttotal: 18.2s\tremaining: 16.6s\n",
      "522:\tlearn: 0.2945744\ttotal: 18.2s\tremaining: 16.6s\n",
      "523:\tlearn: 0.2944639\ttotal: 18.2s\tremaining: 16.6s\n",
      "524:\tlearn: 0.2943675\ttotal: 18.3s\tremaining: 16.5s\n",
      "525:\tlearn: 0.2941063\ttotal: 18.3s\tremaining: 16.5s\n",
      "526:\tlearn: 0.2938647\ttotal: 18.3s\tremaining: 16.5s\n",
      "527:\tlearn: 0.2937394\ttotal: 18.4s\tremaining: 16.4s\n",
      "528:\tlearn: 0.2936109\ttotal: 18.4s\tremaining: 16.4s\n",
      "529:\tlearn: 0.2935154\ttotal: 18.4s\tremaining: 16.3s\n",
      "530:\tlearn: 0.2934084\ttotal: 18.5s\tremaining: 16.3s\n",
      "531:\tlearn: 0.2932107\ttotal: 18.5s\tremaining: 16.3s\n",
      "532:\tlearn: 0.2930730\ttotal: 18.5s\tremaining: 16.2s\n",
      "533:\tlearn: 0.2929860\ttotal: 18.6s\tremaining: 16.2s\n",
      "534:\tlearn: 0.2928766\ttotal: 18.6s\tremaining: 16.2s\n",
      "535:\tlearn: 0.2922461\ttotal: 18.6s\tremaining: 16.1s\n",
      "536:\tlearn: 0.2913256\ttotal: 18.7s\tremaining: 16.1s\n",
      "537:\tlearn: 0.2912097\ttotal: 18.7s\tremaining: 16.1s\n",
      "538:\tlearn: 0.2910780\ttotal: 18.7s\tremaining: 16s\n",
      "539:\tlearn: 0.2909476\ttotal: 18.8s\tremaining: 16s\n",
      "540:\tlearn: 0.2908315\ttotal: 18.8s\tremaining: 16s\n",
      "541:\tlearn: 0.2906976\ttotal: 18.8s\tremaining: 15.9s\n",
      "542:\tlearn: 0.2903088\ttotal: 18.9s\tremaining: 15.9s\n",
      "543:\tlearn: 0.2902016\ttotal: 18.9s\tremaining: 15.8s\n",
      "544:\tlearn: 0.2900636\ttotal: 18.9s\tremaining: 15.8s\n",
      "545:\tlearn: 0.2899660\ttotal: 19s\tremaining: 15.8s\n",
      "546:\tlearn: 0.2898580\ttotal: 19s\tremaining: 15.7s\n",
      "547:\tlearn: 0.2897493\ttotal: 19s\tremaining: 15.7s\n",
      "548:\tlearn: 0.2896421\ttotal: 19.1s\tremaining: 15.7s\n",
      "549:\tlearn: 0.2895573\ttotal: 19.1s\tremaining: 15.6s\n",
      "550:\tlearn: 0.2894534\ttotal: 19.1s\tremaining: 15.6s\n",
      "551:\tlearn: 0.2893599\ttotal: 19.2s\tremaining: 15.6s\n",
      "552:\tlearn: 0.2892651\ttotal: 19.2s\tremaining: 15.5s\n",
      "553:\tlearn: 0.2891312\ttotal: 19.2s\tremaining: 15.5s\n",
      "554:\tlearn: 0.2889980\ttotal: 19.3s\tremaining: 15.5s\n",
      "555:\tlearn: 0.2889044\ttotal: 19.3s\tremaining: 15.4s\n",
      "556:\tlearn: 0.2887864\ttotal: 19.4s\tremaining: 15.4s\n",
      "557:\tlearn: 0.2882366\ttotal: 19.4s\tremaining: 15.4s\n",
      "558:\tlearn: 0.2881078\ttotal: 19.4s\tremaining: 15.3s\n",
      "559:\tlearn: 0.2879713\ttotal: 19.5s\tremaining: 15.3s\n",
      "560:\tlearn: 0.2878347\ttotal: 19.5s\tremaining: 15.2s\n",
      "561:\tlearn: 0.2876732\ttotal: 19.5s\tremaining: 15.2s\n",
      "562:\tlearn: 0.2875436\ttotal: 19.6s\tremaining: 15.2s\n",
      "563:\tlearn: 0.2874290\ttotal: 19.6s\tremaining: 15.1s\n",
      "564:\tlearn: 0.2873288\ttotal: 19.6s\tremaining: 15.1s\n",
      "565:\tlearn: 0.2871959\ttotal: 19.7s\tremaining: 15.1s\n",
      "566:\tlearn: 0.2870630\ttotal: 19.7s\tremaining: 15s\n",
      "567:\tlearn: 0.2869585\ttotal: 19.7s\tremaining: 15s\n",
      "568:\tlearn: 0.2867671\ttotal: 19.8s\tremaining: 15s\n",
      "569:\tlearn: 0.2859459\ttotal: 19.8s\tremaining: 14.9s\n",
      "570:\tlearn: 0.2857368\ttotal: 19.8s\tremaining: 14.9s\n",
      "571:\tlearn: 0.2855907\ttotal: 19.9s\tremaining: 14.9s\n",
      "572:\tlearn: 0.2854679\ttotal: 19.9s\tremaining: 14.8s\n",
      "573:\tlearn: 0.2853331\ttotal: 19.9s\tremaining: 14.8s\n",
      "574:\tlearn: 0.2850605\ttotal: 20s\tremaining: 14.8s\n",
      "575:\tlearn: 0.2849354\ttotal: 20s\tremaining: 14.7s\n",
      "576:\tlearn: 0.2847813\ttotal: 20s\tremaining: 14.7s\n",
      "577:\tlearn: 0.2847033\ttotal: 20.1s\tremaining: 14.6s\n",
      "578:\tlearn: 0.2845988\ttotal: 20.1s\tremaining: 14.6s\n",
      "579:\tlearn: 0.2837979\ttotal: 20.1s\tremaining: 14.6s\n",
      "580:\tlearn: 0.2836869\ttotal: 20.2s\tremaining: 14.5s\n",
      "581:\tlearn: 0.2835560\ttotal: 20.2s\tremaining: 14.5s\n",
      "582:\tlearn: 0.2834077\ttotal: 20.2s\tremaining: 14.5s\n",
      "583:\tlearn: 0.2832805\ttotal: 20.3s\tremaining: 14.4s\n",
      "584:\tlearn: 0.2830893\ttotal: 20.3s\tremaining: 14.4s\n",
      "585:\tlearn: 0.2830002\ttotal: 20.3s\tremaining: 14.4s\n",
      "586:\tlearn: 0.2828926\ttotal: 20.4s\tremaining: 14.3s\n",
      "587:\tlearn: 0.2826089\ttotal: 20.4s\tremaining: 14.3s\n",
      "588:\tlearn: 0.2824251\ttotal: 20.4s\tremaining: 14.3s\n",
      "589:\tlearn: 0.2823260\ttotal: 20.5s\tremaining: 14.2s\n",
      "590:\tlearn: 0.2822301\ttotal: 20.5s\tremaining: 14.2s\n",
      "591:\tlearn: 0.2820939\ttotal: 20.5s\tremaining: 14.1s\n",
      "592:\tlearn: 0.2819995\ttotal: 20.6s\tremaining: 14.1s\n",
      "593:\tlearn: 0.2818063\ttotal: 20.6s\tremaining: 14.1s\n",
      "594:\tlearn: 0.2816984\ttotal: 20.6s\tremaining: 14s\n",
      "595:\tlearn: 0.2815509\ttotal: 20.7s\tremaining: 14s\n",
      "596:\tlearn: 0.2814370\ttotal: 20.7s\tremaining: 14s\n",
      "597:\tlearn: 0.2813338\ttotal: 20.7s\tremaining: 13.9s\n",
      "598:\tlearn: 0.2812141\ttotal: 20.7s\tremaining: 13.9s\n",
      "599:\tlearn: 0.2811304\ttotal: 20.8s\tremaining: 13.9s\n",
      "600:\tlearn: 0.2810330\ttotal: 20.8s\tremaining: 13.8s\n",
      "601:\tlearn: 0.2809000\ttotal: 20.8s\tremaining: 13.8s\n",
      "602:\tlearn: 0.2807810\ttotal: 20.9s\tremaining: 13.7s\n",
      "603:\tlearn: 0.2806467\ttotal: 20.9s\tremaining: 13.7s\n",
      "604:\tlearn: 0.2805058\ttotal: 20.9s\tremaining: 13.7s\n",
      "605:\tlearn: 0.2803382\ttotal: 21s\tremaining: 13.6s\n",
      "606:\tlearn: 0.2802399\ttotal: 21s\tremaining: 13.6s\n",
      "607:\tlearn: 0.2801387\ttotal: 21s\tremaining: 13.6s\n",
      "608:\tlearn: 0.2799883\ttotal: 21.1s\tremaining: 13.5s\n",
      "609:\tlearn: 0.2798837\ttotal: 21.1s\tremaining: 13.5s\n",
      "610:\tlearn: 0.2797921\ttotal: 21.1s\tremaining: 13.5s\n",
      "611:\tlearn: 0.2796919\ttotal: 21.2s\tremaining: 13.4s\n",
      "612:\tlearn: 0.2795862\ttotal: 21.2s\tremaining: 13.4s\n",
      "613:\tlearn: 0.2794905\ttotal: 21.2s\tremaining: 13.4s\n",
      "614:\tlearn: 0.2793828\ttotal: 21.3s\tremaining: 13.3s\n",
      "615:\tlearn: 0.2784844\ttotal: 21.3s\tremaining: 13.3s\n",
      "616:\tlearn: 0.2783806\ttotal: 21.3s\tremaining: 13.2s\n",
      "617:\tlearn: 0.2782782\ttotal: 21.4s\tremaining: 13.2s\n",
      "618:\tlearn: 0.2781837\ttotal: 21.4s\tremaining: 13.2s\n",
      "619:\tlearn: 0.2778684\ttotal: 21.4s\tremaining: 13.1s\n",
      "620:\tlearn: 0.2777662\ttotal: 21.5s\tremaining: 13.1s\n",
      "621:\tlearn: 0.2776824\ttotal: 21.5s\tremaining: 13.1s\n",
      "622:\tlearn: 0.2775758\ttotal: 21.5s\tremaining: 13s\n",
      "623:\tlearn: 0.2772764\ttotal: 21.6s\tremaining: 13s\n",
      "624:\tlearn: 0.2771379\ttotal: 21.6s\tremaining: 13s\n",
      "625:\tlearn: 0.2767966\ttotal: 21.6s\tremaining: 12.9s\n",
      "626:\tlearn: 0.2764406\ttotal: 21.7s\tremaining: 12.9s\n",
      "627:\tlearn: 0.2763337\ttotal: 21.7s\tremaining: 12.9s\n",
      "628:\tlearn: 0.2762062\ttotal: 21.7s\tremaining: 12.8s\n",
      "629:\tlearn: 0.2761199\ttotal: 21.8s\tremaining: 12.8s\n",
      "630:\tlearn: 0.2760247\ttotal: 21.8s\tremaining: 12.7s\n",
      "631:\tlearn: 0.2759205\ttotal: 21.8s\tremaining: 12.7s\n",
      "632:\tlearn: 0.2757060\ttotal: 21.9s\tremaining: 12.7s\n",
      "633:\tlearn: 0.2755411\ttotal: 21.9s\tremaining: 12.6s\n",
      "634:\tlearn: 0.2754335\ttotal: 21.9s\tremaining: 12.6s\n",
      "635:\tlearn: 0.2752988\ttotal: 22s\tremaining: 12.6s\n",
      "636:\tlearn: 0.2751984\ttotal: 22s\tremaining: 12.5s\n",
      "637:\tlearn: 0.2751025\ttotal: 22s\tremaining: 12.5s\n",
      "638:\tlearn: 0.2749670\ttotal: 22.1s\tremaining: 12.5s\n",
      "639:\tlearn: 0.2748703\ttotal: 22.1s\tremaining: 12.4s\n",
      "640:\tlearn: 0.2747864\ttotal: 22.1s\tremaining: 12.4s\n",
      "641:\tlearn: 0.2746556\ttotal: 22.2s\tremaining: 12.4s\n",
      "642:\tlearn: 0.2745596\ttotal: 22.2s\tremaining: 12.3s\n",
      "643:\tlearn: 0.2744726\ttotal: 22.2s\tremaining: 12.3s\n",
      "644:\tlearn: 0.2743792\ttotal: 22.3s\tremaining: 12.2s\n"
     ]
    },
    {
     "name": "stdout",
     "output_type": "stream",
     "text": [
      "645:\tlearn: 0.2742801\ttotal: 22.3s\tremaining: 12.2s\n",
      "646:\tlearn: 0.2741158\ttotal: 22.3s\tremaining: 12.2s\n",
      "647:\tlearn: 0.2740299\ttotal: 22.4s\tremaining: 12.1s\n",
      "648:\tlearn: 0.2739275\ttotal: 22.4s\tremaining: 12.1s\n",
      "649:\tlearn: 0.2738405\ttotal: 22.4s\tremaining: 12.1s\n",
      "650:\tlearn: 0.2737437\ttotal: 22.5s\tremaining: 12s\n",
      "651:\tlearn: 0.2735934\ttotal: 22.5s\tremaining: 12s\n",
      "652:\tlearn: 0.2735060\ttotal: 22.5s\tremaining: 12s\n",
      "653:\tlearn: 0.2729404\ttotal: 22.6s\tremaining: 11.9s\n",
      "654:\tlearn: 0.2728456\ttotal: 22.6s\tremaining: 11.9s\n",
      "655:\tlearn: 0.2727465\ttotal: 22.6s\tremaining: 11.9s\n",
      "656:\tlearn: 0.2725584\ttotal: 22.6s\tremaining: 11.8s\n",
      "657:\tlearn: 0.2724772\ttotal: 22.7s\tremaining: 11.8s\n",
      "658:\tlearn: 0.2723863\ttotal: 22.7s\tremaining: 11.8s\n",
      "659:\tlearn: 0.2723046\ttotal: 22.7s\tremaining: 11.7s\n",
      "660:\tlearn: 0.2722019\ttotal: 22.8s\tremaining: 11.7s\n",
      "661:\tlearn: 0.2719597\ttotal: 22.8s\tremaining: 11.6s\n",
      "662:\tlearn: 0.2718580\ttotal: 22.8s\tremaining: 11.6s\n",
      "663:\tlearn: 0.2717215\ttotal: 22.9s\tremaining: 11.6s\n",
      "664:\tlearn: 0.2715834\ttotal: 22.9s\tremaining: 11.5s\n",
      "665:\tlearn: 0.2714290\ttotal: 22.9s\tremaining: 11.5s\n",
      "666:\tlearn: 0.2712987\ttotal: 23s\tremaining: 11.5s\n",
      "667:\tlearn: 0.2712191\ttotal: 23s\tremaining: 11.4s\n",
      "668:\tlearn: 0.2711291\ttotal: 23s\tremaining: 11.4s\n",
      "669:\tlearn: 0.2710203\ttotal: 23.1s\tremaining: 11.4s\n",
      "670:\tlearn: 0.2708320\ttotal: 23.1s\tremaining: 11.3s\n",
      "671:\tlearn: 0.2707408\ttotal: 23.1s\tremaining: 11.3s\n",
      "672:\tlearn: 0.2705768\ttotal: 23.2s\tremaining: 11.3s\n",
      "673:\tlearn: 0.2704733\ttotal: 23.2s\tremaining: 11.2s\n",
      "674:\tlearn: 0.2703626\ttotal: 23.2s\tremaining: 11.2s\n",
      "675:\tlearn: 0.2702643\ttotal: 23.3s\tremaining: 11.2s\n",
      "676:\tlearn: 0.2701506\ttotal: 23.3s\tremaining: 11.1s\n",
      "677:\tlearn: 0.2700336\ttotal: 23.3s\tremaining: 11.1s\n",
      "678:\tlearn: 0.2698449\ttotal: 23.4s\tremaining: 11.1s\n",
      "679:\tlearn: 0.2697574\ttotal: 23.4s\tremaining: 11s\n",
      "680:\tlearn: 0.2696698\ttotal: 23.4s\tremaining: 11s\n",
      "681:\tlearn: 0.2695866\ttotal: 23.5s\tremaining: 10.9s\n",
      "682:\tlearn: 0.2694891\ttotal: 23.5s\tremaining: 10.9s\n",
      "683:\tlearn: 0.2693998\ttotal: 23.5s\tremaining: 10.9s\n",
      "684:\tlearn: 0.2692828\ttotal: 23.6s\tremaining: 10.8s\n",
      "685:\tlearn: 0.2691437\ttotal: 23.6s\tremaining: 10.8s\n",
      "686:\tlearn: 0.2690385\ttotal: 23.6s\tremaining: 10.8s\n",
      "687:\tlearn: 0.2686795\ttotal: 23.7s\tremaining: 10.7s\n",
      "688:\tlearn: 0.2685956\ttotal: 23.7s\tremaining: 10.7s\n",
      "689:\tlearn: 0.2684837\ttotal: 23.7s\tremaining: 10.7s\n",
      "690:\tlearn: 0.2683801\ttotal: 23.8s\tremaining: 10.6s\n",
      "691:\tlearn: 0.2682446\ttotal: 23.8s\tremaining: 10.6s\n",
      "692:\tlearn: 0.2681518\ttotal: 23.8s\tremaining: 10.6s\n",
      "693:\tlearn: 0.2680278\ttotal: 23.9s\tremaining: 10.5s\n",
      "694:\tlearn: 0.2679461\ttotal: 23.9s\tremaining: 10.5s\n",
      "695:\tlearn: 0.2678138\ttotal: 23.9s\tremaining: 10.5s\n",
      "696:\tlearn: 0.2677311\ttotal: 24s\tremaining: 10.4s\n",
      "697:\tlearn: 0.2676593\ttotal: 24s\tremaining: 10.4s\n",
      "698:\tlearn: 0.2675100\ttotal: 24s\tremaining: 10.4s\n",
      "699:\tlearn: 0.2674117\ttotal: 24.1s\tremaining: 10.3s\n",
      "700:\tlearn: 0.2672994\ttotal: 24.1s\tremaining: 10.3s\n",
      "701:\tlearn: 0.2671942\ttotal: 24.2s\tremaining: 10.3s\n",
      "702:\tlearn: 0.2671006\ttotal: 24.2s\tremaining: 10.2s\n",
      "703:\tlearn: 0.2669707\ttotal: 24.2s\tremaining: 10.2s\n",
      "704:\tlearn: 0.2668568\ttotal: 24.3s\tremaining: 10.1s\n",
      "705:\tlearn: 0.2667424\ttotal: 24.3s\tremaining: 10.1s\n",
      "706:\tlearn: 0.2666288\ttotal: 24.3s\tremaining: 10.1s\n",
      "707:\tlearn: 0.2665066\ttotal: 24.4s\tremaining: 10s\n",
      "708:\tlearn: 0.2663771\ttotal: 24.4s\tremaining: 10s\n",
      "709:\tlearn: 0.2662472\ttotal: 24.4s\tremaining: 9.97s\n",
      "710:\tlearn: 0.2661620\ttotal: 24.5s\tremaining: 9.94s\n",
      "711:\tlearn: 0.2659769\ttotal: 24.5s\tremaining: 9.9s\n",
      "712:\tlearn: 0.2658704\ttotal: 24.5s\tremaining: 9.87s\n",
      "713:\tlearn: 0.2652972\ttotal: 24.5s\tremaining: 9.83s\n",
      "714:\tlearn: 0.2647921\ttotal: 24.6s\tremaining: 9.8s\n",
      "715:\tlearn: 0.2646993\ttotal: 24.6s\tremaining: 9.76s\n",
      "716:\tlearn: 0.2641433\ttotal: 24.6s\tremaining: 9.73s\n",
      "717:\tlearn: 0.2640228\ttotal: 24.7s\tremaining: 9.69s\n",
      "718:\tlearn: 0.2639153\ttotal: 24.7s\tremaining: 9.66s\n",
      "719:\tlearn: 0.2638174\ttotal: 24.7s\tremaining: 9.62s\n",
      "720:\tlearn: 0.2636918\ttotal: 24.8s\tremaining: 9.59s\n",
      "721:\tlearn: 0.2635804\ttotal: 24.8s\tremaining: 9.55s\n",
      "722:\tlearn: 0.2633721\ttotal: 24.8s\tremaining: 9.52s\n",
      "723:\tlearn: 0.2632706\ttotal: 24.9s\tremaining: 9.48s\n",
      "724:\tlearn: 0.2632051\ttotal: 24.9s\tremaining: 9.45s\n",
      "725:\tlearn: 0.2630575\ttotal: 24.9s\tremaining: 9.41s\n",
      "726:\tlearn: 0.2629674\ttotal: 25s\tremaining: 9.38s\n",
      "727:\tlearn: 0.2628982\ttotal: 25s\tremaining: 9.35s\n",
      "728:\tlearn: 0.2628172\ttotal: 25.1s\tremaining: 9.32s\n",
      "729:\tlearn: 0.2627221\ttotal: 25.1s\tremaining: 9.29s\n",
      "730:\tlearn: 0.2607333\ttotal: 25.2s\tremaining: 9.27s\n",
      "731:\tlearn: 0.2606619\ttotal: 25.2s\tremaining: 9.24s\n",
      "732:\tlearn: 0.2605542\ttotal: 25.3s\tremaining: 9.21s\n",
      "733:\tlearn: 0.2604647\ttotal: 25.3s\tremaining: 9.19s\n",
      "734:\tlearn: 0.2603578\ttotal: 25.4s\tremaining: 9.16s\n",
      "735:\tlearn: 0.2602552\ttotal: 25.5s\tremaining: 9.13s\n",
      "736:\tlearn: 0.2601320\ttotal: 25.5s\tremaining: 9.11s\n",
      "737:\tlearn: 0.2600554\ttotal: 25.6s\tremaining: 9.09s\n",
      "738:\tlearn: 0.2599473\ttotal: 25.7s\tremaining: 9.06s\n",
      "739:\tlearn: 0.2598766\ttotal: 25.7s\tremaining: 9.03s\n",
      "740:\tlearn: 0.2597842\ttotal: 25.8s\tremaining: 9s\n",
      "741:\tlearn: 0.2596816\ttotal: 25.8s\tremaining: 8.97s\n",
      "742:\tlearn: 0.2587792\ttotal: 25.8s\tremaining: 8.94s\n",
      "743:\tlearn: 0.2586853\ttotal: 25.9s\tremaining: 8.9s\n",
      "744:\tlearn: 0.2585948\ttotal: 25.9s\tremaining: 8.87s\n",
      "745:\tlearn: 0.2584940\ttotal: 26s\tremaining: 8.84s\n",
      "746:\tlearn: 0.2583290\ttotal: 26s\tremaining: 8.81s\n",
      "747:\tlearn: 0.2581333\ttotal: 26.1s\tremaining: 8.78s\n",
      "748:\tlearn: 0.2579548\ttotal: 26.1s\tremaining: 8.75s\n",
      "749:\tlearn: 0.2578704\ttotal: 26.1s\tremaining: 8.71s\n",
      "750:\tlearn: 0.2576505\ttotal: 26.2s\tremaining: 8.68s\n",
      "751:\tlearn: 0.2575691\ttotal: 26.2s\tremaining: 8.65s\n",
      "752:\tlearn: 0.2574531\ttotal: 26.3s\tremaining: 8.61s\n",
      "753:\tlearn: 0.2573713\ttotal: 26.3s\tremaining: 8.58s\n",
      "754:\tlearn: 0.2572860\ttotal: 26.3s\tremaining: 8.54s\n",
      "755:\tlearn: 0.2572099\ttotal: 26.4s\tremaining: 8.51s\n",
      "756:\tlearn: 0.2570528\ttotal: 26.4s\tremaining: 8.47s\n",
      "757:\tlearn: 0.2568243\ttotal: 26.4s\tremaining: 8.44s\n",
      "758:\tlearn: 0.2567050\ttotal: 26.5s\tremaining: 8.4s\n",
      "759:\tlearn: 0.2565867\ttotal: 26.5s\tremaining: 8.37s\n",
      "760:\tlearn: 0.2561063\ttotal: 26.5s\tremaining: 8.33s\n",
      "761:\tlearn: 0.2560214\ttotal: 26.6s\tremaining: 8.3s\n",
      "762:\tlearn: 0.2559318\ttotal: 26.6s\tremaining: 8.26s\n",
      "763:\tlearn: 0.2558536\ttotal: 26.6s\tremaining: 8.23s\n",
      "764:\tlearn: 0.2557576\ttotal: 26.7s\tremaining: 8.19s\n",
      "765:\tlearn: 0.2556193\ttotal: 26.7s\tremaining: 8.16s\n",
      "766:\tlearn: 0.2552615\ttotal: 26.7s\tremaining: 8.12s\n",
      "767:\tlearn: 0.2551591\ttotal: 26.8s\tremaining: 8.08s\n",
      "768:\tlearn: 0.2550754\ttotal: 26.8s\tremaining: 8.05s\n",
      "769:\tlearn: 0.2549925\ttotal: 26.8s\tremaining: 8.01s\n",
      "770:\tlearn: 0.2548879\ttotal: 26.9s\tremaining: 7.98s\n",
      "771:\tlearn: 0.2547740\ttotal: 26.9s\tremaining: 7.94s\n",
      "772:\tlearn: 0.2546487\ttotal: 26.9s\tremaining: 7.91s\n",
      "773:\tlearn: 0.2545453\ttotal: 27s\tremaining: 7.87s\n",
      "774:\tlearn: 0.2544288\ttotal: 27s\tremaining: 7.84s\n",
      "775:\tlearn: 0.2543454\ttotal: 27s\tremaining: 7.8s\n",
      "776:\tlearn: 0.2542418\ttotal: 27.1s\tremaining: 7.77s\n",
      "777:\tlearn: 0.2541413\ttotal: 27.1s\tremaining: 7.73s\n",
      "778:\tlearn: 0.2540663\ttotal: 27.1s\tremaining: 7.7s\n",
      "779:\tlearn: 0.2539700\ttotal: 27.2s\tremaining: 7.66s\n",
      "780:\tlearn: 0.2538548\ttotal: 27.2s\tremaining: 7.63s\n",
      "781:\tlearn: 0.2537800\ttotal: 27.2s\tremaining: 7.59s\n",
      "782:\tlearn: 0.2536687\ttotal: 27.3s\tremaining: 7.56s\n",
      "783:\tlearn: 0.2535860\ttotal: 27.3s\tremaining: 7.52s\n",
      "784:\tlearn: 0.2535167\ttotal: 27.3s\tremaining: 7.49s\n",
      "785:\tlearn: 0.2534341\ttotal: 27.4s\tremaining: 7.45s\n",
      "786:\tlearn: 0.2533020\ttotal: 27.4s\tremaining: 7.42s\n",
      "787:\tlearn: 0.2531774\ttotal: 27.4s\tremaining: 7.38s\n",
      "788:\tlearn: 0.2527610\ttotal: 27.5s\tremaining: 7.35s\n",
      "789:\tlearn: 0.2526860\ttotal: 27.5s\tremaining: 7.31s\n",
      "790:\tlearn: 0.2525044\ttotal: 27.6s\tremaining: 7.28s\n",
      "791:\tlearn: 0.2524259\ttotal: 27.6s\tremaining: 7.25s\n",
      "792:\tlearn: 0.2523187\ttotal: 27.6s\tremaining: 7.21s\n",
      "793:\tlearn: 0.2522356\ttotal: 27.7s\tremaining: 7.17s\n",
      "794:\tlearn: 0.2521422\ttotal: 27.7s\tremaining: 7.14s\n",
      "795:\tlearn: 0.2520568\ttotal: 27.7s\tremaining: 7.1s\n",
      "796:\tlearn: 0.2519714\ttotal: 27.8s\tremaining: 7.07s\n",
      "797:\tlearn: 0.2518831\ttotal: 27.8s\tremaining: 7.04s\n",
      "798:\tlearn: 0.2517451\ttotal: 27.8s\tremaining: 7s\n",
      "799:\tlearn: 0.2516095\ttotal: 27.9s\tremaining: 6.96s\n",
      "800:\tlearn: 0.2514770\ttotal: 27.9s\tremaining: 6.93s\n",
      "801:\tlearn: 0.2514040\ttotal: 27.9s\tremaining: 6.89s\n",
      "802:\tlearn: 0.2512961\ttotal: 28s\tremaining: 6.86s\n",
      "803:\tlearn: 0.2511867\ttotal: 28s\tremaining: 6.82s\n",
      "804:\tlearn: 0.2511027\ttotal: 28s\tremaining: 6.79s\n",
      "805:\tlearn: 0.2510149\ttotal: 28.1s\tremaining: 6.75s\n",
      "806:\tlearn: 0.2509099\ttotal: 28.1s\tremaining: 6.72s\n",
      "807:\tlearn: 0.2508238\ttotal: 28.1s\tremaining: 6.68s\n",
      "808:\tlearn: 0.2507479\ttotal: 28.2s\tremaining: 6.65s\n",
      "809:\tlearn: 0.2506595\ttotal: 28.2s\tremaining: 6.61s\n"
     ]
    },
    {
     "name": "stdout",
     "output_type": "stream",
     "text": [
      "810:\tlearn: 0.2505735\ttotal: 28.2s\tremaining: 6.58s\n",
      "811:\tlearn: 0.2504690\ttotal: 28.3s\tremaining: 6.54s\n",
      "812:\tlearn: 0.2503844\ttotal: 28.3s\tremaining: 6.51s\n",
      "813:\tlearn: 0.2498620\ttotal: 28.3s\tremaining: 6.47s\n",
      "814:\tlearn: 0.2497705\ttotal: 28.4s\tremaining: 6.44s\n",
      "815:\tlearn: 0.2496960\ttotal: 28.4s\tremaining: 6.4s\n",
      "816:\tlearn: 0.2494570\ttotal: 28.4s\tremaining: 6.37s\n",
      "817:\tlearn: 0.2492950\ttotal: 28.5s\tremaining: 6.33s\n",
      "818:\tlearn: 0.2491975\ttotal: 28.5s\tremaining: 6.29s\n",
      "819:\tlearn: 0.2491038\ttotal: 28.5s\tremaining: 6.26s\n",
      "820:\tlearn: 0.2490334\ttotal: 28.6s\tremaining: 6.22s\n",
      "821:\tlearn: 0.2489406\ttotal: 28.6s\tremaining: 6.19s\n",
      "822:\tlearn: 0.2488148\ttotal: 28.6s\tremaining: 6.16s\n",
      "823:\tlearn: 0.2487060\ttotal: 28.7s\tremaining: 6.12s\n",
      "824:\tlearn: 0.2485593\ttotal: 28.7s\tremaining: 6.08s\n",
      "825:\tlearn: 0.2484868\ttotal: 28.7s\tremaining: 6.05s\n",
      "826:\tlearn: 0.2484117\ttotal: 28.8s\tremaining: 6.01s\n",
      "827:\tlearn: 0.2483222\ttotal: 28.8s\tremaining: 5.98s\n",
      "828:\tlearn: 0.2482421\ttotal: 28.8s\tremaining: 5.94s\n",
      "829:\tlearn: 0.2478236\ttotal: 28.9s\tremaining: 5.91s\n",
      "830:\tlearn: 0.2477447\ttotal: 28.9s\tremaining: 5.87s\n",
      "831:\tlearn: 0.2476507\ttotal: 28.9s\tremaining: 5.84s\n",
      "832:\tlearn: 0.2475553\ttotal: 29s\tremaining: 5.8s\n",
      "833:\tlearn: 0.2473878\ttotal: 29s\tremaining: 5.77s\n",
      "834:\tlearn: 0.2473124\ttotal: 29s\tremaining: 5.73s\n",
      "835:\tlearn: 0.2472247\ttotal: 29s\tremaining: 5.7s\n",
      "836:\tlearn: 0.2471146\ttotal: 29.1s\tremaining: 5.66s\n",
      "837:\tlearn: 0.2469792\ttotal: 29.1s\tremaining: 5.63s\n",
      "838:\tlearn: 0.2468872\ttotal: 29.1s\tremaining: 5.59s\n",
      "839:\tlearn: 0.2467893\ttotal: 29.2s\tremaining: 5.56s\n",
      "840:\tlearn: 0.2467118\ttotal: 29.2s\tremaining: 5.52s\n",
      "841:\tlearn: 0.2466369\ttotal: 29.2s\tremaining: 5.49s\n",
      "842:\tlearn: 0.2465609\ttotal: 29.3s\tremaining: 5.45s\n",
      "843:\tlearn: 0.2464388\ttotal: 29.3s\tremaining: 5.42s\n",
      "844:\tlearn: 0.2463157\ttotal: 29.3s\tremaining: 5.38s\n",
      "845:\tlearn: 0.2462343\ttotal: 29.4s\tremaining: 5.35s\n",
      "846:\tlearn: 0.2461075\ttotal: 29.4s\tremaining: 5.31s\n",
      "847:\tlearn: 0.2460215\ttotal: 29.4s\tremaining: 5.28s\n",
      "848:\tlearn: 0.2459095\ttotal: 29.5s\tremaining: 5.24s\n",
      "849:\tlearn: 0.2458186\ttotal: 29.5s\tremaining: 5.21s\n",
      "850:\tlearn: 0.2457425\ttotal: 29.5s\tremaining: 5.17s\n",
      "851:\tlearn: 0.2456109\ttotal: 29.6s\tremaining: 5.14s\n",
      "852:\tlearn: 0.2455378\ttotal: 29.6s\tremaining: 5.1s\n",
      "853:\tlearn: 0.2454267\ttotal: 29.6s\tremaining: 5.07s\n",
      "854:\tlearn: 0.2453494\ttotal: 29.7s\tremaining: 5.03s\n",
      "855:\tlearn: 0.2452649\ttotal: 29.7s\tremaining: 5s\n",
      "856:\tlearn: 0.2450410\ttotal: 29.7s\tremaining: 4.96s\n",
      "857:\tlearn: 0.2449575\ttotal: 29.8s\tremaining: 4.93s\n",
      "858:\tlearn: 0.2448979\ttotal: 29.8s\tremaining: 4.89s\n",
      "859:\tlearn: 0.2441897\ttotal: 29.8s\tremaining: 4.86s\n",
      "860:\tlearn: 0.2440661\ttotal: 29.9s\tremaining: 4.82s\n",
      "861:\tlearn: 0.2437533\ttotal: 29.9s\tremaining: 4.79s\n",
      "862:\tlearn: 0.2436419\ttotal: 29.9s\tremaining: 4.75s\n",
      "863:\tlearn: 0.2435660\ttotal: 30s\tremaining: 4.72s\n",
      "864:\tlearn: 0.2434456\ttotal: 30s\tremaining: 4.68s\n",
      "865:\tlearn: 0.2433601\ttotal: 30s\tremaining: 4.65s\n",
      "866:\tlearn: 0.2432362\ttotal: 30.1s\tremaining: 4.61s\n",
      "867:\tlearn: 0.2431643\ttotal: 30.1s\tremaining: 4.58s\n",
      "868:\tlearn: 0.2429625\ttotal: 30.1s\tremaining: 4.54s\n",
      "869:\tlearn: 0.2428538\ttotal: 30.2s\tremaining: 4.51s\n",
      "870:\tlearn: 0.2427695\ttotal: 30.2s\tremaining: 4.47s\n",
      "871:\tlearn: 0.2426644\ttotal: 30.2s\tremaining: 4.44s\n",
      "872:\tlearn: 0.2425978\ttotal: 30.3s\tremaining: 4.4s\n",
      "873:\tlearn: 0.2425136\ttotal: 30.3s\tremaining: 4.37s\n",
      "874:\tlearn: 0.2424265\ttotal: 30.3s\tremaining: 4.33s\n",
      "875:\tlearn: 0.2422948\ttotal: 30.4s\tremaining: 4.3s\n",
      "876:\tlearn: 0.2420888\ttotal: 30.4s\tremaining: 4.26s\n",
      "877:\tlearn: 0.2420007\ttotal: 30.4s\tremaining: 4.23s\n",
      "878:\tlearn: 0.2418869\ttotal: 30.5s\tremaining: 4.19s\n",
      "879:\tlearn: 0.2417863\ttotal: 30.5s\tremaining: 4.16s\n",
      "880:\tlearn: 0.2417150\ttotal: 30.5s\tremaining: 4.12s\n",
      "881:\tlearn: 0.2416442\ttotal: 30.6s\tremaining: 4.09s\n",
      "882:\tlearn: 0.2415471\ttotal: 30.6s\tremaining: 4.05s\n",
      "883:\tlearn: 0.2414388\ttotal: 30.6s\tremaining: 4.02s\n",
      "884:\tlearn: 0.2413616\ttotal: 30.7s\tremaining: 3.98s\n",
      "885:\tlearn: 0.2412393\ttotal: 30.7s\tremaining: 3.95s\n",
      "886:\tlearn: 0.2411520\ttotal: 30.7s\tremaining: 3.91s\n",
      "887:\tlearn: 0.2410524\ttotal: 30.8s\tremaining: 3.88s\n",
      "888:\tlearn: 0.2409782\ttotal: 30.8s\tremaining: 3.84s\n",
      "889:\tlearn: 0.2408841\ttotal: 30.8s\tremaining: 3.81s\n",
      "890:\tlearn: 0.2406541\ttotal: 30.9s\tremaining: 3.77s\n",
      "891:\tlearn: 0.2405620\ttotal: 30.9s\tremaining: 3.74s\n",
      "892:\tlearn: 0.2404982\ttotal: 30.9s\tremaining: 3.71s\n",
      "893:\tlearn: 0.2404138\ttotal: 31s\tremaining: 3.67s\n",
      "894:\tlearn: 0.2403446\ttotal: 31s\tremaining: 3.63s\n",
      "895:\tlearn: 0.2402771\ttotal: 31s\tremaining: 3.6s\n",
      "896:\tlearn: 0.2402075\ttotal: 31.1s\tremaining: 3.56s\n",
      "897:\tlearn: 0.2399985\ttotal: 31.1s\tremaining: 3.53s\n",
      "898:\tlearn: 0.2399278\ttotal: 31.1s\tremaining: 3.5s\n",
      "899:\tlearn: 0.2398416\ttotal: 31.2s\tremaining: 3.46s\n",
      "900:\tlearn: 0.2397694\ttotal: 31.2s\tremaining: 3.43s\n",
      "901:\tlearn: 0.2396826\ttotal: 31.2s\tremaining: 3.39s\n",
      "902:\tlearn: 0.2395227\ttotal: 31.2s\tremaining: 3.36s\n",
      "903:\tlearn: 0.2394105\ttotal: 31.3s\tremaining: 3.32s\n",
      "904:\tlearn: 0.2393295\ttotal: 31.3s\tremaining: 3.29s\n",
      "905:\tlearn: 0.2392130\ttotal: 31.3s\tremaining: 3.25s\n",
      "906:\tlearn: 0.2391396\ttotal: 31.4s\tremaining: 3.22s\n",
      "907:\tlearn: 0.2390905\ttotal: 31.4s\tremaining: 3.18s\n",
      "908:\tlearn: 0.2388814\ttotal: 31.4s\tremaining: 3.15s\n",
      "909:\tlearn: 0.2387819\ttotal: 31.5s\tremaining: 3.11s\n",
      "910:\tlearn: 0.2387061\ttotal: 31.5s\tremaining: 3.08s\n",
      "911:\tlearn: 0.2385798\ttotal: 31.5s\tremaining: 3.04s\n",
      "912:\tlearn: 0.2384221\ttotal: 31.6s\tremaining: 3.01s\n",
      "913:\tlearn: 0.2383261\ttotal: 31.6s\tremaining: 2.97s\n",
      "914:\tlearn: 0.2382301\ttotal: 31.6s\tremaining: 2.94s\n",
      "915:\tlearn: 0.2381662\ttotal: 31.7s\tremaining: 2.9s\n",
      "916:\tlearn: 0.2380861\ttotal: 31.7s\tremaining: 2.87s\n",
      "917:\tlearn: 0.2380131\ttotal: 31.7s\tremaining: 2.83s\n",
      "918:\tlearn: 0.2372854\ttotal: 31.8s\tremaining: 2.8s\n",
      "919:\tlearn: 0.2371629\ttotal: 31.8s\tremaining: 2.77s\n",
      "920:\tlearn: 0.2369260\ttotal: 31.9s\tremaining: 2.73s\n",
      "921:\tlearn: 0.2368262\ttotal: 31.9s\tremaining: 2.7s\n",
      "922:\tlearn: 0.2367446\ttotal: 31.9s\tremaining: 2.66s\n",
      "923:\tlearn: 0.2366690\ttotal: 32s\tremaining: 2.63s\n",
      "924:\tlearn: 0.2365667\ttotal: 32s\tremaining: 2.59s\n",
      "925:\tlearn: 0.2364744\ttotal: 32s\tremaining: 2.56s\n",
      "926:\tlearn: 0.2363611\ttotal: 32.1s\tremaining: 2.52s\n",
      "927:\tlearn: 0.2362592\ttotal: 32.1s\tremaining: 2.49s\n",
      "928:\tlearn: 0.2361565\ttotal: 32.1s\tremaining: 2.45s\n",
      "929:\tlearn: 0.2360735\ttotal: 32.2s\tremaining: 2.42s\n",
      "930:\tlearn: 0.2358127\ttotal: 32.2s\tremaining: 2.38s\n",
      "931:\tlearn: 0.2357312\ttotal: 32.2s\tremaining: 2.35s\n",
      "932:\tlearn: 0.2356398\ttotal: 32.3s\tremaining: 2.32s\n",
      "933:\tlearn: 0.2355272\ttotal: 32.3s\tremaining: 2.28s\n",
      "934:\tlearn: 0.2354476\ttotal: 32.3s\tremaining: 2.25s\n",
      "935:\tlearn: 0.2351379\ttotal: 32.4s\tremaining: 2.21s\n",
      "936:\tlearn: 0.2350467\ttotal: 32.4s\tremaining: 2.18s\n",
      "937:\tlearn: 0.2349469\ttotal: 32.4s\tremaining: 2.14s\n",
      "938:\tlearn: 0.2348523\ttotal: 32.5s\tremaining: 2.11s\n",
      "939:\tlearn: 0.2347876\ttotal: 32.5s\tremaining: 2.07s\n",
      "940:\tlearn: 0.2346914\ttotal: 32.5s\tremaining: 2.04s\n",
      "941:\tlearn: 0.2345983\ttotal: 32.6s\tremaining: 2s\n",
      "942:\tlearn: 0.2344500\ttotal: 32.6s\tremaining: 1.97s\n",
      "943:\tlearn: 0.2343608\ttotal: 32.6s\tremaining: 1.94s\n",
      "944:\tlearn: 0.2342891\ttotal: 32.7s\tremaining: 1.9s\n",
      "945:\tlearn: 0.2341845\ttotal: 32.7s\tremaining: 1.87s\n",
      "946:\tlearn: 0.2340005\ttotal: 32.7s\tremaining: 1.83s\n",
      "947:\tlearn: 0.2339090\ttotal: 32.8s\tremaining: 1.8s\n",
      "948:\tlearn: 0.2338342\ttotal: 32.8s\tremaining: 1.76s\n",
      "949:\tlearn: 0.2336429\ttotal: 32.8s\tremaining: 1.73s\n",
      "950:\tlearn: 0.2335302\ttotal: 32.9s\tremaining: 1.69s\n",
      "951:\tlearn: 0.2334499\ttotal: 32.9s\tremaining: 1.66s\n",
      "952:\tlearn: 0.2333581\ttotal: 32.9s\tremaining: 1.62s\n",
      "953:\tlearn: 0.2332815\ttotal: 33s\tremaining: 1.59s\n",
      "954:\tlearn: 0.2332090\ttotal: 33s\tremaining: 1.55s\n",
      "955:\tlearn: 0.2331217\ttotal: 33s\tremaining: 1.52s\n",
      "956:\tlearn: 0.2330345\ttotal: 33.1s\tremaining: 1.49s\n",
      "957:\tlearn: 0.2329712\ttotal: 33.1s\tremaining: 1.45s\n",
      "958:\tlearn: 0.2328980\ttotal: 33.1s\tremaining: 1.42s\n",
      "959:\tlearn: 0.2328167\ttotal: 33.2s\tremaining: 1.38s\n",
      "960:\tlearn: 0.2327391\ttotal: 33.2s\tremaining: 1.35s\n",
      "961:\tlearn: 0.2326445\ttotal: 33.2s\tremaining: 1.31s\n",
      "962:\tlearn: 0.2319852\ttotal: 33.3s\tremaining: 1.28s\n",
      "963:\tlearn: 0.2315358\ttotal: 33.3s\tremaining: 1.24s\n",
      "964:\tlearn: 0.2314597\ttotal: 33.3s\tremaining: 1.21s\n",
      "965:\tlearn: 0.2313809\ttotal: 33.4s\tremaining: 1.17s\n",
      "966:\tlearn: 0.2313120\ttotal: 33.4s\tremaining: 1.14s\n",
      "967:\tlearn: 0.2312095\ttotal: 33.4s\tremaining: 1.1s\n",
      "968:\tlearn: 0.2311339\ttotal: 33.5s\tremaining: 1.07s\n",
      "969:\tlearn: 0.2309783\ttotal: 33.5s\tremaining: 1.03s\n",
      "970:\tlearn: 0.2309109\ttotal: 33.5s\tremaining: 1s\n"
     ]
    },
    {
     "name": "stdout",
     "output_type": "stream",
     "text": [
      "971:\tlearn: 0.2306961\ttotal: 33.6s\tremaining: 967ms\n",
      "972:\tlearn: 0.2306097\ttotal: 33.6s\tremaining: 932ms\n",
      "973:\tlearn: 0.2305420\ttotal: 33.6s\tremaining: 898ms\n",
      "974:\tlearn: 0.2304775\ttotal: 33.7s\tremaining: 863ms\n",
      "975:\tlearn: 0.2304061\ttotal: 33.7s\tremaining: 828ms\n",
      "976:\tlearn: 0.2301550\ttotal: 33.7s\tremaining: 794ms\n",
      "977:\tlearn: 0.2300815\ttotal: 33.8s\tremaining: 759ms\n",
      "978:\tlearn: 0.2299790\ttotal: 33.8s\tremaining: 725ms\n",
      "979:\tlearn: 0.2298918\ttotal: 33.8s\tremaining: 690ms\n",
      "980:\tlearn: 0.2298340\ttotal: 33.9s\tremaining: 656ms\n",
      "981:\tlearn: 0.2297545\ttotal: 33.9s\tremaining: 621ms\n",
      "982:\tlearn: 0.2296565\ttotal: 33.9s\tremaining: 587ms\n",
      "983:\tlearn: 0.2295476\ttotal: 34s\tremaining: 552ms\n",
      "984:\tlearn: 0.2293984\ttotal: 34s\tremaining: 518ms\n",
      "985:\tlearn: 0.2293145\ttotal: 34s\tremaining: 483ms\n",
      "986:\tlearn: 0.2292381\ttotal: 34.1s\tremaining: 449ms\n",
      "987:\tlearn: 0.2291641\ttotal: 34.1s\tremaining: 414ms\n",
      "988:\tlearn: 0.2290791\ttotal: 34.1s\tremaining: 380ms\n",
      "989:\tlearn: 0.2290120\ttotal: 34.2s\tremaining: 345ms\n",
      "990:\tlearn: 0.2289465\ttotal: 34.2s\tremaining: 311ms\n",
      "991:\tlearn: 0.2288684\ttotal: 34.3s\tremaining: 276ms\n",
      "992:\tlearn: 0.2287965\ttotal: 34.3s\tremaining: 242ms\n",
      "993:\tlearn: 0.2286842\ttotal: 34.3s\tremaining: 207ms\n",
      "994:\tlearn: 0.2286125\ttotal: 34.4s\tremaining: 173ms\n",
      "995:\tlearn: 0.2279809\ttotal: 34.4s\tremaining: 138ms\n",
      "996:\tlearn: 0.2279240\ttotal: 34.4s\tremaining: 104ms\n",
      "997:\tlearn: 0.2278191\ttotal: 34.5s\tremaining: 69.1ms\n",
      "998:\tlearn: 0.2277257\ttotal: 34.5s\tremaining: 34.5ms\n",
      "999:\tlearn: 0.2276475\ttotal: 34.6s\tremaining: 0us\n",
      "              precision    recall  f1-score   support\n",
      "\n",
      "           0       0.52      0.74      0.61       197\n",
      "           1       0.88      0.87      0.88       824\n",
      "           2       0.97      0.89      0.93       898\n",
      "\n",
      "    accuracy                           0.87      1919\n",
      "   macro avg       0.79      0.83      0.80      1919\n",
      "weighted avg       0.89      0.87      0.87      1919\n",
      "\n"
     ]
    }
   ],
   "source": [
    "pipe8 = Pipeline([\n",
    "                ('tf-idf', TfidfVectorizer(tokenizer=word_tokenize)),\n",
    "                ('CBC', CatBoostClassifier(learning_rate=0.6, depth=4, \n",
    "                                           loss_function='MultiClass')) \n",
    "                 ])\n",
    "pipe8.fit(X_train, y_train)\n",
    "y_pred8 = pipe8.predict(X_test)\n",
    "print(classification_report(y_pred8, y_test))"
   ]
  },
  {
   "cell_type": "markdown",
   "id": "c9b0b5fe",
   "metadata": {},
   "source": [
    "# Девятый способ с LightGBM"
   ]
  },
  {
   "cell_type": "code",
   "execution_count": 8,
   "id": "dcf60e3c",
   "metadata": {},
   "outputs": [],
   "source": [
    "from lightgbm import LGBMClassifier"
   ]
  },
  {
   "cell_type": "code",
   "execution_count": 49,
   "id": "5bed5760",
   "metadata": {},
   "outputs": [
    {
     "name": "stdout",
     "output_type": "stream",
     "text": [
      "              precision    recall  f1-score   support\n",
      "\n",
      "           0       0.49      0.72      0.58       191\n",
      "           1       0.90      0.87      0.88       868\n",
      "           2       0.95      0.89      0.92       860\n",
      "\n",
      "    accuracy                           0.86      1919\n",
      "   macro avg       0.78      0.83      0.80      1919\n",
      "weighted avg       0.88      0.86      0.87      1919\n",
      "\n"
     ]
    }
   ],
   "source": [
    "pipe0 = Pipeline([\n",
    "                ('tf-idf', TfidfVectorizer(tokenizer=word_tokenize)),\n",
    "                ('LGMClass', LGBMClassifier()) \n",
    "                 ])\n",
    "pipe0.fit(X_train, y_train)\n",
    "y_pred0 = pipe0.predict(X_test)\n",
    "print(classification_report(y_pred0, y_test))"
   ]
  },
  {
   "cell_type": "markdown",
   "id": "c380351c",
   "metadata": {},
   "source": [
    "## Десятый способ - LightGBM + SMOTE"
   ]
  },
  {
   "cell_type": "code",
   "execution_count": 9,
   "id": "78b43714",
   "metadata": {},
   "outputs": [
    {
     "name": "stderr",
     "output_type": "stream",
     "text": [
      "C:\\conda2\\lib\\site-packages\\sklearn\\feature_extraction\\text.py:489: UserWarning: The parameter 'token_pattern' will not be used since 'tokenizer' is not None'\n",
      "  warnings.warn(\"The parameter 'token_pattern' will not be used\"\n"
     ]
    }
   ],
   "source": [
    "vec_10_1 = TfidfVectorizer()\n",
    "vec_10_1.fit(df_2['tweet'])\n",
    "bow_10_1 = vec_10_1.transform(X_train)"
   ]
  },
  {
   "cell_type": "code",
   "execution_count": 18,
   "id": "34a819f5",
   "metadata": {},
   "outputs": [],
   "source": [
    "sm_1 = SMOTE (#sampling_strategy = 0.9,\n",
    "        random_state=0,\n",
    "        k_neighbors=25)\n",
    "X_train_res_1, y_train_res_1 = sm_1.fit_resample(bow_10_1, y_train)"
   ]
  },
  {
   "cell_type": "code",
   "execution_count": 19,
   "id": "e33d758d",
   "metadata": {},
   "outputs": [
    {
     "name": "stdout",
     "output_type": "stream",
     "text": [
      "              precision    recall  f1-score   support\n",
      "\n",
      "           0       0.60      0.66      0.63       276\n",
      "           1       0.84      0.87      0.85       758\n",
      "           2       0.96      0.91      0.94       885\n",
      "\n",
      "    accuracy                           0.86      1919\n",
      "   macro avg       0.80      0.81      0.81      1919\n",
      "weighted avg       0.86      0.86      0.86      1919\n",
      "\n"
     ]
    }
   ],
   "source": [
    "pipe0_1 = LGBMClassifier() \n",
    "               \n",
    "pipe0_1.fit(X_train_res_1, y_train_res_1)\n",
    "y_pred0_1 = pipe0_1.predict(vec_10_1.transform(X_test))\n",
    "print(classification_report(y_pred0_1, y_test))"
   ]
  },
  {
   "cell_type": "markdown",
   "id": "235b6f50",
   "metadata": {
    "papermill": {
     "duration": 0.180901,
     "end_time": "2022-03-16T19:27:17.227938",
     "exception": false,
     "start_time": "2022-03-16T19:27:17.047037",
     "status": "completed"
    },
    "tags": []
   },
   "source": [
    "## Одинадцатый способ - tf.keras Tokenizer + LSTM + Adam "
   ]
  },
  {
   "cell_type": "code",
   "execution_count": 34,
   "id": "2a5d7175",
   "metadata": {
    "execution": {
     "iopub.execute_input": "2022-03-16T19:27:17.595514Z",
     "iopub.status.busy": "2022-03-16T19:27:17.594781Z",
     "iopub.status.idle": "2022-03-16T19:27:18.682722Z",
     "shell.execute_reply": "2022-03-16T19:27:18.683128Z"
    },
    "papermill": {
     "duration": 1.274745,
     "end_time": "2022-03-16T19:27:18.683294",
     "exception": false,
     "start_time": "2022-03-16T19:27:17.408549",
     "status": "completed"
    },
    "tags": []
   },
   "outputs": [],
   "source": [
    "from tensorflow.keras.models import Model\n",
    "from tensorflow.keras.layers import LSTM, Activation, Dense, Dropout, Input, Embedding, SpatialDropout1D, Flatten\n",
    "from tensorflow.keras.optimizers import Adam\n",
    "from tensorflow.keras.preprocessing.text import Tokenizer\n",
    "from tensorflow.keras.preprocessing import sequence\n",
    "from tensorflow.keras.utils import to_categorical\n",
    "from tensorflow.keras.callbacks import EarlyStopping\n",
    "from tensorflow.keras.models import Sequential"
   ]
  },
  {
   "cell_type": "code",
   "execution_count": 35,
   "id": "3862979a",
   "metadata": {
    "execution": {
     "iopub.execute_input": "2022-03-16T19:27:19.087082Z",
     "iopub.status.busy": "2022-03-16T19:27:19.053312Z",
     "iopub.status.idle": "2022-03-16T19:27:19.650364Z",
     "shell.execute_reply": "2022-03-16T19:27:19.649852Z"
    },
    "papermill": {
     "duration": 0.784952,
     "end_time": "2022-03-16T19:27:19.650522",
     "exception": false,
     "start_time": "2022-03-16T19:27:18.865570",
     "status": "completed"
    },
    "tags": []
   },
   "outputs": [],
   "source": [
    "max_words = 50000\n",
    "max_len = 300\n",
    "tokenizer = Tokenizer(num_words=max_words)\n",
    "tokenizer.fit_on_texts(X_train)\n",
    "sequences = tokenizer.texts_to_sequences(X_train)\n",
    "sequences_matrix = sequence.pad_sequences(sequences,maxlen=max_len)"
   ]
  },
  {
   "cell_type": "code",
   "execution_count": 36,
   "id": "c31c7806",
   "metadata": {
    "execution": {
     "iopub.execute_input": "2022-03-16T19:27:20.203869Z",
     "iopub.status.busy": "2022-03-16T19:27:20.203030Z",
     "iopub.status.idle": "2022-03-16T19:27:29.712094Z",
     "shell.execute_reply": "2022-03-16T19:27:29.712527Z"
    },
    "papermill": {
     "duration": 9.828095,
     "end_time": "2022-03-16T19:27:29.712690",
     "exception": false,
     "start_time": "2022-03-16T19:27:19.884595",
     "status": "completed"
    },
    "tags": []
   },
   "outputs": [
    {
     "name": "stderr",
     "output_type": "stream",
     "text": [
      "2022-03-16 19:27:20.235505: I tensorflow/stream_executor/cuda/cuda_gpu_executor.cc:937] successful NUMA node read from SysFS had negative value (-1), but there must be at least one NUMA node, so returning NUMA node zero\n",
      "2022-03-16 19:27:20.237251: I tensorflow/stream_executor/cuda/cuda_gpu_executor.cc:937] successful NUMA node read from SysFS had negative value (-1), but there must be at least one NUMA node, so returning NUMA node zero\n",
      "2022-03-16 19:27:20.238218: I tensorflow/stream_executor/cuda/cuda_gpu_executor.cc:937] successful NUMA node read from SysFS had negative value (-1), but there must be at least one NUMA node, so returning NUMA node zero\n",
      "2022-03-16 19:27:20.239578: I tensorflow/core/platform/cpu_feature_guard.cc:142] This TensorFlow binary is optimized with oneAPI Deep Neural Network Library (oneDNN) to use the following CPU instructions in performance-critical operations:  AVX2 AVX512F FMA\n",
      "To enable them in other operations, rebuild TensorFlow with the appropriate compiler flags.\n",
      "2022-03-16 19:27:20.240583: I tensorflow/stream_executor/cuda/cuda_gpu_executor.cc:937] successful NUMA node read from SysFS had negative value (-1), but there must be at least one NUMA node, so returning NUMA node zero\n",
      "2022-03-16 19:27:20.241545: I tensorflow/stream_executor/cuda/cuda_gpu_executor.cc:937] successful NUMA node read from SysFS had negative value (-1), but there must be at least one NUMA node, so returning NUMA node zero\n",
      "2022-03-16 19:27:20.242485: I tensorflow/stream_executor/cuda/cuda_gpu_executor.cc:937] successful NUMA node read from SysFS had negative value (-1), but there must be at least one NUMA node, so returning NUMA node zero\n",
      "2022-03-16 19:27:29.217898: I tensorflow/stream_executor/cuda/cuda_gpu_executor.cc:937] successful NUMA node read from SysFS had negative value (-1), but there must be at least one NUMA node, so returning NUMA node zero\n",
      "2022-03-16 19:27:29.218684: I tensorflow/stream_executor/cuda/cuda_gpu_executor.cc:937] successful NUMA node read from SysFS had negative value (-1), but there must be at least one NUMA node, so returning NUMA node zero\n",
      "2022-03-16 19:27:29.219343: I tensorflow/stream_executor/cuda/cuda_gpu_executor.cc:937] successful NUMA node read from SysFS had negative value (-1), but there must be at least one NUMA node, so returning NUMA node zero\n",
      "2022-03-16 19:27:29.220024: I tensorflow/core/common_runtime/gpu/gpu_device.cc:1510] Created device /job:localhost/replica:0/task:0/device:GPU:0 with 14411 MB memory:  -> device: 0, name: Tesla P100-PCIE-16GB, pci bus id: 0000:00:04.0, compute capability: 6.0\n"
     ]
    },
    {
     "name": "stdout",
     "output_type": "stream",
     "text": [
      "Model: \"sequential\"\n",
      "_________________________________________________________________\n",
      "Layer (type)                 Output Shape              Param #   \n",
      "=================================================================\n",
      "embedding (Embedding)        (None, 300, 100)          5000000   \n",
      "_________________________________________________________________\n",
      "spatial_dropout1d (SpatialDr (None, 300, 100)          0         \n",
      "_________________________________________________________________\n",
      "lstm (LSTM)                  (None, 100)               80400     \n",
      "_________________________________________________________________\n",
      "dense (Dense)                (None, 1)                 101       \n",
      "_________________________________________________________________\n",
      "dense_1 (Dense)              (None, 1)                 2         \n",
      "=================================================================\n",
      "Total params: 5,080,503\n",
      "Trainable params: 5,080,503\n",
      "Non-trainable params: 0\n",
      "_________________________________________________________________\n"
     ]
    }
   ],
   "source": [
    "model_9 = Sequential()\n",
    "model_9.add(Embedding(max_words, 100, input_length=max_len))\n",
    "model_9.add(SpatialDropout1D(0.2))\n",
    "model_9.add(LSTM(100, dropout=0.2, recurrent_dropout=0.2))\n",
    "model_9.add(Dense(1, activation='sigmoid'))\n",
    "model_9.summary()\n",
    "model_9.compile(loss='categorical_crossentropy', optimizer=Adam(), metrics=['accuracy'])"
   ]
  },
  {
   "cell_type": "code",
   "execution_count": 37,
   "id": "0090486f",
   "metadata": {
    "execution": {
     "iopub.execute_input": "2022-03-16T19:27:30.083399Z",
     "iopub.status.busy": "2022-03-16T19:27:30.082556Z",
     "iopub.status.idle": "2022-03-16T19:27:30.084326Z",
     "shell.execute_reply": "2022-03-16T19:27:30.084799Z"
    },
    "papermill": {
     "duration": 0.186674,
     "end_time": "2022-03-16T19:27:30.084926",
     "exception": false,
     "start_time": "2022-03-16T19:27:29.898252",
     "status": "completed"
    },
    "tags": []
   },
   "outputs": [],
   "source": [
    "from tensorflow.keras.callbacks import EarlyStopping, ModelCheckpoint\n",
    "\n",
    "stop = EarlyStopping(\n",
    "    monitor='val_accuracy', \n",
    "    mode='max',\n",
    "    patience=3\n",
    ")\n",
    "\n",
    "checkpoint = ModelCheckpoint(\n",
    "    filepath='./',\n",
    "    save_weights_only=True,\n",
    "    monitor='val_accuracy',\n",
    "    mode='max',\n",
    "    save_best_only=True)"
   ]
  },
  {
   "cell_type": "code",
   "execution_count": 38,
   "id": "947d960c",
   "metadata": {
    "execution": {
     "iopub.execute_input": "2022-03-16T19:27:30.455630Z",
     "iopub.status.busy": "2022-03-16T19:27:30.454819Z",
     "iopub.status.idle": "2022-03-16T19:29:01.056836Z",
     "shell.execute_reply": "2022-03-16T19:29:01.056116Z"
    },
    "papermill": {
     "duration": 90.791306,
     "end_time": "2022-03-16T19:29:01.057031",
     "exception": false,
     "start_time": "2022-03-16T19:27:30.265725",
     "status": "completed"
    },
    "tags": []
   },
   "outputs": [
    {
     "name": "stderr",
     "output_type": "stream",
     "text": [
      "2022-03-16 19:27:30.512399: I tensorflow/compiler/mlir/mlir_graph_optimization_pass.cc:185] None of the MLIR Optimization Passes are enabled (registered 2)\n"
     ]
    },
    {
     "name": "stdout",
     "output_type": "stream",
     "text": [
      "Epoch 1/10\n",
      "16/16 [==============================] - 25s 1s/step - loss: 0.0000e+00 - accuracy: 0.7346 - val_loss: 0.0000e+00 - val_accuracy: 0.7736\n",
      "Epoch 2/10\n",
      "16/16 [==============================] - 22s 1s/step - loss: 0.0000e+00 - accuracy: 0.7754 - val_loss: 0.0000e+00 - val_accuracy: 0.7736\n",
      "Epoch 3/10\n",
      "16/16 [==============================] - 22s 1s/step - loss: 0.0000e+00 - accuracy: 0.7754 - val_loss: 0.0000e+00 - val_accuracy: 0.7736\n",
      "Epoch 4/10\n",
      "16/16 [==============================] - 22s 1s/step - loss: 0.0000e+00 - accuracy: 0.7754 - val_loss: 0.0000e+00 - val_accuracy: 0.7736\n"
     ]
    }
   ],
   "source": [
    "history = model_9.fit(sequences_matrix, y_train,batch_size=1024, epochs=10,\n",
    "          validation_split=0.2, callbacks=[stop, checkpoint])"
   ]
  },
  {
   "cell_type": "code",
   "execution_count": 39,
   "id": "2ba5f503",
   "metadata": {
    "execution": {
     "iopub.execute_input": "2022-03-16T19:29:01.480765Z",
     "iopub.status.busy": "2022-03-16T19:29:01.480036Z",
     "iopub.status.idle": "2022-03-16T19:29:54.813764Z",
     "shell.execute_reply": "2022-03-16T19:29:54.813234Z"
    },
    "papermill": {
     "duration": 53.553985,
     "end_time": "2022-03-16T19:29:54.813907",
     "exception": false,
     "start_time": "2022-03-16T19:29:01.259922",
     "status": "completed"
    },
    "tags": []
   },
   "outputs": [],
   "source": [
    "test_sequences = tokenizer.texts_to_sequences(X_test)\n",
    "test_sequences_matrix = sequence.pad_sequences(test_sequences, maxlen=max_len)"
   ]
  },
  {
   "cell_type": "code",
   "execution_count": 40,
   "id": "372a2701",
   "metadata": {
    "execution": {
     "iopub.execute_input": "2022-03-16T19:29:55.232217Z",
     "iopub.status.busy": "2022-03-16T19:29:55.231356Z",
     "iopub.status.idle": "2022-03-16T19:30:06.486460Z",
     "shell.execute_reply": "2022-03-16T19:30:06.486865Z"
    },
    "papermill": {
     "duration": 11.466671,
     "end_time": "2022-03-16T19:30:06.487015",
     "exception": false,
     "start_time": "2022-03-16T19:29:55.020344",
     "status": "completed"
    },
    "tags": []
   },
   "outputs": [
    {
     "name": "stdout",
     "output_type": "stream",
     "text": [
      "155/155 [==============================] - 11s 72ms/step - loss: 0.0000e+00 - accuracy: 0.7714\n"
     ]
    }
   ],
   "source": [
    "accr = model_9.evaluate(test_sequences_matrix, y_test)"
   ]
  },
  {
   "cell_type": "code",
   "execution_count": 41,
   "id": "b31db950",
   "metadata": {
    "execution": {
     "iopub.execute_input": "2022-03-16T19:30:07.006234Z",
     "iopub.status.busy": "2022-03-16T19:30:07.004664Z",
     "iopub.status.idle": "2022-03-16T19:30:07.006841Z",
     "shell.execute_reply": "2022-03-16T19:30:07.007242Z"
    },
    "papermill": {
     "duration": 0.266717,
     "end_time": "2022-03-16T19:30:07.007387",
     "exception": false,
     "start_time": "2022-03-16T19:30:06.740670",
     "status": "completed"
    },
    "tags": []
   },
   "outputs": [],
   "source": [
    "# не работает\n",
    "# from sklearn.metrics import accuracy_score\n",
    "# try:\n",
    "#     print(classification_report(pred_9, y_test))\n",
    "# except:\n",
    "#     print(accuracy_score(pred_9, y_test))\n",
    "# finally:\n",
    "#     continue"
   ]
  },
  {
   "cell_type": "markdown",
   "id": "49506499",
   "metadata": {
    "papermill": {
     "duration": 0.253847,
     "end_time": "2022-03-16T19:30:07.514174",
     "exception": false,
     "start_time": "2022-03-16T19:30:07.260327",
     "status": "completed"
    },
    "tags": []
   },
   "source": [
    "## Двенадцатый способ - SMOTE + CountVectorizer + SVC"
   ]
  },
  {
   "cell_type": "code",
   "execution_count": 12,
   "id": "813d29b6",
   "metadata": {
    "execution": {
     "iopub.execute_input": "2022-03-16T19:30:09.583116Z",
     "iopub.status.busy": "2022-03-16T19:30:09.582169Z",
     "iopub.status.idle": "2022-03-16T19:30:09.585019Z",
     "shell.execute_reply": "2022-03-16T19:30:09.584588Z"
    },
    "papermill": {
     "duration": 0.263686,
     "end_time": "2022-03-16T19:30:09.585127",
     "exception": false,
     "start_time": "2022-03-16T19:30:09.321441",
     "status": "completed"
    },
    "tags": []
   },
   "outputs": [],
   "source": [
    "X_train_10, X_test_10, y_train_10, y_test_10 = train_test_split(df_2['tweet'], \n",
    "                                                                df_2['class'], test_size = 0.2)"
   ]
  },
  {
   "cell_type": "code",
   "execution_count": 13,
   "id": "bcd82dcc",
   "metadata": {
    "execution": {
     "iopub.execute_input": "2022-03-16T19:30:10.167477Z",
     "iopub.status.busy": "2022-03-16T19:30:10.142142Z",
     "iopub.status.idle": "2022-03-16T19:30:10.211868Z",
     "shell.execute_reply": "2022-03-16T19:30:10.212311Z"
    },
    "papermill": {
     "duration": 0.372435,
     "end_time": "2022-03-16T19:30:10.212473",
     "exception": false,
     "start_time": "2022-03-16T19:30:09.840038",
     "status": "completed"
    },
    "tags": []
   },
   "outputs": [],
   "source": [
    "vec_10 = CountVectorizer( ngram_range=(1, 1))\n",
    "vec_10.fit(df_2['tweet'])\n",
    "bow_10 = vec_10.transform(X_train_10)"
   ]
  },
  {
   "cell_type": "markdown",
   "id": "536b78b3",
   "metadata": {
    "papermill": {
     "duration": 0.255196,
     "end_time": "2022-03-16T19:30:10.769449",
     "exception": false,
     "start_time": "2022-03-16T19:30:10.514253",
     "status": "completed"
    },
    "tags": []
   },
   "source": [
    "## Дисбаланс классов - SMOTE - Synthetic Minority Oversampling Techniques"
   ]
  },
  {
   "cell_type": "code",
   "execution_count": 6,
   "id": "e4290568",
   "metadata": {
    "execution": {
     "iopub.execute_input": "2022-03-16T19:30:11.284666Z",
     "iopub.status.busy": "2022-03-16T19:30:11.284047Z",
     "iopub.status.idle": "2022-03-16T19:30:11.392580Z",
     "shell.execute_reply": "2022-03-16T19:30:11.392002Z"
    },
    "papermill": {
     "duration": 0.366177,
     "end_time": "2022-03-16T19:30:11.392708",
     "exception": false,
     "start_time": "2022-03-16T19:30:11.026531",
     "status": "completed"
    },
    "tags": []
   },
   "outputs": [],
   "source": [
    "from imblearn.over_sampling import SMOTE"
   ]
  },
  {
   "cell_type": "code",
   "execution_count": 14,
   "id": "46b3e7df",
   "metadata": {
    "execution": {
     "iopub.execute_input": "2022-03-16T19:30:11.910150Z",
     "iopub.status.busy": "2022-03-16T19:30:11.909141Z",
     "iopub.status.idle": "2022-03-16T19:30:12.282547Z",
     "shell.execute_reply": "2022-03-16T19:30:12.281946Z"
    },
    "papermill": {
     "duration": 0.634593,
     "end_time": "2022-03-16T19:30:12.282671",
     "exception": false,
     "start_time": "2022-03-16T19:30:11.648078",
     "status": "completed"
    },
    "tags": []
   },
   "outputs": [],
   "source": [
    "sm = SMOTE (#sampling_strategy = 0.9,\n",
    "        random_state=0,\n",
    "        k_neighbors=4)\n",
    "X_train_res, y_train_res = sm.fit_resample(bow_10, y_train_10)"
   ]
  },
  {
   "cell_type": "code",
   "execution_count": 17,
   "id": "48aea73c",
   "metadata": {
    "execution": {
     "iopub.execute_input": "2022-03-16T19:30:12.808019Z",
     "iopub.status.busy": "2022-03-16T19:30:12.807464Z",
     "iopub.status.idle": "2022-03-16T19:30:12.811100Z",
     "shell.execute_reply": "2022-03-16T19:30:12.811563Z"
    },
    "papermill": {
     "duration": 0.274049,
     "end_time": "2022-03-16T19:30:12.811716",
     "exception": false,
     "start_time": "2022-03-16T19:30:12.537667",
     "status": "completed"
    },
    "tags": []
   },
   "outputs": [
    {
     "name": "stdout",
     "output_type": "stream",
     "text": [
      "\t\tДО балансировки \tПОСЛЕ балансировки \n",
      "класс 2 : \t3368\t\t\t3368\n",
      "класс 1 : \t3159\t\t\t3368\n",
      "класс 0 : \t1147\t\t\t3368\n",
      "y :\t\t(7674,)\t\t\t(10104,)\n",
      "X :\t\t(7674, 11677)\t\t(10104, 11677)\n"
     ]
    }
   ],
   "source": [
    "print('\\t\\tДО балансировки \\tПОСЛЕ балансировки ')\n",
    "print('класс 2 : \\t{}\\t\\t\\t{}'.format(sum(y_train_10==2), sum(y_train_res==2)))\n",
    "print('класс 1 : \\t{}\\t\\t\\t{}'.format(sum(y_train_10==1), sum(y_train_res==1)))\n",
    "print('класс 0 : \\t{}\\t\\t\\t{}'.format(sum(y_train_10==0), sum(y_train_res==0)))\n",
    "print('y :\\t\\t{}\\t\\t\\t{}'.format(y_train_10.shape, y_train_res.shape))\n",
    "print('X :\\t\\t{}\\t\\t{}'.format(bow_10.shape, X_train_res.shape))"
   ]
  },
  {
   "cell_type": "code",
   "execution_count": 10,
   "id": "d40fbd8a",
   "metadata": {
    "execution": {
     "iopub.execute_input": "2022-03-16T19:30:13.837864Z",
     "iopub.status.busy": "2022-03-16T19:30:13.837135Z",
     "iopub.status.idle": "2022-03-16T19:30:24.309428Z",
     "shell.execute_reply": "2022-03-16T19:30:24.308643Z"
    },
    "papermill": {
     "duration": 10.730815,
     "end_time": "2022-03-16T19:30:24.309563",
     "exception": false,
     "start_time": "2022-03-16T19:30:13.578748",
     "status": "completed"
    },
    "tags": []
   },
   "outputs": [
    {
     "name": "stdout",
     "output_type": "stream",
     "text": [
      "              precision    recall  f1-score   support\n",
      "\n",
      "           0       0.51      0.62      0.56       240\n",
      "           1       0.82      0.89      0.85       716\n",
      "           2       0.95      0.84      0.89       963\n",
      "\n",
      "    accuracy                           0.83      1919\n",
      "   macro avg       0.76      0.78      0.77      1919\n",
      "weighted avg       0.85      0.83      0.84      1919\n",
      "\n"
     ]
    }
   ],
   "source": [
    "model_10 = SVC()\n",
    "model_10.fit(X_train_res, y_train_res)\n",
    "pred_10 = model_10.predict(vec_10.transform(X_test_10))\n",
    "print(classification_report(pred_10, y_test_10))"
   ]
  },
  {
   "cell_type": "markdown",
   "id": "7e57393c",
   "metadata": {},
   "source": [
    "#### для укороченного датасета + SMOTE"
   ]
  },
  {
   "cell_type": "code",
   "execution_count": 12,
   "id": "d7e22137",
   "metadata": {},
   "outputs": [
    {
     "name": "stdout",
     "output_type": "stream",
     "text": [
      "              precision    recall  f1-score   support\n",
      "\n",
      "           0       0.62      0.57      0.59       318\n",
      "           1       0.83      0.89      0.86       731\n",
      "           2       0.91      0.90      0.91       870\n",
      "\n",
      "    accuracy                           0.84      1919\n",
      "   macro avg       0.79      0.78      0.79      1919\n",
      "weighted avg       0.84      0.84      0.84      1919\n",
      "\n"
     ]
    }
   ],
   "source": [
    "clf_00 = LogisticRegression(random_state=42, solver='liblinear')\n",
    "clf_00.fit(X_train_res, y_train_res)\n",
    "pred_00 = clf_00.predict(vec_10.transform(X_test_10))\n",
    "print(classification_report(pred_00, y_test_10))"
   ]
  },
  {
   "cell_type": "markdown",
   "id": "8bc441e3",
   "metadata": {},
   "source": [
    "#### для длинного датасета + SMOTE"
   ]
  },
  {
   "cell_type": "code",
   "execution_count": 8,
   "id": "31bfabe5",
   "metadata": {},
   "outputs": [
    {
     "name": "stdout",
     "output_type": "stream",
     "text": [
      "              precision    recall  f1-score   support\n",
      "\n",
      "           0       0.47      0.32      0.38       434\n",
      "           1       0.89      0.94      0.92      3644\n",
      "           2       0.87      0.82      0.84       879\n",
      "\n",
      "    accuracy                           0.86      4957\n",
      "   macro avg       0.74      0.69      0.71      4957\n",
      "weighted avg       0.85      0.86      0.86      4957\n",
      "\n"
     ]
    }
   ],
   "source": [
    "clf_00 = LogisticRegression(random_state=42, solver='liblinear')\n",
    "clf_00.fit(X_train_res, y_train_res)\n",
    "pred_00 = clf_00.predict(vec_10.transform(X_test_10))\n",
    "print(classification_report(pred_00, y_test_10))"
   ]
  },
  {
   "cell_type": "markdown",
   "id": "a9b99d70",
   "metadata": {
    "papermill": {
     "duration": 0.254496,
     "end_time": "2022-03-16T19:30:24.820038",
     "exception": false,
     "start_time": "2022-03-16T19:30:24.565542",
     "status": "completed"
    },
    "tags": []
   },
   "source": [
    "## Одиннадцатый способ - слои BERT + LogReg"
   ]
  },
  {
   "cell_type": "code",
   "execution_count": 36,
   "id": "0f81d86d",
   "metadata": {
    "execution": {
     "iopub.execute_input": "2022-03-16T19:30:25.336570Z",
     "iopub.status.busy": "2022-03-16T19:30:25.335855Z",
     "iopub.status.idle": "2022-03-16T19:30:25.426860Z",
     "shell.execute_reply": "2022-03-16T19:30:25.426347Z"
    },
    "papermill": {
     "duration": 0.350753,
     "end_time": "2022-03-16T19:30:25.426983",
     "exception": false,
     "start_time": "2022-03-16T19:30:25.076230",
     "status": "completed"
    },
    "tags": []
   },
   "outputs": [],
   "source": [
    "import transformers as ppb"
   ]
  },
  {
   "cell_type": "code",
   "execution_count": 37,
   "id": "8035a504",
   "metadata": {
    "execution": {
     "iopub.execute_input": "2022-03-16T19:30:25.955320Z",
     "iopub.status.busy": "2022-03-16T19:30:25.954661Z",
     "iopub.status.idle": "2022-03-16T19:30:39.317925Z",
     "shell.execute_reply": "2022-03-16T19:30:39.318746Z"
    },
    "papermill": {
     "duration": 13.632031,
     "end_time": "2022-03-16T19:30:39.318924",
     "exception": false,
     "start_time": "2022-03-16T19:30:25.686893",
     "status": "completed"
    },
    "tags": []
   },
   "outputs": [
    {
     "name": "stderr",
     "output_type": "stream",
     "text": [
      "Some weights of the model checkpoint at distilbert-base-uncased were not used when initializing DistilBertModel: ['vocab_projector.weight', 'vocab_transform.bias', 'vocab_layer_norm.weight', 'vocab_layer_norm.bias', 'vocab_projector.bias', 'vocab_transform.weight']\n",
      "- This IS expected if you are initializing DistilBertModel from the checkpoint of a model trained on another task or with another architecture (e.g. initializing a BertForSequenceClassification model from a BertForPreTraining model).\n",
      "- This IS NOT expected if you are initializing DistilBertModel from the checkpoint of a model that you expect to be exactly identical (initializing a BertForSequenceClassification model from a BertForSequenceClassification model).\n"
     ]
    }
   ],
   "source": [
    "# For DistilBERT:\n",
    "model_class_11, tokenizer_class_11, pretrained_weights_11 = (ppb.DistilBertModel, \n",
    "                                                             ppb.DistilBertTokenizer, \n",
    "                                                             'distilbert-base-uncased')\n",
    "\n",
    "# ## Want BERT instead of distilBERT? Uncomment the following line:\n",
    "# model_class_11, tokenizer_class_11, pretrained_weights_11 = (ppb.BertModel, ppb.BertTokenizer, 'bert-base-uncased')\n",
    "\n",
    "# Load pretrained model/tokenizer\n",
    "tokenizer_11 = tokenizer_class_11.from_pretrained(pretrained_weights_11)\n",
    "model_11 = model_class_11.from_pretrained(pretrained_weights_11)"
   ]
  },
  {
   "cell_type": "code",
   "execution_count": 38,
   "id": "12b21cf1",
   "metadata": {
    "execution": {
     "iopub.execute_input": "2022-03-16T19:30:39.845464Z",
     "iopub.status.busy": "2022-03-16T19:30:39.844569Z",
     "iopub.status.idle": "2022-03-16T19:30:39.846397Z",
     "shell.execute_reply": "2022-03-16T19:30:39.846873Z"
    },
    "papermill": {
     "duration": 0.266702,
     "end_time": "2022-03-16T19:30:39.847005",
     "exception": false,
     "start_time": "2022-03-16T19:30:39.580303",
     "status": "completed"
    },
    "tags": []
   },
   "outputs": [],
   "source": [
    "def clean_text_for_BERT(text):\n",
    "    '''Функция на вход получает текст, на выходе выдаёт очищенный текст для BERT'''\n",
    "    \n",
    "    text = re.sub(\"@[\\w'._+-:]+\", 'USER_NAME_TAG', text) # второй шаг - убираем ники пользователей твитера, т.к. обычно не несут никакой окраски\n",
    "    text = re.sub('https?://\\S+|www\\.\\S+', 'URL_TAG', text) # третий шаг - убираем ссылки в твитах, т.к. названия ссылок  обычно не влияют на тональность \n",
    "\n",
    "    return text"
   ]
  },
  {
   "cell_type": "code",
   "execution_count": 41,
   "id": "2f260955",
   "metadata": {
    "execution": {
     "iopub.execute_input": "2022-03-16T19:30:40.381593Z",
     "iopub.status.busy": "2022-03-16T19:30:40.380825Z",
     "iopub.status.idle": "2022-03-16T19:30:40.384228Z",
     "shell.execute_reply": "2022-03-16T19:30:40.383757Z"
    },
    "papermill": {
     "duration": 0.265542,
     "end_time": "2022-03-16T19:30:40.384355",
     "exception": false,
     "start_time": "2022-03-16T19:30:40.118813",
     "status": "completed"
    },
    "tags": []
   },
   "outputs": [],
   "source": [
    "df_11 = df_1.copy()"
   ]
  },
  {
   "cell_type": "code",
   "execution_count": 42,
   "id": "2d068a9b",
   "metadata": {
    "execution": {
     "iopub.execute_input": "2022-03-16T19:30:40.926365Z",
     "iopub.status.busy": "2022-03-16T19:30:40.916146Z",
     "iopub.status.idle": "2022-03-16T19:30:41.036670Z",
     "shell.execute_reply": "2022-03-16T19:30:41.036183Z"
    },
    "papermill": {
     "duration": 0.393462,
     "end_time": "2022-03-16T19:30:41.036808",
     "exception": false,
     "start_time": "2022-03-16T19:30:40.643346",
     "status": "completed"
    },
    "tags": []
   },
   "outputs": [],
   "source": [
    "df_11['tweet'] = df_11['tweet'].apply(clean_text_for_BERT)"
   ]
  },
  {
   "cell_type": "code",
   "execution_count": 43,
   "id": "22ec0c48",
   "metadata": {
    "execution": {
     "iopub.execute_input": "2022-03-16T19:30:41.573036Z",
     "iopub.status.busy": "2022-03-16T19:30:41.572192Z",
     "iopub.status.idle": "2022-03-16T19:30:57.897800Z",
     "shell.execute_reply": "2022-03-16T19:30:57.896838Z"
    },
    "papermill": {
     "duration": 16.600602,
     "end_time": "2022-03-16T19:30:57.897952",
     "exception": false,
     "start_time": "2022-03-16T19:30:41.297350",
     "status": "completed"
    },
    "tags": []
   },
   "outputs": [],
   "source": [
    "#токенизация\n",
    "tokenized = df_11['tweet'].apply(lambda x: tokenizer_11.encode(x, add_special_tokens=True))"
   ]
  },
  {
   "cell_type": "code",
   "execution_count": 44,
   "id": "c3102850",
   "metadata": {
    "execution": {
     "iopub.execute_input": "2022-03-16T19:30:58.467215Z",
     "iopub.status.busy": "2022-03-16T19:30:58.444187Z",
     "iopub.status.idle": "2022-03-16T19:31:00.558434Z",
     "shell.execute_reply": "2022-03-16T19:31:00.557946Z"
    },
    "papermill": {
     "duration": 2.400921,
     "end_time": "2022-03-16T19:31:00.558574",
     "exception": false,
     "start_time": "2022-03-16T19:30:58.157653",
     "status": "completed"
    },
    "tags": []
   },
   "outputs": [],
   "source": [
    "#padding - Выравниваем предложения по длине с помощью нулевых токенов.\n",
    "\n",
    "# находим самое длинное предложение\n",
    "max_len = 0\n",
    "for i in tokenized.values:\n",
    "    if len(i) > max_len:\n",
    "        max_len = len(i)\n",
    "\n",
    "# заполняем обучающие данные, где не хватает длины до максимума -- добавляем нули\n",
    "padded = np.array([i + [0]*(max_len-len(i)) for i in tokenized.values])"
   ]
  },
  {
   "cell_type": "code",
   "execution_count": 45,
   "id": "3de4d4d1",
   "metadata": {
    "execution": {
     "iopub.execute_input": "2022-03-16T19:31:01.082057Z",
     "iopub.status.busy": "2022-03-16T19:31:01.080868Z",
     "iopub.status.idle": "2022-03-16T19:31:01.119123Z",
     "shell.execute_reply": "2022-03-16T19:31:01.119646Z"
    },
    "papermill": {
     "duration": 0.302101,
     "end_time": "2022-03-16T19:31:01.119806",
     "exception": false,
     "start_time": "2022-03-16T19:31:00.817705",
     "status": "completed"
    },
    "tags": []
   },
   "outputs": [
    {
     "data": {
      "text/plain": [
       "(24783, 479)"
      ]
     },
     "execution_count": 45,
     "metadata": {},
     "output_type": "execute_result"
    }
   ],
   "source": [
    "np.array(padded).shape"
   ]
  },
  {
   "cell_type": "code",
   "execution_count": 46,
   "id": "a053d24b",
   "metadata": {
    "execution": {
     "iopub.execute_input": "2022-03-16T19:31:01.646492Z",
     "iopub.status.busy": "2022-03-16T19:31:01.645797Z",
     "iopub.status.idle": "2022-03-16T19:31:01.648735Z",
     "shell.execute_reply": "2022-03-16T19:31:01.649139Z"
    },
    "papermill": {
     "duration": 0.27082,
     "end_time": "2022-03-16T19:31:01.649269",
     "exception": false,
     "start_time": "2022-03-16T19:31:01.378449",
     "status": "completed"
    },
    "tags": []
   },
   "outputs": [
    {
     "data": {
      "text/plain": [
       "array([  101,   999,   999,   999, 19387,  5310,  1035,  2171,  1035,\n",
       "        6415,  2004,  1037,  2450,  2017,  5807,  1005,  1056, 17612,\n",
       "        2055,  9344,  2039,  2115,  2160,  1012,  1004, 23713,  1025,\n",
       "        2004,  1037,  2158,  2017,  2323,  2467,  2202,  1996, 11669,\n",
       "        2041,  1012,  1012,  1012,   102,     0,     0,     0,     0,\n",
       "           0,     0,     0,     0,     0,     0,     0,     0,     0,\n",
       "           0,     0,     0,     0,     0,     0,     0,     0,     0,\n",
       "           0,     0,     0,     0,     0,     0,     0,     0,     0,\n",
       "           0,     0,     0,     0,     0,     0,     0,     0,     0,\n",
       "           0,     0,     0,     0,     0,     0,     0,     0,     0,\n",
       "           0,     0,     0,     0,     0,     0,     0,     0,     0,\n",
       "           0,     0,     0,     0,     0,     0,     0,     0,     0,\n",
       "           0,     0,     0,     0,     0,     0,     0,     0,     0,\n",
       "           0,     0,     0,     0,     0,     0,     0,     0,     0,\n",
       "           0,     0,     0,     0,     0,     0,     0,     0,     0,\n",
       "           0,     0,     0,     0,     0,     0,     0,     0,     0,\n",
       "           0,     0,     0,     0,     0,     0,     0,     0,     0,\n",
       "           0,     0,     0,     0,     0,     0,     0,     0,     0,\n",
       "           0,     0,     0,     0,     0,     0,     0,     0,     0,\n",
       "           0,     0,     0,     0,     0,     0,     0,     0,     0,\n",
       "           0,     0,     0,     0,     0,     0,     0,     0,     0,\n",
       "           0,     0,     0,     0,     0,     0,     0,     0,     0,\n",
       "           0,     0,     0,     0,     0,     0,     0,     0,     0,\n",
       "           0,     0,     0,     0,     0,     0,     0,     0,     0,\n",
       "           0,     0,     0,     0,     0,     0,     0,     0,     0,\n",
       "           0,     0,     0,     0,     0,     0,     0,     0,     0,\n",
       "           0,     0,     0,     0,     0,     0,     0,     0,     0,\n",
       "           0,     0,     0,     0,     0,     0,     0,     0,     0,\n",
       "           0,     0,     0,     0,     0,     0,     0,     0,     0,\n",
       "           0,     0,     0,     0,     0,     0,     0,     0,     0,\n",
       "           0,     0,     0,     0,     0,     0,     0,     0,     0,\n",
       "           0,     0,     0,     0,     0,     0,     0,     0,     0,\n",
       "           0,     0,     0,     0,     0,     0,     0,     0,     0,\n",
       "           0,     0,     0,     0,     0,     0,     0,     0,     0,\n",
       "           0,     0,     0,     0,     0,     0,     0,     0,     0,\n",
       "           0,     0,     0,     0,     0,     0,     0,     0,     0,\n",
       "           0,     0,     0,     0,     0,     0,     0,     0,     0,\n",
       "           0,     0,     0,     0,     0,     0,     0,     0,     0,\n",
       "           0,     0,     0,     0,     0,     0,     0,     0,     0,\n",
       "           0,     0,     0,     0,     0,     0,     0,     0,     0,\n",
       "           0,     0,     0,     0,     0,     0,     0,     0,     0,\n",
       "           0,     0,     0,     0,     0,     0,     0,     0,     0,\n",
       "           0,     0,     0,     0,     0,     0,     0,     0,     0,\n",
       "           0,     0,     0,     0,     0,     0,     0,     0,     0,\n",
       "           0,     0,     0,     0,     0,     0,     0,     0,     0,\n",
       "           0,     0,     0,     0,     0,     0,     0,     0,     0,\n",
       "           0,     0,     0,     0,     0,     0,     0,     0,     0,\n",
       "           0,     0,     0,     0,     0,     0,     0,     0,     0,\n",
       "           0,     0,     0,     0,     0,     0,     0,     0,     0,\n",
       "           0,     0,     0,     0,     0,     0,     0,     0,     0,\n",
       "           0,     0,     0,     0,     0,     0,     0,     0,     0,\n",
       "           0,     0,     0,     0,     0,     0,     0,     0,     0,\n",
       "           0,     0,     0,     0,     0,     0,     0,     0,     0,\n",
       "           0,     0])"
      ]
     },
     "execution_count": 46,
     "metadata": {},
     "output_type": "execute_result"
    }
   ],
   "source": [
    "padded[0]"
   ]
  },
  {
   "cell_type": "code",
   "execution_count": 47,
   "id": "b8f3e294",
   "metadata": {
    "execution": {
     "iopub.execute_input": "2022-03-16T19:31:02.174196Z",
     "iopub.status.busy": "2022-03-16T19:31:02.173277Z",
     "iopub.status.idle": "2022-03-16T19:31:02.216218Z",
     "shell.execute_reply": "2022-03-16T19:31:02.216674Z"
    },
    "papermill": {
     "duration": 0.308394,
     "end_time": "2022-03-16T19:31:02.216830",
     "exception": false,
     "start_time": "2022-03-16T19:31:01.908436",
     "status": "completed"
    },
    "tags": []
   },
   "outputs": [
    {
     "data": {
      "text/plain": [
       "array([1, 1, 1, 1, 1, 1, 1, 1, 1, 1, 1, 1, 1, 1, 1, 1, 1, 1, 1, 1, 1, 1,\n",
       "       1, 1, 1, 1, 1, 1, 1, 1, 1, 1, 1, 1, 1, 1, 1, 1, 1, 1, 1, 0, 0, 0,\n",
       "       0, 0, 0, 0, 0, 0, 0, 0, 0, 0, 0, 0, 0, 0, 0, 0, 0, 0, 0, 0, 0, 0,\n",
       "       0, 0, 0, 0, 0, 0, 0, 0, 0, 0, 0, 0, 0, 0, 0, 0, 0, 0, 0, 0, 0, 0,\n",
       "       0, 0, 0, 0, 0, 0, 0, 0, 0, 0, 0, 0, 0, 0, 0, 0, 0, 0, 0, 0, 0, 0,\n",
       "       0, 0, 0, 0, 0, 0, 0, 0, 0, 0, 0, 0, 0, 0, 0, 0, 0, 0, 0, 0, 0, 0,\n",
       "       0, 0, 0, 0, 0, 0, 0, 0, 0, 0, 0, 0, 0, 0, 0, 0, 0, 0, 0, 0, 0, 0,\n",
       "       0, 0, 0, 0, 0, 0, 0, 0, 0, 0, 0, 0, 0, 0, 0, 0, 0, 0, 0, 0, 0, 0,\n",
       "       0, 0, 0, 0, 0, 0, 0, 0, 0, 0, 0, 0, 0, 0, 0, 0, 0, 0, 0, 0, 0, 0,\n",
       "       0, 0, 0, 0, 0, 0, 0, 0, 0, 0, 0, 0, 0, 0, 0, 0, 0, 0, 0, 0, 0, 0,\n",
       "       0, 0, 0, 0, 0, 0, 0, 0, 0, 0, 0, 0, 0, 0, 0, 0, 0, 0, 0, 0, 0, 0,\n",
       "       0, 0, 0, 0, 0, 0, 0, 0, 0, 0, 0, 0, 0, 0, 0, 0, 0, 0, 0, 0, 0, 0,\n",
       "       0, 0, 0, 0, 0, 0, 0, 0, 0, 0, 0, 0, 0, 0, 0, 0, 0, 0, 0, 0, 0, 0,\n",
       "       0, 0, 0, 0, 0, 0, 0, 0, 0, 0, 0, 0, 0, 0, 0, 0, 0, 0, 0, 0, 0, 0,\n",
       "       0, 0, 0, 0, 0, 0, 0, 0, 0, 0, 0, 0, 0, 0, 0, 0, 0, 0, 0, 0, 0, 0,\n",
       "       0, 0, 0, 0, 0, 0, 0, 0, 0, 0, 0, 0, 0, 0, 0, 0, 0, 0, 0, 0, 0, 0,\n",
       "       0, 0, 0, 0, 0, 0, 0, 0, 0, 0, 0, 0, 0, 0, 0, 0, 0, 0, 0, 0, 0, 0,\n",
       "       0, 0, 0, 0, 0, 0, 0, 0, 0, 0, 0, 0, 0, 0, 0, 0, 0, 0, 0, 0, 0, 0,\n",
       "       0, 0, 0, 0, 0, 0, 0, 0, 0, 0, 0, 0, 0, 0, 0, 0, 0, 0, 0, 0, 0, 0,\n",
       "       0, 0, 0, 0, 0, 0, 0, 0, 0, 0, 0, 0, 0, 0, 0, 0, 0, 0, 0, 0, 0, 0,\n",
       "       0, 0, 0, 0, 0, 0, 0, 0, 0, 0, 0, 0, 0, 0, 0, 0, 0, 0, 0, 0, 0, 0,\n",
       "       0, 0, 0, 0, 0, 0, 0, 0, 0, 0, 0, 0, 0, 0, 0, 0, 0])"
      ]
     },
     "execution_count": 47,
     "metadata": {},
     "output_type": "execute_result"
    }
   ],
   "source": [
    "#Masking - Теперь создаём отдельную переменную, чтобы сказать берту, что надо игнорировать паддинг при подсчёте attention.\n",
    "attention_mask = np.where(padded != 0, 1, 0)\n",
    "attention_mask.shape\n",
    "attention_mask[0]"
   ]
  },
  {
   "cell_type": "code",
   "execution_count": 48,
   "id": "ee0efd51",
   "metadata": {
    "execution": {
     "iopub.execute_input": "2022-03-16T19:31:02.743154Z",
     "iopub.status.busy": "2022-03-16T19:31:02.741614Z",
     "iopub.status.idle": "2022-03-16T19:31:02.743738Z",
     "shell.execute_reply": "2022-03-16T19:31:02.744153Z"
    },
    "papermill": {
     "duration": 0.26729,
     "end_time": "2022-03-16T19:31:02.744286",
     "exception": false,
     "start_time": "2022-03-16T19:31:02.476996",
     "status": "completed"
    },
    "tags": []
   },
   "outputs": [],
   "source": [
    "import torch"
   ]
  },
  {
   "cell_type": "code",
   "execution_count": 49,
   "id": "fe39d822",
   "metadata": {
    "execution": {
     "iopub.execute_input": "2022-03-16T19:31:03.267284Z",
     "iopub.status.busy": "2022-03-16T19:31:03.266248Z",
     "iopub.status.idle": "2022-03-16T19:33:07.638867Z",
     "shell.execute_reply": "2022-03-16T19:33:07.639993Z"
    },
    "papermill": {
     "duration": 124.637283,
     "end_time": "2022-03-16T19:33:07.640239",
     "exception": false,
     "start_time": "2022-03-16T19:31:03.002956",
     "status": "completed"
    },
    "tags": []
   },
   "outputs": [],
   "source": [
    "#Используем BERT-model() прогоняет предложения через BERT\n",
    "# повысить если Kaggle-Kernel\n",
    "input_ids = torch.tensor(padded[:200])  \n",
    "attention_mask = torch.tensor(attention_mask[:200])\n",
    "\n",
    "with torch.no_grad():\n",
    "    last_hidden_states = model_11(input_ids, attention_mask=attention_mask)"
   ]
  },
  {
   "cell_type": "code",
   "execution_count": 50,
   "id": "22a24237",
   "metadata": {
    "execution": {
     "iopub.execute_input": "2022-03-16T19:33:08.486711Z",
     "iopub.status.busy": "2022-03-16T19:33:08.485811Z",
     "iopub.status.idle": "2022-03-16T19:33:08.487700Z",
     "shell.execute_reply": "2022-03-16T19:33:08.488107Z"
    },
    "papermill": {
     "duration": 0.421111,
     "end_time": "2022-03-16T19:33:08.488236",
     "exception": false,
     "start_time": "2022-03-16T19:33:08.067125",
     "status": "completed"
    },
    "tags": []
   },
   "outputs": [],
   "source": [
    "features = last_hidden_states[0][:,0,:].numpy()"
   ]
  },
  {
   "cell_type": "code",
   "execution_count": 51,
   "id": "c18355c4",
   "metadata": {
    "execution": {
     "iopub.execute_input": "2022-03-16T19:33:09.020681Z",
     "iopub.status.busy": "2022-03-16T19:33:09.019498Z",
     "iopub.status.idle": "2022-03-16T19:33:09.023112Z",
     "shell.execute_reply": "2022-03-16T19:33:09.022704Z"
    },
    "papermill": {
     "duration": 0.271781,
     "end_time": "2022-03-16T19:33:09.023234",
     "exception": false,
     "start_time": "2022-03-16T19:33:08.751453",
     "status": "completed"
    },
    "tags": []
   },
   "outputs": [
    {
     "data": {
      "text/plain": [
       "array([[-0.01853382, -0.05220667,  0.05905863, ..., -0.12232067,\n",
       "         0.20900404,  0.4365031 ],\n",
       "       [-0.27208817,  0.09054741,  0.11396429, ..., -0.15788054,\n",
       "         0.43918195,  0.4675711 ],\n",
       "       [ 0.05119757,  0.14024201,  0.0734151 , ..., -0.30908403,\n",
       "         0.42747226,  0.2912435 ],\n",
       "       ...,\n",
       "       [-0.00853779, -0.176043  ,  0.2262561 , ..., -0.29322883,\n",
       "         0.03703219,  0.20644757],\n",
       "       [-0.08880064, -0.08202468,  0.00843922, ...,  0.02047456,\n",
       "         0.4005721 ,  0.127333  ],\n",
       "       [ 0.14387845, -0.04371598,  0.0332372 , ..., -0.3831732 ,\n",
       "         0.27007025,  0.3577918 ]], dtype=float32)"
      ]
     },
     "execution_count": 51,
     "metadata": {},
     "output_type": "execute_result"
    }
   ],
   "source": [
    "features"
   ]
  },
  {
   "cell_type": "code",
   "execution_count": 52,
   "id": "0016c6f3",
   "metadata": {
    "execution": {
     "iopub.execute_input": "2022-03-16T19:33:09.554092Z",
     "iopub.status.busy": "2022-03-16T19:33:09.551313Z",
     "iopub.status.idle": "2022-03-16T19:33:09.556487Z",
     "shell.execute_reply": "2022-03-16T19:33:09.556899Z"
    },
    "papermill": {
     "duration": 0.271021,
     "end_time": "2022-03-16T19:33:09.557028",
     "exception": false,
     "start_time": "2022-03-16T19:33:09.286007",
     "status": "completed"
    },
    "tags": []
   },
   "outputs": [
    {
     "data": {
      "text/plain": [
       "(200, 768)"
      ]
     },
     "execution_count": 52,
     "metadata": {},
     "output_type": "execute_result"
    }
   ],
   "source": [
    "features.shape"
   ]
  },
  {
   "cell_type": "code",
   "execution_count": 53,
   "id": "5849654a",
   "metadata": {
    "execution": {
     "iopub.execute_input": "2022-03-16T19:33:10.088803Z",
     "iopub.status.busy": "2022-03-16T19:33:10.088045Z",
     "iopub.status.idle": "2022-03-16T19:33:10.090625Z",
     "shell.execute_reply": "2022-03-16T19:33:10.090143Z"
    },
    "papermill": {
     "duration": 0.270167,
     "end_time": "2022-03-16T19:33:10.090749",
     "exception": false,
     "start_time": "2022-03-16T19:33:09.820582",
     "status": "completed"
    },
    "tags": []
   },
   "outputs": [],
   "source": [
    "labels = df_11['class'][:200]"
   ]
  },
  {
   "cell_type": "code",
   "execution_count": 54,
   "id": "4de7698b",
   "metadata": {
    "execution": {
     "iopub.execute_input": "2022-03-16T19:33:10.620857Z",
     "iopub.status.busy": "2022-03-16T19:33:10.620053Z",
     "iopub.status.idle": "2022-03-16T19:33:10.624974Z",
     "shell.execute_reply": "2022-03-16T19:33:10.624459Z"
    },
    "papermill": {
     "duration": 0.272142,
     "end_time": "2022-03-16T19:33:10.625101",
     "exception": false,
     "start_time": "2022-03-16T19:33:10.352959",
     "status": "completed"
    },
    "tags": []
   },
   "outputs": [
    {
     "data": {
      "text/plain": [
       "array([2, 1, 0], dtype=int64)"
      ]
     },
     "execution_count": 54,
     "metadata": {},
     "output_type": "execute_result"
    }
   ],
   "source": [
    "labels.unique()"
   ]
  },
  {
   "cell_type": "code",
   "execution_count": 55,
   "id": "b3bb93b8",
   "metadata": {
    "execution": {
     "iopub.execute_input": "2022-03-16T19:33:11.167541Z",
     "iopub.status.busy": "2022-03-16T19:33:11.166640Z",
     "iopub.status.idle": "2022-03-16T19:33:11.383961Z",
     "shell.execute_reply": "2022-03-16T19:33:11.384585Z"
    },
    "papermill": {
     "duration": 0.493825,
     "end_time": "2022-03-16T19:33:11.384762",
     "exception": false,
     "start_time": "2022-03-16T19:33:10.890937",
     "status": "completed"
    },
    "tags": []
   },
   "outputs": [
    {
     "data": {
      "text/plain": [
       "<AxesSubplot:>"
      ]
     },
     "execution_count": 55,
     "metadata": {},
     "output_type": "execute_result"
    },
    {
     "data": {
      "image/png": "[encoded data removed]",
      "text/plain": [
       "<Figure size 432x288 with 1 Axes>"
      ]
     },
     "metadata": {
      "needs_background": "light"
     },
     "output_type": "display_data"
    }
   ],
   "source": [
    "labels.hist()"
   ]
  },
  {
   "cell_type": "code",
   "execution_count": 56,
   "id": "2567a8a2",
   "metadata": {
    "execution": {
     "iopub.execute_input": "2022-03-16T19:33:12.033144Z",
     "iopub.status.busy": "2022-03-16T19:33:12.032516Z",
     "iopub.status.idle": "2022-03-16T19:33:12.035178Z",
     "shell.execute_reply": "2022-03-16T19:33:12.035804Z"
    },
    "papermill": {
     "duration": 0.384942,
     "end_time": "2022-03-16T19:33:12.036017",
     "exception": false,
     "start_time": "2022-03-16T19:33:11.651075",
     "status": "completed"
    },
    "tags": []
   },
   "outputs": [
    {
     "data": {
      "text/plain": [
       "(200,)"
      ]
     },
     "execution_count": 56,
     "metadata": {},
     "output_type": "execute_result"
    }
   ],
   "source": [
    "labels.shape"
   ]
  },
  {
   "cell_type": "code",
   "execution_count": 57,
   "id": "49b98f7a",
   "metadata": {
    "execution": {
     "iopub.execute_input": "2022-03-16T19:33:12.720806Z",
     "iopub.status.busy": "2022-03-16T19:33:12.718012Z",
     "iopub.status.idle": "2022-03-16T19:33:12.723108Z",
     "shell.execute_reply": "2022-03-16T19:33:12.723499Z"
    },
    "papermill": {
     "duration": 0.275255,
     "end_time": "2022-03-16T19:33:12.723650",
     "exception": false,
     "start_time": "2022-03-16T19:33:12.448395",
     "status": "completed"
    },
    "tags": []
   },
   "outputs": [],
   "source": [
    "#LogReg на признаках из BERT\n",
    "train_features, test_features, train_labels, test_labels = train_test_split(features, labels)"
   ]
  },
  {
   "cell_type": "code",
   "execution_count": 58,
   "id": "ee073a9e",
   "metadata": {
    "execution": {
     "iopub.execute_input": "2022-03-16T19:33:13.262432Z",
     "iopub.status.busy": "2022-03-16T19:33:13.261416Z",
     "iopub.status.idle": "2022-03-16T19:33:13.402048Z",
     "shell.execute_reply": "2022-03-16T19:33:13.402759Z"
    },
    "papermill": {
     "duration": 0.41123,
     "end_time": "2022-03-16T19:33:13.402981",
     "exception": false,
     "start_time": "2022-03-16T19:33:12.991751",
     "status": "completed"
    },
    "tags": []
   },
   "outputs": [
    {
     "name": "stdout",
     "output_type": "stream",
     "text": [
      "              precision    recall  f1-score   support\n",
      "\n",
      "           0       0.00      0.00      0.00         2\n",
      "           1       0.91      0.93      0.92        42\n",
      "           2       0.57      0.67      0.62         6\n",
      "\n",
      "    accuracy                           0.86        50\n",
      "   macro avg       0.49      0.53      0.51        50\n",
      "weighted avg       0.83      0.86      0.84        50\n",
      "\n"
     ]
    },
    {
     "name": "stderr",
     "output_type": "stream",
     "text": [
      "C:\\conda2\\lib\\site-packages\\sklearn\\linear_model\\_logistic.py:763: ConvergenceWarning: lbfgs failed to converge (status=1):\n",
      "STOP: TOTAL NO. of ITERATIONS REACHED LIMIT.\n",
      "\n",
      "Increase the number of iterations (max_iter) or scale the data as shown in:\n",
      "    https://scikit-learn.org/stable/modules/preprocessing.html\n",
      "Please also refer to the documentation for alternative solver options:\n",
      "    https://scikit-learn.org/stable/modules/linear_model.html#logistic-regression\n",
      "  n_iter_i = _check_optimize_result(\n",
      "C:\\conda2\\lib\\site-packages\\sklearn\\metrics\\_classification.py:1248: UndefinedMetricWarning: Precision and F-score are ill-defined and being set to 0.0 in labels with no predicted samples. Use `zero_division` parameter to control this behavior.\n",
      "  _warn_prf(average, modifier, msg_start, len(result))\n",
      "C:\\conda2\\lib\\site-packages\\sklearn\\metrics\\_classification.py:1248: UndefinedMetricWarning: Precision and F-score are ill-defined and being set to 0.0 in labels with no predicted samples. Use `zero_division` parameter to control this behavior.\n",
      "  _warn_prf(average, modifier, msg_start, len(result))\n",
      "C:\\conda2\\lib\\site-packages\\sklearn\\metrics\\_classification.py:1248: UndefinedMetricWarning: Precision and F-score are ill-defined and being set to 0.0 in labels with no predicted samples. Use `zero_division` parameter to control this behavior.\n",
      "  _warn_prf(average, modifier, msg_start, len(result))\n"
     ]
    }
   ],
   "source": [
    "lr_clf_11 = LogisticRegression(class_weight = 'balanced')\n",
    "lr_clf_11.fit(train_features, train_labels)\n",
    "print(classification_report(lr_clf_11.predict(test_features), test_labels))"
   ]
  },
  {
   "cell_type": "markdown",
   "id": "3a107f51",
   "metadata": {
    "papermill": {
     "duration": 0.268856,
     "end_time": "2022-03-16T19:33:14.546863",
     "exception": false,
     "start_time": "2022-03-16T19:33:14.278007",
     "status": "completed"
    },
    "tags": []
   },
   "source": [
    "## Двенадцатый способ - взять с BERTа и обучить SVC"
   ]
  },
  {
   "cell_type": "code",
   "execution_count": 60,
   "id": "20f96b35",
   "metadata": {
    "execution": {
     "iopub.execute_input": "2022-03-16T19:33:15.088697Z",
     "iopub.status.busy": "2022-03-16T19:33:15.087979Z",
     "iopub.status.idle": "2022-03-16T19:33:15.101447Z",
     "shell.execute_reply": "2022-03-16T19:33:15.101861Z"
    },
    "papermill": {
     "duration": 0.286971,
     "end_time": "2022-03-16T19:33:15.101996",
     "exception": false,
     "start_time": "2022-03-16T19:33:14.815025",
     "status": "completed"
    },
    "tags": []
   },
   "outputs": [
    {
     "name": "stdout",
     "output_type": "stream",
     "text": [
      "              precision    recall  f1-score   support\n",
      "\n",
      "           0       0.00      0.00      0.00         6\n",
      "           1       0.51      1.00      0.68        22\n",
      "           2       0.86      0.27      0.41        22\n",
      "\n",
      "    accuracy                           0.56        50\n",
      "   macro avg       0.46      0.42      0.36        50\n",
      "weighted avg       0.60      0.56      0.48        50\n",
      "\n"
     ]
    },
    {
     "name": "stderr",
     "output_type": "stream",
     "text": [
      "C:\\conda2\\lib\\site-packages\\sklearn\\metrics\\_classification.py:1248: UndefinedMetricWarning: Precision and F-score are ill-defined and being set to 0.0 in labels with no predicted samples. Use `zero_division` parameter to control this behavior.\n",
      "  _warn_prf(average, modifier, msg_start, len(result))\n",
      "C:\\conda2\\lib\\site-packages\\sklearn\\metrics\\_classification.py:1248: UndefinedMetricWarning: Precision and F-score are ill-defined and being set to 0.0 in labels with no predicted samples. Use `zero_division` parameter to control this behavior.\n",
      "  _warn_prf(average, modifier, msg_start, len(result))\n",
      "C:\\conda2\\lib\\site-packages\\sklearn\\metrics\\_classification.py:1248: UndefinedMetricWarning: Precision and F-score are ill-defined and being set to 0.0 in labels with no predicted samples. Use `zero_division` parameter to control this behavior.\n",
      "  _warn_prf(average, modifier, msg_start, len(result))\n"
     ]
    }
   ],
   "source": [
    "lr_clf_12 = SVC(class_weight = 'balanced')\n",
    "lr_clf_12.fit(train_features, train_labels)\n",
    "print(classification_report(lr_clf_12.predict(test_features), test_labels))"
   ]
  },
  {
   "cell_type": "markdown",
   "id": "faef46d6",
   "metadata": {},
   "source": [
    "# Визуализация метрик основных результативных алгоритмов"
   ]
  },
  {
   "cell_type": "code",
   "execution_count": 66,
   "id": "31f42f20",
   "metadata": {},
   "outputs": [],
   "source": [
    "Metrics_1 = pd.DataFrame({\n",
    "                        'TfLr' : [0.65, 0.87, 0.92, 0.86], \n",
    "                        'CCat' : [0.64, 0.89, 0.93, 0.88],\n",
    "                        'TfLgSm' : [0.63, 0.85, 0.94, 0.86],\n",
    "                        'CLrSm5000' : [0.59, 0.86, 0.91, 0.84],\n",
    "                        'BERTLr1000' : [0.40, 0.89, 0.63, 0.81],\n",
    "                        'BERTSvc1000' : [0.47, 0.87, 0.69, 0.78]\n",
    "                        }, \n",
    "                        index = ['0', '1', '2', 'accuracy']\n",
    "                        )"
   ]
  },
  {
   "cell_type": "code",
   "execution_count": 67,
   "id": "4daf810e",
   "metadata": {},
   "outputs": [
    {
     "data": {
      "text/html": [
       "<div>\n",
       "<style scoped>\n",
       "    .dataframe tbody tr th:only-of-type {\n",
       "        vertical-align: middle;\n",
       "    }\n",
       "\n",
       "    .dataframe tbody tr th {\n",
       "        vertical-align: top;\n",
       "    }\n",
       "\n",
       "    .dataframe thead th {\n",
       "        text-align: right;\n",
       "    }\n",
       "</style>\n",
       "<table border=\"1\" class=\"dataframe\">\n",
       "  <thead>\n",
       "    <tr style=\"text-align: right;\">\n",
       "      <th></th>\n",
       "      <th>TfLr</th>\n",
       "      <th>CCat</th>\n",
       "      <th>TfLgSm</th>\n",
       "      <th>CLrSm5000</th>\n",
       "      <th>BERTLr1000</th>\n",
       "      <th>BERTSvc1000</th>\n",
       "    </tr>\n",
       "  </thead>\n",
       "  <tbody>\n",
       "    <tr>\n",
       "      <th>0</th>\n",
       "      <td>0.65</td>\n",
       "      <td>0.64</td>\n",
       "      <td>0.63</td>\n",
       "      <td>0.59</td>\n",
       "      <td>0.40</td>\n",
       "      <td>0.47</td>\n",
       "    </tr>\n",
       "    <tr>\n",
       "      <th>1</th>\n",
       "      <td>0.87</td>\n",
       "      <td>0.89</td>\n",
       "      <td>0.85</td>\n",
       "      <td>0.86</td>\n",
       "      <td>0.89</td>\n",
       "      <td>0.87</td>\n",
       "    </tr>\n",
       "    <tr>\n",
       "      <th>2</th>\n",
       "      <td>0.92</td>\n",
       "      <td>0.93</td>\n",
       "      <td>0.94</td>\n",
       "      <td>0.91</td>\n",
       "      <td>0.63</td>\n",
       "      <td>0.69</td>\n",
       "    </tr>\n",
       "    <tr>\n",
       "      <th>accuracy</th>\n",
       "      <td>0.86</td>\n",
       "      <td>0.88</td>\n",
       "      <td>0.86</td>\n",
       "      <td>0.84</td>\n",
       "      <td>0.81</td>\n",
       "      <td>0.78</td>\n",
       "    </tr>\n",
       "  </tbody>\n",
       "</table>\n",
       "</div>"
      ],
      "text/plain": [
       "          TfLr  CCat  TfLgSm  CLrSm5000  BERTLr1000  BERTSvc1000\n",
       "0         0.65  0.64    0.63       0.59        0.40         0.47\n",
       "1         0.87  0.89    0.85       0.86        0.89         0.87\n",
       "2         0.92  0.93    0.94       0.91        0.63         0.69\n",
       "accuracy  0.86  0.88    0.86       0.84        0.81         0.78"
      ]
     },
     "execution_count": 67,
     "metadata": {},
     "output_type": "execute_result"
    }
   ],
   "source": [
    "Metrics_1.head()"
   ]
  },
  {
   "cell_type": "code",
   "execution_count": 68,
   "id": "957a8603",
   "metadata": {},
   "outputs": [
    {
     "data": {
      "image/png": "[encoded data removed]",
      "text/plain": [
       "<Figure size 1440x720 with 1 Axes>"
      ]
     },
     "metadata": {
      "needs_background": "light"
     },
     "output_type": "display_data"
    }
   ],
   "source": [
    "Metrics_1.plot(kind='bar', \n",
    "            figsize = (20,10))\n",
    "plt.grid()\n",
    "plt.title('Визуализация лучших алгоритмов Задача 1', fontsize=22)\n",
    "plt.xlabel('Классы', fontsize=22)\n",
    "plt.ylabel('Метрика F1-Score(Accuracy)', fontsize=22)\n",
    "plt.gca().set_xticklabels(Metrics_1.index, rotation=70, horizontalalignment= 'right')\n",
    "plt.tick_params(\n",
    "    bottom=True,\n",
    "    left=True,\n",
    "    labelsize=15\n",
    ")\n",
    "\n",
    "plt.axhline(y=0, color='gray')\n",
    "plt.legend(frameon=False,  bbox_to_anchor=(0.25, -0.3, 0.5, 0.5), prop={'size':15})\n",
    "plt.show()"
   ]
  }
 ],
 "metadata": {
  "kernelspec": {
   "display_name": "Python 3 (ipykernel)",
   "language": "python",
   "name": "python3"
  },
  "language_info": {
   "codemirror_mode": {
    "name": "ipython",
    "version": 3
   },
   "file_extension": ".py",
   "mimetype": "text/x-python",
   "name": "python",
   "nbconvert_exporter": "python",
   "pygments_lexer": "ipython3",
   "version": "3.9.7"
  },
  "papermill": {
   "default_parameters": {},
   "duration": 1370.529501,
   "end_time": "2022-03-16T19:33:19.757331",
   "environment_variables": {},
   "exception": null,
   "input_path": "__notebook__.ipynb",
   "output_path": "__notebook__.ipynb",
   "parameters": {},
   "start_time": "2022-03-16T19:10:29.227830",
   "version": "2.3.3"
  },
  "widgets": {
   "application/vnd.jupyter.widget-state+json": {
    "state": {
     "00c0eaee1cdb4acdb23397ea7b05620b": {
      "model_module": "@jupyter-widgets/controls",
      "model_module_version": "1.5.0",
      "model_name": "HBoxModel",
      "state": {
       "_dom_classes": [],
       "_model_module": "@jupyter-widgets/controls",
       "_model_module_version": "1.5.0",
       "_model_name": "HBoxModel",
       "_view_count": null,
       "_view_module": "@jupyter-widgets/controls",
       "_view_module_version": "1.5.0",
       "_view_name": "HBoxView",
       "box_style": "",
       "children": [
        "IPY_MODEL_b43161d170bd46b9beea242e39fde9a0",
        "IPY_MODEL_8b0faee5b8474e0fa186acd6d61ccf3d",
        "IPY_MODEL_d6896bec66a7405da92f95782dd84d37"
       ],
       "layout": "IPY_MODEL_b9a9b494d38642f68bcec0478760b0f2"
      }
     },
     "039ed214b8d94632af29afbd9f0f8953": {
      "model_module": "@jupyter-widgets/controls",
      "model_module_version": "1.5.0",
      "model_name": "DescriptionStyleModel",
      "state": {
       "_model_module": "@jupyter-widgets/controls",
       "_model_module_version": "1.5.0",
       "_model_name": "DescriptionStyleModel",
       "_view_count": null,
       "_view_module": "@jupyter-widgets/base",
       "_view_module_version": "1.2.0",
       "_view_name": "StyleView",
       "description_width": ""
      }
     },
     "07976ea7fee94b3abc6281aa6b1d2b45": {
      "model_module": "@jupyter-widgets/controls",
      "model_module_version": "1.5.0",
      "model_name": "HTMLModel",
      "state": {
       "_dom_classes": [],
       "_model_module": "@jupyter-widgets/controls",
       "_model_module_version": "1.5.0",
       "_model_name": "HTMLModel",
       "_view_count": null,
       "_view_module": "@jupyter-widgets/controls",
       "_view_module_version": "1.5.0",
       "_view_name": "HTMLView",
       "description": "",
       "description_tooltip": null,
       "layout": "IPY_MODEL_5fc9e760810c4246a0143081d325d310",
       "placeholder": "​",
       "style": "IPY_MODEL_36b4055c9c324ff88569b5012e38a147",
       "value": "Downloading: 100%"
      }
     },
     "0922e68fd1bd4988899754896e07e2a8": {
      "model_module": "@jupyter-widgets/base",
      "model_module_version": "1.2.0",
      "model_name": "LayoutModel",
      "state": {
       "_model_module": "@jupyter-widgets/base",
       "_model_module_version": "1.2.0",
       "_model_name": "LayoutModel",
       "_view_count": null,
       "_view_module": "@jupyter-widgets/base",
       "_view_module_version": "1.2.0",
       "_view_name": "LayoutView",
       "align_content": null,
       "align_items": null,
       "align_self": null,
       "border": null,
       "bottom": null,
       "display": null,
       "flex": null,
       "flex_flow": null,
       "grid_area": null,
       "grid_auto_columns": null,
       "grid_auto_flow": null,
       "grid_auto_rows": null,
       "grid_column": null,
       "grid_gap": null,
       "grid_row": null,
       "grid_template_areas": null,
       "grid_template_columns": null,
       "grid_template_rows": null,
       "height": null,
       "justify_content": null,
       "justify_items": null,
       "left": null,
       "margin": null,
       "max_height": null,
       "max_width": null,
       "min_height": null,
       "min_width": null,
       "object_fit": null,
       "object_position": null,
       "order": null,
       "overflow": null,
       "overflow_x": null,
       "overflow_y": null,
       "padding": null,
       "right": null,
       "top": null,
       "visibility": null,
       "width": null
      }
     },
     "0c0a6b7075414a93b88dc2124425d109": {
      "model_module": "@jupyter-widgets/base",
      "model_module_version": "1.2.0",
      "model_name": "LayoutModel",
      "state": {
       "_model_module": "@jupyter-widgets/base",
       "_model_module_version": "1.2.0",
       "_model_name": "LayoutModel",
       "_view_count": null,
       "_view_module": "@jupyter-widgets/base",
       "_view_module_version": "1.2.0",
       "_view_name": "LayoutView",
       "align_content": null,
       "align_items": null,
       "align_self": null,
       "border": null,
       "bottom": null,
       "display": null,
       "flex": null,
       "flex_flow": null,
       "grid_area": null,
       "grid_auto_columns": null,
       "grid_auto_flow": null,
       "grid_auto_rows": null,
       "grid_column": null,
       "grid_gap": null,
       "grid_row": null,
       "grid_template_areas": null,
       "grid_template_columns": null,
       "grid_template_rows": null,
       "height": null,
       "justify_content": null,
       "justify_items": null,
       "left": null,
       "margin": null,
       "max_height": null,
       "max_width": null,
       "min_height": null,
       "min_width": null,
       "object_fit": null,
       "object_position": null,
       "order": null,
       "overflow": null,
       "overflow_x": null,
       "overflow_y": null,
       "padding": null,
       "right": null,
       "top": null,
       "visibility": null,
       "width": null
      }
     },
     "1200f35acd07402a8f10517fb59ba889": {
      "model_module": "@jupyter-widgets/base",
      "model_module_version": "1.2.0",
      "model_name": "LayoutModel",
      "state": {
       "_model_module": "@jupyter-widgets/base",
       "_model_module_version": "1.2.0",
       "_model_name": "LayoutModel",
       "_view_count": null,
       "_view_module": "@jupyter-widgets/base",
       "_view_module_version": "1.2.0",
       "_view_name": "LayoutView",
       "align_content": null,
       "align_items": null,
       "align_self": null,
       "border": null,
       "bottom": null,
       "display": null,
       "flex": null,
       "flex_flow": null,
       "grid_area": null,
       "grid_auto_columns": null,
       "grid_auto_flow": null,
       "grid_auto_rows": null,
       "grid_column": null,
       "grid_gap": null,
       "grid_row": null,
       "grid_template_areas": null,
       "grid_template_columns": null,
       "grid_template_rows": null,
       "height": null,
       "justify_content": null,
       "justify_items": null,
       "left": null,
       "margin": null,
       "max_height": null,
       "max_width": null,
       "min_height": null,
       "min_width": null,
       "object_fit": null,
       "object_position": null,
       "order": null,
       "overflow": null,
       "overflow_x": null,
       "overflow_y": null,
       "padding": null,
       "right": null,
       "top": null,
       "visibility": null,
       "width": null
      }
     },
     "121da126d1484558bf933110b9e128cf": {
      "model_module": "@jupyter-widgets/base",
      "model_module_version": "1.2.0",
      "model_name": "LayoutModel",
      "state": {
       "_model_module": "@jupyter-widgets/base",
       "_model_module_version": "1.2.0",
       "_model_name": "LayoutModel",
       "_view_count": null,
       "_view_module": "@jupyter-widgets/base",
       "_view_module_version": "1.2.0",
       "_view_name": "LayoutView",
       "align_content": null,
       "align_items": null,
       "align_self": null,
       "border": null,
       "bottom": null,
       "display": null,
       "flex": null,
       "flex_flow": null,
       "grid_area": null,
       "grid_auto_columns": null,
       "grid_auto_flow": null,
       "grid_auto_rows": null,
       "grid_column": null,
       "grid_gap": null,
       "grid_row": null,
       "grid_template_areas": null,
       "grid_template_columns": null,
       "grid_template_rows": null,
       "height": null,
       "justify_content": null,
       "justify_items": null,
       "left": null,
       "margin": null,
       "max_height": null,
       "max_width": null,
       "min_height": null,
       "min_width": null,
       "object_fit": null,
       "object_position": null,
       "order": null,
       "overflow": null,
       "overflow_x": null,
       "overflow_y": null,
       "padding": null,
       "right": null,
       "top": null,
       "visibility": null,
       "width": null
      }
     },
     "1d284c0dff0640b1b04bb79ac1935ea1": {
      "model_module": "@jupyter-widgets/controls",
      "model_module_version": "1.5.0",
      "model_name": "DescriptionStyleModel",
      "state": {
       "_model_module": "@jupyter-widgets/controls",
       "_model_module_version": "1.5.0",
       "_model_name": "DescriptionStyleModel",
       "_view_count": null,
       "_view_module": "@jupyter-widgets/base",
       "_view_module_version": "1.2.0",
       "_view_name": "StyleView",
       "description_width": ""
      }
     },
     "2023148b6b53474ca42c9e379c562a8e": {
      "model_module": "@jupyter-widgets/base",
      "model_module_version": "1.2.0",
      "model_name": "LayoutModel",
      "state": {
       "_model_module": "@jupyter-widgets/base",
       "_model_module_version": "1.2.0",
       "_model_name": "LayoutModel",
       "_view_count": null,
       "_view_module": "@jupyter-widgets/base",
       "_view_module_version": "1.2.0",
       "_view_name": "LayoutView",
       "align_content": null,
       "align_items": null,
       "align_self": null,
       "border": null,
       "bottom": null,
       "display": null,
       "flex": null,
       "flex_flow": null,
       "grid_area": null,
       "grid_auto_columns": null,
       "grid_auto_flow": null,
       "grid_auto_rows": null,
       "grid_column": null,
       "grid_gap": null,
       "grid_row": null,
       "grid_template_areas": null,
       "grid_template_columns": null,
       "grid_template_rows": null,
       "height": null,
       "justify_content": null,
       "justify_items": null,
       "left": null,
       "margin": null,
       "max_height": null,
       "max_width": null,
       "min_height": null,
       "min_width": null,
       "object_fit": null,
       "object_position": null,
       "order": null,
       "overflow": null,
       "overflow_x": null,
       "overflow_y": null,
       "padding": null,
       "right": null,
       "top": null,
       "visibility": null,
       "width": null
      }
     },
     "268c7be05ed34ab1a6165e1123c0077d": {
      "model_module": "@jupyter-widgets/controls",
      "model_module_version": "1.5.0",
      "model_name": "FloatProgressModel",
      "state": {
       "_dom_classes": [],
       "_model_module": "@jupyter-widgets/controls",
       "_model_module_version": "1.5.0",
       "_model_name": "FloatProgressModel",
       "_view_count": null,
       "_view_module": "@jupyter-widgets/controls",
       "_view_module_version": "1.5.0",
       "_view_name": "ProgressView",
       "bar_style": "success",
       "description": "",
       "description_tooltip": null,
       "layout": "IPY_MODEL_df25815edc3c483ea58405ad0d741a25",
       "max": 466062,
       "min": 0,
       "orientation": "horizontal",
       "style": "IPY_MODEL_c9c0174eb2394e829b3cf116ded4102b",
       "value": 466062
      }
     },
     "26ff1069fc1244b49c3c1f7a8c4ca0ad": {
      "model_module": "@jupyter-widgets/base",
      "model_module_version": "1.2.0",
      "model_name": "LayoutModel",
      "state": {
       "_model_module": "@jupyter-widgets/base",
       "_model_module_version": "1.2.0",
       "_model_name": "LayoutModel",
       "_view_count": null,
       "_view_module": "@jupyter-widgets/base",
       "_view_module_version": "1.2.0",
       "_view_name": "LayoutView",
       "align_content": null,
       "align_items": null,
       "align_self": null,
       "border": null,
       "bottom": null,
       "display": null,
       "flex": null,
       "flex_flow": null,
       "grid_area": null,
       "grid_auto_columns": null,
       "grid_auto_flow": null,
       "grid_auto_rows": null,
       "grid_column": null,
       "grid_gap": null,
       "grid_row": null,
       "grid_template_areas": null,
       "grid_template_columns": null,
       "grid_template_rows": null,
       "height": null,
       "justify_content": null,
       "justify_items": null,
       "left": null,
       "margin": null,
       "max_height": null,
       "max_width": null,
       "min_height": null,
       "min_width": null,
       "object_fit": null,
       "object_position": null,
       "order": null,
       "overflow": null,
       "overflow_x": null,
       "overflow_y": null,
       "padding": null,
       "right": null,
       "top": null,
       "visibility": null,
       "width": null
      }
     },
     "282f4ac847cc4952bf6bf3a0fec7b53e": {
      "model_module": "@jupyter-widgets/base",
      "model_module_version": "1.2.0",
      "model_name": "LayoutModel",
      "state": {
       "_model_module": "@jupyter-widgets/base",
       "_model_module_version": "1.2.0",
       "_model_name": "LayoutModel",
       "_view_count": null,
       "_view_module": "@jupyter-widgets/base",
       "_view_module_version": "1.2.0",
       "_view_name": "LayoutView",
       "align_content": null,
       "align_items": null,
       "align_self": null,
       "border": null,
       "bottom": null,
       "display": null,
       "flex": null,
       "flex_flow": null,
       "grid_area": null,
       "grid_auto_columns": null,
       "grid_auto_flow": null,
       "grid_auto_rows": null,
       "grid_column": null,
       "grid_gap": null,
       "grid_row": null,
       "grid_template_areas": null,
       "grid_template_columns": null,
       "grid_template_rows": null,
       "height": null,
       "justify_content": null,
       "justify_items": null,
       "left": null,
       "margin": null,
       "max_height": null,
       "max_width": null,
       "min_height": null,
       "min_width": null,
       "object_fit": null,
       "object_position": null,
       "order": null,
       "overflow": null,
       "overflow_x": null,
       "overflow_y": null,
       "padding": null,
       "right": null,
       "top": null,
       "visibility": null,
       "width": null
      }
     },
     "2d21cf16396b4bb3ba7db4ec1e6ac011": {
      "model_module": "@jupyter-widgets/controls",
      "model_module_version": "1.5.0",
      "model_name": "DescriptionStyleModel",
      "state": {
       "_model_module": "@jupyter-widgets/controls",
       "_model_module_version": "1.5.0",
       "_model_name": "DescriptionStyleModel",
       "_view_count": null,
       "_view_module": "@jupyter-widgets/base",
       "_view_module_version": "1.2.0",
       "_view_name": "StyleView",
       "description_width": ""
      }
     },
     "36b4055c9c324ff88569b5012e38a147": {
      "model_module": "@jupyter-widgets/controls",
      "model_module_version": "1.5.0",
      "model_name": "DescriptionStyleModel",
      "state": {
       "_model_module": "@jupyter-widgets/controls",
       "_model_module_version": "1.5.0",
       "_model_name": "DescriptionStyleModel",
       "_view_count": null,
       "_view_module": "@jupyter-widgets/base",
       "_view_module_version": "1.2.0",
       "_view_name": "StyleView",
       "description_width": ""
      }
     },
     "36d3da161fb7464180978ece88eb07d5": {
      "model_module": "@jupyter-widgets/controls",
      "model_module_version": "1.5.0",
      "model_name": "DescriptionStyleModel",
      "state": {
       "_model_module": "@jupyter-widgets/controls",
       "_model_module_version": "1.5.0",
       "_model_name": "DescriptionStyleModel",
       "_view_count": null,
       "_view_module": "@jupyter-widgets/base",
       "_view_module_version": "1.2.0",
       "_view_name": "StyleView",
       "description_width": ""
      }
     },
     "37d16d5151ac483aac7c1e4b308462e5": {
      "model_module": "@jupyter-widgets/controls",
      "model_module_version": "1.5.0",
      "model_name": "FloatProgressModel",
      "state": {
       "_dom_classes": [],
       "_model_module": "@jupyter-widgets/controls",
       "_model_module_version": "1.5.0",
       "_model_name": "FloatProgressModel",
       "_view_count": null,
       "_view_module": "@jupyter-widgets/controls",
       "_view_module_version": "1.5.0",
       "_view_name": "ProgressView",
       "bar_style": "success",
       "description": "",
       "description_tooltip": null,
       "layout": "IPY_MODEL_561c624f59e94f87a7cecab4f76a9e2f",
       "max": 28,
       "min": 0,
       "orientation": "horizontal",
       "style": "IPY_MODEL_a82cb9be6aa24275913785832e902c51",
       "value": 28
      }
     },
     "38a822bb722545139490e9da6ddfa996": {
      "model_module": "@jupyter-widgets/controls",
      "model_module_version": "1.5.0",
      "model_name": "HBoxModel",
      "state": {
       "_dom_classes": [],
       "_model_module": "@jupyter-widgets/controls",
       "_model_module_version": "1.5.0",
       "_model_name": "HBoxModel",
       "_view_count": null,
       "_view_module": "@jupyter-widgets/controls",
       "_view_module_version": "1.5.0",
       "_view_name": "HBoxView",
       "box_style": "",
       "children": [
        "IPY_MODEL_bfb1012721434ce3bb7fb2563da0ffce",
        "IPY_MODEL_d103609b93494f50aa62df710505e01f",
        "IPY_MODEL_a19fe1b3328844d59467323970d77807"
       ],
       "layout": "IPY_MODEL_93f5886b99354ed3bbefc0dca1ffa91f"
      }
     },
     "39bf749993dc4180bb480c13042bf06c": {
      "model_module": "@jupyter-widgets/controls",
      "model_module_version": "1.5.0",
      "model_name": "HTMLModel",
      "state": {
       "_dom_classes": [],
       "_model_module": "@jupyter-widgets/controls",
       "_model_module_version": "1.5.0",
       "_model_name": "HTMLModel",
       "_view_count": null,
       "_view_module": "@jupyter-widgets/controls",
       "_view_module_version": "1.5.0",
       "_view_name": "HTMLView",
       "description": "",
       "description_tooltip": null,
       "layout": "IPY_MODEL_82c12815c7624b459e213aa243238a1c",
       "placeholder": "​",
       "style": "IPY_MODEL_be4923ba6e614f0697b51f51b8782b9e",
       "value": " 455k/455k [00:00&lt;00:00, 867kB/s]"
      }
     },
     "3e4b07bc449b41e68cdbeec8dec1d2ae": {
      "model_module": "@jupyter-widgets/controls",
      "model_module_version": "1.5.0",
      "model_name": "DescriptionStyleModel",
      "state": {
       "_model_module": "@jupyter-widgets/controls",
       "_model_module_version": "1.5.0",
       "_model_name": "DescriptionStyleModel",
       "_view_count": null,
       "_view_module": "@jupyter-widgets/base",
       "_view_module_version": "1.2.0",
       "_view_name": "StyleView",
       "description_width": ""
      }
     },
     "4a0f6be2c9eb4f0c9ee1063d4efe354a": {
      "model_module": "@jupyter-widgets/controls",
      "model_module_version": "1.5.0",
      "model_name": "HTMLModel",
      "state": {
       "_dom_classes": [],
       "_model_module": "@jupyter-widgets/controls",
       "_model_module_version": "1.5.0",
       "_model_name": "HTMLModel",
       "_view_count": null,
       "_view_module": "@jupyter-widgets/controls",
       "_view_module_version": "1.5.0",
       "_view_name": "HTMLView",
       "description": "",
       "description_tooltip": null,
       "layout": "IPY_MODEL_aefe2f6ece9140c687c1e9a714c6e24c",
       "placeholder": "​",
       "style": "IPY_MODEL_6d1e72db7de94ca184698e7cbb62e2c9",
       "value": " 28.0/28.0 [00:00&lt;00:00, 1.10kB/s]"
      }
     },
     "4d541d34e3a144c09de0f5bf40cd4385": {
      "model_module": "@jupyter-widgets/controls",
      "model_module_version": "1.5.0",
      "model_name": "HBoxModel",
      "state": {
       "_dom_classes": [],
       "_model_module": "@jupyter-widgets/controls",
       "_model_module_version": "1.5.0",
       "_model_name": "HBoxModel",
       "_view_count": null,
       "_view_module": "@jupyter-widgets/controls",
       "_view_module_version": "1.5.0",
       "_view_name": "HBoxView",
       "box_style": "",
       "children": [
        "IPY_MODEL_e3b6162a6a0d43349627242aefef4e1f",
        "IPY_MODEL_37d16d5151ac483aac7c1e4b308462e5",
        "IPY_MODEL_4a0f6be2c9eb4f0c9ee1063d4efe354a"
       ],
       "layout": "IPY_MODEL_588ec043884e4e2fafcdc0f659f81326"
      }
     },
     "561c624f59e94f87a7cecab4f76a9e2f": {
      "model_module": "@jupyter-widgets/base",
      "model_module_version": "1.2.0",
      "model_name": "LayoutModel",
      "state": {
       "_model_module": "@jupyter-widgets/base",
       "_model_module_version": "1.2.0",
       "_model_name": "LayoutModel",
       "_view_count": null,
       "_view_module": "@jupyter-widgets/base",
       "_view_module_version": "1.2.0",
       "_view_name": "LayoutView",
       "align_content": null,
       "align_items": null,
       "align_self": null,
       "border": null,
       "bottom": null,
       "display": null,
       "flex": null,
       "flex_flow": null,
       "grid_area": null,
       "grid_auto_columns": null,
       "grid_auto_flow": null,
       "grid_auto_rows": null,
       "grid_column": null,
       "grid_gap": null,
       "grid_row": null,
       "grid_template_areas": null,
       "grid_template_columns": null,
       "grid_template_rows": null,
       "height": null,
       "justify_content": null,
       "justify_items": null,
       "left": null,
       "margin": null,
       "max_height": null,
       "max_width": null,
       "min_height": null,
       "min_width": null,
       "object_fit": null,
       "object_position": null,
       "order": null,
       "overflow": null,
       "overflow_x": null,
       "overflow_y": null,
       "padding": null,
       "right": null,
       "top": null,
       "visibility": null,
       "width": null
      }
     },
     "588ec043884e4e2fafcdc0f659f81326": {
      "model_module": "@jupyter-widgets/base",
      "model_module_version": "1.2.0",
      "model_name": "LayoutModel",
      "state": {
       "_model_module": "@jupyter-widgets/base",
       "_model_module_version": "1.2.0",
       "_model_name": "LayoutModel",
       "_view_count": null,
       "_view_module": "@jupyter-widgets/base",
       "_view_module_version": "1.2.0",
       "_view_name": "LayoutView",
       "align_content": null,
       "align_items": null,
       "align_self": null,
       "border": null,
       "bottom": null,
       "display": null,
       "flex": null,
       "flex_flow": null,
       "grid_area": null,
       "grid_auto_columns": null,
       "grid_auto_flow": null,
       "grid_auto_rows": null,
       "grid_column": null,
       "grid_gap": null,
       "grid_row": null,
       "grid_template_areas": null,
       "grid_template_columns": null,
       "grid_template_rows": null,
       "height": null,
       "justify_content": null,
       "justify_items": null,
       "left": null,
       "margin": null,
       "max_height": null,
       "max_width": null,
       "min_height": null,
       "min_width": null,
       "object_fit": null,
       "object_position": null,
       "order": null,
       "overflow": null,
       "overflow_x": null,
       "overflow_y": null,
       "padding": null,
       "right": null,
       "top": null,
       "visibility": null,
       "width": null
      }
     },
     "5fc9e760810c4246a0143081d325d310": {
      "model_module": "@jupyter-widgets/base",
      "model_module_version": "1.2.0",
      "model_name": "LayoutModel",
      "state": {
       "_model_module": "@jupyter-widgets/base",
       "_model_module_version": "1.2.0",
       "_model_name": "LayoutModel",
       "_view_count": null,
       "_view_module": "@jupyter-widgets/base",
       "_view_module_version": "1.2.0",
       "_view_name": "LayoutView",
       "align_content": null,
       "align_items": null,
       "align_self": null,
       "border": null,
       "bottom": null,
       "display": null,
       "flex": null,
       "flex_flow": null,
       "grid_area": null,
       "grid_auto_columns": null,
       "grid_auto_flow": null,
       "grid_auto_rows": null,
       "grid_column": null,
       "grid_gap": null,
       "grid_row": null,
       "grid_template_areas": null,
       "grid_template_columns": null,
       "grid_template_rows": null,
       "height": null,
       "justify_content": null,
       "justify_items": null,
       "left": null,
       "margin": null,
       "max_height": null,
       "max_width": null,
       "min_height": null,
       "min_width": null,
       "object_fit": null,
       "object_position": null,
       "order": null,
       "overflow": null,
       "overflow_x": null,
       "overflow_y": null,
       "padding": null,
       "right": null,
       "top": null,
       "visibility": null,
       "width": null
      }
     },
     "699039bfec054933b578e737129399d1": {
      "model_module": "@jupyter-widgets/controls",
      "model_module_version": "1.5.0",
      "model_name": "HTMLModel",
      "state": {
       "_dom_classes": [],
       "_model_module": "@jupyter-widgets/controls",
       "_model_module_version": "1.5.0",
       "_model_name": "HTMLModel",
       "_view_count": null,
       "_view_module": "@jupyter-widgets/controls",
       "_view_module_version": "1.5.0",
       "_view_name": "HTMLView",
       "description": "",
       "description_tooltip": null,
       "layout": "IPY_MODEL_26ff1069fc1244b49c3c1f7a8c4ca0ad",
       "placeholder": "​",
       "style": "IPY_MODEL_2d21cf16396b4bb3ba7db4ec1e6ac011",
       "value": "Downloading: 100%"
      }
     },
     "6d1e72db7de94ca184698e7cbb62e2c9": {
      "model_module": "@jupyter-widgets/controls",
      "model_module_version": "1.5.0",
      "model_name": "DescriptionStyleModel",
      "state": {
       "_model_module": "@jupyter-widgets/controls",
       "_model_module_version": "1.5.0",
       "_model_name": "DescriptionStyleModel",
       "_view_count": null,
       "_view_module": "@jupyter-widgets/base",
       "_view_module_version": "1.2.0",
       "_view_name": "StyleView",
       "description_width": ""
      }
     },
     "71523dfd5e4a489e973870ac7ea1e7e3": {
      "model_module": "@jupyter-widgets/controls",
      "model_module_version": "1.5.0",
      "model_name": "HBoxModel",
      "state": {
       "_dom_classes": [],
       "_model_module": "@jupyter-widgets/controls",
       "_model_module_version": "1.5.0",
       "_model_name": "HBoxModel",
       "_view_count": null,
       "_view_module": "@jupyter-widgets/controls",
       "_view_module_version": "1.5.0",
       "_view_name": "HBoxView",
       "box_style": "",
       "children": [
        "IPY_MODEL_07976ea7fee94b3abc6281aa6b1d2b45",
        "IPY_MODEL_99ccc272ec1f4313abb7a97cb6a0518e",
        "IPY_MODEL_a4c64ce49924422a98b84d1718d84e7b"
       ],
       "layout": "IPY_MODEL_1200f35acd07402a8f10517fb59ba889"
      }
     },
     "7920ba9150ba4e2c9fd49eeab8562c96": {
      "model_module": "@jupyter-widgets/base",
      "model_module_version": "1.2.0",
      "model_name": "LayoutModel",
      "state": {
       "_model_module": "@jupyter-widgets/base",
       "_model_module_version": "1.2.0",
       "_model_name": "LayoutModel",
       "_view_count": null,
       "_view_module": "@jupyter-widgets/base",
       "_view_module_version": "1.2.0",
       "_view_name": "LayoutView",
       "align_content": null,
       "align_items": null,
       "align_self": null,
       "border": null,
       "bottom": null,
       "display": null,
       "flex": null,
       "flex_flow": null,
       "grid_area": null,
       "grid_auto_columns": null,
       "grid_auto_flow": null,
       "grid_auto_rows": null,
       "grid_column": null,
       "grid_gap": null,
       "grid_row": null,
       "grid_template_areas": null,
       "grid_template_columns": null,
       "grid_template_rows": null,
       "height": null,
       "justify_content": null,
       "justify_items": null,
       "left": null,
       "margin": null,
       "max_height": null,
       "max_width": null,
       "min_height": null,
       "min_width": null,
       "object_fit": null,
       "object_position": null,
       "order": null,
       "overflow": null,
       "overflow_x": null,
       "overflow_y": null,
       "padding": null,
       "right": null,
       "top": null,
       "visibility": null,
       "width": null
      }
     },
     "82c12815c7624b459e213aa243238a1c": {
      "model_module": "@jupyter-widgets/base",
      "model_module_version": "1.2.0",
      "model_name": "LayoutModel",
      "state": {
       "_model_module": "@jupyter-widgets/base",
       "_model_module_version": "1.2.0",
       "_model_name": "LayoutModel",
       "_view_count": null,
       "_view_module": "@jupyter-widgets/base",
       "_view_module_version": "1.2.0",
       "_view_name": "LayoutView",
       "align_content": null,
       "align_items": null,
       "align_self": null,
       "border": null,
       "bottom": null,
       "display": null,
       "flex": null,
       "flex_flow": null,
       "grid_area": null,
       "grid_auto_columns": null,
       "grid_auto_flow": null,
       "grid_auto_rows": null,
       "grid_column": null,
       "grid_gap": null,
       "grid_row": null,
       "grid_template_areas": null,
       "grid_template_columns": null,
       "grid_template_rows": null,
       "height": null,
       "justify_content": null,
       "justify_items": null,
       "left": null,
       "margin": null,
       "max_height": null,
       "max_width": null,
       "min_height": null,
       "min_width": null,
       "object_fit": null,
       "object_position": null,
       "order": null,
       "overflow": null,
       "overflow_x": null,
       "overflow_y": null,
       "padding": null,
       "right": null,
       "top": null,
       "visibility": null,
       "width": null
      }
     },
     "8b0faee5b8474e0fa186acd6d61ccf3d": {
      "model_module": "@jupyter-widgets/controls",
      "model_module_version": "1.5.0",
      "model_name": "FloatProgressModel",
      "state": {
       "_dom_classes": [],
       "_model_module": "@jupyter-widgets/controls",
       "_model_module_version": "1.5.0",
       "_model_name": "FloatProgressModel",
       "_view_count": null,
       "_view_module": "@jupyter-widgets/controls",
       "_view_module_version": "1.5.0",
       "_view_name": "ProgressView",
       "bar_style": "success",
       "description": "",
       "description_tooltip": null,
       "layout": "IPY_MODEL_7920ba9150ba4e2c9fd49eeab8562c96",
       "max": 483,
       "min": 0,
       "orientation": "horizontal",
       "style": "IPY_MODEL_a4321b754d014e1d9edd335ec9f86ef9",
       "value": 483
      }
     },
     "93f5886b99354ed3bbefc0dca1ffa91f": {
      "model_module": "@jupyter-widgets/base",
      "model_module_version": "1.2.0",
      "model_name": "LayoutModel",
      "state": {
       "_model_module": "@jupyter-widgets/base",
       "_model_module_version": "1.2.0",
       "_model_name": "LayoutModel",
       "_view_count": null,
       "_view_module": "@jupyter-widgets/base",
       "_view_module_version": "1.2.0",
       "_view_name": "LayoutView",
       "align_content": null,
       "align_items": null,
       "align_self": null,
       "border": null,
       "bottom": null,
       "display": null,
       "flex": null,
       "flex_flow": null,
       "grid_area": null,
       "grid_auto_columns": null,
       "grid_auto_flow": null,
       "grid_auto_rows": null,
       "grid_column": null,
       "grid_gap": null,
       "grid_row": null,
       "grid_template_areas": null,
       "grid_template_columns": null,
       "grid_template_rows": null,
       "height": null,
       "justify_content": null,
       "justify_items": null,
       "left": null,
       "margin": null,
       "max_height": null,
       "max_width": null,
       "min_height": null,
       "min_width": null,
       "object_fit": null,
       "object_position": null,
       "order": null,
       "overflow": null,
       "overflow_x": null,
       "overflow_y": null,
       "padding": null,
       "right": null,
       "top": null,
       "visibility": null,
       "width": null
      }
     },
     "99ccc272ec1f4313abb7a97cb6a0518e": {
      "model_module": "@jupyter-widgets/controls",
      "model_module_version": "1.5.0",
      "model_name": "FloatProgressModel",
      "state": {
       "_dom_classes": [],
       "_model_module": "@jupyter-widgets/controls",
       "_model_module_version": "1.5.0",
       "_model_name": "FloatProgressModel",
       "_view_count": null,
       "_view_module": "@jupyter-widgets/controls",
       "_view_module_version": "1.5.0",
       "_view_name": "ProgressView",
       "bar_style": "success",
       "description": "",
       "description_tooltip": null,
       "layout": "IPY_MODEL_bc0fe28b6c224d0cba76bb853976e9a5",
       "max": 267967963,
       "min": 0,
       "orientation": "horizontal",
       "style": "IPY_MODEL_e0a0f814462540d49e049c9fa3505b92",
       "value": 267967963
      }
     },
     "a19fe1b3328844d59467323970d77807": {
      "model_module": "@jupyter-widgets/controls",
      "model_module_version": "1.5.0",
      "model_name": "HTMLModel",
      "state": {
       "_dom_classes": [],
       "_model_module": "@jupyter-widgets/controls",
       "_model_module_version": "1.5.0",
       "_model_name": "HTMLModel",
       "_view_count": null,
       "_view_module": "@jupyter-widgets/controls",
       "_view_module_version": "1.5.0",
       "_view_name": "HTMLView",
       "description": "",
       "description_tooltip": null,
       "layout": "IPY_MODEL_2023148b6b53474ca42c9e379c562a8e",
       "placeholder": "​",
       "style": "IPY_MODEL_1d284c0dff0640b1b04bb79ac1935ea1",
       "value": " 226k/226k [00:00&lt;00:00, 823kB/s]"
      }
     },
     "a4321b754d014e1d9edd335ec9f86ef9": {
      "model_module": "@jupyter-widgets/controls",
      "model_module_version": "1.5.0",
      "model_name": "ProgressStyleModel",
      "state": {
       "_model_module": "@jupyter-widgets/controls",
       "_model_module_version": "1.5.0",
       "_model_name": "ProgressStyleModel",
       "_view_count": null,
       "_view_module": "@jupyter-widgets/base",
       "_view_module_version": "1.2.0",
       "_view_name": "StyleView",
       "bar_color": null,
       "description_width": ""
      }
     },
     "a4c64ce49924422a98b84d1718d84e7b": {
      "model_module": "@jupyter-widgets/controls",
      "model_module_version": "1.5.0",
      "model_name": "HTMLModel",
      "state": {
       "_dom_classes": [],
       "_model_module": "@jupyter-widgets/controls",
       "_model_module_version": "1.5.0",
       "_model_name": "HTMLModel",
       "_view_count": null,
       "_view_module": "@jupyter-widgets/controls",
       "_view_module_version": "1.5.0",
       "_view_name": "HTMLView",
       "description": "",
       "description_tooltip": null,
       "layout": "IPY_MODEL_121da126d1484558bf933110b9e128cf",
       "placeholder": "​",
       "style": "IPY_MODEL_ac3945454f494e55836cdd84b47346f4",
       "value": " 256M/256M [00:06&lt;00:00, 35.9MB/s]"
      }
     },
     "a82cb9be6aa24275913785832e902c51": {
      "model_module": "@jupyter-widgets/controls",
      "model_module_version": "1.5.0",
      "model_name": "ProgressStyleModel",
      "state": {
       "_model_module": "@jupyter-widgets/controls",
       "_model_module_version": "1.5.0",
       "_model_name": "ProgressStyleModel",
       "_view_count": null,
       "_view_module": "@jupyter-widgets/base",
       "_view_module_version": "1.2.0",
       "_view_name": "StyleView",
       "bar_color": null,
       "description_width": ""
      }
     },
     "ac3945454f494e55836cdd84b47346f4": {
      "model_module": "@jupyter-widgets/controls",
      "model_module_version": "1.5.0",
      "model_name": "DescriptionStyleModel",
      "state": {
       "_model_module": "@jupyter-widgets/controls",
       "_model_module_version": "1.5.0",
       "_model_name": "DescriptionStyleModel",
       "_view_count": null,
       "_view_module": "@jupyter-widgets/base",
       "_view_module_version": "1.2.0",
       "_view_name": "StyleView",
       "description_width": ""
      }
     },
     "aefe2f6ece9140c687c1e9a714c6e24c": {
      "model_module": "@jupyter-widgets/base",
      "model_module_version": "1.2.0",
      "model_name": "LayoutModel",
      "state": {
       "_model_module": "@jupyter-widgets/base",
       "_model_module_version": "1.2.0",
       "_model_name": "LayoutModel",
       "_view_count": null,
       "_view_module": "@jupyter-widgets/base",
       "_view_module_version": "1.2.0",
       "_view_name": "LayoutView",
       "align_content": null,
       "align_items": null,
       "align_self": null,
       "border": null,
       "bottom": null,
       "display": null,
       "flex": null,
       "flex_flow": null,
       "grid_area": null,
       "grid_auto_columns": null,
       "grid_auto_flow": null,
       "grid_auto_rows": null,
       "grid_column": null,
       "grid_gap": null,
       "grid_row": null,
       "grid_template_areas": null,
       "grid_template_columns": null,
       "grid_template_rows": null,
       "height": null,
       "justify_content": null,
       "justify_items": null,
       "left": null,
       "margin": null,
       "max_height": null,
       "max_width": null,
       "min_height": null,
       "min_width": null,
       "object_fit": null,
       "object_position": null,
       "order": null,
       "overflow": null,
       "overflow_x": null,
       "overflow_y": null,
       "padding": null,
       "right": null,
       "top": null,
       "visibility": null,
       "width": null
      }
     },
     "b43161d170bd46b9beea242e39fde9a0": {
      "model_module": "@jupyter-widgets/controls",
      "model_module_version": "1.5.0",
      "model_name": "HTMLModel",
      "state": {
       "_dom_classes": [],
       "_model_module": "@jupyter-widgets/controls",
       "_model_module_version": "1.5.0",
       "_model_name": "HTMLModel",
       "_view_count": null,
       "_view_module": "@jupyter-widgets/controls",
       "_view_module_version": "1.5.0",
       "_view_name": "HTMLView",
       "description": "",
       "description_tooltip": null,
       "layout": "IPY_MODEL_e15cba2df4ba4e238b8c57fb62787994",
       "placeholder": "​",
       "style": "IPY_MODEL_039ed214b8d94632af29afbd9f0f8953",
       "value": "Downloading: 100%"
      }
     },
     "b7a61d09d5764dba938e2294340da0e1": {
      "model_module": "@jupyter-widgets/controls",
      "model_module_version": "1.5.0",
      "model_name": "ProgressStyleModel",
      "state": {
       "_model_module": "@jupyter-widgets/controls",
       "_model_module_version": "1.5.0",
       "_model_name": "ProgressStyleModel",
       "_view_count": null,
       "_view_module": "@jupyter-widgets/base",
       "_view_module_version": "1.2.0",
       "_view_name": "StyleView",
       "bar_color": null,
       "description_width": ""
      }
     },
     "b9a9b494d38642f68bcec0478760b0f2": {
      "model_module": "@jupyter-widgets/base",
      "model_module_version": "1.2.0",
      "model_name": "LayoutModel",
      "state": {
       "_model_module": "@jupyter-widgets/base",
       "_model_module_version": "1.2.0",
       "_model_name": "LayoutModel",
       "_view_count": null,
       "_view_module": "@jupyter-widgets/base",
       "_view_module_version": "1.2.0",
       "_view_name": "LayoutView",
       "align_content": null,
       "align_items": null,
       "align_self": null,
       "border": null,
       "bottom": null,
       "display": null,
       "flex": null,
       "flex_flow": null,
       "grid_area": null,
       "grid_auto_columns": null,
       "grid_auto_flow": null,
       "grid_auto_rows": null,
       "grid_column": null,
       "grid_gap": null,
       "grid_row": null,
       "grid_template_areas": null,
       "grid_template_columns": null,
       "grid_template_rows": null,
       "height": null,
       "justify_content": null,
       "justify_items": null,
       "left": null,
       "margin": null,
       "max_height": null,
       "max_width": null,
       "min_height": null,
       "min_width": null,
       "object_fit": null,
       "object_position": null,
       "order": null,
       "overflow": null,
       "overflow_x": null,
       "overflow_y": null,
       "padding": null,
       "right": null,
       "top": null,
       "visibility": null,
       "width": null
      }
     },
     "bc0fe28b6c224d0cba76bb853976e9a5": {
      "model_module": "@jupyter-widgets/base",
      "model_module_version": "1.2.0",
      "model_name": "LayoutModel",
      "state": {
       "_model_module": "@jupyter-widgets/base",
       "_model_module_version": "1.2.0",
       "_model_name": "LayoutModel",
       "_view_count": null,
       "_view_module": "@jupyter-widgets/base",
       "_view_module_version": "1.2.0",
       "_view_name": "LayoutView",
       "align_content": null,
       "align_items": null,
       "align_self": null,
       "border": null,
       "bottom": null,
       "display": null,
       "flex": null,
       "flex_flow": null,
       "grid_area": null,
       "grid_auto_columns": null,
       "grid_auto_flow": null,
       "grid_auto_rows": null,
       "grid_column": null,
       "grid_gap": null,
       "grid_row": null,
       "grid_template_areas": null,
       "grid_template_columns": null,
       "grid_template_rows": null,
       "height": null,
       "justify_content": null,
       "justify_items": null,
       "left": null,
       "margin": null,
       "max_height": null,
       "max_width": null,
       "min_height": null,
       "min_width": null,
       "object_fit": null,
       "object_position": null,
       "order": null,
       "overflow": null,
       "overflow_x": null,
       "overflow_y": null,
       "padding": null,
       "right": null,
       "top": null,
       "visibility": null,
       "width": null
      }
     },
     "be4923ba6e614f0697b51f51b8782b9e": {
      "model_module": "@jupyter-widgets/controls",
      "model_module_version": "1.5.0",
      "model_name": "DescriptionStyleModel",
      "state": {
       "_model_module": "@jupyter-widgets/controls",
       "_model_module_version": "1.5.0",
       "_model_name": "DescriptionStyleModel",
       "_view_count": null,
       "_view_module": "@jupyter-widgets/base",
       "_view_module_version": "1.2.0",
       "_view_name": "StyleView",
       "description_width": ""
      }
     },
     "bfb1012721434ce3bb7fb2563da0ffce": {
      "model_module": "@jupyter-widgets/controls",
      "model_module_version": "1.5.0",
      "model_name": "HTMLModel",
      "state": {
       "_dom_classes": [],
       "_model_module": "@jupyter-widgets/controls",
       "_model_module_version": "1.5.0",
       "_model_name": "HTMLModel",
       "_view_count": null,
       "_view_module": "@jupyter-widgets/controls",
       "_view_module_version": "1.5.0",
       "_view_name": "HTMLView",
       "description": "",
       "description_tooltip": null,
       "layout": "IPY_MODEL_db09a4c8e1954516b3ac43c8aa48f40e",
       "placeholder": "​",
       "style": "IPY_MODEL_3e4b07bc449b41e68cdbeec8dec1d2ae",
       "value": "Downloading: 100%"
      }
     },
     "c3ca3a8889b4408ebe6388c124e578b1": {
      "model_module": "@jupyter-widgets/controls",
      "model_module_version": "1.5.0",
      "model_name": "DescriptionStyleModel",
      "state": {
       "_model_module": "@jupyter-widgets/controls",
       "_model_module_version": "1.5.0",
       "_model_name": "DescriptionStyleModel",
       "_view_count": null,
       "_view_module": "@jupyter-widgets/base",
       "_view_module_version": "1.2.0",
       "_view_name": "StyleView",
       "description_width": ""
      }
     },
     "c9c0174eb2394e829b3cf116ded4102b": {
      "model_module": "@jupyter-widgets/controls",
      "model_module_version": "1.5.0",
      "model_name": "ProgressStyleModel",
      "state": {
       "_model_module": "@jupyter-widgets/controls",
       "_model_module_version": "1.5.0",
       "_model_name": "ProgressStyleModel",
       "_view_count": null,
       "_view_module": "@jupyter-widgets/base",
       "_view_module_version": "1.2.0",
       "_view_name": "StyleView",
       "bar_color": null,
       "description_width": ""
      }
     },
     "d103609b93494f50aa62df710505e01f": {
      "model_module": "@jupyter-widgets/controls",
      "model_module_version": "1.5.0",
      "model_name": "FloatProgressModel",
      "state": {
       "_dom_classes": [],
       "_model_module": "@jupyter-widgets/controls",
       "_model_module_version": "1.5.0",
       "_model_name": "FloatProgressModel",
       "_view_count": null,
       "_view_module": "@jupyter-widgets/controls",
       "_view_module_version": "1.5.0",
       "_view_name": "ProgressView",
       "bar_style": "success",
       "description": "",
       "description_tooltip": null,
       "layout": "IPY_MODEL_282f4ac847cc4952bf6bf3a0fec7b53e",
       "max": 231508,
       "min": 0,
       "orientation": "horizontal",
       "style": "IPY_MODEL_b7a61d09d5764dba938e2294340da0e1",
       "value": 231508
      }
     },
     "d6896bec66a7405da92f95782dd84d37": {
      "model_module": "@jupyter-widgets/controls",
      "model_module_version": "1.5.0",
      "model_name": "HTMLModel",
      "state": {
       "_dom_classes": [],
       "_model_module": "@jupyter-widgets/controls",
       "_model_module_version": "1.5.0",
       "_model_name": "HTMLModel",
       "_view_count": null,
       "_view_module": "@jupyter-widgets/controls",
       "_view_module_version": "1.5.0",
       "_view_name": "HTMLView",
       "description": "",
       "description_tooltip": null,
       "layout": "IPY_MODEL_0922e68fd1bd4988899754896e07e2a8",
       "placeholder": "​",
       "style": "IPY_MODEL_c3ca3a8889b4408ebe6388c124e578b1",
       "value": " 483/483 [00:00&lt;00:00, 18.7kB/s]"
      }
     },
     "db09a4c8e1954516b3ac43c8aa48f40e": {
      "model_module": "@jupyter-widgets/base",
      "model_module_version": "1.2.0",
      "model_name": "LayoutModel",
      "state": {
       "_model_module": "@jupyter-widgets/base",
       "_model_module_version": "1.2.0",
       "_model_name": "LayoutModel",
       "_view_count": null,
       "_view_module": "@jupyter-widgets/base",
       "_view_module_version": "1.2.0",
       "_view_name": "LayoutView",
       "align_content": null,
       "align_items": null,
       "align_self": null,
       "border": null,
       "bottom": null,
       "display": null,
       "flex": null,
       "flex_flow": null,
       "grid_area": null,
       "grid_auto_columns": null,
       "grid_auto_flow": null,
       "grid_auto_rows": null,
       "grid_column": null,
       "grid_gap": null,
       "grid_row": null,
       "grid_template_areas": null,
       "grid_template_columns": null,
       "grid_template_rows": null,
       "height": null,
       "justify_content": null,
       "justify_items": null,
       "left": null,
       "margin": null,
       "max_height": null,
       "max_width": null,
       "min_height": null,
       "min_width": null,
       "object_fit": null,
       "object_position": null,
       "order": null,
       "overflow": null,
       "overflow_x": null,
       "overflow_y": null,
       "padding": null,
       "right": null,
       "top": null,
       "visibility": null,
       "width": null
      }
     },
     "df25815edc3c483ea58405ad0d741a25": {
      "model_module": "@jupyter-widgets/base",
      "model_module_version": "1.2.0",
      "model_name": "LayoutModel",
      "state": {
       "_model_module": "@jupyter-widgets/base",
       "_model_module_version": "1.2.0",
       "_model_name": "LayoutModel",
       "_view_count": null,
       "_view_module": "@jupyter-widgets/base",
       "_view_module_version": "1.2.0",
       "_view_name": "LayoutView",
       "align_content": null,
       "align_items": null,
       "align_self": null,
       "border": null,
       "bottom": null,
       "display": null,
       "flex": null,
       "flex_flow": null,
       "grid_area": null,
       "grid_auto_columns": null,
       "grid_auto_flow": null,
       "grid_auto_rows": null,
       "grid_column": null,
       "grid_gap": null,
       "grid_row": null,
       "grid_template_areas": null,
       "grid_template_columns": null,
       "grid_template_rows": null,
       "height": null,
       "justify_content": null,
       "justify_items": null,
       "left": null,
       "margin": null,
       "max_height": null,
       "max_width": null,
       "min_height": null,
       "min_width": null,
       "object_fit": null,
       "object_position": null,
       "order": null,
       "overflow": null,
       "overflow_x": null,
       "overflow_y": null,
       "padding": null,
       "right": null,
       "top": null,
       "visibility": null,
       "width": null
      }
     },
     "e0a0f814462540d49e049c9fa3505b92": {
      "model_module": "@jupyter-widgets/controls",
      "model_module_version": "1.5.0",
      "model_name": "ProgressStyleModel",
      "state": {
       "_model_module": "@jupyter-widgets/controls",
       "_model_module_version": "1.5.0",
       "_model_name": "ProgressStyleModel",
       "_view_count": null,
       "_view_module": "@jupyter-widgets/base",
       "_view_module_version": "1.2.0",
       "_view_name": "StyleView",
       "bar_color": null,
       "description_width": ""
      }
     },
     "e15cba2df4ba4e238b8c57fb62787994": {
      "model_module": "@jupyter-widgets/base",
      "model_module_version": "1.2.0",
      "model_name": "LayoutModel",
      "state": {
       "_model_module": "@jupyter-widgets/base",
       "_model_module_version": "1.2.0",
       "_model_name": "LayoutModel",
       "_view_count": null,
       "_view_module": "@jupyter-widgets/base",
       "_view_module_version": "1.2.0",
       "_view_name": "LayoutView",
       "align_content": null,
       "align_items": null,
       "align_self": null,
       "border": null,
       "bottom": null,
       "display": null,
       "flex": null,
       "flex_flow": null,
       "grid_area": null,
       "grid_auto_columns": null,
       "grid_auto_flow": null,
       "grid_auto_rows": null,
       "grid_column": null,
       "grid_gap": null,
       "grid_row": null,
       "grid_template_areas": null,
       "grid_template_columns": null,
       "grid_template_rows": null,
       "height": null,
       "justify_content": null,
       "justify_items": null,
       "left": null,
       "margin": null,
       "max_height": null,
       "max_width": null,
       "min_height": null,
       "min_width": null,
       "object_fit": null,
       "object_position": null,
       "order": null,
       "overflow": null,
       "overflow_x": null,
       "overflow_y": null,
       "padding": null,
       "right": null,
       "top": null,
       "visibility": null,
       "width": null
      }
     },
     "e3b6162a6a0d43349627242aefef4e1f": {
      "model_module": "@jupyter-widgets/controls",
      "model_module_version": "1.5.0",
      "model_name": "HTMLModel",
      "state": {
       "_dom_classes": [],
       "_model_module": "@jupyter-widgets/controls",
       "_model_module_version": "1.5.0",
       "_model_name": "HTMLModel",
       "_view_count": null,
       "_view_module": "@jupyter-widgets/controls",
       "_view_module_version": "1.5.0",
       "_view_name": "HTMLView",
       "description": "",
       "description_tooltip": null,
       "layout": "IPY_MODEL_ed56f792cce44176b03208f9ae3e4fcd",
       "placeholder": "​",
       "style": "IPY_MODEL_36d3da161fb7464180978ece88eb07d5",
       "value": "Downloading: 100%"
      }
     },
     "ed56f792cce44176b03208f9ae3e4fcd": {
      "model_module": "@jupyter-widgets/base",
      "model_module_version": "1.2.0",
      "model_name": "LayoutModel",
      "state": {
       "_model_module": "@jupyter-widgets/base",
       "_model_module_version": "1.2.0",
       "_model_name": "LayoutModel",
       "_view_count": null,
       "_view_module": "@jupyter-widgets/base",
       "_view_module_version": "1.2.0",
       "_view_name": "LayoutView",
       "align_content": null,
       "align_items": null,
       "align_self": null,
       "border": null,
       "bottom": null,
       "display": null,
       "flex": null,
       "flex_flow": null,
       "grid_area": null,
       "grid_auto_columns": null,
       "grid_auto_flow": null,
       "grid_auto_rows": null,
       "grid_column": null,
       "grid_gap": null,
       "grid_row": null,
       "grid_template_areas": null,
       "grid_template_columns": null,
       "grid_template_rows": null,
       "height": null,
       "justify_content": null,
       "justify_items": null,
       "left": null,
       "margin": null,
       "max_height": null,
       "max_width": null,
       "min_height": null,
       "min_width": null,
       "object_fit": null,
       "object_position": null,
       "order": null,
       "overflow": null,
       "overflow_x": null,
       "overflow_y": null,
       "padding": null,
       "right": null,
       "top": null,
       "visibility": null,
       "width": null
      }
     },
     "fe75ae051c954a2facd88aa1455f0f0b": {
      "model_module": "@jupyter-widgets/controls",
      "model_module_version": "1.5.0",
      "model_name": "HBoxModel",
      "state": {
       "_dom_classes": [],
       "_model_module": "@jupyter-widgets/controls",
       "_model_module_version": "1.5.0",
       "_model_name": "HBoxModel",
       "_view_count": null,
       "_view_module": "@jupyter-widgets/controls",
       "_view_module_version": "1.5.0",
       "_view_name": "HBoxView",
       "box_style": "",
       "children": [
        "IPY_MODEL_699039bfec054933b578e737129399d1",
        "IPY_MODEL_268c7be05ed34ab1a6165e1123c0077d",
        "IPY_MODEL_39bf749993dc4180bb480c13042bf06c"
       ],
       "layout": "IPY_MODEL_0c0a6b7075414a93b88dc2124425d109"
      }
     }
    },
    "version_major": 2,
    "version_minor": 0
   }
  }
 },
 "nbformat": 4,
 "nbformat_minor": 5
}
