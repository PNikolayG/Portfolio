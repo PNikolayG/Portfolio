{
 "cells": [
  {
   "cell_type": "markdown",
   "id": "347dd246",
   "metadata": {},
   "source": [
    "# Домашнее задание к теме «Гибридные рекомендательные системы»\n",
    "\n",
    "1. Датасет ml-latest\n",
    "1. Вспомнить подходы, которые мы разбирали\n",
    "1. Выбрать понравившийся подход к гибридным системам\n",
    "1. Написать свою рекомендательную систему"
   ]
  },
  {
   "cell_type": "markdown",
   "id": "da4c2a23",
   "metadata": {},
   "source": [
    "### Решение"
   ]
  },
  {
   "cell_type": "code",
   "execution_count": 1,
   "id": "dcd9aed6",
   "metadata": {},
   "outputs": [],
   "source": [
    "from surprise import SVD, SVDpp\n",
    "from surprise import Dataset\n",
    "from surprise import accuracy\n",
    "from surprise import Reader\n",
    "from surprise.model_selection import train_test_split\n",
    "\n",
    "import matplotlib.pyplot as plt\n",
    "\n",
    "from tqdm import tqdm_notebook\n",
    "\n",
    "from sklearn.feature_extraction.text import TfidfTransformer, CountVectorizer\n",
    "from sklearn.neighbors import NearestNeighbors\n",
    "\n",
    "import pandas as pd\n",
    "import numpy as np"
   ]
  },
  {
   "cell_type": "code",
   "execution_count": 12,
   "id": "0374f3b3",
   "metadata": {},
   "outputs": [],
   "source": [
    "#User information (users.dat table, data without entry information)\n",
    "unames = ['user_id','gender','age','occupation','zip']\n",
    "users = pd.read_table('../3.ColloborativeFiltering/users.dat', sep='::', header=None, names=unames, engine='python')\n",
    "\n",
    "#Rating information\n",
    "rnames = ['user_id','movie_id','rating','timestamp']\n",
    "ratings = pd.read_table('../3.ColloborativeFiltering/ratings.dat', sep='::', header=None, names=rnames, engine='python')\n",
    "\n",
    "# #Movie information\n",
    "mnames = ['movie_id','title','genres']\n",
    "movies = pd.read_table('../3.ColloborativeFiltering/movies.dat', sep='::', header=None, names=mnames, engine='python', encoding='ISO-8859-1')"
   ]
  },
  {
   "cell_type": "code",
   "execution_count": 13,
   "id": "dbfaea0a",
   "metadata": {},
   "outputs": [],
   "source": [
    "data=pd.merge(pd.merge(ratings,users),movies)"
   ]
  },
  {
   "cell_type": "code",
   "execution_count": 14,
   "id": "33c602b8",
   "metadata": {},
   "outputs": [
    {
     "data": {
      "text/html": [
       "<div>\n",
       "<style scoped>\n",
       "    .dataframe tbody tr th:only-of-type {\n",
       "        vertical-align: middle;\n",
       "    }\n",
       "\n",
       "    .dataframe tbody tr th {\n",
       "        vertical-align: top;\n",
       "    }\n",
       "\n",
       "    .dataframe thead th {\n",
       "        text-align: right;\n",
       "    }\n",
       "</style>\n",
       "<table border=\"1\" class=\"dataframe\">\n",
       "  <thead>\n",
       "    <tr style=\"text-align: right;\">\n",
       "      <th></th>\n",
       "      <th>user_id</th>\n",
       "      <th>movie_id</th>\n",
       "      <th>rating</th>\n",
       "      <th>timestamp</th>\n",
       "      <th>gender</th>\n",
       "      <th>age</th>\n",
       "      <th>occupation</th>\n",
       "      <th>zip</th>\n",
       "      <th>title</th>\n",
       "      <th>genres</th>\n",
       "    </tr>\n",
       "  </thead>\n",
       "  <tbody>\n",
       "    <tr>\n",
       "      <th>0</th>\n",
       "      <td>1</td>\n",
       "      <td>1193</td>\n",
       "      <td>5</td>\n",
       "      <td>978300760</td>\n",
       "      <td>F</td>\n",
       "      <td>1</td>\n",
       "      <td>10</td>\n",
       "      <td>48067</td>\n",
       "      <td>One Flew Over the Cuckoo's Nest (1975)</td>\n",
       "      <td>Drama</td>\n",
       "    </tr>\n",
       "    <tr>\n",
       "      <th>1</th>\n",
       "      <td>2</td>\n",
       "      <td>1193</td>\n",
       "      <td>5</td>\n",
       "      <td>978298413</td>\n",
       "      <td>M</td>\n",
       "      <td>56</td>\n",
       "      <td>16</td>\n",
       "      <td>70072</td>\n",
       "      <td>One Flew Over the Cuckoo's Nest (1975)</td>\n",
       "      <td>Drama</td>\n",
       "    </tr>\n",
       "    <tr>\n",
       "      <th>2</th>\n",
       "      <td>12</td>\n",
       "      <td>1193</td>\n",
       "      <td>4</td>\n",
       "      <td>978220179</td>\n",
       "      <td>M</td>\n",
       "      <td>25</td>\n",
       "      <td>12</td>\n",
       "      <td>32793</td>\n",
       "      <td>One Flew Over the Cuckoo's Nest (1975)</td>\n",
       "      <td>Drama</td>\n",
       "    </tr>\n",
       "    <tr>\n",
       "      <th>3</th>\n",
       "      <td>15</td>\n",
       "      <td>1193</td>\n",
       "      <td>4</td>\n",
       "      <td>978199279</td>\n",
       "      <td>M</td>\n",
       "      <td>25</td>\n",
       "      <td>7</td>\n",
       "      <td>22903</td>\n",
       "      <td>One Flew Over the Cuckoo's Nest (1975)</td>\n",
       "      <td>Drama</td>\n",
       "    </tr>\n",
       "    <tr>\n",
       "      <th>4</th>\n",
       "      <td>17</td>\n",
       "      <td>1193</td>\n",
       "      <td>5</td>\n",
       "      <td>978158471</td>\n",
       "      <td>M</td>\n",
       "      <td>50</td>\n",
       "      <td>1</td>\n",
       "      <td>95350</td>\n",
       "      <td>One Flew Over the Cuckoo's Nest (1975)</td>\n",
       "      <td>Drama</td>\n",
       "    </tr>\n",
       "  </tbody>\n",
       "</table>\n",
       "</div>"
      ],
      "text/plain": [
       "   user_id  movie_id  rating  timestamp gender  age  occupation    zip  \\\n",
       "0        1      1193       5  978300760      F    1          10  48067   \n",
       "1        2      1193       5  978298413      M   56          16  70072   \n",
       "2       12      1193       4  978220179      M   25          12  32793   \n",
       "3       15      1193       4  978199279      M   25           7  22903   \n",
       "4       17      1193       5  978158471      M   50           1  95350   \n",
       "\n",
       "                                    title genres  \n",
       "0  One Flew Over the Cuckoo's Nest (1975)  Drama  \n",
       "1  One Flew Over the Cuckoo's Nest (1975)  Drama  \n",
       "2  One Flew Over the Cuckoo's Nest (1975)  Drama  \n",
       "3  One Flew Over the Cuckoo's Nest (1975)  Drama  \n",
       "4  One Flew Over the Cuckoo's Nest (1975)  Drama  "
      ]
     },
     "execution_count": 14,
     "metadata": {},
     "output_type": "execute_result"
    }
   ],
   "source": [
    "data.head()"
   ]
  },
  {
   "cell_type": "code",
   "execution_count": 15,
   "id": "45cbe2df",
   "metadata": {},
   "outputs": [
    {
     "name": "stdout",
     "output_type": "stream",
     "text": [
      "<class 'pandas.core.frame.DataFrame'>\n",
      "Int64Index: 1000209 entries, 0 to 1000208\n",
      "Data columns (total 10 columns):\n",
      " #   Column      Non-Null Count    Dtype \n",
      "---  ------      --------------    ----- \n",
      " 0   user_id     1000209 non-null  int64 \n",
      " 1   movie_id    1000209 non-null  int64 \n",
      " 2   rating      1000209 non-null  int64 \n",
      " 3   timestamp   1000209 non-null  int64 \n",
      " 4   gender      1000209 non-null  object\n",
      " 5   age         1000209 non-null  int64 \n",
      " 6   occupation  1000209 non-null  int64 \n",
      " 7   zip         1000209 non-null  object\n",
      " 8   title       1000209 non-null  object\n",
      " 9   genres      1000209 non-null  object\n",
      "dtypes: int64(6), object(4)\n",
      "memory usage: 83.9+ MB\n"
     ]
    }
   ],
   "source": [
    "data.info()"
   ]
  },
  {
   "cell_type": "code",
   "execution_count": 16,
   "id": "7a28d704",
   "metadata": {},
   "outputs": [],
   "source": [
    "dataset = pd.DataFrame({\n",
    "    'uid': data.user_id,\n",
    "    'iid': data.title,\n",
    "    'rating': data.rating\n",
    "})"
   ]
  },
  {
   "cell_type": "code",
   "execution_count": 17,
   "id": "f7d0e9d1",
   "metadata": {},
   "outputs": [
    {
     "data": {
      "text/plain": [
       "5"
      ]
     },
     "execution_count": 17,
     "metadata": {},
     "output_type": "execute_result"
    }
   ],
   "source": [
    "data.rating.max()"
   ]
  },
  {
   "cell_type": "code",
   "execution_count": 18,
   "id": "34698b69",
   "metadata": {},
   "outputs": [
    {
     "data": {
      "text/plain": [
       "1"
      ]
     },
     "execution_count": 18,
     "metadata": {},
     "output_type": "execute_result"
    }
   ],
   "source": [
    "data.rating.min()"
   ]
  },
  {
   "cell_type": "code",
   "execution_count": 19,
   "id": "71bb9d04",
   "metadata": {},
   "outputs": [],
   "source": [
    "reader = Reader(rating_scale=(1, 5.0))\n",
    "df = Dataset.load_from_df(dataset, reader)"
   ]
  },
  {
   "cell_type": "code",
   "execution_count": 20,
   "id": "f121ccc8",
   "metadata": {},
   "outputs": [],
   "source": [
    "trainset, testset = train_test_split(df, test_size=.15, random_state=42)"
   ]
  },
  {
   "cell_type": "code",
   "execution_count": 21,
   "id": "9fdcb816",
   "metadata": {},
   "outputs": [
    {
     "name": "stdout",
     "output_type": "stream",
     "text": [
      "Wall time: 36.7 s\n"
     ]
    },
    {
     "data": {
      "text/plain": [
       "<surprise.prediction_algorithms.matrix_factorization.SVD at 0x11bfcd26460>"
      ]
     },
     "execution_count": 21,
     "metadata": {},
     "output_type": "execute_result"
    }
   ],
   "source": [
    "%%time\n",
    "algo = SVD(n_factors=25, n_epochs=30)\n",
    "algo.fit(trainset)"
   ]
  },
  {
   "cell_type": "code",
   "execution_count": 22,
   "id": "b281dc89",
   "metadata": {},
   "outputs": [],
   "source": [
    "test_pred = algo.test(testset)"
   ]
  },
  {
   "cell_type": "code",
   "execution_count": 23,
   "id": "82b19467",
   "metadata": {},
   "outputs": [
    {
     "name": "stdout",
     "output_type": "stream",
     "text": [
      "RMSE: 0.8643\n"
     ]
    },
    {
     "data": {
      "text/plain": [
       "0.8642816590294677"
      ]
     },
     "execution_count": 23,
     "metadata": {},
     "output_type": "execute_result"
    }
   ],
   "source": [
    "accuracy.rmse(test_pred, verbose=True)"
   ]
  },
  {
   "cell_type": "code",
   "execution_count": 24,
   "id": "b8846b82",
   "metadata": {},
   "outputs": [
    {
     "data": {
      "text/plain": [
       "2.551187844920484"
      ]
     },
     "execution_count": 24,
     "metadata": {},
     "output_type": "execute_result"
    }
   ],
   "source": [
    "algo.predict(uid=2.0, iid='Mortal Kombat (1995)').est"
   ]
  },
  {
   "cell_type": "code",
   "execution_count": 25,
   "id": "a4c8cc4e",
   "metadata": {},
   "outputs": [],
   "source": [
    "current_user_id = 2.0\n",
    "user_movies = data[data.user_id == current_user_id].title.unique()\n",
    "\n",
    "scores = []\n",
    "titles = []\n",
    "\n",
    "for movie in data.title.unique():\n",
    "    if movie in user_movies:\n",
    "        continue\n",
    "        \n",
    "    scores.append(algo.predict(uid=current_user_id, iid=movie).est)\n",
    "    titles.append(movie)"
   ]
  },
  {
   "cell_type": "code",
   "execution_count": 26,
   "id": "bb485e25",
   "metadata": {},
   "outputs": [
    {
     "data": {
      "text/plain": [
       "[4.399203615375802,\n",
       " 4.401657139626693,\n",
       " 4.420772760281024,\n",
       " 4.4264061729882345,\n",
       " 4.548477019888388,\n",
       " 4.554691871614094,\n",
       " 4.583089070497742,\n",
       " 4.618336194844336,\n",
       " 4.665555052858654,\n",
       " 4.736376295122313]"
      ]
     },
     "execution_count": 26,
     "metadata": {},
     "output_type": "execute_result"
    }
   ],
   "source": [
    "sorted(scores)[-10:]"
   ]
  },
  {
   "cell_type": "code",
   "execution_count": 27,
   "id": "acbc035a",
   "metadata": {},
   "outputs": [],
   "source": [
    "def change_string(s):\n",
    "    return ' '.join(s.replace(' ', '').replace('-', '').split('|'))"
   ]
  },
  {
   "cell_type": "code",
   "execution_count": 28,
   "id": "121ba7c5",
   "metadata": {},
   "outputs": [],
   "source": [
    "movie_genres = [change_string(g) for g in movies.genres.values]"
   ]
  },
  {
   "cell_type": "code",
   "execution_count": 29,
   "id": "0936ee42",
   "metadata": {},
   "outputs": [
    {
     "data": {
      "text/plain": [
       "\"Animation Children's Comedy\""
      ]
     },
     "execution_count": 29,
     "metadata": {},
     "output_type": "execute_result"
    }
   ],
   "source": [
    "movie_genres[0]"
   ]
  },
  {
   "cell_type": "code",
   "execution_count": 30,
   "id": "dd55d474",
   "metadata": {},
   "outputs": [
    {
     "data": {
      "text/plain": [
       "NearestNeighbors(metric='euclidean', n_jobs=-1, n_neighbors=25)"
      ]
     },
     "execution_count": 30,
     "metadata": {},
     "output_type": "execute_result"
    }
   ],
   "source": [
    "count_vect = CountVectorizer()\n",
    "X_train_counts = count_vect.fit_transform(movie_genres)\n",
    "\n",
    "tfidf_transformer = TfidfTransformer()\n",
    "X_train_tfidf = tfidf_transformer.fit_transform(X_train_counts)\n",
    "\n",
    "neigh = NearestNeighbors(n_neighbors=25, n_jobs=-1, metric='euclidean') \n",
    "neigh.fit(X_train_tfidf)"
   ]
  },
  {
   "cell_type": "code",
   "execution_count": 31,
   "id": "43389fa8",
   "metadata": {},
   "outputs": [],
   "source": [
    "test = change_string(\"Adventure|Comedy|Fantasy|Crime\")\n",
    "\n",
    "predict = count_vect.transform([test])\n",
    "X_tfidf2 = tfidf_transformer.transform(predict)\n",
    "\n",
    "res = neigh.kneighbors(X_tfidf2, return_distance=True)"
   ]
  },
  {
   "cell_type": "code",
   "execution_count": 32,
   "id": "18878871",
   "metadata": {},
   "outputs": [
    {
     "data": {
      "text/plain": [
       "(array([[0.48797024, 0.6151026 , 0.71151155, 0.71151155, 0.7378178 ,\n",
       "         0.7378178 , 0.7378178 , 0.7378178 , 0.7378178 , 0.7419569 ,\n",
       "         0.7419569 , 0.75200801, 0.75200801, 0.75200801, 0.75200801,\n",
       "         0.75200801, 0.75200801, 0.7758186 , 0.7758186 , 0.78182187,\n",
       "         0.78182187, 0.78182187, 0.78182187, 0.78182187, 0.78182187]]),\n",
       " array([[ 363, 3420, 1779, 1058,  647, 2124, 3819, 3084, 3807, 3410, 2074,\n",
       "         3397, 2728, 2553, 3324, 2105, 1110, 2104, 2899, 1936,   55, 1898,\n",
       "          124,    1, 1974]], dtype=int64))"
      ]
     },
     "execution_count": 32,
     "metadata": {},
     "output_type": "execute_result"
    }
   ],
   "source": [
    "res"
   ]
  },
  {
   "cell_type": "code",
   "execution_count": 33,
   "id": "a2bdaa5c",
   "metadata": {},
   "outputs": [
    {
     "data": {
      "text/html": [
       "<div>\n",
       "<style scoped>\n",
       "    .dataframe tbody tr th:only-of-type {\n",
       "        vertical-align: middle;\n",
       "    }\n",
       "\n",
       "    .dataframe tbody tr th {\n",
       "        vertical-align: top;\n",
       "    }\n",
       "\n",
       "    .dataframe thead th {\n",
       "        text-align: right;\n",
       "    }\n",
       "</style>\n",
       "<table border=\"1\" class=\"dataframe\">\n",
       "  <thead>\n",
       "    <tr style=\"text-align: right;\">\n",
       "      <th></th>\n",
       "      <th>movie_id</th>\n",
       "      <th>title</th>\n",
       "      <th>genres</th>\n",
       "    </tr>\n",
       "  </thead>\n",
       "  <tbody>\n",
       "    <tr>\n",
       "      <th>363</th>\n",
       "      <td>367</td>\n",
       "      <td>Mask, The (1994)</td>\n",
       "      <td>Comedy|Crime|Fantasy</td>\n",
       "    </tr>\n",
       "    <tr>\n",
       "      <th>3420</th>\n",
       "      <td>3489</td>\n",
       "      <td>Hook (1991)</td>\n",
       "      <td>Adventure|Fantasy</td>\n",
       "    </tr>\n",
       "    <tr>\n",
       "      <th>1779</th>\n",
       "      <td>1848</td>\n",
       "      <td>Borrowers, The (1997)</td>\n",
       "      <td>Adventure|Children's|Comedy|Fantasy</td>\n",
       "    </tr>\n",
       "    <tr>\n",
       "      <th>1058</th>\n",
       "      <td>1073</td>\n",
       "      <td>Willy Wonka and the Chocolate Factory (1971)</td>\n",
       "      <td>Adventure|Children's|Comedy|Fantasy</td>\n",
       "    </tr>\n",
       "    <tr>\n",
       "      <th>647</th>\n",
       "      <td>653</td>\n",
       "      <td>Dragonheart (1996)</td>\n",
       "      <td>Action|Adventure|Fantasy</td>\n",
       "    </tr>\n",
       "    <tr>\n",
       "      <th>2124</th>\n",
       "      <td>2193</td>\n",
       "      <td>Willow (1988)</td>\n",
       "      <td>Action|Adventure|Fantasy</td>\n",
       "    </tr>\n",
       "    <tr>\n",
       "      <th>3819</th>\n",
       "      <td>3889</td>\n",
       "      <td>Highlander: Endgame (2000)</td>\n",
       "      <td>Action|Adventure|Fantasy</td>\n",
       "    </tr>\n",
       "    <tr>\n",
       "      <th>3084</th>\n",
       "      <td>3153</td>\n",
       "      <td>7th Voyage of Sinbad, The (1958)</td>\n",
       "      <td>Action|Adventure|Fantasy</td>\n",
       "    </tr>\n",
       "    <tr>\n",
       "      <th>3807</th>\n",
       "      <td>3877</td>\n",
       "      <td>Supergirl (1984)</td>\n",
       "      <td>Action|Adventure|Fantasy</td>\n",
       "    </tr>\n",
       "    <tr>\n",
       "      <th>3410</th>\n",
       "      <td>3479</td>\n",
       "      <td>Ladyhawke (1985)</td>\n",
       "      <td>Adventure|Fantasy|Romance</td>\n",
       "    </tr>\n",
       "    <tr>\n",
       "      <th>2074</th>\n",
       "      <td>2143</td>\n",
       "      <td>Legend (1985)</td>\n",
       "      <td>Adventure|Fantasy|Romance</td>\n",
       "    </tr>\n",
       "    <tr>\n",
       "      <th>3397</th>\n",
       "      <td>3466</td>\n",
       "      <td>Heart and Souls (1993)</td>\n",
       "      <td>Comedy|Fantasy</td>\n",
       "    </tr>\n",
       "    <tr>\n",
       "      <th>2728</th>\n",
       "      <td>2797</td>\n",
       "      <td>Big (1988)</td>\n",
       "      <td>Comedy|Fantasy</td>\n",
       "    </tr>\n",
       "    <tr>\n",
       "      <th>2553</th>\n",
       "      <td>2622</td>\n",
       "      <td>Midsummer Night's Dream, A (1999)</td>\n",
       "      <td>Comedy|Fantasy</td>\n",
       "    </tr>\n",
       "    <tr>\n",
       "      <th>3324</th>\n",
       "      <td>3393</td>\n",
       "      <td>Date with an Angel (1987)</td>\n",
       "      <td>Comedy|Fantasy</td>\n",
       "    </tr>\n",
       "    <tr>\n",
       "      <th>2105</th>\n",
       "      <td>2174</td>\n",
       "      <td>Beetlejuice (1988)</td>\n",
       "      <td>Comedy|Fantasy</td>\n",
       "    </tr>\n",
       "    <tr>\n",
       "      <th>1110</th>\n",
       "      <td>1126</td>\n",
       "      <td>Drop Dead Fred (1991)</td>\n",
       "      <td>Comedy|Fantasy</td>\n",
       "    </tr>\n",
       "    <tr>\n",
       "      <th>2104</th>\n",
       "      <td>2173</td>\n",
       "      <td>Navigator: A Mediaeval Odyssey, The (1988)</td>\n",
       "      <td>Adventure|Fantasy|Sci-Fi</td>\n",
       "    </tr>\n",
       "    <tr>\n",
       "      <th>2899</th>\n",
       "      <td>2968</td>\n",
       "      <td>Time Bandits (1981)</td>\n",
       "      <td>Adventure|Fantasy|Sci-Fi</td>\n",
       "    </tr>\n",
       "    <tr>\n",
       "      <th>1936</th>\n",
       "      <td>2005</td>\n",
       "      <td>Goonies, The (1985)</td>\n",
       "      <td>Adventure|Children's|Fantasy</td>\n",
       "    </tr>\n",
       "    <tr>\n",
       "      <th>55</th>\n",
       "      <td>56</td>\n",
       "      <td>Kids of the Round Table (1995)</td>\n",
       "      <td>Adventure|Children's|Fantasy</td>\n",
       "    </tr>\n",
       "    <tr>\n",
       "      <th>1898</th>\n",
       "      <td>1967</td>\n",
       "      <td>Labyrinth (1986)</td>\n",
       "      <td>Adventure|Children's|Fantasy</td>\n",
       "    </tr>\n",
       "    <tr>\n",
       "      <th>124</th>\n",
       "      <td>126</td>\n",
       "      <td>NeverEnding Story III, The (1994)</td>\n",
       "      <td>Adventure|Children's|Fantasy</td>\n",
       "    </tr>\n",
       "    <tr>\n",
       "      <th>1</th>\n",
       "      <td>2</td>\n",
       "      <td>Jumanji (1995)</td>\n",
       "      <td>Adventure|Children's|Fantasy</td>\n",
       "    </tr>\n",
       "    <tr>\n",
       "      <th>1974</th>\n",
       "      <td>2043</td>\n",
       "      <td>Darby O'Gill and the Little People (1959)</td>\n",
       "      <td>Adventure|Children's|Fantasy</td>\n",
       "    </tr>\n",
       "  </tbody>\n",
       "</table>\n",
       "</div>"
      ],
      "text/plain": [
       "      movie_id                                         title  \\\n",
       "363        367                              Mask, The (1994)   \n",
       "3420      3489                                   Hook (1991)   \n",
       "1779      1848                         Borrowers, The (1997)   \n",
       "1058      1073  Willy Wonka and the Chocolate Factory (1971)   \n",
       "647        653                            Dragonheart (1996)   \n",
       "2124      2193                                 Willow (1988)   \n",
       "3819      3889                    Highlander: Endgame (2000)   \n",
       "3084      3153              7th Voyage of Sinbad, The (1958)   \n",
       "3807      3877                              Supergirl (1984)   \n",
       "3410      3479                              Ladyhawke (1985)   \n",
       "2074      2143                                 Legend (1985)   \n",
       "3397      3466                        Heart and Souls (1993)   \n",
       "2728      2797                                    Big (1988)   \n",
       "2553      2622             Midsummer Night's Dream, A (1999)   \n",
       "3324      3393                     Date with an Angel (1987)   \n",
       "2105      2174                            Beetlejuice (1988)   \n",
       "1110      1126                         Drop Dead Fred (1991)   \n",
       "2104      2173    Navigator: A Mediaeval Odyssey, The (1988)   \n",
       "2899      2968                           Time Bandits (1981)   \n",
       "1936      2005                           Goonies, The (1985)   \n",
       "55          56                Kids of the Round Table (1995)   \n",
       "1898      1967                              Labyrinth (1986)   \n",
       "124        126             NeverEnding Story III, The (1994)   \n",
       "1            2                                Jumanji (1995)   \n",
       "1974      2043     Darby O'Gill and the Little People (1959)   \n",
       "\n",
       "                                   genres  \n",
       "363                  Comedy|Crime|Fantasy  \n",
       "3420                    Adventure|Fantasy  \n",
       "1779  Adventure|Children's|Comedy|Fantasy  \n",
       "1058  Adventure|Children's|Comedy|Fantasy  \n",
       "647              Action|Adventure|Fantasy  \n",
       "2124             Action|Adventure|Fantasy  \n",
       "3819             Action|Adventure|Fantasy  \n",
       "3084             Action|Adventure|Fantasy  \n",
       "3807             Action|Adventure|Fantasy  \n",
       "3410            Adventure|Fantasy|Romance  \n",
       "2074            Adventure|Fantasy|Romance  \n",
       "3397                       Comedy|Fantasy  \n",
       "2728                       Comedy|Fantasy  \n",
       "2553                       Comedy|Fantasy  \n",
       "3324                       Comedy|Fantasy  \n",
       "2105                       Comedy|Fantasy  \n",
       "1110                       Comedy|Fantasy  \n",
       "2104             Adventure|Fantasy|Sci-Fi  \n",
       "2899             Adventure|Fantasy|Sci-Fi  \n",
       "1936         Adventure|Children's|Fantasy  \n",
       "55           Adventure|Children's|Fantasy  \n",
       "1898         Adventure|Children's|Fantasy  \n",
       "124          Adventure|Children's|Fantasy  \n",
       "1            Adventure|Children's|Fantasy  \n",
       "1974         Adventure|Children's|Fantasy  "
      ]
     },
     "execution_count": 33,
     "metadata": {},
     "output_type": "execute_result"
    }
   ],
   "source": [
    "movies.iloc[res[1][0]]"
   ]
  },
  {
   "cell_type": "code",
   "execution_count": 34,
   "id": "c8178671",
   "metadata": {},
   "outputs": [],
   "source": [
    "data.sort_values('timestamp', inplace=True)"
   ]
  },
  {
   "cell_type": "code",
   "execution_count": 35,
   "id": "c20ff5e5",
   "metadata": {},
   "outputs": [
    {
     "data": {
      "text/html": [
       "<div>\n",
       "<style scoped>\n",
       "    .dataframe tbody tr th:only-of-type {\n",
       "        vertical-align: middle;\n",
       "    }\n",
       "\n",
       "    .dataframe tbody tr th {\n",
       "        vertical-align: top;\n",
       "    }\n",
       "\n",
       "    .dataframe thead th {\n",
       "        text-align: right;\n",
       "    }\n",
       "</style>\n",
       "<table border=\"1\" class=\"dataframe\">\n",
       "  <thead>\n",
       "    <tr style=\"text-align: right;\">\n",
       "      <th></th>\n",
       "      <th>movie_id</th>\n",
       "      <th>title</th>\n",
       "      <th>genres</th>\n",
       "    </tr>\n",
       "  </thead>\n",
       "  <tbody>\n",
       "    <tr>\n",
       "      <th>0</th>\n",
       "      <td>1</td>\n",
       "      <td>Toy Story (1995)</td>\n",
       "      <td>Animation|Children's|Comedy</td>\n",
       "    </tr>\n",
       "    <tr>\n",
       "      <th>1</th>\n",
       "      <td>2</td>\n",
       "      <td>Jumanji (1995)</td>\n",
       "      <td>Adventure|Children's|Fantasy</td>\n",
       "    </tr>\n",
       "    <tr>\n",
       "      <th>2</th>\n",
       "      <td>3</td>\n",
       "      <td>Grumpier Old Men (1995)</td>\n",
       "      <td>Comedy|Romance</td>\n",
       "    </tr>\n",
       "    <tr>\n",
       "      <th>3</th>\n",
       "      <td>4</td>\n",
       "      <td>Waiting to Exhale (1995)</td>\n",
       "      <td>Comedy|Drama</td>\n",
       "    </tr>\n",
       "    <tr>\n",
       "      <th>4</th>\n",
       "      <td>5</td>\n",
       "      <td>Father of the Bride Part II (1995)</td>\n",
       "      <td>Comedy</td>\n",
       "    </tr>\n",
       "  </tbody>\n",
       "</table>\n",
       "</div>"
      ],
      "text/plain": [
       "   movie_id                               title                        genres\n",
       "0         1                    Toy Story (1995)   Animation|Children's|Comedy\n",
       "1         2                      Jumanji (1995)  Adventure|Children's|Fantasy\n",
       "2         3             Grumpier Old Men (1995)                Comedy|Romance\n",
       "3         4            Waiting to Exhale (1995)                  Comedy|Drama\n",
       "4         5  Father of the Bride Part II (1995)                        Comedy"
      ]
     },
     "execution_count": 35,
     "metadata": {},
     "output_type": "execute_result"
    }
   ],
   "source": [
    "movies.head()"
   ]
  },
  {
   "cell_type": "code",
   "execution_count": 37,
   "id": "e1812d67",
   "metadata": {},
   "outputs": [
    {
     "name": "stderr",
     "output_type": "stream",
     "text": [
      "C:\\Users\\D683~1\\AppData\\Local\\Temp/ipykernel_13820/1347552164.py:3: TqdmDeprecationWarning: This function will be removed in tqdm==5.0.0\n",
      "Please use `tqdm.notebook.tqdm` instead of `tqdm.tqdm_notebook`\n",
      "  for index, row in tqdm_notebook(movies.iterrows()):\n"
     ]
    },
    {
     "data": {
      "application/vnd.jupyter.widget-view+json": {
       "model_id": "6dd063b6978948789ac42d841be5173a",
       "version_major": 2,
       "version_minor": 0
      },
      "text/plain": [
       "0it [00:00, ?it/s]"
      ]
     },
     "metadata": {},
     "output_type": "display_data"
    }
   ],
   "source": [
    "title_genres = {}\n",
    "\n",
    "for index, row in tqdm_notebook(movies.iterrows()):\n",
    "    title_genres[row.title] = row.genres"
   ]
  },
  {
   "cell_type": "code",
   "execution_count": 38,
   "id": "229de7be",
   "metadata": {},
   "outputs": [],
   "source": [
    "def recommend_for_user(user_id):\n",
    "    current_user_id = user_id\n",
    "    user_movies = data[data.user_id == current_user_id].title.unique()\n",
    "    \n",
    "    last_user_movie = user_movies[-1]\n",
    "    \n",
    "    movie_genres = title_genres[last_user_movie]\n",
    "    \n",
    "    movie_genres = change_string(movie_genres)\n",
    "\n",
    "    predict = count_vect.transform([movie_genres])\n",
    "    X_tfidf2 = tfidf_transformer.transform(predict)\n",
    "\n",
    "    res = neigh.kneighbors(X_tfidf2, return_distance=True)\n",
    "    \n",
    "    movies_to_score = movies.iloc[res[1][0]].title.values\n",
    "\n",
    "    scores = []\n",
    "    titles = []\n",
    "\n",
    "    for movie in movies_to_score:\n",
    "        if movie in user_movies:\n",
    "            continue\n",
    "\n",
    "        scores.append(algo.predict(uid=current_user_id, iid=movie).est)\n",
    "        titles.append(movie)\n",
    "        \n",
    "    \n",
    "    best_indexes = np.argsort(scores)[-10:]\n",
    "    for i in reversed(best_indexes):\n",
    "        print(titles[i], scores[i])"
   ]
  },
  {
   "cell_type": "code",
   "execution_count": 39,
   "id": "a884d2db",
   "metadata": {},
   "outputs": [
    {
     "data": {
      "text/html": [
       "<div>\n",
       "<style scoped>\n",
       "    .dataframe tbody tr th:only-of-type {\n",
       "        vertical-align: middle;\n",
       "    }\n",
       "\n",
       "    .dataframe tbody tr th {\n",
       "        vertical-align: top;\n",
       "    }\n",
       "\n",
       "    .dataframe thead th {\n",
       "        text-align: right;\n",
       "    }\n",
       "</style>\n",
       "<table border=\"1\" class=\"dataframe\">\n",
       "  <thead>\n",
       "    <tr style=\"text-align: right;\">\n",
       "      <th></th>\n",
       "      <th>user_id</th>\n",
       "      <th>movie_id</th>\n",
       "      <th>rating</th>\n",
       "      <th>timestamp</th>\n",
       "      <th>gender</th>\n",
       "      <th>age</th>\n",
       "      <th>occupation</th>\n",
       "      <th>zip</th>\n",
       "      <th>title</th>\n",
       "      <th>genres</th>\n",
       "    </tr>\n",
       "  </thead>\n",
       "  <tbody>\n",
       "    <tr>\n",
       "      <th>153545</th>\n",
       "      <td>2</td>\n",
       "      <td>21</td>\n",
       "      <td>1</td>\n",
       "      <td>978299839</td>\n",
       "      <td>M</td>\n",
       "      <td>56</td>\n",
       "      <td>16</td>\n",
       "      <td>70072</td>\n",
       "      <td>Get Shorty (1995)</td>\n",
       "      <td>Action|Comedy|Drama</td>\n",
       "    </tr>\n",
       "    <tr>\n",
       "      <th>180378</th>\n",
       "      <td>2</td>\n",
       "      <td>3893</td>\n",
       "      <td>1</td>\n",
       "      <td>978299535</td>\n",
       "      <td>M</td>\n",
       "      <td>56</td>\n",
       "      <td>16</td>\n",
       "      <td>70072</td>\n",
       "      <td>Nurse Betty (2000)</td>\n",
       "      <td>Comedy|Thriller</td>\n",
       "    </tr>\n",
       "    <tr>\n",
       "      <th>126099</th>\n",
       "      <td>2</td>\n",
       "      <td>2427</td>\n",
       "      <td>2</td>\n",
       "      <td>978299913</td>\n",
       "      <td>M</td>\n",
       "      <td>56</td>\n",
       "      <td>16</td>\n",
       "      <td>70072</td>\n",
       "      <td>Thin Red Line, The (1998)</td>\n",
       "      <td>Action|Drama|War</td>\n",
       "    </tr>\n",
       "    <tr>\n",
       "      <th>94412</th>\n",
       "      <td>2</td>\n",
       "      <td>3256</td>\n",
       "      <td>2</td>\n",
       "      <td>978299839</td>\n",
       "      <td>M</td>\n",
       "      <td>56</td>\n",
       "      <td>16</td>\n",
       "      <td>70072</td>\n",
       "      <td>Patriot Games (1992)</td>\n",
       "      <td>Action|Thriller</td>\n",
       "    </tr>\n",
       "    <tr>\n",
       "      <th>175479</th>\n",
       "      <td>2</td>\n",
       "      <td>1968</td>\n",
       "      <td>2</td>\n",
       "      <td>978298881</td>\n",
       "      <td>M</td>\n",
       "      <td>56</td>\n",
       "      <td>16</td>\n",
       "      <td>70072</td>\n",
       "      <td>Breakfast Club, The (1985)</td>\n",
       "      <td>Comedy|Drama</td>\n",
       "    </tr>\n",
       "    <tr>\n",
       "      <th>...</th>\n",
       "      <td>...</td>\n",
       "      <td>...</td>\n",
       "      <td>...</td>\n",
       "      <td>...</td>\n",
       "      <td>...</td>\n",
       "      <td>...</td>\n",
       "      <td>...</td>\n",
       "      <td>...</td>\n",
       "      <td>...</td>\n",
       "      <td>...</td>\n",
       "    </tr>\n",
       "    <tr>\n",
       "      <th>128353</th>\n",
       "      <td>2</td>\n",
       "      <td>1196</td>\n",
       "      <td>5</td>\n",
       "      <td>978298730</td>\n",
       "      <td>M</td>\n",
       "      <td>56</td>\n",
       "      <td>16</td>\n",
       "      <td>70072</td>\n",
       "      <td>Star Wars: Episode V - The Empire Strikes Back...</td>\n",
       "      <td>Action|Adventure|Drama|Sci-Fi|War</td>\n",
       "    </tr>\n",
       "    <tr>\n",
       "      <th>60199</th>\n",
       "      <td>2</td>\n",
       "      <td>1357</td>\n",
       "      <td>5</td>\n",
       "      <td>978298709</td>\n",
       "      <td>M</td>\n",
       "      <td>56</td>\n",
       "      <td>16</td>\n",
       "      <td>70072</td>\n",
       "      <td>Shine (1996)</td>\n",
       "      <td>Drama|Romance</td>\n",
       "    </tr>\n",
       "    <tr>\n",
       "      <th>180937</th>\n",
       "      <td>2</td>\n",
       "      <td>1247</td>\n",
       "      <td>5</td>\n",
       "      <td>978298652</td>\n",
       "      <td>M</td>\n",
       "      <td>56</td>\n",
       "      <td>16</td>\n",
       "      <td>70072</td>\n",
       "      <td>Graduate, The (1967)</td>\n",
       "      <td>Drama|Romance</td>\n",
       "    </tr>\n",
       "    <tr>\n",
       "      <th>45034</th>\n",
       "      <td>2</td>\n",
       "      <td>1962</td>\n",
       "      <td>5</td>\n",
       "      <td>978298813</td>\n",
       "      <td>M</td>\n",
       "      <td>56</td>\n",
       "      <td>16</td>\n",
       "      <td>70072</td>\n",
       "      <td>Driving Miss Daisy (1989)</td>\n",
       "      <td>Drama</td>\n",
       "    </tr>\n",
       "    <tr>\n",
       "      <th>151966</th>\n",
       "      <td>2</td>\n",
       "      <td>1124</td>\n",
       "      <td>5</td>\n",
       "      <td>978299418</td>\n",
       "      <td>M</td>\n",
       "      <td>56</td>\n",
       "      <td>16</td>\n",
       "      <td>70072</td>\n",
       "      <td>On Golden Pond (1981)</td>\n",
       "      <td>Drama</td>\n",
       "    </tr>\n",
       "  </tbody>\n",
       "</table>\n",
       "<p>129 rows × 10 columns</p>\n",
       "</div>"
      ],
      "text/plain": [
       "        user_id  movie_id  rating  timestamp gender  age  occupation    zip  \\\n",
       "153545        2        21       1  978299839      M   56          16  70072   \n",
       "180378        2      3893       1  978299535      M   56          16  70072   \n",
       "126099        2      2427       2  978299913      M   56          16  70072   \n",
       "94412         2      3256       2  978299839      M   56          16  70072   \n",
       "175479        2      1968       2  978298881      M   56          16  70072   \n",
       "...         ...       ...     ...        ...    ...  ...         ...    ...   \n",
       "128353        2      1196       5  978298730      M   56          16  70072   \n",
       "60199         2      1357       5  978298709      M   56          16  70072   \n",
       "180937        2      1247       5  978298652      M   56          16  70072   \n",
       "45034         2      1962       5  978298813      M   56          16  70072   \n",
       "151966        2      1124       5  978299418      M   56          16  70072   \n",
       "\n",
       "                                                    title  \\\n",
       "153545                                  Get Shorty (1995)   \n",
       "180378                                 Nurse Betty (2000)   \n",
       "126099                          Thin Red Line, The (1998)   \n",
       "94412                                Patriot Games (1992)   \n",
       "175479                         Breakfast Club, The (1985)   \n",
       "...                                                   ...   \n",
       "128353  Star Wars: Episode V - The Empire Strikes Back...   \n",
       "60199                                        Shine (1996)   \n",
       "180937                               Graduate, The (1967)   \n",
       "45034                           Driving Miss Daisy (1989)   \n",
       "151966                              On Golden Pond (1981)   \n",
       "\n",
       "                                   genres  \n",
       "153545                Action|Comedy|Drama  \n",
       "180378                    Comedy|Thriller  \n",
       "126099                   Action|Drama|War  \n",
       "94412                     Action|Thriller  \n",
       "175479                       Comedy|Drama  \n",
       "...                                   ...  \n",
       "128353  Action|Adventure|Drama|Sci-Fi|War  \n",
       "60199                       Drama|Romance  \n",
       "180937                      Drama|Romance  \n",
       "45034                               Drama  \n",
       "151966                              Drama  \n",
       "\n",
       "[129 rows x 10 columns]"
      ]
     },
     "execution_count": 39,
     "metadata": {},
     "output_type": "execute_result"
    }
   ],
   "source": [
    "data[data.user_id == 2.0].sort_values('rating')"
   ]
  },
  {
   "cell_type": "code",
   "execution_count": 40,
   "id": "af6a72fc",
   "metadata": {},
   "outputs": [
    {
     "name": "stdout",
     "output_type": "stream",
     "text": [
      "Star Trek: First Contact (1996) 3.7252869714190915\n",
      "Abyss, The (1989) 3.678894092387741\n",
      "Superman (1978) 3.629626591076966\n",
      "Stargate (1994) 3.538806573818172\n",
      "Star Trek: Generations (1994) 3.2363339450854185\n",
      "Star Trek: The Motion Picture (1979) 3.222980545217195\n",
      "Logan's Run (1976) 3.175641781324331\n",
      "Rocketeer, The (1991) 3.073183774333324\n",
      "Star Trek V: The Final Frontier (1989) 3.071189362286536\n",
      "Six-String Samurai (1998) 3.0612418813274247\n"
     ]
    }
   ],
   "source": [
    "recommend_for_user(2.0)"
   ]
  }
 ],
 "metadata": {
  "kernelspec": {
   "display_name": "Python 3 (ipykernel)",
   "language": "python",
   "name": "python3"
  },
  "language_info": {
   "codemirror_mode": {
    "name": "ipython",
    "version": 3
   },
   "file_extension": ".py",
   "mimetype": "text/x-python",
   "name": "python",
   "nbconvert_exporter": "python",
   "pygments_lexer": "ipython3",
   "version": "3.9.7"
  }
 },
 "nbformat": 4,
 "nbformat_minor": 5
}
