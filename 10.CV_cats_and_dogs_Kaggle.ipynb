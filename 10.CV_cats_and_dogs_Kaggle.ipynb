{
 "cells": [
  {
   "cell_type": "markdown",
   "metadata": {},
   "source": [
    "# Dogs vs Cats"
   ]
  },
  {
   "cell_type": "markdown",
   "metadata": {},
   "source": [
    "https://www.kaggle.com/c/dogs-vs-cats-redux-kernels-edition"
   ]
  },
  {
   "cell_type": "code",
   "execution_count": 20,
   "metadata": {
    "execution": {
     "iopub.execute_input": "2022-02-05T12:02:39.148398Z",
     "iopub.status.busy": "2022-02-05T12:02:39.148133Z",
     "iopub.status.idle": "2022-02-05T12:02:39.156380Z",
     "shell.execute_reply": "2022-02-05T12:02:39.155567Z",
     "shell.execute_reply.started": "2022-02-05T12:02:39.148362Z"
    }
   },
   "outputs": [],
   "source": [
    "import os\n",
    "for dirname, _, filenames in os.walk('/kaggle/input'):\n",
    "    for filename in filenames:\n",
    "        print(os.path.join(dirname, filename))"
   ]
  },
  {
   "cell_type": "code",
   "execution_count": 23,
   "metadata": {
    "execution": {
     "iopub.execute_input": "2022-02-05T12:03:44.598233Z",
     "iopub.status.busy": "2022-02-05T12:03:44.597493Z",
     "iopub.status.idle": "2022-02-05T12:03:55.873992Z",
     "shell.execute_reply": "2022-02-05T12:03:55.873178Z",
     "shell.execute_reply.started": "2022-02-05T12:03:44.598193Z"
    }
   },
   "outputs": [],
   "source": [
    "!unzip ../input/dogs-vs-cats-redux-kernels-edition/train.zip"
   ]
  },
  {
   "cell_type": "code",
   "execution_count": 21,
   "metadata": {
    "execution": {
     "iopub.execute_input": "2022-02-05T12:03:00.339779Z",
     "iopub.status.busy": "2022-02-05T12:03:00.339499Z",
     "iopub.status.idle": "2022-02-05T12:03:06.157540Z",
     "shell.execute_reply": "2022-02-05T12:03:06.156676Z",
     "shell.execute_reply.started": "2022-02-05T12:03:00.339750Z"
    }
   },
   "outputs": [],
   "source": [
    "!unzip ../input/dogs-vs-cats-redux-kernels-edition/test.zip"
   ]
  },
  {
   "cell_type": "code",
   "execution_count": 24,
   "metadata": {
    "execution": {
     "iopub.execute_input": "2022-02-05T12:04:21.525202Z",
     "iopub.status.busy": "2022-02-05T12:04:21.524460Z",
     "iopub.status.idle": "2022-02-05T12:04:21.533811Z",
     "shell.execute_reply": "2022-02-05T12:04:21.530074Z",
     "shell.execute_reply.started": "2022-02-05T12:04:21.525162Z"
    }
   },
   "outputs": [],
   "source": [
    "import cv2\n",
    "import numpy as np\n",
    "import tensorflow as tf\n",
    "from tensorflow.keras.applications import vgg16\n",
    "\n",
    "print(tf.__version__)\n",
    "print(tf.executing_eagerly())"
   ]
  },
  {
   "cell_type": "markdown",
   "metadata": {},
   "source": [
    "## Функции загрузки данных"
   ]
  },
  {
   "cell_type": "code",
   "execution_count": 25,
   "metadata": {
    "execution": {
     "iopub.execute_input": "2022-02-05T12:04:22.580093Z",
     "iopub.status.busy": "2022-02-05T12:04:22.579571Z",
     "iopub.status.idle": "2022-02-05T12:04:22.712427Z",
     "shell.execute_reply": "2022-02-05T12:04:22.711695Z",
     "shell.execute_reply.started": "2022-02-05T12:04:22.580054Z"
    }
   },
   "outputs": [],
   "source": [
    "import os\n",
    "from random import shuffle\n",
    "from glob import glob\n",
    "\n",
    "IMG_SIZE = (224, 224)  # размер входного изображения сети\n",
    "\n",
    "train_files = glob('/kaggle/working/train/*.jpg')\n",
    "test_files = glob('/kaggle/working/test/*.jpg')\n",
    "\n",
    "# загружаем входное изображение и предобрабатываем\n",
    "def load_image(path, target_size=IMG_SIZE):\n",
    "    img = cv2.imread(path)[...,::-1]\n",
    "    img = cv2.resize(img, target_size)\n",
    "    return vgg16.preprocess_input(img)  # предобработка для VGG16\n",
    "\n",
    "# функция-генератор загрузки обучающих данных с диска\n",
    "def fit_generator(files, batch_size=32):\n",
    "    batch_size = min(batch_size, len(files))\n",
    "    while True:\n",
    "        shuffle(files)\n",
    "        for k in range(len(files) // batch_size):\n",
    "            i = k * batch_size\n",
    "            j = i + batch_size\n",
    "            if j > len(files):\n",
    "                j = - j % len(files)\n",
    "            x = np.array([load_image(path) for path in files[i:j]])\n",
    "            y = np.array([1. if os.path.basename(path).startswith('dog') else 0.\n",
    "                          for path in files[i:j]])\n",
    "            yield (x, y)\n",
    "\n",
    "# функция-генератор загрузки тестовых изображений с диска\n",
    "def predict_generator(files):\n",
    "    while True:\n",
    "        for path in files:\n",
    "            yield np.array([load_image(path)])"
   ]
  },
  {
   "cell_type": "markdown",
   "metadata": {},
   "source": [
    "## Визуализируем примеры для обучения"
   ]
  },
  {
   "cell_type": "code",
   "execution_count": 26,
   "metadata": {
    "execution": {
     "iopub.execute_input": "2022-02-05T12:04:24.750092Z",
     "iopub.status.busy": "2022-02-05T12:04:24.749510Z",
     "iopub.status.idle": "2022-02-05T12:04:26.182356Z",
     "shell.execute_reply": "2022-02-05T12:04:26.181594Z",
     "shell.execute_reply.started": "2022-02-05T12:04:24.750055Z"
    }
   },
   "outputs": [],
   "source": [
    "%matplotlib inline\n",
    "from matplotlib import pyplot as plt\n",
    "fig = plt.figure(figsize=(16, 8))\n",
    "for i, path in enumerate(train_files[40:50], 1):\n",
    "    subplot = fig.add_subplot(2, 5, i)\n",
    "    subplot.set_title('%s' % path.split('/')[-1])\n",
    "    img = cv2.imread(path)[...,::-1]\n",
    "    img = cv2.resize(img, IMG_SIZE)\n",
    "    plt.imshow(img)"
   ]
  },
  {
   "cell_type": "markdown",
   "metadata": {},
   "source": [
    "## Загружаем предобученную модель"
   ]
  },
  {
   "cell_type": "code",
   "execution_count": 27,
   "metadata": {
    "execution": {
     "iopub.execute_input": "2022-02-05T12:04:26.183887Z",
     "iopub.status.busy": "2022-02-05T12:04:26.183663Z",
     "iopub.status.idle": "2022-02-05T12:04:26.464872Z",
     "shell.execute_reply": "2022-02-05T12:04:26.464110Z",
     "shell.execute_reply.started": "2022-02-05T12:04:26.183857Z"
    }
   },
   "outputs": [],
   "source": [
    "# base_model - объект класса keras.models.Model (Functional Model)\n",
    "base_model = vgg16.VGG16(weights='imagenet',\n",
    "                         include_top=False,\n",
    "                         input_shape=(IMG_SIZE[0], IMG_SIZE[1], 3))"
   ]
  },
  {
   "cell_type": "code",
   "execution_count": 28,
   "metadata": {
    "execution": {
     "iopub.execute_input": "2022-02-05T12:04:27.094454Z",
     "iopub.status.busy": "2022-02-05T12:04:27.093998Z",
     "iopub.status.idle": "2022-02-05T12:04:27.110047Z",
     "shell.execute_reply": "2022-02-05T12:04:27.109219Z",
     "shell.execute_reply.started": "2022-02-05T12:04:27.094416Z"
    }
   },
   "outputs": [],
   "source": [
    "base_model.summary()"
   ]
  },
  {
   "cell_type": "markdown",
   "metadata": {},
   "source": [
    "## Добавляем полносвязный слой"
   ]
  },
  {
   "cell_type": "code",
   "execution_count": 29,
   "metadata": {
    "execution": {
     "iopub.execute_input": "2022-02-05T12:04:30.539602Z",
     "iopub.status.busy": "2022-02-05T12:04:30.539325Z",
     "iopub.status.idle": "2022-02-05T12:04:30.574312Z",
     "shell.execute_reply": "2022-02-05T12:04:30.573682Z",
     "shell.execute_reply.started": "2022-02-05T12:04:30.539573Z"
    }
   },
   "outputs": [],
   "source": [
    "# большое количество параметров на входе нашей модели, она может переобучиться??? + 100353\n",
    "\n",
    "# фиксируем все веса предобученной сети\n",
    "# base_model.trainable = False\n",
    "for layer in base_model.layers:\n",
    "    layer.trainable = False\n",
    "\n",
    "x = base_model.layers[-5].output\n",
    "# x = tf.keras.layers.Flatten()(x)\n",
    "\n",
    "x = tf.keras.layers.GlobalAveragePooling2D()(x) #чтобы избавиться от большого количества параметров заменим Flatten на Average\n",
    "\n",
    "x = tf.keras.layers.BatchNormalization()(x)\n",
    "\n",
    "x = tf.keras.layers.Dense(1,  # один выход (бинарная классификация)\n",
    "                          activation='sigmoid',  # функция активации  \n",
    "                          kernel_regularizer=tf.keras.regularizers.l1(1e-4))(x) #регулиризация вопрос эксперимента\n",
    "\n",
    "model = tf.keras.Model(inputs=base_model.input, outputs=x, name='dogs_vs_cats')"
   ]
  },
  {
   "cell_type": "markdown",
   "metadata": {},
   "source": [
    "## Выводим архитектуру модели"
   ]
  },
  {
   "cell_type": "code",
   "execution_count": 30,
   "metadata": {
    "execution": {
     "iopub.execute_input": "2022-02-05T12:04:34.623181Z",
     "iopub.status.busy": "2022-02-05T12:04:34.622476Z",
     "iopub.status.idle": "2022-02-05T12:04:34.635925Z",
     "shell.execute_reply": "2022-02-05T12:04:34.635204Z",
     "shell.execute_reply.started": "2022-02-05T12:04:34.623142Z"
    }
   },
   "outputs": [],
   "source": [
    "model.summary()"
   ]
  },
  {
   "cell_type": "markdown",
   "metadata": {},
   "source": [
    "## Компилируем модель и запускаем обучение"
   ]
  },
  {
   "cell_type": "code",
   "execution_count": 31,
   "metadata": {
    "execution": {
     "iopub.execute_input": "2022-02-05T12:04:36.960867Z",
     "iopub.status.busy": "2022-02-05T12:04:36.960005Z",
     "iopub.status.idle": "2022-02-05T12:04:36.971023Z",
     "shell.execute_reply": "2022-02-05T12:04:36.970250Z",
     "shell.execute_reply.started": "2022-02-05T12:04:36.960815Z"
    }
   },
   "outputs": [],
   "source": [
    "model.compile(optimizer='adam', \n",
    "              loss='binary_crossentropy',  # функция потерь binary_crossentropy (log loss\n",
    "              metrics=['accuracy'])"
   ]
  },
  {
   "cell_type": "code",
   "execution_count": 32,
   "metadata": {
    "execution": {
     "iopub.execute_input": "2022-02-05T12:04:39.524874Z",
     "iopub.status.busy": "2022-02-05T12:04:39.523952Z",
     "iopub.status.idle": "2022-02-05T12:07:24.321145Z",
     "shell.execute_reply": "2022-02-05T12:07:24.320430Z",
     "shell.execute_reply.started": "2022-02-05T12:04:39.524824Z"
    }
   },
   "outputs": [],
   "source": [
    "val_samples = 100  # число изображений в валидационной выборке\n",
    "\n",
    "shuffle(train_files)  # перемешиваем обучающую выборку\n",
    "validation_data = next(fit_generator(train_files[:val_samples], val_samples))\n",
    "train_data = fit_generator(train_files[val_samples:])  # данные читаем функцией-генератором\n",
    "\n",
    "# запускаем процесс обучения\n",
    "model.fit(train_data,\n",
    "          steps_per_epoch=10,  # число вызовов генератора за эпоху\n",
    "          epochs=100,  # число эпох обучения\n",
    "          validation_data=validation_data)"
   ]
  },
  {
   "cell_type": "code",
   "execution_count": 33,
   "metadata": {
    "execution": {
     "iopub.execute_input": "2022-02-05T12:07:24.323123Z",
     "iopub.status.busy": "2022-02-05T12:07:24.322773Z",
     "iopub.status.idle": "2022-02-05T12:07:24.412139Z",
     "shell.execute_reply": "2022-02-05T12:07:24.411402Z",
     "shell.execute_reply.started": "2022-02-05T12:07:24.323083Z"
    }
   },
   "outputs": [],
   "source": [
    "model.save('cats-dogs-vgg16.hdf5')"
   ]
  },
  {
   "cell_type": "markdown",
   "metadata": {},
   "source": [
    "## Предсказания на проверочной выборке"
   ]
  },
  {
   "cell_type": "code",
   "execution_count": 34,
   "metadata": {
    "execution": {
     "iopub.execute_input": "2022-02-05T12:07:24.413855Z",
     "iopub.status.busy": "2022-02-05T12:07:24.413262Z",
     "iopub.status.idle": "2022-02-05T12:08:46.466932Z",
     "shell.execute_reply": "2022-02-05T12:08:46.466117Z",
     "shell.execute_reply.started": "2022-02-05T12:07:24.413817Z"
    }
   },
   "outputs": [],
   "source": [
    "test_pred = model.predict(\n",
    "    predict_generator(test_files), steps=len(test_files))"
   ]
  },
  {
   "cell_type": "code",
   "execution_count": 35,
   "metadata": {
    "execution": {
     "iopub.execute_input": "2022-02-05T12:08:46.469584Z",
     "iopub.status.busy": "2022-02-05T12:08:46.469297Z",
     "iopub.status.idle": "2022-02-05T12:08:47.740935Z",
     "shell.execute_reply": "2022-02-05T12:08:47.740352Z",
     "shell.execute_reply.started": "2022-02-05T12:08:46.469547Z"
    }
   },
   "outputs": [],
   "source": [
    "fig = plt.figure(figsize=(16, 8))\n",
    "for i, (path, score) in enumerate(zip(test_files[:10], test_pred[:10]), 1):\n",
    "    subplot = fig.add_subplot(2, 5, i)\n",
    "    subplot.set_title('%.2f %s' % (score, os.path.basename(path)))\n",
    "    img = cv2.imread(path)[...,::-1]\n",
    "    img = cv2.resize(img, IMG_SIZE)\n",
    "    subplot.imshow(img)"
   ]
  },
  {
   "cell_type": "markdown",
   "metadata": {},
   "source": [
    "## Готовим данные для отправки"
   ]
  },
  {
   "cell_type": "code",
   "execution_count": 36,
   "metadata": {
    "execution": {
     "iopub.execute_input": "2022-02-05T12:08:47.742605Z",
     "iopub.status.busy": "2022-02-05T12:08:47.742157Z",
     "iopub.status.idle": "2022-02-05T12:08:47.800184Z",
     "shell.execute_reply": "2022-02-05T12:08:47.799558Z",
     "shell.execute_reply.started": "2022-02-05T12:08:47.742567Z"
    }
   },
   "outputs": [],
   "source": [
    "import re\n",
    "\n",
    "with open('submit.txt', 'w') as dst:\n",
    "    dst.write('id,label\\n')\n",
    "    for path, score in zip(test_files, test_pred):\n",
    "        dst.write('%s,%f\\n' % (re.search('(\\d+).jpg$', path).group(1), score))"
   ]
  },
  {
   "cell_type": "code",
   "execution_count": null,
   "metadata": {
    "execution": {
     "iopub.status.busy": "2022-02-05T11:55:55.720153Z",
     "iopub.status.idle": "2022-02-05T11:55:55.720772Z",
     "shell.execute_reply": "2022-02-05T11:55:55.720566Z",
     "shell.execute_reply.started": "2022-02-05T11:55:55.720543Z"
    }
   },
   "outputs": [],
   "source": [
    "# LogLoss = 0.1663"
   ]
  }
 ],
 "metadata": {
  "kernelspec": {
   "display_name": "Python 3 (ipykernel)",
   "language": "python",
   "name": "python3"
  },
  "language_info": {
   "codemirror_mode": {
    "name": "ipython",
    "version": 3
   },
   "file_extension": ".py",
   "mimetype": "text/x-python",
   "name": "python",
   "nbconvert_exporter": "python",
   "pygments_lexer": "ipython3",
   "version": "3.9.7"
  }
 },
 "nbformat": 4,
 "nbformat_minor": 4
}
