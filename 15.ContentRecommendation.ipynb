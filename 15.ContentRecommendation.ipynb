{
 "cells": [
  {
   "cell_type": "markdown",
   "id": "9e4bc359",
   "metadata": {},
   "source": [
    "# Домашнее задание по теме «Рекомендации на основе содержания»\n",
    "1. Использовать dataset MovieLens\n",
    "2. Построить рекомендации (регрессия, предсказываем оценку) на фичах:\n",
    "- TF-IDF на тегах и жанрах\n",
    "- Средние оценки (+ median, variance, etc.) пользователя и фильма\n",
    "3. Оценить RMSE на тестовой выборке"
   ]
  },
  {
   "cell_type": "markdown",
   "id": "863db9c8",
   "metadata": {},
   "source": [
    "## Решение"
   ]
  },
  {
   "cell_type": "code",
   "execution_count": 1,
   "id": "328af55e",
   "metadata": {},
   "outputs": [],
   "source": [
    "import pandas as pd\n",
    "import numpy as np\n",
    "from datetime import datetime\n",
    "\n",
    "from tqdm.notebook import tqdm\n",
    "\n",
    "from sklearn.feature_extraction.text import TfidfTransformer, CountVectorizer\n",
    "from sklearn.model_selection import train_test_split\n",
    "\n",
    "import matplotlib.pyplot as plt\n",
    "\n",
    "%matplotlib inline"
   ]
  },
  {
   "cell_type": "code",
   "execution_count": 2,
   "id": "d90a721c",
   "metadata": {},
   "outputs": [],
   "source": [
    "movies = pd.read_csv('movies.csv')\n",
    "ratings = pd.read_csv('ratings.csv')\n",
    "tags = pd.read_csv('tags.csv')"
   ]
  },
  {
   "cell_type": "code",
   "execution_count": 3,
   "id": "c5eb06a6",
   "metadata": {},
   "outputs": [
    {
     "data": {
      "text/html": [
       "<div>\n",
       "<style scoped>\n",
       "    .dataframe tbody tr th:only-of-type {\n",
       "        vertical-align: middle;\n",
       "    }\n",
       "\n",
       "    .dataframe tbody tr th {\n",
       "        vertical-align: top;\n",
       "    }\n",
       "\n",
       "    .dataframe thead th {\n",
       "        text-align: right;\n",
       "    }\n",
       "</style>\n",
       "<table border=\"1\" class=\"dataframe\">\n",
       "  <thead>\n",
       "    <tr style=\"text-align: right;\">\n",
       "      <th></th>\n",
       "      <th>movieId</th>\n",
       "      <th>title</th>\n",
       "      <th>genres</th>\n",
       "    </tr>\n",
       "  </thead>\n",
       "  <tbody>\n",
       "    <tr>\n",
       "      <th>0</th>\n",
       "      <td>1</td>\n",
       "      <td>Toy Story (1995)</td>\n",
       "      <td>Adventure|Animation|Children|Comedy|Fantasy</td>\n",
       "    </tr>\n",
       "    <tr>\n",
       "      <th>1</th>\n",
       "      <td>2</td>\n",
       "      <td>Jumanji (1995)</td>\n",
       "      <td>Adventure|Children|Fantasy</td>\n",
       "    </tr>\n",
       "    <tr>\n",
       "      <th>2</th>\n",
       "      <td>3</td>\n",
       "      <td>Grumpier Old Men (1995)</td>\n",
       "      <td>Comedy|Romance</td>\n",
       "    </tr>\n",
       "    <tr>\n",
       "      <th>3</th>\n",
       "      <td>4</td>\n",
       "      <td>Waiting to Exhale (1995)</td>\n",
       "      <td>Comedy|Drama|Romance</td>\n",
       "    </tr>\n",
       "    <tr>\n",
       "      <th>4</th>\n",
       "      <td>5</td>\n",
       "      <td>Father of the Bride Part II (1995)</td>\n",
       "      <td>Comedy</td>\n",
       "    </tr>\n",
       "  </tbody>\n",
       "</table>\n",
       "</div>"
      ],
      "text/plain": [
       "   movieId                               title  \\\n",
       "0        1                    Toy Story (1995)   \n",
       "1        2                      Jumanji (1995)   \n",
       "2        3             Grumpier Old Men (1995)   \n",
       "3        4            Waiting to Exhale (1995)   \n",
       "4        5  Father of the Bride Part II (1995)   \n",
       "\n",
       "                                        genres  \n",
       "0  Adventure|Animation|Children|Comedy|Fantasy  \n",
       "1                   Adventure|Children|Fantasy  \n",
       "2                               Comedy|Romance  \n",
       "3                         Comedy|Drama|Romance  \n",
       "4                                       Comedy  "
      ]
     },
     "execution_count": 3,
     "metadata": {},
     "output_type": "execute_result"
    }
   ],
   "source": [
    "movies.head()"
   ]
  },
  {
   "cell_type": "code",
   "execution_count": 4,
   "id": "ac04bc92",
   "metadata": {},
   "outputs": [
    {
     "data": {
      "text/html": [
       "<div>\n",
       "<style scoped>\n",
       "    .dataframe tbody tr th:only-of-type {\n",
       "        vertical-align: middle;\n",
       "    }\n",
       "\n",
       "    .dataframe tbody tr th {\n",
       "        vertical-align: top;\n",
       "    }\n",
       "\n",
       "    .dataframe thead th {\n",
       "        text-align: right;\n",
       "    }\n",
       "</style>\n",
       "<table border=\"1\" class=\"dataframe\">\n",
       "  <thead>\n",
       "    <tr style=\"text-align: right;\">\n",
       "      <th></th>\n",
       "      <th>userId</th>\n",
       "      <th>movieId</th>\n",
       "      <th>rating</th>\n",
       "      <th>timestamp</th>\n",
       "    </tr>\n",
       "  </thead>\n",
       "  <tbody>\n",
       "    <tr>\n",
       "      <th>0</th>\n",
       "      <td>1</td>\n",
       "      <td>1</td>\n",
       "      <td>4.0</td>\n",
       "      <td>964982703</td>\n",
       "    </tr>\n",
       "    <tr>\n",
       "      <th>1</th>\n",
       "      <td>1</td>\n",
       "      <td>3</td>\n",
       "      <td>4.0</td>\n",
       "      <td>964981247</td>\n",
       "    </tr>\n",
       "    <tr>\n",
       "      <th>2</th>\n",
       "      <td>1</td>\n",
       "      <td>6</td>\n",
       "      <td>4.0</td>\n",
       "      <td>964982224</td>\n",
       "    </tr>\n",
       "    <tr>\n",
       "      <th>3</th>\n",
       "      <td>1</td>\n",
       "      <td>47</td>\n",
       "      <td>5.0</td>\n",
       "      <td>964983815</td>\n",
       "    </tr>\n",
       "    <tr>\n",
       "      <th>4</th>\n",
       "      <td>1</td>\n",
       "      <td>50</td>\n",
       "      <td>5.0</td>\n",
       "      <td>964982931</td>\n",
       "    </tr>\n",
       "  </tbody>\n",
       "</table>\n",
       "</div>"
      ],
      "text/plain": [
       "   userId  movieId  rating  timestamp\n",
       "0       1        1     4.0  964982703\n",
       "1       1        3     4.0  964981247\n",
       "2       1        6     4.0  964982224\n",
       "3       1       47     5.0  964983815\n",
       "4       1       50     5.0  964982931"
      ]
     },
     "execution_count": 4,
     "metadata": {},
     "output_type": "execute_result"
    }
   ],
   "source": [
    "ratings.head()"
   ]
  },
  {
   "cell_type": "code",
   "execution_count": 5,
   "id": "92388a1c",
   "metadata": {},
   "outputs": [
    {
     "data": {
      "text/html": [
       "<div>\n",
       "<style scoped>\n",
       "    .dataframe tbody tr th:only-of-type {\n",
       "        vertical-align: middle;\n",
       "    }\n",
       "\n",
       "    .dataframe tbody tr th {\n",
       "        vertical-align: top;\n",
       "    }\n",
       "\n",
       "    .dataframe thead th {\n",
       "        text-align: right;\n",
       "    }\n",
       "</style>\n",
       "<table border=\"1\" class=\"dataframe\">\n",
       "  <thead>\n",
       "    <tr style=\"text-align: right;\">\n",
       "      <th></th>\n",
       "      <th>userId</th>\n",
       "      <th>movieId</th>\n",
       "      <th>tag</th>\n",
       "      <th>timestamp</th>\n",
       "    </tr>\n",
       "  </thead>\n",
       "  <tbody>\n",
       "    <tr>\n",
       "      <th>0</th>\n",
       "      <td>2</td>\n",
       "      <td>60756</td>\n",
       "      <td>funny</td>\n",
       "      <td>1445714994</td>\n",
       "    </tr>\n",
       "    <tr>\n",
       "      <th>1</th>\n",
       "      <td>2</td>\n",
       "      <td>60756</td>\n",
       "      <td>Highly quotable</td>\n",
       "      <td>1445714996</td>\n",
       "    </tr>\n",
       "    <tr>\n",
       "      <th>2</th>\n",
       "      <td>2</td>\n",
       "      <td>60756</td>\n",
       "      <td>will ferrell</td>\n",
       "      <td>1445714992</td>\n",
       "    </tr>\n",
       "    <tr>\n",
       "      <th>3</th>\n",
       "      <td>2</td>\n",
       "      <td>89774</td>\n",
       "      <td>Boxing story</td>\n",
       "      <td>1445715207</td>\n",
       "    </tr>\n",
       "    <tr>\n",
       "      <th>4</th>\n",
       "      <td>2</td>\n",
       "      <td>89774</td>\n",
       "      <td>MMA</td>\n",
       "      <td>1445715200</td>\n",
       "    </tr>\n",
       "  </tbody>\n",
       "</table>\n",
       "</div>"
      ],
      "text/plain": [
       "   userId  movieId              tag   timestamp\n",
       "0       2    60756            funny  1445714994\n",
       "1       2    60756  Highly quotable  1445714996\n",
       "2       2    60756     will ferrell  1445714992\n",
       "3       2    89774     Boxing story  1445715207\n",
       "4       2    89774              MMA  1445715200"
      ]
     },
     "execution_count": 5,
     "metadata": {},
     "output_type": "execute_result"
    }
   ],
   "source": [
    "tags.head()"
   ]
  },
  {
   "cell_type": "code",
   "execution_count": 6,
   "id": "7608d4a1",
   "metadata": {},
   "outputs": [],
   "source": [
    "movies_with_tags = movies.join(tags.set_index('movieId'), on='movieId')"
   ]
  },
  {
   "cell_type": "code",
   "execution_count": 7,
   "id": "925d91dc",
   "metadata": {},
   "outputs": [
    {
     "data": {
      "text/html": [
       "<div>\n",
       "<style scoped>\n",
       "    .dataframe tbody tr th:only-of-type {\n",
       "        vertical-align: middle;\n",
       "    }\n",
       "\n",
       "    .dataframe tbody tr th {\n",
       "        vertical-align: top;\n",
       "    }\n",
       "\n",
       "    .dataframe thead th {\n",
       "        text-align: right;\n",
       "    }\n",
       "</style>\n",
       "<table border=\"1\" class=\"dataframe\">\n",
       "  <thead>\n",
       "    <tr style=\"text-align: right;\">\n",
       "      <th></th>\n",
       "      <th>movieId</th>\n",
       "      <th>title</th>\n",
       "      <th>genres</th>\n",
       "      <th>userId</th>\n",
       "      <th>tag</th>\n",
       "      <th>timestamp</th>\n",
       "    </tr>\n",
       "  </thead>\n",
       "  <tbody>\n",
       "    <tr>\n",
       "      <th>0</th>\n",
       "      <td>1</td>\n",
       "      <td>Toy Story (1995)</td>\n",
       "      <td>Adventure|Animation|Children|Comedy|Fantasy</td>\n",
       "      <td>336.0</td>\n",
       "      <td>pixar</td>\n",
       "      <td>1.139046e+09</td>\n",
       "    </tr>\n",
       "    <tr>\n",
       "      <th>0</th>\n",
       "      <td>1</td>\n",
       "      <td>Toy Story (1995)</td>\n",
       "      <td>Adventure|Animation|Children|Comedy|Fantasy</td>\n",
       "      <td>474.0</td>\n",
       "      <td>pixar</td>\n",
       "      <td>1.137207e+09</td>\n",
       "    </tr>\n",
       "    <tr>\n",
       "      <th>0</th>\n",
       "      <td>1</td>\n",
       "      <td>Toy Story (1995)</td>\n",
       "      <td>Adventure|Animation|Children|Comedy|Fantasy</td>\n",
       "      <td>567.0</td>\n",
       "      <td>fun</td>\n",
       "      <td>1.525286e+09</td>\n",
       "    </tr>\n",
       "    <tr>\n",
       "      <th>1</th>\n",
       "      <td>2</td>\n",
       "      <td>Jumanji (1995)</td>\n",
       "      <td>Adventure|Children|Fantasy</td>\n",
       "      <td>62.0</td>\n",
       "      <td>fantasy</td>\n",
       "      <td>1.528844e+09</td>\n",
       "    </tr>\n",
       "    <tr>\n",
       "      <th>1</th>\n",
       "      <td>2</td>\n",
       "      <td>Jumanji (1995)</td>\n",
       "      <td>Adventure|Children|Fantasy</td>\n",
       "      <td>62.0</td>\n",
       "      <td>magic board game</td>\n",
       "      <td>1.528844e+09</td>\n",
       "    </tr>\n",
       "  </tbody>\n",
       "</table>\n",
       "</div>"
      ],
      "text/plain": [
       "   movieId             title                                       genres  \\\n",
       "0        1  Toy Story (1995)  Adventure|Animation|Children|Comedy|Fantasy   \n",
       "0        1  Toy Story (1995)  Adventure|Animation|Children|Comedy|Fantasy   \n",
       "0        1  Toy Story (1995)  Adventure|Animation|Children|Comedy|Fantasy   \n",
       "1        2    Jumanji (1995)                   Adventure|Children|Fantasy   \n",
       "1        2    Jumanji (1995)                   Adventure|Children|Fantasy   \n",
       "\n",
       "   userId               tag     timestamp  \n",
       "0   336.0             pixar  1.139046e+09  \n",
       "0   474.0             pixar  1.137207e+09  \n",
       "0   567.0               fun  1.525286e+09  \n",
       "1    62.0           fantasy  1.528844e+09  \n",
       "1    62.0  magic board game  1.528844e+09  "
      ]
     },
     "execution_count": 7,
     "metadata": {},
     "output_type": "execute_result"
    }
   ],
   "source": [
    "movies_with_tags.head()"
   ]
  },
  {
   "cell_type": "code",
   "execution_count": 8,
   "id": "87f09636",
   "metadata": {},
   "outputs": [],
   "source": [
    "movies_with_tags_ratings = movies_with_tags.merge(ratings, on=['userId', 'movieId'], how='left', suffixes=('_tags', '_rating'))"
   ]
  },
  {
   "cell_type": "code",
   "execution_count": 9,
   "id": "05027244",
   "metadata": {},
   "outputs": [
    {
     "data": {
      "text/html": [
       "<div>\n",
       "<style scoped>\n",
       "    .dataframe tbody tr th:only-of-type {\n",
       "        vertical-align: middle;\n",
       "    }\n",
       "\n",
       "    .dataframe tbody tr th {\n",
       "        vertical-align: top;\n",
       "    }\n",
       "\n",
       "    .dataframe thead th {\n",
       "        text-align: right;\n",
       "    }\n",
       "</style>\n",
       "<table border=\"1\" class=\"dataframe\">\n",
       "  <thead>\n",
       "    <tr style=\"text-align: right;\">\n",
       "      <th></th>\n",
       "      <th>movieId</th>\n",
       "      <th>title</th>\n",
       "      <th>genres</th>\n",
       "      <th>userId</th>\n",
       "      <th>tag</th>\n",
       "      <th>rating</th>\n",
       "    </tr>\n",
       "  </thead>\n",
       "  <tbody>\n",
       "    <tr>\n",
       "      <th>0</th>\n",
       "      <td>1</td>\n",
       "      <td>Toy Story (1995)</td>\n",
       "      <td>Adventure|Animation|Children|Comedy|Fantasy</td>\n",
       "      <td>336.0</td>\n",
       "      <td>pixar</td>\n",
       "      <td>4.0</td>\n",
       "    </tr>\n",
       "    <tr>\n",
       "      <th>1</th>\n",
       "      <td>1</td>\n",
       "      <td>Toy Story (1995)</td>\n",
       "      <td>Adventure|Animation|Children|Comedy|Fantasy</td>\n",
       "      <td>474.0</td>\n",
       "      <td>pixar</td>\n",
       "      <td>4.0</td>\n",
       "    </tr>\n",
       "    <tr>\n",
       "      <th>2</th>\n",
       "      <td>1</td>\n",
       "      <td>Toy Story (1995)</td>\n",
       "      <td>Adventure|Animation|Children|Comedy|Fantasy</td>\n",
       "      <td>567.0</td>\n",
       "      <td>fun</td>\n",
       "      <td>3.5</td>\n",
       "    </tr>\n",
       "    <tr>\n",
       "      <th>3</th>\n",
       "      <td>2</td>\n",
       "      <td>Jumanji (1995)</td>\n",
       "      <td>Adventure|Children|Fantasy</td>\n",
       "      <td>62.0</td>\n",
       "      <td>fantasy</td>\n",
       "      <td>4.0</td>\n",
       "    </tr>\n",
       "    <tr>\n",
       "      <th>4</th>\n",
       "      <td>2</td>\n",
       "      <td>Jumanji (1995)</td>\n",
       "      <td>Adventure|Children|Fantasy</td>\n",
       "      <td>62.0</td>\n",
       "      <td>magic board game</td>\n",
       "      <td>4.0</td>\n",
       "    </tr>\n",
       "  </tbody>\n",
       "</table>\n",
       "</div>"
      ],
      "text/plain": [
       "   movieId             title                                       genres  \\\n",
       "0        1  Toy Story (1995)  Adventure|Animation|Children|Comedy|Fantasy   \n",
       "1        1  Toy Story (1995)  Adventure|Animation|Children|Comedy|Fantasy   \n",
       "2        1  Toy Story (1995)  Adventure|Animation|Children|Comedy|Fantasy   \n",
       "3        2    Jumanji (1995)                   Adventure|Children|Fantasy   \n",
       "4        2    Jumanji (1995)                   Adventure|Children|Fantasy   \n",
       "\n",
       "   userId               tag  rating  \n",
       "0   336.0             pixar     4.0  \n",
       "1   474.0             pixar     4.0  \n",
       "2   567.0               fun     3.5  \n",
       "3    62.0           fantasy     4.0  \n",
       "4    62.0  magic board game     4.0  "
      ]
     },
     "execution_count": 9,
     "metadata": {},
     "output_type": "execute_result"
    }
   ],
   "source": [
    "movies_with_tags_ratings = movies_with_tags_ratings.drop(columns=['timestamp_tags','timestamp_rating'])\n",
    "movies_with_tags_ratings.head()"
   ]
  },
  {
   "cell_type": "code",
   "execution_count": 10,
   "id": "1c1a33b5",
   "metadata": {},
   "outputs": [
    {
     "name": "stdout",
     "output_type": "stream",
     "text": [
      "<class 'pandas.core.frame.DataFrame'>\n",
      "Int64Index: 11853 entries, 0 to 11852\n",
      "Data columns (total 6 columns):\n",
      " #   Column   Non-Null Count  Dtype  \n",
      "---  ------   --------------  -----  \n",
      " 0   movieId  11853 non-null  int64  \n",
      " 1   title    11853 non-null  object \n",
      " 2   genres   11853 non-null  object \n",
      " 3   userId   3683 non-null   float64\n",
      " 4   tag      3683 non-null   object \n",
      " 5   rating   3476 non-null   float64\n",
      "dtypes: float64(2), int64(1), object(3)\n",
      "memory usage: 648.2+ KB\n"
     ]
    }
   ],
   "source": [
    "movies_with_tags_ratings.info()"
   ]
  },
  {
   "cell_type": "markdown",
   "id": "5c018013",
   "metadata": {},
   "source": [
    "##### Фича среднее значение оценки, выставленные пользователем за всё время"
   ]
  },
  {
   "cell_type": "code",
   "execution_count": 11,
   "id": "cd4d7a30",
   "metadata": {},
   "outputs": [],
   "source": [
    "movies_with_tags_ratings = movies_with_tags_ratings.merge(movies_with_tags_ratings \\\n",
    "                                                          .groupby('userId') \\\n",
    "                                                          .agg({'rating' : 'mean' }), \\\n",
    "                                                          how='left', on='userId', suffixes=('', '_aver_user'))"
   ]
  },
  {
   "cell_type": "markdown",
   "id": "f6cd5e6b",
   "metadata": {},
   "source": [
    "##### Фича среднее значение оценки, выставленные фильму пользователями за всё время"
   ]
  },
  {
   "cell_type": "code",
   "execution_count": 12,
   "id": "e1175461",
   "metadata": {},
   "outputs": [],
   "source": [
    "movies_with_tags_ratings = movies_with_tags_ratings.merge(movies_with_tags_ratings \\\n",
    "                                                          .groupby('movieId') \\\n",
    "                                                          .agg({'rating' : 'mean' }), \\\n",
    "                                                          how='left', on='movieId', suffixes=('', '_aver_for_film'))"
   ]
  },
  {
   "cell_type": "markdown",
   "id": "ca2629c8",
   "metadata": {},
   "source": [
    "##### Фича разнообразие фильма"
   ]
  },
  {
   "cell_type": "code",
   "execution_count": 13,
   "id": "523ae5ff",
   "metadata": {},
   "outputs": [],
   "source": [
    "movies_with_tags_ratings['film_variety'] = movies_with_tags_ratings['genres'].apply(lambda row: len(row.split('|')))"
   ]
  },
  {
   "cell_type": "markdown",
   "id": "cc3f4e41",
   "metadata": {},
   "source": [
    "##### Фича количество просмотров этого фильма"
   ]
  },
  {
   "cell_type": "code",
   "execution_count": 14,
   "id": "68133439",
   "metadata": {},
   "outputs": [],
   "source": [
    "movies_with_tags_ratings = movies_with_tags_ratings.merge(movies_with_tags_ratings \\\n",
    "                                                                        .groupby('movieId') \\\n",
    "                                                                        .count()['title'], \\\n",
    "                                                          how='left', on='movieId', suffixes=('', '_film_views'))"
   ]
  },
  {
   "cell_type": "code",
   "execution_count": 15,
   "id": "b2043263",
   "metadata": {},
   "outputs": [
    {
     "data": {
      "text/html": [
       "<div>\n",
       "<style scoped>\n",
       "    .dataframe tbody tr th:only-of-type {\n",
       "        vertical-align: middle;\n",
       "    }\n",
       "\n",
       "    .dataframe tbody tr th {\n",
       "        vertical-align: top;\n",
       "    }\n",
       "\n",
       "    .dataframe thead th {\n",
       "        text-align: right;\n",
       "    }\n",
       "</style>\n",
       "<table border=\"1\" class=\"dataframe\">\n",
       "  <thead>\n",
       "    <tr style=\"text-align: right;\">\n",
       "      <th></th>\n",
       "      <th>movieId</th>\n",
       "      <th>title</th>\n",
       "      <th>genres</th>\n",
       "      <th>userId</th>\n",
       "      <th>tag</th>\n",
       "      <th>rating</th>\n",
       "      <th>rating_aver_user</th>\n",
       "      <th>rating_aver_for_film</th>\n",
       "      <th>film_variety</th>\n",
       "      <th>title_film_views</th>\n",
       "    </tr>\n",
       "  </thead>\n",
       "  <tbody>\n",
       "    <tr>\n",
       "      <th>0</th>\n",
       "      <td>1</td>\n",
       "      <td>Toy Story (1995)</td>\n",
       "      <td>Adventure|Animation|Children|Comedy|Fantasy</td>\n",
       "      <td>336.0</td>\n",
       "      <td>pixar</td>\n",
       "      <td>4.0</td>\n",
       "      <td>3.777778</td>\n",
       "      <td>3.833333</td>\n",
       "      <td>5</td>\n",
       "      <td>3</td>\n",
       "    </tr>\n",
       "    <tr>\n",
       "      <th>1</th>\n",
       "      <td>1</td>\n",
       "      <td>Toy Story (1995)</td>\n",
       "      <td>Adventure|Animation|Children|Comedy|Fantasy</td>\n",
       "      <td>474.0</td>\n",
       "      <td>pixar</td>\n",
       "      <td>4.0</td>\n",
       "      <td>3.701909</td>\n",
       "      <td>3.833333</td>\n",
       "      <td>5</td>\n",
       "      <td>3</td>\n",
       "    </tr>\n",
       "  </tbody>\n",
       "</table>\n",
       "</div>"
      ],
      "text/plain": [
       "   movieId             title                                       genres  \\\n",
       "0        1  Toy Story (1995)  Adventure|Animation|Children|Comedy|Fantasy   \n",
       "1        1  Toy Story (1995)  Adventure|Animation|Children|Comedy|Fantasy   \n",
       "\n",
       "   userId    tag  rating  rating_aver_user  rating_aver_for_film  \\\n",
       "0   336.0  pixar     4.0          3.777778              3.833333   \n",
       "1   474.0  pixar     4.0          3.701909              3.833333   \n",
       "\n",
       "   film_variety  title_film_views  \n",
       "0             5                 3  \n",
       "1             5                 3  "
      ]
     },
     "execution_count": 15,
     "metadata": {},
     "output_type": "execute_result"
    }
   ],
   "source": [
    "movies_with_tags_ratings.head(2)"
   ]
  },
  {
   "cell_type": "code",
   "execution_count": 16,
   "id": "3deb068b",
   "metadata": {},
   "outputs": [
    {
     "name": "stdout",
     "output_type": "stream",
     "text": [
      "<class 'pandas.core.frame.DataFrame'>\n",
      "Int64Index: 11853 entries, 0 to 11852\n",
      "Data columns (total 10 columns):\n",
      " #   Column                Non-Null Count  Dtype  \n",
      "---  ------                --------------  -----  \n",
      " 0   movieId               11853 non-null  int64  \n",
      " 1   title                 11853 non-null  object \n",
      " 2   genres                11853 non-null  object \n",
      " 3   userId                3683 non-null   float64\n",
      " 4   tag                   3683 non-null   object \n",
      " 5   rating                3476 non-null   float64\n",
      " 6   rating_aver_user      3678 non-null   float64\n",
      " 7   rating_aver_for_film  3548 non-null   float64\n",
      " 8   film_variety          11853 non-null  int64  \n",
      " 9   title_film_views      11853 non-null  int64  \n",
      "dtypes: float64(4), int64(3), object(3)\n",
      "memory usage: 1018.6+ KB\n"
     ]
    }
   ],
   "source": [
    "movies_with_tags_ratings.info()"
   ]
  },
  {
   "cell_type": "code",
   "execution_count": 17,
   "id": "175fe913",
   "metadata": {},
   "outputs": [],
   "source": [
    "movies_with_tags_ratings.dropna(inplace=True)"
   ]
  },
  {
   "cell_type": "code",
   "execution_count": 18,
   "id": "97c47d09",
   "metadata": {},
   "outputs": [
    {
     "data": {
      "text/plain": [
       "<AxesSubplot:>"
      ]
     },
     "execution_count": 18,
     "metadata": {},
     "output_type": "execute_result"
    },
    {
     "data": {
      "image/png": "[encoded data removed]",
      "text/plain": [
       "<Figure size 432x288 with 1 Axes>"
      ]
     },
     "metadata": {
      "needs_background": "light"
     },
     "output_type": "display_data"
    }
   ],
   "source": [
    "movies_with_tags_ratings.film_variety.hist()"
   ]
  },
  {
   "cell_type": "markdown",
   "id": "5ae41ae3",
   "metadata": {},
   "source": [
    "В основном фильмы не разнообразные, ограничиваются 2-4 жанрами"
   ]
  },
  {
   "cell_type": "code",
   "execution_count": 19,
   "id": "55e15db3",
   "metadata": {},
   "outputs": [
    {
     "data": {
      "text/plain": [
       "<AxesSubplot:>"
      ]
     },
     "execution_count": 19,
     "metadata": {},
     "output_type": "execute_result"
    },
    {
     "data": {
      "image/png": "[encoded data removed]",
      "text/plain": [
       "<Figure size 432x288 with 1 Axes>"
      ]
     },
     "metadata": {
      "needs_background": "light"
     },
     "output_type": "display_data"
    }
   ],
   "source": [
    "movies_with_tags_ratings.rating.hist()"
   ]
  },
  {
   "cell_type": "markdown",
   "id": "6d9ac645",
   "metadata": {},
   "source": [
    "В основном оценки фильмам ставили выше среднего."
   ]
  },
  {
   "cell_type": "code",
   "execution_count": 20,
   "id": "0fab5b40",
   "metadata": {},
   "outputs": [
    {
     "data": {
      "text/plain": [
       "<AxesSubplot:>"
      ]
     },
     "execution_count": 20,
     "metadata": {},
     "output_type": "execute_result"
    },
    {
     "data": {
      "image/png": "[encoded data removed]",
      "text/plain": [
       "<Figure size 432x288 with 1 Axes>"
      ]
     },
     "metadata": {
      "needs_background": "light"
     },
     "output_type": "display_data"
    }
   ],
   "source": [
    "movies_with_tags_ratings.rating_aver_user.hist()"
   ]
  },
  {
   "cell_type": "markdown",
   "id": "2a152839",
   "metadata": {},
   "source": [
    "В основном средние оценки пользователей хорошие."
   ]
  },
  {
   "cell_type": "code",
   "execution_count": 21,
   "id": "811c99d1",
   "metadata": {},
   "outputs": [
    {
     "data": {
      "text/plain": [
       "<AxesSubplot:>"
      ]
     },
     "execution_count": 21,
     "metadata": {},
     "output_type": "execute_result"
    },
    {
     "data": {
      "image/png": "[encoded data removed]",
      "text/plain": [
       "<Figure size 432x288 with 1 Axes>"
      ]
     },
     "metadata": {
      "needs_background": "light"
     },
     "output_type": "display_data"
    }
   ],
   "source": [
    "movies_with_tags_ratings.rating_aver_for_film.hist()"
   ]
  },
  {
   "cell_type": "markdown",
   "id": "de651bd0",
   "metadata": {},
   "source": [
    "В основном средние оценки фильма хорошие 4-5."
   ]
  },
  {
   "cell_type": "code",
   "execution_count": 22,
   "id": "c6a4da4a",
   "metadata": {},
   "outputs": [
    {
     "data": {
      "text/plain": [
       "<AxesSubplot:>"
      ]
     },
     "execution_count": 22,
     "metadata": {},
     "output_type": "execute_result"
    },
    {
     "data": {
      "image/png": "[encoded data removed]",
      "text/plain": [
       "<Figure size 432x288 with 1 Axes>"
      ]
     },
     "metadata": {
      "needs_background": "light"
     },
     "output_type": "display_data"
    }
   ],
   "source": [
    "movies_with_tags_ratings.title_film_views.sort_values().plot(kind='bar')"
   ]
  },
  {
   "cell_type": "markdown",
   "id": "a92ba24c",
   "metadata": {},
   "source": [
    "Есть фильмы, которые пересматривают более 50 раз, но в основном меньше 10."
   ]
  },
  {
   "cell_type": "code",
   "execution_count": 23,
   "id": "28882805",
   "metadata": {},
   "outputs": [
    {
     "data": {
      "text/plain": [
       "(3476, 10)"
      ]
     },
     "execution_count": 23,
     "metadata": {},
     "output_type": "execute_result"
    }
   ],
   "source": [
    "movies_with_tags_ratings.shape"
   ]
  },
  {
   "cell_type": "code",
   "execution_count": 24,
   "id": "7865ad95",
   "metadata": {},
   "outputs": [
    {
     "data": {
      "text/html": [
       "<div>\n",
       "<style scoped>\n",
       "    .dataframe tbody tr th:only-of-type {\n",
       "        vertical-align: middle;\n",
       "    }\n",
       "\n",
       "    .dataframe tbody tr th {\n",
       "        vertical-align: top;\n",
       "    }\n",
       "\n",
       "    .dataframe thead th {\n",
       "        text-align: right;\n",
       "    }\n",
       "</style>\n",
       "<table border=\"1\" class=\"dataframe\">\n",
       "  <thead>\n",
       "    <tr style=\"text-align: right;\">\n",
       "      <th></th>\n",
       "      <th>movieId</th>\n",
       "      <th>title</th>\n",
       "      <th>genres</th>\n",
       "      <th>userId</th>\n",
       "      <th>tag</th>\n",
       "      <th>rating</th>\n",
       "      <th>rating_aver_user</th>\n",
       "      <th>rating_aver_for_film</th>\n",
       "      <th>film_variety</th>\n",
       "      <th>title_film_views</th>\n",
       "    </tr>\n",
       "  </thead>\n",
       "  <tbody>\n",
       "    <tr>\n",
       "      <th>0</th>\n",
       "      <td>1</td>\n",
       "      <td>Toy Story (1995)</td>\n",
       "      <td>Adventure|Animation|Children|Comedy|Fantasy</td>\n",
       "      <td>336.0</td>\n",
       "      <td>pixar</td>\n",
       "      <td>4.0</td>\n",
       "      <td>3.777778</td>\n",
       "      <td>3.833333</td>\n",
       "      <td>5</td>\n",
       "      <td>3</td>\n",
       "    </tr>\n",
       "    <tr>\n",
       "      <th>1</th>\n",
       "      <td>1</td>\n",
       "      <td>Toy Story (1995)</td>\n",
       "      <td>Adventure|Animation|Children|Comedy|Fantasy</td>\n",
       "      <td>474.0</td>\n",
       "      <td>pixar</td>\n",
       "      <td>4.0</td>\n",
       "      <td>3.701909</td>\n",
       "      <td>3.833333</td>\n",
       "      <td>5</td>\n",
       "      <td>3</td>\n",
       "    </tr>\n",
       "  </tbody>\n",
       "</table>\n",
       "</div>"
      ],
      "text/plain": [
       "   movieId             title                                       genres  \\\n",
       "0        1  Toy Story (1995)  Adventure|Animation|Children|Comedy|Fantasy   \n",
       "1        1  Toy Story (1995)  Adventure|Animation|Children|Comedy|Fantasy   \n",
       "\n",
       "   userId    tag  rating  rating_aver_user  rating_aver_for_film  \\\n",
       "0   336.0  pixar     4.0          3.777778              3.833333   \n",
       "1   474.0  pixar     4.0          3.701909              3.833333   \n",
       "\n",
       "   film_variety  title_film_views  \n",
       "0             5                 3  \n",
       "1             5                 3  "
      ]
     },
     "execution_count": 24,
     "metadata": {},
     "output_type": "execute_result"
    }
   ],
   "source": [
    "movies_with_tags_ratings.head(2)"
   ]
  },
  {
   "cell_type": "code",
   "execution_count": 25,
   "id": "f7bc6628",
   "metadata": {},
   "outputs": [],
   "source": [
    "y = movies_with_tags_ratings['rating']\n",
    "X = movies_with_tags_ratings.drop(columns=[ 'movieId', 'userId', 'rating'])"
   ]
  },
  {
   "cell_type": "code",
   "execution_count": 26,
   "id": "a28069db",
   "metadata": {},
   "outputs": [
    {
     "data": {
      "text/html": [
       "<div>\n",
       "<style scoped>\n",
       "    .dataframe tbody tr th:only-of-type {\n",
       "        vertical-align: middle;\n",
       "    }\n",
       "\n",
       "    .dataframe tbody tr th {\n",
       "        vertical-align: top;\n",
       "    }\n",
       "\n",
       "    .dataframe thead th {\n",
       "        text-align: right;\n",
       "    }\n",
       "</style>\n",
       "<table border=\"1\" class=\"dataframe\">\n",
       "  <thead>\n",
       "    <tr style=\"text-align: right;\">\n",
       "      <th></th>\n",
       "      <th>title</th>\n",
       "      <th>genres</th>\n",
       "      <th>tag</th>\n",
       "      <th>rating_aver_user</th>\n",
       "      <th>rating_aver_for_film</th>\n",
       "      <th>film_variety</th>\n",
       "      <th>title_film_views</th>\n",
       "    </tr>\n",
       "  </thead>\n",
       "  <tbody>\n",
       "    <tr>\n",
       "      <th>0</th>\n",
       "      <td>Toy Story (1995)</td>\n",
       "      <td>Adventure|Animation|Children|Comedy|Fantasy</td>\n",
       "      <td>pixar</td>\n",
       "      <td>3.777778</td>\n",
       "      <td>3.833333</td>\n",
       "      <td>5</td>\n",
       "      <td>3</td>\n",
       "    </tr>\n",
       "    <tr>\n",
       "      <th>1</th>\n",
       "      <td>Toy Story (1995)</td>\n",
       "      <td>Adventure|Animation|Children|Comedy|Fantasy</td>\n",
       "      <td>pixar</td>\n",
       "      <td>3.701909</td>\n",
       "      <td>3.833333</td>\n",
       "      <td>5</td>\n",
       "      <td>3</td>\n",
       "    </tr>\n",
       "    <tr>\n",
       "      <th>2</th>\n",
       "      <td>Toy Story (1995)</td>\n",
       "      <td>Adventure|Animation|Children|Comedy|Fantasy</td>\n",
       "      <td>fun</td>\n",
       "      <td>3.917824</td>\n",
       "      <td>3.833333</td>\n",
       "      <td>5</td>\n",
       "      <td>3</td>\n",
       "    </tr>\n",
       "    <tr>\n",
       "      <th>3</th>\n",
       "      <td>Jumanji (1995)</td>\n",
       "      <td>Adventure|Children|Fantasy</td>\n",
       "      <td>fantasy</td>\n",
       "      <td>3.937838</td>\n",
       "      <td>3.750000</td>\n",
       "      <td>3</td>\n",
       "      <td>4</td>\n",
       "    </tr>\n",
       "    <tr>\n",
       "      <th>4</th>\n",
       "      <td>Jumanji (1995)</td>\n",
       "      <td>Adventure|Children|Fantasy</td>\n",
       "      <td>magic board game</td>\n",
       "      <td>3.937838</td>\n",
       "      <td>3.750000</td>\n",
       "      <td>3</td>\n",
       "      <td>4</td>\n",
       "    </tr>\n",
       "  </tbody>\n",
       "</table>\n",
       "</div>"
      ],
      "text/plain": [
       "              title                                       genres  \\\n",
       "0  Toy Story (1995)  Adventure|Animation|Children|Comedy|Fantasy   \n",
       "1  Toy Story (1995)  Adventure|Animation|Children|Comedy|Fantasy   \n",
       "2  Toy Story (1995)  Adventure|Animation|Children|Comedy|Fantasy   \n",
       "3    Jumanji (1995)                   Adventure|Children|Fantasy   \n",
       "4    Jumanji (1995)                   Adventure|Children|Fantasy   \n",
       "\n",
       "                tag  rating_aver_user  rating_aver_for_film  film_variety  \\\n",
       "0             pixar          3.777778              3.833333             5   \n",
       "1             pixar          3.701909              3.833333             5   \n",
       "2               fun          3.917824              3.833333             5   \n",
       "3           fantasy          3.937838              3.750000             3   \n",
       "4  magic board game          3.937838              3.750000             3   \n",
       "\n",
       "   title_film_views  \n",
       "0                 3  \n",
       "1                 3  \n",
       "2                 3  \n",
       "3                 4  \n",
       "4                 4  "
      ]
     },
     "execution_count": 26,
     "metadata": {},
     "output_type": "execute_result"
    }
   ],
   "source": [
    "X.head(5)"
   ]
  },
  {
   "cell_type": "markdown",
   "id": "3c7d053c",
   "metadata": {},
   "source": [
    "##### TF-IDF на тегах и жанрах\n"
   ]
  },
  {
   "cell_type": "markdown",
   "id": "e94a6a68",
   "metadata": {},
   "source": [
    "#### Создание колонок возможных тегов"
   ]
  },
  {
   "cell_type": "code",
   "execution_count": 27,
   "id": "bd7c3fbe",
   "metadata": {},
   "outputs": [],
   "source": [
    "tag_strings = []\n",
    "for row_num in range(0, len(X)):\n",
    "    tag_strings.append(X.tag.iloc[row_num].lower().replace('-', ''))"
   ]
  },
  {
   "cell_type": "code",
   "execution_count": 28,
   "id": "11e6c2c3",
   "metadata": {},
   "outputs": [
    {
     "data": {
      "text/plain": [
       "['pixar', 'pixar', 'fun', 'fantasy', 'magic board game']"
      ]
     },
     "execution_count": 28,
     "metadata": {},
     "output_type": "execute_result"
    }
   ],
   "source": [
    "tag_strings[:5]"
   ]
  },
  {
   "cell_type": "code",
   "execution_count": 29,
   "id": "1c95568d",
   "metadata": {},
   "outputs": [
    {
     "data": {
      "text/plain": [
       "3476"
      ]
     },
     "execution_count": 29,
     "metadata": {},
     "output_type": "execute_result"
    }
   ],
   "source": [
    "len(tag_strings)"
   ]
  },
  {
   "cell_type": "markdown",
   "id": "59760e28",
   "metadata": {},
   "source": [
    "#### Создание колонок возможных жанров"
   ]
  },
  {
   "cell_type": "code",
   "execution_count": 30,
   "id": "66148cec",
   "metadata": {},
   "outputs": [],
   "source": [
    "def change_string(s):\n",
    "    return ' '.join(s.lower().replace(' ', '').replace('-', '').split('|'))"
   ]
  },
  {
   "cell_type": "code",
   "execution_count": 31,
   "id": "cf83e9b9",
   "metadata": {},
   "outputs": [
    {
     "data": {
      "text/plain": [
       "['adventure animation children comedy fantasy',\n",
       " 'adventure animation children comedy fantasy',\n",
       " 'adventure animation children comedy fantasy',\n",
       " 'adventure children fantasy',\n",
       " 'adventure children fantasy']"
      ]
     },
     "execution_count": 31,
     "metadata": {},
     "output_type": "execute_result"
    }
   ],
   "source": [
    "movie_genres = [change_string(g) for g in X.genres.values]\n",
    "movie_genres[:5]"
   ]
  },
  {
   "cell_type": "code",
   "execution_count": 32,
   "id": "f3c2a58c",
   "metadata": {},
   "outputs": [
    {
     "data": {
      "text/plain": [
       "3476"
      ]
     },
     "execution_count": 32,
     "metadata": {},
     "output_type": "execute_result"
    }
   ],
   "source": [
    "len(movie_genres)"
   ]
  },
  {
   "cell_type": "markdown",
   "id": "b3b36802",
   "metadata": {},
   "source": [
    "#### CountVec  + TfidfVect"
   ]
  },
  {
   "cell_type": "code",
   "execution_count": 33,
   "id": "9f1e86e9",
   "metadata": {},
   "outputs": [],
   "source": [
    "count_vect = CountVectorizer()\n",
    "X_train_counts_tags = count_vect.fit_transform(tag_strings)"
   ]
  },
  {
   "cell_type": "code",
   "execution_count": 34,
   "id": "30dded6c",
   "metadata": {},
   "outputs": [],
   "source": [
    "tfidf_transformer = TfidfTransformer()\n",
    "X_train_tfidf_tags = tfidf_transformer.fit_transform(X_train_counts_tags)"
   ]
  },
  {
   "cell_type": "code",
   "execution_count": 35,
   "id": "49d70338",
   "metadata": {},
   "outputs": [
    {
     "data": {
      "text/plain": [
       "(3476, 1712)"
      ]
     },
     "execution_count": 35,
     "metadata": {},
     "output_type": "execute_result"
    }
   ],
   "source": [
    "X_train_tfidf_tags.shape"
   ]
  },
  {
   "cell_type": "code",
   "execution_count": 36,
   "id": "d629676f",
   "metadata": {},
   "outputs": [
    {
     "data": {
      "text/plain": [
       "0.0"
      ]
     },
     "execution_count": 36,
     "metadata": {},
     "output_type": "execute_result"
    }
   ],
   "source": [
    "X_train_tfidf_tags.toarray()[3475][1711]"
   ]
  },
  {
   "cell_type": "code",
   "execution_count": 37,
   "id": "f5a8c430",
   "metadata": {},
   "outputs": [],
   "source": [
    "count_vect_2 = CountVectorizer()\n",
    "X_train_counts_genres = count_vect_2.fit_transform(movie_genres)"
   ]
  },
  {
   "cell_type": "code",
   "execution_count": 38,
   "id": "15532b30",
   "metadata": {},
   "outputs": [],
   "source": [
    "tfidf_transformer_2 = TfidfTransformer()\n",
    "X_train_tfidf_genres = tfidf_transformer_2.fit_transform(X_train_counts_genres)"
   ]
  },
  {
   "cell_type": "code",
   "execution_count": 39,
   "id": "3bfb955e",
   "metadata": {},
   "outputs": [
    {
     "data": {
      "text/plain": [
       "(3476, 20)"
      ]
     },
     "execution_count": 39,
     "metadata": {},
     "output_type": "execute_result"
    }
   ],
   "source": [
    "X_train_tfidf_genres.shape"
   ]
  },
  {
   "cell_type": "code",
   "execution_count": 40,
   "id": "4f1b5bb9",
   "metadata": {},
   "outputs": [
    {
     "data": {
      "text/plain": [
       "0.0"
      ]
     },
     "execution_count": 40,
     "metadata": {},
     "output_type": "execute_result"
    }
   ],
   "source": [
    "X_train_tfidf_genres.toarray()[3475][19]"
   ]
  },
  {
   "cell_type": "markdown",
   "id": "766ac227",
   "metadata": {},
   "source": [
    "#### Распределение данных по X"
   ]
  },
  {
   "cell_type": "code",
   "execution_count": 41,
   "id": "a5906593",
   "metadata": {},
   "outputs": [
    {
     "data": {
      "text/plain": [
       "(3476, 7)"
      ]
     },
     "execution_count": 41,
     "metadata": {},
     "output_type": "execute_result"
    }
   ],
   "source": [
    "X.shape"
   ]
  },
  {
   "cell_type": "code",
   "execution_count": 42,
   "id": "70c93640",
   "metadata": {},
   "outputs": [
    {
     "data": {
      "text/html": [
       "<div>\n",
       "<style scoped>\n",
       "    .dataframe tbody tr th:only-of-type {\n",
       "        vertical-align: middle;\n",
       "    }\n",
       "\n",
       "    .dataframe tbody tr th {\n",
       "        vertical-align: top;\n",
       "    }\n",
       "\n",
       "    .dataframe thead th {\n",
       "        text-align: right;\n",
       "    }\n",
       "</style>\n",
       "<table border=\"1\" class=\"dataframe\">\n",
       "  <thead>\n",
       "    <tr style=\"text-align: right;\">\n",
       "      <th></th>\n",
       "      <th>title</th>\n",
       "      <th>genres</th>\n",
       "      <th>tag</th>\n",
       "      <th>rating_aver_user</th>\n",
       "      <th>rating_aver_for_film</th>\n",
       "      <th>film_variety</th>\n",
       "      <th>title_film_views</th>\n",
       "    </tr>\n",
       "  </thead>\n",
       "  <tbody>\n",
       "    <tr>\n",
       "      <th>11840</th>\n",
       "      <td>Gintama: The Movie (2010)</td>\n",
       "      <td>Action|Animation|Comedy|Sci-Fi</td>\n",
       "      <td>anime</td>\n",
       "      <td>3.985714</td>\n",
       "      <td>3.5</td>\n",
       "      <td>4</td>\n",
       "      <td>4</td>\n",
       "    </tr>\n",
       "    <tr>\n",
       "      <th>11841</th>\n",
       "      <td>Gintama: The Movie (2010)</td>\n",
       "      <td>Action|Animation|Comedy|Sci-Fi</td>\n",
       "      <td>comedy</td>\n",
       "      <td>3.985714</td>\n",
       "      <td>3.5</td>\n",
       "      <td>4</td>\n",
       "      <td>4</td>\n",
       "    </tr>\n",
       "    <tr>\n",
       "      <th>11842</th>\n",
       "      <td>Gintama: The Movie (2010)</td>\n",
       "      <td>Action|Animation|Comedy|Sci-Fi</td>\n",
       "      <td>gintama</td>\n",
       "      <td>3.985714</td>\n",
       "      <td>3.5</td>\n",
       "      <td>4</td>\n",
       "      <td>4</td>\n",
       "    </tr>\n",
       "  </tbody>\n",
       "</table>\n",
       "</div>"
      ],
      "text/plain": [
       "                           title                          genres      tag  \\\n",
       "11840  Gintama: The Movie (2010)  Action|Animation|Comedy|Sci-Fi    anime   \n",
       "11841  Gintama: The Movie (2010)  Action|Animation|Comedy|Sci-Fi   comedy   \n",
       "11842  Gintama: The Movie (2010)  Action|Animation|Comedy|Sci-Fi  gintama   \n",
       "\n",
       "       rating_aver_user  rating_aver_for_film  film_variety  title_film_views  \n",
       "11840          3.985714                   3.5             4                 4  \n",
       "11841          3.985714                   3.5             4                 4  \n",
       "11842          3.985714                   3.5             4                 4  "
      ]
     },
     "execution_count": 42,
     "metadata": {},
     "output_type": "execute_result"
    }
   ],
   "source": [
    "X.iloc[3472:3475, :]"
   ]
  },
  {
   "cell_type": "code",
   "execution_count": 43,
   "id": "54b761d4",
   "metadata": {},
   "outputs": [
    {
     "name": "stderr",
     "output_type": "stream",
     "text": [
      "C:\\Users\\D683~1\\AppData\\Local\\Temp/ipykernel_17064/3608596756.py:2: PerformanceWarning: DataFrame is highly fragmented.  This is usually the result of calling `frame.insert` many times, which has poor performance.  Consider joining all columns at once using pd.concat(axis=1) instead.  To get a de-fragmented frame, use `newframe = frame.copy()`\n",
      "  X[f'tag {i}'] = 0\n",
      "C:\\Users\\D683~1\\AppData\\Local\\Temp/ipykernel_17064/3608596756.py:4: PerformanceWarning: DataFrame is highly fragmented.  This is usually the result of calling `frame.insert` many times, which has poor performance.  Consider joining all columns at once using pd.concat(axis=1) instead.  To get a de-fragmented frame, use `newframe = frame.copy()`\n",
      "  X[f'genre {j}'] = 0\n"
     ]
    }
   ],
   "source": [
    "for i in range(1, 1713):\n",
    "    X[f'tag {i}'] = 0\n",
    "for j in range(1, 21):\n",
    "    X[f'genre {j}'] = 0"
   ]
  },
  {
   "cell_type": "code",
   "execution_count": 44,
   "id": "2f3f394f",
   "metadata": {},
   "outputs": [
    {
     "data": {
      "text/html": [
       "<div>\n",
       "<style scoped>\n",
       "    .dataframe tbody tr th:only-of-type {\n",
       "        vertical-align: middle;\n",
       "    }\n",
       "\n",
       "    .dataframe tbody tr th {\n",
       "        vertical-align: top;\n",
       "    }\n",
       "\n",
       "    .dataframe thead th {\n",
       "        text-align: right;\n",
       "    }\n",
       "</style>\n",
       "<table border=\"1\" class=\"dataframe\">\n",
       "  <thead>\n",
       "    <tr style=\"text-align: right;\">\n",
       "      <th></th>\n",
       "      <th>tag 1</th>\n",
       "      <th>tag 2</th>\n",
       "      <th>tag 3</th>\n",
       "      <th>tag 4</th>\n",
       "      <th>tag 5</th>\n",
       "      <th>tag 6</th>\n",
       "      <th>tag 7</th>\n",
       "      <th>tag 8</th>\n",
       "      <th>tag 9</th>\n",
       "      <th>tag 10</th>\n",
       "      <th>...</th>\n",
       "      <th>tag 1703</th>\n",
       "      <th>tag 1704</th>\n",
       "      <th>tag 1705</th>\n",
       "      <th>tag 1706</th>\n",
       "      <th>tag 1707</th>\n",
       "      <th>tag 1708</th>\n",
       "      <th>tag 1709</th>\n",
       "      <th>tag 1710</th>\n",
       "      <th>tag 1711</th>\n",
       "      <th>tag 1712</th>\n",
       "    </tr>\n",
       "  </thead>\n",
       "  <tbody>\n",
       "    <tr>\n",
       "      <th>0</th>\n",
       "      <td>0</td>\n",
       "      <td>0</td>\n",
       "      <td>0</td>\n",
       "      <td>0</td>\n",
       "      <td>0</td>\n",
       "      <td>0</td>\n",
       "      <td>0</td>\n",
       "      <td>0</td>\n",
       "      <td>0</td>\n",
       "      <td>0</td>\n",
       "      <td>...</td>\n",
       "      <td>0</td>\n",
       "      <td>0</td>\n",
       "      <td>0</td>\n",
       "      <td>0</td>\n",
       "      <td>0</td>\n",
       "      <td>0</td>\n",
       "      <td>0</td>\n",
       "      <td>0</td>\n",
       "      <td>0</td>\n",
       "      <td>0</td>\n",
       "    </tr>\n",
       "    <tr>\n",
       "      <th>1</th>\n",
       "      <td>0</td>\n",
       "      <td>0</td>\n",
       "      <td>0</td>\n",
       "      <td>0</td>\n",
       "      <td>0</td>\n",
       "      <td>0</td>\n",
       "      <td>0</td>\n",
       "      <td>0</td>\n",
       "      <td>0</td>\n",
       "      <td>0</td>\n",
       "      <td>...</td>\n",
       "      <td>0</td>\n",
       "      <td>0</td>\n",
       "      <td>0</td>\n",
       "      <td>0</td>\n",
       "      <td>0</td>\n",
       "      <td>0</td>\n",
       "      <td>0</td>\n",
       "      <td>0</td>\n",
       "      <td>0</td>\n",
       "      <td>0</td>\n",
       "    </tr>\n",
       "  </tbody>\n",
       "</table>\n",
       "<p>2 rows × 1712 columns</p>\n",
       "</div>"
      ],
      "text/plain": [
       "   tag 1  tag 2  tag 3  tag 4  tag 5  tag 6  tag 7  tag 8  tag 9  tag 10  ...  \\\n",
       "0      0      0      0      0      0      0      0      0      0       0  ...   \n",
       "1      0      0      0      0      0      0      0      0      0       0  ...   \n",
       "\n",
       "   tag 1703  tag 1704  tag 1705  tag 1706  tag 1707  tag 1708  tag 1709  \\\n",
       "0         0         0         0         0         0         0         0   \n",
       "1         0         0         0         0         0         0         0   \n",
       "\n",
       "   tag 1710  tag 1711  tag 1712  \n",
       "0         0         0         0  \n",
       "1         0         0         0  \n",
       "\n",
       "[2 rows x 1712 columns]"
      ]
     },
     "execution_count": 44,
     "metadata": {},
     "output_type": "execute_result"
    }
   ],
   "source": [
    "X.iloc[:, 7 : 1719].head(2)"
   ]
  },
  {
   "cell_type": "code",
   "execution_count": 46,
   "id": "6d02cd0f",
   "metadata": {},
   "outputs": [],
   "source": [
    "X.iloc[:, 7 : 1719] = X_train_tfidf_tags.toarray()"
   ]
  },
  {
   "cell_type": "code",
   "execution_count": 45,
   "id": "d7f52764",
   "metadata": {},
   "outputs": [],
   "source": [
    "# for i, column in enumerate(X.iloc[:, 7 : 1719].columns):\n",
    "#     for row in range(len(X)):\n",
    "#         X[f'{column}'].iloc[row] = X_train_tfidf_tags.toarray()[row][i]"
   ]
  },
  {
   "cell_type": "code",
   "execution_count": 49,
   "id": "7f025389",
   "metadata": {},
   "outputs": [
    {
     "data": {
      "text/html": [
       "<div>\n",
       "<style scoped>\n",
       "    .dataframe tbody tr th:only-of-type {\n",
       "        vertical-align: middle;\n",
       "    }\n",
       "\n",
       "    .dataframe tbody tr th {\n",
       "        vertical-align: top;\n",
       "    }\n",
       "\n",
       "    .dataframe thead th {\n",
       "        text-align: right;\n",
       "    }\n",
       "</style>\n",
       "<table border=\"1\" class=\"dataframe\">\n",
       "  <thead>\n",
       "    <tr style=\"text-align: right;\">\n",
       "      <th></th>\n",
       "      <th>genre 1</th>\n",
       "      <th>genre 2</th>\n",
       "      <th>genre 3</th>\n",
       "      <th>genre 4</th>\n",
       "      <th>genre 5</th>\n",
       "      <th>genre 6</th>\n",
       "      <th>genre 7</th>\n",
       "      <th>genre 8</th>\n",
       "      <th>genre 9</th>\n",
       "      <th>genre 10</th>\n",
       "      <th>genre 11</th>\n",
       "      <th>genre 12</th>\n",
       "      <th>genre 13</th>\n",
       "      <th>genre 14</th>\n",
       "      <th>genre 15</th>\n",
       "      <th>genre 16</th>\n",
       "      <th>genre 17</th>\n",
       "      <th>genre 18</th>\n",
       "      <th>genre 19</th>\n",
       "      <th>genre 20</th>\n",
       "    </tr>\n",
       "  </thead>\n",
       "  <tbody>\n",
       "    <tr>\n",
       "      <th>0</th>\n",
       "      <td>0</td>\n",
       "      <td>0</td>\n",
       "      <td>0</td>\n",
       "      <td>0</td>\n",
       "      <td>0</td>\n",
       "      <td>0</td>\n",
       "      <td>0</td>\n",
       "      <td>0</td>\n",
       "      <td>0</td>\n",
       "      <td>0</td>\n",
       "      <td>0</td>\n",
       "      <td>0</td>\n",
       "      <td>0</td>\n",
       "      <td>0</td>\n",
       "      <td>0</td>\n",
       "      <td>0</td>\n",
       "      <td>0</td>\n",
       "      <td>0</td>\n",
       "      <td>0</td>\n",
       "      <td>0</td>\n",
       "    </tr>\n",
       "    <tr>\n",
       "      <th>1</th>\n",
       "      <td>0</td>\n",
       "      <td>0</td>\n",
       "      <td>0</td>\n",
       "      <td>0</td>\n",
       "      <td>0</td>\n",
       "      <td>0</td>\n",
       "      <td>0</td>\n",
       "      <td>0</td>\n",
       "      <td>0</td>\n",
       "      <td>0</td>\n",
       "      <td>0</td>\n",
       "      <td>0</td>\n",
       "      <td>0</td>\n",
       "      <td>0</td>\n",
       "      <td>0</td>\n",
       "      <td>0</td>\n",
       "      <td>0</td>\n",
       "      <td>0</td>\n",
       "      <td>0</td>\n",
       "      <td>0</td>\n",
       "    </tr>\n",
       "    <tr>\n",
       "      <th>2</th>\n",
       "      <td>0</td>\n",
       "      <td>0</td>\n",
       "      <td>0</td>\n",
       "      <td>0</td>\n",
       "      <td>0</td>\n",
       "      <td>0</td>\n",
       "      <td>0</td>\n",
       "      <td>0</td>\n",
       "      <td>0</td>\n",
       "      <td>0</td>\n",
       "      <td>0</td>\n",
       "      <td>0</td>\n",
       "      <td>0</td>\n",
       "      <td>0</td>\n",
       "      <td>0</td>\n",
       "      <td>0</td>\n",
       "      <td>0</td>\n",
       "      <td>0</td>\n",
       "      <td>0</td>\n",
       "      <td>0</td>\n",
       "    </tr>\n",
       "    <tr>\n",
       "      <th>3</th>\n",
       "      <td>0</td>\n",
       "      <td>0</td>\n",
       "      <td>0</td>\n",
       "      <td>0</td>\n",
       "      <td>0</td>\n",
       "      <td>0</td>\n",
       "      <td>0</td>\n",
       "      <td>0</td>\n",
       "      <td>0</td>\n",
       "      <td>0</td>\n",
       "      <td>0</td>\n",
       "      <td>0</td>\n",
       "      <td>0</td>\n",
       "      <td>0</td>\n",
       "      <td>0</td>\n",
       "      <td>0</td>\n",
       "      <td>0</td>\n",
       "      <td>0</td>\n",
       "      <td>0</td>\n",
       "      <td>0</td>\n",
       "    </tr>\n",
       "    <tr>\n",
       "      <th>4</th>\n",
       "      <td>0</td>\n",
       "      <td>0</td>\n",
       "      <td>0</td>\n",
       "      <td>0</td>\n",
       "      <td>0</td>\n",
       "      <td>0</td>\n",
       "      <td>0</td>\n",
       "      <td>0</td>\n",
       "      <td>0</td>\n",
       "      <td>0</td>\n",
       "      <td>0</td>\n",
       "      <td>0</td>\n",
       "      <td>0</td>\n",
       "      <td>0</td>\n",
       "      <td>0</td>\n",
       "      <td>0</td>\n",
       "      <td>0</td>\n",
       "      <td>0</td>\n",
       "      <td>0</td>\n",
       "      <td>0</td>\n",
       "    </tr>\n",
       "  </tbody>\n",
       "</table>\n",
       "</div>"
      ],
      "text/plain": [
       "   genre 1  genre 2  genre 3  genre 4  genre 5  genre 6  genre 7  genre 8  \\\n",
       "0        0        0        0        0        0        0        0        0   \n",
       "1        0        0        0        0        0        0        0        0   \n",
       "2        0        0        0        0        0        0        0        0   \n",
       "3        0        0        0        0        0        0        0        0   \n",
       "4        0        0        0        0        0        0        0        0   \n",
       "\n",
       "   genre 9  genre 10  genre 11  genre 12  genre 13  genre 14  genre 15  \\\n",
       "0        0         0         0         0         0         0         0   \n",
       "1        0         0         0         0         0         0         0   \n",
       "2        0         0         0         0         0         0         0   \n",
       "3        0         0         0         0         0         0         0   \n",
       "4        0         0         0         0         0         0         0   \n",
       "\n",
       "   genre 16  genre 17  genre 18  genre 19  genre 20  \n",
       "0         0         0         0         0         0  \n",
       "1         0         0         0         0         0  \n",
       "2         0         0         0         0         0  \n",
       "3         0         0         0         0         0  \n",
       "4         0         0         0         0         0  "
      ]
     },
     "execution_count": 49,
     "metadata": {},
     "output_type": "execute_result"
    }
   ],
   "source": [
    "X.iloc[:, 1719:].head()"
   ]
  },
  {
   "cell_type": "code",
   "execution_count": null,
   "id": "7f622697",
   "metadata": {},
   "outputs": [],
   "source": [
    "# for i, column in enumerate(X.iloc[:, 1719:].columns):\n",
    "#     for row in range(len(X)):\n",
    "#         X[f'{column}'].iloc[row] = X_train_tfidf_genres.toarray()[row][i]"
   ]
  },
  {
   "cell_type": "code",
   "execution_count": 50,
   "id": "28541cef",
   "metadata": {},
   "outputs": [],
   "source": [
    "X.iloc[:, 1719:] = X_train_tfidf_genres.toarray()"
   ]
  },
  {
   "cell_type": "code",
   "execution_count": 51,
   "id": "80e7b8f1",
   "metadata": {},
   "outputs": [
    {
     "data": {
      "text/html": [
       "<div>\n",
       "<style scoped>\n",
       "    .dataframe tbody tr th:only-of-type {\n",
       "        vertical-align: middle;\n",
       "    }\n",
       "\n",
       "    .dataframe tbody tr th {\n",
       "        vertical-align: top;\n",
       "    }\n",
       "\n",
       "    .dataframe thead th {\n",
       "        text-align: right;\n",
       "    }\n",
       "</style>\n",
       "<table border=\"1\" class=\"dataframe\">\n",
       "  <thead>\n",
       "    <tr style=\"text-align: right;\">\n",
       "      <th></th>\n",
       "      <th>title</th>\n",
       "      <th>genres</th>\n",
       "      <th>tag</th>\n",
       "      <th>rating_aver_user</th>\n",
       "      <th>rating_aver_for_film</th>\n",
       "      <th>film_variety</th>\n",
       "      <th>title_film_views</th>\n",
       "      <th>tag 1</th>\n",
       "      <th>tag 2</th>\n",
       "      <th>tag 3</th>\n",
       "      <th>...</th>\n",
       "      <th>genre 11</th>\n",
       "      <th>genre 12</th>\n",
       "      <th>genre 13</th>\n",
       "      <th>genre 14</th>\n",
       "      <th>genre 15</th>\n",
       "      <th>genre 16</th>\n",
       "      <th>genre 17</th>\n",
       "      <th>genre 18</th>\n",
       "      <th>genre 19</th>\n",
       "      <th>genre 20</th>\n",
       "    </tr>\n",
       "  </thead>\n",
       "  <tbody>\n",
       "    <tr>\n",
       "      <th>11818</th>\n",
       "      <td>Solo: A Star Wars Story (2018)</td>\n",
       "      <td>Action|Adventure|Children|Sci-Fi</td>\n",
       "      <td>star wars</td>\n",
       "      <td>3.937838</td>\n",
       "      <td>4.0</td>\n",
       "      <td>4</td>\n",
       "      <td>2</td>\n",
       "      <td>0.0</td>\n",
       "      <td>0.0</td>\n",
       "      <td>0.0</td>\n",
       "      <td>...</td>\n",
       "      <td>0.0</td>\n",
       "      <td>0.0</td>\n",
       "      <td>0.0</td>\n",
       "      <td>0.0</td>\n",
       "      <td>0.0</td>\n",
       "      <td>0.0</td>\n",
       "      <td>0.444081</td>\n",
       "      <td>0.0</td>\n",
       "      <td>0.0</td>\n",
       "      <td>0.0</td>\n",
       "    </tr>\n",
       "    <tr>\n",
       "      <th>11840</th>\n",
       "      <td>Gintama: The Movie (2010)</td>\n",
       "      <td>Action|Animation|Comedy|Sci-Fi</td>\n",
       "      <td>anime</td>\n",
       "      <td>3.985714</td>\n",
       "      <td>3.5</td>\n",
       "      <td>4</td>\n",
       "      <td>4</td>\n",
       "      <td>0.0</td>\n",
       "      <td>0.0</td>\n",
       "      <td>0.0</td>\n",
       "      <td>...</td>\n",
       "      <td>0.0</td>\n",
       "      <td>0.0</td>\n",
       "      <td>0.0</td>\n",
       "      <td>0.0</td>\n",
       "      <td>0.0</td>\n",
       "      <td>0.0</td>\n",
       "      <td>0.477320</td>\n",
       "      <td>0.0</td>\n",
       "      <td>0.0</td>\n",
       "      <td>0.0</td>\n",
       "    </tr>\n",
       "    <tr>\n",
       "      <th>11841</th>\n",
       "      <td>Gintama: The Movie (2010)</td>\n",
       "      <td>Action|Animation|Comedy|Sci-Fi</td>\n",
       "      <td>comedy</td>\n",
       "      <td>3.985714</td>\n",
       "      <td>3.5</td>\n",
       "      <td>4</td>\n",
       "      <td>4</td>\n",
       "      <td>0.0</td>\n",
       "      <td>0.0</td>\n",
       "      <td>0.0</td>\n",
       "      <td>...</td>\n",
       "      <td>0.0</td>\n",
       "      <td>0.0</td>\n",
       "      <td>0.0</td>\n",
       "      <td>0.0</td>\n",
       "      <td>0.0</td>\n",
       "      <td>0.0</td>\n",
       "      <td>0.477320</td>\n",
       "      <td>0.0</td>\n",
       "      <td>0.0</td>\n",
       "      <td>0.0</td>\n",
       "    </tr>\n",
       "    <tr>\n",
       "      <th>11842</th>\n",
       "      <td>Gintama: The Movie (2010)</td>\n",
       "      <td>Action|Animation|Comedy|Sci-Fi</td>\n",
       "      <td>gintama</td>\n",
       "      <td>3.985714</td>\n",
       "      <td>3.5</td>\n",
       "      <td>4</td>\n",
       "      <td>4</td>\n",
       "      <td>0.0</td>\n",
       "      <td>0.0</td>\n",
       "      <td>0.0</td>\n",
       "      <td>...</td>\n",
       "      <td>0.0</td>\n",
       "      <td>0.0</td>\n",
       "      <td>0.0</td>\n",
       "      <td>0.0</td>\n",
       "      <td>0.0</td>\n",
       "      <td>0.0</td>\n",
       "      <td>0.477320</td>\n",
       "      <td>0.0</td>\n",
       "      <td>0.0</td>\n",
       "      <td>0.0</td>\n",
       "    </tr>\n",
       "    <tr>\n",
       "      <th>11843</th>\n",
       "      <td>Gintama: The Movie (2010)</td>\n",
       "      <td>Action|Animation|Comedy|Sci-Fi</td>\n",
       "      <td>remaster</td>\n",
       "      <td>3.985714</td>\n",
       "      <td>3.5</td>\n",
       "      <td>4</td>\n",
       "      <td>4</td>\n",
       "      <td>0.0</td>\n",
       "      <td>0.0</td>\n",
       "      <td>0.0</td>\n",
       "      <td>...</td>\n",
       "      <td>0.0</td>\n",
       "      <td>0.0</td>\n",
       "      <td>0.0</td>\n",
       "      <td>0.0</td>\n",
       "      <td>0.0</td>\n",
       "      <td>0.0</td>\n",
       "      <td>0.477320</td>\n",
       "      <td>0.0</td>\n",
       "      <td>0.0</td>\n",
       "      <td>0.0</td>\n",
       "    </tr>\n",
       "  </tbody>\n",
       "</table>\n",
       "<p>5 rows × 1739 columns</p>\n",
       "</div>"
      ],
      "text/plain": [
       "                                title                            genres  \\\n",
       "11818  Solo: A Star Wars Story (2018)  Action|Adventure|Children|Sci-Fi   \n",
       "11840       Gintama: The Movie (2010)    Action|Animation|Comedy|Sci-Fi   \n",
       "11841       Gintama: The Movie (2010)    Action|Animation|Comedy|Sci-Fi   \n",
       "11842       Gintama: The Movie (2010)    Action|Animation|Comedy|Sci-Fi   \n",
       "11843       Gintama: The Movie (2010)    Action|Animation|Comedy|Sci-Fi   \n",
       "\n",
       "             tag  rating_aver_user  rating_aver_for_film  film_variety  \\\n",
       "11818  star wars          3.937838                   4.0             4   \n",
       "11840      anime          3.985714                   3.5             4   \n",
       "11841     comedy          3.985714                   3.5             4   \n",
       "11842    gintama          3.985714                   3.5             4   \n",
       "11843   remaster          3.985714                   3.5             4   \n",
       "\n",
       "       title_film_views  tag 1  tag 2  tag 3  ...  genre 11  genre 12  \\\n",
       "11818                 2    0.0    0.0    0.0  ...       0.0       0.0   \n",
       "11840                 4    0.0    0.0    0.0  ...       0.0       0.0   \n",
       "11841                 4    0.0    0.0    0.0  ...       0.0       0.0   \n",
       "11842                 4    0.0    0.0    0.0  ...       0.0       0.0   \n",
       "11843                 4    0.0    0.0    0.0  ...       0.0       0.0   \n",
       "\n",
       "       genre 13  genre 14  genre 15  genre 16  genre 17  genre 18  genre 19  \\\n",
       "11818       0.0       0.0       0.0       0.0  0.444081       0.0       0.0   \n",
       "11840       0.0       0.0       0.0       0.0  0.477320       0.0       0.0   \n",
       "11841       0.0       0.0       0.0       0.0  0.477320       0.0       0.0   \n",
       "11842       0.0       0.0       0.0       0.0  0.477320       0.0       0.0   \n",
       "11843       0.0       0.0       0.0       0.0  0.477320       0.0       0.0   \n",
       "\n",
       "       genre 20  \n",
       "11818       0.0  \n",
       "11840       0.0  \n",
       "11841       0.0  \n",
       "11842       0.0  \n",
       "11843       0.0  \n",
       "\n",
       "[5 rows x 1739 columns]"
      ]
     },
     "execution_count": 51,
     "metadata": {},
     "output_type": "execute_result"
    }
   ],
   "source": [
    "X.tail()"
   ]
  },
  {
   "cell_type": "code",
   "execution_count": 53,
   "id": "c540ea74",
   "metadata": {},
   "outputs": [],
   "source": [
    "X = X.drop(columns=['title', 'genres','tag'])"
   ]
  },
  {
   "cell_type": "markdown",
   "id": "dc5d60b1",
   "metadata": {},
   "source": [
    "##### Моделирование"
   ]
  },
  {
   "cell_type": "code",
   "execution_count": 54,
   "id": "9681e706",
   "metadata": {},
   "outputs": [],
   "source": [
    "from sklearn.ensemble import GradientBoostingRegressor\n",
    "from sklearn.ensemble import RandomForestRegressor\n",
    "from sklearn.metrics import mean_squared_error\n",
    "from sklearn.model_selection import cross_validate"
   ]
  },
  {
   "cell_type": "code",
   "execution_count": 55,
   "id": "1cb25883",
   "metadata": {},
   "outputs": [
    {
     "data": {
      "text/html": [
       "<div>\n",
       "<style scoped>\n",
       "    .dataframe tbody tr th:only-of-type {\n",
       "        vertical-align: middle;\n",
       "    }\n",
       "\n",
       "    .dataframe tbody tr th {\n",
       "        vertical-align: top;\n",
       "    }\n",
       "\n",
       "    .dataframe thead th {\n",
       "        text-align: right;\n",
       "    }\n",
       "</style>\n",
       "<table border=\"1\" class=\"dataframe\">\n",
       "  <thead>\n",
       "    <tr style=\"text-align: right;\">\n",
       "      <th></th>\n",
       "      <th>rating_aver_user</th>\n",
       "      <th>rating_aver_for_film</th>\n",
       "      <th>film_variety</th>\n",
       "      <th>title_film_views</th>\n",
       "      <th>tag 1</th>\n",
       "      <th>tag 2</th>\n",
       "      <th>tag 3</th>\n",
       "      <th>tag 4</th>\n",
       "      <th>tag 5</th>\n",
       "      <th>tag 6</th>\n",
       "      <th>...</th>\n",
       "      <th>genre 11</th>\n",
       "      <th>genre 12</th>\n",
       "      <th>genre 13</th>\n",
       "      <th>genre 14</th>\n",
       "      <th>genre 15</th>\n",
       "      <th>genre 16</th>\n",
       "      <th>genre 17</th>\n",
       "      <th>genre 18</th>\n",
       "      <th>genre 19</th>\n",
       "      <th>genre 20</th>\n",
       "    </tr>\n",
       "  </thead>\n",
       "  <tbody>\n",
       "    <tr>\n",
       "      <th>0</th>\n",
       "      <td>3.777778</td>\n",
       "      <td>3.833333</td>\n",
       "      <td>5</td>\n",
       "      <td>3</td>\n",
       "      <td>0.0</td>\n",
       "      <td>0.0</td>\n",
       "      <td>0.0</td>\n",
       "      <td>0.0</td>\n",
       "      <td>0.0</td>\n",
       "      <td>0.0</td>\n",
       "      <td>...</td>\n",
       "      <td>0.0</td>\n",
       "      <td>0.0</td>\n",
       "      <td>0.0</td>\n",
       "      <td>0.0</td>\n",
       "      <td>0.0</td>\n",
       "      <td>0.0</td>\n",
       "      <td>0.0</td>\n",
       "      <td>0.0</td>\n",
       "      <td>0.0</td>\n",
       "      <td>0.0</td>\n",
       "    </tr>\n",
       "    <tr>\n",
       "      <th>1</th>\n",
       "      <td>3.701909</td>\n",
       "      <td>3.833333</td>\n",
       "      <td>5</td>\n",
       "      <td>3</td>\n",
       "      <td>0.0</td>\n",
       "      <td>0.0</td>\n",
       "      <td>0.0</td>\n",
       "      <td>0.0</td>\n",
       "      <td>0.0</td>\n",
       "      <td>0.0</td>\n",
       "      <td>...</td>\n",
       "      <td>0.0</td>\n",
       "      <td>0.0</td>\n",
       "      <td>0.0</td>\n",
       "      <td>0.0</td>\n",
       "      <td>0.0</td>\n",
       "      <td>0.0</td>\n",
       "      <td>0.0</td>\n",
       "      <td>0.0</td>\n",
       "      <td>0.0</td>\n",
       "      <td>0.0</td>\n",
       "    </tr>\n",
       "  </tbody>\n",
       "</table>\n",
       "<p>2 rows × 1736 columns</p>\n",
       "</div>"
      ],
      "text/plain": [
       "   rating_aver_user  rating_aver_for_film  film_variety  title_film_views  \\\n",
       "0          3.777778              3.833333             5                 3   \n",
       "1          3.701909              3.833333             5                 3   \n",
       "\n",
       "   tag 1  tag 2  tag 3  tag 4  tag 5  tag 6  ...  genre 11  genre 12  \\\n",
       "0    0.0    0.0    0.0    0.0    0.0    0.0  ...       0.0       0.0   \n",
       "1    0.0    0.0    0.0    0.0    0.0    0.0  ...       0.0       0.0   \n",
       "\n",
       "   genre 13  genre 14  genre 15  genre 16  genre 17  genre 18  genre 19  \\\n",
       "0       0.0       0.0       0.0       0.0       0.0       0.0       0.0   \n",
       "1       0.0       0.0       0.0       0.0       0.0       0.0       0.0   \n",
       "\n",
       "   genre 20  \n",
       "0       0.0  \n",
       "1       0.0  \n",
       "\n",
       "[2 rows x 1736 columns]"
      ]
     },
     "execution_count": 55,
     "metadata": {},
     "output_type": "execute_result"
    }
   ],
   "source": [
    "X.head(2)"
   ]
  },
  {
   "cell_type": "code",
   "execution_count": 56,
   "id": "8d0e1d21",
   "metadata": {},
   "outputs": [],
   "source": [
    "X_train, X_test, y_train, y_test = train_test_split(X, y, test_size=0.4, random_state = 42)"
   ]
  },
  {
   "cell_type": "markdown",
   "id": "1b10c902",
   "metadata": {},
   "source": [
    "## 1. GradientBoostingRegressor"
   ]
  },
  {
   "cell_type": "code",
   "execution_count": 57,
   "id": "39e5c794",
   "metadata": {},
   "outputs": [
    {
     "data": {
      "text/plain": [
       "GradientBoostingRegressor(random_state=42)"
      ]
     },
     "execution_count": 57,
     "metadata": {},
     "output_type": "execute_result"
    }
   ],
   "source": [
    "model_1 = GradientBoostingRegressor(random_state=42)\n",
    "model_1.fit(X_train, y_train)"
   ]
  },
  {
   "cell_type": "markdown",
   "id": "ce4e479a",
   "metadata": {},
   "source": [
    "### RMSE - GradientBoostingRegressor"
   ]
  },
  {
   "cell_type": "code",
   "execution_count": 58,
   "id": "a142749e",
   "metadata": {},
   "outputs": [
    {
     "data": {
      "text/plain": [
       "0.08383953916656181"
      ]
     },
     "execution_count": 58,
     "metadata": {},
     "output_type": "execute_result"
    }
   ],
   "source": [
    "y_predict_1 = model_1.predict(X_test)\n",
    "mean_squared_error(y_test, y_predict_1)"
   ]
  },
  {
   "cell_type": "code",
   "execution_count": 59,
   "id": "1e3b4d55",
   "metadata": {},
   "outputs": [
    {
     "data": {
      "text/plain": [
       "{'fit_time': array([5.80596542, 5.50213838, 5.58458924, 5.80197215, 5.84470844]),\n",
       " 'score_time': array([0.02100086, 0.02190924, 0.02639079, 0.02015877, 0.02200174]),\n",
       " 'test_score': array([-0.10175886, -0.032761  , -0.04651901, -0.0549835 , -0.1031351 ])}"
      ]
     },
     "execution_count": 59,
     "metadata": {},
     "output_type": "execute_result"
    }
   ],
   "source": [
    "cross_validate(model_1, X, y, scoring='neg_mean_squared_error', cv=5)"
   ]
  },
  {
   "cell_type": "markdown",
   "id": "fe86f925",
   "metadata": {},
   "source": [
    "## 2. RandomForestRegressor"
   ]
  },
  {
   "cell_type": "code",
   "execution_count": 60,
   "id": "8afb25fb",
   "metadata": {},
   "outputs": [
    {
     "data": {
      "text/plain": [
       "RandomForestRegressor(max_depth=2, random_state=42)"
      ]
     },
     "execution_count": 60,
     "metadata": {},
     "output_type": "execute_result"
    }
   ],
   "source": [
    "model_2 = RandomForestRegressor(max_depth=2, random_state=42)\n",
    "model_2.fit(X_train, y_train)"
   ]
  },
  {
   "cell_type": "markdown",
   "id": "a7e85a63",
   "metadata": {},
   "source": [
    "### RMSE - RandomForestRegressor"
   ]
  },
  {
   "cell_type": "code",
   "execution_count": 61,
   "id": "1a842840",
   "metadata": {},
   "outputs": [
    {
     "data": {
      "text/plain": [
       "0.10848580764397799"
      ]
     },
     "execution_count": 61,
     "metadata": {},
     "output_type": "execute_result"
    }
   ],
   "source": [
    "y_predict_2 = model_2.predict(X_test)\n",
    "mean_squared_error(y_test, y_predict_2)"
   ]
  },
  {
   "cell_type": "code",
   "execution_count": 62,
   "id": "aef0eef0",
   "metadata": {},
   "outputs": [
    {
     "data": {
      "text/plain": [
       "{'fit_time': array([2.61647415, 2.73436666, 2.71688175, 2.7201786 , 2.67285657]),\n",
       " 'score_time': array([0.027004  , 0.02599931, 0.02748585, 0.02976131, 0.02014351]),\n",
       " 'test_score': array([-0.16177773, -0.07202295, -0.07623876, -0.08401031, -0.14406557])}"
      ]
     },
     "execution_count": 62,
     "metadata": {},
     "output_type": "execute_result"
    }
   ],
   "source": [
    "cross_validate(model_2, X, y, scoring='neg_mean_squared_error', cv=5)"
   ]
  },
  {
   "cell_type": "markdown",
   "id": "57259514",
   "metadata": {},
   "source": [
    "## Итог"
   ]
  },
  {
   "cell_type": "markdown",
   "id": "b1c8974f",
   "metadata": {},
   "source": [
    "RMSE = 0.083 - лучше всего себя показала модель GradientBoostingRegressor"
   ]
  }
 ],
 "metadata": {
  "kernelspec": {
   "display_name": "Python 3 (ipykernel)",
   "language": "python",
   "name": "python3"
  },
  "language_info": {
   "codemirror_mode": {
    "name": "ipython",
    "version": 3
   },
   "file_extension": ".py",
   "mimetype": "text/x-python",
   "name": "python",
   "nbconvert_exporter": "python",
   "pygments_lexer": "ipython3",
   "version": "3.9.7"
  }
 },
 "nbformat": 4,
 "nbformat_minor": 5
}
