{
 "cells": [
  {
   "cell_type": "markdown",
   "metadata": {
    "id": "JQ8hh7Gy6mtY"
   },
   "source": [
    "# 1. Понимание бизнеса\n",
    "\n",
    "## 1.1 Цель\n",
    "\n",
    "Смоделировать предпочтения вин путём извлечения данных из физико-химических свойств (как задачу классификации)\n",
    "\n",
    "## 1.2 Исходные данные\n",
    "\n",
    "Есть два набора данных красного и белого португальского вина \"Vinho Verde\". \n",
    "\n",
    "Из-за проблем конфиденциальности и логистики даны только физико-химические(исходные) и сенсорные (выходные) переменные (например, нет данных о сортах винограда, марке вина, цене вина для продажи и т.д.).\n",
    "\n",
    "Эти наборы данных можно рассматривать как задачу классификации или регрессии.\n",
    "\n",
    "Классы упорядочены и сбалансированы (например, нормально, что хороших вин больше, чем дешёвых). Алгоритмы обнаружения выбросов могут быть использованы для обнаружения нескольких хороших или дешёвых вин. Также не понятно, все ли входные переменные актуальны. Так что было бы интересно протестировать методы отбора признаков.\n",
    "\n",
    "Два набора данных были объединены с удалением некоторого количества данных случайным образом.\n",
    "\n",
    "[Ссылка на Kaggle](https://www.kaggle.com/rajyellow46/wine-quality)"
   ]
  },
  {
   "cell_type": "markdown",
   "metadata": {
    "id": "kRRJ-N03VXR_"
   },
   "source": [
    "# 2. Data Understanding\n",
    "\n",
    "## 2.1 Import Libraries\n"
   ]
  },
  {
   "cell_type": "code",
   "execution_count": null,
   "metadata": {
    "id": "lkTGed4qVoJl"
   },
   "outputs": [],
   "source": [
    "# Ignore warnings\n",
    "import warnings\n",
    "warnings.filterwarnings('ignore')\n",
    "\n",
    "# Handle table-like data and matrices\n",
    "import pandas as pd\n",
    "import numpy as np\n",
    "\n",
    "# Modelling algorithms of classification\n",
    "from sklearn.tree import DecisionTreeClassifier\n",
    "from sklearn.linear_model import LogisticRegression\n",
    "from sklearn.neighbors import KNeighborsClassifier\n",
    "from sklearn.naive_bayes import GaussianNB\n",
    "from sklearn.svm import SVC, LinearSVC\n",
    "from sklearn.ensemble import RandomForestClassifier , GradientBoostingClassifier\n",
    "\n",
    "# Modelling Helpers\n",
    "from sklearn.impute import SimpleImputer as Imputer # - заполнение пропусков путём выбора определённой стратегии\n",
    "from sklearn.preprocessing import Normalizer, scale # нормализация l2, l1 данных и масштабирование\n",
    "from sklearn.model_selection import train_test_split, StratifiedKFold\n",
    "from sklearn.feature_selection import RFECV # - Рекурсивное исключение функций с перекрестной проверкой для выбора количества признаков.\n",
    "\n",
    "# Visualisation\n",
    "import matplotlib as mpl\n",
    "import matplotlib.pyplot as plt\n",
    "import matplotlib.pylab as pylab\n",
    "import seaborn as sns\n",
    "\n",
    "# Configuration visualisations\n",
    "%matplotlib inline\n",
    "mpl.style.use( 'ggplot' )\n",
    "sns.set_style( 'white' )\n",
    "pylab.rcParams[ 'figure.figsize' ] = 8 , 6"
   ]
  },
  {
   "cell_type": "markdown",
   "metadata": {
    "id": "ZoE9co9OVoTv"
   },
   "source": [
    "## 2.2 Вспомогательные функции"
   ]
  },
  {
   "cell_type": "code",
   "execution_count": null,
   "metadata": {
    "id": "TQLcbSSZVppn"
   },
   "outputs": [],
   "source": [
    "def plot_histograms( df , variables , n_rows , n_cols ):\n",
    "  '''\n",
    "  Построение гистограммы при получении на вход данных.\n",
    "  '''\n",
    "  fig = plt.figure( figsize = ( 16 , 12 ) )\n",
    "  for i, var_name in enumerate( variables ):\n",
    "        ax=fig.add_subplot( n_rows , n_cols , i+1 )\n",
    "        df[ var_name ].hist( bins=10 , ax=ax )\n",
    "        ax.set_title( 'Skew: ' + str( round( float( df[ var_name ].skew() ) , ) ) ) # + ' ' + var_name ) #var_name+\" Distribution\")\n",
    "        ax.set_xticklabels( [] , visible=False )\n",
    "        ax.set_yticklabels( [] , visible=False )\n",
    "  fig.tight_layout()  # Improves appearance a bit.\n",
    "  plt.show()\n",
    "\n",
    "def plot_distribution( df , var , target , **kwargs ):\n",
    "  '''Построение распределения при получении на вход данных, переменных, целевой переменной'''\n",
    "  row = kwargs.get( 'row' , None )\n",
    "  col = kwargs.get( 'col' , None )\n",
    "  facet = sns.FacetGrid( df , hue=target , aspect=4 , row = row , col = col )\n",
    "  facet.map( sns.kdeplot , var , shade= True )\n",
    "  facet.set( xlim=( 0 , df[ var ].max() ) )\n",
    "  facet.add_legend()\n",
    "\n",
    "\n",
    "# Построение распределения по категориальным переменным при получении на вход данных, переменных, целевой переменной\n",
    "def plot_categories( df , cat , target , **kwargs ):\n",
    "   row = kwargs.get( 'row' , None )\n",
    "   col = kwargs.get( 'col' , None )\n",
    "   facet = sns.FacetGrid( df , row = row , col = col )\n",
    "   facet.map( sns.barplot , cat , target )\n",
    "   facet.add_legend()\n",
    "\n",
    "# Построение тепловой карты корреляции  при получении на вход датасета\n",
    "def plot_correlation_map( df ):\n",
    "  corr = wines.corr()\n",
    "  _ , ax = plt.subplots( figsize =( 12 , 10 ) )\n",
    "  cmap = sns.diverging_palette( 220 , 10 , as_cmap = True )\n",
    "  _ = sns.heatmap(\n",
    "      corr, \n",
    "      cmap = cmap,\n",
    "      square=True, \n",
    "      cbar_kws={ 'shrink' : .9 }, \n",
    "      ax=ax, \n",
    "      annot = True, \n",
    "      annot_kws = { 'fontsize' : 12 }\n",
    "    )\n",
    "  \n",
    "# Построение датафрейма с типом переменных и их разнообразием с сортировкой\n",
    "def describe_more( df ):\n",
    "    var = [] ; l = [] ; t = []\n",
    "    for x in df:\n",
    "        var.append( x )\n",
    "        l.append( len( pd.value_counts( df[ x ] ) ) )\n",
    "        t.append( df[ x ].dtypes )\n",
    "    levels = pd.DataFrame( { 'Variable' : var , 'Levels' : l , 'Datatype' : t } )\n",
    "    levels.sort_values( by = 'Levels' , inplace = True )\n",
    "    return levels\n",
    "\n",
    "def plot_variable_importance( X , y ):\n",
    "    tree = DecisionTreeClassifier( random_state = 99 )\n",
    "    tree.fit( X , y )\n",
    "    plot_model_var_imp( tree , X , y )\n",
    "    \n",
    "def plot_model_var_imp( model , X , y ):\n",
    "    imp = pd.DataFrame( \n",
    "        model.feature_importances_  , \n",
    "        columns = [ 'Importance' ] , \n",
    "        index = X.columns \n",
    "    )\n",
    "    imp = imp.sort_values( [ 'Importance' ] , ascending = True )\n",
    "    imp[ : 10 ].plot( kind = 'barh' )\n",
    "    print (model.score( X , y ))\n",
    "    "
   ]
  },
  {
   "cell_type": "markdown",
   "metadata": {
    "id": "fnGI1KS1Vpww"
   },
   "source": [
    "## 2.3 Загрузка данных"
   ]
  },
  {
   "cell_type": "code",
   "execution_count": null,
   "metadata": {
    "colab": {
     "base_uri": "https://localhost:8080/"
    },
    "id": "Hx3MC_bBVsrf",
    "outputId": "53cf9497-bd6e-4344-8b20-a6137f7bbbd8"
   },
   "outputs": [
    {
     "name": "stdout",
     "output_type": "stream",
     "text": [
      "Dataset: wines: (6497, 13)\n"
     ]
    }
   ],
   "source": [
    "wines = pd.read_csv('winequalityN.csv')\n",
    "print ('Dataset: '  'wines:' , wines.shape)"
   ]
  },
  {
   "cell_type": "markdown",
   "metadata": {
    "id": "PiXiSVL0VtBX"
   },
   "source": [
    "## 2.4 Статистика и визуализация"
   ]
  },
  {
   "cell_type": "code",
   "execution_count": null,
   "metadata": {
    "colab": {
     "base_uri": "https://localhost:8080/",
     "height": 204
    },
    "id": "r0zguWNGVyAH",
    "outputId": "f50b06f5-dab9-4a33-be43-296eefb36a08"
   },
   "outputs": [
    {
     "data": {
      "text/html": [
       "<div>\n",
       "<style scoped>\n",
       "    .dataframe tbody tr th:only-of-type {\n",
       "        vertical-align: middle;\n",
       "    }\n",
       "\n",
       "    .dataframe tbody tr th {\n",
       "        vertical-align: top;\n",
       "    }\n",
       "\n",
       "    .dataframe thead th {\n",
       "        text-align: right;\n",
       "    }\n",
       "</style>\n",
       "<table border=\"1\" class=\"dataframe\">\n",
       "  <thead>\n",
       "    <tr style=\"text-align: right;\">\n",
       "      <th></th>\n",
       "      <th>type</th>\n",
       "      <th>fixed acidity</th>\n",
       "      <th>volatile acidity</th>\n",
       "      <th>citric acid</th>\n",
       "      <th>residual sugar</th>\n",
       "      <th>chlorides</th>\n",
       "      <th>free sulfur dioxide</th>\n",
       "      <th>total sulfur dioxide</th>\n",
       "      <th>density</th>\n",
       "      <th>pH</th>\n",
       "      <th>sulphates</th>\n",
       "      <th>alcohol</th>\n",
       "      <th>quality</th>\n",
       "    </tr>\n",
       "  </thead>\n",
       "  <tbody>\n",
       "    <tr>\n",
       "      <th>0</th>\n",
       "      <td>white</td>\n",
       "      <td>7.0</td>\n",
       "      <td>0.27</td>\n",
       "      <td>0.36</td>\n",
       "      <td>20.7</td>\n",
       "      <td>0.045</td>\n",
       "      <td>45.0</td>\n",
       "      <td>170.0</td>\n",
       "      <td>1.0010</td>\n",
       "      <td>3.00</td>\n",
       "      <td>0.45</td>\n",
       "      <td>8.8</td>\n",
       "      <td>6</td>\n",
       "    </tr>\n",
       "    <tr>\n",
       "      <th>1</th>\n",
       "      <td>white</td>\n",
       "      <td>6.3</td>\n",
       "      <td>0.30</td>\n",
       "      <td>0.34</td>\n",
       "      <td>1.6</td>\n",
       "      <td>0.049</td>\n",
       "      <td>14.0</td>\n",
       "      <td>132.0</td>\n",
       "      <td>0.9940</td>\n",
       "      <td>3.30</td>\n",
       "      <td>0.49</td>\n",
       "      <td>9.5</td>\n",
       "      <td>6</td>\n",
       "    </tr>\n",
       "    <tr>\n",
       "      <th>2</th>\n",
       "      <td>white</td>\n",
       "      <td>8.1</td>\n",
       "      <td>0.28</td>\n",
       "      <td>0.40</td>\n",
       "      <td>6.9</td>\n",
       "      <td>0.050</td>\n",
       "      <td>30.0</td>\n",
       "      <td>97.0</td>\n",
       "      <td>0.9951</td>\n",
       "      <td>3.26</td>\n",
       "      <td>0.44</td>\n",
       "      <td>10.1</td>\n",
       "      <td>6</td>\n",
       "    </tr>\n",
       "    <tr>\n",
       "      <th>3</th>\n",
       "      <td>white</td>\n",
       "      <td>7.2</td>\n",
       "      <td>0.23</td>\n",
       "      <td>0.32</td>\n",
       "      <td>8.5</td>\n",
       "      <td>0.058</td>\n",
       "      <td>47.0</td>\n",
       "      <td>186.0</td>\n",
       "      <td>0.9956</td>\n",
       "      <td>3.19</td>\n",
       "      <td>0.40</td>\n",
       "      <td>9.9</td>\n",
       "      <td>6</td>\n",
       "    </tr>\n",
       "    <tr>\n",
       "      <th>4</th>\n",
       "      <td>white</td>\n",
       "      <td>7.2</td>\n",
       "      <td>0.23</td>\n",
       "      <td>0.32</td>\n",
       "      <td>8.5</td>\n",
       "      <td>0.058</td>\n",
       "      <td>47.0</td>\n",
       "      <td>186.0</td>\n",
       "      <td>0.9956</td>\n",
       "      <td>3.19</td>\n",
       "      <td>0.40</td>\n",
       "      <td>9.9</td>\n",
       "      <td>6</td>\n",
       "    </tr>\n",
       "  </tbody>\n",
       "</table>\n",
       "</div>"
      ],
      "text/plain": [
       "    type  fixed acidity  volatile acidity  ...  sulphates  alcohol  quality\n",
       "0  white            7.0              0.27  ...       0.45      8.8        6\n",
       "1  white            6.3              0.30  ...       0.49      9.5        6\n",
       "2  white            8.1              0.28  ...       0.44     10.1        6\n",
       "3  white            7.2              0.23  ...       0.40      9.9        6\n",
       "4  white            7.2              0.23  ...       0.40      9.9        6\n",
       "\n",
       "[5 rows x 13 columns]"
      ]
     },
     "execution_count": 4,
     "metadata": {},
     "output_type": "execute_result"
    }
   ],
   "source": [
    "wines.head()"
   ]
  },
  {
   "cell_type": "code",
   "execution_count": null,
   "metadata": {
    "colab": {
     "base_uri": "https://localhost:8080/",
     "height": 204
    },
    "id": "f8ro6ucLeVjG",
    "outputId": "fa81313c-28f4-4e0e-d668-2187d35b71f2"
   },
   "outputs": [
    {
     "data": {
      "text/html": [
       "<div>\n",
       "<style scoped>\n",
       "    .dataframe tbody tr th:only-of-type {\n",
       "        vertical-align: middle;\n",
       "    }\n",
       "\n",
       "    .dataframe tbody tr th {\n",
       "        vertical-align: top;\n",
       "    }\n",
       "\n",
       "    .dataframe thead th {\n",
       "        text-align: right;\n",
       "    }\n",
       "</style>\n",
       "<table border=\"1\" class=\"dataframe\">\n",
       "  <thead>\n",
       "    <tr style=\"text-align: right;\">\n",
       "      <th></th>\n",
       "      <th>type</th>\n",
       "      <th>fixed acidity</th>\n",
       "      <th>volatile acidity</th>\n",
       "      <th>citric acid</th>\n",
       "      <th>residual sugar</th>\n",
       "      <th>chlorides</th>\n",
       "      <th>free sulfur dioxide</th>\n",
       "      <th>total sulfur dioxide</th>\n",
       "      <th>density</th>\n",
       "      <th>pH</th>\n",
       "      <th>sulphates</th>\n",
       "      <th>alcohol</th>\n",
       "      <th>quality</th>\n",
       "    </tr>\n",
       "  </thead>\n",
       "  <tbody>\n",
       "    <tr>\n",
       "      <th>6492</th>\n",
       "      <td>red</td>\n",
       "      <td>6.2</td>\n",
       "      <td>0.600</td>\n",
       "      <td>0.08</td>\n",
       "      <td>2.0</td>\n",
       "      <td>0.090</td>\n",
       "      <td>32.0</td>\n",
       "      <td>44.0</td>\n",
       "      <td>0.99490</td>\n",
       "      <td>3.45</td>\n",
       "      <td>0.58</td>\n",
       "      <td>10.5</td>\n",
       "      <td>5</td>\n",
       "    </tr>\n",
       "    <tr>\n",
       "      <th>6493</th>\n",
       "      <td>red</td>\n",
       "      <td>5.9</td>\n",
       "      <td>0.550</td>\n",
       "      <td>0.10</td>\n",
       "      <td>2.2</td>\n",
       "      <td>0.062</td>\n",
       "      <td>39.0</td>\n",
       "      <td>51.0</td>\n",
       "      <td>0.99512</td>\n",
       "      <td>3.52</td>\n",
       "      <td>NaN</td>\n",
       "      <td>11.2</td>\n",
       "      <td>6</td>\n",
       "    </tr>\n",
       "    <tr>\n",
       "      <th>6494</th>\n",
       "      <td>red</td>\n",
       "      <td>6.3</td>\n",
       "      <td>0.510</td>\n",
       "      <td>0.13</td>\n",
       "      <td>2.3</td>\n",
       "      <td>0.076</td>\n",
       "      <td>29.0</td>\n",
       "      <td>40.0</td>\n",
       "      <td>0.99574</td>\n",
       "      <td>3.42</td>\n",
       "      <td>0.75</td>\n",
       "      <td>11.0</td>\n",
       "      <td>6</td>\n",
       "    </tr>\n",
       "    <tr>\n",
       "      <th>6495</th>\n",
       "      <td>red</td>\n",
       "      <td>5.9</td>\n",
       "      <td>0.645</td>\n",
       "      <td>0.12</td>\n",
       "      <td>2.0</td>\n",
       "      <td>0.075</td>\n",
       "      <td>32.0</td>\n",
       "      <td>44.0</td>\n",
       "      <td>0.99547</td>\n",
       "      <td>3.57</td>\n",
       "      <td>0.71</td>\n",
       "      <td>10.2</td>\n",
       "      <td>5</td>\n",
       "    </tr>\n",
       "    <tr>\n",
       "      <th>6496</th>\n",
       "      <td>red</td>\n",
       "      <td>6.0</td>\n",
       "      <td>0.310</td>\n",
       "      <td>0.47</td>\n",
       "      <td>3.6</td>\n",
       "      <td>0.067</td>\n",
       "      <td>18.0</td>\n",
       "      <td>42.0</td>\n",
       "      <td>0.99549</td>\n",
       "      <td>3.39</td>\n",
       "      <td>0.66</td>\n",
       "      <td>11.0</td>\n",
       "      <td>6</td>\n",
       "    </tr>\n",
       "  </tbody>\n",
       "</table>\n",
       "</div>"
      ],
      "text/plain": [
       "     type  fixed acidity  volatile acidity  ...  sulphates  alcohol  quality\n",
       "6492  red            6.2             0.600  ...       0.58     10.5        5\n",
       "6493  red            5.9             0.550  ...        NaN     11.2        6\n",
       "6494  red            6.3             0.510  ...       0.75     11.0        6\n",
       "6495  red            5.9             0.645  ...       0.71     10.2        5\n",
       "6496  red            6.0             0.310  ...       0.66     11.0        6\n",
       "\n",
       "[5 rows x 13 columns]"
      ]
     },
     "execution_count": 5,
     "metadata": {},
     "output_type": "execute_result"
    }
   ],
   "source": [
    "wines.tail()"
   ]
  },
  {
   "cell_type": "markdown",
   "metadata": {
    "id": "mCiYUId6eHZm"
   },
   "source": [
    "Информация о признаках:\n",
    "\n",
    "  Признаковое пространство на входе (на основе физико-химических тестов):\n",
    "  \n",
    "  1.  fixed acidity (фиксированная кислотность)\n",
    "  2.  volatile acidity (летучая кислотность)\n",
    "  3.  citric acid (лимонная кислота)\n",
    "  4.  residual sugar (остаточный сахар)\n",
    "  5.  chlorides (хлориды)\n",
    "  6.  free sulfur dioxide (свободный диоксид серы)\n",
    "  7.  total sulfur dioxide (диоксид серы общий)\n",
    "  8.  density (плотность)\n",
    "  9.  pH\n",
    "  10.  sulphates (сульфаты)\n",
    "  11.  alcohol (алкоголь)\n",
    "\n",
    "  Выходная переменная (целевая):\n",
    "\n",
    "  12. quality (score between 0 and 10) (качество)\n",
    "\n",
    "  [Ссылка на Kaggle](https://www.kaggle.com/rajyellow46/wine-quality)"
   ]
  },
  {
   "cell_type": "markdown",
   "metadata": {
    "id": "NF2gXM_qVyFf"
   },
   "source": [
    "### 2.4.1 Ключевая информация о переменных"
   ]
  },
  {
   "cell_type": "code",
   "execution_count": null,
   "metadata": {
    "colab": {
     "base_uri": "https://localhost:8080/"
    },
    "id": "9mVzkQvoPuZI",
    "outputId": "50911cf4-5df2-4925-f09b-d0e4b4d33bee"
   },
   "outputs": [
    {
     "name": "stdout",
     "output_type": "stream",
     "text": [
      "<class 'pandas.core.frame.DataFrame'>\n",
      "RangeIndex: 6497 entries, 0 to 6496\n",
      "Data columns (total 13 columns):\n",
      " #   Column                Non-Null Count  Dtype  \n",
      "---  ------                --------------  -----  \n",
      " 0   type                  6497 non-null   object \n",
      " 1   fixed acidity         6487 non-null   float64\n",
      " 2   volatile acidity      6489 non-null   float64\n",
      " 3   citric acid           6494 non-null   float64\n",
      " 4   residual sugar        6495 non-null   float64\n",
      " 5   chlorides             6495 non-null   float64\n",
      " 6   free sulfur dioxide   6497 non-null   float64\n",
      " 7   total sulfur dioxide  6497 non-null   float64\n",
      " 8   density               6497 non-null   float64\n",
      " 9   pH                    6488 non-null   float64\n",
      " 10  sulphates             6493 non-null   float64\n",
      " 11  alcohol               6497 non-null   float64\n",
      " 12  quality               6497 non-null   int64  \n",
      "dtypes: float64(11), int64(1), object(1)\n",
      "memory usage: 660.0+ KB\n"
     ]
    }
   ],
   "source": [
    "wines.info()"
   ]
  },
  {
   "cell_type": "markdown",
   "metadata": {
    "id": "3AMHCo1Db6eY"
   },
   "source": [
    "Можно обратить внимание на то, что в датасете есть пропуски, общее число элементов 6497, а также из категориальных переменных только type вина, который в дальнейшем можно просто заменить на 1 и 0, все остальные признаки это числовые переменные. Признаки пропуски которых надо в дальнейшем заполнить это  ixed acidity, volatile acidity, itric acid, residual sugar, chlorides, pH, sulphates"
   ]
  },
  {
   "cell_type": "code",
   "execution_count": null,
   "metadata": {
    "colab": {
     "base_uri": "https://localhost:8080/",
     "height": 297
    },
    "id": "gb83RISZV5Ro",
    "outputId": "9762ac30-6e6a-44c6-f9f9-6c03b36c8ff8"
   },
   "outputs": [
    {
     "data": {
      "text/html": [
       "<div>\n",
       "<style scoped>\n",
       "    .dataframe tbody tr th:only-of-type {\n",
       "        vertical-align: middle;\n",
       "    }\n",
       "\n",
       "    .dataframe tbody tr th {\n",
       "        vertical-align: top;\n",
       "    }\n",
       "\n",
       "    .dataframe thead th {\n",
       "        text-align: right;\n",
       "    }\n",
       "</style>\n",
       "<table border=\"1\" class=\"dataframe\">\n",
       "  <thead>\n",
       "    <tr style=\"text-align: right;\">\n",
       "      <th></th>\n",
       "      <th>fixed acidity</th>\n",
       "      <th>volatile acidity</th>\n",
       "      <th>citric acid</th>\n",
       "      <th>residual sugar</th>\n",
       "      <th>chlorides</th>\n",
       "      <th>free sulfur dioxide</th>\n",
       "      <th>total sulfur dioxide</th>\n",
       "      <th>density</th>\n",
       "      <th>pH</th>\n",
       "      <th>sulphates</th>\n",
       "      <th>alcohol</th>\n",
       "      <th>quality</th>\n",
       "    </tr>\n",
       "  </thead>\n",
       "  <tbody>\n",
       "    <tr>\n",
       "      <th>count</th>\n",
       "      <td>6487.000000</td>\n",
       "      <td>6489.000000</td>\n",
       "      <td>6494.000000</td>\n",
       "      <td>6495.000000</td>\n",
       "      <td>6495.000000</td>\n",
       "      <td>6497.000000</td>\n",
       "      <td>6497.000000</td>\n",
       "      <td>6497.000000</td>\n",
       "      <td>6488.000000</td>\n",
       "      <td>6493.000000</td>\n",
       "      <td>6497.000000</td>\n",
       "      <td>6497.000000</td>\n",
       "    </tr>\n",
       "    <tr>\n",
       "      <th>mean</th>\n",
       "      <td>7.216579</td>\n",
       "      <td>0.339691</td>\n",
       "      <td>0.318722</td>\n",
       "      <td>5.444326</td>\n",
       "      <td>0.056042</td>\n",
       "      <td>30.525319</td>\n",
       "      <td>115.744574</td>\n",
       "      <td>0.994697</td>\n",
       "      <td>3.218395</td>\n",
       "      <td>0.531215</td>\n",
       "      <td>10.491801</td>\n",
       "      <td>5.818378</td>\n",
       "    </tr>\n",
       "    <tr>\n",
       "      <th>std</th>\n",
       "      <td>1.296750</td>\n",
       "      <td>0.164649</td>\n",
       "      <td>0.145265</td>\n",
       "      <td>4.758125</td>\n",
       "      <td>0.035036</td>\n",
       "      <td>17.749400</td>\n",
       "      <td>56.521855</td>\n",
       "      <td>0.002999</td>\n",
       "      <td>0.160748</td>\n",
       "      <td>0.148814</td>\n",
       "      <td>1.192712</td>\n",
       "      <td>0.873255</td>\n",
       "    </tr>\n",
       "    <tr>\n",
       "      <th>min</th>\n",
       "      <td>3.800000</td>\n",
       "      <td>0.080000</td>\n",
       "      <td>0.000000</td>\n",
       "      <td>0.600000</td>\n",
       "      <td>0.009000</td>\n",
       "      <td>1.000000</td>\n",
       "      <td>6.000000</td>\n",
       "      <td>0.987110</td>\n",
       "      <td>2.720000</td>\n",
       "      <td>0.220000</td>\n",
       "      <td>8.000000</td>\n",
       "      <td>3.000000</td>\n",
       "    </tr>\n",
       "    <tr>\n",
       "      <th>25%</th>\n",
       "      <td>6.400000</td>\n",
       "      <td>0.230000</td>\n",
       "      <td>0.250000</td>\n",
       "      <td>1.800000</td>\n",
       "      <td>0.038000</td>\n",
       "      <td>17.000000</td>\n",
       "      <td>77.000000</td>\n",
       "      <td>0.992340</td>\n",
       "      <td>3.110000</td>\n",
       "      <td>0.430000</td>\n",
       "      <td>9.500000</td>\n",
       "      <td>5.000000</td>\n",
       "    </tr>\n",
       "    <tr>\n",
       "      <th>50%</th>\n",
       "      <td>7.000000</td>\n",
       "      <td>0.290000</td>\n",
       "      <td>0.310000</td>\n",
       "      <td>3.000000</td>\n",
       "      <td>0.047000</td>\n",
       "      <td>29.000000</td>\n",
       "      <td>118.000000</td>\n",
       "      <td>0.994890</td>\n",
       "      <td>3.210000</td>\n",
       "      <td>0.510000</td>\n",
       "      <td>10.300000</td>\n",
       "      <td>6.000000</td>\n",
       "    </tr>\n",
       "    <tr>\n",
       "      <th>75%</th>\n",
       "      <td>7.700000</td>\n",
       "      <td>0.400000</td>\n",
       "      <td>0.390000</td>\n",
       "      <td>8.100000</td>\n",
       "      <td>0.065000</td>\n",
       "      <td>41.000000</td>\n",
       "      <td>156.000000</td>\n",
       "      <td>0.996990</td>\n",
       "      <td>3.320000</td>\n",
       "      <td>0.600000</td>\n",
       "      <td>11.300000</td>\n",
       "      <td>6.000000</td>\n",
       "    </tr>\n",
       "    <tr>\n",
       "      <th>max</th>\n",
       "      <td>15.900000</td>\n",
       "      <td>1.580000</td>\n",
       "      <td>1.660000</td>\n",
       "      <td>65.800000</td>\n",
       "      <td>0.611000</td>\n",
       "      <td>289.000000</td>\n",
       "      <td>440.000000</td>\n",
       "      <td>1.038980</td>\n",
       "      <td>4.010000</td>\n",
       "      <td>2.000000</td>\n",
       "      <td>14.900000</td>\n",
       "      <td>9.000000</td>\n",
       "    </tr>\n",
       "  </tbody>\n",
       "</table>\n",
       "</div>"
      ],
      "text/plain": [
       "       fixed acidity  volatile acidity  ...      alcohol      quality\n",
       "count    6487.000000       6489.000000  ...  6497.000000  6497.000000\n",
       "mean        7.216579          0.339691  ...    10.491801     5.818378\n",
       "std         1.296750          0.164649  ...     1.192712     0.873255\n",
       "min         3.800000          0.080000  ...     8.000000     3.000000\n",
       "25%         6.400000          0.230000  ...     9.500000     5.000000\n",
       "50%         7.000000          0.290000  ...    10.300000     6.000000\n",
       "75%         7.700000          0.400000  ...    11.300000     6.000000\n",
       "max        15.900000          1.580000  ...    14.900000     9.000000\n",
       "\n",
       "[8 rows x 12 columns]"
      ]
     },
     "execution_count": 7,
     "metadata": {},
     "output_type": "execute_result"
    }
   ],
   "source": [
    "wines.describe()"
   ]
  },
  {
   "cell_type": "code",
   "execution_count": null,
   "metadata": {
    "colab": {
     "base_uri": "https://localhost:8080/"
    },
    "id": "Z1E1l6Gh7MI5",
    "outputId": "0a78ee67-042a-4947-dd3b-1d5166faba19"
   },
   "outputs": [
    {
     "data": {
      "text/plain": [
       "(4898, 13)"
      ]
     },
     "execution_count": 8,
     "metadata": {},
     "output_type": "execute_result"
    }
   ],
   "source": [
    "wines[wines['type'] == 'white'].shape"
   ]
  },
  {
   "cell_type": "code",
   "execution_count": null,
   "metadata": {
    "colab": {
     "base_uri": "https://localhost:8080/"
    },
    "id": "VdnP8LMI8Tfy",
    "outputId": "870c2f8c-13f5-4b23-d131-7c162e637b75"
   },
   "outputs": [
    {
     "data": {
      "text/plain": [
       "(1599, 13)"
      ]
     },
     "execution_count": 9,
     "metadata": {},
     "output_type": "execute_result"
    }
   ],
   "source": [
    "wines[wines['type'] == 'red'].shape"
   ]
  },
  {
   "cell_type": "code",
   "execution_count": null,
   "metadata": {
    "colab": {
     "base_uri": "https://localhost:8080/",
     "height": 452
    },
    "id": "zIVVIyw_PQcj",
    "outputId": "0f0e446c-5595-4072-84e1-27d73621e45e"
   },
   "outputs": [
    {
     "data": {
      "text/html": [
       "<div>\n",
       "<style scoped>\n",
       "    .dataframe tbody tr th:only-of-type {\n",
       "        vertical-align: middle;\n",
       "    }\n",
       "\n",
       "    .dataframe tbody tr th {\n",
       "        vertical-align: top;\n",
       "    }\n",
       "\n",
       "    .dataframe thead th {\n",
       "        text-align: right;\n",
       "    }\n",
       "</style>\n",
       "<table border=\"1\" class=\"dataframe\">\n",
       "  <thead>\n",
       "    <tr style=\"text-align: right;\">\n",
       "      <th></th>\n",
       "      <th>Variable</th>\n",
       "      <th>Levels</th>\n",
       "      <th>Datatype</th>\n",
       "    </tr>\n",
       "  </thead>\n",
       "  <tbody>\n",
       "    <tr>\n",
       "      <th>0</th>\n",
       "      <td>type</td>\n",
       "      <td>2</td>\n",
       "      <td>object</td>\n",
       "    </tr>\n",
       "    <tr>\n",
       "      <th>12</th>\n",
       "      <td>quality</td>\n",
       "      <td>7</td>\n",
       "      <td>int64</td>\n",
       "    </tr>\n",
       "    <tr>\n",
       "      <th>3</th>\n",
       "      <td>citric acid</td>\n",
       "      <td>89</td>\n",
       "      <td>float64</td>\n",
       "    </tr>\n",
       "    <tr>\n",
       "      <th>1</th>\n",
       "      <td>fixed acidity</td>\n",
       "      <td>106</td>\n",
       "      <td>float64</td>\n",
       "    </tr>\n",
       "    <tr>\n",
       "      <th>9</th>\n",
       "      <td>pH</td>\n",
       "      <td>108</td>\n",
       "      <td>float64</td>\n",
       "    </tr>\n",
       "    <tr>\n",
       "      <th>10</th>\n",
       "      <td>sulphates</td>\n",
       "      <td>111</td>\n",
       "      <td>float64</td>\n",
       "    </tr>\n",
       "    <tr>\n",
       "      <th>11</th>\n",
       "      <td>alcohol</td>\n",
       "      <td>111</td>\n",
       "      <td>float64</td>\n",
       "    </tr>\n",
       "    <tr>\n",
       "      <th>6</th>\n",
       "      <td>free sulfur dioxide</td>\n",
       "      <td>135</td>\n",
       "      <td>float64</td>\n",
       "    </tr>\n",
       "    <tr>\n",
       "      <th>2</th>\n",
       "      <td>volatile acidity</td>\n",
       "      <td>187</td>\n",
       "      <td>float64</td>\n",
       "    </tr>\n",
       "    <tr>\n",
       "      <th>5</th>\n",
       "      <td>chlorides</td>\n",
       "      <td>214</td>\n",
       "      <td>float64</td>\n",
       "    </tr>\n",
       "    <tr>\n",
       "      <th>7</th>\n",
       "      <td>total sulfur dioxide</td>\n",
       "      <td>276</td>\n",
       "      <td>float64</td>\n",
       "    </tr>\n",
       "    <tr>\n",
       "      <th>4</th>\n",
       "      <td>residual sugar</td>\n",
       "      <td>316</td>\n",
       "      <td>float64</td>\n",
       "    </tr>\n",
       "    <tr>\n",
       "      <th>8</th>\n",
       "      <td>density</td>\n",
       "      <td>998</td>\n",
       "      <td>float64</td>\n",
       "    </tr>\n",
       "  </tbody>\n",
       "</table>\n",
       "</div>"
      ],
      "text/plain": [
       "                Variable  Levels Datatype\n",
       "0                   type       2   object\n",
       "12               quality       7    int64\n",
       "3            citric acid      89  float64\n",
       "1          fixed acidity     106  float64\n",
       "9                     pH     108  float64\n",
       "10             sulphates     111  float64\n",
       "11               alcohol     111  float64\n",
       "6    free sulfur dioxide     135  float64\n",
       "2       volatile acidity     187  float64\n",
       "5              chlorides     214  float64\n",
       "7   total sulfur dioxide     276  float64\n",
       "4         residual sugar     316  float64\n",
       "8                density     998  float64"
      ]
     },
     "execution_count": 10,
     "metadata": {},
     "output_type": "execute_result"
    }
   ],
   "source": [
    "describe_more(wines)"
   ]
  },
  {
   "cell_type": "markdown",
   "metadata": {
    "id": "1Cww0Xc5dQq6"
   },
   "source": [
    "Здесь по каждому признаку видно, что разнообразие самых чисел не такое уж и большее, нет такого, что каждый элемент это уникальное число."
   ]
  },
  {
   "cell_type": "markdown",
   "metadata": {
    "id": "wBIOM6J1V5g_"
   },
   "source": [
    "### 2.4.2 Тепловая карта корреляция важных переменных"
   ]
  },
  {
   "cell_type": "code",
   "execution_count": null,
   "metadata": {
    "colab": {
     "base_uri": "https://localhost:8080/",
     "height": 667
    },
    "id": "-En3GqrxWCmP",
    "outputId": "2aa301a4-8fdc-4501-a8d5-ac9791ece7e1"
   },
   "outputs": [
    {
     "data": {
      "image/png": "[encoded data removed]",
      "text/plain": [
       "<Figure size 864x720 with 2 Axes>"
      ]
     },
     "metadata": {
      "needs_background": "light"
     },
     "output_type": "display_data"
    }
   ],
   "source": [
    "plot_correlation_map( wines )"
   ]
  },
  {
   "cell_type": "markdown",
   "metadata": {
    "id": "7ZG_ryWZeNxw"
   },
   "source": [
    "По тепловой карте корреляции видим, что наиболее скоррелированные признаки это 0,72 - free sulfur dioxide| total sulfur dioxide, -0.69 - alcohol|density. Обе зависимости логичны."
   ]
  },
  {
   "cell_type": "markdown",
   "metadata": {
    "id": "IKFsHzLhWElv"
   },
   "source": [
    "### 2.4.3 Подробнее про зависимости"
   ]
  },
  {
   "cell_type": "code",
   "execution_count": null,
   "metadata": {
    "colab": {
     "base_uri": "https://localhost:8080/",
     "height": 441
    },
    "id": "HEIF-nSYWJwP",
    "outputId": "4973c81d-1b92-47ea-beab-31bd20f7db86"
   },
   "outputs": [
    {
     "data": {
      "image/png": "[encoded data removed]",
      "text/plain": [
       "<Figure size 906.375x432 with 2 Axes>"
      ]
     },
     "metadata": {
      "needs_background": "light"
     },
     "output_type": "display_data"
    }
   ],
   "source": [
    "# Plot distributions of citric acid of wines with different quality\n",
    "plot_distribution( wines , var = 'citric acid' , target = 'quality' , row = 'type' )"
   ]
  },
  {
   "cell_type": "markdown",
   "metadata": {
    "id": "RjvAjfvxBSnf"
   },
   "source": [
    "Из данной зависимости можно заметить, что белые вина лежат примерно в большей степени в одной области по содержанию лимонной кислоты, а красные лучшего качества (7-8-9) - имеют большие значения содержания лимонной кислоты."
   ]
  },
  {
   "cell_type": "code",
   "execution_count": null,
   "metadata": {
    "colab": {
     "base_uri": "https://localhost:8080/",
     "height": 441
    },
    "id": "aLJzlXi2fZPn",
    "outputId": "58f51393-098b-4a41-9248-a5dbf3d49d03"
   },
   "outputs": [
    {
     "data": {
      "image/png": "[encoded data removed]",
      "text/plain": [
       "<Figure size 906.375x432 with 2 Axes>"
      ]
     },
     "metadata": {
      "needs_background": "light"
     },
     "output_type": "display_data"
    }
   ],
   "source": [
    "# Plot distributions of alcohol of wines with different quality\n",
    "plot_distribution( wines , var = 'alcohol' , target = 'quality' , row = 'type' )"
   ]
  },
  {
   "cell_type": "markdown",
   "metadata": {
    "id": "i7XYFxvSCVM2"
   },
   "source": [
    "Здесь получилась интересная зависимость на основе данных: чем более алкогольное вино, тем оно более качественное (7-8-9) причём независимо от типа вина."
   ]
  },
  {
   "cell_type": "code",
   "execution_count": null,
   "metadata": {
    "colab": {
     "base_uri": "https://localhost:8080/",
     "height": 441
    },
    "id": "R4coBpQfff9P",
    "outputId": "49116b91-ef7e-4a1f-a9c4-f851d3e7ec63"
   },
   "outputs": [
    {
     "data": {
      "image/png": "[encoded data removed]",
      "text/plain": [
       "<Figure size 906.375x432 with 2 Axes>"
      ]
     },
     "metadata": {
      "needs_background": "light"
     },
     "output_type": "display_data"
    }
   ],
   "source": [
    "# Plot distributions of free sulfur dioxide of wines with different quality\n",
    "plot_distribution( wines , var = 'free sulfur dioxide' , target = 'quality' , row = 'type' )"
   ]
  },
  {
   "cell_type": "markdown",
   "metadata": {
    "id": "7XQ3DLjPDLQn"
   },
   "source": [
    "Тут можно наблюдать, что разные типы вина находятся в разных диапазонах в зависимости от содержания свободного диоксида серы: для белого вина характерны более высокие значения, для красного - минимальные значения."
   ]
  },
  {
   "cell_type": "markdown",
   "metadata": {
    "id": "v9hdtVBQEA3d"
   },
   "source": [
    "По-хорошему надо бы исследовать разные типы вина отдельно, но такой цели в задачи заказчика не стоит и данных не слишком много, поэтому будем исследовать всё целиком."
   ]
  },
  {
   "cell_type": "markdown",
   "metadata": {
    "id": "eFtZnVLlN1Je"
   },
   "source": [
    "### 2.4.4 Категориальные переменные"
   ]
  },
  {
   "cell_type": "code",
   "execution_count": null,
   "metadata": {
    "colab": {
     "base_uri": "https://localhost:8080/",
     "height": 225
    },
    "id": "Kb9SV5ZsN59i",
    "outputId": "2e511c2f-b5e9-43e4-95d7-fa9ea958d1fb"
   },
   "outputs": [
    {
     "data": {
      "image/png": "[encoded data removed]",
      "text/plain": [
       "<Figure size 224x216 with 1 Axes>"
      ]
     },
     "metadata": {
      "needs_background": "light"
     },
     "output_type": "display_data"
    }
   ],
   "source": [
    "# Plot quality by type because of one feature is categorial\n",
    "plot_categories( wines , cat = 'type' , target = 'quality' )"
   ]
  },
  {
   "cell_type": "markdown",
   "metadata": {
    "id": "O9aojFtPWLDH"
   },
   "source": [
    "# 3. Data Preparation\n",
    "\n",
    "## 3.1 Преобразование категориальных переменных в числовые"
   ]
  },
  {
   "cell_type": "code",
   "execution_count": null,
   "metadata": {
    "id": "qVZY41k3WVRm"
   },
   "outputs": [],
   "source": [
    "# Transform type into binary values 0 and 1\n",
    "cat_wine = pd.Series( np.where( wines.type == 'white' , 1 , 0 ) , name = 'cat_wine' )"
   ]
  },
  {
   "cell_type": "markdown",
   "metadata": {
    "id": "8tR8VCwoWVi-"
   },
   "source": [
    "## 3.2 Заполнение пропущенных значений в данных"
   ]
  },
  {
   "cell_type": "code",
   "execution_count": null,
   "metadata": {
    "colab": {
     "base_uri": "https://localhost:8080/",
     "height": 204
    },
    "id": "Kb_CYnYFWeKY",
    "outputId": "7cede7a6-66e8-4b82-9e46-071ce84df448"
   },
   "outputs": [
    {
     "data": {
      "text/html": [
       "<div>\n",
       "<style scoped>\n",
       "    .dataframe tbody tr th:only-of-type {\n",
       "        vertical-align: middle;\n",
       "    }\n",
       "\n",
       "    .dataframe tbody tr th {\n",
       "        vertical-align: top;\n",
       "    }\n",
       "\n",
       "    .dataframe thead th {\n",
       "        text-align: right;\n",
       "    }\n",
       "</style>\n",
       "<table border=\"1\" class=\"dataframe\">\n",
       "  <thead>\n",
       "    <tr style=\"text-align: right;\">\n",
       "      <th></th>\n",
       "      <th>fixed acidity_full</th>\n",
       "      <th>volatile acidity_full</th>\n",
       "      <th>citric acid_full</th>\n",
       "      <th>residual sugar_full</th>\n",
       "      <th>chlorides_full</th>\n",
       "      <th>pH_full</th>\n",
       "      <th>sulphates_full</th>\n",
       "    </tr>\n",
       "  </thead>\n",
       "  <tbody>\n",
       "    <tr>\n",
       "      <th>0</th>\n",
       "      <td>7.0</td>\n",
       "      <td>0.27</td>\n",
       "      <td>0.36</td>\n",
       "      <td>20.7</td>\n",
       "      <td>0.045</td>\n",
       "      <td>3.00</td>\n",
       "      <td>0.45</td>\n",
       "    </tr>\n",
       "    <tr>\n",
       "      <th>1</th>\n",
       "      <td>6.3</td>\n",
       "      <td>0.30</td>\n",
       "      <td>0.34</td>\n",
       "      <td>1.6</td>\n",
       "      <td>0.049</td>\n",
       "      <td>3.30</td>\n",
       "      <td>0.49</td>\n",
       "    </tr>\n",
       "    <tr>\n",
       "      <th>2</th>\n",
       "      <td>8.1</td>\n",
       "      <td>0.28</td>\n",
       "      <td>0.40</td>\n",
       "      <td>6.9</td>\n",
       "      <td>0.050</td>\n",
       "      <td>3.26</td>\n",
       "      <td>0.44</td>\n",
       "    </tr>\n",
       "    <tr>\n",
       "      <th>3</th>\n",
       "      <td>7.2</td>\n",
       "      <td>0.23</td>\n",
       "      <td>0.32</td>\n",
       "      <td>8.5</td>\n",
       "      <td>0.058</td>\n",
       "      <td>3.19</td>\n",
       "      <td>0.40</td>\n",
       "    </tr>\n",
       "    <tr>\n",
       "      <th>4</th>\n",
       "      <td>7.2</td>\n",
       "      <td>0.23</td>\n",
       "      <td>0.32</td>\n",
       "      <td>8.5</td>\n",
       "      <td>0.058</td>\n",
       "      <td>3.19</td>\n",
       "      <td>0.40</td>\n",
       "    </tr>\n",
       "  </tbody>\n",
       "</table>\n",
       "</div>"
      ],
      "text/plain": [
       "   fixed acidity_full  volatile acidity_full  ...  pH_full  sulphates_full\n",
       "0                 7.0                   0.27  ...     3.00            0.45\n",
       "1                 6.3                   0.30  ...     3.30            0.49\n",
       "2                 8.1                   0.28  ...     3.26            0.44\n",
       "3                 7.2                   0.23  ...     3.19            0.40\n",
       "4                 7.2                   0.23  ...     3.19            0.40\n",
       "\n",
       "[5 rows x 7 columns]"
      ]
     },
     "execution_count": 18,
     "metadata": {},
     "output_type": "execute_result"
    }
   ],
   "source": [
    "# Create dataset with imputting by mean \n",
    "imputed = pd.DataFrame()\n",
    "correct = ['fixed acidity', 'volatile acidity', 'citric acid', 'fixed acidity', 'residual sugar', 'chlorides', 'pH', 'sulphates']\n",
    "\n",
    "for column in correct:\n",
    "  imputed[column + '_full'] = wines[column].fillna( wines[column].mean() )\n",
    "imputed.head()"
   ]
  },
  {
   "cell_type": "code",
   "execution_count": null,
   "metadata": {
    "colab": {
     "base_uri": "https://localhost:8080/"
    },
    "id": "BdssAzPlRUSE",
    "outputId": "de47384c-4b9c-4dd9-e628-86cb0d4b9a47"
   },
   "outputs": [
    {
     "name": "stdout",
     "output_type": "stream",
     "text": [
      "<class 'pandas.core.frame.DataFrame'>\n",
      "RangeIndex: 6497 entries, 0 to 6496\n",
      "Data columns (total 7 columns):\n",
      " #   Column                 Non-Null Count  Dtype  \n",
      "---  ------                 --------------  -----  \n",
      " 0   fixed acidity_full     6497 non-null   float64\n",
      " 1   volatile acidity_full  6497 non-null   float64\n",
      " 2   citric acid_full       6497 non-null   float64\n",
      " 3   residual sugar_full    6497 non-null   float64\n",
      " 4   chlorides_full         6497 non-null   float64\n",
      " 5   pH_full                6497 non-null   float64\n",
      " 6   sulphates_full         6497 non-null   float64\n",
      "dtypes: float64(7)\n",
      "memory usage: 355.4 KB\n"
     ]
    }
   ],
   "source": [
    "imputed.info()"
   ]
  },
  {
   "cell_type": "markdown",
   "metadata": {
    "id": "B6V8Km3gFZIv"
   },
   "source": [
    "Теперь видно, что датасет укомплектован полностью по всем признакам"
   ]
  },
  {
   "cell_type": "markdown",
   "metadata": {
    "id": "l_9Hh8ObXL1g"
   },
   "source": [
    "\n",
    "## 3.3 Сборка финальных датасетов для моделирования\n",
    "\n",
    "### 3.3.1 Variable selection"
   ]
  },
  {
   "cell_type": "markdown",
   "metadata": {
    "id": "ixfcOSk5Fj4U"
   },
   "source": [
    "Соберём все  по обработанным кусочкам и разобъём в переменные X & y"
   ]
  },
  {
   "cell_type": "code",
   "execution_count": null,
   "metadata": {
    "colab": {
     "base_uri": "https://localhost:8080/",
     "height": 238
    },
    "id": "VjHzkmSMXcEm",
    "outputId": "af1fb8f6-a5af-4514-d0b9-76d845aa07be"
   },
   "outputs": [
    {
     "data": {
      "text/html": [
       "<div>\n",
       "<style scoped>\n",
       "    .dataframe tbody tr th:only-of-type {\n",
       "        vertical-align: middle;\n",
       "    }\n",
       "\n",
       "    .dataframe tbody tr th {\n",
       "        vertical-align: top;\n",
       "    }\n",
       "\n",
       "    .dataframe thead th {\n",
       "        text-align: right;\n",
       "    }\n",
       "</style>\n",
       "<table border=\"1\" class=\"dataframe\">\n",
       "  <thead>\n",
       "    <tr style=\"text-align: right;\">\n",
       "      <th></th>\n",
       "      <th>fixed acidity_full</th>\n",
       "      <th>volatile acidity_full</th>\n",
       "      <th>citric acid_full</th>\n",
       "      <th>residual sugar_full</th>\n",
       "      <th>chlorides_full</th>\n",
       "      <th>pH_full</th>\n",
       "      <th>sulphates_full</th>\n",
       "      <th>cat_wine</th>\n",
       "      <th>type</th>\n",
       "      <th>fixed acidity</th>\n",
       "      <th>volatile acidity</th>\n",
       "      <th>citric acid</th>\n",
       "      <th>residual sugar</th>\n",
       "      <th>chlorides</th>\n",
       "      <th>free sulfur dioxide</th>\n",
       "      <th>total sulfur dioxide</th>\n",
       "      <th>density</th>\n",
       "      <th>pH</th>\n",
       "      <th>sulphates</th>\n",
       "      <th>alcohol</th>\n",
       "      <th>quality</th>\n",
       "    </tr>\n",
       "  </thead>\n",
       "  <tbody>\n",
       "    <tr>\n",
       "      <th>0</th>\n",
       "      <td>7.0</td>\n",
       "      <td>0.27</td>\n",
       "      <td>0.36</td>\n",
       "      <td>20.7</td>\n",
       "      <td>0.045</td>\n",
       "      <td>3.00</td>\n",
       "      <td>0.45</td>\n",
       "      <td>1</td>\n",
       "      <td>white</td>\n",
       "      <td>7.0</td>\n",
       "      <td>0.27</td>\n",
       "      <td>0.36</td>\n",
       "      <td>20.7</td>\n",
       "      <td>0.045</td>\n",
       "      <td>45.0</td>\n",
       "      <td>170.0</td>\n",
       "      <td>1.0010</td>\n",
       "      <td>3.00</td>\n",
       "      <td>0.45</td>\n",
       "      <td>8.8</td>\n",
       "      <td>6</td>\n",
       "    </tr>\n",
       "    <tr>\n",
       "      <th>1</th>\n",
       "      <td>6.3</td>\n",
       "      <td>0.30</td>\n",
       "      <td>0.34</td>\n",
       "      <td>1.6</td>\n",
       "      <td>0.049</td>\n",
       "      <td>3.30</td>\n",
       "      <td>0.49</td>\n",
       "      <td>1</td>\n",
       "      <td>white</td>\n",
       "      <td>6.3</td>\n",
       "      <td>0.30</td>\n",
       "      <td>0.34</td>\n",
       "      <td>1.6</td>\n",
       "      <td>0.049</td>\n",
       "      <td>14.0</td>\n",
       "      <td>132.0</td>\n",
       "      <td>0.9940</td>\n",
       "      <td>3.30</td>\n",
       "      <td>0.49</td>\n",
       "      <td>9.5</td>\n",
       "      <td>6</td>\n",
       "    </tr>\n",
       "    <tr>\n",
       "      <th>2</th>\n",
       "      <td>8.1</td>\n",
       "      <td>0.28</td>\n",
       "      <td>0.40</td>\n",
       "      <td>6.9</td>\n",
       "      <td>0.050</td>\n",
       "      <td>3.26</td>\n",
       "      <td>0.44</td>\n",
       "      <td>1</td>\n",
       "      <td>white</td>\n",
       "      <td>8.1</td>\n",
       "      <td>0.28</td>\n",
       "      <td>0.40</td>\n",
       "      <td>6.9</td>\n",
       "      <td>0.050</td>\n",
       "      <td>30.0</td>\n",
       "      <td>97.0</td>\n",
       "      <td>0.9951</td>\n",
       "      <td>3.26</td>\n",
       "      <td>0.44</td>\n",
       "      <td>10.1</td>\n",
       "      <td>6</td>\n",
       "    </tr>\n",
       "    <tr>\n",
       "      <th>3</th>\n",
       "      <td>7.2</td>\n",
       "      <td>0.23</td>\n",
       "      <td>0.32</td>\n",
       "      <td>8.5</td>\n",
       "      <td>0.058</td>\n",
       "      <td>3.19</td>\n",
       "      <td>0.40</td>\n",
       "      <td>1</td>\n",
       "      <td>white</td>\n",
       "      <td>7.2</td>\n",
       "      <td>0.23</td>\n",
       "      <td>0.32</td>\n",
       "      <td>8.5</td>\n",
       "      <td>0.058</td>\n",
       "      <td>47.0</td>\n",
       "      <td>186.0</td>\n",
       "      <td>0.9956</td>\n",
       "      <td>3.19</td>\n",
       "      <td>0.40</td>\n",
       "      <td>9.9</td>\n",
       "      <td>6</td>\n",
       "    </tr>\n",
       "    <tr>\n",
       "      <th>4</th>\n",
       "      <td>7.2</td>\n",
       "      <td>0.23</td>\n",
       "      <td>0.32</td>\n",
       "      <td>8.5</td>\n",
       "      <td>0.058</td>\n",
       "      <td>3.19</td>\n",
       "      <td>0.40</td>\n",
       "      <td>1</td>\n",
       "      <td>white</td>\n",
       "      <td>7.2</td>\n",
       "      <td>0.23</td>\n",
       "      <td>0.32</td>\n",
       "      <td>8.5</td>\n",
       "      <td>0.058</td>\n",
       "      <td>47.0</td>\n",
       "      <td>186.0</td>\n",
       "      <td>0.9956</td>\n",
       "      <td>3.19</td>\n",
       "      <td>0.40</td>\n",
       "      <td>9.9</td>\n",
       "      <td>6</td>\n",
       "    </tr>\n",
       "  </tbody>\n",
       "</table>\n",
       "</div>"
      ],
      "text/plain": [
       "   fixed acidity_full  volatile acidity_full  ...  alcohol  quality\n",
       "0                 7.0                   0.27  ...      8.8        6\n",
       "1                 6.3                   0.30  ...      9.5        6\n",
       "2                 8.1                   0.28  ...     10.1        6\n",
       "3                 7.2                   0.23  ...      9.9        6\n",
       "4                 7.2                   0.23  ...      9.9        6\n",
       "\n",
       "[5 rows x 21 columns]"
      ]
     },
     "execution_count": 20,
     "metadata": {},
     "output_type": "execute_result"
    }
   ],
   "source": [
    "full_X = pd.concat( [ imputed , cat_wine, wines ] , axis=1 )\n",
    "full_X.head()"
   ]
  },
  {
   "cell_type": "code",
   "execution_count": null,
   "metadata": {
    "colab": {
     "base_uri": "https://localhost:8080/",
     "height": 204
    },
    "id": "TjAM85XeTHlc",
    "outputId": "a323f9ae-c042-471a-e79a-0afaf06f5074"
   },
   "outputs": [
    {
     "data": {
      "text/html": [
       "<div>\n",
       "<style scoped>\n",
       "    .dataframe tbody tr th:only-of-type {\n",
       "        vertical-align: middle;\n",
       "    }\n",
       "\n",
       "    .dataframe tbody tr th {\n",
       "        vertical-align: top;\n",
       "    }\n",
       "\n",
       "    .dataframe thead th {\n",
       "        text-align: right;\n",
       "    }\n",
       "</style>\n",
       "<table border=\"1\" class=\"dataframe\">\n",
       "  <thead>\n",
       "    <tr style=\"text-align: right;\">\n",
       "      <th></th>\n",
       "      <th>fixed acidity_full</th>\n",
       "      <th>volatile acidity_full</th>\n",
       "      <th>citric acid_full</th>\n",
       "      <th>residual sugar_full</th>\n",
       "      <th>chlorides_full</th>\n",
       "      <th>pH_full</th>\n",
       "      <th>sulphates_full</th>\n",
       "      <th>cat_wine</th>\n",
       "      <th>free sulfur dioxide</th>\n",
       "      <th>total sulfur dioxide</th>\n",
       "      <th>density</th>\n",
       "      <th>alcohol</th>\n",
       "    </tr>\n",
       "  </thead>\n",
       "  <tbody>\n",
       "    <tr>\n",
       "      <th>0</th>\n",
       "      <td>7.0</td>\n",
       "      <td>0.27</td>\n",
       "      <td>0.36</td>\n",
       "      <td>20.7</td>\n",
       "      <td>0.045</td>\n",
       "      <td>3.00</td>\n",
       "      <td>0.45</td>\n",
       "      <td>1</td>\n",
       "      <td>45.0</td>\n",
       "      <td>170.0</td>\n",
       "      <td>1.0010</td>\n",
       "      <td>8.8</td>\n",
       "    </tr>\n",
       "    <tr>\n",
       "      <th>1</th>\n",
       "      <td>6.3</td>\n",
       "      <td>0.30</td>\n",
       "      <td>0.34</td>\n",
       "      <td>1.6</td>\n",
       "      <td>0.049</td>\n",
       "      <td>3.30</td>\n",
       "      <td>0.49</td>\n",
       "      <td>1</td>\n",
       "      <td>14.0</td>\n",
       "      <td>132.0</td>\n",
       "      <td>0.9940</td>\n",
       "      <td>9.5</td>\n",
       "    </tr>\n",
       "    <tr>\n",
       "      <th>2</th>\n",
       "      <td>8.1</td>\n",
       "      <td>0.28</td>\n",
       "      <td>0.40</td>\n",
       "      <td>6.9</td>\n",
       "      <td>0.050</td>\n",
       "      <td>3.26</td>\n",
       "      <td>0.44</td>\n",
       "      <td>1</td>\n",
       "      <td>30.0</td>\n",
       "      <td>97.0</td>\n",
       "      <td>0.9951</td>\n",
       "      <td>10.1</td>\n",
       "    </tr>\n",
       "    <tr>\n",
       "      <th>3</th>\n",
       "      <td>7.2</td>\n",
       "      <td>0.23</td>\n",
       "      <td>0.32</td>\n",
       "      <td>8.5</td>\n",
       "      <td>0.058</td>\n",
       "      <td>3.19</td>\n",
       "      <td>0.40</td>\n",
       "      <td>1</td>\n",
       "      <td>47.0</td>\n",
       "      <td>186.0</td>\n",
       "      <td>0.9956</td>\n",
       "      <td>9.9</td>\n",
       "    </tr>\n",
       "    <tr>\n",
       "      <th>4</th>\n",
       "      <td>7.2</td>\n",
       "      <td>0.23</td>\n",
       "      <td>0.32</td>\n",
       "      <td>8.5</td>\n",
       "      <td>0.058</td>\n",
       "      <td>3.19</td>\n",
       "      <td>0.40</td>\n",
       "      <td>1</td>\n",
       "      <td>47.0</td>\n",
       "      <td>186.0</td>\n",
       "      <td>0.9956</td>\n",
       "      <td>9.9</td>\n",
       "    </tr>\n",
       "  </tbody>\n",
       "</table>\n",
       "</div>"
      ],
      "text/plain": [
       "   fixed acidity_full  volatile acidity_full  ...  density  alcohol\n",
       "0                 7.0                   0.27  ...   1.0010      8.8\n",
       "1                 6.3                   0.30  ...   0.9940      9.5\n",
       "2                 8.1                   0.28  ...   0.9951     10.1\n",
       "3                 7.2                   0.23  ...   0.9956      9.9\n",
       "4                 7.2                   0.23  ...   0.9956      9.9\n",
       "\n",
       "[5 rows x 12 columns]"
      ]
     },
     "execution_count": 21,
     "metadata": {},
     "output_type": "execute_result"
    }
   ],
   "source": [
    "y = full_X['quality']\n",
    "X = full_X.drop(['type', 'fixed acidity','volatile acidity','citric acid','residual sugar','chlorides','pH','sulphates','quality'], axis=1)\n",
    "X.head()"
   ]
  },
  {
   "cell_type": "markdown",
   "metadata": {
    "id": "9YzNd_N_XcLw"
   },
   "source": [
    "\n",
    "## 3.4.2 Создание датасетов"
   ]
  },
  {
   "cell_type": "code",
   "execution_count": null,
   "metadata": {
    "colab": {
     "base_uri": "https://localhost:8080/"
    },
    "id": "2GqBxigCXhWi",
    "outputId": "8c277d9f-5bdd-44b3-ba5e-9051a0da93a1"
   },
   "outputs": [
    {
     "name": "stdout",
     "output_type": "stream",
     "text": [
      "(6497, 12) (2100, 12) (900, 12) (2100,) (900,) (3497, 12)\n"
     ]
    }
   ],
   "source": [
    "# Create all datasets that are necessary to train, validate and test models\n",
    "train_valid_X = X[ 0 : 3000]\n",
    "test_X = X[ 3000 : ]\n",
    "train_valid_y = y[ 0 : 3000]\n",
    "test_y = y[ 3000 : ]\n",
    "train_X , valid_X , train_y , valid_y = train_test_split( train_valid_X , train_valid_y , train_size = .7 )\n",
    "\n",
    "print (X.shape , train_X.shape , valid_X.shape , train_y.shape , valid_y.shape, test_X.shape)"
   ]
  },
  {
   "cell_type": "markdown",
   "metadata": {
    "id": "r2tXG6LWXhv3"
   },
   "source": [
    "\n",
    "## 3.4.3 Важность признаков"
   ]
  },
  {
   "cell_type": "code",
   "execution_count": null,
   "metadata": {
    "colab": {
     "base_uri": "https://localhost:8080/",
     "height": 282
    },
    "id": "omzssDUgXnzq",
    "outputId": "55323bf5-e296-42ce-c4af-e5a7f2e35038"
   },
   "outputs": [
    {
     "name": "stdout",
     "output_type": "stream",
     "text": [
      "1.0\n"
     ]
    },
    {
     "data": {
      "image/png": "[encoded data removed]",
      "text/plain": [
       "<Figure size 432x288 with 1 Axes>"
      ]
     },
     "metadata": {
      "needs_background": "light"
     },
     "output_type": "display_data"
    }
   ],
   "source": [
    "plot_variable_importance(train_X,\n",
    "                         train_y)"
   ]
  },
  {
   "cell_type": "markdown",
   "metadata": {
    "id": "VOTuOPxPF6sV"
   },
   "source": [
    "Важность признаков играет больше значение в моделировании. По горизонтальной гистограмме видно, что все признаки, кроме категории вина имеют значение при моделировании, поэтому оставим все."
   ]
  },
  {
   "cell_type": "markdown",
   "metadata": {
    "id": "yESbulijXoP4"
   },
   "source": [
    "\n",
    "# 4. Моделирование\n",
    "\n",
    "## 4.1 Выбор модели"
   ]
  },
  {
   "cell_type": "code",
   "execution_count": null,
   "metadata": {
    "id": "VUoNY2-iGUUv"
   },
   "outputs": [],
   "source": [
    "model_list = {\n",
    "    'Tree' : DecisionTreeClassifier(max_depth=10),\n",
    "    'LogReg' : LogisticRegression(),\n",
    "    'Kneigh' : KNeighborsClassifier(),\n",
    "    'GaussNB' : GaussianNB(),\n",
    "    'SVC' : SVC(),\n",
    "    'linSVC' : LinearSVC(),\n",
    "    'Forest' : RandomForestClassifier(max_depth=10),\n",
    "    'Booster' : GradientBoostingClassifier()\n",
    "}"
   ]
  },
  {
   "cell_type": "markdown",
   "metadata": {
    "id": "kwuSSXkqXyww"
   },
   "source": [
    "## 4.2 Обучение модели"
   ]
  },
  {
   "cell_type": "code",
   "execution_count": null,
   "metadata": {
    "colab": {
     "base_uri": "https://localhost:8080/"
    },
    "id": "PKsGZv6LX0no",
    "outputId": "088504cb-3964-43bf-badc-873758945ff4"
   },
   "outputs": [
    {
     "name": "stdout",
     "output_type": "stream",
     "text": [
      "Model name         Train_Score         Valid_Score           Test_Score\t\n",
      "Tree                0.785                0.705                0.385\n",
      "LogReg                0.438                0.444                0.429\n",
      "Kneigh                0.625                0.572                0.393\n",
      "GaussNB                0.447                0.442                0.288\n",
      "SVC                0.418                0.418                0.454\n",
      "linSVC                0.436                0.438                0.498\n",
      "Forest                0.885                0.805                0.463\n",
      "Booster                0.786                0.725                0.334\n"
     ]
    }
   ],
   "source": [
    "print('Model name         Train_Score         Valid_Score           Test_Score\\t')\n",
    "for name, model  in model_list.items():\n",
    "  model.fit( train_X , train_y )\n",
    "  print(name,'              ', '%.3f' % model.score( train_X , train_y ), '              ', '%.3f' % model.score( train_valid_X , train_valid_y ), '              ', '%.3f' % model.score( test_X , test_y  ))"
   ]
  },
  {
   "cell_type": "markdown",
   "metadata": {
    "id": "osckBvh5X263"
   },
   "source": [
    "# 5. Оценка\n",
    "\n",
    "## 5.1 Модель "
   ]
  },
  {
   "cell_type": "code",
   "execution_count": null,
   "metadata": {
    "id": "cMRwWbS5X_6Z"
   },
   "outputs": [],
   "source": [
    "# Score the model"
   ]
  },
  {
   "cell_type": "markdown",
   "metadata": {
    "id": "oPAm3BE_OWFM"
   },
   "source": [
    "Смотри результаты кода выше.\n",
    "\n",
    "Можно сделать вывод последовательно. Участвовало 8 моделей, из них лучше всего на valid выборке справились топ-5: Forest(0.805), Booster, Tree,  Kneigh, LogReg (0.444). Однако на тестовой выборке на финале лучше всего справились топ-3: linSVC(0.498), Forest(0.463), SVC(0.454). Пожалуй из всех них я бы выбрал модель Forest (RandomForestClassifier(max_depth=10))  как лучше всего справившуюся на всех выборках."
   ]
  }
 ],
 "metadata": {
  "colab": {
   "collapsed_sections": [],
   "name": "CrispDM.ipynb",
   "provenance": []
  },
  "kernelspec": {
   "display_name": "Python 3 (ipykernel)",
   "language": "python",
   "name": "python3"
  },
  "language_info": {
   "codemirror_mode": {
    "name": "ipython",
    "version": 3
   },
   "file_extension": ".py",
   "mimetype": "text/x-python",
   "name": "python",
   "nbconvert_exporter": "python",
   "pygments_lexer": "ipython3",
   "version": "3.9.7"
  }
 },
 "nbformat": 4,
 "nbformat_minor": 1
}
