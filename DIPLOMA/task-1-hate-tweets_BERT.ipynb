{
 "cells": [
  {
   "cell_type": "markdown",
   "id": "2e9f38e0",
   "metadata": {
    "papermill": {
     "duration": 0.067636,
     "end_time": "2022-03-16T19:10:37.837800",
     "exception": false,
     "start_time": "2022-03-16T19:10:37.770164",
     "status": "completed"
    },
    "tags": []
   },
   "source": [
    "# Дипломная работа \"Анализ эмоциальной окраски текста\""
   ]
  },
  {
   "cell_type": "markdown",
   "id": "cd17de79",
   "metadata": {},
   "source": [
    "#### Ячейка для Kaggel Kernel"
   ]
  },
  {
   "cell_type": "code",
   "execution_count": 1,
   "id": "1bc45529",
   "metadata": {
    "execution": {
     "iopub.execute_input": "2022-03-16T19:10:37.981408Z",
     "iopub.status.busy": "2022-03-16T19:10:37.980597Z",
     "iopub.status.idle": "2022-03-16T19:10:37.990772Z",
     "shell.execute_reply": "2022-03-16T19:10:37.990086Z",
     "shell.execute_reply.started": "2022-03-16T14:31:40.876912Z"
    },
    "papermill": {
     "duration": 0.085276,
     "end_time": "2022-03-16T19:10:37.990943",
     "exception": false,
     "start_time": "2022-03-16T19:10:37.905667",
     "status": "completed"
    },
    "tags": []
   },
   "outputs": [
    {
     "name": "stdout",
     "output_type": "stream",
     "text": [
      "/kaggle/input/hate-speech-and-offensive-language-dataset/labeled_data.csv\n"
     ]
    }
   ],
   "source": [
    "# # This Python 3 environment comes with many helpful analytics libraries installed\n",
    "# # It is defined by the kaggle/python Docker image: https://github.com/kaggle/docker-python\n",
    "# # For example, here's several helpful packages to load\n",
    "\n",
    "# import numpy as np # linear algebra\n",
    "# import pandas as pd # data processing, CSV file I/O (e.g. pd.read_csv)\n",
    "\n",
    "# # Input data files are available in the read-only \"../input/\" directory\n",
    "# # For example, running this (by clicking run or pressing Shift+Enter) will list all files under the input directory\n",
    "\n",
    "# import os\n",
    "# for dirname, _, filenames in os.walk('/kaggle/input'):\n",
    "#     for filename in filenames:\n",
    "#         print(os.path.join(dirname, filename))\n",
    "\n",
    "# # You can write up to 20GB to the current directory (/kaggle/working/) that gets preserved as output when you create a version using \"Save & Run All\" \n",
    "# # You can also write temporary files to /kaggle/temp/, but they won't be saved outside of the current session"
   ]
  },
  {
   "cell_type": "markdown",
   "id": "384d6300",
   "metadata": {
    "papermill": {
     "duration": 0.06505,
     "end_time": "2022-03-16T19:10:38.122491",
     "exception": false,
     "start_time": "2022-03-16T19:10:38.057441",
     "status": "completed"
    },
    "tags": []
   },
   "source": [
    "## Задача 1 \"Hate Speech and Offensive Language Dataset - research hate-speech detection\"\n",
    "\n",
    "Набор данных с использованием данных Twitter использовался для исследования обнаружения языка ненависти. Текст классифицируется как: разжигание ненависти, оскорбительные выражения и ни то, ни другое. В связи с характером исследования важно отметить, что этот набор данных содержит текст, который можно считать расистским, сексистским, гомофобным или вообще оскорбительным.\n"
   ]
  },
  {
   "cell_type": "markdown",
   "id": "a021eb6a",
   "metadata": {
    "papermill": {
     "duration": 0.06445,
     "end_time": "2022-03-16T19:10:38.251693",
     "exception": false,
     "start_time": "2022-03-16T19:10:38.187243",
     "status": "completed"
    },
    "tags": []
   },
   "source": [
    "- count - количество пользователей CrowdFlower, которые закодировали каждый твит (минимум 3, иногда больше пользователей закодировали твит, когда CF определило суждения как ненадежные)\n",
    "- hate_speech - количество пользователей CF, которые оценили твит как разжигание ненависти\n",
    "- offensive_language\t- количество пользователей CF, которые сочли твит оскорбительным\n",
    "- neither\t - количество пользователей CF, которые сочли твит ни оскорбительным, ни не оскорбительным\n",
    "- class(target) - метка класса для большинства пользователей CF. \n",
    "- - 0 – разжигание ненависти \n",
    "- - 1 – оскорбительные выражения \n",
    "- - 2 – ни то, ни другое\n",
    "- tweet - текстовый твит"
   ]
  },
  {
   "cell_type": "markdown",
   "id": "76dff887",
   "metadata": {},
   "source": [
    "### Импорт библиотек"
   ]
  },
  {
   "cell_type": "code",
   "execution_count": 1,
   "id": "9df8e6d2",
   "metadata": {
    "execution": {
     "iopub.execute_input": "2022-03-16T19:10:38.388798Z",
     "iopub.status.busy": "2022-03-16T19:10:38.388128Z",
     "iopub.status.idle": "2022-03-16T19:10:40.287041Z",
     "shell.execute_reply": "2022-03-16T19:10:40.286278Z",
     "shell.execute_reply.started": "2022-03-16T14:32:03.377171Z"
    },
    "papermill": {
     "duration": 1.969831,
     "end_time": "2022-03-16T19:10:40.287173",
     "exception": false,
     "start_time": "2022-03-16T19:10:38.317342",
     "status": "completed"
    },
    "tags": []
   },
   "outputs": [
    {
     "name": "stdout",
     "output_type": "stream",
     "text": [
      "['i', 'me', 'my', 'myself', 'we', 'our', 'ours', 'ourselves', 'you', \"you're\", \"you've\", \"you'll\", \"you'd\", 'your', 'yours', 'yourself', 'yourselves', 'he', 'him', 'his', 'himself', 'she', \"she's\", 'her', 'hers', 'herself', 'it', \"it's\", 'its', 'itself', 'they', 'them', 'their', 'theirs', 'themselves', 'what', 'which', 'who', 'whom', 'this', 'that', \"that'll\", 'these', 'those', 'am', 'is', 'are', 'was', 'were', 'be', 'been', 'being', 'have', 'has', 'had', 'having', 'do', 'does', 'did', 'doing', 'a', 'an', 'the', 'and', 'but', 'if', 'or', 'because', 'as', 'until', 'while', 'of', 'at', 'by', 'for', 'with', 'about', 'against', 'between', 'into', 'through', 'during', 'before', 'after', 'above', 'below', 'to', 'from', 'up', 'down', 'in', 'out', 'on', 'off', 'over', 'under', 'again', 'further', 'then', 'once', 'here', 'there', 'when', 'where', 'why', 'how', 'all', 'any', 'both', 'each', 'few', 'more', 'most', 'other', 'some', 'such', 'no', 'nor', 'not', 'only', 'own', 'same', 'so', 'than', 'too', 'very', 's', 't', 'can', 'will', 'just', 'don', \"don't\", 'should', \"should've\", 'now', 'd', 'll', 'm', 'o', 're', 've', 'y', 'ain', 'aren', \"aren't\", 'couldn', \"couldn't\", 'didn', \"didn't\", 'doesn', \"doesn't\", 'hadn', \"hadn't\", 'hasn', \"hasn't\", 'haven', \"haven't\", 'isn', \"isn't\", 'ma', 'mightn', \"mightn't\", 'mustn', \"mustn't\", 'needn', \"needn't\", 'shan', \"shan't\", 'shouldn', \"shouldn't\", 'wasn', \"wasn't\", 'weren', \"weren't\", 'won', \"won't\", 'wouldn', \"wouldn't\"]\n"
     ]
    }
   ],
   "source": [
    "import pandas as pd\n",
    "import numpy as np\n",
    "\n",
    "import seaborn as sns\n",
    "import matplotlib.pyplot as plt\n",
    "\n",
    "from tqdm import tqdm\n",
    "\n",
    "import re\n",
    "import string \n",
    "from string import punctuation\n",
    "from nltk.corpus import stopwords\n",
    "print(stopwords.words('english'))\n",
    "NOISE_WORDS = stopwords.words('english')"
   ]
  },
  {
   "cell_type": "code",
   "execution_count": 2,
   "id": "b41da55c",
   "metadata": {
    "execution": {
     "iopub.execute_input": "2022-03-16T19:10:40.420134Z",
     "iopub.status.busy": "2022-03-16T19:10:40.419585Z",
     "iopub.status.idle": "2022-03-16T19:10:51.072597Z",
     "shell.execute_reply": "2022-03-16T19:10:51.072118Z",
     "shell.execute_reply.started": "2022-03-16T14:32:05.527486Z"
    },
    "papermill": {
     "duration": 10.720637,
     "end_time": "2022-03-16T19:10:51.072750",
     "exception": false,
     "start_time": "2022-03-16T19:10:40.352113",
     "status": "completed"
    },
    "tags": []
   },
   "outputs": [],
   "source": [
    "import spacy\n",
    "LEMMA = spacy.load('en_core_web_sm')"
   ]
  },
  {
   "cell_type": "code",
   "execution_count": 2,
   "id": "52313ad5",
   "metadata": {
    "execution": {
     "iopub.execute_input": "2022-03-16T19:10:51.208852Z",
     "iopub.status.busy": "2022-03-16T19:10:51.208021Z",
     "iopub.status.idle": "2022-03-16T19:10:51.212342Z",
     "shell.execute_reply": "2022-03-16T19:10:51.211896Z",
     "shell.execute_reply.started": "2022-03-16T14:32:17.143797Z"
    },
    "papermill": {
     "duration": 0.07395,
     "end_time": "2022-03-16T19:10:51.212518",
     "exception": false,
     "start_time": "2022-03-16T19:10:51.138568",
     "status": "completed"
    },
    "tags": []
   },
   "outputs": [],
   "source": [
    "from sklearn.linear_model import LogisticRegression # можно заменить на любимый классификатор\n",
    "from sklearn.feature_extraction.text import CountVectorizer\n",
    "from sklearn.feature_extraction.text import TfidfVectorizer\n",
    "\n",
    "from xgboost import XGBClassifier\n",
    "from catboost import CatBoostClassifier\n",
    "\n",
    "from sklearn.svm import SVC\n",
    "\n",
    "from nltk import word_tokenize\n",
    "\n",
    "from sklearn.metrics import classification_report\n",
    "from sklearn.model_selection import train_test_split\n",
    "from sklearn.pipeline import Pipeline"
   ]
  },
  {
   "cell_type": "markdown",
   "id": "c0d4f221",
   "metadata": {},
   "source": [
    "### Загрузка данных (с нуля - далее по коду есть файл с обработанными данными, чтобы не ждать выполнения функции clean_text_for_Bert)"
   ]
  },
  {
   "cell_type": "code",
   "execution_count": 3,
   "id": "f194c2e8",
   "metadata": {
    "execution": {
     "iopub.execute_input": "2022-03-16T19:10:51.349506Z",
     "iopub.status.busy": "2022-03-16T19:10:51.348696Z",
     "iopub.status.idle": "2022-03-16T19:10:51.431119Z",
     "shell.execute_reply": "2022-03-16T19:10:51.430167Z",
     "shell.execute_reply.started": "2022-03-16T14:32:44.667058Z"
    },
    "papermill": {
     "duration": 0.152321,
     "end_time": "2022-03-16T19:10:51.431249",
     "exception": false,
     "start_time": "2022-03-16T19:10:51.278928",
     "status": "completed"
    },
    "tags": []
   },
   "outputs": [],
   "source": [
    "#../input/hate-speech-and-offensive-language-dataset/labeled_data.csv\n",
    "df_1 = pd.read_csv('C:/Netology/DIPLOMA/data/hate/labeled_data.csv', index_col='Unnamed: 0')"
   ]
  },
  {
   "cell_type": "code",
   "execution_count": 8,
   "id": "9702e411",
   "metadata": {
    "execution": {
     "iopub.execute_input": "2022-03-16T19:10:51.568302Z",
     "iopub.status.busy": "2022-03-16T19:10:51.567757Z",
     "iopub.status.idle": "2022-03-16T19:10:51.580073Z",
     "shell.execute_reply": "2022-03-16T19:10:51.580519Z",
     "shell.execute_reply.started": "2022-03-16T14:32:45.830627Z"
    },
    "papermill": {
     "duration": 0.083335,
     "end_time": "2022-03-16T19:10:51.580658",
     "exception": false,
     "start_time": "2022-03-16T19:10:51.497323",
     "status": "completed"
    },
    "tags": []
   },
   "outputs": [
    {
     "data": {
      "text/html": [
       "<div>\n",
       "<style scoped>\n",
       "    .dataframe tbody tr th:only-of-type {\n",
       "        vertical-align: middle;\n",
       "    }\n",
       "\n",
       "    .dataframe tbody tr th {\n",
       "        vertical-align: top;\n",
       "    }\n",
       "\n",
       "    .dataframe thead th {\n",
       "        text-align: right;\n",
       "    }\n",
       "</style>\n",
       "<table border=\"1\" class=\"dataframe\">\n",
       "  <thead>\n",
       "    <tr style=\"text-align: right;\">\n",
       "      <th></th>\n",
       "      <th>count</th>\n",
       "      <th>hate_speech</th>\n",
       "      <th>offensive_language</th>\n",
       "      <th>neither</th>\n",
       "      <th>class</th>\n",
       "      <th>tweet</th>\n",
       "    </tr>\n",
       "  </thead>\n",
       "  <tbody>\n",
       "    <tr>\n",
       "      <th>0</th>\n",
       "      <td>3</td>\n",
       "      <td>0</td>\n",
       "      <td>0</td>\n",
       "      <td>3</td>\n",
       "      <td>2</td>\n",
       "      <td>!!! RT @mayasolovely: As a woman you shouldn't...</td>\n",
       "    </tr>\n",
       "    <tr>\n",
       "      <th>1</th>\n",
       "      <td>3</td>\n",
       "      <td>0</td>\n",
       "      <td>3</td>\n",
       "      <td>0</td>\n",
       "      <td>1</td>\n",
       "      <td>!!!!! RT @mleew17: boy dats cold...tyga dwn ba...</td>\n",
       "    </tr>\n",
       "    <tr>\n",
       "      <th>2</th>\n",
       "      <td>3</td>\n",
       "      <td>0</td>\n",
       "      <td>3</td>\n",
       "      <td>0</td>\n",
       "      <td>1</td>\n",
       "      <td>!!!!!!! RT @UrKindOfBrand Dawg!!!! RT @80sbaby...</td>\n",
       "    </tr>\n",
       "    <tr>\n",
       "      <th>3</th>\n",
       "      <td>3</td>\n",
       "      <td>0</td>\n",
       "      <td>2</td>\n",
       "      <td>1</td>\n",
       "      <td>1</td>\n",
       "      <td>!!!!!!!!! RT @C_G_Anderson: @viva_based she lo...</td>\n",
       "    </tr>\n",
       "    <tr>\n",
       "      <th>4</th>\n",
       "      <td>6</td>\n",
       "      <td>0</td>\n",
       "      <td>6</td>\n",
       "      <td>0</td>\n",
       "      <td>1</td>\n",
       "      <td>!!!!!!!!!!!!! RT @ShenikaRoberts: The shit you...</td>\n",
       "    </tr>\n",
       "  </tbody>\n",
       "</table>\n",
       "</div>"
      ],
      "text/plain": [
       "   count  hate_speech  offensive_language  neither  class  \\\n",
       "0      3            0                   0        3      2   \n",
       "1      3            0                   3        0      1   \n",
       "2      3            0                   3        0      1   \n",
       "3      3            0                   2        1      1   \n",
       "4      6            0                   6        0      1   \n",
       "\n",
       "                                               tweet  \n",
       "0  !!! RT @mayasolovely: As a woman you shouldn't...  \n",
       "1  !!!!! RT @mleew17: boy dats cold...tyga dwn ba...  \n",
       "2  !!!!!!! RT @UrKindOfBrand Dawg!!!! RT @80sbaby...  \n",
       "3  !!!!!!!!! RT @C_G_Anderson: @viva_based she lo...  \n",
       "4  !!!!!!!!!!!!! RT @ShenikaRoberts: The shit you...  "
      ]
     },
     "execution_count": 8,
     "metadata": {},
     "output_type": "execute_result"
    }
   ],
   "source": [
    "df_1.head()"
   ]
  },
  {
   "cell_type": "code",
   "execution_count": 9,
   "id": "2cc9e1e6",
   "metadata": {
    "execution": {
     "iopub.execute_input": "2022-03-16T19:10:51.717647Z",
     "iopub.status.busy": "2022-03-16T19:10:51.716679Z",
     "iopub.status.idle": "2022-03-16T19:10:51.727868Z",
     "shell.execute_reply": "2022-03-16T19:10:51.728275Z",
     "shell.execute_reply.started": "2022-03-16T14:32:46.628312Z"
    },
    "papermill": {
     "duration": 0.082337,
     "end_time": "2022-03-16T19:10:51.728432",
     "exception": false,
     "start_time": "2022-03-16T19:10:51.646095",
     "status": "completed"
    },
    "tags": []
   },
   "outputs": [
    {
     "data": {
      "text/html": [
       "<div>\n",
       "<style scoped>\n",
       "    .dataframe tbody tr th:only-of-type {\n",
       "        vertical-align: middle;\n",
       "    }\n",
       "\n",
       "    .dataframe tbody tr th {\n",
       "        vertical-align: top;\n",
       "    }\n",
       "\n",
       "    .dataframe thead th {\n",
       "        text-align: right;\n",
       "    }\n",
       "</style>\n",
       "<table border=\"1\" class=\"dataframe\">\n",
       "  <thead>\n",
       "    <tr style=\"text-align: right;\">\n",
       "      <th></th>\n",
       "      <th>count</th>\n",
       "      <th>hate_speech</th>\n",
       "      <th>offensive_language</th>\n",
       "      <th>neither</th>\n",
       "      <th>class</th>\n",
       "      <th>tweet</th>\n",
       "    </tr>\n",
       "  </thead>\n",
       "  <tbody>\n",
       "    <tr>\n",
       "      <th>5</th>\n",
       "      <td>3</td>\n",
       "      <td>1</td>\n",
       "      <td>2</td>\n",
       "      <td>0</td>\n",
       "      <td>1</td>\n",
       "      <td>!!!!!!!!!!!!!!!!!!\"@T_Madison_x: The shit just...</td>\n",
       "    </tr>\n",
       "    <tr>\n",
       "      <th>9</th>\n",
       "      <td>3</td>\n",
       "      <td>1</td>\n",
       "      <td>2</td>\n",
       "      <td>0</td>\n",
       "      <td>1</td>\n",
       "      <td>\" @rhythmixx_ :hobbies include: fighting Maria...</td>\n",
       "    </tr>\n",
       "    <tr>\n",
       "      <th>14</th>\n",
       "      <td>3</td>\n",
       "      <td>1</td>\n",
       "      <td>2</td>\n",
       "      <td>0</td>\n",
       "      <td>1</td>\n",
       "      <td>\" bitch get up off me \"</td>\n",
       "    </tr>\n",
       "    <tr>\n",
       "      <th>17</th>\n",
       "      <td>3</td>\n",
       "      <td>1</td>\n",
       "      <td>2</td>\n",
       "      <td>0</td>\n",
       "      <td>1</td>\n",
       "      <td>\" bitch who do you love \"</td>\n",
       "    </tr>\n",
       "    <tr>\n",
       "      <th>49</th>\n",
       "      <td>3</td>\n",
       "      <td>1</td>\n",
       "      <td>2</td>\n",
       "      <td>0</td>\n",
       "      <td>1</td>\n",
       "      <td>\" these hoes like niggas that spend money not ...</td>\n",
       "    </tr>\n",
       "    <tr>\n",
       "      <th>...</th>\n",
       "      <td>...</td>\n",
       "      <td>...</td>\n",
       "      <td>...</td>\n",
       "      <td>...</td>\n",
       "      <td>...</td>\n",
       "      <td>...</td>\n",
       "    </tr>\n",
       "    <tr>\n",
       "      <th>25262</th>\n",
       "      <td>3</td>\n",
       "      <td>1</td>\n",
       "      <td>2</td>\n",
       "      <td>0</td>\n",
       "      <td>1</td>\n",
       "      <td>yo hoe will get slayed! &amp;#128298;</td>\n",
       "    </tr>\n",
       "    <tr>\n",
       "      <th>25265</th>\n",
       "      <td>6</td>\n",
       "      <td>1</td>\n",
       "      <td>5</td>\n",
       "      <td>0</td>\n",
       "      <td>1</td>\n",
       "      <td>you ain't a real nigga without goal a to chase...</td>\n",
       "    </tr>\n",
       "    <tr>\n",
       "      <th>25266</th>\n",
       "      <td>3</td>\n",
       "      <td>1</td>\n",
       "      <td>2</td>\n",
       "      <td>0</td>\n",
       "      <td>1</td>\n",
       "      <td>you ain't gotta be a dyke to like hoes</td>\n",
       "    </tr>\n",
       "    <tr>\n",
       "      <th>25275</th>\n",
       "      <td>3</td>\n",
       "      <td>1</td>\n",
       "      <td>2</td>\n",
       "      <td>0</td>\n",
       "      <td>1</td>\n",
       "      <td>you got niggas, and i got bitches.</td>\n",
       "    </tr>\n",
       "    <tr>\n",
       "      <th>25286</th>\n",
       "      <td>3</td>\n",
       "      <td>1</td>\n",
       "      <td>2</td>\n",
       "      <td>0</td>\n",
       "      <td>1</td>\n",
       "      <td>you niggers cheat on ya gf's? smh....</td>\n",
       "    </tr>\n",
       "  </tbody>\n",
       "</table>\n",
       "<p>3419 rows × 6 columns</p>\n",
       "</div>"
      ],
      "text/plain": [
       "       count  hate_speech  offensive_language  neither  class  \\\n",
       "5          3            1                   2        0      1   \n",
       "9          3            1                   2        0      1   \n",
       "14         3            1                   2        0      1   \n",
       "17         3            1                   2        0      1   \n",
       "49         3            1                   2        0      1   \n",
       "...      ...          ...                 ...      ...    ...   \n",
       "25262      3            1                   2        0      1   \n",
       "25265      6            1                   5        0      1   \n",
       "25266      3            1                   2        0      1   \n",
       "25275      3            1                   2        0      1   \n",
       "25286      3            1                   2        0      1   \n",
       "\n",
       "                                                   tweet  \n",
       "5      !!!!!!!!!!!!!!!!!!\"@T_Madison_x: The shit just...  \n",
       "9      \" @rhythmixx_ :hobbies include: fighting Maria...  \n",
       "14                               \" bitch get up off me \"  \n",
       "17                             \" bitch who do you love \"  \n",
       "49     \" these hoes like niggas that spend money not ...  \n",
       "...                                                  ...  \n",
       "25262                  yo hoe will get slayed! &#128298;  \n",
       "25265  you ain't a real nigga without goal a to chase...  \n",
       "25266             you ain't gotta be a dyke to like hoes  \n",
       "25275                 you got niggas, and i got bitches.  \n",
       "25286              you niggers cheat on ya gf's? smh....  \n",
       "\n",
       "[3419 rows x 6 columns]"
      ]
     },
     "execution_count": 9,
     "metadata": {},
     "output_type": "execute_result"
    }
   ],
   "source": [
    "df_1[df_1.hate_speech == 1]"
   ]
  },
  {
   "cell_type": "code",
   "execution_count": 10,
   "id": "c9b459a3",
   "metadata": {
    "execution": {
     "iopub.execute_input": "2022-03-16T19:10:51.873825Z",
     "iopub.status.busy": "2022-03-16T19:10:51.873004Z",
     "iopub.status.idle": "2022-03-16T19:10:51.884783Z",
     "shell.execute_reply": "2022-03-16T19:10:51.885248Z",
     "shell.execute_reply.started": "2022-03-16T14:32:48.641478Z"
    },
    "papermill": {
     "duration": 0.087759,
     "end_time": "2022-03-16T19:10:51.885421",
     "exception": false,
     "start_time": "2022-03-16T19:10:51.797662",
     "status": "completed"
    },
    "tags": []
   },
   "outputs": [
    {
     "name": "stdout",
     "output_type": "stream",
     "text": [
      "<class 'pandas.core.frame.DataFrame'>\n",
      "Int64Index: 24783 entries, 0 to 25296\n",
      "Data columns (total 6 columns):\n",
      " #   Column              Non-Null Count  Dtype \n",
      "---  ------              --------------  ----- \n",
      " 0   count               24783 non-null  int64 \n",
      " 1   hate_speech         24783 non-null  int64 \n",
      " 2   offensive_language  24783 non-null  int64 \n",
      " 3   neither             24783 non-null  int64 \n",
      " 4   class               24783 non-null  int64 \n",
      " 5   tweet               24783 non-null  object\n",
      "dtypes: int64(5), object(1)\n",
      "memory usage: 1.3+ MB\n"
     ]
    }
   ],
   "source": [
    "df_1.info()"
   ]
  },
  {
   "cell_type": "markdown",
   "id": "d686f986",
   "metadata": {
    "papermill": {
     "duration": 0.067159,
     "end_time": "2022-03-16T19:10:52.018394",
     "exception": false,
     "start_time": "2022-03-16T19:10:51.951235",
     "status": "completed"
    },
    "tags": []
   },
   "source": [
    "#### Распределение количества данных по классам"
   ]
  },
  {
   "cell_type": "code",
   "execution_count": 11,
   "id": "9c4d83d3",
   "metadata": {
    "execution": {
     "iopub.execute_input": "2022-03-16T19:10:52.158906Z",
     "iopub.status.busy": "2022-03-16T19:10:52.158167Z",
     "iopub.status.idle": "2022-03-16T19:10:52.169453Z",
     "shell.execute_reply": "2022-03-16T19:10:52.169026Z",
     "shell.execute_reply.started": "2022-03-16T14:32:49.951637Z"
    },
    "papermill": {
     "duration": 0.084488,
     "end_time": "2022-03-16T19:10:52.169573",
     "exception": false,
     "start_time": "2022-03-16T19:10:52.085085",
     "status": "completed"
    },
    "tags": []
   },
   "outputs": [
    {
     "data": {
      "text/html": [
       "<div>\n",
       "<style scoped>\n",
       "    .dataframe tbody tr th:only-of-type {\n",
       "        vertical-align: middle;\n",
       "    }\n",
       "\n",
       "    .dataframe tbody tr th {\n",
       "        vertical-align: top;\n",
       "    }\n",
       "\n",
       "    .dataframe thead th {\n",
       "        text-align: right;\n",
       "    }\n",
       "</style>\n",
       "<table border=\"1\" class=\"dataframe\">\n",
       "  <thead>\n",
       "    <tr style=\"text-align: right;\">\n",
       "      <th></th>\n",
       "      <th>tweet</th>\n",
       "    </tr>\n",
       "    <tr>\n",
       "      <th>class</th>\n",
       "      <th></th>\n",
       "    </tr>\n",
       "  </thead>\n",
       "  <tbody>\n",
       "    <tr>\n",
       "      <th>0</th>\n",
       "      <td>1430</td>\n",
       "    </tr>\n",
       "    <tr>\n",
       "      <th>1</th>\n",
       "      <td>19190</td>\n",
       "    </tr>\n",
       "    <tr>\n",
       "      <th>2</th>\n",
       "      <td>4163</td>\n",
       "    </tr>\n",
       "  </tbody>\n",
       "</table>\n",
       "</div>"
      ],
      "text/plain": [
       "       tweet\n",
       "class       \n",
       "0       1430\n",
       "1      19190\n",
       "2       4163"
      ]
     },
     "execution_count": 11,
     "metadata": {},
     "output_type": "execute_result"
    }
   ],
   "source": [
    "df_1[['class', 'tweet']].groupby('class').count()"
   ]
  },
  {
   "cell_type": "code",
   "execution_count": 12,
   "id": "a28746b3",
   "metadata": {
    "execution": {
     "iopub.execute_input": "2022-03-16T19:10:52.311792Z",
     "iopub.status.busy": "2022-03-16T19:10:52.311024Z",
     "iopub.status.idle": "2022-03-16T19:10:52.552774Z",
     "shell.execute_reply": "2022-03-16T19:10:52.552081Z",
     "shell.execute_reply.started": "2022-03-16T14:32:51.21648Z"
    },
    "papermill": {
     "duration": 0.316239,
     "end_time": "2022-03-16T19:10:52.552903",
     "exception": false,
     "start_time": "2022-03-16T19:10:52.236664",
     "status": "completed"
    },
    "tags": []
   },
   "outputs": [
    {
     "data": {
      "image/png": "[encoded data removed]",
      "text/plain": [
       "<Figure size 432x288 with 1 Axes>"
      ]
     },
     "metadata": {
      "needs_background": "light"
     },
     "output_type": "display_data"
    }
   ],
   "source": [
    "plot_1 = df_1[['class', 'tweet']].groupby('class').count()\n",
    "\n",
    "plot_1.plot(kind='bar', grid = True,\n",
    "                   color='#607c8e')\n",
    "plt.title('Class distribution')\n",
    "plt.xlabel('Class')\n",
    "plt.ylabel('Counts')\n",
    "plt.grid(axis='y', alpha=0.75)"
   ]
  },
  {
   "cell_type": "markdown",
   "id": "8e7c1706",
   "metadata": {
    "papermill": {
     "duration": 0.06793,
     "end_time": "2022-03-16T19:10:52.688178",
     "exception": false,
     "start_time": "2022-03-16T19:10:52.620248",
     "status": "completed"
    },
    "tags": []
   },
   "source": [
    "###### Видно, что преобладают данные класса 1 - с оскорбительными выражениями\n"
   ]
  },
  {
   "cell_type": "markdown",
   "id": "5a672862",
   "metadata": {
    "papermill": {
     "duration": 0.067931,
     "end_time": "2022-03-16T19:10:52.823781",
     "exception": false,
     "start_time": "2022-03-16T19:10:52.755850",
     "status": "completed"
    },
    "tags": []
   },
   "source": [
    "### Распределение по количеству пользователей CF, которые отнесли твит к тому или иному классу"
   ]
  },
  {
   "cell_type": "code",
   "execution_count": 13,
   "id": "860332d9",
   "metadata": {
    "execution": {
     "iopub.execute_input": "2022-03-16T19:10:52.966335Z",
     "iopub.status.busy": "2022-03-16T19:10:52.965482Z",
     "iopub.status.idle": "2022-03-16T19:10:52.974208Z",
     "shell.execute_reply": "2022-03-16T19:10:52.974713Z",
     "shell.execute_reply.started": "2022-03-16T14:32:52.331412Z"
    },
    "papermill": {
     "duration": 0.083199,
     "end_time": "2022-03-16T19:10:52.974870",
     "exception": false,
     "start_time": "2022-03-16T19:10:52.891671",
     "status": "completed"
    },
    "tags": []
   },
   "outputs": [
    {
     "data": {
      "text/html": [
       "<div>\n",
       "<style scoped>\n",
       "    .dataframe tbody tr th:only-of-type {\n",
       "        vertical-align: middle;\n",
       "    }\n",
       "\n",
       "    .dataframe tbody tr th {\n",
       "        vertical-align: top;\n",
       "    }\n",
       "\n",
       "    .dataframe thead th {\n",
       "        text-align: right;\n",
       "    }\n",
       "</style>\n",
       "<table border=\"1\" class=\"dataframe\">\n",
       "  <thead>\n",
       "    <tr style=\"text-align: right;\">\n",
       "      <th></th>\n",
       "      <th>count</th>\n",
       "      <th>hate_speech</th>\n",
       "      <th>offensive_language</th>\n",
       "      <th>neither</th>\n",
       "    </tr>\n",
       "    <tr>\n",
       "      <th>class</th>\n",
       "      <th></th>\n",
       "      <th></th>\n",
       "      <th></th>\n",
       "      <th></th>\n",
       "    </tr>\n",
       "  </thead>\n",
       "  <tbody>\n",
       "    <tr>\n",
       "      <th>0</th>\n",
       "      <td>4445</td>\n",
       "      <td>3227</td>\n",
       "      <td>1081</td>\n",
       "      <td>137</td>\n",
       "    </tr>\n",
       "    <tr>\n",
       "      <th>1</th>\n",
       "      <td>62730</td>\n",
       "      <td>3463</td>\n",
       "      <td>57638</td>\n",
       "      <td>1629</td>\n",
       "    </tr>\n",
       "    <tr>\n",
       "      <th>2</th>\n",
       "      <td>13208</td>\n",
       "      <td>262</td>\n",
       "      <td>1100</td>\n",
       "      <td>11846</td>\n",
       "    </tr>\n",
       "  </tbody>\n",
       "</table>\n",
       "</div>"
      ],
      "text/plain": [
       "       count  hate_speech  offensive_language  neither\n",
       "class                                                 \n",
       "0       4445         3227                1081      137\n",
       "1      62730         3463               57638     1629\n",
       "2      13208          262                1100    11846"
      ]
     },
     "execution_count": 13,
     "metadata": {},
     "output_type": "execute_result"
    }
   ],
   "source": [
    "df_1.groupby(['class']).sum()"
   ]
  },
  {
   "cell_type": "code",
   "execution_count": 14,
   "id": "bbd1a1ed",
   "metadata": {
    "execution": {
     "iopub.execute_input": "2022-03-16T19:10:53.118482Z",
     "iopub.status.busy": "2022-03-16T19:10:53.117935Z",
     "iopub.status.idle": "2022-03-16T19:10:53.351209Z",
     "shell.execute_reply": "2022-03-16T19:10:53.351612Z",
     "shell.execute_reply.started": "2022-03-16T14:32:52.754981Z"
    },
    "papermill": {
     "duration": 0.308116,
     "end_time": "2022-03-16T19:10:53.351763",
     "exception": false,
     "start_time": "2022-03-16T19:10:53.043647",
     "status": "completed"
    },
    "tags": []
   },
   "outputs": [
    {
     "data": {
      "image/png": "[encoded data removed]",
      "text/plain": [
       "<Figure size 432x288 with 1 Axes>"
      ]
     },
     "metadata": {
      "needs_background": "light"
     },
     "output_type": "display_data"
    }
   ],
   "source": [
    "plot_2 = df_1.groupby(['class']).sum()\n",
    "\n",
    "plot_2.plot(kind='bar', grid = True)\n",
    "plt.title('Types of tweets distribution')\n",
    "plt.xlabel('Counts')\n",
    "plt.ylabel('Types of tweets')\n",
    "plt.grid(axis='y', alpha=0.75)"
   ]
  },
  {
   "cell_type": "markdown",
   "id": "50389307",
   "metadata": {
    "papermill": {
     "duration": 0.069921,
     "end_time": "2022-03-16T19:10:53.490908",
     "exception": false,
     "start_time": "2022-03-16T19:10:53.420987",
     "status": "completed"
    },
    "tags": []
   },
   "source": [
    "###### Видно, что пользователи однозначно относят к верному классу твит, но в основном большинство на одной стороне"
   ]
  },
  {
   "cell_type": "markdown",
   "id": "bfa39b27",
   "metadata": {
    "papermill": {
     "duration": 0.068191,
     "end_time": "2022-03-16T19:10:53.628518",
     "exception": false,
     "start_time": "2022-03-16T19:10:53.560327",
     "status": "completed"
    },
    "tags": []
   },
   "source": [
    "### Предобработка текста твитов"
   ]
  },
  {
   "cell_type": "code",
   "execution_count": 4,
   "id": "5b38aeae",
   "metadata": {},
   "outputs": [],
   "source": [
    "df_2 = pd.read_csv('df_2_task_1.csv', encoding='utf-8', index_col='Unnamed: 0')"
   ]
  },
  {
   "cell_type": "code",
   "execution_count": 5,
   "id": "1b7c028a",
   "metadata": {
    "execution": {
     "iopub.execute_input": "2022-03-16T19:13:11.023211Z",
     "iopub.status.busy": "2022-03-16T19:13:11.022567Z",
     "iopub.status.idle": "2022-03-16T19:13:11.025535Z",
     "shell.execute_reply": "2022-03-16T19:13:11.026004Z",
     "shell.execute_reply.started": "2022-03-16T14:35:43.61026Z"
    },
    "papermill": {
     "duration": 0.082715,
     "end_time": "2022-03-16T19:13:11.026154",
     "exception": false,
     "start_time": "2022-03-16T19:13:10.943439",
     "status": "completed"
    },
    "tags": []
   },
   "outputs": [
    {
     "data": {
      "text/html": [
       "<div>\n",
       "<style scoped>\n",
       "    .dataframe tbody tr th:only-of-type {\n",
       "        vertical-align: middle;\n",
       "    }\n",
       "\n",
       "    .dataframe tbody tr th {\n",
       "        vertical-align: top;\n",
       "    }\n",
       "\n",
       "    .dataframe thead th {\n",
       "        text-align: right;\n",
       "    }\n",
       "</style>\n",
       "<table border=\"1\" class=\"dataframe\">\n",
       "  <thead>\n",
       "    <tr style=\"text-align: right;\">\n",
       "      <th></th>\n",
       "      <th>count</th>\n",
       "      <th>hate_speech</th>\n",
       "      <th>offensive_language</th>\n",
       "      <th>neither</th>\n",
       "      <th>class</th>\n",
       "      <th>tweet</th>\n",
       "    </tr>\n",
       "  </thead>\n",
       "  <tbody>\n",
       "    <tr>\n",
       "      <th>0</th>\n",
       "      <td>3</td>\n",
       "      <td>0</td>\n",
       "      <td>0</td>\n",
       "      <td>3</td>\n",
       "      <td>2</td>\n",
       "      <td>rt woman should not complain clean house amp ...</td>\n",
       "    </tr>\n",
       "    <tr>\n",
       "      <th>1</th>\n",
       "      <td>3</td>\n",
       "      <td>0</td>\n",
       "      <td>3</td>\n",
       "      <td>0</td>\n",
       "      <td>1</td>\n",
       "      <td>rt boy dat cold tyga dwn bad cuffin dat hoe p...</td>\n",
       "    </tr>\n",
       "    <tr>\n",
       "      <th>2</th>\n",
       "      <td>3</td>\n",
       "      <td>0</td>\n",
       "      <td>3</td>\n",
       "      <td>0</td>\n",
       "      <td>1</td>\n",
       "      <td>rt dawg rt ever fuck bitch start cry confused...</td>\n",
       "    </tr>\n",
       "    <tr>\n",
       "      <th>3</th>\n",
       "      <td>3</td>\n",
       "      <td>0</td>\n",
       "      <td>2</td>\n",
       "      <td>1</td>\n",
       "      <td>1</td>\n",
       "      <td>rt look like tranny</td>\n",
       "    </tr>\n",
       "    <tr>\n",
       "      <th>4</th>\n",
       "      <td>6</td>\n",
       "      <td>0</td>\n",
       "      <td>6</td>\n",
       "      <td>0</td>\n",
       "      <td>1</td>\n",
       "      <td>rt shit hear might true might faker bitch tel...</td>\n",
       "    </tr>\n",
       "  </tbody>\n",
       "</table>\n",
       "</div>"
      ],
      "text/plain": [
       "   count  hate_speech  offensive_language  neither  class  \\\n",
       "0      3            0                   0        3      2   \n",
       "1      3            0                   3        0      1   \n",
       "2      3            0                   3        0      1   \n",
       "3      3            0                   2        1      1   \n",
       "4      6            0                   6        0      1   \n",
       "\n",
       "                                               tweet  \n",
       "0   rt woman should not complain clean house amp ...  \n",
       "1   rt boy dat cold tyga dwn bad cuffin dat hoe p...  \n",
       "2   rt dawg rt ever fuck bitch start cry confused...  \n",
       "3                                rt look like tranny  \n",
       "4   rt shit hear might true might faker bitch tel...  "
      ]
     },
     "execution_count": 5,
     "metadata": {},
     "output_type": "execute_result"
    }
   ],
   "source": [
    "df_2.head()"
   ]
  },
  {
   "cell_type": "code",
   "execution_count": 6,
   "id": "f15f0094",
   "metadata": {},
   "outputs": [],
   "source": [
    "# 4000 так как выше это понижение метрики f1 для 0 класса\n",
    "df_2_0_2 = df_2[(df_2['class'] == 0) | (df_2['class'] == 2)]\n",
    "df_2_1 = df_2[df_2['class'] == 1].sample(4000)\n",
    "df_2 = pd.concat([df_2_0_2, df_2_1])"
   ]
  },
  {
   "cell_type": "code",
   "execution_count": 7,
   "id": "49f39a9e",
   "metadata": {},
   "outputs": [
    {
     "data": {
      "image/png": "[encoded data removed]",
      "text/plain": [
       "<Figure size 432x288 with 1 Axes>"
      ]
     },
     "metadata": {
      "needs_background": "light"
     },
     "output_type": "display_data"
    }
   ],
   "source": [
    "plot_1 = df_2[['class', 'tweet']].groupby('class').count()\n",
    "\n",
    "plot_1.plot(kind='bar', grid = True,\n",
    "                   color='#607c8e')\n",
    "plt.title('Class distribution')\n",
    "plt.xlabel('Class')\n",
    "plt.ylabel('Counts')\n",
    "plt.grid(axis='y', alpha=0.75)"
   ]
  },
  {
   "cell_type": "code",
   "execution_count": 8,
   "id": "d0a5dce8",
   "metadata": {
    "execution": {
     "iopub.execute_input": "2022-03-16T19:13:11.177820Z",
     "iopub.status.busy": "2022-03-16T19:13:11.176837Z",
     "iopub.status.idle": "2022-03-16T19:13:11.183238Z",
     "shell.execute_reply": "2022-03-16T19:13:11.182823Z",
     "shell.execute_reply.started": "2022-03-16T14:35:43.624576Z"
    },
    "papermill": {
     "duration": 0.082233,
     "end_time": "2022-03-16T19:13:11.183353",
     "exception": false,
     "start_time": "2022-03-16T19:13:11.101120",
     "status": "completed"
    },
    "tags": []
   },
   "outputs": [],
   "source": [
    "X_train, X_test, y_train, y_test = train_test_split(df_2['tweet'], df_2['class'], test_size = 0.2)"
   ]
  },
  {
   "cell_type": "markdown",
   "id": "09180fdf",
   "metadata": {},
   "source": [
    "# ++"
   ]
  },
  {
   "cell_type": "markdown",
   "id": "faf7985d",
   "metadata": {
    "papermill": {
     "duration": 0.068677,
     "end_time": "2022-03-16T19:13:11.321483",
     "exception": false,
     "start_time": "2022-03-16T19:13:11.252806",
     "status": "completed"
    },
    "tags": []
   },
   "source": [
    "## Первый способ - CountVectorizer('word', ngram = 1-1) + LogisticRegression"
   ]
  },
  {
   "cell_type": "code",
   "execution_count": 18,
   "id": "a21cf7e9",
   "metadata": {
    "execution": {
     "iopub.execute_input": "2022-03-16T19:13:11.513553Z",
     "iopub.status.busy": "2022-03-16T19:13:11.509303Z",
     "iopub.status.idle": "2022-03-16T19:13:11.719941Z",
     "shell.execute_reply": "2022-03-16T19:13:11.720353Z",
     "shell.execute_reply.started": "2022-03-16T14:54:11.541716Z"
    },
    "papermill": {
     "duration": 0.32996,
     "end_time": "2022-03-16T19:13:11.720540",
     "exception": false,
     "start_time": "2022-03-16T19:13:11.390580",
     "status": "completed"
    },
    "tags": []
   },
   "outputs": [],
   "source": [
    "vec = CountVectorizer( ngram_range=(1, 1))\n",
    "vec.fit(df_2['tweet'])\n",
    "bow = vec.transform(X_train)"
   ]
  },
  {
   "cell_type": "code",
   "execution_count": 19,
   "id": "55fe1428",
   "metadata": {
    "execution": {
     "iopub.execute_input": "2022-03-16T19:13:11.875073Z",
     "iopub.status.busy": "2022-03-16T19:13:11.874220Z",
     "iopub.status.idle": "2022-03-16T19:13:12.544031Z",
     "shell.execute_reply": "2022-03-16T19:13:12.545200Z",
     "shell.execute_reply.started": "2022-03-16T14:54:21.611243Z"
    },
    "papermill": {
     "duration": 0.750352,
     "end_time": "2022-03-16T19:13:12.545479",
     "exception": false,
     "start_time": "2022-03-16T19:13:11.795127",
     "status": "completed"
    },
    "tags": []
   },
   "outputs": [
    {
     "name": "stdout",
     "output_type": "stream",
     "text": [
      "              precision    recall  f1-score   support\n",
      "\n",
      "           0       0.59      0.66      0.62       254\n",
      "           1       0.86      0.88      0.87       788\n",
      "           2       0.96      0.90      0.93       877\n",
      "\n",
      "    accuracy                           0.86      1919\n",
      "   macro avg       0.80      0.81      0.81      1919\n",
      "weighted avg       0.87      0.86      0.86      1919\n",
      "\n"
     ]
    }
   ],
   "source": [
    "clf = LogisticRegression(random_state=42, solver='liblinear', class_weight = 'balanced')\n",
    "clf.fit(bow, y_train)\n",
    "pred = clf.predict(vec.transform(X_test))\n",
    "print(classification_report(pred, y_test))"
   ]
  },
  {
   "cell_type": "markdown",
   "id": "49506499",
   "metadata": {
    "papermill": {
     "duration": 0.253847,
     "end_time": "2022-03-16T19:30:07.514174",
     "exception": false,
     "start_time": "2022-03-16T19:30:07.260327",
     "status": "completed"
    },
    "tags": []
   },
   "source": [
    "## Десятый способ - SMOTE + CountVectorizer + SVC"
   ]
  },
  {
   "cell_type": "code",
   "execution_count": 20,
   "id": "813d29b6",
   "metadata": {
    "execution": {
     "iopub.execute_input": "2022-03-16T19:30:09.583116Z",
     "iopub.status.busy": "2022-03-16T19:30:09.582169Z",
     "iopub.status.idle": "2022-03-16T19:30:09.585019Z",
     "shell.execute_reply": "2022-03-16T19:30:09.584588Z"
    },
    "papermill": {
     "duration": 0.263686,
     "end_time": "2022-03-16T19:30:09.585127",
     "exception": false,
     "start_time": "2022-03-16T19:30:09.321441",
     "status": "completed"
    },
    "tags": []
   },
   "outputs": [],
   "source": [
    "X_train_10, X_test_10, y_train_10, y_test_10 = train_test_split(df_2['tweet'], df_2['class'], test_size = 0.2)"
   ]
  },
  {
   "cell_type": "code",
   "execution_count": 21,
   "id": "bcd82dcc",
   "metadata": {
    "execution": {
     "iopub.execute_input": "2022-03-16T19:30:10.167477Z",
     "iopub.status.busy": "2022-03-16T19:30:10.142142Z",
     "iopub.status.idle": "2022-03-16T19:30:10.211868Z",
     "shell.execute_reply": "2022-03-16T19:30:10.212311Z"
    },
    "papermill": {
     "duration": 0.372435,
     "end_time": "2022-03-16T19:30:10.212473",
     "exception": false,
     "start_time": "2022-03-16T19:30:09.840038",
     "status": "completed"
    },
    "tags": []
   },
   "outputs": [],
   "source": [
    "vec_10 = CountVectorizer( ngram_range=(1, 1))\n",
    "vec_10.fit(df_2['tweet'])\n",
    "bow_10 = vec_10.transform(X_train_10)"
   ]
  },
  {
   "cell_type": "markdown",
   "id": "536b78b3",
   "metadata": {
    "papermill": {
     "duration": 0.255196,
     "end_time": "2022-03-16T19:30:10.769449",
     "exception": false,
     "start_time": "2022-03-16T19:30:10.514253",
     "status": "completed"
    },
    "tags": []
   },
   "source": [
    "## Дисбаланс классов - SMOTE - Synthetic Minority Oversampling Techniques"
   ]
  },
  {
   "cell_type": "code",
   "execution_count": 34,
   "id": "e4290568",
   "metadata": {
    "execution": {
     "iopub.execute_input": "2022-03-16T19:30:11.284666Z",
     "iopub.status.busy": "2022-03-16T19:30:11.284047Z",
     "iopub.status.idle": "2022-03-16T19:30:11.392580Z",
     "shell.execute_reply": "2022-03-16T19:30:11.392002Z"
    },
    "papermill": {
     "duration": 0.366177,
     "end_time": "2022-03-16T19:30:11.392708",
     "exception": false,
     "start_time": "2022-03-16T19:30:11.026531",
     "status": "completed"
    },
    "tags": []
   },
   "outputs": [],
   "source": [
    "from imblearn.over_sampling import SMOTE"
   ]
  },
  {
   "cell_type": "code",
   "execution_count": 23,
   "id": "46b3e7df",
   "metadata": {
    "execution": {
     "iopub.execute_input": "2022-03-16T19:30:11.910150Z",
     "iopub.status.busy": "2022-03-16T19:30:11.909141Z",
     "iopub.status.idle": "2022-03-16T19:30:12.282547Z",
     "shell.execute_reply": "2022-03-16T19:30:12.281946Z"
    },
    "papermill": {
     "duration": 0.634593,
     "end_time": "2022-03-16T19:30:12.282671",
     "exception": false,
     "start_time": "2022-03-16T19:30:11.648078",
     "status": "completed"
    },
    "tags": []
   },
   "outputs": [],
   "source": [
    "sm = SMOTE (#sampling_strategy = 0.9,\n",
    "        random_state=0,\n",
    "        k_neighbors=4)\n",
    "X_train_res, y_train_res = sm.fit_resample(bow_10, y_train_10)"
   ]
  },
  {
   "cell_type": "code",
   "execution_count": 24,
   "id": "48aea73c",
   "metadata": {
    "execution": {
     "iopub.execute_input": "2022-03-16T19:30:12.808019Z",
     "iopub.status.busy": "2022-03-16T19:30:12.807464Z",
     "iopub.status.idle": "2022-03-16T19:30:12.811100Z",
     "shell.execute_reply": "2022-03-16T19:30:12.811563Z"
    },
    "papermill": {
     "duration": 0.274049,
     "end_time": "2022-03-16T19:30:12.811716",
     "exception": false,
     "start_time": "2022-03-16T19:30:12.537667",
     "status": "completed"
    },
    "tags": []
   },
   "outputs": [
    {
     "name": "stdout",
     "output_type": "stream",
     "text": [
      "\t\tДО балансировки \tПОСЛЕ балансировки \n",
      "класс 2 : \t3340\t\t\t3340\n",
      "класс 1 : \t3208\t\t\t3340\n",
      "класс 0 : \t1126\t\t\t3340\n",
      "y :\t\t(7674,)\t\t(10020,)\n",
      "X :\t\t(7674, 11729)\t\t(10020, 11729)\n"
     ]
    }
   ],
   "source": [
    "print('\\t\\tДО балансировки \\tПОСЛЕ балансировки ')\n",
    "print('класс 2 : \\t{}\\t\\t\\t{}'.format(sum(y_train_10==2), sum(y_train_res==2)))\n",
    "print('класс 1 : \\t{}\\t\\t\\t{}'.format(sum(y_train_10==1), sum(y_train_res==1)))\n",
    "print('класс 0 : \\t{}\\t\\t\\t{}'.format(sum(y_train_10==0), sum(y_train_res==0)))\n",
    "print('y :\\t\\t{}\\t\\t{}'.format(y_train_10.shape, y_train_res.shape))\n",
    "print('X :\\t\\t{}\\t\\t{}'.format(bow_10.shape, X_train_res.shape))"
   ]
  },
  {
   "cell_type": "code",
   "execution_count": 28,
   "id": "d40fbd8a",
   "metadata": {
    "execution": {
     "iopub.execute_input": "2022-03-16T19:30:13.837864Z",
     "iopub.status.busy": "2022-03-16T19:30:13.837135Z",
     "iopub.status.idle": "2022-03-16T19:30:24.309428Z",
     "shell.execute_reply": "2022-03-16T19:30:24.308643Z"
    },
    "papermill": {
     "duration": 10.730815,
     "end_time": "2022-03-16T19:30:24.309563",
     "exception": false,
     "start_time": "2022-03-16T19:30:13.578748",
     "status": "completed"
    },
    "tags": []
   },
   "outputs": [
    {
     "name": "stdout",
     "output_type": "stream",
     "text": [
      "              precision    recall  f1-score   support\n",
      "\n",
      "           0       0.69      0.24      0.36       878\n",
      "           1       0.04      0.89      0.07        35\n",
      "           2       0.80      0.65      0.72      1006\n",
      "\n",
      "    accuracy                           0.47      1919\n",
      "   macro avg       0.51      0.59      0.38      1919\n",
      "weighted avg       0.74      0.47      0.54      1919\n",
      "\n"
     ]
    }
   ],
   "source": [
    "model_10 = SVC(gamma='auto')\n",
    "model_10.fit(X_train_res, y_train_res)\n",
    "pred_10 = model_10.predict(vec_10.transform(X_test_10))\n",
    "print(classification_report(pred_10, y_test_10))"
   ]
  },
  {
   "cell_type": "markdown",
   "id": "a9b99d70",
   "metadata": {
    "papermill": {
     "duration": 0.254496,
     "end_time": "2022-03-16T19:30:24.820038",
     "exception": false,
     "start_time": "2022-03-16T19:30:24.565542",
     "status": "completed"
    },
    "tags": []
   },
   "source": [
    "## Одиннадцатый способ - слои BERT + LogReg"
   ]
  },
  {
   "cell_type": "code",
   "execution_count": 4,
   "id": "0f81d86d",
   "metadata": {
    "execution": {
     "iopub.execute_input": "2022-03-16T19:30:25.336570Z",
     "iopub.status.busy": "2022-03-16T19:30:25.335855Z",
     "iopub.status.idle": "2022-03-16T19:30:25.426860Z",
     "shell.execute_reply": "2022-03-16T19:30:25.426347Z"
    },
    "papermill": {
     "duration": 0.350753,
     "end_time": "2022-03-16T19:30:25.426983",
     "exception": false,
     "start_time": "2022-03-16T19:30:25.076230",
     "status": "completed"
    },
    "tags": []
   },
   "outputs": [],
   "source": [
    "import transformers as ppb"
   ]
  },
  {
   "cell_type": "code",
   "execution_count": 5,
   "id": "8035a504",
   "metadata": {
    "execution": {
     "iopub.execute_input": "2022-03-16T19:30:25.955320Z",
     "iopub.status.busy": "2022-03-16T19:30:25.954661Z",
     "iopub.status.idle": "2022-03-16T19:30:39.317925Z",
     "shell.execute_reply": "2022-03-16T19:30:39.318746Z"
    },
    "papermill": {
     "duration": 13.632031,
     "end_time": "2022-03-16T19:30:39.318924",
     "exception": false,
     "start_time": "2022-03-16T19:30:25.686893",
     "status": "completed"
    },
    "tags": []
   },
   "outputs": [
    {
     "name": "stderr",
     "output_type": "stream",
     "text": [
      "Some weights of the model checkpoint at distilbert-base-uncased were not used when initializing DistilBertModel: ['vocab_projector.bias', 'vocab_projector.weight', 'vocab_layer_norm.weight', 'vocab_transform.weight', 'vocab_layer_norm.bias', 'vocab_transform.bias']\n",
      "- This IS expected if you are initializing DistilBertModel from the checkpoint of a model trained on another task or with another architecture (e.g. initializing a BertForSequenceClassification model from a BertForPreTraining model).\n",
      "- This IS NOT expected if you are initializing DistilBertModel from the checkpoint of a model that you expect to be exactly identical (initializing a BertForSequenceClassification model from a BertForSequenceClassification model).\n"
     ]
    }
   ],
   "source": [
    "# For DistilBERT:\n",
    "model_class_11, tokenizer_class_11, pretrained_weights_11 = (ppb.DistilBertModel, ppb.DistilBertTokenizer, 'distilbert-base-uncased')\n",
    "\n",
    "# ## Want BERT instead of distilBERT? Uncomment the following line:\n",
    "# model_class_11, tokenizer_class_11, pretrained_weights_11 = (ppb.BertModel, ppb.BertTokenizer, 'bert-base-uncased')\n",
    "\n",
    "# Load pretrained model/tokenizer\n",
    "tokenizer_11 = tokenizer_class_11.from_pretrained(pretrained_weights_11)\n",
    "model_11 = model_class_11.from_pretrained(pretrained_weights_11)"
   ]
  },
  {
   "cell_type": "code",
   "execution_count": 6,
   "id": "12b21cf1",
   "metadata": {
    "execution": {
     "iopub.execute_input": "2022-03-16T19:30:39.845464Z",
     "iopub.status.busy": "2022-03-16T19:30:39.844569Z",
     "iopub.status.idle": "2022-03-16T19:30:39.846397Z",
     "shell.execute_reply": "2022-03-16T19:30:39.846873Z"
    },
    "papermill": {
     "duration": 0.266702,
     "end_time": "2022-03-16T19:30:39.847005",
     "exception": false,
     "start_time": "2022-03-16T19:30:39.580303",
     "status": "completed"
    },
    "tags": []
   },
   "outputs": [],
   "source": [
    "def clean_text_for_BERT(text):\n",
    "    '''Функция на вход получает текст, на выходе выдаёт очищенный текст для BERT'''\n",
    "    \n",
    "    text = re.sub(\"@[\\w'._+-:]+\", 'USER_NAME_TAG', text) # второй шаг - убираем ники пользователей твитера, т.к. обычно не несут никакой окраски\n",
    "    text = re.sub('https?://\\S+|www\\.\\S+', 'URL_TAG', text) # третий шаг - убираем ссылки в твитах, т.к. названия ссылок  обычно не влияют на тональность \n",
    "\n",
    "    return text"
   ]
  },
  {
   "cell_type": "code",
   "execution_count": 7,
   "id": "2f260955",
   "metadata": {
    "execution": {
     "iopub.execute_input": "2022-03-16T19:30:40.381593Z",
     "iopub.status.busy": "2022-03-16T19:30:40.380825Z",
     "iopub.status.idle": "2022-03-16T19:30:40.384228Z",
     "shell.execute_reply": "2022-03-16T19:30:40.383757Z"
    },
    "papermill": {
     "duration": 0.265542,
     "end_time": "2022-03-16T19:30:40.384355",
     "exception": false,
     "start_time": "2022-03-16T19:30:40.118813",
     "status": "completed"
    },
    "tags": []
   },
   "outputs": [],
   "source": [
    "df_11 = df_1.copy()"
   ]
  },
  {
   "cell_type": "code",
   "execution_count": 8,
   "id": "2d068a9b",
   "metadata": {
    "execution": {
     "iopub.execute_input": "2022-03-16T19:30:40.926365Z",
     "iopub.status.busy": "2022-03-16T19:30:40.916146Z",
     "iopub.status.idle": "2022-03-16T19:30:41.036670Z",
     "shell.execute_reply": "2022-03-16T19:30:41.036183Z"
    },
    "papermill": {
     "duration": 0.393462,
     "end_time": "2022-03-16T19:30:41.036808",
     "exception": false,
     "start_time": "2022-03-16T19:30:40.643346",
     "status": "completed"
    },
    "tags": []
   },
   "outputs": [],
   "source": [
    "df_11['tweet'] = df_11['tweet'].apply(clean_text_for_BERT)"
   ]
  },
  {
   "cell_type": "code",
   "execution_count": 9,
   "id": "7f68d44d",
   "metadata": {},
   "outputs": [],
   "source": [
    "# df_11 = pd.read_csv('df_2_task_1.csv', encoding='utf-8', index_col='Unnamed: 0')"
   ]
  },
  {
   "cell_type": "code",
   "execution_count": 10,
   "id": "735bc8c3",
   "metadata": {},
   "outputs": [],
   "source": [
    "df_11 = df_11.drop(columns=['count','hate_speech', 'offensive_language', 'neither'])"
   ]
  },
  {
   "cell_type": "code",
   "execution_count": 11,
   "id": "6e5ff308",
   "metadata": {},
   "outputs": [
    {
     "data": {
      "text/html": [
       "<div>\n",
       "<style scoped>\n",
       "    .dataframe tbody tr th:only-of-type {\n",
       "        vertical-align: middle;\n",
       "    }\n",
       "\n",
       "    .dataframe tbody tr th {\n",
       "        vertical-align: top;\n",
       "    }\n",
       "\n",
       "    .dataframe thead th {\n",
       "        text-align: right;\n",
       "    }\n",
       "</style>\n",
       "<table border=\"1\" class=\"dataframe\">\n",
       "  <thead>\n",
       "    <tr style=\"text-align: right;\">\n",
       "      <th></th>\n",
       "      <th>class</th>\n",
       "      <th>tweet</th>\n",
       "    </tr>\n",
       "  </thead>\n",
       "  <tbody>\n",
       "    <tr>\n",
       "      <th>0</th>\n",
       "      <td>2</td>\n",
       "      <td>!!! RT USER_NAME_TAG As a woman you shouldn't ...</td>\n",
       "    </tr>\n",
       "    <tr>\n",
       "      <th>1</th>\n",
       "      <td>1</td>\n",
       "      <td>!!!!! RT USER_NAME_TAG boy dats cold...tyga dw...</td>\n",
       "    </tr>\n",
       "    <tr>\n",
       "      <th>2</th>\n",
       "      <td>1</td>\n",
       "      <td>!!!!!!! RT USER_NAME_TAG Dawg!!!! RT USER_NAME...</td>\n",
       "    </tr>\n",
       "    <tr>\n",
       "      <th>3</th>\n",
       "      <td>1</td>\n",
       "      <td>!!!!!!!!! RT USER_NAME_TAG USER_NAME_TAG she l...</td>\n",
       "    </tr>\n",
       "    <tr>\n",
       "      <th>4</th>\n",
       "      <td>1</td>\n",
       "      <td>!!!!!!!!!!!!! RT USER_NAME_TAG The shit you he...</td>\n",
       "    </tr>\n",
       "  </tbody>\n",
       "</table>\n",
       "</div>"
      ],
      "text/plain": [
       "   class                                              tweet\n",
       "0      2  !!! RT USER_NAME_TAG As a woman you shouldn't ...\n",
       "1      1  !!!!! RT USER_NAME_TAG boy dats cold...tyga dw...\n",
       "2      1  !!!!!!! RT USER_NAME_TAG Dawg!!!! RT USER_NAME...\n",
       "3      1  !!!!!!!!! RT USER_NAME_TAG USER_NAME_TAG she l...\n",
       "4      1  !!!!!!!!!!!!! RT USER_NAME_TAG The shit you he..."
      ]
     },
     "execution_count": 11,
     "metadata": {},
     "output_type": "execute_result"
    }
   ],
   "source": [
    "df_11.head()"
   ]
  },
  {
   "cell_type": "code",
   "execution_count": null,
   "id": "96f5d73e",
   "metadata": {},
   "outputs": [],
   "source": []
  },
  {
   "cell_type": "code",
   "execution_count": 12,
   "id": "22ec0c48",
   "metadata": {
    "execution": {
     "iopub.execute_input": "2022-03-16T19:30:41.573036Z",
     "iopub.status.busy": "2022-03-16T19:30:41.572192Z",
     "iopub.status.idle": "2022-03-16T19:30:57.897800Z",
     "shell.execute_reply": "2022-03-16T19:30:57.896838Z"
    },
    "papermill": {
     "duration": 16.600602,
     "end_time": "2022-03-16T19:30:57.897952",
     "exception": false,
     "start_time": "2022-03-16T19:30:41.297350",
     "status": "completed"
    },
    "tags": []
   },
   "outputs": [],
   "source": [
    "#токенизация\n",
    "tokenized = df_11['tweet'].apply(lambda x: tokenizer_11.encode(x, add_special_tokens=True))"
   ]
  },
  {
   "cell_type": "code",
   "execution_count": 13,
   "id": "c3102850",
   "metadata": {
    "execution": {
     "iopub.execute_input": "2022-03-16T19:30:58.467215Z",
     "iopub.status.busy": "2022-03-16T19:30:58.444187Z",
     "iopub.status.idle": "2022-03-16T19:31:00.558434Z",
     "shell.execute_reply": "2022-03-16T19:31:00.557946Z"
    },
    "papermill": {
     "duration": 2.400921,
     "end_time": "2022-03-16T19:31:00.558574",
     "exception": false,
     "start_time": "2022-03-16T19:30:58.157653",
     "status": "completed"
    },
    "tags": []
   },
   "outputs": [],
   "source": [
    "#padding - Выравниваем предложения по длине с помощью нулевых токенов.\n",
    "\n",
    "# находим самое длинное предложение\n",
    "max_len = 0\n",
    "for i in tokenized.values:\n",
    "    if len(i) > max_len:\n",
    "        max_len = len(i)\n",
    "\n",
    "# заполняем обучающие данные, где не хватает длины до максимума -- добавляем нули\n",
    "padded = np.array([i + [0]*(max_len-len(i)) for i in tokenized.values])"
   ]
  },
  {
   "cell_type": "code",
   "execution_count": 14,
   "id": "3de4d4d1",
   "metadata": {
    "execution": {
     "iopub.execute_input": "2022-03-16T19:31:01.082057Z",
     "iopub.status.busy": "2022-03-16T19:31:01.080868Z",
     "iopub.status.idle": "2022-03-16T19:31:01.119123Z",
     "shell.execute_reply": "2022-03-16T19:31:01.119646Z"
    },
    "papermill": {
     "duration": 0.302101,
     "end_time": "2022-03-16T19:31:01.119806",
     "exception": false,
     "start_time": "2022-03-16T19:31:00.817705",
     "status": "completed"
    },
    "tags": []
   },
   "outputs": [
    {
     "data": {
      "text/plain": [
       "(24783, 479)"
      ]
     },
     "execution_count": 14,
     "metadata": {},
     "output_type": "execute_result"
    }
   ],
   "source": [
    "np.array(padded).shape"
   ]
  },
  {
   "cell_type": "code",
   "execution_count": 15,
   "id": "a053d24b",
   "metadata": {
    "execution": {
     "iopub.execute_input": "2022-03-16T19:31:01.646492Z",
     "iopub.status.busy": "2022-03-16T19:31:01.645797Z",
     "iopub.status.idle": "2022-03-16T19:31:01.648735Z",
     "shell.execute_reply": "2022-03-16T19:31:01.649139Z"
    },
    "papermill": {
     "duration": 0.27082,
     "end_time": "2022-03-16T19:31:01.649269",
     "exception": false,
     "start_time": "2022-03-16T19:31:01.378449",
     "status": "completed"
    },
    "tags": []
   },
   "outputs": [
    {
     "data": {
      "text/plain": [
       "array([  101,   999,   999,   999, 19387,  5310,  1035,  2171,  1035,\n",
       "        6415,  2004,  1037,  2450,  2017,  5807,  1005,  1056, 17612,\n",
       "        2055,  9344,  2039,  2115,  2160,  1012,  1004, 23713,  1025,\n",
       "        2004,  1037,  2158,  2017,  2323,  2467,  2202,  1996, 11669,\n",
       "        2041,  1012,  1012,  1012,   102,     0,     0,     0,     0,\n",
       "           0,     0,     0,     0,     0,     0,     0,     0,     0,\n",
       "           0,     0,     0,     0,     0,     0,     0,     0,     0,\n",
       "           0,     0,     0,     0,     0,     0,     0,     0,     0,\n",
       "           0,     0,     0,     0,     0,     0,     0,     0,     0,\n",
       "           0,     0,     0,     0,     0,     0,     0,     0,     0,\n",
       "           0,     0,     0,     0,     0,     0,     0,     0,     0,\n",
       "           0,     0,     0,     0,     0,     0,     0,     0,     0,\n",
       "           0,     0,     0,     0,     0,     0,     0,     0,     0,\n",
       "           0,     0,     0,     0,     0,     0,     0,     0,     0,\n",
       "           0,     0,     0,     0,     0,     0,     0,     0,     0,\n",
       "           0,     0,     0,     0,     0,     0,     0,     0,     0,\n",
       "           0,     0,     0,     0,     0,     0,     0,     0,     0,\n",
       "           0,     0,     0,     0,     0,     0,     0,     0,     0,\n",
       "           0,     0,     0,     0,     0,     0,     0,     0,     0,\n",
       "           0,     0,     0,     0,     0,     0,     0,     0,     0,\n",
       "           0,     0,     0,     0,     0,     0,     0,     0,     0,\n",
       "           0,     0,     0,     0,     0,     0,     0,     0,     0,\n",
       "           0,     0,     0,     0,     0,     0,     0,     0,     0,\n",
       "           0,     0,     0,     0,     0,     0,     0,     0,     0,\n",
       "           0,     0,     0,     0,     0,     0,     0,     0,     0,\n",
       "           0,     0,     0,     0,     0,     0,     0,     0,     0,\n",
       "           0,     0,     0,     0,     0,     0,     0,     0,     0,\n",
       "           0,     0,     0,     0,     0,     0,     0,     0,     0,\n",
       "           0,     0,     0,     0,     0,     0,     0,     0,     0,\n",
       "           0,     0,     0,     0,     0,     0,     0,     0,     0,\n",
       "           0,     0,     0,     0,     0,     0,     0,     0,     0,\n",
       "           0,     0,     0,     0,     0,     0,     0,     0,     0,\n",
       "           0,     0,     0,     0,     0,     0,     0,     0,     0,\n",
       "           0,     0,     0,     0,     0,     0,     0,     0,     0,\n",
       "           0,     0,     0,     0,     0,     0,     0,     0,     0,\n",
       "           0,     0,     0,     0,     0,     0,     0,     0,     0,\n",
       "           0,     0,     0,     0,     0,     0,     0,     0,     0,\n",
       "           0,     0,     0,     0,     0,     0,     0,     0,     0,\n",
       "           0,     0,     0,     0,     0,     0,     0,     0,     0,\n",
       "           0,     0,     0,     0,     0,     0,     0,     0,     0,\n",
       "           0,     0,     0,     0,     0,     0,     0,     0,     0,\n",
       "           0,     0,     0,     0,     0,     0,     0,     0,     0,\n",
       "           0,     0,     0,     0,     0,     0,     0,     0,     0,\n",
       "           0,     0,     0,     0,     0,     0,     0,     0,     0,\n",
       "           0,     0,     0,     0,     0,     0,     0,     0,     0,\n",
       "           0,     0,     0,     0,     0,     0,     0,     0,     0,\n",
       "           0,     0,     0,     0,     0,     0,     0,     0,     0,\n",
       "           0,     0,     0,     0,     0,     0,     0,     0,     0,\n",
       "           0,     0,     0,     0,     0,     0,     0,     0,     0,\n",
       "           0,     0,     0,     0,     0,     0,     0,     0,     0,\n",
       "           0,     0,     0,     0,     0,     0,     0,     0,     0,\n",
       "           0,     0,     0,     0,     0,     0,     0,     0,     0,\n",
       "           0,     0,     0,     0,     0,     0,     0,     0,     0,\n",
       "           0,     0])"
      ]
     },
     "execution_count": 15,
     "metadata": {},
     "output_type": "execute_result"
    }
   ],
   "source": [
    "padded[0]"
   ]
  },
  {
   "cell_type": "code",
   "execution_count": 16,
   "id": "b8f3e294",
   "metadata": {
    "execution": {
     "iopub.execute_input": "2022-03-16T19:31:02.174196Z",
     "iopub.status.busy": "2022-03-16T19:31:02.173277Z",
     "iopub.status.idle": "2022-03-16T19:31:02.216218Z",
     "shell.execute_reply": "2022-03-16T19:31:02.216674Z"
    },
    "papermill": {
     "duration": 0.308394,
     "end_time": "2022-03-16T19:31:02.216830",
     "exception": false,
     "start_time": "2022-03-16T19:31:01.908436",
     "status": "completed"
    },
    "tags": []
   },
   "outputs": [
    {
     "data": {
      "text/plain": [
       "array([1, 1, 1, 1, 1, 1, 1, 1, 1, 1, 1, 1, 1, 1, 1, 1, 1, 1, 1, 1, 1, 1,\n",
       "       1, 1, 1, 1, 1, 1, 1, 1, 1, 1, 1, 1, 1, 1, 1, 1, 1, 1, 1, 0, 0, 0,\n",
       "       0, 0, 0, 0, 0, 0, 0, 0, 0, 0, 0, 0, 0, 0, 0, 0, 0, 0, 0, 0, 0, 0,\n",
       "       0, 0, 0, 0, 0, 0, 0, 0, 0, 0, 0, 0, 0, 0, 0, 0, 0, 0, 0, 0, 0, 0,\n",
       "       0, 0, 0, 0, 0, 0, 0, 0, 0, 0, 0, 0, 0, 0, 0, 0, 0, 0, 0, 0, 0, 0,\n",
       "       0, 0, 0, 0, 0, 0, 0, 0, 0, 0, 0, 0, 0, 0, 0, 0, 0, 0, 0, 0, 0, 0,\n",
       "       0, 0, 0, 0, 0, 0, 0, 0, 0, 0, 0, 0, 0, 0, 0, 0, 0, 0, 0, 0, 0, 0,\n",
       "       0, 0, 0, 0, 0, 0, 0, 0, 0, 0, 0, 0, 0, 0, 0, 0, 0, 0, 0, 0, 0, 0,\n",
       "       0, 0, 0, 0, 0, 0, 0, 0, 0, 0, 0, 0, 0, 0, 0, 0, 0, 0, 0, 0, 0, 0,\n",
       "       0, 0, 0, 0, 0, 0, 0, 0, 0, 0, 0, 0, 0, 0, 0, 0, 0, 0, 0, 0, 0, 0,\n",
       "       0, 0, 0, 0, 0, 0, 0, 0, 0, 0, 0, 0, 0, 0, 0, 0, 0, 0, 0, 0, 0, 0,\n",
       "       0, 0, 0, 0, 0, 0, 0, 0, 0, 0, 0, 0, 0, 0, 0, 0, 0, 0, 0, 0, 0, 0,\n",
       "       0, 0, 0, 0, 0, 0, 0, 0, 0, 0, 0, 0, 0, 0, 0, 0, 0, 0, 0, 0, 0, 0,\n",
       "       0, 0, 0, 0, 0, 0, 0, 0, 0, 0, 0, 0, 0, 0, 0, 0, 0, 0, 0, 0, 0, 0,\n",
       "       0, 0, 0, 0, 0, 0, 0, 0, 0, 0, 0, 0, 0, 0, 0, 0, 0, 0, 0, 0, 0, 0,\n",
       "       0, 0, 0, 0, 0, 0, 0, 0, 0, 0, 0, 0, 0, 0, 0, 0, 0, 0, 0, 0, 0, 0,\n",
       "       0, 0, 0, 0, 0, 0, 0, 0, 0, 0, 0, 0, 0, 0, 0, 0, 0, 0, 0, 0, 0, 0,\n",
       "       0, 0, 0, 0, 0, 0, 0, 0, 0, 0, 0, 0, 0, 0, 0, 0, 0, 0, 0, 0, 0, 0,\n",
       "       0, 0, 0, 0, 0, 0, 0, 0, 0, 0, 0, 0, 0, 0, 0, 0, 0, 0, 0, 0, 0, 0,\n",
       "       0, 0, 0, 0, 0, 0, 0, 0, 0, 0, 0, 0, 0, 0, 0, 0, 0, 0, 0, 0, 0, 0,\n",
       "       0, 0, 0, 0, 0, 0, 0, 0, 0, 0, 0, 0, 0, 0, 0, 0, 0, 0, 0, 0, 0, 0,\n",
       "       0, 0, 0, 0, 0, 0, 0, 0, 0, 0, 0, 0, 0, 0, 0, 0, 0])"
      ]
     },
     "execution_count": 16,
     "metadata": {},
     "output_type": "execute_result"
    }
   ],
   "source": [
    "#Masking - Теперь создаём отдельную переменную, чтобы сказать берту, что надо игнорировать паддинг при подсчёте attention.\n",
    "attention_mask = np.where(padded != 0, 1, 0)\n",
    "attention_mask.shape\n",
    "attention_mask[0]"
   ]
  },
  {
   "cell_type": "code",
   "execution_count": 17,
   "id": "ee0efd51",
   "metadata": {
    "execution": {
     "iopub.execute_input": "2022-03-16T19:31:02.743154Z",
     "iopub.status.busy": "2022-03-16T19:31:02.741614Z",
     "iopub.status.idle": "2022-03-16T19:31:02.743738Z",
     "shell.execute_reply": "2022-03-16T19:31:02.744153Z"
    },
    "papermill": {
     "duration": 0.26729,
     "end_time": "2022-03-16T19:31:02.744286",
     "exception": false,
     "start_time": "2022-03-16T19:31:02.476996",
     "status": "completed"
    },
    "tags": []
   },
   "outputs": [],
   "source": [
    "import torch"
   ]
  },
  {
   "cell_type": "code",
   "execution_count": 19,
   "id": "fe39d822",
   "metadata": {
    "execution": {
     "iopub.execute_input": "2022-03-16T19:31:03.267284Z",
     "iopub.status.busy": "2022-03-16T19:31:03.266248Z",
     "iopub.status.idle": "2022-03-16T19:33:07.638867Z",
     "shell.execute_reply": "2022-03-16T19:33:07.639993Z"
    },
    "papermill": {
     "duration": 124.637283,
     "end_time": "2022-03-16T19:33:07.640239",
     "exception": false,
     "start_time": "2022-03-16T19:31:03.002956",
     "status": "completed"
    },
    "tags": []
   },
   "outputs": [
    {
     "name": "stderr",
     "output_type": "stream",
     "text": [
      "C:\\Users\\D683~1\\AppData\\Local\\Temp/ipykernel_7084/1703350870.py:4: UserWarning: To copy construct from a tensor, it is recommended to use sourceTensor.clone().detach() or sourceTensor.clone().detach().requires_grad_(True), rather than torch.tensor(sourceTensor).\n",
      "  attention_mask = torch.tensor(attention_mask[:1000])\n"
     ]
    }
   ],
   "source": [
    "#Используем BERT-model() прогоняет предложения через BERT\n",
    "# повысить если Kaggle-Kernel\n",
    "input_ids = torch.tensor(padded[:1000])  \n",
    "attention_mask = torch.tensor(attention_mask[:1000])\n",
    "\n",
    "with torch.no_grad():\n",
    "    last_hidden_states = model_11(input_ids, attention_mask=attention_mask)"
   ]
  },
  {
   "cell_type": "code",
   "execution_count": 20,
   "id": "22a24237",
   "metadata": {
    "execution": {
     "iopub.execute_input": "2022-03-16T19:33:08.486711Z",
     "iopub.status.busy": "2022-03-16T19:33:08.485811Z",
     "iopub.status.idle": "2022-03-16T19:33:08.487700Z",
     "shell.execute_reply": "2022-03-16T19:33:08.488107Z"
    },
    "papermill": {
     "duration": 0.421111,
     "end_time": "2022-03-16T19:33:08.488236",
     "exception": false,
     "start_time": "2022-03-16T19:33:08.067125",
     "status": "completed"
    },
    "tags": []
   },
   "outputs": [],
   "source": [
    "features = last_hidden_states[0][:,0,:].numpy()"
   ]
  },
  {
   "cell_type": "code",
   "execution_count": 21,
   "id": "c18355c4",
   "metadata": {
    "execution": {
     "iopub.execute_input": "2022-03-16T19:33:09.020681Z",
     "iopub.status.busy": "2022-03-16T19:33:09.019498Z",
     "iopub.status.idle": "2022-03-16T19:33:09.023112Z",
     "shell.execute_reply": "2022-03-16T19:33:09.022704Z"
    },
    "papermill": {
     "duration": 0.271781,
     "end_time": "2022-03-16T19:33:09.023234",
     "exception": false,
     "start_time": "2022-03-16T19:33:08.751453",
     "status": "completed"
    },
    "tags": []
   },
   "outputs": [
    {
     "data": {
      "text/plain": [
       "array([[-0.01853382, -0.05220667,  0.05905863, ..., -0.12232067,\n",
       "         0.20900404,  0.4365031 ],\n",
       "       [-0.27208817,  0.09054741,  0.11396429, ..., -0.15788054,\n",
       "         0.43918195,  0.4675711 ],\n",
       "       [ 0.05119757,  0.14024201,  0.0734151 , ..., -0.30908403,\n",
       "         0.42747226,  0.2912435 ],\n",
       "       ...,\n",
       "       [-0.02615643, -0.06772915,  0.03091111, ...,  0.22787833,\n",
       "         0.3997597 ,  0.25893313],\n",
       "       [-0.5325556 , -0.2915119 , -0.0599588 , ...,  0.09136757,\n",
       "         0.07455762,  0.4762268 ],\n",
       "       [-0.39163068, -0.12098335, -0.04429083, ..., -0.13627703,\n",
       "         0.20316641,  0.4516092 ]], dtype=float32)"
      ]
     },
     "execution_count": 21,
     "metadata": {},
     "output_type": "execute_result"
    }
   ],
   "source": [
    "features"
   ]
  },
  {
   "cell_type": "code",
   "execution_count": 22,
   "id": "0016c6f3",
   "metadata": {
    "execution": {
     "iopub.execute_input": "2022-03-16T19:33:09.554092Z",
     "iopub.status.busy": "2022-03-16T19:33:09.551313Z",
     "iopub.status.idle": "2022-03-16T19:33:09.556487Z",
     "shell.execute_reply": "2022-03-16T19:33:09.556899Z"
    },
    "papermill": {
     "duration": 0.271021,
     "end_time": "2022-03-16T19:33:09.557028",
     "exception": false,
     "start_time": "2022-03-16T19:33:09.286007",
     "status": "completed"
    },
    "tags": []
   },
   "outputs": [
    {
     "data": {
      "text/plain": [
       "(1000, 768)"
      ]
     },
     "execution_count": 22,
     "metadata": {},
     "output_type": "execute_result"
    }
   ],
   "source": [
    "features.shape"
   ]
  },
  {
   "cell_type": "code",
   "execution_count": 23,
   "id": "5849654a",
   "metadata": {
    "execution": {
     "iopub.execute_input": "2022-03-16T19:33:10.088803Z",
     "iopub.status.busy": "2022-03-16T19:33:10.088045Z",
     "iopub.status.idle": "2022-03-16T19:33:10.090625Z",
     "shell.execute_reply": "2022-03-16T19:33:10.090143Z"
    },
    "papermill": {
     "duration": 0.270167,
     "end_time": "2022-03-16T19:33:10.090749",
     "exception": false,
     "start_time": "2022-03-16T19:33:09.820582",
     "status": "completed"
    },
    "tags": []
   },
   "outputs": [],
   "source": [
    "labels = df_11['class'][:1000]"
   ]
  },
  {
   "cell_type": "code",
   "execution_count": 24,
   "id": "4de7698b",
   "metadata": {
    "execution": {
     "iopub.execute_input": "2022-03-16T19:33:10.620857Z",
     "iopub.status.busy": "2022-03-16T19:33:10.620053Z",
     "iopub.status.idle": "2022-03-16T19:33:10.624974Z",
     "shell.execute_reply": "2022-03-16T19:33:10.624459Z"
    },
    "papermill": {
     "duration": 0.272142,
     "end_time": "2022-03-16T19:33:10.625101",
     "exception": false,
     "start_time": "2022-03-16T19:33:10.352959",
     "status": "completed"
    },
    "tags": []
   },
   "outputs": [
    {
     "data": {
      "text/plain": [
       "array([2, 1, 0], dtype=int64)"
      ]
     },
     "execution_count": 24,
     "metadata": {},
     "output_type": "execute_result"
    }
   ],
   "source": [
    "labels.unique()"
   ]
  },
  {
   "cell_type": "code",
   "execution_count": 25,
   "id": "b3bb93b8",
   "metadata": {
    "execution": {
     "iopub.execute_input": "2022-03-16T19:33:11.167541Z",
     "iopub.status.busy": "2022-03-16T19:33:11.166640Z",
     "iopub.status.idle": "2022-03-16T19:33:11.383961Z",
     "shell.execute_reply": "2022-03-16T19:33:11.384585Z"
    },
    "papermill": {
     "duration": 0.493825,
     "end_time": "2022-03-16T19:33:11.384762",
     "exception": false,
     "start_time": "2022-03-16T19:33:10.890937",
     "status": "completed"
    },
    "tags": []
   },
   "outputs": [
    {
     "data": {
      "text/plain": [
       "<AxesSubplot:>"
      ]
     },
     "execution_count": 25,
     "metadata": {},
     "output_type": "execute_result"
    },
    {
     "data": {
      "image/png": "[encoded data removed]",
      "text/plain": [
       "<Figure size 432x288 with 1 Axes>"
      ]
     },
     "metadata": {
      "needs_background": "light"
     },
     "output_type": "display_data"
    }
   ],
   "source": [
    "labels.hist()"
   ]
  },
  {
   "cell_type": "code",
   "execution_count": 26,
   "id": "2567a8a2",
   "metadata": {
    "execution": {
     "iopub.execute_input": "2022-03-16T19:33:12.033144Z",
     "iopub.status.busy": "2022-03-16T19:33:12.032516Z",
     "iopub.status.idle": "2022-03-16T19:33:12.035178Z",
     "shell.execute_reply": "2022-03-16T19:33:12.035804Z"
    },
    "papermill": {
     "duration": 0.384942,
     "end_time": "2022-03-16T19:33:12.036017",
     "exception": false,
     "start_time": "2022-03-16T19:33:11.651075",
     "status": "completed"
    },
    "tags": []
   },
   "outputs": [
    {
     "data": {
      "text/plain": [
       "(1000,)"
      ]
     },
     "execution_count": 26,
     "metadata": {},
     "output_type": "execute_result"
    }
   ],
   "source": [
    "labels.shape"
   ]
  },
  {
   "cell_type": "code",
   "execution_count": 38,
   "id": "49b98f7a",
   "metadata": {
    "execution": {
     "iopub.execute_input": "2022-03-16T19:33:12.720806Z",
     "iopub.status.busy": "2022-03-16T19:33:12.718012Z",
     "iopub.status.idle": "2022-03-16T19:33:12.723108Z",
     "shell.execute_reply": "2022-03-16T19:33:12.723499Z"
    },
    "papermill": {
     "duration": 0.275255,
     "end_time": "2022-03-16T19:33:12.723650",
     "exception": false,
     "start_time": "2022-03-16T19:33:12.448395",
     "status": "completed"
    },
    "tags": []
   },
   "outputs": [],
   "source": [
    "#LogReg на признаках из BERT\n",
    "train_features, test_features, train_labels, test_labels = train_test_split(features, labels, \n",
    "                                                                            test_size=0.35)"
   ]
  },
  {
   "cell_type": "code",
   "execution_count": null,
   "id": "6249e908",
   "metadata": {},
   "outputs": [],
   "source": []
  },
  {
   "cell_type": "code",
   "execution_count": 39,
   "id": "220f4203",
   "metadata": {},
   "outputs": [],
   "source": [
    "sm = SMOTE (#sampling_strategy = 0.9,\n",
    "        random_state=0,\n",
    "        k_neighbors=4)\n",
    "X_train_res, y_train_res = sm.fit_resample(train_features, train_labels)"
   ]
  },
  {
   "cell_type": "code",
   "execution_count": null,
   "id": "026d6458",
   "metadata": {},
   "outputs": [],
   "source": []
  },
  {
   "cell_type": "markdown",
   "id": "a687c98e",
   "metadata": {},
   "source": [
    "## текст обработанный как и в других способах -3000"
   ]
  },
  {
   "cell_type": "code",
   "execution_count": 77,
   "id": "ee073a9e",
   "metadata": {
    "execution": {
     "iopub.execute_input": "2022-03-16T19:33:13.262432Z",
     "iopub.status.busy": "2022-03-16T19:33:13.261416Z",
     "iopub.status.idle": "2022-03-16T19:33:13.402048Z",
     "shell.execute_reply": "2022-03-16T19:33:13.402759Z"
    },
    "papermill": {
     "duration": 0.41123,
     "end_time": "2022-03-16T19:33:13.402981",
     "exception": false,
     "start_time": "2022-03-16T19:33:12.991751",
     "status": "completed"
    },
    "tags": []
   },
   "outputs": [
    {
     "name": "stdout",
     "output_type": "stream",
     "text": [
      "              precision    recall  f1-score   support\n",
      "\n",
      "           0       0.53      0.24      0.33       171\n",
      "           1       0.76      0.94      0.84       604\n",
      "           2       0.78      0.60      0.68       225\n",
      "\n",
      "    accuracy                           0.74      1000\n",
      "   macro avg       0.69      0.59      0.61      1000\n",
      "weighted avg       0.72      0.74      0.71      1000\n",
      "\n"
     ]
    },
    {
     "name": "stderr",
     "output_type": "stream",
     "text": [
      "C:\\conda2\\lib\\site-packages\\sklearn\\linear_model\\_logistic.py:763: ConvergenceWarning: lbfgs failed to converge (status=1):\n",
      "STOP: TOTAL NO. of ITERATIONS REACHED LIMIT.\n",
      "\n",
      "Increase the number of iterations (max_iter) or scale the data as shown in:\n",
      "    https://scikit-learn.org/stable/modules/preprocessing.html\n",
      "Please also refer to the documentation for alternative solver options:\n",
      "    https://scikit-learn.org/stable/modules/linear_model.html#logistic-regression\n",
      "  n_iter_i = _check_optimize_result(\n"
     ]
    }
   ],
   "source": [
    "lr_clf_11 = LogisticRegression(class_weight = 'balanced')\n",
    "lr_clf_11.fit(train_features, train_labels)\n",
    "print(classification_report(lr_clf_11.predict(test_features), test_labels))"
   ]
  },
  {
   "cell_type": "markdown",
   "id": "4386cf20",
   "metadata": {},
   "source": [
    "## текст обработанный для Berta - 1000"
   ]
  },
  {
   "cell_type": "code",
   "execution_count": 28,
   "id": "cf0bd230",
   "metadata": {},
   "outputs": [
    {
     "name": "stdout",
     "output_type": "stream",
     "text": [
      "              precision    recall  f1-score   support\n",
      "\n",
      "           0       0.45      0.36      0.40        14\n",
      "           1       0.86      0.93      0.89       145\n",
      "           2       0.72      0.56      0.63        41\n",
      "\n",
      "    accuracy                           0.81       200\n",
      "   macro avg       0.68      0.62      0.64       200\n",
      "weighted avg       0.80      0.81      0.81       200\n",
      "\n"
     ]
    },
    {
     "name": "stderr",
     "output_type": "stream",
     "text": [
      "C:\\conda2\\lib\\site-packages\\sklearn\\linear_model\\_logistic.py:763: ConvergenceWarning: lbfgs failed to converge (status=1):\n",
      "STOP: TOTAL NO. of ITERATIONS REACHED LIMIT.\n",
      "\n",
      "Increase the number of iterations (max_iter) or scale the data as shown in:\n",
      "    https://scikit-learn.org/stable/modules/preprocessing.html\n",
      "Please also refer to the documentation for alternative solver options:\n",
      "    https://scikit-learn.org/stable/modules/linear_model.html#logistic-regression\n",
      "  n_iter_i = _check_optimize_result(\n"
     ]
    }
   ],
   "source": [
    "lr_clf_11 = LogisticRegression(class_weight = 'balanced')\n",
    "lr_clf_11.fit(train_features, train_labels)\n",
    "print(classification_report(lr_clf_11.predict(test_features), test_labels))"
   ]
  },
  {
   "cell_type": "markdown",
   "id": "662a6d5b",
   "metadata": {},
   "source": [
    "## текст обработанный для Berta - 1000 - 0,2 + SMOTE"
   ]
  },
  {
   "cell_type": "code",
   "execution_count": 36,
   "id": "857d1187",
   "metadata": {},
   "outputs": [
    {
     "name": "stdout",
     "output_type": "stream",
     "text": [
      "              precision    recall  f1-score   support\n",
      "\n",
      "           0       0.39      0.39      0.39        18\n",
      "           1       0.86      0.88      0.87       137\n",
      "           2       0.72      0.69      0.70        45\n",
      "\n",
      "    accuracy                           0.79       200\n",
      "   macro avg       0.66      0.65      0.65       200\n",
      "weighted avg       0.79      0.79      0.79       200\n",
      "\n"
     ]
    },
    {
     "name": "stderr",
     "output_type": "stream",
     "text": [
      "C:\\conda2\\lib\\site-packages\\sklearn\\linear_model\\_logistic.py:763: ConvergenceWarning: lbfgs failed to converge (status=1):\n",
      "STOP: TOTAL NO. of ITERATIONS REACHED LIMIT.\n",
      "\n",
      "Increase the number of iterations (max_iter) or scale the data as shown in:\n",
      "    https://scikit-learn.org/stable/modules/preprocessing.html\n",
      "Please also refer to the documentation for alternative solver options:\n",
      "    https://scikit-learn.org/stable/modules/linear_model.html#logistic-regression\n",
      "  n_iter_i = _check_optimize_result(\n"
     ]
    }
   ],
   "source": [
    "lr_clf_11 = LogisticRegression(class_weight = 'balanced')\n",
    "lr_clf_11.fit(X_train_res, y_train_res)\n",
    "print(classification_report(lr_clf_11.predict(test_features), test_labels))"
   ]
  },
  {
   "cell_type": "markdown",
   "id": "6a8706c0",
   "metadata": {},
   "source": [
    "## текст обработанный для Berta - 1000 - 0,35 + SMOTE"
   ]
  },
  {
   "cell_type": "code",
   "execution_count": 40,
   "id": "69310b60",
   "metadata": {},
   "outputs": [
    {
     "name": "stdout",
     "output_type": "stream",
     "text": [
      "              precision    recall  f1-score   support\n",
      "\n",
      "           0       0.33      0.40      0.36        20\n",
      "           1       0.89      0.90      0.89       259\n",
      "           2       0.69      0.61      0.65        71\n",
      "\n",
      "    accuracy                           0.81       350\n",
      "   macro avg       0.64      0.64      0.64       350\n",
      "weighted avg       0.82      0.81      0.81       350\n",
      "\n"
     ]
    },
    {
     "name": "stderr",
     "output_type": "stream",
     "text": [
      "C:\\conda2\\lib\\site-packages\\sklearn\\linear_model\\_logistic.py:763: ConvergenceWarning: lbfgs failed to converge (status=1):\n",
      "STOP: TOTAL NO. of ITERATIONS REACHED LIMIT.\n",
      "\n",
      "Increase the number of iterations (max_iter) or scale the data as shown in:\n",
      "    https://scikit-learn.org/stable/modules/preprocessing.html\n",
      "Please also refer to the documentation for alternative solver options:\n",
      "    https://scikit-learn.org/stable/modules/linear_model.html#logistic-regression\n",
      "  n_iter_i = _check_optimize_result(\n"
     ]
    }
   ],
   "source": [
    "lr_clf_11 = LogisticRegression(class_weight = 'balanced')\n",
    "lr_clf_11.fit(X_train_res, y_train_res)\n",
    "print(classification_report(lr_clf_11.predict(test_features), test_labels))"
   ]
  },
  {
   "cell_type": "code",
   "execution_count": null,
   "id": "02242e7b",
   "metadata": {},
   "outputs": [],
   "source": []
  },
  {
   "cell_type": "markdown",
   "id": "3a107f51",
   "metadata": {
    "papermill": {
     "duration": 0.268856,
     "end_time": "2022-03-16T19:33:14.546863",
     "exception": false,
     "start_time": "2022-03-16T19:33:14.278007",
     "status": "completed"
    },
    "tags": []
   },
   "source": [
    "## Двенадцатый способ - взять с BERTа и обучить SVC"
   ]
  },
  {
   "cell_type": "markdown",
   "id": "5927ab80",
   "metadata": {},
   "source": [
    "## текст обработанный как и в других способах - 3000"
   ]
  },
  {
   "cell_type": "code",
   "execution_count": 78,
   "id": "20f96b35",
   "metadata": {
    "execution": {
     "iopub.execute_input": "2022-03-16T19:33:15.088697Z",
     "iopub.status.busy": "2022-03-16T19:33:15.087979Z",
     "iopub.status.idle": "2022-03-16T19:33:15.101447Z",
     "shell.execute_reply": "2022-03-16T19:33:15.101861Z"
    },
    "papermill": {
     "duration": 0.286971,
     "end_time": "2022-03-16T19:33:15.101996",
     "exception": false,
     "start_time": "2022-03-16T19:33:14.815025",
     "status": "completed"
    },
    "tags": []
   },
   "outputs": [
    {
     "name": "stdout",
     "output_type": "stream",
     "text": [
      "              precision    recall  f1-score   support\n",
      "\n",
      "           0       0.55      0.23      0.32       189\n",
      "           1       0.72      0.94      0.82       575\n",
      "           2       0.79      0.58      0.67       236\n",
      "\n",
      "    accuracy                           0.72      1000\n",
      "   macro avg       0.69      0.58      0.60      1000\n",
      "weighted avg       0.71      0.72      0.69      1000\n",
      "\n"
     ]
    }
   ],
   "source": [
    "lr_clf_12 = SVC(class_weight = 'balanced')\n",
    "lr_clf_12.fit(train_features, train_labels)\n",
    "print(classification_report(lr_clf_12.predict(test_features), test_labels))"
   ]
  },
  {
   "cell_type": "markdown",
   "id": "9a507db7",
   "metadata": {},
   "source": [
    "## текст обработанный для Berta - 1000 - 0.2 для теста"
   ]
  },
  {
   "cell_type": "code",
   "execution_count": 29,
   "id": "41c13fdc",
   "metadata": {},
   "outputs": [
    {
     "name": "stdout",
     "output_type": "stream",
     "text": [
      "              precision    recall  f1-score   support\n",
      "\n",
      "           0       0.36      0.13      0.20        30\n",
      "           1       0.76      0.94      0.84       126\n",
      "           2       0.66      0.48      0.55        44\n",
      "\n",
      "    accuracy                           0.72       200\n",
      "   macro avg       0.59      0.52      0.53       200\n",
      "weighted avg       0.68      0.72      0.68       200\n",
      "\n"
     ]
    }
   ],
   "source": [
    "lr_clf_12 = SVC(class_weight = 'balanced')\n",
    "lr_clf_12.fit(train_features, train_labels)\n",
    "print(classification_report(lr_clf_12.predict(test_features), test_labels))"
   ]
  },
  {
   "cell_type": "markdown",
   "id": "0fce517c",
   "metadata": {},
   "source": [
    "## текст обработанный для Berta - 1000 - 0.35 для теста"
   ]
  },
  {
   "cell_type": "code",
   "execution_count": 32,
   "id": "d794e14f",
   "metadata": {},
   "outputs": [
    {
     "name": "stdout",
     "output_type": "stream",
     "text": [
      "              precision    recall  f1-score   support\n",
      "\n",
      "           0       0.57      0.15      0.24        52\n",
      "           1       0.77      0.96      0.85       221\n",
      "           2       0.72      0.56      0.63        77\n",
      "\n",
      "    accuracy                           0.75       350\n",
      "   macro avg       0.69      0.56      0.57       350\n",
      "weighted avg       0.73      0.75      0.71       350\n",
      "\n"
     ]
    }
   ],
   "source": [
    "lr_clf_12 = SVC(class_weight = 'balanced')\n",
    "lr_clf_12.fit(train_features, train_labels)\n",
    "print(classification_report(lr_clf_12.predict(test_features), test_labels))"
   ]
  },
  {
   "cell_type": "markdown",
   "id": "478dca7c",
   "metadata": {},
   "source": [
    "## текст обработанный для Berta - 1000 - 0,2 + SMOTE"
   ]
  },
  {
   "cell_type": "code",
   "execution_count": 37,
   "id": "5d7fb3bf",
   "metadata": {},
   "outputs": [
    {
     "name": "stdout",
     "output_type": "stream",
     "text": [
      "              precision    recall  f1-score   support\n",
      "\n",
      "           0       0.61      0.38      0.47        29\n",
      "           1       0.81      0.94      0.87       119\n",
      "           2       0.77      0.63      0.69        52\n",
      "\n",
      "    accuracy                           0.78       200\n",
      "   macro avg       0.73      0.65      0.68       200\n",
      "weighted avg       0.77      0.78      0.77       200\n",
      "\n"
     ]
    }
   ],
   "source": [
    "lr_clf_12 = SVC(class_weight = 'balanced')\n",
    "lr_clf_12.fit(X_train_res, y_train_res)\n",
    "print(classification_report(lr_clf_12.predict(test_features), test_labels))"
   ]
  },
  {
   "cell_type": "markdown",
   "id": "af222ce3",
   "metadata": {},
   "source": [
    "## текст обработанный для Berta - 1000 - 0,35 + SMOTE"
   ]
  },
  {
   "cell_type": "code",
   "execution_count": 41,
   "id": "3bb045d0",
   "metadata": {},
   "outputs": [
    {
     "name": "stdout",
     "output_type": "stream",
     "text": [
      "              precision    recall  f1-score   support\n",
      "\n",
      "           0       0.54      0.30      0.39        43\n",
      "           1       0.80      0.94      0.86       223\n",
      "           2       0.73      0.54      0.62        84\n",
      "\n",
      "    accuracy                           0.77       350\n",
      "   macro avg       0.69      0.59      0.62       350\n",
      "weighted avg       0.75      0.77      0.75       350\n",
      "\n"
     ]
    }
   ],
   "source": [
    "lr_clf_12 = SVC(class_weight = 'balanced')\n",
    "lr_clf_12.fit(X_train_res, y_train_res)\n",
    "print(classification_report(lr_clf_12.predict(test_features), test_labels))"
   ]
  }
 ],
 "metadata": {
  "kernelspec": {
   "display_name": "Python 3 (ipykernel)",
   "language": "python",
   "name": "python3"
  },
  "language_info": {
   "codemirror_mode": {
    "name": "ipython",
    "version": 3
   },
   "file_extension": ".py",
   "mimetype": "text/x-python",
   "name": "python",
   "nbconvert_exporter": "python",
   "pygments_lexer": "ipython3",
   "version": "3.9.7"
  },
  "papermill": {
   "default_parameters": {},
   "duration": 1370.529501,
   "end_time": "2022-03-16T19:33:19.757331",
   "environment_variables": {},
   "exception": null,
   "input_path": "__notebook__.ipynb",
   "output_path": "__notebook__.ipynb",
   "parameters": {},
   "start_time": "2022-03-16T19:10:29.227830",
   "version": "2.3.3"
  },
  "widgets": {
   "application/vnd.jupyter.widget-state+json": {
    "state": {
     "00c0eaee1cdb4acdb23397ea7b05620b": {
      "model_module": "@jupyter-widgets/controls",
      "model_module_version": "1.5.0",
      "model_name": "HBoxModel",
      "state": {
       "_dom_classes": [],
       "_model_module": "@jupyter-widgets/controls",
       "_model_module_version": "1.5.0",
       "_model_name": "HBoxModel",
       "_view_count": null,
       "_view_module": "@jupyter-widgets/controls",
       "_view_module_version": "1.5.0",
       "_view_name": "HBoxView",
       "box_style": "",
       "children": [
        "IPY_MODEL_b43161d170bd46b9beea242e39fde9a0",
        "IPY_MODEL_8b0faee5b8474e0fa186acd6d61ccf3d",
        "IPY_MODEL_d6896bec66a7405da92f95782dd84d37"
       ],
       "layout": "IPY_MODEL_b9a9b494d38642f68bcec0478760b0f2"
      }
     },
     "039ed214b8d94632af29afbd9f0f8953": {
      "model_module": "@jupyter-widgets/controls",
      "model_module_version": "1.5.0",
      "model_name": "DescriptionStyleModel",
      "state": {
       "_model_module": "@jupyter-widgets/controls",
       "_model_module_version": "1.5.0",
       "_model_name": "DescriptionStyleModel",
       "_view_count": null,
       "_view_module": "@jupyter-widgets/base",
       "_view_module_version": "1.2.0",
       "_view_name": "StyleView",
       "description_width": ""
      }
     },
     "07976ea7fee94b3abc6281aa6b1d2b45": {
      "model_module": "@jupyter-widgets/controls",
      "model_module_version": "1.5.0",
      "model_name": "HTMLModel",
      "state": {
       "_dom_classes": [],
       "_model_module": "@jupyter-widgets/controls",
       "_model_module_version": "1.5.0",
       "_model_name": "HTMLModel",
       "_view_count": null,
       "_view_module": "@jupyter-widgets/controls",
       "_view_module_version": "1.5.0",
       "_view_name": "HTMLView",
       "description": "",
       "description_tooltip": null,
       "layout": "IPY_MODEL_5fc9e760810c4246a0143081d325d310",
       "placeholder": "​",
       "style": "IPY_MODEL_36b4055c9c324ff88569b5012e38a147",
       "value": "Downloading: 100%"
      }
     },
     "0922e68fd1bd4988899754896e07e2a8": {
      "model_module": "@jupyter-widgets/base",
      "model_module_version": "1.2.0",
      "model_name": "LayoutModel",
      "state": {
       "_model_module": "@jupyter-widgets/base",
       "_model_module_version": "1.2.0",
       "_model_name": "LayoutModel",
       "_view_count": null,
       "_view_module": "@jupyter-widgets/base",
       "_view_module_version": "1.2.0",
       "_view_name": "LayoutView",
       "align_content": null,
       "align_items": null,
       "align_self": null,
       "border": null,
       "bottom": null,
       "display": null,
       "flex": null,
       "flex_flow": null,
       "grid_area": null,
       "grid_auto_columns": null,
       "grid_auto_flow": null,
       "grid_auto_rows": null,
       "grid_column": null,
       "grid_gap": null,
       "grid_row": null,
       "grid_template_areas": null,
       "grid_template_columns": null,
       "grid_template_rows": null,
       "height": null,
       "justify_content": null,
       "justify_items": null,
       "left": null,
       "margin": null,
       "max_height": null,
       "max_width": null,
       "min_height": null,
       "min_width": null,
       "object_fit": null,
       "object_position": null,
       "order": null,
       "overflow": null,
       "overflow_x": null,
       "overflow_y": null,
       "padding": null,
       "right": null,
       "top": null,
       "visibility": null,
       "width": null
      }
     },
     "0c0a6b7075414a93b88dc2124425d109": {
      "model_module": "@jupyter-widgets/base",
      "model_module_version": "1.2.0",
      "model_name": "LayoutModel",
      "state": {
       "_model_module": "@jupyter-widgets/base",
       "_model_module_version": "1.2.0",
       "_model_name": "LayoutModel",
       "_view_count": null,
       "_view_module": "@jupyter-widgets/base",
       "_view_module_version": "1.2.0",
       "_view_name": "LayoutView",
       "align_content": null,
       "align_items": null,
       "align_self": null,
       "border": null,
       "bottom": null,
       "display": null,
       "flex": null,
       "flex_flow": null,
       "grid_area": null,
       "grid_auto_columns": null,
       "grid_auto_flow": null,
       "grid_auto_rows": null,
       "grid_column": null,
       "grid_gap": null,
       "grid_row": null,
       "grid_template_areas": null,
       "grid_template_columns": null,
       "grid_template_rows": null,
       "height": null,
       "justify_content": null,
       "justify_items": null,
       "left": null,
       "margin": null,
       "max_height": null,
       "max_width": null,
       "min_height": null,
       "min_width": null,
       "object_fit": null,
       "object_position": null,
       "order": null,
       "overflow": null,
       "overflow_x": null,
       "overflow_y": null,
       "padding": null,
       "right": null,
       "top": null,
       "visibility": null,
       "width": null
      }
     },
     "1200f35acd07402a8f10517fb59ba889": {
      "model_module": "@jupyter-widgets/base",
      "model_module_version": "1.2.0",
      "model_name": "LayoutModel",
      "state": {
       "_model_module": "@jupyter-widgets/base",
       "_model_module_version": "1.2.0",
       "_model_name": "LayoutModel",
       "_view_count": null,
       "_view_module": "@jupyter-widgets/base",
       "_view_module_version": "1.2.0",
       "_view_name": "LayoutView",
       "align_content": null,
       "align_items": null,
       "align_self": null,
       "border": null,
       "bottom": null,
       "display": null,
       "flex": null,
       "flex_flow": null,
       "grid_area": null,
       "grid_auto_columns": null,
       "grid_auto_flow": null,
       "grid_auto_rows": null,
       "grid_column": null,
       "grid_gap": null,
       "grid_row": null,
       "grid_template_areas": null,
       "grid_template_columns": null,
       "grid_template_rows": null,
       "height": null,
       "justify_content": null,
       "justify_items": null,
       "left": null,
       "margin": null,
       "max_height": null,
       "max_width": null,
       "min_height": null,
       "min_width": null,
       "object_fit": null,
       "object_position": null,
       "order": null,
       "overflow": null,
       "overflow_x": null,
       "overflow_y": null,
       "padding": null,
       "right": null,
       "top": null,
       "visibility": null,
       "width": null
      }
     },
     "121da126d1484558bf933110b9e128cf": {
      "model_module": "@jupyter-widgets/base",
      "model_module_version": "1.2.0",
      "model_name": "LayoutModel",
      "state": {
       "_model_module": "@jupyter-widgets/base",
       "_model_module_version": "1.2.0",
       "_model_name": "LayoutModel",
       "_view_count": null,
       "_view_module": "@jupyter-widgets/base",
       "_view_module_version": "1.2.0",
       "_view_name": "LayoutView",
       "align_content": null,
       "align_items": null,
       "align_self": null,
       "border": null,
       "bottom": null,
       "display": null,
       "flex": null,
       "flex_flow": null,
       "grid_area": null,
       "grid_auto_columns": null,
       "grid_auto_flow": null,
       "grid_auto_rows": null,
       "grid_column": null,
       "grid_gap": null,
       "grid_row": null,
       "grid_template_areas": null,
       "grid_template_columns": null,
       "grid_template_rows": null,
       "height": null,
       "justify_content": null,
       "justify_items": null,
       "left": null,
       "margin": null,
       "max_height": null,
       "max_width": null,
       "min_height": null,
       "min_width": null,
       "object_fit": null,
       "object_position": null,
       "order": null,
       "overflow": null,
       "overflow_x": null,
       "overflow_y": null,
       "padding": null,
       "right": null,
       "top": null,
       "visibility": null,
       "width": null
      }
     },
     "1d284c0dff0640b1b04bb79ac1935ea1": {
      "model_module": "@jupyter-widgets/controls",
      "model_module_version": "1.5.0",
      "model_name": "DescriptionStyleModel",
      "state": {
       "_model_module": "@jupyter-widgets/controls",
       "_model_module_version": "1.5.0",
       "_model_name": "DescriptionStyleModel",
       "_view_count": null,
       "_view_module": "@jupyter-widgets/base",
       "_view_module_version": "1.2.0",
       "_view_name": "StyleView",
       "description_width": ""
      }
     },
     "2023148b6b53474ca42c9e379c562a8e": {
      "model_module": "@jupyter-widgets/base",
      "model_module_version": "1.2.0",
      "model_name": "LayoutModel",
      "state": {
       "_model_module": "@jupyter-widgets/base",
       "_model_module_version": "1.2.0",
       "_model_name": "LayoutModel",
       "_view_count": null,
       "_view_module": "@jupyter-widgets/base",
       "_view_module_version": "1.2.0",
       "_view_name": "LayoutView",
       "align_content": null,
       "align_items": null,
       "align_self": null,
       "border": null,
       "bottom": null,
       "display": null,
       "flex": null,
       "flex_flow": null,
       "grid_area": null,
       "grid_auto_columns": null,
       "grid_auto_flow": null,
       "grid_auto_rows": null,
       "grid_column": null,
       "grid_gap": null,
       "grid_row": null,
       "grid_template_areas": null,
       "grid_template_columns": null,
       "grid_template_rows": null,
       "height": null,
       "justify_content": null,
       "justify_items": null,
       "left": null,
       "margin": null,
       "max_height": null,
       "max_width": null,
       "min_height": null,
       "min_width": null,
       "object_fit": null,
       "object_position": null,
       "order": null,
       "overflow": null,
       "overflow_x": null,
       "overflow_y": null,
       "padding": null,
       "right": null,
       "top": null,
       "visibility": null,
       "width": null
      }
     },
     "268c7be05ed34ab1a6165e1123c0077d": {
      "model_module": "@jupyter-widgets/controls",
      "model_module_version": "1.5.0",
      "model_name": "FloatProgressModel",
      "state": {
       "_dom_classes": [],
       "_model_module": "@jupyter-widgets/controls",
       "_model_module_version": "1.5.0",
       "_model_name": "FloatProgressModel",
       "_view_count": null,
       "_view_module": "@jupyter-widgets/controls",
       "_view_module_version": "1.5.0",
       "_view_name": "ProgressView",
       "bar_style": "success",
       "description": "",
       "description_tooltip": null,
       "layout": "IPY_MODEL_df25815edc3c483ea58405ad0d741a25",
       "max": 466062,
       "min": 0,
       "orientation": "horizontal",
       "style": "IPY_MODEL_c9c0174eb2394e829b3cf116ded4102b",
       "value": 466062
      }
     },
     "26ff1069fc1244b49c3c1f7a8c4ca0ad": {
      "model_module": "@jupyter-widgets/base",
      "model_module_version": "1.2.0",
      "model_name": "LayoutModel",
      "state": {
       "_model_module": "@jupyter-widgets/base",
       "_model_module_version": "1.2.0",
       "_model_name": "LayoutModel",
       "_view_count": null,
       "_view_module": "@jupyter-widgets/base",
       "_view_module_version": "1.2.0",
       "_view_name": "LayoutView",
       "align_content": null,
       "align_items": null,
       "align_self": null,
       "border": null,
       "bottom": null,
       "display": null,
       "flex": null,
       "flex_flow": null,
       "grid_area": null,
       "grid_auto_columns": null,
       "grid_auto_flow": null,
       "grid_auto_rows": null,
       "grid_column": null,
       "grid_gap": null,
       "grid_row": null,
       "grid_template_areas": null,
       "grid_template_columns": null,
       "grid_template_rows": null,
       "height": null,
       "justify_content": null,
       "justify_items": null,
       "left": null,
       "margin": null,
       "max_height": null,
       "max_width": null,
       "min_height": null,
       "min_width": null,
       "object_fit": null,
       "object_position": null,
       "order": null,
       "overflow": null,
       "overflow_x": null,
       "overflow_y": null,
       "padding": null,
       "right": null,
       "top": null,
       "visibility": null,
       "width": null
      }
     },
     "282f4ac847cc4952bf6bf3a0fec7b53e": {
      "model_module": "@jupyter-widgets/base",
      "model_module_version": "1.2.0",
      "model_name": "LayoutModel",
      "state": {
       "_model_module": "@jupyter-widgets/base",
       "_model_module_version": "1.2.0",
       "_model_name": "LayoutModel",
       "_view_count": null,
       "_view_module": "@jupyter-widgets/base",
       "_view_module_version": "1.2.0",
       "_view_name": "LayoutView",
       "align_content": null,
       "align_items": null,
       "align_self": null,
       "border": null,
       "bottom": null,
       "display": null,
       "flex": null,
       "flex_flow": null,
       "grid_area": null,
       "grid_auto_columns": null,
       "grid_auto_flow": null,
       "grid_auto_rows": null,
       "grid_column": null,
       "grid_gap": null,
       "grid_row": null,
       "grid_template_areas": null,
       "grid_template_columns": null,
       "grid_template_rows": null,
       "height": null,
       "justify_content": null,
       "justify_items": null,
       "left": null,
       "margin": null,
       "max_height": null,
       "max_width": null,
       "min_height": null,
       "min_width": null,
       "object_fit": null,
       "object_position": null,
       "order": null,
       "overflow": null,
       "overflow_x": null,
       "overflow_y": null,
       "padding": null,
       "right": null,
       "top": null,
       "visibility": null,
       "width": null
      }
     },
     "2d21cf16396b4bb3ba7db4ec1e6ac011": {
      "model_module": "@jupyter-widgets/controls",
      "model_module_version": "1.5.0",
      "model_name": "DescriptionStyleModel",
      "state": {
       "_model_module": "@jupyter-widgets/controls",
       "_model_module_version": "1.5.0",
       "_model_name": "DescriptionStyleModel",
       "_view_count": null,
       "_view_module": "@jupyter-widgets/base",
       "_view_module_version": "1.2.0",
       "_view_name": "StyleView",
       "description_width": ""
      }
     },
     "36b4055c9c324ff88569b5012e38a147": {
      "model_module": "@jupyter-widgets/controls",
      "model_module_version": "1.5.0",
      "model_name": "DescriptionStyleModel",
      "state": {
       "_model_module": "@jupyter-widgets/controls",
       "_model_module_version": "1.5.0",
       "_model_name": "DescriptionStyleModel",
       "_view_count": null,
       "_view_module": "@jupyter-widgets/base",
       "_view_module_version": "1.2.0",
       "_view_name": "StyleView",
       "description_width": ""
      }
     },
     "36d3da161fb7464180978ece88eb07d5": {
      "model_module": "@jupyter-widgets/controls",
      "model_module_version": "1.5.0",
      "model_name": "DescriptionStyleModel",
      "state": {
       "_model_module": "@jupyter-widgets/controls",
       "_model_module_version": "1.5.0",
       "_model_name": "DescriptionStyleModel",
       "_view_count": null,
       "_view_module": "@jupyter-widgets/base",
       "_view_module_version": "1.2.0",
       "_view_name": "StyleView",
       "description_width": ""
      }
     },
     "37d16d5151ac483aac7c1e4b308462e5": {
      "model_module": "@jupyter-widgets/controls",
      "model_module_version": "1.5.0",
      "model_name": "FloatProgressModel",
      "state": {
       "_dom_classes": [],
       "_model_module": "@jupyter-widgets/controls",
       "_model_module_version": "1.5.0",
       "_model_name": "FloatProgressModel",
       "_view_count": null,
       "_view_module": "@jupyter-widgets/controls",
       "_view_module_version": "1.5.0",
       "_view_name": "ProgressView",
       "bar_style": "success",
       "description": "",
       "description_tooltip": null,
       "layout": "IPY_MODEL_561c624f59e94f87a7cecab4f76a9e2f",
       "max": 28,
       "min": 0,
       "orientation": "horizontal",
       "style": "IPY_MODEL_a82cb9be6aa24275913785832e902c51",
       "value": 28
      }
     },
     "38a822bb722545139490e9da6ddfa996": {
      "model_module": "@jupyter-widgets/controls",
      "model_module_version": "1.5.0",
      "model_name": "HBoxModel",
      "state": {
       "_dom_classes": [],
       "_model_module": "@jupyter-widgets/controls",
       "_model_module_version": "1.5.0",
       "_model_name": "HBoxModel",
       "_view_count": null,
       "_view_module": "@jupyter-widgets/controls",
       "_view_module_version": "1.5.0",
       "_view_name": "HBoxView",
       "box_style": "",
       "children": [
        "IPY_MODEL_bfb1012721434ce3bb7fb2563da0ffce",
        "IPY_MODEL_d103609b93494f50aa62df710505e01f",
        "IPY_MODEL_a19fe1b3328844d59467323970d77807"
       ],
       "layout": "IPY_MODEL_93f5886b99354ed3bbefc0dca1ffa91f"
      }
     },
     "39bf749993dc4180bb480c13042bf06c": {
      "model_module": "@jupyter-widgets/controls",
      "model_module_version": "1.5.0",
      "model_name": "HTMLModel",
      "state": {
       "_dom_classes": [],
       "_model_module": "@jupyter-widgets/controls",
       "_model_module_version": "1.5.0",
       "_model_name": "HTMLModel",
       "_view_count": null,
       "_view_module": "@jupyter-widgets/controls",
       "_view_module_version": "1.5.0",
       "_view_name": "HTMLView",
       "description": "",
       "description_tooltip": null,
       "layout": "IPY_MODEL_82c12815c7624b459e213aa243238a1c",
       "placeholder": "​",
       "style": "IPY_MODEL_be4923ba6e614f0697b51f51b8782b9e",
       "value": " 455k/455k [00:00&lt;00:00, 867kB/s]"
      }
     },
     "3e4b07bc449b41e68cdbeec8dec1d2ae": {
      "model_module": "@jupyter-widgets/controls",
      "model_module_version": "1.5.0",
      "model_name": "DescriptionStyleModel",
      "state": {
       "_model_module": "@jupyter-widgets/controls",
       "_model_module_version": "1.5.0",
       "_model_name": "DescriptionStyleModel",
       "_view_count": null,
       "_view_module": "@jupyter-widgets/base",
       "_view_module_version": "1.2.0",
       "_view_name": "StyleView",
       "description_width": ""
      }
     },
     "4a0f6be2c9eb4f0c9ee1063d4efe354a": {
      "model_module": "@jupyter-widgets/controls",
      "model_module_version": "1.5.0",
      "model_name": "HTMLModel",
      "state": {
       "_dom_classes": [],
       "_model_module": "@jupyter-widgets/controls",
       "_model_module_version": "1.5.0",
       "_model_name": "HTMLModel",
       "_view_count": null,
       "_view_module": "@jupyter-widgets/controls",
       "_view_module_version": "1.5.0",
       "_view_name": "HTMLView",
       "description": "",
       "description_tooltip": null,
       "layout": "IPY_MODEL_aefe2f6ece9140c687c1e9a714c6e24c",
       "placeholder": "​",
       "style": "IPY_MODEL_6d1e72db7de94ca184698e7cbb62e2c9",
       "value": " 28.0/28.0 [00:00&lt;00:00, 1.10kB/s]"
      }
     },
     "4d541d34e3a144c09de0f5bf40cd4385": {
      "model_module": "@jupyter-widgets/controls",
      "model_module_version": "1.5.0",
      "model_name": "HBoxModel",
      "state": {
       "_dom_classes": [],
       "_model_module": "@jupyter-widgets/controls",
       "_model_module_version": "1.5.0",
       "_model_name": "HBoxModel",
       "_view_count": null,
       "_view_module": "@jupyter-widgets/controls",
       "_view_module_version": "1.5.0",
       "_view_name": "HBoxView",
       "box_style": "",
       "children": [
        "IPY_MODEL_e3b6162a6a0d43349627242aefef4e1f",
        "IPY_MODEL_37d16d5151ac483aac7c1e4b308462e5",
        "IPY_MODEL_4a0f6be2c9eb4f0c9ee1063d4efe354a"
       ],
       "layout": "IPY_MODEL_588ec043884e4e2fafcdc0f659f81326"
      }
     },
     "561c624f59e94f87a7cecab4f76a9e2f": {
      "model_module": "@jupyter-widgets/base",
      "model_module_version": "1.2.0",
      "model_name": "LayoutModel",
      "state": {
       "_model_module": "@jupyter-widgets/base",
       "_model_module_version": "1.2.0",
       "_model_name": "LayoutModel",
       "_view_count": null,
       "_view_module": "@jupyter-widgets/base",
       "_view_module_version": "1.2.0",
       "_view_name": "LayoutView",
       "align_content": null,
       "align_items": null,
       "align_self": null,
       "border": null,
       "bottom": null,
       "display": null,
       "flex": null,
       "flex_flow": null,
       "grid_area": null,
       "grid_auto_columns": null,
       "grid_auto_flow": null,
       "grid_auto_rows": null,
       "grid_column": null,
       "grid_gap": null,
       "grid_row": null,
       "grid_template_areas": null,
       "grid_template_columns": null,
       "grid_template_rows": null,
       "height": null,
       "justify_content": null,
       "justify_items": null,
       "left": null,
       "margin": null,
       "max_height": null,
       "max_width": null,
       "min_height": null,
       "min_width": null,
       "object_fit": null,
       "object_position": null,
       "order": null,
       "overflow": null,
       "overflow_x": null,
       "overflow_y": null,
       "padding": null,
       "right": null,
       "top": null,
       "visibility": null,
       "width": null
      }
     },
     "588ec043884e4e2fafcdc0f659f81326": {
      "model_module": "@jupyter-widgets/base",
      "model_module_version": "1.2.0",
      "model_name": "LayoutModel",
      "state": {
       "_model_module": "@jupyter-widgets/base",
       "_model_module_version": "1.2.0",
       "_model_name": "LayoutModel",
       "_view_count": null,
       "_view_module": "@jupyter-widgets/base",
       "_view_module_version": "1.2.0",
       "_view_name": "LayoutView",
       "align_content": null,
       "align_items": null,
       "align_self": null,
       "border": null,
       "bottom": null,
       "display": null,
       "flex": null,
       "flex_flow": null,
       "grid_area": null,
       "grid_auto_columns": null,
       "grid_auto_flow": null,
       "grid_auto_rows": null,
       "grid_column": null,
       "grid_gap": null,
       "grid_row": null,
       "grid_template_areas": null,
       "grid_template_columns": null,
       "grid_template_rows": null,
       "height": null,
       "justify_content": null,
       "justify_items": null,
       "left": null,
       "margin": null,
       "max_height": null,
       "max_width": null,
       "min_height": null,
       "min_width": null,
       "object_fit": null,
       "object_position": null,
       "order": null,
       "overflow": null,
       "overflow_x": null,
       "overflow_y": null,
       "padding": null,
       "right": null,
       "top": null,
       "visibility": null,
       "width": null
      }
     },
     "5fc9e760810c4246a0143081d325d310": {
      "model_module": "@jupyter-widgets/base",
      "model_module_version": "1.2.0",
      "model_name": "LayoutModel",
      "state": {
       "_model_module": "@jupyter-widgets/base",
       "_model_module_version": "1.2.0",
       "_model_name": "LayoutModel",
       "_view_count": null,
       "_view_module": "@jupyter-widgets/base",
       "_view_module_version": "1.2.0",
       "_view_name": "LayoutView",
       "align_content": null,
       "align_items": null,
       "align_self": null,
       "border": null,
       "bottom": null,
       "display": null,
       "flex": null,
       "flex_flow": null,
       "grid_area": null,
       "grid_auto_columns": null,
       "grid_auto_flow": null,
       "grid_auto_rows": null,
       "grid_column": null,
       "grid_gap": null,
       "grid_row": null,
       "grid_template_areas": null,
       "grid_template_columns": null,
       "grid_template_rows": null,
       "height": null,
       "justify_content": null,
       "justify_items": null,
       "left": null,
       "margin": null,
       "max_height": null,
       "max_width": null,
       "min_height": null,
       "min_width": null,
       "object_fit": null,
       "object_position": null,
       "order": null,
       "overflow": null,
       "overflow_x": null,
       "overflow_y": null,
       "padding": null,
       "right": null,
       "top": null,
       "visibility": null,
       "width": null
      }
     },
     "699039bfec054933b578e737129399d1": {
      "model_module": "@jupyter-widgets/controls",
      "model_module_version": "1.5.0",
      "model_name": "HTMLModel",
      "state": {
       "_dom_classes": [],
       "_model_module": "@jupyter-widgets/controls",
       "_model_module_version": "1.5.0",
       "_model_name": "HTMLModel",
       "_view_count": null,
       "_view_module": "@jupyter-widgets/controls",
       "_view_module_version": "1.5.0",
       "_view_name": "HTMLView",
       "description": "",
       "description_tooltip": null,
       "layout": "IPY_MODEL_26ff1069fc1244b49c3c1f7a8c4ca0ad",
       "placeholder": "​",
       "style": "IPY_MODEL_2d21cf16396b4bb3ba7db4ec1e6ac011",
       "value": "Downloading: 100%"
      }
     },
     "6d1e72db7de94ca184698e7cbb62e2c9": {
      "model_module": "@jupyter-widgets/controls",
      "model_module_version": "1.5.0",
      "model_name": "DescriptionStyleModel",
      "state": {
       "_model_module": "@jupyter-widgets/controls",
       "_model_module_version": "1.5.0",
       "_model_name": "DescriptionStyleModel",
       "_view_count": null,
       "_view_module": "@jupyter-widgets/base",
       "_view_module_version": "1.2.0",
       "_view_name": "StyleView",
       "description_width": ""
      }
     },
     "71523dfd5e4a489e973870ac7ea1e7e3": {
      "model_module": "@jupyter-widgets/controls",
      "model_module_version": "1.5.0",
      "model_name": "HBoxModel",
      "state": {
       "_dom_classes": [],
       "_model_module": "@jupyter-widgets/controls",
       "_model_module_version": "1.5.0",
       "_model_name": "HBoxModel",
       "_view_count": null,
       "_view_module": "@jupyter-widgets/controls",
       "_view_module_version": "1.5.0",
       "_view_name": "HBoxView",
       "box_style": "",
       "children": [
        "IPY_MODEL_07976ea7fee94b3abc6281aa6b1d2b45",
        "IPY_MODEL_99ccc272ec1f4313abb7a97cb6a0518e",
        "IPY_MODEL_a4c64ce49924422a98b84d1718d84e7b"
       ],
       "layout": "IPY_MODEL_1200f35acd07402a8f10517fb59ba889"
      }
     },
     "7920ba9150ba4e2c9fd49eeab8562c96": {
      "model_module": "@jupyter-widgets/base",
      "model_module_version": "1.2.0",
      "model_name": "LayoutModel",
      "state": {
       "_model_module": "@jupyter-widgets/base",
       "_model_module_version": "1.2.0",
       "_model_name": "LayoutModel",
       "_view_count": null,
       "_view_module": "@jupyter-widgets/base",
       "_view_module_version": "1.2.0",
       "_view_name": "LayoutView",
       "align_content": null,
       "align_items": null,
       "align_self": null,
       "border": null,
       "bottom": null,
       "display": null,
       "flex": null,
       "flex_flow": null,
       "grid_area": null,
       "grid_auto_columns": null,
       "grid_auto_flow": null,
       "grid_auto_rows": null,
       "grid_column": null,
       "grid_gap": null,
       "grid_row": null,
       "grid_template_areas": null,
       "grid_template_columns": null,
       "grid_template_rows": null,
       "height": null,
       "justify_content": null,
       "justify_items": null,
       "left": null,
       "margin": null,
       "max_height": null,
       "max_width": null,
       "min_height": null,
       "min_width": null,
       "object_fit": null,
       "object_position": null,
       "order": null,
       "overflow": null,
       "overflow_x": null,
       "overflow_y": null,
       "padding": null,
       "right": null,
       "top": null,
       "visibility": null,
       "width": null
      }
     },
     "82c12815c7624b459e213aa243238a1c": {
      "model_module": "@jupyter-widgets/base",
      "model_module_version": "1.2.0",
      "model_name": "LayoutModel",
      "state": {
       "_model_module": "@jupyter-widgets/base",
       "_model_module_version": "1.2.0",
       "_model_name": "LayoutModel",
       "_view_count": null,
       "_view_module": "@jupyter-widgets/base",
       "_view_module_version": "1.2.0",
       "_view_name": "LayoutView",
       "align_content": null,
       "align_items": null,
       "align_self": null,
       "border": null,
       "bottom": null,
       "display": null,
       "flex": null,
       "flex_flow": null,
       "grid_area": null,
       "grid_auto_columns": null,
       "grid_auto_flow": null,
       "grid_auto_rows": null,
       "grid_column": null,
       "grid_gap": null,
       "grid_row": null,
       "grid_template_areas": null,
       "grid_template_columns": null,
       "grid_template_rows": null,
       "height": null,
       "justify_content": null,
       "justify_items": null,
       "left": null,
       "margin": null,
       "max_height": null,
       "max_width": null,
       "min_height": null,
       "min_width": null,
       "object_fit": null,
       "object_position": null,
       "order": null,
       "overflow": null,
       "overflow_x": null,
       "overflow_y": null,
       "padding": null,
       "right": null,
       "top": null,
       "visibility": null,
       "width": null
      }
     },
     "8b0faee5b8474e0fa186acd6d61ccf3d": {
      "model_module": "@jupyter-widgets/controls",
      "model_module_version": "1.5.0",
      "model_name": "FloatProgressModel",
      "state": {
       "_dom_classes": [],
       "_model_module": "@jupyter-widgets/controls",
       "_model_module_version": "1.5.0",
       "_model_name": "FloatProgressModel",
       "_view_count": null,
       "_view_module": "@jupyter-widgets/controls",
       "_view_module_version": "1.5.0",
       "_view_name": "ProgressView",
       "bar_style": "success",
       "description": "",
       "description_tooltip": null,
       "layout": "IPY_MODEL_7920ba9150ba4e2c9fd49eeab8562c96",
       "max": 483,
       "min": 0,
       "orientation": "horizontal",
       "style": "IPY_MODEL_a4321b754d014e1d9edd335ec9f86ef9",
       "value": 483
      }
     },
     "93f5886b99354ed3bbefc0dca1ffa91f": {
      "model_module": "@jupyter-widgets/base",
      "model_module_version": "1.2.0",
      "model_name": "LayoutModel",
      "state": {
       "_model_module": "@jupyter-widgets/base",
       "_model_module_version": "1.2.0",
       "_model_name": "LayoutModel",
       "_view_count": null,
       "_view_module": "@jupyter-widgets/base",
       "_view_module_version": "1.2.0",
       "_view_name": "LayoutView",
       "align_content": null,
       "align_items": null,
       "align_self": null,
       "border": null,
       "bottom": null,
       "display": null,
       "flex": null,
       "flex_flow": null,
       "grid_area": null,
       "grid_auto_columns": null,
       "grid_auto_flow": null,
       "grid_auto_rows": null,
       "grid_column": null,
       "grid_gap": null,
       "grid_row": null,
       "grid_template_areas": null,
       "grid_template_columns": null,
       "grid_template_rows": null,
       "height": null,
       "justify_content": null,
       "justify_items": null,
       "left": null,
       "margin": null,
       "max_height": null,
       "max_width": null,
       "min_height": null,
       "min_width": null,
       "object_fit": null,
       "object_position": null,
       "order": null,
       "overflow": null,
       "overflow_x": null,
       "overflow_y": null,
       "padding": null,
       "right": null,
       "top": null,
       "visibility": null,
       "width": null
      }
     },
     "99ccc272ec1f4313abb7a97cb6a0518e": {
      "model_module": "@jupyter-widgets/controls",
      "model_module_version": "1.5.0",
      "model_name": "FloatProgressModel",
      "state": {
       "_dom_classes": [],
       "_model_module": "@jupyter-widgets/controls",
       "_model_module_version": "1.5.0",
       "_model_name": "FloatProgressModel",
       "_view_count": null,
       "_view_module": "@jupyter-widgets/controls",
       "_view_module_version": "1.5.0",
       "_view_name": "ProgressView",
       "bar_style": "success",
       "description": "",
       "description_tooltip": null,
       "layout": "IPY_MODEL_bc0fe28b6c224d0cba76bb853976e9a5",
       "max": 267967963,
       "min": 0,
       "orientation": "horizontal",
       "style": "IPY_MODEL_e0a0f814462540d49e049c9fa3505b92",
       "value": 267967963
      }
     },
     "a19fe1b3328844d59467323970d77807": {
      "model_module": "@jupyter-widgets/controls",
      "model_module_version": "1.5.0",
      "model_name": "HTMLModel",
      "state": {
       "_dom_classes": [],
       "_model_module": "@jupyter-widgets/controls",
       "_model_module_version": "1.5.0",
       "_model_name": "HTMLModel",
       "_view_count": null,
       "_view_module": "@jupyter-widgets/controls",
       "_view_module_version": "1.5.0",
       "_view_name": "HTMLView",
       "description": "",
       "description_tooltip": null,
       "layout": "IPY_MODEL_2023148b6b53474ca42c9e379c562a8e",
       "placeholder": "​",
       "style": "IPY_MODEL_1d284c0dff0640b1b04bb79ac1935ea1",
       "value": " 226k/226k [00:00&lt;00:00, 823kB/s]"
      }
     },
     "a4321b754d014e1d9edd335ec9f86ef9": {
      "model_module": "@jupyter-widgets/controls",
      "model_module_version": "1.5.0",
      "model_name": "ProgressStyleModel",
      "state": {
       "_model_module": "@jupyter-widgets/controls",
       "_model_module_version": "1.5.0",
       "_model_name": "ProgressStyleModel",
       "_view_count": null,
       "_view_module": "@jupyter-widgets/base",
       "_view_module_version": "1.2.0",
       "_view_name": "StyleView",
       "bar_color": null,
       "description_width": ""
      }
     },
     "a4c64ce49924422a98b84d1718d84e7b": {
      "model_module": "@jupyter-widgets/controls",
      "model_module_version": "1.5.0",
      "model_name": "HTMLModel",
      "state": {
       "_dom_classes": [],
       "_model_module": "@jupyter-widgets/controls",
       "_model_module_version": "1.5.0",
       "_model_name": "HTMLModel",
       "_view_count": null,
       "_view_module": "@jupyter-widgets/controls",
       "_view_module_version": "1.5.0",
       "_view_name": "HTMLView",
       "description": "",
       "description_tooltip": null,
       "layout": "IPY_MODEL_121da126d1484558bf933110b9e128cf",
       "placeholder": "​",
       "style": "IPY_MODEL_ac3945454f494e55836cdd84b47346f4",
       "value": " 256M/256M [00:06&lt;00:00, 35.9MB/s]"
      }
     },
     "a82cb9be6aa24275913785832e902c51": {
      "model_module": "@jupyter-widgets/controls",
      "model_module_version": "1.5.0",
      "model_name": "ProgressStyleModel",
      "state": {
       "_model_module": "@jupyter-widgets/controls",
       "_model_module_version": "1.5.0",
       "_model_name": "ProgressStyleModel",
       "_view_count": null,
       "_view_module": "@jupyter-widgets/base",
       "_view_module_version": "1.2.0",
       "_view_name": "StyleView",
       "bar_color": null,
       "description_width": ""
      }
     },
     "ac3945454f494e55836cdd84b47346f4": {
      "model_module": "@jupyter-widgets/controls",
      "model_module_version": "1.5.0",
      "model_name": "DescriptionStyleModel",
      "state": {
       "_model_module": "@jupyter-widgets/controls",
       "_model_module_version": "1.5.0",
       "_model_name": "DescriptionStyleModel",
       "_view_count": null,
       "_view_module": "@jupyter-widgets/base",
       "_view_module_version": "1.2.0",
       "_view_name": "StyleView",
       "description_width": ""
      }
     },
     "aefe2f6ece9140c687c1e9a714c6e24c": {
      "model_module": "@jupyter-widgets/base",
      "model_module_version": "1.2.0",
      "model_name": "LayoutModel",
      "state": {
       "_model_module": "@jupyter-widgets/base",
       "_model_module_version": "1.2.0",
       "_model_name": "LayoutModel",
       "_view_count": null,
       "_view_module": "@jupyter-widgets/base",
       "_view_module_version": "1.2.0",
       "_view_name": "LayoutView",
       "align_content": null,
       "align_items": null,
       "align_self": null,
       "border": null,
       "bottom": null,
       "display": null,
       "flex": null,
       "flex_flow": null,
       "grid_area": null,
       "grid_auto_columns": null,
       "grid_auto_flow": null,
       "grid_auto_rows": null,
       "grid_column": null,
       "grid_gap": null,
       "grid_row": null,
       "grid_template_areas": null,
       "grid_template_columns": null,
       "grid_template_rows": null,
       "height": null,
       "justify_content": null,
       "justify_items": null,
       "left": null,
       "margin": null,
       "max_height": null,
       "max_width": null,
       "min_height": null,
       "min_width": null,
       "object_fit": null,
       "object_position": null,
       "order": null,
       "overflow": null,
       "overflow_x": null,
       "overflow_y": null,
       "padding": null,
       "right": null,
       "top": null,
       "visibility": null,
       "width": null
      }
     },
     "b43161d170bd46b9beea242e39fde9a0": {
      "model_module": "@jupyter-widgets/controls",
      "model_module_version": "1.5.0",
      "model_name": "HTMLModel",
      "state": {
       "_dom_classes": [],
       "_model_module": "@jupyter-widgets/controls",
       "_model_module_version": "1.5.0",
       "_model_name": "HTMLModel",
       "_view_count": null,
       "_view_module": "@jupyter-widgets/controls",
       "_view_module_version": "1.5.0",
       "_view_name": "HTMLView",
       "description": "",
       "description_tooltip": null,
       "layout": "IPY_MODEL_e15cba2df4ba4e238b8c57fb62787994",
       "placeholder": "​",
       "style": "IPY_MODEL_039ed214b8d94632af29afbd9f0f8953",
       "value": "Downloading: 100%"
      }
     },
     "b7a61d09d5764dba938e2294340da0e1": {
      "model_module": "@jupyter-widgets/controls",
      "model_module_version": "1.5.0",
      "model_name": "ProgressStyleModel",
      "state": {
       "_model_module": "@jupyter-widgets/controls",
       "_model_module_version": "1.5.0",
       "_model_name": "ProgressStyleModel",
       "_view_count": null,
       "_view_module": "@jupyter-widgets/base",
       "_view_module_version": "1.2.0",
       "_view_name": "StyleView",
       "bar_color": null,
       "description_width": ""
      }
     },
     "b9a9b494d38642f68bcec0478760b0f2": {
      "model_module": "@jupyter-widgets/base",
      "model_module_version": "1.2.0",
      "model_name": "LayoutModel",
      "state": {
       "_model_module": "@jupyter-widgets/base",
       "_model_module_version": "1.2.0",
       "_model_name": "LayoutModel",
       "_view_count": null,
       "_view_module": "@jupyter-widgets/base",
       "_view_module_version": "1.2.0",
       "_view_name": "LayoutView",
       "align_content": null,
       "align_items": null,
       "align_self": null,
       "border": null,
       "bottom": null,
       "display": null,
       "flex": null,
       "flex_flow": null,
       "grid_area": null,
       "grid_auto_columns": null,
       "grid_auto_flow": null,
       "grid_auto_rows": null,
       "grid_column": null,
       "grid_gap": null,
       "grid_row": null,
       "grid_template_areas": null,
       "grid_template_columns": null,
       "grid_template_rows": null,
       "height": null,
       "justify_content": null,
       "justify_items": null,
       "left": null,
       "margin": null,
       "max_height": null,
       "max_width": null,
       "min_height": null,
       "min_width": null,
       "object_fit": null,
       "object_position": null,
       "order": null,
       "overflow": null,
       "overflow_x": null,
       "overflow_y": null,
       "padding": null,
       "right": null,
       "top": null,
       "visibility": null,
       "width": null
      }
     },
     "bc0fe28b6c224d0cba76bb853976e9a5": {
      "model_module": "@jupyter-widgets/base",
      "model_module_version": "1.2.0",
      "model_name": "LayoutModel",
      "state": {
       "_model_module": "@jupyter-widgets/base",
       "_model_module_version": "1.2.0",
       "_model_name": "LayoutModel",
       "_view_count": null,
       "_view_module": "@jupyter-widgets/base",
       "_view_module_version": "1.2.0",
       "_view_name": "LayoutView",
       "align_content": null,
       "align_items": null,
       "align_self": null,
       "border": null,
       "bottom": null,
       "display": null,
       "flex": null,
       "flex_flow": null,
       "grid_area": null,
       "grid_auto_columns": null,
       "grid_auto_flow": null,
       "grid_auto_rows": null,
       "grid_column": null,
       "grid_gap": null,
       "grid_row": null,
       "grid_template_areas": null,
       "grid_template_columns": null,
       "grid_template_rows": null,
       "height": null,
       "justify_content": null,
       "justify_items": null,
       "left": null,
       "margin": null,
       "max_height": null,
       "max_width": null,
       "min_height": null,
       "min_width": null,
       "object_fit": null,
       "object_position": null,
       "order": null,
       "overflow": null,
       "overflow_x": null,
       "overflow_y": null,
       "padding": null,
       "right": null,
       "top": null,
       "visibility": null,
       "width": null
      }
     },
     "be4923ba6e614f0697b51f51b8782b9e": {
      "model_module": "@jupyter-widgets/controls",
      "model_module_version": "1.5.0",
      "model_name": "DescriptionStyleModel",
      "state": {
       "_model_module": "@jupyter-widgets/controls",
       "_model_module_version": "1.5.0",
       "_model_name": "DescriptionStyleModel",
       "_view_count": null,
       "_view_module": "@jupyter-widgets/base",
       "_view_module_version": "1.2.0",
       "_view_name": "StyleView",
       "description_width": ""
      }
     },
     "bfb1012721434ce3bb7fb2563da0ffce": {
      "model_module": "@jupyter-widgets/controls",
      "model_module_version": "1.5.0",
      "model_name": "HTMLModel",
      "state": {
       "_dom_classes": [],
       "_model_module": "@jupyter-widgets/controls",
       "_model_module_version": "1.5.0",
       "_model_name": "HTMLModel",
       "_view_count": null,
       "_view_module": "@jupyter-widgets/controls",
       "_view_module_version": "1.5.0",
       "_view_name": "HTMLView",
       "description": "",
       "description_tooltip": null,
       "layout": "IPY_MODEL_db09a4c8e1954516b3ac43c8aa48f40e",
       "placeholder": "​",
       "style": "IPY_MODEL_3e4b07bc449b41e68cdbeec8dec1d2ae",
       "value": "Downloading: 100%"
      }
     },
     "c3ca3a8889b4408ebe6388c124e578b1": {
      "model_module": "@jupyter-widgets/controls",
      "model_module_version": "1.5.0",
      "model_name": "DescriptionStyleModel",
      "state": {
       "_model_module": "@jupyter-widgets/controls",
       "_model_module_version": "1.5.0",
       "_model_name": "DescriptionStyleModel",
       "_view_count": null,
       "_view_module": "@jupyter-widgets/base",
       "_view_module_version": "1.2.0",
       "_view_name": "StyleView",
       "description_width": ""
      }
     },
     "c9c0174eb2394e829b3cf116ded4102b": {
      "model_module": "@jupyter-widgets/controls",
      "model_module_version": "1.5.0",
      "model_name": "ProgressStyleModel",
      "state": {
       "_model_module": "@jupyter-widgets/controls",
       "_model_module_version": "1.5.0",
       "_model_name": "ProgressStyleModel",
       "_view_count": null,
       "_view_module": "@jupyter-widgets/base",
       "_view_module_version": "1.2.0",
       "_view_name": "StyleView",
       "bar_color": null,
       "description_width": ""
      }
     },
     "d103609b93494f50aa62df710505e01f": {
      "model_module": "@jupyter-widgets/controls",
      "model_module_version": "1.5.0",
      "model_name": "FloatProgressModel",
      "state": {
       "_dom_classes": [],
       "_model_module": "@jupyter-widgets/controls",
       "_model_module_version": "1.5.0",
       "_model_name": "FloatProgressModel",
       "_view_count": null,
       "_view_module": "@jupyter-widgets/controls",
       "_view_module_version": "1.5.0",
       "_view_name": "ProgressView",
       "bar_style": "success",
       "description": "",
       "description_tooltip": null,
       "layout": "IPY_MODEL_282f4ac847cc4952bf6bf3a0fec7b53e",
       "max": 231508,
       "min": 0,
       "orientation": "horizontal",
       "style": "IPY_MODEL_b7a61d09d5764dba938e2294340da0e1",
       "value": 231508
      }
     },
     "d6896bec66a7405da92f95782dd84d37": {
      "model_module": "@jupyter-widgets/controls",
      "model_module_version": "1.5.0",
      "model_name": "HTMLModel",
      "state": {
       "_dom_classes": [],
       "_model_module": "@jupyter-widgets/controls",
       "_model_module_version": "1.5.0",
       "_model_name": "HTMLModel",
       "_view_count": null,
       "_view_module": "@jupyter-widgets/controls",
       "_view_module_version": "1.5.0",
       "_view_name": "HTMLView",
       "description": "",
       "description_tooltip": null,
       "layout": "IPY_MODEL_0922e68fd1bd4988899754896e07e2a8",
       "placeholder": "​",
       "style": "IPY_MODEL_c3ca3a8889b4408ebe6388c124e578b1",
       "value": " 483/483 [00:00&lt;00:00, 18.7kB/s]"
      }
     },
     "db09a4c8e1954516b3ac43c8aa48f40e": {
      "model_module": "@jupyter-widgets/base",
      "model_module_version": "1.2.0",
      "model_name": "LayoutModel",
      "state": {
       "_model_module": "@jupyter-widgets/base",
       "_model_module_version": "1.2.0",
       "_model_name": "LayoutModel",
       "_view_count": null,
       "_view_module": "@jupyter-widgets/base",
       "_view_module_version": "1.2.0",
       "_view_name": "LayoutView",
       "align_content": null,
       "align_items": null,
       "align_self": null,
       "border": null,
       "bottom": null,
       "display": null,
       "flex": null,
       "flex_flow": null,
       "grid_area": null,
       "grid_auto_columns": null,
       "grid_auto_flow": null,
       "grid_auto_rows": null,
       "grid_column": null,
       "grid_gap": null,
       "grid_row": null,
       "grid_template_areas": null,
       "grid_template_columns": null,
       "grid_template_rows": null,
       "height": null,
       "justify_content": null,
       "justify_items": null,
       "left": null,
       "margin": null,
       "max_height": null,
       "max_width": null,
       "min_height": null,
       "min_width": null,
       "object_fit": null,
       "object_position": null,
       "order": null,
       "overflow": null,
       "overflow_x": null,
       "overflow_y": null,
       "padding": null,
       "right": null,
       "top": null,
       "visibility": null,
       "width": null
      }
     },
     "df25815edc3c483ea58405ad0d741a25": {
      "model_module": "@jupyter-widgets/base",
      "model_module_version": "1.2.0",
      "model_name": "LayoutModel",
      "state": {
       "_model_module": "@jupyter-widgets/base",
       "_model_module_version": "1.2.0",
       "_model_name": "LayoutModel",
       "_view_count": null,
       "_view_module": "@jupyter-widgets/base",
       "_view_module_version": "1.2.0",
       "_view_name": "LayoutView",
       "align_content": null,
       "align_items": null,
       "align_self": null,
       "border": null,
       "bottom": null,
       "display": null,
       "flex": null,
       "flex_flow": null,
       "grid_area": null,
       "grid_auto_columns": null,
       "grid_auto_flow": null,
       "grid_auto_rows": null,
       "grid_column": null,
       "grid_gap": null,
       "grid_row": null,
       "grid_template_areas": null,
       "grid_template_columns": null,
       "grid_template_rows": null,
       "height": null,
       "justify_content": null,
       "justify_items": null,
       "left": null,
       "margin": null,
       "max_height": null,
       "max_width": null,
       "min_height": null,
       "min_width": null,
       "object_fit": null,
       "object_position": null,
       "order": null,
       "overflow": null,
       "overflow_x": null,
       "overflow_y": null,
       "padding": null,
       "right": null,
       "top": null,
       "visibility": null,
       "width": null
      }
     },
     "e0a0f814462540d49e049c9fa3505b92": {
      "model_module": "@jupyter-widgets/controls",
      "model_module_version": "1.5.0",
      "model_name": "ProgressStyleModel",
      "state": {
       "_model_module": "@jupyter-widgets/controls",
       "_model_module_version": "1.5.0",
       "_model_name": "ProgressStyleModel",
       "_view_count": null,
       "_view_module": "@jupyter-widgets/base",
       "_view_module_version": "1.2.0",
       "_view_name": "StyleView",
       "bar_color": null,
       "description_width": ""
      }
     },
     "e15cba2df4ba4e238b8c57fb62787994": {
      "model_module": "@jupyter-widgets/base",
      "model_module_version": "1.2.0",
      "model_name": "LayoutModel",
      "state": {
       "_model_module": "@jupyter-widgets/base",
       "_model_module_version": "1.2.0",
       "_model_name": "LayoutModel",
       "_view_count": null,
       "_view_module": "@jupyter-widgets/base",
       "_view_module_version": "1.2.0",
       "_view_name": "LayoutView",
       "align_content": null,
       "align_items": null,
       "align_self": null,
       "border": null,
       "bottom": null,
       "display": null,
       "flex": null,
       "flex_flow": null,
       "grid_area": null,
       "grid_auto_columns": null,
       "grid_auto_flow": null,
       "grid_auto_rows": null,
       "grid_column": null,
       "grid_gap": null,
       "grid_row": null,
       "grid_template_areas": null,
       "grid_template_columns": null,
       "grid_template_rows": null,
       "height": null,
       "justify_content": null,
       "justify_items": null,
       "left": null,
       "margin": null,
       "max_height": null,
       "max_width": null,
       "min_height": null,
       "min_width": null,
       "object_fit": null,
       "object_position": null,
       "order": null,
       "overflow": null,
       "overflow_x": null,
       "overflow_y": null,
       "padding": null,
       "right": null,
       "top": null,
       "visibility": null,
       "width": null
      }
     },
     "e3b6162a6a0d43349627242aefef4e1f": {
      "model_module": "@jupyter-widgets/controls",
      "model_module_version": "1.5.0",
      "model_name": "HTMLModel",
      "state": {
       "_dom_classes": [],
       "_model_module": "@jupyter-widgets/controls",
       "_model_module_version": "1.5.0",
       "_model_name": "HTMLModel",
       "_view_count": null,
       "_view_module": "@jupyter-widgets/controls",
       "_view_module_version": "1.5.0",
       "_view_name": "HTMLView",
       "description": "",
       "description_tooltip": null,
       "layout": "IPY_MODEL_ed56f792cce44176b03208f9ae3e4fcd",
       "placeholder": "​",
       "style": "IPY_MODEL_36d3da161fb7464180978ece88eb07d5",
       "value": "Downloading: 100%"
      }
     },
     "ed56f792cce44176b03208f9ae3e4fcd": {
      "model_module": "@jupyter-widgets/base",
      "model_module_version": "1.2.0",
      "model_name": "LayoutModel",
      "state": {
       "_model_module": "@jupyter-widgets/base",
       "_model_module_version": "1.2.0",
       "_model_name": "LayoutModel",
       "_view_count": null,
       "_view_module": "@jupyter-widgets/base",
       "_view_module_version": "1.2.0",
       "_view_name": "LayoutView",
       "align_content": null,
       "align_items": null,
       "align_self": null,
       "border": null,
       "bottom": null,
       "display": null,
       "flex": null,
       "flex_flow": null,
       "grid_area": null,
       "grid_auto_columns": null,
       "grid_auto_flow": null,
       "grid_auto_rows": null,
       "grid_column": null,
       "grid_gap": null,
       "grid_row": null,
       "grid_template_areas": null,
       "grid_template_columns": null,
       "grid_template_rows": null,
       "height": null,
       "justify_content": null,
       "justify_items": null,
       "left": null,
       "margin": null,
       "max_height": null,
       "max_width": null,
       "min_height": null,
       "min_width": null,
       "object_fit": null,
       "object_position": null,
       "order": null,
       "overflow": null,
       "overflow_x": null,
       "overflow_y": null,
       "padding": null,
       "right": null,
       "top": null,
       "visibility": null,
       "width": null
      }
     },
     "fe75ae051c954a2facd88aa1455f0f0b": {
      "model_module": "@jupyter-widgets/controls",
      "model_module_version": "1.5.0",
      "model_name": "HBoxModel",
      "state": {
       "_dom_classes": [],
       "_model_module": "@jupyter-widgets/controls",
       "_model_module_version": "1.5.0",
       "_model_name": "HBoxModel",
       "_view_count": null,
       "_view_module": "@jupyter-widgets/controls",
       "_view_module_version": "1.5.0",
       "_view_name": "HBoxView",
       "box_style": "",
       "children": [
        "IPY_MODEL_699039bfec054933b578e737129399d1",
        "IPY_MODEL_268c7be05ed34ab1a6165e1123c0077d",
        "IPY_MODEL_39bf749993dc4180bb480c13042bf06c"
       ],
       "layout": "IPY_MODEL_0c0a6b7075414a93b88dc2124425d109"
      }
     }
    },
    "version_major": 2,
    "version_minor": 0
   }
  }
 },
 "nbformat": 4,
 "nbformat_minor": 5
}
