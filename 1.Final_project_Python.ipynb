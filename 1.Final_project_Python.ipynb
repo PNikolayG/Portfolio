{
 "cells": [
  {
   "cell_type": "markdown",
   "id": "decimal-conflict",
   "metadata": {},
   "source": [
    "# Итоговая работа по модулю Python\n",
    "\n",
    "### Исходные данные\n",
    "Дан файл HR.csv с данными по опросу уровня удовлетворенности сотрудниками работой.\n",
    "\n",
    "Файл доступен тут -\n",
    "https://drive.google.com/file/d/1INgo03nal-vwFJe7Lec5vOUtOwfJdUr1/view?usp=sharing\n",
    "\n",
    "#### Описание датасета:\n",
    "1. satisfaction_level - Уровень удовлетворенности работой\n",
    "2. Last_evaluation - Время с момента последней оценки в годах\n",
    "3. number_projects - Количество проектов, выполненных за время работы\n",
    "4. average_monthly_hours - Среднее количество часов на рабочем месте в месяц\n",
    "5. time_spend_company - Стаж работы в компании в годах\n",
    "6. work_accident - Происходили ли несчастные случаи на рабочем месте с сотрудником\n",
    "7. left - уволился ли сотрудник\n",
    "8. promotion_last_5years - повышался ли сотрудник за последние пять лет\n",
    "9. department - отдел в котором работает сотрудник\n",
    "10. salary - относительный уровень зарплаты"
   ]
  },
  {
   "cell_type": "markdown",
   "id": "automotive-moderator",
   "metadata": {},
   "source": [
    "### Задание\n",
    "1) Загрузите файл HR.csv в pandas dataframe - 5 баллов\n",
    "\n",
    "2) Рассчитайте основные статистики для переменных (среднее,медиана,мода,мин/макс,сред.отклонение). - 10 баллов\n",
    "\n",
    "3) 1 - Рассчитайте и визуализировать корреляционную матрицу для количественных переменных. \n",
    "\n",
    "3) 2 - Определите две самые скоррелированные и две наименее скоррелированные переменные.  - 10 баллов\n",
    "\n",
    "4) Рассчитайте сколько сотрудников работает в каждом департаменте. - 5 баллов\n",
    "\n",
    "5) Показать распределение сотрудников по зарплатам.- 5 баллов\n",
    "\n",
    "6) Показать распределение сотрудников по зарплатам в каждом департаменте по отдельности- 5 баллов\n",
    "\n",
    "7) Проверить гипотезу, что сотрудники с высоким окладом проводят на работе больше времени, чем сотрудники с низким окладом - 10 баллов\n",
    "\n",
    "8) Рассчитать следующие показатели среди уволившихся и не уволившихся сотрудников (по отдельности): - 10 баллов\n",
    "-  Доля сотрудников с повышением за последние 5 лет\n",
    "-  Средняя степень удовлетворенности\n",
    "-  Среднее количество проектов\n",
    "\n",
    "9) 1 - Разделить данные на тестовую и обучающую выборки\n",
    "\n",
    "9) 2 - Построить модель LDA, предсказывающую уволился ли сотрудник на основе имеющихся факторов (кроме department и salary)\n",
    "\n",
    "9) 3 - Оценить качество модели на тестовой выборки - 20 баллов\n",
    "\n",
    "10) Загрузить jupyter notebook с решение на github и прислать ссылку - 5 баллов\n",
    "\n",
    "### Итого - максимум 85 баллов\n",
    "### Зачёт - минимум 55 баллов"
   ]
  },
  {
   "cell_type": "markdown",
   "id": "supported-folks",
   "metadata": {},
   "source": [
    "### Решение"
   ]
  },
  {
   "cell_type": "markdown",
   "id": "understood-projection",
   "metadata": {},
   "source": [
    "#### Используемые библиотеки"
   ]
  },
  {
   "cell_type": "code",
   "execution_count": 6,
   "id": "adult-forge",
   "metadata": {},
   "outputs": [],
   "source": [
    "import pandas as pd\n",
    "import numpy as np\n",
    "import seaborn as sns\n",
    "import matplotlib.pyplot as plt\n",
    "import scipy.stats as st\n",
    "from scipy.stats import f_oneway\n",
    "from scipy.stats import mannwhitneyu"
   ]
  },
  {
   "cell_type": "markdown",
   "id": "compound-payroll",
   "metadata": {},
   "source": [
    "#### 1) Загрузите файл HR.csv в pandas dataframe - 5 баллов"
   ]
  },
  {
   "cell_type": "code",
   "execution_count": 7,
   "id": "structural-latitude",
   "metadata": {},
   "outputs": [
    {
     "data": {
      "text/html": [
       "<div>\n",
       "<style scoped>\n",
       "    .dataframe tbody tr th:only-of-type {\n",
       "        vertical-align: middle;\n",
       "    }\n",
       "\n",
       "    .dataframe tbody tr th {\n",
       "        vertical-align: top;\n",
       "    }\n",
       "\n",
       "    .dataframe thead th {\n",
       "        text-align: right;\n",
       "    }\n",
       "</style>\n",
       "<table border=\"1\" class=\"dataframe\">\n",
       "  <thead>\n",
       "    <tr style=\"text-align: right;\">\n",
       "      <th></th>\n",
       "      <th>satisfaction_level</th>\n",
       "      <th>last_evaluation</th>\n",
       "      <th>number_project</th>\n",
       "      <th>average_montly_hours</th>\n",
       "      <th>time_spend_company</th>\n",
       "      <th>Work_accident</th>\n",
       "      <th>left</th>\n",
       "      <th>promotion_last_5years</th>\n",
       "      <th>department</th>\n",
       "      <th>salary</th>\n",
       "    </tr>\n",
       "  </thead>\n",
       "  <tbody>\n",
       "    <tr>\n",
       "      <th>0</th>\n",
       "      <td>0.38</td>\n",
       "      <td>0.53</td>\n",
       "      <td>2</td>\n",
       "      <td>157</td>\n",
       "      <td>3</td>\n",
       "      <td>0</td>\n",
       "      <td>1</td>\n",
       "      <td>0</td>\n",
       "      <td>sales</td>\n",
       "      <td>low</td>\n",
       "    </tr>\n",
       "    <tr>\n",
       "      <th>1</th>\n",
       "      <td>0.80</td>\n",
       "      <td>0.86</td>\n",
       "      <td>5</td>\n",
       "      <td>262</td>\n",
       "      <td>6</td>\n",
       "      <td>0</td>\n",
       "      <td>1</td>\n",
       "      <td>0</td>\n",
       "      <td>sales</td>\n",
       "      <td>medium</td>\n",
       "    </tr>\n",
       "    <tr>\n",
       "      <th>2</th>\n",
       "      <td>0.11</td>\n",
       "      <td>0.88</td>\n",
       "      <td>7</td>\n",
       "      <td>272</td>\n",
       "      <td>4</td>\n",
       "      <td>0</td>\n",
       "      <td>1</td>\n",
       "      <td>0</td>\n",
       "      <td>sales</td>\n",
       "      <td>medium</td>\n",
       "    </tr>\n",
       "    <tr>\n",
       "      <th>3</th>\n",
       "      <td>0.72</td>\n",
       "      <td>0.87</td>\n",
       "      <td>5</td>\n",
       "      <td>223</td>\n",
       "      <td>5</td>\n",
       "      <td>0</td>\n",
       "      <td>1</td>\n",
       "      <td>0</td>\n",
       "      <td>sales</td>\n",
       "      <td>low</td>\n",
       "    </tr>\n",
       "    <tr>\n",
       "      <th>4</th>\n",
       "      <td>0.37</td>\n",
       "      <td>0.52</td>\n",
       "      <td>2</td>\n",
       "      <td>159</td>\n",
       "      <td>3</td>\n",
       "      <td>0</td>\n",
       "      <td>1</td>\n",
       "      <td>0</td>\n",
       "      <td>sales</td>\n",
       "      <td>low</td>\n",
       "    </tr>\n",
       "  </tbody>\n",
       "</table>\n",
       "</div>"
      ],
      "text/plain": [
       "   satisfaction_level  last_evaluation  number_project  average_montly_hours  \\\n",
       "0                0.38             0.53               2                   157   \n",
       "1                0.80             0.86               5                   262   \n",
       "2                0.11             0.88               7                   272   \n",
       "3                0.72             0.87               5                   223   \n",
       "4                0.37             0.52               2                   159   \n",
       "\n",
       "   time_spend_company  Work_accident  left  promotion_last_5years department  \\\n",
       "0                   3              0     1                      0      sales   \n",
       "1                   6              0     1                      0      sales   \n",
       "2                   4              0     1                      0      sales   \n",
       "3                   5              0     1                      0      sales   \n",
       "4                   3              0     1                      0      sales   \n",
       "\n",
       "   salary  \n",
       "0     low  \n",
       "1  medium  \n",
       "2  medium  \n",
       "3     low  \n",
       "4     low  "
      ]
     },
     "execution_count": 7,
     "metadata": {},
     "output_type": "execute_result"
    }
   ],
   "source": [
    "hr_data = pd.read_csv('HR.csv')\n",
    "hr_data.head()"
   ]
  },
  {
   "cell_type": "code",
   "execution_count": 8,
   "id": "governing-vintage",
   "metadata": {},
   "outputs": [
    {
     "name": "stdout",
     "output_type": "stream",
     "text": [
      "<class 'pandas.core.frame.DataFrame'>\n",
      "RangeIndex: 14999 entries, 0 to 14998\n",
      "Data columns (total 10 columns):\n",
      " #   Column                 Non-Null Count  Dtype  \n",
      "---  ------                 --------------  -----  \n",
      " 0   satisfaction_level     14999 non-null  float64\n",
      " 1   last_evaluation        14999 non-null  float64\n",
      " 2   number_project         14999 non-null  int64  \n",
      " 3   average_montly_hours   14999 non-null  int64  \n",
      " 4   time_spend_company     14999 non-null  int64  \n",
      " 5   Work_accident          14999 non-null  int64  \n",
      " 6   left                   14999 non-null  int64  \n",
      " 7   promotion_last_5years  14999 non-null  int64  \n",
      " 8   department             14999 non-null  object \n",
      " 9   salary                 14999 non-null  object \n",
      "dtypes: float64(2), int64(6), object(2)\n",
      "memory usage: 1.1+ MB\n"
     ]
    }
   ],
   "source": [
    "hr_data.info()"
   ]
  },
  {
   "cell_type": "markdown",
   "id": "minus-service",
   "metadata": {},
   "source": [
    "#### Вывод\n",
    "При загрузке видим файл, состоящий из 14999 строк - все ненулевые(доп обработки не требуется), 10 столбцов разных типов данных: количественные и качественные, типы данных: объекты, целочисленные, с плавающей точкой."
   ]
  },
  {
   "cell_type": "markdown",
   "id": "responsible-drama",
   "metadata": {},
   "source": [
    "#### 2) Рассчитайте основные статистики для переменных (среднее,медиана,мода,мин/макс,сред.отклонение). - 10 баллов"
   ]
  },
  {
   "cell_type": "code",
   "execution_count": 9,
   "id": "instant-animation",
   "metadata": {},
   "outputs": [
    {
     "data": {
      "text/html": [
       "<div>\n",
       "<style scoped>\n",
       "    .dataframe tbody tr th:only-of-type {\n",
       "        vertical-align: middle;\n",
       "    }\n",
       "\n",
       "    .dataframe tbody tr th {\n",
       "        vertical-align: top;\n",
       "    }\n",
       "\n",
       "    .dataframe thead th {\n",
       "        text-align: right;\n",
       "    }\n",
       "</style>\n",
       "<table border=\"1\" class=\"dataframe\">\n",
       "  <thead>\n",
       "    <tr style=\"text-align: right;\">\n",
       "      <th></th>\n",
       "      <th>satisfaction_level</th>\n",
       "      <th>last_evaluation</th>\n",
       "      <th>number_project</th>\n",
       "      <th>average_montly_hours</th>\n",
       "      <th>time_spend_company</th>\n",
       "      <th>Work_accident</th>\n",
       "      <th>left</th>\n",
       "      <th>promotion_last_5years</th>\n",
       "    </tr>\n",
       "  </thead>\n",
       "  <tbody>\n",
       "    <tr>\n",
       "      <th>count</th>\n",
       "      <td>14999.000000</td>\n",
       "      <td>14999.000000</td>\n",
       "      <td>14999.000000</td>\n",
       "      <td>14999.000000</td>\n",
       "      <td>14999.000000</td>\n",
       "      <td>14999.000000</td>\n",
       "      <td>14999.000000</td>\n",
       "      <td>14999.000000</td>\n",
       "    </tr>\n",
       "    <tr>\n",
       "      <th>mean</th>\n",
       "      <td>0.612834</td>\n",
       "      <td>0.716102</td>\n",
       "      <td>3.803054</td>\n",
       "      <td>201.050337</td>\n",
       "      <td>3.498233</td>\n",
       "      <td>0.144610</td>\n",
       "      <td>0.238083</td>\n",
       "      <td>0.021268</td>\n",
       "    </tr>\n",
       "    <tr>\n",
       "      <th>std</th>\n",
       "      <td>0.248631</td>\n",
       "      <td>0.171169</td>\n",
       "      <td>1.232592</td>\n",
       "      <td>49.943099</td>\n",
       "      <td>1.460136</td>\n",
       "      <td>0.351719</td>\n",
       "      <td>0.425924</td>\n",
       "      <td>0.144281</td>\n",
       "    </tr>\n",
       "    <tr>\n",
       "      <th>min</th>\n",
       "      <td>0.090000</td>\n",
       "      <td>0.360000</td>\n",
       "      <td>2.000000</td>\n",
       "      <td>96.000000</td>\n",
       "      <td>2.000000</td>\n",
       "      <td>0.000000</td>\n",
       "      <td>0.000000</td>\n",
       "      <td>0.000000</td>\n",
       "    </tr>\n",
       "    <tr>\n",
       "      <th>25%</th>\n",
       "      <td>0.440000</td>\n",
       "      <td>0.560000</td>\n",
       "      <td>3.000000</td>\n",
       "      <td>156.000000</td>\n",
       "      <td>3.000000</td>\n",
       "      <td>0.000000</td>\n",
       "      <td>0.000000</td>\n",
       "      <td>0.000000</td>\n",
       "    </tr>\n",
       "    <tr>\n",
       "      <th>50%</th>\n",
       "      <td>0.640000</td>\n",
       "      <td>0.720000</td>\n",
       "      <td>4.000000</td>\n",
       "      <td>200.000000</td>\n",
       "      <td>3.000000</td>\n",
       "      <td>0.000000</td>\n",
       "      <td>0.000000</td>\n",
       "      <td>0.000000</td>\n",
       "    </tr>\n",
       "    <tr>\n",
       "      <th>75%</th>\n",
       "      <td>0.820000</td>\n",
       "      <td>0.870000</td>\n",
       "      <td>5.000000</td>\n",
       "      <td>245.000000</td>\n",
       "      <td>4.000000</td>\n",
       "      <td>0.000000</td>\n",
       "      <td>0.000000</td>\n",
       "      <td>0.000000</td>\n",
       "    </tr>\n",
       "    <tr>\n",
       "      <th>max</th>\n",
       "      <td>1.000000</td>\n",
       "      <td>1.000000</td>\n",
       "      <td>7.000000</td>\n",
       "      <td>310.000000</td>\n",
       "      <td>10.000000</td>\n",
       "      <td>1.000000</td>\n",
       "      <td>1.000000</td>\n",
       "      <td>1.000000</td>\n",
       "    </tr>\n",
       "  </tbody>\n",
       "</table>\n",
       "</div>"
      ],
      "text/plain": [
       "       satisfaction_level  last_evaluation  number_project  \\\n",
       "count        14999.000000     14999.000000    14999.000000   \n",
       "mean             0.612834         0.716102        3.803054   \n",
       "std              0.248631         0.171169        1.232592   \n",
       "min              0.090000         0.360000        2.000000   \n",
       "25%              0.440000         0.560000        3.000000   \n",
       "50%              0.640000         0.720000        4.000000   \n",
       "75%              0.820000         0.870000        5.000000   \n",
       "max              1.000000         1.000000        7.000000   \n",
       "\n",
       "       average_montly_hours  time_spend_company  Work_accident          left  \\\n",
       "count          14999.000000        14999.000000   14999.000000  14999.000000   \n",
       "mean             201.050337            3.498233       0.144610      0.238083   \n",
       "std               49.943099            1.460136       0.351719      0.425924   \n",
       "min               96.000000            2.000000       0.000000      0.000000   \n",
       "25%              156.000000            3.000000       0.000000      0.000000   \n",
       "50%              200.000000            3.000000       0.000000      0.000000   \n",
       "75%              245.000000            4.000000       0.000000      0.000000   \n",
       "max              310.000000           10.000000       1.000000      1.000000   \n",
       "\n",
       "       promotion_last_5years  \n",
       "count           14999.000000  \n",
       "mean                0.021268  \n",
       "std                 0.144281  \n",
       "min                 0.000000  \n",
       "25%                 0.000000  \n",
       "50%                 0.000000  \n",
       "75%                 0.000000  \n",
       "max                 1.000000  "
      ]
     },
     "execution_count": 9,
     "metadata": {},
     "output_type": "execute_result"
    }
   ],
   "source": [
    "# классическое описание датасета при помощи метода .describe()\n",
    "hr_data.describe()"
   ]
  },
  {
   "cell_type": "code",
   "execution_count": 10,
   "id": "greater-opera",
   "metadata": {},
   "outputs": [
    {
     "name": "stdout",
     "output_type": "stream",
     "text": [
      "Maximums\n",
      "satisfaction_level             1.0\n",
      "last_evaluation                1.0\n",
      "number_project                   7\n",
      "average_montly_hours           310\n",
      "time_spend_company              10\n",
      "Work_accident                    1\n",
      "left                             1\n",
      "promotion_last_5years            1\n",
      "department               technical\n",
      "salary                      medium\n",
      "dtype: object\n",
      "\n",
      " Minimums\n",
      "satisfaction_level       0.09\n",
      "last_evaluation          0.36\n",
      "number_project              2\n",
      "average_montly_hours       96\n",
      "time_spend_company          2\n",
      "Work_accident               0\n",
      "left                        0\n",
      "promotion_last_5years       0\n",
      "department                 IT\n",
      "salary                   high\n",
      "dtype: object\n",
      "\n",
      " Medians\n",
      "satisfaction_level         0.64\n",
      "last_evaluation            0.72\n",
      "number_project             4.00\n",
      "average_montly_hours     200.00\n",
      "time_spend_company         3.00\n",
      "Work_accident              0.00\n",
      "left                       0.00\n",
      "promotion_last_5years      0.00\n",
      "dtype: float64\n",
      "\n",
      " Mode\n",
      "   satisfaction_level  last_evaluation  number_project  average_montly_hours  \\\n",
      "0                 0.1             0.55             4.0                   135   \n",
      "1                 NaN              NaN             NaN                   156   \n",
      "\n",
      "   time_spend_company  Work_accident  left  promotion_last_5years department  \\\n",
      "0                 3.0            0.0   0.0                    0.0      sales   \n",
      "1                 NaN            NaN   NaN                    NaN        NaN   \n",
      "\n",
      "  salary  \n",
      "0    low  \n",
      "1    NaN  \n",
      "\n",
      " Dispersion\n",
      "satisfaction_level          0.061817\n",
      "last_evaluation             0.029299\n",
      "number_project              1.519284\n",
      "average_montly_hours     2494.313175\n",
      "time_spend_company          2.131998\n",
      "Work_accident               0.123706\n",
      "left                        0.181411\n",
      "promotion_last_5years       0.020817\n",
      "dtype: float64\n",
      "\n",
      "       Standard deviation\n",
      "satisfaction_level        0.248631\n",
      "last_evaluation           0.171169\n",
      "number_project            1.232592\n",
      "average_montly_hours     49.943099\n",
      "time_spend_company        1.460136\n",
      "Work_accident             0.351719\n",
      "left                      0.425924\n",
      "promotion_last_5years     0.144281\n",
      "dtype: float64\n",
      "\n",
      " Quantile 0.25/0.75\n",
      "      satisfaction_level  last_evaluation  number_project  \\\n",
      "0.25                0.44             0.56             3.0   \n",
      "0.75                0.82             0.87             5.0   \n",
      "\n",
      "      average_montly_hours  time_spend_company  Work_accident  left  \\\n",
      "0.25                 156.0                 3.0            0.0   0.0   \n",
      "0.75                 245.0                 4.0            0.0   0.0   \n",
      "\n",
      "      promotion_last_5years  \n",
      "0.25                    0.0  \n",
      "0.75                    0.0  \n",
      "\n",
      "\n"
     ]
    }
   ],
   "source": [
    "# отдельный расчёт статистических метрик при помощи отдельных методов соответственно, максимальное, минимальное значение\n",
    "# медиана, мода, дисперсия, СКО и 1 и 3 квартили\n",
    "print('Maximums\\n{}\\n\\n Minimums\\n{}\\n\\n Medians\\n{}\\n\\n Mode\\n{}\\n\\n Dispersion\\n{}\\n\\n \\\n",
    "      Standard deviation\\n{}\\n\\n Quantile 0.25/0.75\\n{}\\n\\n'.format(hr_data.max(), hr_data.min(),hr_data.median(), \n",
    "                                                                    hr_data.mode(), hr_data.var(), hr_data.std(), \n",
    "                                                                    hr_data.quantile([0.25, 0.75])))"
   ]
  },
  {
   "cell_type": "markdown",
   "id": "sitting-crime",
   "metadata": {},
   "source": [
    "#### Вывод\n",
    "Исходя из анализа метрик можно сказать следующее:\n",
    "\n",
    "1. Крупная компания - 14999 сотрудников, 10 лет в работе\n",
    "2. Средний уровень удовлетворённости работой 0,61, что вцелом неплохо, стоит отметить, что мода = 0,1, а значит наиболее встречаемый ответ сотрудника - \"сильно не удовлетворён работой\"\n",
    "3. Работает 5 дней в неделю, сотрудники в среднем перерабатывают ( об этом говорит среднее и медианное значение, если берём классический рабочий деь 160 часов)\n",
    "4. При этом люди задерживаются в компании минимум на 2 года, а через 3,5 года(среднее значение) уходят\n",
    "5. Высокий показатель инцидентов в компании - 14,5% это нехорошо\n",
    "6. Повышают редко - за последние 5 лет только 2% сотрудников"
   ]
  },
  {
   "cell_type": "markdown",
   "id": "infectious-denmark",
   "metadata": {},
   "source": [
    "#### 3) 1 - Рассчитайте и визуализируйте корреляционную матрицу для количественных переменных. "
   ]
  },
  {
   "cell_type": "code",
   "execution_count": 11,
   "id": "spread-biodiversity",
   "metadata": {},
   "outputs": [
    {
     "data": {
      "text/html": [
       "<div>\n",
       "<style scoped>\n",
       "    .dataframe tbody tr th:only-of-type {\n",
       "        vertical-align: middle;\n",
       "    }\n",
       "\n",
       "    .dataframe tbody tr th {\n",
       "        vertical-align: top;\n",
       "    }\n",
       "\n",
       "    .dataframe thead th {\n",
       "        text-align: right;\n",
       "    }\n",
       "</style>\n",
       "<table border=\"1\" class=\"dataframe\">\n",
       "  <thead>\n",
       "    <tr style=\"text-align: right;\">\n",
       "      <th></th>\n",
       "      <th>satisfaction_level</th>\n",
       "      <th>last_evaluation</th>\n",
       "      <th>number_project</th>\n",
       "      <th>average_montly_hours</th>\n",
       "      <th>time_spend_company</th>\n",
       "    </tr>\n",
       "  </thead>\n",
       "  <tbody>\n",
       "    <tr>\n",
       "      <th>0</th>\n",
       "      <td>0.38</td>\n",
       "      <td>0.53</td>\n",
       "      <td>2</td>\n",
       "      <td>157</td>\n",
       "      <td>3</td>\n",
       "    </tr>\n",
       "    <tr>\n",
       "      <th>1</th>\n",
       "      <td>0.80</td>\n",
       "      <td>0.86</td>\n",
       "      <td>5</td>\n",
       "      <td>262</td>\n",
       "      <td>6</td>\n",
       "    </tr>\n",
       "    <tr>\n",
       "      <th>2</th>\n",
       "      <td>0.11</td>\n",
       "      <td>0.88</td>\n",
       "      <td>7</td>\n",
       "      <td>272</td>\n",
       "      <td>4</td>\n",
       "    </tr>\n",
       "    <tr>\n",
       "      <th>3</th>\n",
       "      <td>0.72</td>\n",
       "      <td>0.87</td>\n",
       "      <td>5</td>\n",
       "      <td>223</td>\n",
       "      <td>5</td>\n",
       "    </tr>\n",
       "    <tr>\n",
       "      <th>4</th>\n",
       "      <td>0.37</td>\n",
       "      <td>0.52</td>\n",
       "      <td>2</td>\n",
       "      <td>159</td>\n",
       "      <td>3</td>\n",
       "    </tr>\n",
       "  </tbody>\n",
       "</table>\n",
       "</div>"
      ],
      "text/plain": [
       "   satisfaction_level  last_evaluation  number_project  average_montly_hours  \\\n",
       "0                0.38             0.53               2                   157   \n",
       "1                0.80             0.86               5                   262   \n",
       "2                0.11             0.88               7                   272   \n",
       "3                0.72             0.87               5                   223   \n",
       "4                0.37             0.52               2                   159   \n",
       "\n",
       "   time_spend_company  \n",
       "0                   3  \n",
       "1                   6  \n",
       "2                   4  \n",
       "3                   5  \n",
       "4                   3  "
      ]
     },
     "execution_count": 11,
     "metadata": {},
     "output_type": "execute_result"
    }
   ],
   "source": [
    "# производим выборку столбцов с количественными переменными\n",
    "quant_data = hr_data.iloc[:,:5]\n",
    "quant_data.head()"
   ]
  },
  {
   "cell_type": "code",
   "execution_count": 12,
   "id": "mounted-ministry",
   "metadata": {},
   "outputs": [
    {
     "data": {
      "text/html": [
       "<div>\n",
       "<style scoped>\n",
       "    .dataframe tbody tr th:only-of-type {\n",
       "        vertical-align: middle;\n",
       "    }\n",
       "\n",
       "    .dataframe tbody tr th {\n",
       "        vertical-align: top;\n",
       "    }\n",
       "\n",
       "    .dataframe thead th {\n",
       "        text-align: right;\n",
       "    }\n",
       "</style>\n",
       "<table border=\"1\" class=\"dataframe\">\n",
       "  <thead>\n",
       "    <tr style=\"text-align: right;\">\n",
       "      <th></th>\n",
       "      <th>satisfaction_level</th>\n",
       "      <th>last_evaluation</th>\n",
       "      <th>number_project</th>\n",
       "      <th>average_montly_hours</th>\n",
       "      <th>time_spend_company</th>\n",
       "    </tr>\n",
       "  </thead>\n",
       "  <tbody>\n",
       "    <tr>\n",
       "      <th>satisfaction_level</th>\n",
       "      <td>1.000000</td>\n",
       "      <td>0.113865</td>\n",
       "      <td>0.022077</td>\n",
       "      <td>0.051126</td>\n",
       "      <td>-0.110005</td>\n",
       "    </tr>\n",
       "    <tr>\n",
       "      <th>last_evaluation</th>\n",
       "      <td>0.113865</td>\n",
       "      <td>1.000000</td>\n",
       "      <td>0.266267</td>\n",
       "      <td>0.235374</td>\n",
       "      <td>0.118842</td>\n",
       "    </tr>\n",
       "    <tr>\n",
       "      <th>number_project</th>\n",
       "      <td>0.022077</td>\n",
       "      <td>0.266267</td>\n",
       "      <td>1.000000</td>\n",
       "      <td>0.306987</td>\n",
       "      <td>0.195025</td>\n",
       "    </tr>\n",
       "    <tr>\n",
       "      <th>average_montly_hours</th>\n",
       "      <td>0.051126</td>\n",
       "      <td>0.235374</td>\n",
       "      <td>0.306987</td>\n",
       "      <td>1.000000</td>\n",
       "      <td>0.119466</td>\n",
       "    </tr>\n",
       "    <tr>\n",
       "      <th>time_spend_company</th>\n",
       "      <td>-0.110005</td>\n",
       "      <td>0.118842</td>\n",
       "      <td>0.195025</td>\n",
       "      <td>0.119466</td>\n",
       "      <td>1.000000</td>\n",
       "    </tr>\n",
       "  </tbody>\n",
       "</table>\n",
       "</div>"
      ],
      "text/plain": [
       "                      satisfaction_level  last_evaluation  number_project  \\\n",
       "satisfaction_level              1.000000         0.113865        0.022077   \n",
       "last_evaluation                 0.113865         1.000000        0.266267   \n",
       "number_project                  0.022077         0.266267        1.000000   \n",
       "average_montly_hours            0.051126         0.235374        0.306987   \n",
       "time_spend_company             -0.110005         0.118842        0.195025   \n",
       "\n",
       "                      average_montly_hours  time_spend_company  \n",
       "satisfaction_level                0.051126           -0.110005  \n",
       "last_evaluation                   0.235374            0.118842  \n",
       "number_project                    0.306987            0.195025  \n",
       "average_montly_hours              1.000000            0.119466  \n",
       "time_spend_company                0.119466            1.000000  "
      ]
     },
     "execution_count": 12,
     "metadata": {},
     "output_type": "execute_result"
    }
   ],
   "source": [
    "# расчёт коэффициентов корреляции по методу Кендалла\n",
    "quant_data.corr(method = 'kendall')"
   ]
  },
  {
   "cell_type": "code",
   "execution_count": 13,
   "id": "agricultural-daniel",
   "metadata": {},
   "outputs": [
    {
     "data": {
      "text/plain": [
       "<AxesSubplot:>"
      ]
     },
     "execution_count": 13,
     "metadata": {},
     "output_type": "execute_result"
    },
    {
     "data": {
      "image/png": "[encoded data removed]",
      "text/plain": [
       "<Figure size 432x288 with 2 Axes>"
      ]
     },
     "metadata": {
      "needs_background": "light"
     },
     "output_type": "display_data"
    }
   ],
   "source": [
    "# отобразим результаты, показав результата вычислений на тепловой карте\n",
    "sns.heatmap(quant_data.corr(method = 'kendall'), annot=True, linewidths=.01)"
   ]
  },
  {
   "cell_type": "markdown",
   "id": "selective-westminster",
   "metadata": {},
   "source": [
    "#### 3) 2 - Определите две самые скоррелированные и две наименее скоррелированные переменные.  - 10 баллов"
   ]
  },
  {
   "cell_type": "markdown",
   "id": "brilliant-citizen",
   "metadata": {},
   "source": [
    "Опираясь на коэффициенты корреляции Кенделла:\n",
    "\n",
    "- две самые скоррелированные переменные - average_monthly_hours и number_project, т.е. \"Среднее количество часов на рабочем месте в месяц\" и \"Количество проектов, выполненных за время работы\"\n",
    "\n",
    "- две наименее скоррелированные переменные - number_project и satisfaction_level, т.е. \"Количество проектов, выполненных за время работы\" и \"Уровень удовлетворенности работой\" "
   ]
  },
  {
   "cell_type": "markdown",
   "id": "noted-proportion",
   "metadata": {},
   "source": [
    "#### 4) Рассчитайте сколько сотрудников работает в каждом департаменте. - 5 баллов"
   ]
  },
  {
   "cell_type": "code",
   "execution_count": 14,
   "id": "dominant-motivation",
   "metadata": {},
   "outputs": [
    {
     "data": {
      "text/html": [
       "<div>\n",
       "<style scoped>\n",
       "    .dataframe tbody tr th:only-of-type {\n",
       "        vertical-align: middle;\n",
       "    }\n",
       "\n",
       "    .dataframe tbody tr th {\n",
       "        vertical-align: top;\n",
       "    }\n",
       "\n",
       "    .dataframe thead th {\n",
       "        text-align: right;\n",
       "    }\n",
       "</style>\n",
       "<table border=\"1\" class=\"dataframe\">\n",
       "  <thead>\n",
       "    <tr style=\"text-align: right;\">\n",
       "      <th></th>\n",
       "      <th>salary</th>\n",
       "    </tr>\n",
       "    <tr>\n",
       "      <th>department</th>\n",
       "      <th></th>\n",
       "    </tr>\n",
       "  </thead>\n",
       "  <tbody>\n",
       "    <tr>\n",
       "      <th>IT</th>\n",
       "      <td>1227</td>\n",
       "    </tr>\n",
       "    <tr>\n",
       "      <th>RandD</th>\n",
       "      <td>787</td>\n",
       "    </tr>\n",
       "    <tr>\n",
       "      <th>accounting</th>\n",
       "      <td>767</td>\n",
       "    </tr>\n",
       "    <tr>\n",
       "      <th>hr</th>\n",
       "      <td>739</td>\n",
       "    </tr>\n",
       "    <tr>\n",
       "      <th>management</th>\n",
       "      <td>630</td>\n",
       "    </tr>\n",
       "    <tr>\n",
       "      <th>marketing</th>\n",
       "      <td>858</td>\n",
       "    </tr>\n",
       "    <tr>\n",
       "      <th>product_mng</th>\n",
       "      <td>902</td>\n",
       "    </tr>\n",
       "    <tr>\n",
       "      <th>sales</th>\n",
       "      <td>4140</td>\n",
       "    </tr>\n",
       "    <tr>\n",
       "      <th>support</th>\n",
       "      <td>2229</td>\n",
       "    </tr>\n",
       "    <tr>\n",
       "      <th>technical</th>\n",
       "      <td>2720</td>\n",
       "    </tr>\n",
       "    <tr>\n",
       "      <th>All</th>\n",
       "      <td>14999</td>\n",
       "    </tr>\n",
       "  </tbody>\n",
       "</table>\n",
       "</div>"
      ],
      "text/plain": [
       "             salary\n",
       "department         \n",
       "IT             1227\n",
       "RandD           787\n",
       "accounting      767\n",
       "hr              739\n",
       "management      630\n",
       "marketing       858\n",
       "product_mng     902\n",
       "sales          4140\n",
       "support        2229\n",
       "technical      2720\n",
       "All           14999"
      ]
     },
     "execution_count": 14,
     "metadata": {},
     "output_type": "execute_result"
    }
   ],
   "source": [
    "# используем метод построения сводных таблиц, выбрав индекс строки(department), что считаем(salary) и как считаем(count), добавив столбец суммы\n",
    "quantity_employees = hr_data.pivot_table(index = 'department',  values = 'salary', aggfunc = 'count', margins = True, margins_name = 'All')\n",
    "quantity_employees"
   ]
  },
  {
   "cell_type": "markdown",
   "id": "marked-adelaide",
   "metadata": {},
   "source": [
    "#### 5) Показать распределение сотрудников по зарплатам.- 5 баллов"
   ]
  },
  {
   "cell_type": "code",
   "execution_count": 15,
   "id": "attempted-discovery",
   "metadata": {},
   "outputs": [
    {
     "data": {
      "text/html": [
       "<div>\n",
       "<style scoped>\n",
       "    .dataframe tbody tr th:only-of-type {\n",
       "        vertical-align: middle;\n",
       "    }\n",
       "\n",
       "    .dataframe tbody tr th {\n",
       "        vertical-align: top;\n",
       "    }\n",
       "\n",
       "    .dataframe thead th {\n",
       "        text-align: right;\n",
       "    }\n",
       "</style>\n",
       "<table border=\"1\" class=\"dataframe\">\n",
       "  <thead>\n",
       "    <tr style=\"text-align: right;\">\n",
       "      <th></th>\n",
       "      <th>department</th>\n",
       "    </tr>\n",
       "    <tr>\n",
       "      <th>salary</th>\n",
       "      <th></th>\n",
       "    </tr>\n",
       "  </thead>\n",
       "  <tbody>\n",
       "    <tr>\n",
       "      <th>high</th>\n",
       "      <td>1237</td>\n",
       "    </tr>\n",
       "    <tr>\n",
       "      <th>low</th>\n",
       "      <td>7316</td>\n",
       "    </tr>\n",
       "    <tr>\n",
       "      <th>medium</th>\n",
       "      <td>6446</td>\n",
       "    </tr>\n",
       "    <tr>\n",
       "      <th>All</th>\n",
       "      <td>14999</td>\n",
       "    </tr>\n",
       "  </tbody>\n",
       "</table>\n",
       "</div>"
      ],
      "text/plain": [
       "        department\n",
       "salary            \n",
       "high          1237\n",
       "low           7316\n",
       "medium        6446\n",
       "All          14999"
      ]
     },
     "execution_count": 15,
     "metadata": {},
     "output_type": "execute_result"
    }
   ],
   "source": [
    "# используем метод построения сводных таблиц, выбрав индекс строки(salary), что считаем(department) и как считаем(count), добавив столбец суммы\n",
    "salary_employees = hr_data.pivot_table(index = 'salary', values = 'department', aggfunc = 'count', margins = True, margins_name = 'All')\n",
    "salary_employees"
   ]
  },
  {
   "cell_type": "markdown",
   "id": "confidential-amateur",
   "metadata": {},
   "source": [
    "#### 6) Показать распределение сотрудников по зарплатам в каждом департаменте по отдельности- 5 баллов"
   ]
  },
  {
   "cell_type": "code",
   "execution_count": 16,
   "id": "right-friend",
   "metadata": {},
   "outputs": [
    {
     "data": {
      "text/html": [
       "<div>\n",
       "<style scoped>\n",
       "    .dataframe tbody tr th:only-of-type {\n",
       "        vertical-align: middle;\n",
       "    }\n",
       "\n",
       "    .dataframe tbody tr th {\n",
       "        vertical-align: top;\n",
       "    }\n",
       "\n",
       "    .dataframe thead th {\n",
       "        text-align: right;\n",
       "    }\n",
       "</style>\n",
       "<table border=\"1\" class=\"dataframe\">\n",
       "  <thead>\n",
       "    <tr style=\"text-align: right;\">\n",
       "      <th></th>\n",
       "      <th></th>\n",
       "      <th>time_spend_company</th>\n",
       "    </tr>\n",
       "    <tr>\n",
       "      <th>department</th>\n",
       "      <th>salary</th>\n",
       "      <th></th>\n",
       "    </tr>\n",
       "  </thead>\n",
       "  <tbody>\n",
       "    <tr>\n",
       "      <th rowspan=\"3\" valign=\"top\">IT</th>\n",
       "      <th>high</th>\n",
       "      <td>83</td>\n",
       "    </tr>\n",
       "    <tr>\n",
       "      <th>low</th>\n",
       "      <td>609</td>\n",
       "    </tr>\n",
       "    <tr>\n",
       "      <th>medium</th>\n",
       "      <td>535</td>\n",
       "    </tr>\n",
       "    <tr>\n",
       "      <th rowspan=\"3\" valign=\"top\">RandD</th>\n",
       "      <th>high</th>\n",
       "      <td>51</td>\n",
       "    </tr>\n",
       "    <tr>\n",
       "      <th>low</th>\n",
       "      <td>364</td>\n",
       "    </tr>\n",
       "    <tr>\n",
       "      <th>medium</th>\n",
       "      <td>372</td>\n",
       "    </tr>\n",
       "    <tr>\n",
       "      <th rowspan=\"3\" valign=\"top\">accounting</th>\n",
       "      <th>high</th>\n",
       "      <td>74</td>\n",
       "    </tr>\n",
       "    <tr>\n",
       "      <th>low</th>\n",
       "      <td>358</td>\n",
       "    </tr>\n",
       "    <tr>\n",
       "      <th>medium</th>\n",
       "      <td>335</td>\n",
       "    </tr>\n",
       "    <tr>\n",
       "      <th rowspan=\"3\" valign=\"top\">hr</th>\n",
       "      <th>high</th>\n",
       "      <td>45</td>\n",
       "    </tr>\n",
       "    <tr>\n",
       "      <th>low</th>\n",
       "      <td>335</td>\n",
       "    </tr>\n",
       "    <tr>\n",
       "      <th>medium</th>\n",
       "      <td>359</td>\n",
       "    </tr>\n",
       "    <tr>\n",
       "      <th rowspan=\"3\" valign=\"top\">management</th>\n",
       "      <th>high</th>\n",
       "      <td>225</td>\n",
       "    </tr>\n",
       "    <tr>\n",
       "      <th>low</th>\n",
       "      <td>180</td>\n",
       "    </tr>\n",
       "    <tr>\n",
       "      <th>medium</th>\n",
       "      <td>225</td>\n",
       "    </tr>\n",
       "    <tr>\n",
       "      <th rowspan=\"3\" valign=\"top\">marketing</th>\n",
       "      <th>high</th>\n",
       "      <td>80</td>\n",
       "    </tr>\n",
       "    <tr>\n",
       "      <th>low</th>\n",
       "      <td>402</td>\n",
       "    </tr>\n",
       "    <tr>\n",
       "      <th>medium</th>\n",
       "      <td>376</td>\n",
       "    </tr>\n",
       "    <tr>\n",
       "      <th rowspan=\"3\" valign=\"top\">product_mng</th>\n",
       "      <th>high</th>\n",
       "      <td>68</td>\n",
       "    </tr>\n",
       "    <tr>\n",
       "      <th>low</th>\n",
       "      <td>451</td>\n",
       "    </tr>\n",
       "    <tr>\n",
       "      <th>medium</th>\n",
       "      <td>383</td>\n",
       "    </tr>\n",
       "    <tr>\n",
       "      <th rowspan=\"3\" valign=\"top\">sales</th>\n",
       "      <th>high</th>\n",
       "      <td>269</td>\n",
       "    </tr>\n",
       "    <tr>\n",
       "      <th>low</th>\n",
       "      <td>2099</td>\n",
       "    </tr>\n",
       "    <tr>\n",
       "      <th>medium</th>\n",
       "      <td>1772</td>\n",
       "    </tr>\n",
       "    <tr>\n",
       "      <th rowspan=\"3\" valign=\"top\">support</th>\n",
       "      <th>high</th>\n",
       "      <td>141</td>\n",
       "    </tr>\n",
       "    <tr>\n",
       "      <th>low</th>\n",
       "      <td>1146</td>\n",
       "    </tr>\n",
       "    <tr>\n",
       "      <th>medium</th>\n",
       "      <td>942</td>\n",
       "    </tr>\n",
       "    <tr>\n",
       "      <th rowspan=\"3\" valign=\"top\">technical</th>\n",
       "      <th>high</th>\n",
       "      <td>201</td>\n",
       "    </tr>\n",
       "    <tr>\n",
       "      <th>low</th>\n",
       "      <td>1372</td>\n",
       "    </tr>\n",
       "    <tr>\n",
       "      <th>medium</th>\n",
       "      <td>1147</td>\n",
       "    </tr>\n",
       "  </tbody>\n",
       "</table>\n",
       "</div>"
      ],
      "text/plain": [
       "                    time_spend_company\n",
       "department  salary                    \n",
       "IT          high                    83\n",
       "            low                    609\n",
       "            medium                 535\n",
       "RandD       high                    51\n",
       "            low                    364\n",
       "            medium                 372\n",
       "accounting  high                    74\n",
       "            low                    358\n",
       "            medium                 335\n",
       "hr          high                    45\n",
       "            low                    335\n",
       "            medium                 359\n",
       "management  high                   225\n",
       "            low                    180\n",
       "            medium                 225\n",
       "marketing   high                    80\n",
       "            low                    402\n",
       "            medium                 376\n",
       "product_mng high                    68\n",
       "            low                    451\n",
       "            medium                 383\n",
       "sales       high                   269\n",
       "            low                   2099\n",
       "            medium                1772\n",
       "support     high                   141\n",
       "            low                   1146\n",
       "            medium                 942\n",
       "technical   high                   201\n",
       "            low                   1372\n",
       "            medium                1147"
      ]
     },
     "execution_count": 16,
     "metadata": {},
     "output_type": "execute_result"
    }
   ],
   "source": [
    "# здесь используя группировку по двумя показателями department и salary, рассчитаем количество сотрудников\n",
    "kindof_salary = hr_data.groupby(['department', 'salary']).agg({'time_spend_company':'count'})\n",
    "kindof_salary"
   ]
  },
  {
   "cell_type": "markdown",
   "id": "greater-integration",
   "metadata": {},
   "source": [
    "#### 7) Проверить гипотезу, что сотрудники с высоким окладом проводят на работе больше времени, чем сотрудники с низким окладом - 10 баллов"
   ]
  },
  {
   "cell_type": "markdown",
   "id": "dying-blair",
   "metadata": {},
   "source": [
    "H0: среднее время провождения на работе у сотрудников с высоким и низким окладом - одинаково\n",
    "\n",
    "H1: среднее время провождения на работе у сотрудников с высоким и низким окладом - различается\n",
    "\n",
    "alpha = 0.05"
   ]
  },
  {
   "cell_type": "code",
   "execution_count": 17,
   "id": "fantastic-douglas",
   "metadata": {},
   "outputs": [],
   "source": [
    "# собираем два датафрейма для высоких и низких зарплат по среднеотработанными часам в месяц\n",
    "high_salary = hr_data[hr_data.salary == 'high'][['average_montly_hours']]\n",
    "low_salary = hr_data[hr_data.salary == 'low'][['average_montly_hours']]"
   ]
  },
  {
   "cell_type": "code",
   "execution_count": 18,
   "id": "environmental-malpractice",
   "metadata": {},
   "outputs": [
    {
     "data": {
      "text/plain": [
       "<matplotlib.legend.Legend at 0x1c792d660d0>"
      ]
     },
     "execution_count": 18,
     "metadata": {},
     "output_type": "execute_result"
    },
    {
     "data": {
      "image/png": "[encoded data removed]",
      "text/plain": [
       "<Figure size 432x288 with 1 Axes>"
      ]
     },
     "metadata": {
      "needs_background": "light"
     },
     "output_type": "display_data"
    }
   ],
   "source": [
    "# покажет распределение на графике\n",
    "high_salary.average_montly_hours.plot(kind='density', label='High_salary')\n",
    "low_salary.average_montly_hours.plot(kind='density', label='Low_salary')\n",
    "plt.legend()"
   ]
  },
  {
   "cell_type": "code",
   "execution_count": 19,
   "id": "palestinian-subscription",
   "metadata": {},
   "outputs": [
    {
     "name": "stdout",
     "output_type": "stream",
     "text": [
      "Высокая з/п: average_montly_hours    199.867421\n",
      "dtype: float64\n",
      "\n",
      "\n",
      "Низкая з/п: average_montly_hours    200.996583\n",
      "dtype: float64\n",
      "\n",
      "\n",
      "Дисперсионный анализ F_onewayResult(statistic=array([0.53124862]), pvalue=array([0.46610235]))\n",
      "Не отвергаем нулевую гипотезу(Одинаковое распределение)\n",
      "\n",
      "\n",
      "Критерий Марий Уитни для независимых выборок MannwhitneyuResult(statistic=4507096.5, pvalue=0.4120665360429347)\n",
      "Не отвергаем нулевую гипотезу(Одинаковое распределение)\n"
     ]
    }
   ],
   "source": [
    "# определив уровень значимости, проверим нулевую гипотезу при помощи дисперсионного анализа и Манни Уитни\n",
    "alpha = 0.05\n",
    "result_1 = f_oneway(high_salary, low_salary)\n",
    "result_2 = mannwhitneyu(high_salary, low_salary)\n",
    "\n",
    "print('Высокая з/п:',high_salary.mean())\n",
    "print('\\n')  \n",
    "print('Низкая з/п:',low_salary.mean())\n",
    "print('\\n')    \n",
    "print('Дисперсионный анализ',result_1)\n",
    "if result_1.pvalue < alpha: \n",
    "    print('Отвергаем нулевую гипотезу, среднее время провождения на работе у сотрудников с высоким и низким окладом - различается(Разное распределение)')\n",
    "else:\n",
    "    print('Не отвергаем нулевую гипотезу(Одинаковое распределение)')\n",
    "print('\\n')    \n",
    "print('Критерий Марий Уитни для независимых выборок',result_2)\n",
    "if result_2.pvalue < alpha: \n",
    "    print('Отвергаем нулевую гипотезу, среднее время провождения на работе у сотрудников с высоким и низким окладом - различается(Разное распределение)')\n",
    "else:\n",
    "    print('Не отвергаем нулевую гипотезу(Одинаковое распределение)')"
   ]
  },
  {
   "cell_type": "markdown",
   "id": "lucky-tractor",
   "metadata": {},
   "source": [
    "### Вывод\n",
    "Мы не можем отвергнуть нулевую гипотезу, что \"среднее время провождения на работе у сотрудников с высоким и низким окладом - одинаково\" и подтвердить тоже не можем"
   ]
  },
  {
   "cell_type": "markdown",
   "id": "processed-jungle",
   "metadata": {},
   "source": [
    "#### 8) Рассчитать следующие показатели среди уволившихся и не уволившихся сотрудников (по отдельности): - 10 баллов\n",
    "-  Доля сотрудников с повышением за последние 5 лет\n",
    "-  Средняя степень удовлетворенности\n",
    "-  Среднее количество проектов"
   ]
  },
  {
   "cell_type": "code",
   "execution_count": 43,
   "id": "accepting-dancing",
   "metadata": {},
   "outputs": [
    {
     "data": {
      "text/plain": [
       "left\n",
       "0    0.020001\n",
       "1    0.001267\n",
       "Name: dolya, dtype: float64"
      ]
     },
     "execution_count": 43,
     "metadata": {},
     "output_type": "execute_result"
    }
   ],
   "source": [
    "# Доля сотрудников с повышением за последние 5 лет - отобразим в новом созданном столбце как отношение к общему количеству\n",
    "# сгруппировав и посчитав суммы для ушедших и оставшихся\n",
    "hr_data_count = hr_data\n",
    "hr_data_count['dolya'] = hr_data_count['promotion_last_5years'] / hr_data_count['promotion_last_5years'].count()\n",
    "hr_data_count[hr_data_count['promotion_last_5years'] == 1].groupby('left').sum()['dolya']"
   ]
  },
  {
   "cell_type": "code",
   "execution_count": 107,
   "id": "convertible-chart",
   "metadata": {},
   "outputs": [
    {
     "data": {
      "text/html": [
       "<div>\n",
       "<style scoped>\n",
       "    .dataframe tbody tr th:only-of-type {\n",
       "        vertical-align: middle;\n",
       "    }\n",
       "\n",
       "    .dataframe tbody tr th {\n",
       "        vertical-align: top;\n",
       "    }\n",
       "\n",
       "    .dataframe thead th {\n",
       "        text-align: right;\n",
       "    }\n",
       "</style>\n",
       "<table border=\"1\" class=\"dataframe\">\n",
       "  <thead>\n",
       "    <tr style=\"text-align: right;\">\n",
       "      <th></th>\n",
       "      <th>satisfaction_level</th>\n",
       "    </tr>\n",
       "    <tr>\n",
       "      <th>left</th>\n",
       "      <th></th>\n",
       "    </tr>\n",
       "  </thead>\n",
       "  <tbody>\n",
       "    <tr>\n",
       "      <th>0</th>\n",
       "      <td>0.666810</td>\n",
       "    </tr>\n",
       "    <tr>\n",
       "      <th>1</th>\n",
       "      <td>0.440098</td>\n",
       "    </tr>\n",
       "  </tbody>\n",
       "</table>\n",
       "</div>"
      ],
      "text/plain": [
       "      satisfaction_level\n",
       "left                    \n",
       "0               0.666810\n",
       "1               0.440098"
      ]
     },
     "execution_count": 107,
     "metadata": {},
     "output_type": "execute_result"
    }
   ],
   "source": [
    "# сгруппируем по столбцу left и посчитаем среднюю степень удовлетворённости \n",
    "hr_data_count.groupby('left').agg({'satisfaction_level':'mean'})"
   ]
  },
  {
   "cell_type": "code",
   "execution_count": 42,
   "id": "polished-affiliate",
   "metadata": {},
   "outputs": [
    {
     "data": {
      "text/html": [
       "<div>\n",
       "<style scoped>\n",
       "    .dataframe tbody tr th:only-of-type {\n",
       "        vertical-align: middle;\n",
       "    }\n",
       "\n",
       "    .dataframe tbody tr th {\n",
       "        vertical-align: top;\n",
       "    }\n",
       "\n",
       "    .dataframe thead th {\n",
       "        text-align: right;\n",
       "    }\n",
       "</style>\n",
       "<table border=\"1\" class=\"dataframe\">\n",
       "  <thead>\n",
       "    <tr style=\"text-align: right;\">\n",
       "      <th></th>\n",
       "      <th>number_project</th>\n",
       "    </tr>\n",
       "    <tr>\n",
       "      <th>left</th>\n",
       "      <th></th>\n",
       "    </tr>\n",
       "  </thead>\n",
       "  <tbody>\n",
       "    <tr>\n",
       "      <th>0</th>\n",
       "      <td>3.786664</td>\n",
       "    </tr>\n",
       "    <tr>\n",
       "      <th>1</th>\n",
       "      <td>3.855503</td>\n",
       "    </tr>\n",
       "  </tbody>\n",
       "</table>\n",
       "</div>"
      ],
      "text/plain": [
       "      number_project\n",
       "left                \n",
       "0           3.786664\n",
       "1           3.855503"
      ]
     },
     "execution_count": 42,
     "metadata": {},
     "output_type": "execute_result"
    }
   ],
   "source": [
    "# сгруппируем по столбцу left и посчитаем количество проектов при помощи библиотеке numpy \n",
    "hr_data_count.groupby('left').agg({'number_project': np.mean})"
   ]
  },
  {
   "cell_type": "markdown",
   "id": "polished-packaging",
   "metadata": {},
   "source": [
    "#### Вывод\n",
    "1. доля сотрудников с повышением за последние 5 лет всего 2% среди оставшихся и 0,1% среди уволившихся, что говорит о неудовлетворенной потребности повышения с обоих сторон\n",
    "2. среди оставшихся 66,7% удовлетворены - достаточно низкий показатель удовлетворённости - руководоству стоит задуматься, тех кто ушли 44%, оба показатели  логичны\n",
    "3. среднее количество проектов среди уволившихся и оставшихся примерно одинаковое - 3,8 проекта"
   ]
  },
  {
   "cell_type": "markdown",
   "id": "executive-louis",
   "metadata": {},
   "source": [
    "#### 9) 1 - Разделить данные на тестовую и обучающую выборки"
   ]
  },
  {
   "cell_type": "code",
   "execution_count": 30,
   "id": "fundamental-connecticut",
   "metadata": {},
   "outputs": [],
   "source": [
    "# импортируем нужную библиотеке для обучения\n",
    "from sklearn.model_selection import train_test_split"
   ]
  },
  {
   "cell_type": "code",
   "execution_count": 31,
   "id": "corporate-giving",
   "metadata": {},
   "outputs": [],
   "source": [
    "# разделяем данные на результат и данные для анализи\n",
    "y = hr_data['left']\n",
    "X = hr_data.iloc[:,:8]"
   ]
  },
  {
   "cell_type": "code",
   "execution_count": 32,
   "id": "addressed-style",
   "metadata": {},
   "outputs": [],
   "source": [
    "# делим на тестовую(30% данных) и обучающую выборку(70% данных)\n",
    "X_train, X_test, y_train, y_test = train_test_split(X, y, test_size=0.3, random_state=42)"
   ]
  },
  {
   "cell_type": "markdown",
   "id": "horizontal-eight",
   "metadata": {},
   "source": [
    "#### 9) 2 - Построить модель LDA, предсказывающую уволился ли сотрудник на основе имеющихся факторов (кроме department и salary)"
   ]
  },
  {
   "cell_type": "code",
   "execution_count": 33,
   "id": "capital-programming",
   "metadata": {},
   "outputs": [],
   "source": [
    "# импортируем библиотеке для LDA анализа\n",
    "from sklearn.discriminant_analysis import LinearDiscriminantAnalysis"
   ]
  },
  {
   "cell_type": "code",
   "execution_count": 34,
   "id": "adult-divorce",
   "metadata": {},
   "outputs": [],
   "source": [
    "# создаём класс\n",
    "lda = LinearDiscriminantAnalysis()"
   ]
  },
  {
   "cell_type": "code",
   "execution_count": 35,
   "id": "wanted-appointment",
   "metadata": {},
   "outputs": [
    {
     "data": {
      "text/plain": [
       "LinearDiscriminantAnalysis()"
      ]
     },
     "execution_count": 35,
     "metadata": {},
     "output_type": "execute_result"
    }
   ],
   "source": [
    "# обучаем данные\n",
    "lda.fit(X_train, y_train)"
   ]
  },
  {
   "cell_type": "code",
   "execution_count": 36,
   "id": "funded-accordance",
   "metadata": {},
   "outputs": [
    {
     "data": {
      "text/plain": [
       "array([0, 0, 0, ..., 0, 0, 0], dtype=int64)"
      ]
     },
     "execution_count": 36,
     "metadata": {},
     "output_type": "execute_result"
    }
   ],
   "source": [
    "# делаем прогноз на тестовой выборке\n",
    "lda.predict(X_test)"
   ]
  },
  {
   "cell_type": "code",
   "execution_count": 37,
   "id": "lesbian-dispatch",
   "metadata": {},
   "outputs": [],
   "source": [
    "# смотрим результат факт и прогноз\n",
    "result = pd.DataFrame([y_test, lda.predict(X_test)]).T"
   ]
  },
  {
   "cell_type": "code",
   "execution_count": 38,
   "id": "located-colony",
   "metadata": {},
   "outputs": [
    {
     "data": {
      "text/html": [
       "<div>\n",
       "<style scoped>\n",
       "    .dataframe tbody tr th:only-of-type {\n",
       "        vertical-align: middle;\n",
       "    }\n",
       "\n",
       "    .dataframe tbody tr th {\n",
       "        vertical-align: top;\n",
       "    }\n",
       "\n",
       "    .dataframe thead th {\n",
       "        text-align: right;\n",
       "    }\n",
       "</style>\n",
       "<table border=\"1\" class=\"dataframe\">\n",
       "  <thead>\n",
       "    <tr style=\"text-align: right;\">\n",
       "      <th></th>\n",
       "      <th>left</th>\n",
       "      <th>Unnamed 0</th>\n",
       "    </tr>\n",
       "  </thead>\n",
       "  <tbody>\n",
       "    <tr>\n",
       "      <th>6723</th>\n",
       "      <td>0.0</td>\n",
       "      <td>NaN</td>\n",
       "    </tr>\n",
       "    <tr>\n",
       "      <th>6473</th>\n",
       "      <td>0.0</td>\n",
       "      <td>NaN</td>\n",
       "    </tr>\n",
       "    <tr>\n",
       "      <th>4679</th>\n",
       "      <td>0.0</td>\n",
       "      <td>NaN</td>\n",
       "    </tr>\n",
       "    <tr>\n",
       "      <th>862</th>\n",
       "      <td>1.0</td>\n",
       "      <td>1.0</td>\n",
       "    </tr>\n",
       "    <tr>\n",
       "      <th>7286</th>\n",
       "      <td>0.0</td>\n",
       "      <td>NaN</td>\n",
       "    </tr>\n",
       "    <tr>\n",
       "      <th>...</th>\n",
       "      <td>...</td>\n",
       "      <td>...</td>\n",
       "    </tr>\n",
       "    <tr>\n",
       "      <th>13388</th>\n",
       "      <td>0.0</td>\n",
       "      <td>NaN</td>\n",
       "    </tr>\n",
       "    <tr>\n",
       "      <th>10463</th>\n",
       "      <td>0.0</td>\n",
       "      <td>NaN</td>\n",
       "    </tr>\n",
       "    <tr>\n",
       "      <th>5331</th>\n",
       "      <td>0.0</td>\n",
       "      <td>NaN</td>\n",
       "    </tr>\n",
       "    <tr>\n",
       "      <th>7499</th>\n",
       "      <td>0.0</td>\n",
       "      <td>NaN</td>\n",
       "    </tr>\n",
       "    <tr>\n",
       "      <th>11796</th>\n",
       "      <td>0.0</td>\n",
       "      <td>NaN</td>\n",
       "    </tr>\n",
       "  </tbody>\n",
       "</table>\n",
       "<p>4500 rows × 2 columns</p>\n",
       "</div>"
      ],
      "text/plain": [
       "       left  Unnamed 0\n",
       "6723    0.0        NaN\n",
       "6473    0.0        NaN\n",
       "4679    0.0        NaN\n",
       "862     1.0        1.0\n",
       "7286    0.0        NaN\n",
       "...     ...        ...\n",
       "13388   0.0        NaN\n",
       "10463   0.0        NaN\n",
       "5331    0.0        NaN\n",
       "7499    0.0        NaN\n",
       "11796   0.0        NaN\n",
       "\n",
       "[4500 rows x 2 columns]"
      ]
     },
     "execution_count": 38,
     "metadata": {},
     "output_type": "execute_result"
    }
   ],
   "source": [
    "result"
   ]
  },
  {
   "cell_type": "markdown",
   "id": "smaller-camel",
   "metadata": {},
   "source": [
    "#### 9) 3 - Оценить качество модели на тестовой выборки - 20 баллов"
   ]
  },
  {
   "cell_type": "code",
   "execution_count": 39,
   "id": "introductory-banks",
   "metadata": {},
   "outputs": [],
   "source": [
    "# импортируем библиотеку для расчета точности - отношение верный прогнозов к общему количеству позиций\n",
    "from sklearn.metrics import accuracy_score"
   ]
  },
  {
   "cell_type": "code",
   "execution_count": 40,
   "id": "unlike-going",
   "metadata": {},
   "outputs": [
    {
     "data": {
      "text/plain": [
       "0.7557777777777778"
      ]
     },
     "execution_count": 40,
     "metadata": {},
     "output_type": "execute_result"
    }
   ],
   "source": [
    "# точность нашей модели (количество верных на общее количество)\n",
    "accuracy_score(y_test, lda.predict(X_test))"
   ]
  },
  {
   "cell_type": "code",
   "execution_count": 41,
   "id": "figured-allowance",
   "metadata": {},
   "outputs": [
    {
     "data": {
      "text/plain": [
       "array([[-4.57738626e+00,  6.13822647e-01, -2.10613368e-01,\n",
       "         4.55442333e-03,  2.21314862e-01, -1.05033789e+00,\n",
       "         0.00000000e+00, -1.08559074e+00]])"
      ]
     },
     "execution_count": 41,
     "metadata": {},
     "output_type": "execute_result"
    }
   ],
   "source": [
    "# коэффициенты дискриминатных линий 3 линии отделяющие классы друг от друга и 2 числа - два признака\n",
    "lda.coef_"
   ]
  },
  {
   "cell_type": "markdown",
   "id": "female-output",
   "metadata": {},
   "source": [
    "### Вывод\n",
    "Наша модель для оценки ухода сотрудников получилась достаточно точная 75% "
   ]
  },
  {
   "cell_type": "markdown",
   "id": "nominated-brick",
   "metadata": {},
   "source": [
    "10) оформление\n",
    "https://github.com/Dmitry-2020/Python_course/blob/master/4_Diplom/Diplom_Python.ipynb"
   ]
  }
 ],
 "metadata": {
  "kernelspec": {
   "display_name": "Python 3",
   "language": "python",
   "name": "python3"
  },
  "language_info": {
   "codemirror_mode": {
    "name": "ipython",
    "version": 3
   },
   "file_extension": ".py",
   "mimetype": "text/x-python",
   "name": "python",
   "nbconvert_exporter": "python",
   "pygments_lexer": "ipython3",
   "version": "3.8.8"
  }
 },
 "nbformat": 4,
 "nbformat_minor": 5
}
